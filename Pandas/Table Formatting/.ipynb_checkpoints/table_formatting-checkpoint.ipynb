{
 "cells": [
  {
   "cell_type": "markdown",
   "source": [
    "# Formatting Tables in Pandas\n"
   ],
   "metadata": {
    "collapsed": false
   },
   "id": "b0f9d1a4fce40bb7"
  },
  {
   "cell_type": "code",
   "execution_count": 1,
   "outputs": [
    {
     "ename": "ModuleNotFoundError",
     "evalue": "No module named 'pandas'",
     "output_type": "error",
     "traceback": [
      "\u001B[0;31m---------------------------------------------------------------------------\u001B[0m",
      "\u001B[0;31mModuleNotFoundError\u001B[0m                       Traceback (most recent call last)",
      "Cell \u001B[0;32mIn[1], line 2\u001B[0m\n\u001B[1;32m      1\u001B[0m \u001B[38;5;66;03m# Import pandas\u001B[39;00m\n\u001B[0;32m----> 2\u001B[0m \u001B[38;5;28;01mimport\u001B[39;00m \u001B[38;5;21;01mpandas\u001B[39;00m \u001B[38;5;28;01mas\u001B[39;00m \u001B[38;5;21;01mpd\u001B[39;00m\n\u001B[1;32m      3\u001B[0m \u001B[38;5;66;03m# Import numpy\u001B[39;00m\n\u001B[1;32m      4\u001B[0m \u001B[38;5;28;01mimport\u001B[39;00m \u001B[38;5;21;01mnumpy\u001B[39;00m \u001B[38;5;28;01mas\u001B[39;00m \u001B[38;5;21;01mnp\u001B[39;00m\n",
      "\u001B[0;31mModuleNotFoundError\u001B[0m: No module named 'pandas'"
     ]
    }
   ],
   "source": [
    "# Import pandas\n",
    "import pandas as pd\n",
    "# Import numpy\n",
    "import numpy as np\n",
    "\n"
   ],
   "metadata": {
    "collapsed": false,
    "ExecuteTime": {
     "end_time": "2023-12-26T22:24:11.175726Z",
     "start_time": "2023-12-26T22:24:11.094919Z"
    }
   },
   "id": "3f6384416f65e69c"
  },
  {
   "cell_type": "markdown",
   "source": [
    "## The data\n",
    "Let's create some simulated data for two widgets, A and B. We'll create a dataframe for each widget, then concatenate them together. We'll also sort the dataframe by month and reset the index."
   ],
   "metadata": {
    "collapsed": false
   },
   "id": "10aea294c42f4a03"
  },
  {
   "cell_type": "code",
   "execution_count": null,
   "outputs": [],
   "source": [
    "# simulated data for widget A\n",
    "df_a = pd.DataFrame(\n",
    "    {\n",
    "        'Month':pd.date_range(\n",
    "            start = '01-01-2012',\n",
    "            end = '31-12-2022',\n",
    "            freq = 'MS'\n",
    "        ),\n",
    "        'Quotes':np.random.randint(\n",
    "            low = 1_000_000,\n",
    "            high = 2_500_000,\n",
    "            size = 132\n",
    "        ),\n",
    "        'Numbers':np.random.randint(\n",
    "            low = 300_000,\n",
    "            high = 500_000,\n",
    "            size = 132\n",
    "        ),\n",
    "        'Amounts':np.random.randint(\n",
    "            low = 750_000,\n",
    "            high = 1_250_000,\n",
    "            size = 132\n",
    "        )\n",
    "    }\n",
    ")\n",
    "\n",
    "df_a['Product'] = 'A'\n",
    "\n",
    "# simulated data for widget B\n",
    "df_b = pd.DataFrame(\n",
    "    {\n",
    "        'Month':pd.date_range(\n",
    "            start = '01-01-2012',\n",
    "            end = '31-12-2022',\n",
    "            freq = 'MS'\n",
    "        ),\n",
    "        'Quotes':np.random.randint(\n",
    "            low = 100_000,\n",
    "            high = 800_000,\n",
    "            size = 132\n",
    "        ),\n",
    "        'Numbers':np.random.randint(\n",
    "            low = 10_000,\n",
    "            high = 95_000,\n",
    "            size = 132\n",
    "        ),\n",
    "        'Amounts':np.random.randint(\n",
    "            low = 450_000,\n",
    "            high = 750_000,\n",
    "            size = 132\n",
    "        )\n",
    "    }\n",
    ")\n",
    "\n",
    "df_b['Product'] = 'B'\n",
    "\n",
    "# put it together & sort\n",
    "df = pd.concat([df_a,df_b],axis = 0)\n",
    "df.sort_values(by = 'Month',inplace = True)\n",
    "df.reset_index(drop = True,inplace = True)"
   ],
   "metadata": {
    "collapsed": false,
    "ExecuteTime": {
     "end_time": "2023-12-26T22:24:11.181515Z",
     "start_time": "2023-12-26T22:24:11.176548Z"
    }
   },
   "id": "cc675bd1d269bb2e"
  },
  {
   "cell_type": "markdown",
   "source": [
    "Let’s calculate a few “interesting” statistics — average sale amounts and product conversion:"
   ],
   "metadata": {
    "collapsed": false
   },
   "id": "d441044d0d55938f"
  },
  {
   "cell_type": "code",
   "execution_count": null,
   "outputs": [],
   "source": [
    "# average sale\n",
    "df['Average sale'] = df['Amounts'] / df['Numbers'].replace({0: np.nan})\n",
    "\n",
    "# conversion\n",
    "df['Product conversion'] = df['Numbers'] / df['Quotes'].replace({0: np.nan})"
   ],
   "metadata": {
    "collapsed": false,
    "ExecuteTime": {
     "start_time": "2023-12-26T22:24:11.177818Z"
    }
   },
   "id": "dd7fb5b107176fbb"
  },
  {
   "cell_type": "code",
   "execution_count": null,
   "outputs": [],
   "source": [
    "df.head(3)"
   ],
   "metadata": {
    "collapsed": false,
    "ExecuteTime": {
     "start_time": "2023-12-26T22:24:11.178960Z"
    }
   },
   "id": "760102e02bcf12da"
  },
  {
   "cell_type": "markdown",
   "source": [
    "## Date Formatting\n",
    "There’s arguably nothing __wrong__ with the formatting, but it could be better. For instance, since all the monthly data is reflected as at the first of each month, there’s probably little sense in keeping the day element of each Month entry as it tells the reader very little."
   ],
   "metadata": {
    "collapsed": false
   },
   "id": "f3a68e7d7a96b0ff"
  },
  {
   "cell_type": "code",
   "execution_count": null,
   "outputs": [],
   "source": [
    "# format the date as YYYY-MM\n",
    "styler = df.iloc[:3].style.format({'Month':'{:%Y-%m}'})\n",
    "if styler:\n",
    "    display(styler)"
   ],
   "metadata": {
    "collapsed": false,
    "ExecuteTime": {
     "start_time": "2023-12-26T22:24:11.180115Z"
    }
   },
   "id": "7807b2b26b270e97"
  },
  {
   "cell_type": "markdown",
   "source": [
    "Now, we can improve readability even further by using the name of each month rather than the month number, and we can do this __*without having to alter the underlying data*__."
   ],
   "metadata": {
    "collapsed": false
   },
   "id": "819d1307cccad3eb"
  },
  {
   "cell_type": "code",
   "execution_count": null,
   "outputs": [],
   "source": [
    "styler = df.iloc[:3].style.format({'Month':'{:%B %Y}'})\n",
    "if styler:\n",
    "    display(styler)"
   ],
   "metadata": {
    "collapsed": false,
    "ExecuteTime": {
     "start_time": "2023-12-26T22:24:11.181347Z"
    }
   },
   "id": "3c04c43c3b23279a"
  },
  {
   "cell_type": "markdown",
   "source": [
    "Maybe a little too wordy now — let’s use abbreviations instead (e.g. “Jan” instead of “January”) and we’ll also add a comma before the year."
   ],
   "metadata": {
    "collapsed": false
   },
   "id": "29fa55f909212272"
  },
  {
   "cell_type": "code",
   "execution_count": null,
   "outputs": [],
   "source": [
    "styler = df.iloc[:3].style.format({'Month':'{:%b, %Y}'})\n",
    "if styler:\n",
    "    display(styler)"
   ],
   "metadata": {
    "collapsed": false,
    "ExecuteTime": {
     "start_time": "2023-12-26T22:24:11.182400Z"
    }
   },
   "id": "9a0c551a3292a090"
  },
  {
   "cell_type": "markdown",
   "source": [
    "## Formatting numbers with a thousand separator\n",
    "A fairly straightforward formatting experience here as we separate thousands of Quotes and Numbers using commas.\n",
    "\n",
    "What is important to note however, is that if we also want to retain the formatting we applied to the Month column (we do), then we need to extend the formatting dictionary. \n"
   ],
   "metadata": {
    "collapsed": false
   },
   "id": "b4b80c9da9d9fca2"
  },
  {
   "cell_type": "code",
   "execution_count": null,
   "outputs": [],
   "source": [
    "styler = df.iloc[:3].style.format(\n",
    "    {\n",
    "        'Month':'{:%b, %Y}',\n",
    "        'Quotes':'{:,.0f}',\n",
    "        'Numbers':'{:,.0f}'\n",
    "    }\n",
    ")\n",
    "if styler:\n",
    "    display(styler)"
   ],
   "metadata": {
    "collapsed": false,
    "ExecuteTime": {
     "start_time": "2023-12-26T22:24:11.183468Z"
    }
   },
   "id": "7b50c001d081c0da"
  },
  {
   "cell_type": "markdown",
   "source": [
    "## Formatting currencies\n",
    "The Widget Company just so happens to produce and sell its widgets in a country that uses a currency denoted by £ (I hope somewhere warmer and sunnier than the country where I earn my £).\n",
    "\n",
    "Let’s reflect that in the table, reminding ourselves that:\n",
    "\n",
    "- At an overall level, using decimal points is probably a little much\n",
    "- At a lower level — say for instance, the average sale value — using decimals can be useful.\n",
    "So we add currency formatting for Amounts and Average sale to our formatting dictionary:"
   ],
   "metadata": {
    "collapsed": false
   },
   "id": "53db94d3889bf0a"
  },
  {
   "cell_type": "code",
   "execution_count": null,
   "outputs": [],
   "source": [
    "styler = df.iloc[:3].style.format(\n",
    "    {\n",
    "        'Month':'{:%b, %Y}',\n",
    "        'Quotes':'{:,.0f}',\n",
    "        'Numbers':'{:,.0f}',\n",
    "        'Amounts':'£{:,.0f}',\n",
    "        'Average sale':'£{:,.2f}'\n",
    "    }\n",
    ")\n",
    "if styler:\n",
    "    display(styler)\n",
    "    \n",
    "# breakpoint()"
   ],
   "metadata": {
    "collapsed": false,
    "ExecuteTime": {
     "start_time": "2023-12-26T22:24:11.184305Z"
    }
   },
   "id": "4dce7fd0f8f8b497"
  },
  {
   "cell_type": "markdown",
   "source": [
    "## Formatting percentages\n",
    "Another fairly straightforward formatting step, it’s much easier to view ratios when they are expressed as percentages rather than floating point numbers.\n",
    "\n",
    "We’ll add Product conversion to our formatting dictionary:"
   ],
   "metadata": {
    "collapsed": false
   },
   "id": "27a3c679bcfd8605"
  },
  {
   "cell_type": "code",
   "execution_count": null,
   "outputs": [],
   "source": [
    "styler = df.iloc[:3].style.format(\n",
    "    {\n",
    "        'Month':'{:%b, %Y}',\n",
    "        'Quotes':'{:,.0f}',\n",
    "        'Numbers':'{:,.0f}',\n",
    "        'Amounts':'£{:,.0f}',\n",
    "        'Average sale':'£{:,.2f}',\n",
    "        'Product conversion':'{:.2%}'\n",
    "    }\n",
    ")\n",
    "if styler:\n",
    "    display(styler)\n",
    "    \n",
    "# breakpoint()"
   ],
   "metadata": {
    "collapsed": false,
    "ExecuteTime": {
     "start_time": "2023-12-26T22:24:11.185101Z"
    }
   },
   "id": "611a89a27e772a20"
  },
  {
   "cell_type": "markdown",
   "source": [
    "## Hiding Indexes\n",
    "The index is a useful thing to have, but it’s not always necessary to display it. In this case, we can hide it by setting index = False:\n"
   ],
   "metadata": {
    "collapsed": false
   },
   "id": "e9579121e2ae3ead"
  },
  {
   "cell_type": "code",
   "execution_count": null,
   "outputs": [],
   "source": [
    "styler = df.iloc[:3].style.format(\n",
    "    {\n",
    "        'Month':'{:%b, %Y}',\n",
    "        'Quotes':'{:,.0f}',\n",
    "        'Numbers':'{:,.0f}',\n",
    "        'Amounts':'£{:,.0f}',\n",
    "        'Average sale':'£{:,.2f}',\n",
    "        'Product conversion':'{:.2%}'\n",
    "    }\n",
    ").hide()  # hide the index\n",
    "\n",
    "if styler:\n",
    "    display(styler)\n",
    "    \n",
    "# breakpoint()\n"
   ],
   "metadata": {
    "collapsed": false,
    "ExecuteTime": {
     "start_time": "2023-12-26T22:24:11.185770Z"
    }
   },
   "id": "fc7c7573ec0cc853"
  },
  {
   "cell_type": "markdown",
   "source": [
    "## Conditional Formatting\n",
    "Conditional formatting is a great way to highlight certain values in a table. For instance, we might want to highlight the highest and lowest values in each column.\n",
    "Let's start with highlighting rows if an element of the row meets a given condition — in this case, highlight all rows containing information relating to product A.\n",
    "\n",
    "We do this in two steps:\n",
    "\n",
    "1. Define the function highlight_product which returns a string if the given condition is met (that is, if the row relates to the specified product). The string contains a format command that we will pass through to the Styler.\n",
    "2. The resulting format command is fed through using the apply command.\n",
    "\n"
   ],
   "metadata": {
    "collapsed": false
   },
   "id": "db9279cdcd756f3"
  },
  {
   "cell_type": "code",
   "execution_count": null,
   "outputs": [],
   "source": [
    "def highlight_product(row, product, background_color='yellow'):\n",
    "    if row['Product'] == product:\n",
    "        return len(row) * [f'background-color: {background_color}']\n",
    "    else:\n",
    "        return len(row) * ['']\n",
    "    \n",
    "styler = df.iloc[:3].style\\\n",
    "    .apply(  # apply the conditional formatting\n",
    "        highlight_product,\n",
    "        product = 'A',\n",
    "        axis = 1\n",
    "    ).format(  # format the table\n",
    "        {\n",
    "            'Month':'{:%b, %Y}',\n",
    "            'Quotes':'{:,.0f}',\n",
    "            'Numbers':'{:,.0f}',\n",
    "            'Amounts':'£{:,.0f}',\n",
    "            'Average sale':'£{:,.2f}',\n",
    "            'Product conversion':'{:.2%}'\n",
    "        }\n",
    "    ).hide()  # hide the index  \n",
    "\n",
    "if styler:\n",
    "    display(styler)\n",
    "    \n",
    "# breakpoint()   "
   ],
   "metadata": {
    "collapsed": false,
    "ExecuteTime": {
     "start_time": "2023-12-26T22:24:11.186561Z"
    }
   },
   "id": "15cd10687eb7588c"
  },
  {
   "cell_type": "markdown",
   "source": [
    "## Highlighting the highest and lowest values in each column\n",
    "We can also highlight the highest and lowest values in each column. We do this in two steps:\n",
    "1. Define the function highlight_min_max which returns a string if the given condition is met (that is, if the value is the highest or lowest in the column). The string contains a format command that we will pass through to the Styler.\n",
    "2. The resulting format command is fed through using the applymap command.\n",
    "3. We also add a gradient to the table using the background_gradient command.\n",
    "4. Finally, we add a caption to the table using the set_caption command.\n",
    "5. We can also add a title to the table using the set_table_styles command.   "
   ],
   "metadata": {
    "collapsed": false
   },
   "id": "b4df387b5be3c3ca"
  },
  {
   "cell_type": "code",
   "execution_count": null,
   "outputs": [],
   "source": [
    "def highlight_min_max(value, background_color='yellow'):\n",
    "    breakpoint()\n",
    "    # ret = ''\n",
    "    if value == value.min():\n",
    "        ret = f'background-color: {background_color}'\n",
    "    elif value == value.max():\n",
    "        ret = f'background-color: {background_color}'\n",
    "    else:\n",
    "        ret = ''\n",
    "    print(ret)\n",
    "    return ret\n",
    "\n",
    "styler = df.style\\\n",
    "    .highlight_min(color='pink')\\\n",
    "    .highlight_max(color='lightgreen')\\\n",
    "    .format(  # format the table\n",
    "        {\n",
    "            'Month':'{:%b, %Y}',\n",
    "            'Quotes':'{:,.0f}',\n",
    "            'Numbers':'{:,.0f}',\n",
    "            'Amounts':'£{:,.0f}',\n",
    "            'Average sale':'£{:,.2f}',\n",
    "            'Product conversion':'{:.2%}'\n",
    "        }\n",
    "    ).hide()  # hide the index\n",
    "\n",
    "# breakpoint()\n",
    "\n"
   ],
   "metadata": {
    "collapsed": false,
    "ExecuteTime": {
     "start_time": "2023-12-26T22:24:11.187267Z"
    }
   },
   "id": "8ce1135556d076a4"
  },
  {
   "cell_type": "code",
   "execution_count": null,
   "outputs": [],
   "source": [],
   "metadata": {
    "collapsed": false,
    "ExecuteTime": {
     "start_time": "2023-12-26T22:24:11.187991Z"
    }
   },
   "id": "3eb5a98c4f09ef2c"
  }
 ],
 "metadata": {
  "kernelspec": {
   "display_name": "Python 3",
   "language": "python",
   "name": "python3"
  },
  "language_info": {
   "codemirror_mode": {
    "name": "ipython",
    "version": 2
   },
   "file_extension": ".py",
   "mimetype": "text/x-python",
   "name": "python",
   "nbconvert_exporter": "python",
   "pygments_lexer": "ipython2",
   "version": "2.7.6"
  }
 },
 "nbformat": 4,
 "nbformat_minor": 5
}
