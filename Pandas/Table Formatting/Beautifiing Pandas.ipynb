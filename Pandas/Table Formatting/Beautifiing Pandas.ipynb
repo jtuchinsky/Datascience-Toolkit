{
 "cells": [
  {
   "cell_type": "markdown",
   "id": "221470ffba011ddb",
   "metadata": {},
   "source": [
    "# Prettifying pandas DataFrames"
   ]
  },
  {
   "cell_type": "markdown",
   "id": "a7294e9750dfcb87",
   "metadata": {},
   "source": [
    "## Data\n",
    "We will use Seaborn penguins dataset. It contains data on penguins from three different species collected from three islands in the Palmer Archipelago, Antarctica. The dataset contains 344 observations and 17 variables. The dataset is available in Seaborn library.\n"
   ]
  },
  {
   "cell_type": "code",
   "execution_count": 25,
   "id": "9746f7f4c92d559e",
   "metadata": {
    "collapsed": false,
    "ExecuteTime": {
     "end_time": "2024-01-06T16:58:19.375887Z",
     "start_time": "2024-01-06T16:58:19.347560Z"
    }
   },
   "outputs": [
    {
     "data": {
      "text/plain": "  species     island  bill_length_mm  bill_depth_mm  flipper    mass     sex\n0  Adelie  Torgersen            39.1           18.7    181.0  3750.0    Male\n1  Adelie  Torgersen            39.5           17.4    186.0  3800.0  Female\n2  Adelie  Torgersen            40.3           18.0    195.0  3250.0  Female\n3  Adelie  Torgersen             NaN            NaN      NaN     NaN     NaN\n4  Adelie  Torgersen            36.7           19.3    193.0  3450.0  Female",
      "text/html": "<div>\n<style scoped>\n    .dataframe tbody tr th:only-of-type {\n        vertical-align: middle;\n    }\n\n    .dataframe tbody tr th {\n        vertical-align: top;\n    }\n\n    .dataframe thead th {\n        text-align: right;\n    }\n</style>\n<table border=\"1\" class=\"dataframe\">\n  <thead>\n    <tr style=\"text-align: right;\">\n      <th></th>\n      <th>species</th>\n      <th>island</th>\n      <th>bill_length_mm</th>\n      <th>bill_depth_mm</th>\n      <th>flipper</th>\n      <th>mass</th>\n      <th>sex</th>\n    </tr>\n  </thead>\n  <tbody>\n    <tr>\n      <th>0</th>\n      <td>Adelie</td>\n      <td>Torgersen</td>\n      <td>39.1</td>\n      <td>18.7</td>\n      <td>181.0</td>\n      <td>3750.0</td>\n      <td>Male</td>\n    </tr>\n    <tr>\n      <th>1</th>\n      <td>Adelie</td>\n      <td>Torgersen</td>\n      <td>39.5</td>\n      <td>17.4</td>\n      <td>186.0</td>\n      <td>3800.0</td>\n      <td>Female</td>\n    </tr>\n    <tr>\n      <th>2</th>\n      <td>Adelie</td>\n      <td>Torgersen</td>\n      <td>40.3</td>\n      <td>18.0</td>\n      <td>195.0</td>\n      <td>3250.0</td>\n      <td>Female</td>\n    </tr>\n    <tr>\n      <th>3</th>\n      <td>Adelie</td>\n      <td>Torgersen</td>\n      <td>NaN</td>\n      <td>NaN</td>\n      <td>NaN</td>\n      <td>NaN</td>\n      <td>NaN</td>\n    </tr>\n    <tr>\n      <th>4</th>\n      <td>Adelie</td>\n      <td>Torgersen</td>\n      <td>36.7</td>\n      <td>19.3</td>\n      <td>193.0</td>\n      <td>3450.0</td>\n      <td>Female</td>\n    </tr>\n  </tbody>\n</table>\n</div>"
     },
     "execution_count": 25,
     "metadata": {},
     "output_type": "execute_result"
    }
   ],
   "source": [
    "from seaborn import load_dataset\n",
    "import pandas as pd\n",
    "import numpy as np\n",
    "\n",
    "pd.options.display.precision = 2\n",
    "\n",
    "# Load the data\n",
    "columns = {'culmen_length_mm': 'length', \n",
    "           'culmen_depth_mm': 'depth',\n",
    "           'flipper_length_mm': 'flipper',\n",
    "           'body_mass_g': 'mass'}\n",
    "df = load_dataset('penguins').rename(columns=columns)\n",
    "df.head()\n"
   ]
  },
  {
   "cell_type": "code",
   "execution_count": 26,
   "id": "dc4928a970574ada",
   "metadata": {
    "collapsed": false,
    "ExecuteTime": {
     "end_time": "2024-01-06T16:58:19.377274Z",
     "start_time": "2024-01-06T16:58:19.359355Z"
    }
   },
   "outputs": [
    {
     "name": "stdout",
     "output_type": "stream",
     "text": [
      "<class 'pandas.core.frame.DataFrame'>\n",
      "RangeIndex: 344 entries, 0 to 343\n",
      "Data columns (total 7 columns):\n",
      " #   Column          Non-Null Count  Dtype  \n",
      "---  ------          --------------  -----  \n",
      " 0   species         344 non-null    object \n",
      " 1   island          344 non-null    object \n",
      " 2   bill_length_mm  342 non-null    float64\n",
      " 3   bill_depth_mm   342 non-null    float64\n",
      " 4   flipper         342 non-null    float64\n",
      " 5   mass            342 non-null    float64\n",
      " 6   sex             333 non-null    object \n",
      "dtypes: float64(4), object(3)\n",
      "memory usage: 18.9+ KB\n"
     ]
    }
   ],
   "source": [
    "df.info()"
   ]
  },
  {
   "cell_type": "markdown",
   "id": "19b5383bfcd717db",
   "metadata": {},
   "source": [
    "## 1. Prettifying DataFrames with Styler\n",
    "Styler is a class that allows to format and style DataFrames and Series. It is available in pandas since version 0.17.0. It is a very powerful tool that allows to create nice looking tables. It is also possible to export the styled tables to Excel or HTML files which can be further styled using CSS. \n",
    "\n"
   ]
  },
  {
   "cell_type": "markdown",
   "id": "51ebdfa75b34e9d0",
   "metadata": {},
   "source": [
    "### 1.1. Gradients\n",
    "Styler allows to apply gradients to the DataFrame. It is possible to apply gradients to the whole DataFrame or to a subset of columns. The gradient is calculated based on the values in the DataFrame. The values are normalized to the range [0, 1] and the gradient is applied to the normalized values. The gradient is applied to each row separately.\n",
    "\n",
    "```python\n",
    "correlation_matrix = df.corr()\n",
    "correlation_matrix.style.background_gradient(cmap='seismic_r', axis=None)\n",
    "```\n",
    "**Example 1**\n",
    "\n",
    "Adding background gradient takes only an extra line of code. By passing axis=None, the colour gradients are applied along the entire table rather than within a specific axis. The name of the desired colour palette is passed onto the cmap parameter. For this parameter, we can use any Matplotlib colourmap. Here’s a useful tip for colourmaps: If you ever need to flip the colour scale, adding _r suffix to the colour map name will do the trick. For instance, if we used 'seismic' instead of 'seismic_r', negative correlations would have been blue and positive correlations would have been red.\n",
    "\n",
    "Let's add some more styling to the table. We center-aligned the values `({'text-align': 'center'})` and increased the row height `({'padding': '12px' )` with `.set_properties()`. Then, we added a caption above the table with `.set_caption()`. \n",
    "\n",
    "```python\n",
    "correlation_matrix.style.background_gradient(cmap='seismic_r', axis=None)\\\n",
    "    .set_properties(**{'text-align': 'center', 'padding': '12px'})\\\n",
    "    .set_caption('Correlation matrix')\n",
    "```\n",
    "**Example 2**\n",
    "\n",
    "In this example, we have applied colour gradients to the background. We can also apply colour gradients to the text with `.text_gradient()`:\n",
    "\n",
    "```python\n",
    "correlation_matrix.style.text_gradient(cmap='seismic_r', axis=None)\\\n",
    "    .set_properties(**{'text-align': 'center', 'padding': '12px'})\\\n",
    "    .set_caption('Correlation matrix')\n",
    "```\n",
    "__Example 3__\n",
    "\n",
    "If useful, we can chain both types of gradients as well:\n",
    "```python\n",
    "(correlation_matrix.style\n",
    "     .background_gradient(cmap='YlGn', axis=None)\n",
    "     .text_gradient(cmap='YlGn_r', axis=None))\n",
    "```\n",
    "__Example 4__\n",
    "\n",
    "And, for rump up, let's add some more nice stuff.\n",
    "```python\n",
    "# Create made-up predictions\n",
    "df['predicted'] = df['species']\n",
    "df.loc[140:160, 'predicted'] = 'Gentoo'\n",
    "df.loc[210:250, 'predicted'] = 'Adelie'\n",
    "# Create confusion matrix\n",
    "confusion_matrix = pd.crosstab(df['species'], df['predicted'])\n",
    "confusion_matrix\n",
    "\n",
    "# Create a styler\n",
    "(confusion_matrix.style\n",
    "     .background_gradient('Greys')\n",
    "     .set_caption('CONFUSION MATRIX')\n",
    "     .set_properties(**{'text-align': 'center', \n",
    "                        'padding': '12px', \n",
    "                        'width': '80px'})\n",
    "     .set_table_styles([{'selector': 'th.col_heading', \n",
    "                         'props': 'text-align: center'},\n",
    "                        {'selector': 'caption', \n",
    "                         'props': [('text-align', 'center'),\n",
    "                                   ('font-size', '11pt'),\n",
    "                                   ('font-weight', 'bold')]}]))\n",
    "```\n",
    "__Example 5__\n",
    "\n",
    "Since we familiarised with the first 5 lines of the code in the previous examples, let’s understand what the remaining code is doing:\n",
    "- ◼️ `.set_properties(**{'width': '80px'})`: to increase column width\n",
    "- ◼️ `.set_table_styles([{'selector': 'th.col_heading', 'props': 'text-align: center'}])`: to align column headers in center\n",
    "- ◼️ `.set_table_styles([{'selector': 'caption', 'props': [('text-align', 'center' ), ('font-size', '11pt'), ('font-weight', 'bold')]}])`: to center-align caption, increase its font size and bold it.\n",
    "\n"
   ]
  },
  {
   "cell_type": "code",
   "execution_count": 27,
   "id": "e9ea584528f77b5b",
   "metadata": {
    "collapsed": false,
    "ExecuteTime": {
     "end_time": "2024-01-06T16:58:19.395203Z",
     "start_time": "2024-01-06T16:58:19.379556Z"
    }
   },
   "outputs": [
    {
     "data": {
      "text/plain": "<pandas.io.formats.style.Styler at 0x123b2b690>",
      "text/html": "<style type=\"text/css\">\n#T_49b36_row0_col0, #T_49b36_row1_col1, #T_49b36_row2_col2, #T_49b36_row3_col3 {\n  background-color: #00004c;\n  color: #f1f1f1;\n}\n#T_49b36_row0_col1, #T_49b36_row1_col0 {\n  background-color: #f00000;\n  color: #f1f1f1;\n}\n#T_49b36_row0_col2, #T_49b36_row2_col0 {\n  background-color: #0000e6;\n  color: #f1f1f1;\n}\n#T_49b36_row0_col3, #T_49b36_row3_col0 {\n  background-color: #0505ff;\n  color: #f1f1f1;\n}\n#T_49b36_row1_col2, #T_49b36_row2_col1 {\n  background-color: #800000;\n  color: #f1f1f1;\n}\n#T_49b36_row1_col3, #T_49b36_row3_col1 {\n  background-color: #a30000;\n  color: #f1f1f1;\n}\n#T_49b36_row2_col3, #T_49b36_row3_col2 {\n  background-color: #000084;\n  color: #f1f1f1;\n}\n</style>\n<table id=\"T_49b36\">\n  <thead>\n    <tr>\n      <th class=\"blank level0\" >&nbsp;</th>\n      <th id=\"T_49b36_level0_col0\" class=\"col_heading level0 col0\" >bill_length_mm</th>\n      <th id=\"T_49b36_level0_col1\" class=\"col_heading level0 col1\" >bill_depth_mm</th>\n      <th id=\"T_49b36_level0_col2\" class=\"col_heading level0 col2\" >flipper</th>\n      <th id=\"T_49b36_level0_col3\" class=\"col_heading level0 col3\" >mass</th>\n    </tr>\n  </thead>\n  <tbody>\n    <tr>\n      <th id=\"T_49b36_level0_row0\" class=\"row_heading level0 row0\" >bill_length_mm</th>\n      <td id=\"T_49b36_row0_col0\" class=\"data row0 col0\" >1.000000</td>\n      <td id=\"T_49b36_row0_col1\" class=\"data row0 col1\" >-0.235053</td>\n      <td id=\"T_49b36_row0_col2\" class=\"data row0 col2\" >0.656181</td>\n      <td id=\"T_49b36_row0_col3\" class=\"data row0 col3\" >0.595110</td>\n    </tr>\n    <tr>\n      <th id=\"T_49b36_level0_row1\" class=\"row_heading level0 row1\" >bill_depth_mm</th>\n      <td id=\"T_49b36_row1_col0\" class=\"data row1 col0\" >-0.235053</td>\n      <td id=\"T_49b36_row1_col1\" class=\"data row1 col1\" >1.000000</td>\n      <td id=\"T_49b36_row1_col2\" class=\"data row1 col2\" >-0.583851</td>\n      <td id=\"T_49b36_row1_col3\" class=\"data row1 col3\" >-0.471916</td>\n    </tr>\n    <tr>\n      <th id=\"T_49b36_level0_row2\" class=\"row_heading level0 row2\" >flipper</th>\n      <td id=\"T_49b36_row2_col0\" class=\"data row2 col0\" >0.656181</td>\n      <td id=\"T_49b36_row2_col1\" class=\"data row2 col1\" >-0.583851</td>\n      <td id=\"T_49b36_row2_col2\" class=\"data row2 col2\" >1.000000</td>\n      <td id=\"T_49b36_row2_col3\" class=\"data row2 col3\" >0.871202</td>\n    </tr>\n    <tr>\n      <th id=\"T_49b36_level0_row3\" class=\"row_heading level0 row3\" >mass</th>\n      <td id=\"T_49b36_row3_col0\" class=\"data row3 col0\" >0.595110</td>\n      <td id=\"T_49b36_row3_col1\" class=\"data row3 col1\" >-0.471916</td>\n      <td id=\"T_49b36_row3_col2\" class=\"data row3 col2\" >0.871202</td>\n      <td id=\"T_49b36_row3_col3\" class=\"data row3 col3\" >1.000000</td>\n    </tr>\n  </tbody>\n</table>\n"
     },
     "execution_count": 27,
     "metadata": {},
     "output_type": "execute_result"
    }
   ],
   "source": [
    "# Example 1\n",
    "correlation_matrix = df.corr(numeric_only=True)\n",
    "correlation_matrix.style.background_gradient(cmap='seismic_r', axis=None)"
   ]
  },
  {
   "cell_type": "code",
   "execution_count": 28,
   "id": "227a022a9c56d196",
   "metadata": {
    "collapsed": false,
    "ExecuteTime": {
     "end_time": "2024-01-06T16:58:19.436401Z",
     "start_time": "2024-01-06T16:58:19.396212Z"
    }
   },
   "outputs": [
    {
     "data": {
      "text/plain": "<pandas.io.formats.style.Styler at 0x123a4a650>",
      "text/html": "<style type=\"text/css\">\n#T_dbb4e_row0_col0, #T_dbb4e_row1_col1, #T_dbb4e_row2_col2, #T_dbb4e_row3_col3 {\n  background-color: #00004c;\n  color: #f1f1f1;\n  text-align: center;\n  padding: 12px;\n}\n#T_dbb4e_row0_col1, #T_dbb4e_row1_col0 {\n  background-color: #f00000;\n  color: #f1f1f1;\n  text-align: center;\n  padding: 12px;\n}\n#T_dbb4e_row0_col2, #T_dbb4e_row2_col0 {\n  background-color: #0000e6;\n  color: #f1f1f1;\n  text-align: center;\n  padding: 12px;\n}\n#T_dbb4e_row0_col3, #T_dbb4e_row3_col0 {\n  background-color: #0505ff;\n  color: #f1f1f1;\n  text-align: center;\n  padding: 12px;\n}\n#T_dbb4e_row1_col2, #T_dbb4e_row2_col1 {\n  background-color: #800000;\n  color: #f1f1f1;\n  text-align: center;\n  padding: 12px;\n}\n#T_dbb4e_row1_col3, #T_dbb4e_row3_col1 {\n  background-color: #a30000;\n  color: #f1f1f1;\n  text-align: center;\n  padding: 12px;\n}\n#T_dbb4e_row2_col3, #T_dbb4e_row3_col2 {\n  background-color: #000084;\n  color: #f1f1f1;\n  text-align: center;\n  padding: 12px;\n}\n</style>\n<table id=\"T_dbb4e\">\n  <caption>Correlation matrix</caption>\n  <thead>\n    <tr>\n      <th class=\"blank level0\" >&nbsp;</th>\n      <th id=\"T_dbb4e_level0_col0\" class=\"col_heading level0 col0\" >bill_length_mm</th>\n      <th id=\"T_dbb4e_level0_col1\" class=\"col_heading level0 col1\" >bill_depth_mm</th>\n      <th id=\"T_dbb4e_level0_col2\" class=\"col_heading level0 col2\" >flipper</th>\n      <th id=\"T_dbb4e_level0_col3\" class=\"col_heading level0 col3\" >mass</th>\n    </tr>\n  </thead>\n  <tbody>\n    <tr>\n      <th id=\"T_dbb4e_level0_row0\" class=\"row_heading level0 row0\" >bill_length_mm</th>\n      <td id=\"T_dbb4e_row0_col0\" class=\"data row0 col0\" >1.000000</td>\n      <td id=\"T_dbb4e_row0_col1\" class=\"data row0 col1\" >-0.235053</td>\n      <td id=\"T_dbb4e_row0_col2\" class=\"data row0 col2\" >0.656181</td>\n      <td id=\"T_dbb4e_row0_col3\" class=\"data row0 col3\" >0.595110</td>\n    </tr>\n    <tr>\n      <th id=\"T_dbb4e_level0_row1\" class=\"row_heading level0 row1\" >bill_depth_mm</th>\n      <td id=\"T_dbb4e_row1_col0\" class=\"data row1 col0\" >-0.235053</td>\n      <td id=\"T_dbb4e_row1_col1\" class=\"data row1 col1\" >1.000000</td>\n      <td id=\"T_dbb4e_row1_col2\" class=\"data row1 col2\" >-0.583851</td>\n      <td id=\"T_dbb4e_row1_col3\" class=\"data row1 col3\" >-0.471916</td>\n    </tr>\n    <tr>\n      <th id=\"T_dbb4e_level0_row2\" class=\"row_heading level0 row2\" >flipper</th>\n      <td id=\"T_dbb4e_row2_col0\" class=\"data row2 col0\" >0.656181</td>\n      <td id=\"T_dbb4e_row2_col1\" class=\"data row2 col1\" >-0.583851</td>\n      <td id=\"T_dbb4e_row2_col2\" class=\"data row2 col2\" >1.000000</td>\n      <td id=\"T_dbb4e_row2_col3\" class=\"data row2 col3\" >0.871202</td>\n    </tr>\n    <tr>\n      <th id=\"T_dbb4e_level0_row3\" class=\"row_heading level0 row3\" >mass</th>\n      <td id=\"T_dbb4e_row3_col0\" class=\"data row3 col0\" >0.595110</td>\n      <td id=\"T_dbb4e_row3_col1\" class=\"data row3 col1\" >-0.471916</td>\n      <td id=\"T_dbb4e_row3_col2\" class=\"data row3 col2\" >0.871202</td>\n      <td id=\"T_dbb4e_row3_col3\" class=\"data row3 col3\" >1.000000</td>\n    </tr>\n  </tbody>\n</table>\n"
     },
     "metadata": {},
     "output_type": "display_data"
    }
   ],
   "source": [
    "# Example 2 \n",
    "styler = correlation_matrix.style.background_gradient(cmap='seismic_r', axis=None)\\\n",
    "    .set_properties(**{'text-align': 'center', 'padding': '12px'})\\\n",
    "    .set_caption('Correlation matrix')\n",
    "\n",
    "if styler:\n",
    "    display(styler)\n",
    "else:\n",
    "    print('Styler is None')"
   ]
  },
  {
   "cell_type": "code",
   "execution_count": 29,
   "id": "3349fa67d8fac87",
   "metadata": {
    "collapsed": false,
    "tags": [],
    "ExecuteTime": {
     "end_time": "2024-01-06T16:58:19.438243Z",
     "start_time": "2024-01-06T16:58:19.420630Z"
    }
   },
   "outputs": [
    {
     "data": {
      "text/plain": "<pandas.io.formats.style.Styler at 0x123afc7d0>",
      "text/html": "<style type=\"text/css\">\n#T_a8979_row0_col0, #T_a8979_row1_col1, #T_a8979_row2_col2, #T_a8979_row3_col3 {\n  color: #00004c;\n  text-align: center;\n  padding: 12px;\n}\n#T_a8979_row0_col1, #T_a8979_row1_col0 {\n  color: #f00000;\n  text-align: center;\n  padding: 12px;\n}\n#T_a8979_row0_col2, #T_a8979_row2_col0 {\n  color: #0000e6;\n  text-align: center;\n  padding: 12px;\n}\n#T_a8979_row0_col3, #T_a8979_row3_col0 {\n  color: #0505ff;\n  text-align: center;\n  padding: 12px;\n}\n#T_a8979_row1_col2, #T_a8979_row2_col1 {\n  color: #800000;\n  text-align: center;\n  padding: 12px;\n}\n#T_a8979_row1_col3, #T_a8979_row3_col1 {\n  color: #a30000;\n  text-align: center;\n  padding: 12px;\n}\n#T_a8979_row2_col3, #T_a8979_row3_col2 {\n  color: #000084;\n  text-align: center;\n  padding: 12px;\n}\n</style>\n<table id=\"T_a8979\">\n  <caption>Correlation matrix</caption>\n  <thead>\n    <tr>\n      <th class=\"blank level0\" >&nbsp;</th>\n      <th id=\"T_a8979_level0_col0\" class=\"col_heading level0 col0\" >bill_length_mm</th>\n      <th id=\"T_a8979_level0_col1\" class=\"col_heading level0 col1\" >bill_depth_mm</th>\n      <th id=\"T_a8979_level0_col2\" class=\"col_heading level0 col2\" >flipper</th>\n      <th id=\"T_a8979_level0_col3\" class=\"col_heading level0 col3\" >mass</th>\n    </tr>\n  </thead>\n  <tbody>\n    <tr>\n      <th id=\"T_a8979_level0_row0\" class=\"row_heading level0 row0\" >bill_length_mm</th>\n      <td id=\"T_a8979_row0_col0\" class=\"data row0 col0\" >1.000000</td>\n      <td id=\"T_a8979_row0_col1\" class=\"data row0 col1\" >-0.235053</td>\n      <td id=\"T_a8979_row0_col2\" class=\"data row0 col2\" >0.656181</td>\n      <td id=\"T_a8979_row0_col3\" class=\"data row0 col3\" >0.595110</td>\n    </tr>\n    <tr>\n      <th id=\"T_a8979_level0_row1\" class=\"row_heading level0 row1\" >bill_depth_mm</th>\n      <td id=\"T_a8979_row1_col0\" class=\"data row1 col0\" >-0.235053</td>\n      <td id=\"T_a8979_row1_col1\" class=\"data row1 col1\" >1.000000</td>\n      <td id=\"T_a8979_row1_col2\" class=\"data row1 col2\" >-0.583851</td>\n      <td id=\"T_a8979_row1_col3\" class=\"data row1 col3\" >-0.471916</td>\n    </tr>\n    <tr>\n      <th id=\"T_a8979_level0_row2\" class=\"row_heading level0 row2\" >flipper</th>\n      <td id=\"T_a8979_row2_col0\" class=\"data row2 col0\" >0.656181</td>\n      <td id=\"T_a8979_row2_col1\" class=\"data row2 col1\" >-0.583851</td>\n      <td id=\"T_a8979_row2_col2\" class=\"data row2 col2\" >1.000000</td>\n      <td id=\"T_a8979_row2_col3\" class=\"data row2 col3\" >0.871202</td>\n    </tr>\n    <tr>\n      <th id=\"T_a8979_level0_row3\" class=\"row_heading level0 row3\" >mass</th>\n      <td id=\"T_a8979_row3_col0\" class=\"data row3 col0\" >0.595110</td>\n      <td id=\"T_a8979_row3_col1\" class=\"data row3 col1\" >-0.471916</td>\n      <td id=\"T_a8979_row3_col2\" class=\"data row3 col2\" >0.871202</td>\n      <td id=\"T_a8979_row3_col3\" class=\"data row3 col3\" >1.000000</td>\n    </tr>\n  </tbody>\n</table>\n"
     },
     "execution_count": 29,
     "metadata": {},
     "output_type": "execute_result"
    }
   ],
   "source": [
    "# Example 3\n",
    "correlation_matrix.style.text_gradient(cmap='seismic_r', axis=None)\\\n",
    "    .set_properties(**{'text-align': 'center', 'padding': '12px'})\\\n",
    "    .set_caption('Correlation matrix')"
   ]
  },
  {
   "cell_type": "code",
   "outputs": [
    {
     "data": {
      "text/plain": "<pandas.io.formats.style.Styler at 0x1272c2b90>",
      "text/html": "<style type=\"text/css\">\n#T_54e7e_row0_col0, #T_54e7e_row1_col1, #T_54e7e_row2_col2, #T_54e7e_row3_col3 {\n  background-color: #004529;\n  color: #f1f1f1;\n  color: #ffffe5;\n}\n#T_54e7e_row0_col1, #T_54e7e_row1_col0 {\n  background-color: #e0f3a8;\n  color: #000000;\n  color: #1a7d40;\n}\n#T_54e7e_row0_col2, #T_54e7e_row2_col0 {\n  background-color: #197c40;\n  color: #f1f1f1;\n  color: #e1f3a9;\n}\n#T_54e7e_row0_col3, #T_54e7e_row3_col0 {\n  background-color: #248644;\n  color: #f1f1f1;\n  color: #d7efa2;\n}\n#T_54e7e_row1_col2, #T_54e7e_row2_col1 {\n  background-color: #ffffe5;\n  color: #000000;\n  color: #004529;\n}\n#T_54e7e_row1_col3, #T_54e7e_row3_col1 {\n  background-color: #fafdcc;\n  color: #000000;\n  color: #005931;\n}\n#T_54e7e_row2_col3, #T_54e7e_row3_col2 {\n  background-color: #005b32;\n  color: #f1f1f1;\n  color: #fafdc9;\n}\n</style>\n<table id=\"T_54e7e\">\n  <thead>\n    <tr>\n      <th class=\"blank level0\" >&nbsp;</th>\n      <th id=\"T_54e7e_level0_col0\" class=\"col_heading level0 col0\" >bill_length_mm</th>\n      <th id=\"T_54e7e_level0_col1\" class=\"col_heading level0 col1\" >bill_depth_mm</th>\n      <th id=\"T_54e7e_level0_col2\" class=\"col_heading level0 col2\" >flipper</th>\n      <th id=\"T_54e7e_level0_col3\" class=\"col_heading level0 col3\" >mass</th>\n    </tr>\n  </thead>\n  <tbody>\n    <tr>\n      <th id=\"T_54e7e_level0_row0\" class=\"row_heading level0 row0\" >bill_length_mm</th>\n      <td id=\"T_54e7e_row0_col0\" class=\"data row0 col0\" >1.000000</td>\n      <td id=\"T_54e7e_row0_col1\" class=\"data row0 col1\" >-0.235053</td>\n      <td id=\"T_54e7e_row0_col2\" class=\"data row0 col2\" >0.656181</td>\n      <td id=\"T_54e7e_row0_col3\" class=\"data row0 col3\" >0.595110</td>\n    </tr>\n    <tr>\n      <th id=\"T_54e7e_level0_row1\" class=\"row_heading level0 row1\" >bill_depth_mm</th>\n      <td id=\"T_54e7e_row1_col0\" class=\"data row1 col0\" >-0.235053</td>\n      <td id=\"T_54e7e_row1_col1\" class=\"data row1 col1\" >1.000000</td>\n      <td id=\"T_54e7e_row1_col2\" class=\"data row1 col2\" >-0.583851</td>\n      <td id=\"T_54e7e_row1_col3\" class=\"data row1 col3\" >-0.471916</td>\n    </tr>\n    <tr>\n      <th id=\"T_54e7e_level0_row2\" class=\"row_heading level0 row2\" >flipper</th>\n      <td id=\"T_54e7e_row2_col0\" class=\"data row2 col0\" >0.656181</td>\n      <td id=\"T_54e7e_row2_col1\" class=\"data row2 col1\" >-0.583851</td>\n      <td id=\"T_54e7e_row2_col2\" class=\"data row2 col2\" >1.000000</td>\n      <td id=\"T_54e7e_row2_col3\" class=\"data row2 col3\" >0.871202</td>\n    </tr>\n    <tr>\n      <th id=\"T_54e7e_level0_row3\" class=\"row_heading level0 row3\" >mass</th>\n      <td id=\"T_54e7e_row3_col0\" class=\"data row3 col0\" >0.595110</td>\n      <td id=\"T_54e7e_row3_col1\" class=\"data row3 col1\" >-0.471916</td>\n      <td id=\"T_54e7e_row3_col2\" class=\"data row3 col2\" >0.871202</td>\n      <td id=\"T_54e7e_row3_col3\" class=\"data row3 col3\" >1.000000</td>\n    </tr>\n  </tbody>\n</table>\n"
     },
     "execution_count": 30,
     "metadata": {},
     "output_type": "execute_result"
    }
   ],
   "source": [
    "# Example 4\n",
    "(correlation_matrix.style\n",
    "     .background_gradient(cmap='YlGn', axis=None)\n",
    "     .text_gradient(cmap='YlGn_r', axis=None))"
   ],
   "metadata": {
    "collapsed": false,
    "ExecuteTime": {
     "end_time": "2024-01-06T16:58:19.455108Z",
     "start_time": "2024-01-06T16:58:19.441588Z"
    }
   },
   "id": "a7ad6b4c81ba2c4a",
   "execution_count": 30
  },
  {
   "cell_type": "code",
   "outputs": [
    {
     "data": {
      "text/plain": "<pandas.io.formats.style.Styler at 0x123a4ac10>",
      "text/html": "<style type=\"text/css\">\n#T_db6ed th.col_heading {\n  text-align: center;\n}\n#T_db6ed caption {\n  text-align: center;\n  font-size: 11pt;\n  font-weight: bold;\n}\n#T_db6ed_row0_col0, #T_db6ed_row1_col1, #T_db6ed_row2_col2, #T_db6ed_row3_col3 {\n  background-color: #000000;\n  color: #f1f1f1;\n  text-align: center;\n  padding: 12px;\n  width: 80px;\n}\n#T_db6ed_row0_col1 {\n  background-color: #dfdfdf;\n  color: #000000;\n  text-align: center;\n  padding: 12px;\n  width: 80px;\n}\n#T_db6ed_row0_col2 {\n  background-color: #464646;\n  color: #f1f1f1;\n  text-align: center;\n  padding: 12px;\n  width: 80px;\n}\n#T_db6ed_row0_col3 {\n  background-color: #585858;\n  color: #f1f1f1;\n  text-align: center;\n  padding: 12px;\n  width: 80px;\n}\n#T_db6ed_row1_col0, #T_db6ed_row1_col2, #T_db6ed_row1_col3, #T_db6ed_row2_col1 {\n  background-color: #ffffff;\n  color: #000000;\n  text-align: center;\n  padding: 12px;\n  width: 80px;\n}\n#T_db6ed_row2_col0 {\n  background-color: #5a5a5a;\n  color: #f1f1f1;\n  text-align: center;\n  padding: 12px;\n  width: 80px;\n}\n#T_db6ed_row2_col3 {\n  background-color: #1a1a1a;\n  color: #f1f1f1;\n  text-align: center;\n  padding: 12px;\n  width: 80px;\n}\n#T_db6ed_row3_col0 {\n  background-color: #666666;\n  color: #f1f1f1;\n  text-align: center;\n  padding: 12px;\n  width: 80px;\n}\n#T_db6ed_row3_col1 {\n  background-color: #f7f7f7;\n  color: #000000;\n  text-align: center;\n  padding: 12px;\n  width: 80px;\n}\n#T_db6ed_row3_col2 {\n  background-color: #171717;\n  color: #f1f1f1;\n  text-align: center;\n  padding: 12px;\n  width: 80px;\n}\n</style>\n<table id=\"T_db6ed\">\n  <caption>CONFUSION MATRIX</caption>\n  <thead>\n    <tr>\n      <th class=\"blank level0\" >&nbsp;</th>\n      <th id=\"T_db6ed_level0_col0\" class=\"col_heading level0 col0\" >bill_length_mm</th>\n      <th id=\"T_db6ed_level0_col1\" class=\"col_heading level0 col1\" >bill_depth_mm</th>\n      <th id=\"T_db6ed_level0_col2\" class=\"col_heading level0 col2\" >flipper</th>\n      <th id=\"T_db6ed_level0_col3\" class=\"col_heading level0 col3\" >mass</th>\n    </tr>\n  </thead>\n  <tbody>\n    <tr>\n      <th id=\"T_db6ed_level0_row0\" class=\"row_heading level0 row0\" >bill_length_mm</th>\n      <td id=\"T_db6ed_row0_col0\" class=\"data row0 col0\" >1.000000</td>\n      <td id=\"T_db6ed_row0_col1\" class=\"data row0 col1\" >-0.235053</td>\n      <td id=\"T_db6ed_row0_col2\" class=\"data row0 col2\" >0.656181</td>\n      <td id=\"T_db6ed_row0_col3\" class=\"data row0 col3\" >0.595110</td>\n    </tr>\n    <tr>\n      <th id=\"T_db6ed_level0_row1\" class=\"row_heading level0 row1\" >bill_depth_mm</th>\n      <td id=\"T_db6ed_row1_col0\" class=\"data row1 col0\" >-0.235053</td>\n      <td id=\"T_db6ed_row1_col1\" class=\"data row1 col1\" >1.000000</td>\n      <td id=\"T_db6ed_row1_col2\" class=\"data row1 col2\" >-0.583851</td>\n      <td id=\"T_db6ed_row1_col3\" class=\"data row1 col3\" >-0.471916</td>\n    </tr>\n    <tr>\n      <th id=\"T_db6ed_level0_row2\" class=\"row_heading level0 row2\" >flipper</th>\n      <td id=\"T_db6ed_row2_col0\" class=\"data row2 col0\" >0.656181</td>\n      <td id=\"T_db6ed_row2_col1\" class=\"data row2 col1\" >-0.583851</td>\n      <td id=\"T_db6ed_row2_col2\" class=\"data row2 col2\" >1.000000</td>\n      <td id=\"T_db6ed_row2_col3\" class=\"data row2 col3\" >0.871202</td>\n    </tr>\n    <tr>\n      <th id=\"T_db6ed_level0_row3\" class=\"row_heading level0 row3\" >mass</th>\n      <td id=\"T_db6ed_row3_col0\" class=\"data row3 col0\" >0.595110</td>\n      <td id=\"T_db6ed_row3_col1\" class=\"data row3 col1\" >-0.471916</td>\n      <td id=\"T_db6ed_row3_col2\" class=\"data row3 col2\" >0.871202</td>\n      <td id=\"T_db6ed_row3_col3\" class=\"data row3 col3\" >1.000000</td>\n    </tr>\n  </tbody>\n</table>\n"
     },
     "execution_count": 31,
     "metadata": {},
     "output_type": "execute_result"
    }
   ],
   "source": [
    "# Example 5\n",
    "(correlation_matrix.style\n",
    "     .background_gradient('Greys')\n",
    "     .set_caption('CONFUSION MATRIX')\n",
    "     .set_properties(**{'text-align': 'center', \n",
    "                        'padding': '12px', \n",
    "                        'width': '80px'})\n",
    "     .set_table_styles([{'selector': 'th.col_heading', \n",
    "                         'props': 'text-align: center'},\n",
    "                        {'selector': 'caption', \n",
    "                         'props': [('text-align', 'center'),\n",
    "                                   ('font-size', '11pt'),\n",
    "                                   ('font-weight', 'bold')]}]))"
   ],
   "metadata": {
    "collapsed": false,
    "ExecuteTime": {
     "end_time": "2024-01-06T16:58:19.456069Z",
     "start_time": "2024-01-06T16:58:19.445769Z"
    }
   },
   "id": "dc2968fc64a017b5",
   "execution_count": 31
  },
  {
   "cell_type": "code",
   "outputs": [],
   "source": [],
   "metadata": {
    "collapsed": false,
    "ExecuteTime": {
     "end_time": "2024-01-06T16:58:19.456282Z",
     "start_time": "2024-01-06T16:58:19.452053Z"
    }
   },
   "id": "89649cb3c24fde62",
   "execution_count": 31
  }
 ],
 "metadata": {
  "kernelspec": {
   "display_name": "Python 3 (ipykernel)",
   "language": "python",
   "name": "python3"
  },
  "language_info": {
   "codemirror_mode": {
    "name": "ipython",
    "version": 3
   },
   "file_extension": ".py",
   "mimetype": "text/x-python",
   "name": "python",
   "nbconvert_exporter": "python",
   "pygments_lexer": "ipython3",
   "version": "3.11.5"
  }
 },
 "nbformat": 4,
 "nbformat_minor": 5
}
