{
 "cells": [
  {
   "cell_type": "markdown",
   "id": "221470ffba011ddb",
   "metadata": {},
   "source": [
    "# Prettifying pandas DataFrames"
   ]
  },
  {
   "cell_type": "markdown",
   "id": "a7294e9750dfcb87",
   "metadata": {},
   "source": [
    "## Data\n",
    "We will use Seaborn penguins dataset. It contains data on penguins from three different species collected from three islands in the Palmer Archipelago, Antarctica. The dataset contains 344 observations and 17 variables. The dataset is available in Seaborn library.\n"
   ]
  },
  {
   "cell_type": "code",
   "execution_count": 29,
   "id": "9746f7f4c92d559e",
   "metadata": {
    "collapsed": false,
    "ExecuteTime": {
     "end_time": "2024-01-06T17:44:02.588375Z",
     "start_time": "2024-01-06T17:44:02.553288Z"
    }
   },
   "outputs": [
    {
     "data": {
      "text/plain": "  species     island  bill_length_mm  bill_depth_mm  flipper    mass     sex\n0  Adelie  Torgersen            39.1           18.7    181.0  3750.0    Male\n1  Adelie  Torgersen            39.5           17.4    186.0  3800.0  Female\n2  Adelie  Torgersen            40.3           18.0    195.0  3250.0  Female\n3  Adelie  Torgersen             NaN            NaN      NaN     NaN     NaN\n4  Adelie  Torgersen            36.7           19.3    193.0  3450.0  Female",
      "text/html": "<div>\n<style scoped>\n    .dataframe tbody tr th:only-of-type {\n        vertical-align: middle;\n    }\n\n    .dataframe tbody tr th {\n        vertical-align: top;\n    }\n\n    .dataframe thead th {\n        text-align: right;\n    }\n</style>\n<table border=\"1\" class=\"dataframe\">\n  <thead>\n    <tr style=\"text-align: right;\">\n      <th></th>\n      <th>species</th>\n      <th>island</th>\n      <th>bill_length_mm</th>\n      <th>bill_depth_mm</th>\n      <th>flipper</th>\n      <th>mass</th>\n      <th>sex</th>\n    </tr>\n  </thead>\n  <tbody>\n    <tr>\n      <th>0</th>\n      <td>Adelie</td>\n      <td>Torgersen</td>\n      <td>39.1</td>\n      <td>18.7</td>\n      <td>181.0</td>\n      <td>3750.0</td>\n      <td>Male</td>\n    </tr>\n    <tr>\n      <th>1</th>\n      <td>Adelie</td>\n      <td>Torgersen</td>\n      <td>39.5</td>\n      <td>17.4</td>\n      <td>186.0</td>\n      <td>3800.0</td>\n      <td>Female</td>\n    </tr>\n    <tr>\n      <th>2</th>\n      <td>Adelie</td>\n      <td>Torgersen</td>\n      <td>40.3</td>\n      <td>18.0</td>\n      <td>195.0</td>\n      <td>3250.0</td>\n      <td>Female</td>\n    </tr>\n    <tr>\n      <th>3</th>\n      <td>Adelie</td>\n      <td>Torgersen</td>\n      <td>NaN</td>\n      <td>NaN</td>\n      <td>NaN</td>\n      <td>NaN</td>\n      <td>NaN</td>\n    </tr>\n    <tr>\n      <th>4</th>\n      <td>Adelie</td>\n      <td>Torgersen</td>\n      <td>36.7</td>\n      <td>19.3</td>\n      <td>193.0</td>\n      <td>3450.0</td>\n      <td>Female</td>\n    </tr>\n  </tbody>\n</table>\n</div>"
     },
     "execution_count": 29,
     "metadata": {},
     "output_type": "execute_result"
    }
   ],
   "source": [
    "from seaborn import load_dataset\n",
    "import pandas as pd\n",
    "import numpy as np\n",
    "\n",
    "pd.options.display.precision = 2\n",
    "\n",
    "# Load the data\n",
    "columns = {'culmen_length_mm': 'length', \n",
    "           'culmen_depth_mm': 'depth',\n",
    "           'flipper_length_mm': 'flipper',\n",
    "           'body_mass_g': 'mass'}\n",
    "df = load_dataset('penguins').rename(columns=columns)\n",
    "df.head()\n"
   ]
  },
  {
   "cell_type": "code",
   "execution_count": 30,
   "id": "dc4928a970574ada",
   "metadata": {
    "collapsed": false,
    "ExecuteTime": {
     "end_time": "2024-01-06T17:44:02.599464Z",
     "start_time": "2024-01-06T17:44:02.591807Z"
    }
   },
   "outputs": [
    {
     "name": "stdout",
     "output_type": "stream",
     "text": [
      "<class 'pandas.core.frame.DataFrame'>\n",
      "RangeIndex: 344 entries, 0 to 343\n",
      "Data columns (total 7 columns):\n",
      " #   Column          Non-Null Count  Dtype  \n",
      "---  ------          --------------  -----  \n",
      " 0   species         344 non-null    object \n",
      " 1   island          344 non-null    object \n",
      " 2   bill_length_mm  342 non-null    float64\n",
      " 3   bill_depth_mm   342 non-null    float64\n",
      " 4   flipper         342 non-null    float64\n",
      " 5   mass            342 non-null    float64\n",
      " 6   sex             333 non-null    object \n",
      "dtypes: float64(4), object(3)\n",
      "memory usage: 18.9+ KB\n"
     ]
    }
   ],
   "source": [
    "df.info()"
   ]
  },
  {
   "cell_type": "markdown",
   "id": "19b5383bfcd717db",
   "metadata": {},
   "source": [
    "## 1. Prettifying DataFrames with Styler\n",
    "Styler is a class that allows to format and style DataFrames and Series. It is available in pandas since version 0.17.0. It is a very powerful tool that allows to create nice looking tables. It is also possible to export the styled tables to Excel or HTML files which can be further styled using CSS. \n",
    "\n"
   ]
  },
  {
   "cell_type": "markdown",
   "id": "51ebdfa75b34e9d0",
   "metadata": {},
   "source": [
    "### 1.1. Gradients\n",
    "Styler allows to apply gradients to the DataFrame. It is possible to apply gradients to the whole DataFrame or to a subset of columns. The gradient is calculated based on the values in the DataFrame. The values are normalized to the range [0, 1] and the gradient is applied to the normalized values. The gradient is applied to each row separately.\n",
    "\n",
    "```python\n",
    "correlation_matrix = df.corr()\n",
    "correlation_matrix.style.background_gradient(cmap='seismic_r', axis=None)\n",
    "```\n",
    "**Example 1**\n",
    "\n",
    "Adding background gradient takes only an extra line of code. By passing axis=None, the colour gradients are applied along the entire table rather than within a specific axis. The name of the desired colour palette is passed onto the cmap parameter. For this parameter, we can use any Matplotlib colourmap. Here’s a useful tip for colourmaps: If you ever need to flip the colour scale, adding _r suffix to the colour map name will do the trick. For instance, if we used 'seismic' instead of 'seismic_r', negative correlations would have been blue and positive correlations would have been red.\n",
    "\n",
    "Let's add some more styling to the table. We center-aligned the values `({'text-align': 'center'})` and increased the row height `({'padding': '12px' )` with `.set_properties()`. Then, we added a caption above the table with `.set_caption()`. \n",
    "\n",
    "```python\n",
    "correlation_matrix.style.background_gradient(cmap='seismic_r', axis=None)\\\n",
    "    .set_properties(**{'text-align': 'center', 'padding': '12px'})\\\n",
    "    .set_caption('Correlation matrix')\n",
    "```\n",
    "**Example 2**\n",
    "\n",
    "In this example, we have applied colour gradients to the background. We can also apply colour gradients to the text with `.text_gradient()`:\n",
    "\n",
    "```python\n",
    "correlation_matrix.style.text_gradient(cmap='seismic_r', axis=None)\\\n",
    "    .set_properties(**{'text-align': 'center', 'padding': '12px'})\\\n",
    "    .set_caption('Correlation matrix')\n",
    "```\n",
    "__Example 3__\n",
    "\n",
    "If useful, we can chain both types of gradients as well:\n",
    "```python\n",
    "(correlation_matrix.style\n",
    "     .background_gradient(cmap='YlGn', axis=None)\n",
    "     .text_gradient(cmap='YlGn_r', axis=None))\n",
    "```\n",
    "__Example 4__\n",
    "\n",
    "And, for rump up, let's add some more nice stuff.\n",
    "```python\n",
    "# Create made-up predictions\n",
    "df['predicted'] = df['species']\n",
    "df.loc[140:160, 'predicted'] = 'Gentoo'\n",
    "df.loc[210:250, 'predicted'] = 'Adelie'\n",
    "# Create confusion matrix\n",
    "confusion_matrix = pd.crosstab(df['species'], df['predicted'])\n",
    "confusion_matrix\n",
    "\n",
    "# Create a styler\n",
    "(confusion_matrix.style\n",
    "     .background_gradient('Greys')\n",
    "     .set_caption('CONFUSION MATRIX')\n",
    "     .set_properties(**{'text-align': 'center', \n",
    "                        'padding': '12px', \n",
    "                        'width': '80px'})\n",
    "     .set_table_styles([{'selector': 'th.col_heading', \n",
    "                         'props': 'text-align: center'},\n",
    "                        {'selector': 'caption', \n",
    "                         'props': [('text-align', 'center'),\n",
    "                                   ('font-size', '11pt'),\n",
    "                                   ('font-weight', 'bold')]}]))\n",
    "```\n",
    "__Example 5__\n",
    "\n",
    "Since we familiarised with the first 5 lines of the code in the previous examples, let’s understand what the remaining code is doing:\n",
    "- ◼️ `.set_properties(**{'width': '80px'})`: to increase column width\n",
    "- ◼️ `.set_table_styles([{'selector': 'th.col_heading', 'props': 'text-align: center'}])`: to align column headers in center\n",
    "- ◼️ `.set_table_styles([{'selector': 'caption', 'props': [('text-align', 'center' ), ('font-size', '11pt'), ('font-weight', 'bold')]}])`: to center-align caption, increase its font size and bold it.\n",
    "\n"
   ]
  },
  {
   "cell_type": "code",
   "execution_count": 31,
   "id": "e9ea584528f77b5b",
   "metadata": {
    "collapsed": false,
    "ExecuteTime": {
     "end_time": "2024-01-06T17:44:02.600119Z",
     "start_time": "2024-01-06T17:44:02.594571Z"
    }
   },
   "outputs": [
    {
     "data": {
      "text/plain": "<pandas.io.formats.style.Styler at 0x15e8cdc10>",
      "text/html": "<style type=\"text/css\">\n#T_10849_row0_col0, #T_10849_row1_col1, #T_10849_row2_col2, #T_10849_row3_col3 {\n  background-color: #00004c;\n  color: #f1f1f1;\n}\n#T_10849_row0_col1, #T_10849_row1_col0 {\n  background-color: #f00000;\n  color: #f1f1f1;\n}\n#T_10849_row0_col2, #T_10849_row2_col0 {\n  background-color: #0000e6;\n  color: #f1f1f1;\n}\n#T_10849_row0_col3, #T_10849_row3_col0 {\n  background-color: #0505ff;\n  color: #f1f1f1;\n}\n#T_10849_row1_col2, #T_10849_row2_col1 {\n  background-color: #800000;\n  color: #f1f1f1;\n}\n#T_10849_row1_col3, #T_10849_row3_col1 {\n  background-color: #a30000;\n  color: #f1f1f1;\n}\n#T_10849_row2_col3, #T_10849_row3_col2 {\n  background-color: #000084;\n  color: #f1f1f1;\n}\n</style>\n<table id=\"T_10849\">\n  <thead>\n    <tr>\n      <th class=\"blank level0\" >&nbsp;</th>\n      <th id=\"T_10849_level0_col0\" class=\"col_heading level0 col0\" >bill_length_mm</th>\n      <th id=\"T_10849_level0_col1\" class=\"col_heading level0 col1\" >bill_depth_mm</th>\n      <th id=\"T_10849_level0_col2\" class=\"col_heading level0 col2\" >flipper</th>\n      <th id=\"T_10849_level0_col3\" class=\"col_heading level0 col3\" >mass</th>\n    </tr>\n  </thead>\n  <tbody>\n    <tr>\n      <th id=\"T_10849_level0_row0\" class=\"row_heading level0 row0\" >bill_length_mm</th>\n      <td id=\"T_10849_row0_col0\" class=\"data row0 col0\" >1.000000</td>\n      <td id=\"T_10849_row0_col1\" class=\"data row0 col1\" >-0.235053</td>\n      <td id=\"T_10849_row0_col2\" class=\"data row0 col2\" >0.656181</td>\n      <td id=\"T_10849_row0_col3\" class=\"data row0 col3\" >0.595110</td>\n    </tr>\n    <tr>\n      <th id=\"T_10849_level0_row1\" class=\"row_heading level0 row1\" >bill_depth_mm</th>\n      <td id=\"T_10849_row1_col0\" class=\"data row1 col0\" >-0.235053</td>\n      <td id=\"T_10849_row1_col1\" class=\"data row1 col1\" >1.000000</td>\n      <td id=\"T_10849_row1_col2\" class=\"data row1 col2\" >-0.583851</td>\n      <td id=\"T_10849_row1_col3\" class=\"data row1 col3\" >-0.471916</td>\n    </tr>\n    <tr>\n      <th id=\"T_10849_level0_row2\" class=\"row_heading level0 row2\" >flipper</th>\n      <td id=\"T_10849_row2_col0\" class=\"data row2 col0\" >0.656181</td>\n      <td id=\"T_10849_row2_col1\" class=\"data row2 col1\" >-0.583851</td>\n      <td id=\"T_10849_row2_col2\" class=\"data row2 col2\" >1.000000</td>\n      <td id=\"T_10849_row2_col3\" class=\"data row2 col3\" >0.871202</td>\n    </tr>\n    <tr>\n      <th id=\"T_10849_level0_row3\" class=\"row_heading level0 row3\" >mass</th>\n      <td id=\"T_10849_row3_col0\" class=\"data row3 col0\" >0.595110</td>\n      <td id=\"T_10849_row3_col1\" class=\"data row3 col1\" >-0.471916</td>\n      <td id=\"T_10849_row3_col2\" class=\"data row3 col2\" >0.871202</td>\n      <td id=\"T_10849_row3_col3\" class=\"data row3 col3\" >1.000000</td>\n    </tr>\n  </tbody>\n</table>\n"
     },
     "execution_count": 31,
     "metadata": {},
     "output_type": "execute_result"
    }
   ],
   "source": [
    "# Example 1\n",
    "correlation_matrix = df.corr(numeric_only=True)\n",
    "correlation_matrix.style.background_gradient(cmap='seismic_r', axis=None)"
   ]
  },
  {
   "cell_type": "code",
   "execution_count": 32,
   "id": "227a022a9c56d196",
   "metadata": {
    "collapsed": false,
    "ExecuteTime": {
     "end_time": "2024-01-06T17:44:02.607468Z",
     "start_time": "2024-01-06T17:44:02.600731Z"
    }
   },
   "outputs": [
    {
     "data": {
      "text/plain": "<pandas.io.formats.style.Styler at 0x15e8ce290>",
      "text/html": "<style type=\"text/css\">\n#T_4d807_row0_col0, #T_4d807_row1_col1, #T_4d807_row2_col2, #T_4d807_row3_col3 {\n  background-color: #00004c;\n  color: #f1f1f1;\n  text-align: center;\n  padding: 12px;\n}\n#T_4d807_row0_col1, #T_4d807_row1_col0 {\n  background-color: #f00000;\n  color: #f1f1f1;\n  text-align: center;\n  padding: 12px;\n}\n#T_4d807_row0_col2, #T_4d807_row2_col0 {\n  background-color: #0000e6;\n  color: #f1f1f1;\n  text-align: center;\n  padding: 12px;\n}\n#T_4d807_row0_col3, #T_4d807_row3_col0 {\n  background-color: #0505ff;\n  color: #f1f1f1;\n  text-align: center;\n  padding: 12px;\n}\n#T_4d807_row1_col2, #T_4d807_row2_col1 {\n  background-color: #800000;\n  color: #f1f1f1;\n  text-align: center;\n  padding: 12px;\n}\n#T_4d807_row1_col3, #T_4d807_row3_col1 {\n  background-color: #a30000;\n  color: #f1f1f1;\n  text-align: center;\n  padding: 12px;\n}\n#T_4d807_row2_col3, #T_4d807_row3_col2 {\n  background-color: #000084;\n  color: #f1f1f1;\n  text-align: center;\n  padding: 12px;\n}\n</style>\n<table id=\"T_4d807\">\n  <caption>Correlation matrix</caption>\n  <thead>\n    <tr>\n      <th class=\"blank level0\" >&nbsp;</th>\n      <th id=\"T_4d807_level0_col0\" class=\"col_heading level0 col0\" >bill_length_mm</th>\n      <th id=\"T_4d807_level0_col1\" class=\"col_heading level0 col1\" >bill_depth_mm</th>\n      <th id=\"T_4d807_level0_col2\" class=\"col_heading level0 col2\" >flipper</th>\n      <th id=\"T_4d807_level0_col3\" class=\"col_heading level0 col3\" >mass</th>\n    </tr>\n  </thead>\n  <tbody>\n    <tr>\n      <th id=\"T_4d807_level0_row0\" class=\"row_heading level0 row0\" >bill_length_mm</th>\n      <td id=\"T_4d807_row0_col0\" class=\"data row0 col0\" >1.000000</td>\n      <td id=\"T_4d807_row0_col1\" class=\"data row0 col1\" >-0.235053</td>\n      <td id=\"T_4d807_row0_col2\" class=\"data row0 col2\" >0.656181</td>\n      <td id=\"T_4d807_row0_col3\" class=\"data row0 col3\" >0.595110</td>\n    </tr>\n    <tr>\n      <th id=\"T_4d807_level0_row1\" class=\"row_heading level0 row1\" >bill_depth_mm</th>\n      <td id=\"T_4d807_row1_col0\" class=\"data row1 col0\" >-0.235053</td>\n      <td id=\"T_4d807_row1_col1\" class=\"data row1 col1\" >1.000000</td>\n      <td id=\"T_4d807_row1_col2\" class=\"data row1 col2\" >-0.583851</td>\n      <td id=\"T_4d807_row1_col3\" class=\"data row1 col3\" >-0.471916</td>\n    </tr>\n    <tr>\n      <th id=\"T_4d807_level0_row2\" class=\"row_heading level0 row2\" >flipper</th>\n      <td id=\"T_4d807_row2_col0\" class=\"data row2 col0\" >0.656181</td>\n      <td id=\"T_4d807_row2_col1\" class=\"data row2 col1\" >-0.583851</td>\n      <td id=\"T_4d807_row2_col2\" class=\"data row2 col2\" >1.000000</td>\n      <td id=\"T_4d807_row2_col3\" class=\"data row2 col3\" >0.871202</td>\n    </tr>\n    <tr>\n      <th id=\"T_4d807_level0_row3\" class=\"row_heading level0 row3\" >mass</th>\n      <td id=\"T_4d807_row3_col0\" class=\"data row3 col0\" >0.595110</td>\n      <td id=\"T_4d807_row3_col1\" class=\"data row3 col1\" >-0.471916</td>\n      <td id=\"T_4d807_row3_col2\" class=\"data row3 col2\" >0.871202</td>\n      <td id=\"T_4d807_row3_col3\" class=\"data row3 col3\" >1.000000</td>\n    </tr>\n  </tbody>\n</table>\n"
     },
     "metadata": {},
     "output_type": "display_data"
    }
   ],
   "source": [
    "# Example 2 \n",
    "styler = correlation_matrix.style.background_gradient(cmap='seismic_r', axis=None)\\\n",
    "    .set_properties(**{'text-align': 'center', 'padding': '12px'})\\\n",
    "    .set_caption('Correlation matrix')\n",
    "\n",
    "if styler:\n",
    "    display(styler)\n",
    "else:\n",
    "    print('Styler is None')"
   ]
  },
  {
   "cell_type": "code",
   "execution_count": 33,
   "id": "3349fa67d8fac87",
   "metadata": {
    "collapsed": false,
    "tags": [],
    "ExecuteTime": {
     "end_time": "2024-01-06T17:44:02.620429Z",
     "start_time": "2024-01-06T17:44:02.606669Z"
    }
   },
   "outputs": [
    {
     "data": {
      "text/plain": "<pandas.io.formats.style.Styler at 0x15d9f6790>",
      "text/html": "<style type=\"text/css\">\n#T_0a1c7_row0_col0, #T_0a1c7_row1_col1, #T_0a1c7_row2_col2, #T_0a1c7_row3_col3 {\n  color: #00004c;\n  text-align: center;\n  padding: 12px;\n}\n#T_0a1c7_row0_col1, #T_0a1c7_row1_col0 {\n  color: #f00000;\n  text-align: center;\n  padding: 12px;\n}\n#T_0a1c7_row0_col2, #T_0a1c7_row2_col0 {\n  color: #0000e6;\n  text-align: center;\n  padding: 12px;\n}\n#T_0a1c7_row0_col3, #T_0a1c7_row3_col0 {\n  color: #0505ff;\n  text-align: center;\n  padding: 12px;\n}\n#T_0a1c7_row1_col2, #T_0a1c7_row2_col1 {\n  color: #800000;\n  text-align: center;\n  padding: 12px;\n}\n#T_0a1c7_row1_col3, #T_0a1c7_row3_col1 {\n  color: #a30000;\n  text-align: center;\n  padding: 12px;\n}\n#T_0a1c7_row2_col3, #T_0a1c7_row3_col2 {\n  color: #000084;\n  text-align: center;\n  padding: 12px;\n}\n</style>\n<table id=\"T_0a1c7\">\n  <caption>Correlation matrix</caption>\n  <thead>\n    <tr>\n      <th class=\"blank level0\" >&nbsp;</th>\n      <th id=\"T_0a1c7_level0_col0\" class=\"col_heading level0 col0\" >bill_length_mm</th>\n      <th id=\"T_0a1c7_level0_col1\" class=\"col_heading level0 col1\" >bill_depth_mm</th>\n      <th id=\"T_0a1c7_level0_col2\" class=\"col_heading level0 col2\" >flipper</th>\n      <th id=\"T_0a1c7_level0_col3\" class=\"col_heading level0 col3\" >mass</th>\n    </tr>\n  </thead>\n  <tbody>\n    <tr>\n      <th id=\"T_0a1c7_level0_row0\" class=\"row_heading level0 row0\" >bill_length_mm</th>\n      <td id=\"T_0a1c7_row0_col0\" class=\"data row0 col0\" >1.000000</td>\n      <td id=\"T_0a1c7_row0_col1\" class=\"data row0 col1\" >-0.235053</td>\n      <td id=\"T_0a1c7_row0_col2\" class=\"data row0 col2\" >0.656181</td>\n      <td id=\"T_0a1c7_row0_col3\" class=\"data row0 col3\" >0.595110</td>\n    </tr>\n    <tr>\n      <th id=\"T_0a1c7_level0_row1\" class=\"row_heading level0 row1\" >bill_depth_mm</th>\n      <td id=\"T_0a1c7_row1_col0\" class=\"data row1 col0\" >-0.235053</td>\n      <td id=\"T_0a1c7_row1_col1\" class=\"data row1 col1\" >1.000000</td>\n      <td id=\"T_0a1c7_row1_col2\" class=\"data row1 col2\" >-0.583851</td>\n      <td id=\"T_0a1c7_row1_col3\" class=\"data row1 col3\" >-0.471916</td>\n    </tr>\n    <tr>\n      <th id=\"T_0a1c7_level0_row2\" class=\"row_heading level0 row2\" >flipper</th>\n      <td id=\"T_0a1c7_row2_col0\" class=\"data row2 col0\" >0.656181</td>\n      <td id=\"T_0a1c7_row2_col1\" class=\"data row2 col1\" >-0.583851</td>\n      <td id=\"T_0a1c7_row2_col2\" class=\"data row2 col2\" >1.000000</td>\n      <td id=\"T_0a1c7_row2_col3\" class=\"data row2 col3\" >0.871202</td>\n    </tr>\n    <tr>\n      <th id=\"T_0a1c7_level0_row3\" class=\"row_heading level0 row3\" >mass</th>\n      <td id=\"T_0a1c7_row3_col0\" class=\"data row3 col0\" >0.595110</td>\n      <td id=\"T_0a1c7_row3_col1\" class=\"data row3 col1\" >-0.471916</td>\n      <td id=\"T_0a1c7_row3_col2\" class=\"data row3 col2\" >0.871202</td>\n      <td id=\"T_0a1c7_row3_col3\" class=\"data row3 col3\" >1.000000</td>\n    </tr>\n  </tbody>\n</table>\n"
     },
     "execution_count": 33,
     "metadata": {},
     "output_type": "execute_result"
    }
   ],
   "source": [
    "# Example 3\n",
    "correlation_matrix.style.text_gradient(cmap='seismic_r', axis=None)\\\n",
    "    .set_properties(**{'text-align': 'center', 'padding': '12px'})\\\n",
    "    .set_caption('Correlation matrix')"
   ]
  },
  {
   "cell_type": "code",
   "outputs": [
    {
     "data": {
      "text/plain": "<pandas.io.formats.style.Styler at 0x15e896790>",
      "text/html": "<style type=\"text/css\">\n#T_9fbff_row0_col0, #T_9fbff_row1_col1, #T_9fbff_row2_col2, #T_9fbff_row3_col3 {\n  background-color: #004529;\n  color: #f1f1f1;\n  color: #ffffe5;\n}\n#T_9fbff_row0_col1, #T_9fbff_row1_col0 {\n  background-color: #e0f3a8;\n  color: #000000;\n  color: #1a7d40;\n}\n#T_9fbff_row0_col2, #T_9fbff_row2_col0 {\n  background-color: #197c40;\n  color: #f1f1f1;\n  color: #e1f3a9;\n}\n#T_9fbff_row0_col3, #T_9fbff_row3_col0 {\n  background-color: #248644;\n  color: #f1f1f1;\n  color: #d7efa2;\n}\n#T_9fbff_row1_col2, #T_9fbff_row2_col1 {\n  background-color: #ffffe5;\n  color: #000000;\n  color: #004529;\n}\n#T_9fbff_row1_col3, #T_9fbff_row3_col1 {\n  background-color: #fafdcc;\n  color: #000000;\n  color: #005931;\n}\n#T_9fbff_row2_col3, #T_9fbff_row3_col2 {\n  background-color: #005b32;\n  color: #f1f1f1;\n  color: #fafdc9;\n}\n</style>\n<table id=\"T_9fbff\">\n  <thead>\n    <tr>\n      <th class=\"blank level0\" >&nbsp;</th>\n      <th id=\"T_9fbff_level0_col0\" class=\"col_heading level0 col0\" >bill_length_mm</th>\n      <th id=\"T_9fbff_level0_col1\" class=\"col_heading level0 col1\" >bill_depth_mm</th>\n      <th id=\"T_9fbff_level0_col2\" class=\"col_heading level0 col2\" >flipper</th>\n      <th id=\"T_9fbff_level0_col3\" class=\"col_heading level0 col3\" >mass</th>\n    </tr>\n  </thead>\n  <tbody>\n    <tr>\n      <th id=\"T_9fbff_level0_row0\" class=\"row_heading level0 row0\" >bill_length_mm</th>\n      <td id=\"T_9fbff_row0_col0\" class=\"data row0 col0\" >1.000000</td>\n      <td id=\"T_9fbff_row0_col1\" class=\"data row0 col1\" >-0.235053</td>\n      <td id=\"T_9fbff_row0_col2\" class=\"data row0 col2\" >0.656181</td>\n      <td id=\"T_9fbff_row0_col3\" class=\"data row0 col3\" >0.595110</td>\n    </tr>\n    <tr>\n      <th id=\"T_9fbff_level0_row1\" class=\"row_heading level0 row1\" >bill_depth_mm</th>\n      <td id=\"T_9fbff_row1_col0\" class=\"data row1 col0\" >-0.235053</td>\n      <td id=\"T_9fbff_row1_col1\" class=\"data row1 col1\" >1.000000</td>\n      <td id=\"T_9fbff_row1_col2\" class=\"data row1 col2\" >-0.583851</td>\n      <td id=\"T_9fbff_row1_col3\" class=\"data row1 col3\" >-0.471916</td>\n    </tr>\n    <tr>\n      <th id=\"T_9fbff_level0_row2\" class=\"row_heading level0 row2\" >flipper</th>\n      <td id=\"T_9fbff_row2_col0\" class=\"data row2 col0\" >0.656181</td>\n      <td id=\"T_9fbff_row2_col1\" class=\"data row2 col1\" >-0.583851</td>\n      <td id=\"T_9fbff_row2_col2\" class=\"data row2 col2\" >1.000000</td>\n      <td id=\"T_9fbff_row2_col3\" class=\"data row2 col3\" >0.871202</td>\n    </tr>\n    <tr>\n      <th id=\"T_9fbff_level0_row3\" class=\"row_heading level0 row3\" >mass</th>\n      <td id=\"T_9fbff_row3_col0\" class=\"data row3 col0\" >0.595110</td>\n      <td id=\"T_9fbff_row3_col1\" class=\"data row3 col1\" >-0.471916</td>\n      <td id=\"T_9fbff_row3_col2\" class=\"data row3 col2\" >0.871202</td>\n      <td id=\"T_9fbff_row3_col3\" class=\"data row3 col3\" >1.000000</td>\n    </tr>\n  </tbody>\n</table>\n"
     },
     "execution_count": 34,
     "metadata": {},
     "output_type": "execute_result"
    }
   ],
   "source": [
    "# Example 4\n",
    "(correlation_matrix.style\n",
    "     .background_gradient(cmap='YlGn', axis=None)\n",
    "     .text_gradient(cmap='YlGn_r', axis=None))"
   ],
   "metadata": {
    "collapsed": false,
    "ExecuteTime": {
     "end_time": "2024-01-06T17:44:02.632132Z",
     "start_time": "2024-01-06T17:44:02.611431Z"
    }
   },
   "id": "a7ad6b4c81ba2c4a",
   "execution_count": 34
  },
  {
   "cell_type": "code",
   "outputs": [
    {
     "data": {
      "text/plain": "<pandas.io.formats.style.Styler at 0x15e8caf50>",
      "text/html": "<style type=\"text/css\">\n#T_3f4e2 th.col_heading {\n  text-align: center;\n}\n#T_3f4e2 caption {\n  text-align: center;\n  font-size: 11pt;\n  font-weight: bold;\n}\n#T_3f4e2_row0_col0, #T_3f4e2_row1_col1, #T_3f4e2_row2_col2, #T_3f4e2_row3_col3 {\n  background-color: #000000;\n  color: #f1f1f1;\n  text-align: center;\n  padding: 12px;\n  width: 80px;\n}\n#T_3f4e2_row0_col1 {\n  background-color: #dfdfdf;\n  color: #000000;\n  text-align: center;\n  padding: 12px;\n  width: 80px;\n}\n#T_3f4e2_row0_col2 {\n  background-color: #464646;\n  color: #f1f1f1;\n  text-align: center;\n  padding: 12px;\n  width: 80px;\n}\n#T_3f4e2_row0_col3 {\n  background-color: #585858;\n  color: #f1f1f1;\n  text-align: center;\n  padding: 12px;\n  width: 80px;\n}\n#T_3f4e2_row1_col0, #T_3f4e2_row1_col2, #T_3f4e2_row1_col3, #T_3f4e2_row2_col1 {\n  background-color: #ffffff;\n  color: #000000;\n  text-align: center;\n  padding: 12px;\n  width: 80px;\n}\n#T_3f4e2_row2_col0 {\n  background-color: #5a5a5a;\n  color: #f1f1f1;\n  text-align: center;\n  padding: 12px;\n  width: 80px;\n}\n#T_3f4e2_row2_col3 {\n  background-color: #1a1a1a;\n  color: #f1f1f1;\n  text-align: center;\n  padding: 12px;\n  width: 80px;\n}\n#T_3f4e2_row3_col0 {\n  background-color: #666666;\n  color: #f1f1f1;\n  text-align: center;\n  padding: 12px;\n  width: 80px;\n}\n#T_3f4e2_row3_col1 {\n  background-color: #f7f7f7;\n  color: #000000;\n  text-align: center;\n  padding: 12px;\n  width: 80px;\n}\n#T_3f4e2_row3_col2 {\n  background-color: #171717;\n  color: #f1f1f1;\n  text-align: center;\n  padding: 12px;\n  width: 80px;\n}\n</style>\n<table id=\"T_3f4e2\">\n  <caption>CONFUSION MATRIX</caption>\n  <thead>\n    <tr>\n      <th class=\"blank level0\" >&nbsp;</th>\n      <th id=\"T_3f4e2_level0_col0\" class=\"col_heading level0 col0\" >bill_length_mm</th>\n      <th id=\"T_3f4e2_level0_col1\" class=\"col_heading level0 col1\" >bill_depth_mm</th>\n      <th id=\"T_3f4e2_level0_col2\" class=\"col_heading level0 col2\" >flipper</th>\n      <th id=\"T_3f4e2_level0_col3\" class=\"col_heading level0 col3\" >mass</th>\n    </tr>\n  </thead>\n  <tbody>\n    <tr>\n      <th id=\"T_3f4e2_level0_row0\" class=\"row_heading level0 row0\" >bill_length_mm</th>\n      <td id=\"T_3f4e2_row0_col0\" class=\"data row0 col0\" >1.000000</td>\n      <td id=\"T_3f4e2_row0_col1\" class=\"data row0 col1\" >-0.235053</td>\n      <td id=\"T_3f4e2_row0_col2\" class=\"data row0 col2\" >0.656181</td>\n      <td id=\"T_3f4e2_row0_col3\" class=\"data row0 col3\" >0.595110</td>\n    </tr>\n    <tr>\n      <th id=\"T_3f4e2_level0_row1\" class=\"row_heading level0 row1\" >bill_depth_mm</th>\n      <td id=\"T_3f4e2_row1_col0\" class=\"data row1 col0\" >-0.235053</td>\n      <td id=\"T_3f4e2_row1_col1\" class=\"data row1 col1\" >1.000000</td>\n      <td id=\"T_3f4e2_row1_col2\" class=\"data row1 col2\" >-0.583851</td>\n      <td id=\"T_3f4e2_row1_col3\" class=\"data row1 col3\" >-0.471916</td>\n    </tr>\n    <tr>\n      <th id=\"T_3f4e2_level0_row2\" class=\"row_heading level0 row2\" >flipper</th>\n      <td id=\"T_3f4e2_row2_col0\" class=\"data row2 col0\" >0.656181</td>\n      <td id=\"T_3f4e2_row2_col1\" class=\"data row2 col1\" >-0.583851</td>\n      <td id=\"T_3f4e2_row2_col2\" class=\"data row2 col2\" >1.000000</td>\n      <td id=\"T_3f4e2_row2_col3\" class=\"data row2 col3\" >0.871202</td>\n    </tr>\n    <tr>\n      <th id=\"T_3f4e2_level0_row3\" class=\"row_heading level0 row3\" >mass</th>\n      <td id=\"T_3f4e2_row3_col0\" class=\"data row3 col0\" >0.595110</td>\n      <td id=\"T_3f4e2_row3_col1\" class=\"data row3 col1\" >-0.471916</td>\n      <td id=\"T_3f4e2_row3_col2\" class=\"data row3 col2\" >0.871202</td>\n      <td id=\"T_3f4e2_row3_col3\" class=\"data row3 col3\" >1.000000</td>\n    </tr>\n  </tbody>\n</table>\n"
     },
     "execution_count": 35,
     "metadata": {},
     "output_type": "execute_result"
    }
   ],
   "source": [
    "# Example 5\n",
    "(correlation_matrix.style\n",
    "     .background_gradient('Greys')\n",
    "     .set_caption('CONFUSION MATRIX')\n",
    "     .set_properties(**{'text-align': 'center', \n",
    "                        'padding': '12px', \n",
    "                        'width': '80px'})\n",
    "     .set_table_styles([{'selector': 'th.col_heading', \n",
    "                         'props': 'text-align: center'},\n",
    "                        {'selector': 'caption', \n",
    "                         'props': [('text-align', 'center'),\n",
    "                                   ('font-size', '11pt'),\n",
    "                                   ('font-weight', 'bold')]}]))"
   ],
   "metadata": {
    "collapsed": false,
    "ExecuteTime": {
     "end_time": "2024-01-06T17:44:02.633546Z",
     "start_time": "2024-01-06T17:44:02.616542Z"
    }
   },
   "id": "dc2968fc64a017b5",
   "execution_count": 35
  },
  {
   "cell_type": "markdown",
   "source": [
    "### 1.2. Color Bars\n",
    "Color bars are a great way to visualize the values in the DataFrame. They can be added to the DataFrame using `.background_gradient()` or `.text_gradient()` methods. The color bars are added to the right side of the DataFrame. The color bar shows the range of values in the DataFrame. The color bar can be added to the whole DataFrame or to a subset of columns. The color bar is added to each row separately.\n",
    "\n",
    "First, let's create a pivot table and then add a color bar to it.\n",
    "\n",
    "```python\n",
    "pivot = df.pivot_table('mass', ['species', 'island'], 'sex')\n",
    "pivot.iloc[(-2,0)] = np.nan\n",
    "# Style\n",
    "pivot.style.bar(color='aquamarine')\n",
    "```\n",
    "__Example 6__\n",
    "\n",
    "This can be styled further just like in the previous examples:\n",
    "\n",
    "```python\n",
    "(pivot.style\n",
    "     .bar(color='aquamarine')\n",
    "     .set_properties(padding='8px', width='50')) \n",
    "```\n",
    "__Example 7__\n",
    "\n",
    "If you have positive and negative values, you can format the data as follows by passing two colours `(color=['salmon', 'lightgreen'])` and aligning the bars in the middle (align='mid'):\n",
    "\n",
    "```python\n",
    "# Style on toy data\n",
    "(pd.DataFrame({'feature': ['a', 'b', 'c', 'd', 'e', 'f'],  \n",
    "               'coefficient': [30, 10, 1, -5, -10, -20]}).style\n",
    "   .bar(color=['salmon', 'lightgreen'], align='mid')\n",
    "   .set_properties(**{'text-align': 'center'})\n",
    "   .set_table_styles([{'selector': 'th.col_heading', \n",
    "                       'props': 'text-align: center'}]))\n",
    "```\n",
    "__Example 8__\n"
   ],
   "metadata": {
    "collapsed": false
   },
   "id": "63475b90f85b3c7a"
  },
  {
   "cell_type": "code",
   "outputs": [
    {
     "data": {
      "text/plain": "<pandas.io.formats.style.Styler at 0x15e85ffd0>",
      "text/html": "<style type=\"text/css\">\n#T_ac44c_row0_col0 {\n  width: 10em;\n  background: linear-gradient(90deg, aquamarine 72.0%, transparent 72.0%);\n}\n#T_ac44c_row0_col1, #T_ac44c_row1_col1 {\n  width: 10em;\n  background: linear-gradient(90deg, aquamarine 73.8%, transparent 73.8%);\n}\n#T_ac44c_row1_col0 {\n  width: 10em;\n  background: linear-gradient(90deg, aquamarine 71.5%, transparent 71.5%);\n}\n#T_ac44c_row2_col0 {\n  width: 10em;\n  background: linear-gradient(90deg, aquamarine 72.6%, transparent 72.6%);\n}\n#T_ac44c_row2_col1 {\n  width: 10em;\n  background: linear-gradient(90deg, aquamarine 73.6%, transparent 73.6%);\n}\n#T_ac44c_row3_col0 {\n  width: 10em;\n}\n#T_ac44c_row3_col1 {\n  width: 10em;\n  background: linear-gradient(90deg, aquamarine 71.8%, transparent 71.8%);\n}\n#T_ac44c_row4_col0, #T_ac44c_row4_col1 {\n  width: 10em;\n  background: linear-gradient(90deg, aquamarine 100.0%, transparent 100.0%);\n}\n</style>\n<table id=\"T_ac44c\">\n  <thead>\n    <tr>\n      <th class=\"blank\" >&nbsp;</th>\n      <th class=\"index_name level0\" >sex</th>\n      <th id=\"T_ac44c_level0_col0\" class=\"col_heading level0 col0\" >Female</th>\n      <th id=\"T_ac44c_level0_col1\" class=\"col_heading level0 col1\" >Male</th>\n    </tr>\n    <tr>\n      <th class=\"index_name level0\" >species</th>\n      <th class=\"index_name level1\" >island</th>\n      <th class=\"blank col0\" >&nbsp;</th>\n      <th class=\"blank col1\" >&nbsp;</th>\n    </tr>\n  </thead>\n  <tbody>\n    <tr>\n      <th id=\"T_ac44c_level0_row0\" class=\"row_heading level0 row0\" rowspan=\"3\">Adelie</th>\n      <th id=\"T_ac44c_level1_row0\" class=\"row_heading level1 row0\" >Biscoe</th>\n      <td id=\"T_ac44c_row0_col0\" class=\"data row0 col0\" >3369.318182</td>\n      <td id=\"T_ac44c_row0_col1\" class=\"data row0 col1\" >4050.000000</td>\n    </tr>\n    <tr>\n      <th id=\"T_ac44c_level1_row1\" class=\"row_heading level1 row1\" >Dream</th>\n      <td id=\"T_ac44c_row1_col0\" class=\"data row1 col0\" >3344.444444</td>\n      <td id=\"T_ac44c_row1_col1\" class=\"data row1 col1\" >4045.535714</td>\n    </tr>\n    <tr>\n      <th id=\"T_ac44c_level1_row2\" class=\"row_heading level1 row2\" >Torgersen</th>\n      <td id=\"T_ac44c_row2_col0\" class=\"data row2 col0\" >3395.833333</td>\n      <td id=\"T_ac44c_row2_col1\" class=\"data row2 col1\" >4034.782609</td>\n    </tr>\n    <tr>\n      <th id=\"T_ac44c_level0_row3\" class=\"row_heading level0 row3\" >Chinstrap</th>\n      <th id=\"T_ac44c_level1_row3\" class=\"row_heading level1 row3\" >Dream</th>\n      <td id=\"T_ac44c_row3_col0\" class=\"data row3 col0\" >nan</td>\n      <td id=\"T_ac44c_row3_col1\" class=\"data row3 col1\" >3938.970588</td>\n    </tr>\n    <tr>\n      <th id=\"T_ac44c_level0_row4\" class=\"row_heading level0 row4\" >Gentoo</th>\n      <th id=\"T_ac44c_level1_row4\" class=\"row_heading level1 row4\" >Biscoe</th>\n      <td id=\"T_ac44c_row4_col0\" class=\"data row4 col0\" >4679.741379</td>\n      <td id=\"T_ac44c_row4_col1\" class=\"data row4 col1\" >5484.836066</td>\n    </tr>\n  </tbody>\n</table>\n"
     },
     "execution_count": 36,
     "metadata": {},
     "output_type": "execute_result"
    }
   ],
   "source": [
    "# Example 6\n",
    "pivot = df.pivot_table('mass', ['species', 'island'], 'sex')\n",
    "pivot.iloc[(-2,0)] = np.nan\n",
    "# Style\n",
    "pivot.style.bar(color='aquamarine')"
   ],
   "metadata": {
    "collapsed": false,
    "ExecuteTime": {
     "end_time": "2024-01-06T17:44:02.647865Z",
     "start_time": "2024-01-06T17:44:02.622864Z"
    }
   },
   "id": "cd3c952195dd7b5e",
   "execution_count": 36
  },
  {
   "cell_type": "code",
   "outputs": [
    {
     "data": {
      "text/plain": "<pandas.io.formats.style.Styler at 0x15db94290>",
      "text/html": "<style type=\"text/css\">\n#T_274b2_row0_col0 {\n  width: 10em;\n  background: linear-gradient(90deg, aquamarine 72.0%, transparent 72.0%);\n  padding: 8px;\n  width: 50;\n}\n#T_274b2_row0_col1, #T_274b2_row1_col1 {\n  width: 10em;\n  background: linear-gradient(90deg, aquamarine 73.8%, transparent 73.8%);\n  padding: 8px;\n  width: 50;\n}\n#T_274b2_row1_col0 {\n  width: 10em;\n  background: linear-gradient(90deg, aquamarine 71.5%, transparent 71.5%);\n  padding: 8px;\n  width: 50;\n}\n#T_274b2_row2_col0 {\n  width: 10em;\n  background: linear-gradient(90deg, aquamarine 72.6%, transparent 72.6%);\n  padding: 8px;\n  width: 50;\n}\n#T_274b2_row2_col1 {\n  width: 10em;\n  background: linear-gradient(90deg, aquamarine 73.6%, transparent 73.6%);\n  padding: 8px;\n  width: 50;\n}\n#T_274b2_row3_col0 {\n  width: 10em;\n  padding: 8px;\n  width: 50;\n}\n#T_274b2_row3_col1 {\n  width: 10em;\n  background: linear-gradient(90deg, aquamarine 71.8%, transparent 71.8%);\n  padding: 8px;\n  width: 50;\n}\n#T_274b2_row4_col0, #T_274b2_row4_col1 {\n  width: 10em;\n  background: linear-gradient(90deg, aquamarine 100.0%, transparent 100.0%);\n  padding: 8px;\n  width: 50;\n}\n</style>\n<table id=\"T_274b2\">\n  <thead>\n    <tr>\n      <th class=\"blank\" >&nbsp;</th>\n      <th class=\"index_name level0\" >sex</th>\n      <th id=\"T_274b2_level0_col0\" class=\"col_heading level0 col0\" >Female</th>\n      <th id=\"T_274b2_level0_col1\" class=\"col_heading level0 col1\" >Male</th>\n    </tr>\n    <tr>\n      <th class=\"index_name level0\" >species</th>\n      <th class=\"index_name level1\" >island</th>\n      <th class=\"blank col0\" >&nbsp;</th>\n      <th class=\"blank col1\" >&nbsp;</th>\n    </tr>\n  </thead>\n  <tbody>\n    <tr>\n      <th id=\"T_274b2_level0_row0\" class=\"row_heading level0 row0\" rowspan=\"3\">Adelie</th>\n      <th id=\"T_274b2_level1_row0\" class=\"row_heading level1 row0\" >Biscoe</th>\n      <td id=\"T_274b2_row0_col0\" class=\"data row0 col0\" >3369.318182</td>\n      <td id=\"T_274b2_row0_col1\" class=\"data row0 col1\" >4050.000000</td>\n    </tr>\n    <tr>\n      <th id=\"T_274b2_level1_row1\" class=\"row_heading level1 row1\" >Dream</th>\n      <td id=\"T_274b2_row1_col0\" class=\"data row1 col0\" >3344.444444</td>\n      <td id=\"T_274b2_row1_col1\" class=\"data row1 col1\" >4045.535714</td>\n    </tr>\n    <tr>\n      <th id=\"T_274b2_level1_row2\" class=\"row_heading level1 row2\" >Torgersen</th>\n      <td id=\"T_274b2_row2_col0\" class=\"data row2 col0\" >3395.833333</td>\n      <td id=\"T_274b2_row2_col1\" class=\"data row2 col1\" >4034.782609</td>\n    </tr>\n    <tr>\n      <th id=\"T_274b2_level0_row3\" class=\"row_heading level0 row3\" >Chinstrap</th>\n      <th id=\"T_274b2_level1_row3\" class=\"row_heading level1 row3\" >Dream</th>\n      <td id=\"T_274b2_row3_col0\" class=\"data row3 col0\" >nan</td>\n      <td id=\"T_274b2_row3_col1\" class=\"data row3 col1\" >3938.970588</td>\n    </tr>\n    <tr>\n      <th id=\"T_274b2_level0_row4\" class=\"row_heading level0 row4\" >Gentoo</th>\n      <th id=\"T_274b2_level1_row4\" class=\"row_heading level1 row4\" >Biscoe</th>\n      <td id=\"T_274b2_row4_col0\" class=\"data row4 col0\" >4679.741379</td>\n      <td id=\"T_274b2_row4_col1\" class=\"data row4 col1\" >5484.836066</td>\n    </tr>\n  </tbody>\n</table>\n"
     },
     "execution_count": 37,
     "metadata": {},
     "output_type": "execute_result"
    }
   ],
   "source": [
    "# Example 7\n",
    "(pivot.style\n",
    "     .bar(color='aquamarine')\n",
    "     .set_properties(padding='8px', width='50')) \n"
   ],
   "metadata": {
    "collapsed": false,
    "ExecuteTime": {
     "end_time": "2024-01-06T17:44:02.673781Z",
     "start_time": "2024-01-06T17:44:02.629423Z"
    }
   },
   "id": "a720ae0e162604b1",
   "execution_count": 37
  },
  {
   "cell_type": "code",
   "outputs": [
    {
     "data": {
      "text/plain": "<pandas.io.formats.style.Styler at 0x15e8db1d0>",
      "text/html": "<style type=\"text/css\">\n#T_52bf8 th.col_heading {\n  text-align: center;\n}\n#T_52bf8_row0_col0, #T_52bf8_row1_col0, #T_52bf8_row2_col0, #T_52bf8_row3_col0, #T_52bf8_row4_col0, #T_52bf8_row5_col0 {\n  text-align: center;\n}\n#T_52bf8_row0_col1 {\n  width: 10em;\n  background: linear-gradient(90deg, transparent 40.0%, lightgreen 40.0%, lightgreen 100.0%, transparent 100.0%);\n  text-align: center;\n}\n#T_52bf8_row1_col1 {\n  width: 10em;\n  background: linear-gradient(90deg, transparent 40.0%, lightgreen 40.0%, lightgreen 60.0%, transparent 60.0%);\n  text-align: center;\n}\n#T_52bf8_row2_col1 {\n  width: 10em;\n  background: linear-gradient(90deg, transparent 40.0%, lightgreen 40.0%, lightgreen 42.0%, transparent 42.0%);\n  text-align: center;\n}\n#T_52bf8_row3_col1 {\n  width: 10em;\n  background: linear-gradient(90deg, transparent 30.0%, salmon 30.0%, salmon 40.0%, transparent 40.0%);\n  text-align: center;\n}\n#T_52bf8_row4_col1 {\n  width: 10em;\n  background: linear-gradient(90deg, transparent 20.0%, salmon 20.0%, salmon 40.0%, transparent 40.0%);\n  text-align: center;\n}\n#T_52bf8_row5_col1 {\n  width: 10em;\n  background: linear-gradient(90deg, salmon 40.0%, transparent 40.0%);\n  text-align: center;\n}\n</style>\n<table id=\"T_52bf8\">\n  <thead>\n    <tr>\n      <th class=\"blank level0\" >&nbsp;</th>\n      <th id=\"T_52bf8_level0_col0\" class=\"col_heading level0 col0\" >feature</th>\n      <th id=\"T_52bf8_level0_col1\" class=\"col_heading level0 col1\" >coefficient</th>\n    </tr>\n  </thead>\n  <tbody>\n    <tr>\n      <th id=\"T_52bf8_level0_row0\" class=\"row_heading level0 row0\" >0</th>\n      <td id=\"T_52bf8_row0_col0\" class=\"data row0 col0\" >a</td>\n      <td id=\"T_52bf8_row0_col1\" class=\"data row0 col1\" >30</td>\n    </tr>\n    <tr>\n      <th id=\"T_52bf8_level0_row1\" class=\"row_heading level0 row1\" >1</th>\n      <td id=\"T_52bf8_row1_col0\" class=\"data row1 col0\" >b</td>\n      <td id=\"T_52bf8_row1_col1\" class=\"data row1 col1\" >10</td>\n    </tr>\n    <tr>\n      <th id=\"T_52bf8_level0_row2\" class=\"row_heading level0 row2\" >2</th>\n      <td id=\"T_52bf8_row2_col0\" class=\"data row2 col0\" >c</td>\n      <td id=\"T_52bf8_row2_col1\" class=\"data row2 col1\" >1</td>\n    </tr>\n    <tr>\n      <th id=\"T_52bf8_level0_row3\" class=\"row_heading level0 row3\" >3</th>\n      <td id=\"T_52bf8_row3_col0\" class=\"data row3 col0\" >d</td>\n      <td id=\"T_52bf8_row3_col1\" class=\"data row3 col1\" >-5</td>\n    </tr>\n    <tr>\n      <th id=\"T_52bf8_level0_row4\" class=\"row_heading level0 row4\" >4</th>\n      <td id=\"T_52bf8_row4_col0\" class=\"data row4 col0\" >e</td>\n      <td id=\"T_52bf8_row4_col1\" class=\"data row4 col1\" >-10</td>\n    </tr>\n    <tr>\n      <th id=\"T_52bf8_level0_row5\" class=\"row_heading level0 row5\" >5</th>\n      <td id=\"T_52bf8_row5_col0\" class=\"data row5 col0\" >f</td>\n      <td id=\"T_52bf8_row5_col1\" class=\"data row5 col1\" >-20</td>\n    </tr>\n  </tbody>\n</table>\n"
     },
     "execution_count": 38,
     "metadata": {},
     "output_type": "execute_result"
    }
   ],
   "source": [
    "# Example 8\n",
    "(pd.DataFrame({'feature': ['a', 'b', 'c', 'd', 'e', 'f'],  \n",
    "               'coefficient': [30, 10, 1, -5, -10, -20]}).style\n",
    "   .bar(color=['salmon', 'lightgreen'], align='mid')\n",
    "   .set_properties(**{'text-align': 'center'})\n",
    "   .set_table_styles([{'selector': 'th.col_heading', \n",
    "                       'props': 'text-align: center'}]))"
   ],
   "metadata": {
    "collapsed": false,
    "ExecuteTime": {
     "end_time": "2024-01-06T17:44:02.675502Z",
     "start_time": "2024-01-06T17:44:02.636885Z"
    }
   },
   "id": "6c0a53d03c319c66",
   "execution_count": 38
  },
  {
   "cell_type": "markdown",
   "source": [
    "### 1.3. Highlighting\n",
    "There are times when highlighting values based on conditions can be useful. In this section, we will learn about a few functions to highlight special values.\n",
    "\n",
    "Firstly, we can highlight minimum values from each column like this:\n",
    "\n",
    "```python\n",
    "pivot.style.highlight_min(color='pin')\n",
    "```\n",
    "__Example 9__\n",
    "\n",
    "We can also highlight maximum values from each column:\n",
    "```python\n",
    "pivot.style.highlight_max(color='lightgreen')\n",
    "```\n",
    "__Example 10__\n",
    "\n",
    "We can highlight the minimum and maximum values from each column:\n",
    "```python\n",
    "pivot.style.highlight_min(color='pink').highlight_max(color='lightgreen')\n",
    "```\n",
    "__Example 11__\n",
    "\n",
    "There is also a function for highlighting missing values. Let’s add it to the previous code snippet:\n",
    "\n",
    "```python\n",
    "(pivot.style\n",
    "      .highlight_min(color='pink')\n",
    "      .highlight_max(color='lightgreen')\n",
    "      .highlight_null(null_color='grey'))\n",
    "```\n",
    "__Example 12__\n",
    "\n",
    "We can highlight values between a range like below:\n",
    "\n",
    "```python\n",
    "pivot.style.highlight_between(left=3500, right=4500, color='gold')\n",
    "```\n",
    "__Example 13__\n",
    "\n",
    "We can also highlight quantiles:\n",
    "\n",
    "```python\n",
    "pivot.style.highlight_quantile(q_left=0.7, axis=None, \n",
    "                               color='#4ADBC8')\n",
    "```\n",
    "__Example 14__\n",
    "\n"
   ],
   "metadata": {
    "collapsed": false
   },
   "id": "cac257da515e08b7"
  },
  {
   "cell_type": "code",
   "outputs": [
    {
     "data": {
      "text/plain": "<pandas.io.formats.style.Styler at 0x15e8bb290>",
      "text/html": "<style type=\"text/css\">\n#T_74a19_row1_col0, #T_74a19_row3_col1 {\n  background-color: pink;\n}\n</style>\n<table id=\"T_74a19\">\n  <thead>\n    <tr>\n      <th class=\"blank\" >&nbsp;</th>\n      <th class=\"index_name level0\" >sex</th>\n      <th id=\"T_74a19_level0_col0\" class=\"col_heading level0 col0\" >Female</th>\n      <th id=\"T_74a19_level0_col1\" class=\"col_heading level0 col1\" >Male</th>\n    </tr>\n    <tr>\n      <th class=\"index_name level0\" >species</th>\n      <th class=\"index_name level1\" >island</th>\n      <th class=\"blank col0\" >&nbsp;</th>\n      <th class=\"blank col1\" >&nbsp;</th>\n    </tr>\n  </thead>\n  <tbody>\n    <tr>\n      <th id=\"T_74a19_level0_row0\" class=\"row_heading level0 row0\" rowspan=\"3\">Adelie</th>\n      <th id=\"T_74a19_level1_row0\" class=\"row_heading level1 row0\" >Biscoe</th>\n      <td id=\"T_74a19_row0_col0\" class=\"data row0 col0\" >3369.318182</td>\n      <td id=\"T_74a19_row0_col1\" class=\"data row0 col1\" >4050.000000</td>\n    </tr>\n    <tr>\n      <th id=\"T_74a19_level1_row1\" class=\"row_heading level1 row1\" >Dream</th>\n      <td id=\"T_74a19_row1_col0\" class=\"data row1 col0\" >3344.444444</td>\n      <td id=\"T_74a19_row1_col1\" class=\"data row1 col1\" >4045.535714</td>\n    </tr>\n    <tr>\n      <th id=\"T_74a19_level1_row2\" class=\"row_heading level1 row2\" >Torgersen</th>\n      <td id=\"T_74a19_row2_col0\" class=\"data row2 col0\" >3395.833333</td>\n      <td id=\"T_74a19_row2_col1\" class=\"data row2 col1\" >4034.782609</td>\n    </tr>\n    <tr>\n      <th id=\"T_74a19_level0_row3\" class=\"row_heading level0 row3\" >Chinstrap</th>\n      <th id=\"T_74a19_level1_row3\" class=\"row_heading level1 row3\" >Dream</th>\n      <td id=\"T_74a19_row3_col0\" class=\"data row3 col0\" >nan</td>\n      <td id=\"T_74a19_row3_col1\" class=\"data row3 col1\" >3938.970588</td>\n    </tr>\n    <tr>\n      <th id=\"T_74a19_level0_row4\" class=\"row_heading level0 row4\" >Gentoo</th>\n      <th id=\"T_74a19_level1_row4\" class=\"row_heading level1 row4\" >Biscoe</th>\n      <td id=\"T_74a19_row4_col0\" class=\"data row4 col0\" >4679.741379</td>\n      <td id=\"T_74a19_row4_col1\" class=\"data row4 col1\" >5484.836066</td>\n    </tr>\n  </tbody>\n</table>\n"
     },
     "execution_count": 39,
     "metadata": {},
     "output_type": "execute_result"
    }
   ],
   "source": [
    "# Example 9\n",
    "pivot.style.highlight_min(color='pink')\n"
   ],
   "metadata": {
    "collapsed": false,
    "ExecuteTime": {
     "end_time": "2024-01-06T17:44:02.685896Z",
     "start_time": "2024-01-06T17:44:02.678976Z"
    }
   },
   "id": "c7352e7f243ee095",
   "execution_count": 39
  },
  {
   "cell_type": "code",
   "outputs": [
    {
     "data": {
      "text/plain": "<pandas.io.formats.style.Styler at 0x15e853310>",
      "text/html": "<style type=\"text/css\">\n#T_95e0b_row4_col0, #T_95e0b_row4_col1 {\n  background-color: lightgreen;\n}\n</style>\n<table id=\"T_95e0b\">\n  <thead>\n    <tr>\n      <th class=\"blank\" >&nbsp;</th>\n      <th class=\"index_name level0\" >sex</th>\n      <th id=\"T_95e0b_level0_col0\" class=\"col_heading level0 col0\" >Female</th>\n      <th id=\"T_95e0b_level0_col1\" class=\"col_heading level0 col1\" >Male</th>\n    </tr>\n    <tr>\n      <th class=\"index_name level0\" >species</th>\n      <th class=\"index_name level1\" >island</th>\n      <th class=\"blank col0\" >&nbsp;</th>\n      <th class=\"blank col1\" >&nbsp;</th>\n    </tr>\n  </thead>\n  <tbody>\n    <tr>\n      <th id=\"T_95e0b_level0_row0\" class=\"row_heading level0 row0\" rowspan=\"3\">Adelie</th>\n      <th id=\"T_95e0b_level1_row0\" class=\"row_heading level1 row0\" >Biscoe</th>\n      <td id=\"T_95e0b_row0_col0\" class=\"data row0 col0\" >3369.318182</td>\n      <td id=\"T_95e0b_row0_col1\" class=\"data row0 col1\" >4050.000000</td>\n    </tr>\n    <tr>\n      <th id=\"T_95e0b_level1_row1\" class=\"row_heading level1 row1\" >Dream</th>\n      <td id=\"T_95e0b_row1_col0\" class=\"data row1 col0\" >3344.444444</td>\n      <td id=\"T_95e0b_row1_col1\" class=\"data row1 col1\" >4045.535714</td>\n    </tr>\n    <tr>\n      <th id=\"T_95e0b_level1_row2\" class=\"row_heading level1 row2\" >Torgersen</th>\n      <td id=\"T_95e0b_row2_col0\" class=\"data row2 col0\" >3395.833333</td>\n      <td id=\"T_95e0b_row2_col1\" class=\"data row2 col1\" >4034.782609</td>\n    </tr>\n    <tr>\n      <th id=\"T_95e0b_level0_row3\" class=\"row_heading level0 row3\" >Chinstrap</th>\n      <th id=\"T_95e0b_level1_row3\" class=\"row_heading level1 row3\" >Dream</th>\n      <td id=\"T_95e0b_row3_col0\" class=\"data row3 col0\" >nan</td>\n      <td id=\"T_95e0b_row3_col1\" class=\"data row3 col1\" >3938.970588</td>\n    </tr>\n    <tr>\n      <th id=\"T_95e0b_level0_row4\" class=\"row_heading level0 row4\" >Gentoo</th>\n      <th id=\"T_95e0b_level1_row4\" class=\"row_heading level1 row4\" >Biscoe</th>\n      <td id=\"T_95e0b_row4_col0\" class=\"data row4 col0\" >4679.741379</td>\n      <td id=\"T_95e0b_row4_col1\" class=\"data row4 col1\" >5484.836066</td>\n    </tr>\n  </tbody>\n</table>\n"
     },
     "execution_count": 40,
     "metadata": {},
     "output_type": "execute_result"
    }
   ],
   "source": [
    "# Example 10\n",
    "pivot.style.highlight_max(color='lightgreen')\n"
   ],
   "metadata": {
    "collapsed": false,
    "ExecuteTime": {
     "end_time": "2024-01-06T17:44:02.686838Z",
     "start_time": "2024-01-06T17:44:02.683153Z"
    }
   },
   "id": "746a98050f917c28",
   "execution_count": 40
  },
  {
   "cell_type": "code",
   "outputs": [
    {
     "data": {
      "text/plain": "<pandas.io.formats.style.Styler at 0x15e8dac50>",
      "text/html": "<style type=\"text/css\">\n#T_3ba02_row1_col0, #T_3ba02_row3_col1 {\n  background-color: pink;\n}\n#T_3ba02_row4_col0, #T_3ba02_row4_col1 {\n  background-color: lightgreen;\n}\n</style>\n<table id=\"T_3ba02\">\n  <thead>\n    <tr>\n      <th class=\"blank\" >&nbsp;</th>\n      <th class=\"index_name level0\" >sex</th>\n      <th id=\"T_3ba02_level0_col0\" class=\"col_heading level0 col0\" >Female</th>\n      <th id=\"T_3ba02_level0_col1\" class=\"col_heading level0 col1\" >Male</th>\n    </tr>\n    <tr>\n      <th class=\"index_name level0\" >species</th>\n      <th class=\"index_name level1\" >island</th>\n      <th class=\"blank col0\" >&nbsp;</th>\n      <th class=\"blank col1\" >&nbsp;</th>\n    </tr>\n  </thead>\n  <tbody>\n    <tr>\n      <th id=\"T_3ba02_level0_row0\" class=\"row_heading level0 row0\" rowspan=\"3\">Adelie</th>\n      <th id=\"T_3ba02_level1_row0\" class=\"row_heading level1 row0\" >Biscoe</th>\n      <td id=\"T_3ba02_row0_col0\" class=\"data row0 col0\" >3369.318182</td>\n      <td id=\"T_3ba02_row0_col1\" class=\"data row0 col1\" >4050.000000</td>\n    </tr>\n    <tr>\n      <th id=\"T_3ba02_level1_row1\" class=\"row_heading level1 row1\" >Dream</th>\n      <td id=\"T_3ba02_row1_col0\" class=\"data row1 col0\" >3344.444444</td>\n      <td id=\"T_3ba02_row1_col1\" class=\"data row1 col1\" >4045.535714</td>\n    </tr>\n    <tr>\n      <th id=\"T_3ba02_level1_row2\" class=\"row_heading level1 row2\" >Torgersen</th>\n      <td id=\"T_3ba02_row2_col0\" class=\"data row2 col0\" >3395.833333</td>\n      <td id=\"T_3ba02_row2_col1\" class=\"data row2 col1\" >4034.782609</td>\n    </tr>\n    <tr>\n      <th id=\"T_3ba02_level0_row3\" class=\"row_heading level0 row3\" >Chinstrap</th>\n      <th id=\"T_3ba02_level1_row3\" class=\"row_heading level1 row3\" >Dream</th>\n      <td id=\"T_3ba02_row3_col0\" class=\"data row3 col0\" >nan</td>\n      <td id=\"T_3ba02_row3_col1\" class=\"data row3 col1\" >3938.970588</td>\n    </tr>\n    <tr>\n      <th id=\"T_3ba02_level0_row4\" class=\"row_heading level0 row4\" >Gentoo</th>\n      <th id=\"T_3ba02_level1_row4\" class=\"row_heading level1 row4\" >Biscoe</th>\n      <td id=\"T_3ba02_row4_col0\" class=\"data row4 col0\" >4679.741379</td>\n      <td id=\"T_3ba02_row4_col1\" class=\"data row4 col1\" >5484.836066</td>\n    </tr>\n  </tbody>\n</table>\n"
     },
     "execution_count": 41,
     "metadata": {},
     "output_type": "execute_result"
    }
   ],
   "source": [
    "# Example 11\n",
    "pivot.style.highlight_min(color='pink').highlight_max(color='lightgreen')\n"
   ],
   "metadata": {
    "collapsed": false,
    "ExecuteTime": {
     "end_time": "2024-01-06T17:44:02.693424Z",
     "start_time": "2024-01-06T17:44:02.688996Z"
    }
   },
   "id": "66e764cc2dabba04",
   "execution_count": 41
  },
  {
   "cell_type": "code",
   "outputs": [
    {
     "data": {
      "text/plain": "<pandas.io.formats.style.Styler at 0x15e8b65d0>",
      "text/html": "<style type=\"text/css\">\n#T_cac74_row1_col0, #T_cac74_row3_col1 {\n  background-color: pink;\n}\n#T_cac74_row3_col0 {\n  background-color: grey;\n}\n#T_cac74_row4_col0, #T_cac74_row4_col1 {\n  background-color: lightgreen;\n}\n</style>\n<table id=\"T_cac74\">\n  <thead>\n    <tr>\n      <th class=\"blank\" >&nbsp;</th>\n      <th class=\"index_name level0\" >sex</th>\n      <th id=\"T_cac74_level0_col0\" class=\"col_heading level0 col0\" >Female</th>\n      <th id=\"T_cac74_level0_col1\" class=\"col_heading level0 col1\" >Male</th>\n    </tr>\n    <tr>\n      <th class=\"index_name level0\" >species</th>\n      <th class=\"index_name level1\" >island</th>\n      <th class=\"blank col0\" >&nbsp;</th>\n      <th class=\"blank col1\" >&nbsp;</th>\n    </tr>\n  </thead>\n  <tbody>\n    <tr>\n      <th id=\"T_cac74_level0_row0\" class=\"row_heading level0 row0\" rowspan=\"3\">Adelie</th>\n      <th id=\"T_cac74_level1_row0\" class=\"row_heading level1 row0\" >Biscoe</th>\n      <td id=\"T_cac74_row0_col0\" class=\"data row0 col0\" >3369.318182</td>\n      <td id=\"T_cac74_row0_col1\" class=\"data row0 col1\" >4050.000000</td>\n    </tr>\n    <tr>\n      <th id=\"T_cac74_level1_row1\" class=\"row_heading level1 row1\" >Dream</th>\n      <td id=\"T_cac74_row1_col0\" class=\"data row1 col0\" >3344.444444</td>\n      <td id=\"T_cac74_row1_col1\" class=\"data row1 col1\" >4045.535714</td>\n    </tr>\n    <tr>\n      <th id=\"T_cac74_level1_row2\" class=\"row_heading level1 row2\" >Torgersen</th>\n      <td id=\"T_cac74_row2_col0\" class=\"data row2 col0\" >3395.833333</td>\n      <td id=\"T_cac74_row2_col1\" class=\"data row2 col1\" >4034.782609</td>\n    </tr>\n    <tr>\n      <th id=\"T_cac74_level0_row3\" class=\"row_heading level0 row3\" >Chinstrap</th>\n      <th id=\"T_cac74_level1_row3\" class=\"row_heading level1 row3\" >Dream</th>\n      <td id=\"T_cac74_row3_col0\" class=\"data row3 col0\" >nan</td>\n      <td id=\"T_cac74_row3_col1\" class=\"data row3 col1\" >3938.970588</td>\n    </tr>\n    <tr>\n      <th id=\"T_cac74_level0_row4\" class=\"row_heading level0 row4\" >Gentoo</th>\n      <th id=\"T_cac74_level1_row4\" class=\"row_heading level1 row4\" >Biscoe</th>\n      <td id=\"T_cac74_row4_col0\" class=\"data row4 col0\" >4679.741379</td>\n      <td id=\"T_cac74_row4_col1\" class=\"data row4 col1\" >5484.836066</td>\n    </tr>\n  </tbody>\n</table>\n"
     },
     "execution_count": 42,
     "metadata": {},
     "output_type": "execute_result"
    }
   ],
   "source": [
    "# Example 12\n",
    "(pivot.style\n",
    "      .highlight_min(color='pink')\n",
    "      .highlight_max(color='lightgreen')\n",
    "      .highlight_null(color='grey'))\n",
    "\n"
   ],
   "metadata": {
    "collapsed": false,
    "ExecuteTime": {
     "end_time": "2024-01-06T17:44:02.711230Z",
     "start_time": "2024-01-06T17:44:02.693876Z"
    }
   },
   "id": "fea86862438fe023",
   "execution_count": 42
  },
  {
   "cell_type": "code",
   "outputs": [
    {
     "data": {
      "text/plain": "<pandas.io.formats.style.Styler at 0x15e8ba290>",
      "text/html": "<style type=\"text/css\">\n#T_65748_row0_col1, #T_65748_row1_col1, #T_65748_row2_col1, #T_65748_row3_col1 {\n  background-color: gold;\n}\n</style>\n<table id=\"T_65748\">\n  <thead>\n    <tr>\n      <th class=\"blank\" >&nbsp;</th>\n      <th class=\"index_name level0\" >sex</th>\n      <th id=\"T_65748_level0_col0\" class=\"col_heading level0 col0\" >Female</th>\n      <th id=\"T_65748_level0_col1\" class=\"col_heading level0 col1\" >Male</th>\n    </tr>\n    <tr>\n      <th class=\"index_name level0\" >species</th>\n      <th class=\"index_name level1\" >island</th>\n      <th class=\"blank col0\" >&nbsp;</th>\n      <th class=\"blank col1\" >&nbsp;</th>\n    </tr>\n  </thead>\n  <tbody>\n    <tr>\n      <th id=\"T_65748_level0_row0\" class=\"row_heading level0 row0\" rowspan=\"3\">Adelie</th>\n      <th id=\"T_65748_level1_row0\" class=\"row_heading level1 row0\" >Biscoe</th>\n      <td id=\"T_65748_row0_col0\" class=\"data row0 col0\" >3369.318182</td>\n      <td id=\"T_65748_row0_col1\" class=\"data row0 col1\" >4050.000000</td>\n    </tr>\n    <tr>\n      <th id=\"T_65748_level1_row1\" class=\"row_heading level1 row1\" >Dream</th>\n      <td id=\"T_65748_row1_col0\" class=\"data row1 col0\" >3344.444444</td>\n      <td id=\"T_65748_row1_col1\" class=\"data row1 col1\" >4045.535714</td>\n    </tr>\n    <tr>\n      <th id=\"T_65748_level1_row2\" class=\"row_heading level1 row2\" >Torgersen</th>\n      <td id=\"T_65748_row2_col0\" class=\"data row2 col0\" >3395.833333</td>\n      <td id=\"T_65748_row2_col1\" class=\"data row2 col1\" >4034.782609</td>\n    </tr>\n    <tr>\n      <th id=\"T_65748_level0_row3\" class=\"row_heading level0 row3\" >Chinstrap</th>\n      <th id=\"T_65748_level1_row3\" class=\"row_heading level1 row3\" >Dream</th>\n      <td id=\"T_65748_row3_col0\" class=\"data row3 col0\" >nan</td>\n      <td id=\"T_65748_row3_col1\" class=\"data row3 col1\" >3938.970588</td>\n    </tr>\n    <tr>\n      <th id=\"T_65748_level0_row4\" class=\"row_heading level0 row4\" >Gentoo</th>\n      <th id=\"T_65748_level1_row4\" class=\"row_heading level1 row4\" >Biscoe</th>\n      <td id=\"T_65748_row4_col0\" class=\"data row4 col0\" >4679.741379</td>\n      <td id=\"T_65748_row4_col1\" class=\"data row4 col1\" >5484.836066</td>\n    </tr>\n  </tbody>\n</table>\n"
     },
     "execution_count": 43,
     "metadata": {},
     "output_type": "execute_result"
    }
   ],
   "source": [
    "# Example 13\n",
    "pivot.style.highlight_between(left=3500, right=4500, color='gold')\n"
   ],
   "metadata": {
    "collapsed": false,
    "ExecuteTime": {
     "end_time": "2024-01-06T17:44:02.711844Z",
     "start_time": "2024-01-06T17:44:02.698192Z"
    }
   },
   "id": "f60e2951868049bb",
   "execution_count": 43
  },
  {
   "cell_type": "code",
   "outputs": [
    {
     "data": {
      "text/plain": "<pandas.io.formats.style.Styler at 0x15e8da850>",
      "text/html": "<style type=\"text/css\">\n#T_50bf7_row0_col1, #T_50bf7_row4_col0, #T_50bf7_row4_col1 {\n  background-color: #4ADBC8;\n}\n</style>\n<table id=\"T_50bf7\">\n  <thead>\n    <tr>\n      <th class=\"blank\" >&nbsp;</th>\n      <th class=\"index_name level0\" >sex</th>\n      <th id=\"T_50bf7_level0_col0\" class=\"col_heading level0 col0\" >Female</th>\n      <th id=\"T_50bf7_level0_col1\" class=\"col_heading level0 col1\" >Male</th>\n    </tr>\n    <tr>\n      <th class=\"index_name level0\" >species</th>\n      <th class=\"index_name level1\" >island</th>\n      <th class=\"blank col0\" >&nbsp;</th>\n      <th class=\"blank col1\" >&nbsp;</th>\n    </tr>\n  </thead>\n  <tbody>\n    <tr>\n      <th id=\"T_50bf7_level0_row0\" class=\"row_heading level0 row0\" rowspan=\"3\">Adelie</th>\n      <th id=\"T_50bf7_level1_row0\" class=\"row_heading level1 row0\" >Biscoe</th>\n      <td id=\"T_50bf7_row0_col0\" class=\"data row0 col0\" >3369.318182</td>\n      <td id=\"T_50bf7_row0_col1\" class=\"data row0 col1\" >4050.000000</td>\n    </tr>\n    <tr>\n      <th id=\"T_50bf7_level1_row1\" class=\"row_heading level1 row1\" >Dream</th>\n      <td id=\"T_50bf7_row1_col0\" class=\"data row1 col0\" >3344.444444</td>\n      <td id=\"T_50bf7_row1_col1\" class=\"data row1 col1\" >4045.535714</td>\n    </tr>\n    <tr>\n      <th id=\"T_50bf7_level1_row2\" class=\"row_heading level1 row2\" >Torgersen</th>\n      <td id=\"T_50bf7_row2_col0\" class=\"data row2 col0\" >3395.833333</td>\n      <td id=\"T_50bf7_row2_col1\" class=\"data row2 col1\" >4034.782609</td>\n    </tr>\n    <tr>\n      <th id=\"T_50bf7_level0_row3\" class=\"row_heading level0 row3\" >Chinstrap</th>\n      <th id=\"T_50bf7_level1_row3\" class=\"row_heading level1 row3\" >Dream</th>\n      <td id=\"T_50bf7_row3_col0\" class=\"data row3 col0\" >nan</td>\n      <td id=\"T_50bf7_row3_col1\" class=\"data row3 col1\" >3938.970588</td>\n    </tr>\n    <tr>\n      <th id=\"T_50bf7_level0_row4\" class=\"row_heading level0 row4\" >Gentoo</th>\n      <th id=\"T_50bf7_level1_row4\" class=\"row_heading level1 row4\" >Biscoe</th>\n      <td id=\"T_50bf7_row4_col0\" class=\"data row4 col0\" >4679.741379</td>\n      <td id=\"T_50bf7_row4_col1\" class=\"data row4 col1\" >5484.836066</td>\n    </tr>\n  </tbody>\n</table>\n"
     },
     "execution_count": 44,
     "metadata": {},
     "output_type": "execute_result"
    }
   ],
   "source": [
    "# Example 14\n",
    "pivot.style.highlight_quantile(q_left=0.7, axis=None, \n",
    "                               color='#4ADBC8')"
   ],
   "metadata": {
    "collapsed": false,
    "ExecuteTime": {
     "end_time": "2024-01-06T17:44:02.712355Z",
     "start_time": "2024-01-06T17:44:02.700878Z"
    }
   },
   "id": "8b870eaa957fe9d9",
   "execution_count": 44
  },
  {
   "cell_type": "markdown",
   "source": [
    "### 1.4. Custom color-code\n",
    "In this last section, we will look at a few other ways to colour-code DataFrames using custom functions. We will use the following two methods to apply our custom styling functions:\n",
    "◼️ .applymap(): elementwise\n",
    "◼️ .apply(): column/row/tablewise\n"
   ],
   "metadata": {
    "collapsed": false
   },
   "id": "b7effe849ab483a6"
  },
  {
   "cell_type": "markdown",
   "source": [
    "#### 1.4.1. Elementwise application: applymap()\n",
    "Let’s create a small numerical data by slicing the top 8 rows from the numerical columns. We will use a lambda function to colour values above 190 as blue and the rest as grey:\n",
    "\n",
    "```python\n",
    "df_num = df.select_dtypes('number').head(8)\n",
    "(df_num.style\n",
    "    .applymap(lambda x: f\"color: {'blue' if x>190 else 'grey'}\"))\n",
    "```\n",
    "__Example 15__\n",
    "\n",
    "Let’s look at another example:\n",
    "\n",
    "```python\n",
    "green = 'background-color: lightgreen'\n",
    "pink = 'background-color: pink; color: white'\n",
    "(df_num.style\n",
    "       .applymap(lambda value: green if value>190 else pink))\n",
    "```\n",
    "__Example 16__\n",
    "\n",
    "We can convert the lambda function into a regular function and pass it to .applymap():\n",
    "\n",
    "```python\n",
    "def highlight_190(value):\n",
    "    green = 'background-color: lightgreen'\n",
    "    pink = 'background-color: pink; color: white'\n",
    "    return green if value > 190 else pink\n",
    "df_num.style.applymap(highlight_190)\n",
    "```\n",
    "__Example 17__\n"
   ],
   "metadata": {
    "collapsed": false
   },
   "id": "51d953d16bfb8eb"
  },
  {
   "cell_type": "code",
   "outputs": [],
   "source": [
    "# Example 15\n",
    "df_num = df.select_dtypes('number').head(8)\n",
    "(df_num.style\n",
    "    .applymap(lambda x: f\"color: {'blue' if x>190 else 'grey'}\"))\n"
   ],
   "metadata": {
    "collapsed": false
   },
   "id": "c06d2626fe4f7516"
  },
  {
   "cell_type": "code",
   "outputs": [],
   "source": [
    "# Example 16\n",
    "green = 'background-color: lightgreen'\n",
    "pink = 'background-color: pink; color: white'\n",
    "(df_num.style\n",
    "       .applymap(lambda value: green if value>190 else pink))\n"
   ],
   "metadata": {
    "collapsed": false
   },
   "id": "70307687eba16ab3"
  },
  {
   "cell_type": "code",
   "outputs": [],
   "source": [
    "# Example 17\n",
    "def highlight_190(value):\n",
    "    green = 'background-color: lightgreen'\n",
    "    pink = 'background-color: pink; color: white'\n",
    "    return green if value > 190 else pink\n",
    "\n",
    "df_num.style.applymap(highlight_190)\n"
   ],
   "metadata": {
    "collapsed": false
   },
   "id": "acf9acdc137fa6e6"
  }
 ],
 "metadata": {
  "kernelspec": {
   "display_name": "Python 3 (ipykernel)",
   "language": "python",
   "name": "python3"
  },
  "language_info": {
   "codemirror_mode": {
    "name": "ipython",
    "version": 3
   },
   "file_extension": ".py",
   "mimetype": "text/x-python",
   "name": "python",
   "nbconvert_exporter": "python",
   "pygments_lexer": "ipython3",
   "version": "3.11.5"
  }
 },
 "nbformat": 4,
 "nbformat_minor": 5
}
