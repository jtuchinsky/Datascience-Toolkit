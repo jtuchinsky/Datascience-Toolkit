{
 "cells": [
  {
   "cell_type": "markdown",
   "id": "221470ffba011ddb",
   "metadata": {},
   "source": [
    "# Prettifying pandas DataFrames"
   ]
  },
  {
   "cell_type": "markdown",
   "id": "a7294e9750dfcb87",
   "metadata": {},
   "source": [
    "## Data\n",
    "We will use Seaborn penguins dataset. It contains data on penguins from three different species collected from three islands in the Palmer Archipelago, Antarctica. The dataset contains 344 observations and 17 variables. The dataset is available in Seaborn library.\n"
   ]
  },
  {
   "cell_type": "code",
   "execution_count": 19,
   "id": "9746f7f4c92d559e",
   "metadata": {
    "ExecuteTime": {
     "end_time": "2024-01-05T23:31:51.176577Z",
     "start_time": "2024-01-05T23:31:51.165685Z"
    },
    "collapsed": false,
    "jupyter": {
     "outputs_hidden": false
    }
   },
   "outputs": [
    {
     "data": {
      "text/html": [
       "<div>\n",
       "<style scoped>\n",
       "    .dataframe tbody tr th:only-of-type {\n",
       "        vertical-align: middle;\n",
       "    }\n",
       "\n",
       "    .dataframe tbody tr th {\n",
       "        vertical-align: top;\n",
       "    }\n",
       "\n",
       "    .dataframe thead th {\n",
       "        text-align: right;\n",
       "    }\n",
       "</style>\n",
       "<table border=\"1\" class=\"dataframe\">\n",
       "  <thead>\n",
       "    <tr style=\"text-align: right;\">\n",
       "      <th></th>\n",
       "      <th>species</th>\n",
       "      <th>island</th>\n",
       "      <th>bill_length_mm</th>\n",
       "      <th>bill_depth_mm</th>\n",
       "      <th>flipper</th>\n",
       "      <th>mass</th>\n",
       "      <th>sex</th>\n",
       "    </tr>\n",
       "  </thead>\n",
       "  <tbody>\n",
       "    <tr>\n",
       "      <th>0</th>\n",
       "      <td>Adelie</td>\n",
       "      <td>Torgersen</td>\n",
       "      <td>39.1</td>\n",
       "      <td>18.7</td>\n",
       "      <td>181.0</td>\n",
       "      <td>3750.0</td>\n",
       "      <td>Male</td>\n",
       "    </tr>\n",
       "    <tr>\n",
       "      <th>1</th>\n",
       "      <td>Adelie</td>\n",
       "      <td>Torgersen</td>\n",
       "      <td>39.5</td>\n",
       "      <td>17.4</td>\n",
       "      <td>186.0</td>\n",
       "      <td>3800.0</td>\n",
       "      <td>Female</td>\n",
       "    </tr>\n",
       "    <tr>\n",
       "      <th>2</th>\n",
       "      <td>Adelie</td>\n",
       "      <td>Torgersen</td>\n",
       "      <td>40.3</td>\n",
       "      <td>18.0</td>\n",
       "      <td>195.0</td>\n",
       "      <td>3250.0</td>\n",
       "      <td>Female</td>\n",
       "    </tr>\n",
       "    <tr>\n",
       "      <th>3</th>\n",
       "      <td>Adelie</td>\n",
       "      <td>Torgersen</td>\n",
       "      <td>NaN</td>\n",
       "      <td>NaN</td>\n",
       "      <td>NaN</td>\n",
       "      <td>NaN</td>\n",
       "      <td>NaN</td>\n",
       "    </tr>\n",
       "    <tr>\n",
       "      <th>4</th>\n",
       "      <td>Adelie</td>\n",
       "      <td>Torgersen</td>\n",
       "      <td>36.7</td>\n",
       "      <td>19.3</td>\n",
       "      <td>193.0</td>\n",
       "      <td>3450.0</td>\n",
       "      <td>Female</td>\n",
       "    </tr>\n",
       "  </tbody>\n",
       "</table>\n",
       "</div>"
      ],
      "text/plain": [
       "  species     island  bill_length_mm  bill_depth_mm  flipper    mass     sex\n",
       "0  Adelie  Torgersen            39.1           18.7    181.0  3750.0    Male\n",
       "1  Adelie  Torgersen            39.5           17.4    186.0  3800.0  Female\n",
       "2  Adelie  Torgersen            40.3           18.0    195.0  3250.0  Female\n",
       "3  Adelie  Torgersen             NaN            NaN      NaN     NaN     NaN\n",
       "4  Adelie  Torgersen            36.7           19.3    193.0  3450.0  Female"
      ]
     },
     "execution_count": 19,
     "metadata": {},
     "output_type": "execute_result"
    }
   ],
   "source": [
    "from seaborn import load_dataset\n",
    "import pandas as pd\n",
    "import numpy as np\n",
    "\n",
    "pd.options.display.precision = 2\n",
    "\n",
    "# Load the data\n",
    "columns = {'culmen_length_mm': 'length', \n",
    "           'culmen_depth_mm': 'depth',\n",
    "           'flipper_length_mm': 'flipper',\n",
    "           'body_mass_g': 'mass'}\n",
    "df = load_dataset('penguins').rename(columns=columns)\n",
    "df.head()\n"
   ]
  },
  {
   "cell_type": "code",
   "execution_count": 20,
   "id": "dc4928a970574ada",
   "metadata": {
    "ExecuteTime": {
     "end_time": "2024-01-05T23:31:51.183765Z",
     "start_time": "2024-01-05T23:31:51.180538Z"
    },
    "collapsed": false,
    "jupyter": {
     "outputs_hidden": false
    }
   },
   "outputs": [
    {
     "name": "stdout",
     "output_type": "stream",
     "text": [
      "<class 'pandas.core.frame.DataFrame'>\n",
      "RangeIndex: 344 entries, 0 to 343\n",
      "Data columns (total 7 columns):\n",
      " #   Column          Non-Null Count  Dtype  \n",
      "---  ------          --------------  -----  \n",
      " 0   species         344 non-null    object \n",
      " 1   island          344 non-null    object \n",
      " 2   bill_length_mm  342 non-null    float64\n",
      " 3   bill_depth_mm   342 non-null    float64\n",
      " 4   flipper         342 non-null    float64\n",
      " 5   mass            342 non-null    float64\n",
      " 6   sex             333 non-null    object \n",
      "dtypes: float64(4), object(3)\n",
      "memory usage: 18.9+ KB\n"
     ]
    }
   ],
   "source": [
    "df.info()"
   ]
  },
  {
   "cell_type": "markdown",
   "id": "19b5383bfcd717db",
   "metadata": {},
   "source": [
    "## 1. Prettifying DataFrames with Styler\n",
    "Styler is a class that allows to format and style DataFrames and Series. It is available in pandas since version 0.17.0. It is a very powerful tool that allows to create nice looking tables. It is also possible to export the styled tables to Excel or HTML files which can be further styled using CSS. \n",
    "\n"
   ]
  },
  {
   "cell_type": "markdown",
   "id": "51ebdfa75b34e9d0",
   "metadata": {},
   "source": [
    "### 1.1. Gradients\n",
    "Styler allows to apply gradients to the DataFrame. It is possible to apply gradients to the whole DataFrame or to a subset of columns. The gradient is calculated based on the values in the DataFrame. The values are normalized to the range [0, 1] and the gradient is applied to the normalized values. The gradient is applied to each row separately.\n",
    "\n",
    "```python\n",
    "correlation_matrix = df.corr()\n",
    "correlation_matrix.style.background_gradient(cmap='seismic_r', axis=None)\n",
    "```\n",
    "** Example 1 **\n",
    "\n",
    "Adding background gradient takes only an extra line of code. By passing axis=None, the colour gradients are applied along the entire table rather than within a specific axis. The name of the desired colour palette is passed onto the cmap parameter. For this parameter, we can use any Matplotlib colourmap. Here’s a useful tip for colourmaps: If you ever need to flip the colour scale, adding _r suffix to the colour map name will do the trick. For instance, if we used 'seismic' instead of 'seismic_r', negative correlations would have been blue and positive correlations would have been red.\n",
    "\n",
    "Let's add some more styling to the table. We center-aligned the values `({'text-align': 'center'})` and increased the row height `({'padding': '12px' )` with `.set_properties()`. Then, we added a caption above the table with `.set_caption()`. \n",
    "\n",
    "```python\n",
    "correlation_matrix.style.background_gradient(cmap='seismic_r', axis=None)\\\n",
    "    .set_properties(**{'text-align': 'center', 'padding': '12px'})\\\n",
    "    .set_caption('Correlation matrix')\n",
    "```\n",
    "** Example 2 **\n",
    "\n",
    "In this example, we have applied colour gradients to the background. We can also apply colour gradients to the text with `.text_gradient()`:\n",
    "\n",
    "```python\n",
    "correlation_matrix.style.text_gradient(cmap='seismic_r', axis=None)\\\n",
    "    .set_properties(**{'text-align': 'center', 'padding': '12px'})\\\n",
    "    .set_caption('Correlation matrix')\n",
    "```\n",
    "** Example 3 **\n"
   ]
  },
  {
   "cell_type": "code",
   "execution_count": 21,
   "id": "e9ea584528f77b5b",
   "metadata": {
    "ExecuteTime": {
     "end_time": "2024-01-05T23:31:51.199247Z",
     "start_time": "2024-01-05T23:31:51.183367Z"
    },
    "collapsed": false,
    "jupyter": {
     "outputs_hidden": false
    }
   },
   "outputs": [
    {
     "data": {
      "text/html": [
       "<style type=\"text/css\">\n",
       "#T_e9d27_row0_col0, #T_e9d27_row1_col1, #T_e9d27_row2_col2, #T_e9d27_row3_col3 {\n",
       "  background-color: #00004c;\n",
       "  color: #f1f1f1;\n",
       "}\n",
       "#T_e9d27_row0_col1, #T_e9d27_row1_col0 {\n",
       "  background-color: #f00000;\n",
       "  color: #f1f1f1;\n",
       "}\n",
       "#T_e9d27_row0_col2, #T_e9d27_row2_col0 {\n",
       "  background-color: #0000e6;\n",
       "  color: #f1f1f1;\n",
       "}\n",
       "#T_e9d27_row0_col3, #T_e9d27_row3_col0 {\n",
       "  background-color: #0505ff;\n",
       "  color: #f1f1f1;\n",
       "}\n",
       "#T_e9d27_row1_col2, #T_e9d27_row2_col1 {\n",
       "  background-color: #800000;\n",
       "  color: #f1f1f1;\n",
       "}\n",
       "#T_e9d27_row1_col3, #T_e9d27_row3_col1 {\n",
       "  background-color: #a30000;\n",
       "  color: #f1f1f1;\n",
       "}\n",
       "#T_e9d27_row2_col3, #T_e9d27_row3_col2 {\n",
       "  background-color: #000084;\n",
       "  color: #f1f1f1;\n",
       "}\n",
       "</style>\n",
       "<table id=\"T_e9d27\">\n",
       "  <thead>\n",
       "    <tr>\n",
       "      <th class=\"blank level0\" >&nbsp;</th>\n",
       "      <th id=\"T_e9d27_level0_col0\" class=\"col_heading level0 col0\" >bill_length_mm</th>\n",
       "      <th id=\"T_e9d27_level0_col1\" class=\"col_heading level0 col1\" >bill_depth_mm</th>\n",
       "      <th id=\"T_e9d27_level0_col2\" class=\"col_heading level0 col2\" >flipper</th>\n",
       "      <th id=\"T_e9d27_level0_col3\" class=\"col_heading level0 col3\" >mass</th>\n",
       "    </tr>\n",
       "  </thead>\n",
       "  <tbody>\n",
       "    <tr>\n",
       "      <th id=\"T_e9d27_level0_row0\" class=\"row_heading level0 row0\" >bill_length_mm</th>\n",
       "      <td id=\"T_e9d27_row0_col0\" class=\"data row0 col0\" >1.000000</td>\n",
       "      <td id=\"T_e9d27_row0_col1\" class=\"data row0 col1\" >-0.235053</td>\n",
       "      <td id=\"T_e9d27_row0_col2\" class=\"data row0 col2\" >0.656181</td>\n",
       "      <td id=\"T_e9d27_row0_col3\" class=\"data row0 col3\" >0.595110</td>\n",
       "    </tr>\n",
       "    <tr>\n",
       "      <th id=\"T_e9d27_level0_row1\" class=\"row_heading level0 row1\" >bill_depth_mm</th>\n",
       "      <td id=\"T_e9d27_row1_col0\" class=\"data row1 col0\" >-0.235053</td>\n",
       "      <td id=\"T_e9d27_row1_col1\" class=\"data row1 col1\" >1.000000</td>\n",
       "      <td id=\"T_e9d27_row1_col2\" class=\"data row1 col2\" >-0.583851</td>\n",
       "      <td id=\"T_e9d27_row1_col3\" class=\"data row1 col3\" >-0.471916</td>\n",
       "    </tr>\n",
       "    <tr>\n",
       "      <th id=\"T_e9d27_level0_row2\" class=\"row_heading level0 row2\" >flipper</th>\n",
       "      <td id=\"T_e9d27_row2_col0\" class=\"data row2 col0\" >0.656181</td>\n",
       "      <td id=\"T_e9d27_row2_col1\" class=\"data row2 col1\" >-0.583851</td>\n",
       "      <td id=\"T_e9d27_row2_col2\" class=\"data row2 col2\" >1.000000</td>\n",
       "      <td id=\"T_e9d27_row2_col3\" class=\"data row2 col3\" >0.871202</td>\n",
       "    </tr>\n",
       "    <tr>\n",
       "      <th id=\"T_e9d27_level0_row3\" class=\"row_heading level0 row3\" >mass</th>\n",
       "      <td id=\"T_e9d27_row3_col0\" class=\"data row3 col0\" >0.595110</td>\n",
       "      <td id=\"T_e9d27_row3_col1\" class=\"data row3 col1\" >-0.471916</td>\n",
       "      <td id=\"T_e9d27_row3_col2\" class=\"data row3 col2\" >0.871202</td>\n",
       "      <td id=\"T_e9d27_row3_col3\" class=\"data row3 col3\" >1.000000</td>\n",
       "    </tr>\n",
       "  </tbody>\n",
       "</table>\n"
      ],
      "text/plain": [
       "<pandas.io.formats.style.Styler at 0x29b5a0850>"
      ]
     },
     "execution_count": 21,
     "metadata": {},
     "output_type": "execute_result"
    }
   ],
   "source": [
    "# Example 1\n",
    "correlation_matrix = df.corr(numeric_only=True)\n",
    "correlation_matrix.style.background_gradient(cmap='seismic_r', axis=None)"
   ]
  },
  {
   "cell_type": "code",
   "execution_count": 22,
   "id": "227a022a9c56d196",
   "metadata": {
    "ExecuteTime": {
     "end_time": "2024-01-05T23:31:51.199760Z",
     "start_time": "2024-01-05T23:31:51.189073Z"
    },
    "collapsed": false,
    "jupyter": {
     "outputs_hidden": false
    }
   },
   "outputs": [
    {
     "data": {
      "text/html": [
       "<style type=\"text/css\">\n",
       "#T_80e63_row0_col0, #T_80e63_row1_col1, #T_80e63_row2_col2, #T_80e63_row3_col3 {\n",
       "  background-color: #00004c;\n",
       "  color: #f1f1f1;\n",
       "  text-align: center;\n",
       "  padding: 12px;\n",
       "}\n",
       "#T_80e63_row0_col1, #T_80e63_row1_col0 {\n",
       "  background-color: #f00000;\n",
       "  color: #f1f1f1;\n",
       "  text-align: center;\n",
       "  padding: 12px;\n",
       "}\n",
       "#T_80e63_row0_col2, #T_80e63_row2_col0 {\n",
       "  background-color: #0000e6;\n",
       "  color: #f1f1f1;\n",
       "  text-align: center;\n",
       "  padding: 12px;\n",
       "}\n",
       "#T_80e63_row0_col3, #T_80e63_row3_col0 {\n",
       "  background-color: #0505ff;\n",
       "  color: #f1f1f1;\n",
       "  text-align: center;\n",
       "  padding: 12px;\n",
       "}\n",
       "#T_80e63_row1_col2, #T_80e63_row2_col1 {\n",
       "  background-color: #800000;\n",
       "  color: #f1f1f1;\n",
       "  text-align: center;\n",
       "  padding: 12px;\n",
       "}\n",
       "#T_80e63_row1_col3, #T_80e63_row3_col1 {\n",
       "  background-color: #a30000;\n",
       "  color: #f1f1f1;\n",
       "  text-align: center;\n",
       "  padding: 12px;\n",
       "}\n",
       "#T_80e63_row2_col3, #T_80e63_row3_col2 {\n",
       "  background-color: #000084;\n",
       "  color: #f1f1f1;\n",
       "  text-align: center;\n",
       "  padding: 12px;\n",
       "}\n",
       "</style>\n",
       "<table id=\"T_80e63\">\n",
       "  <caption>Correlation matrix</caption>\n",
       "  <thead>\n",
       "    <tr>\n",
       "      <th class=\"blank level0\" >&nbsp;</th>\n",
       "      <th id=\"T_80e63_level0_col0\" class=\"col_heading level0 col0\" >bill_length_mm</th>\n",
       "      <th id=\"T_80e63_level0_col1\" class=\"col_heading level0 col1\" >bill_depth_mm</th>\n",
       "      <th id=\"T_80e63_level0_col2\" class=\"col_heading level0 col2\" >flipper</th>\n",
       "      <th id=\"T_80e63_level0_col3\" class=\"col_heading level0 col3\" >mass</th>\n",
       "    </tr>\n",
       "  </thead>\n",
       "  <tbody>\n",
       "    <tr>\n",
       "      <th id=\"T_80e63_level0_row0\" class=\"row_heading level0 row0\" >bill_length_mm</th>\n",
       "      <td id=\"T_80e63_row0_col0\" class=\"data row0 col0\" >1.000000</td>\n",
       "      <td id=\"T_80e63_row0_col1\" class=\"data row0 col1\" >-0.235053</td>\n",
       "      <td id=\"T_80e63_row0_col2\" class=\"data row0 col2\" >0.656181</td>\n",
       "      <td id=\"T_80e63_row0_col3\" class=\"data row0 col3\" >0.595110</td>\n",
       "    </tr>\n",
       "    <tr>\n",
       "      <th id=\"T_80e63_level0_row1\" class=\"row_heading level0 row1\" >bill_depth_mm</th>\n",
       "      <td id=\"T_80e63_row1_col0\" class=\"data row1 col0\" >-0.235053</td>\n",
       "      <td id=\"T_80e63_row1_col1\" class=\"data row1 col1\" >1.000000</td>\n",
       "      <td id=\"T_80e63_row1_col2\" class=\"data row1 col2\" >-0.583851</td>\n",
       "      <td id=\"T_80e63_row1_col3\" class=\"data row1 col3\" >-0.471916</td>\n",
       "    </tr>\n",
       "    <tr>\n",
       "      <th id=\"T_80e63_level0_row2\" class=\"row_heading level0 row2\" >flipper</th>\n",
       "      <td id=\"T_80e63_row2_col0\" class=\"data row2 col0\" >0.656181</td>\n",
       "      <td id=\"T_80e63_row2_col1\" class=\"data row2 col1\" >-0.583851</td>\n",
       "      <td id=\"T_80e63_row2_col2\" class=\"data row2 col2\" >1.000000</td>\n",
       "      <td id=\"T_80e63_row2_col3\" class=\"data row2 col3\" >0.871202</td>\n",
       "    </tr>\n",
       "    <tr>\n",
       "      <th id=\"T_80e63_level0_row3\" class=\"row_heading level0 row3\" >mass</th>\n",
       "      <td id=\"T_80e63_row3_col0\" class=\"data row3 col0\" >0.595110</td>\n",
       "      <td id=\"T_80e63_row3_col1\" class=\"data row3 col1\" >-0.471916</td>\n",
       "      <td id=\"T_80e63_row3_col2\" class=\"data row3 col2\" >0.871202</td>\n",
       "      <td id=\"T_80e63_row3_col3\" class=\"data row3 col3\" >1.000000</td>\n",
       "    </tr>\n",
       "  </tbody>\n",
       "</table>\n"
      ],
      "text/plain": [
       "<pandas.io.formats.style.Styler at 0x29b582650>"
      ]
     },
     "metadata": {},
     "output_type": "display_data"
    }
   ],
   "source": [
    "# Example 2 \n",
    "styler = correlation_matrix.style.background_gradient(cmap='seismic_r', axis=None)\\\n",
    "    .set_properties(**{'text-align': 'center', 'padding': '12px'})\\\n",
    "    .set_caption('Correlation matrix')\n",
    "\n",
    "if styler:\n",
    "    display(styler)\n",
    "else:\n",
    "    print('Styler is None')"
   ]
  },
  {
   "cell_type": "code",
   "execution_count": 23,
   "id": "3349fa67d8fac87",
   "metadata": {
    "ExecuteTime": {
     "end_time": "2024-01-05T23:31:51.207930Z",
     "start_time": "2024-01-05T23:31:51.194996Z"
    },
    "collapsed": false,
    "jupyter": {
     "outputs_hidden": false
    }
   },
   "outputs": [
    {
     "data": {
      "text/html": [
       "<style type=\"text/css\">\n",
       "#T_7cd52_row0_col0, #T_7cd52_row1_col1, #T_7cd52_row2_col2, #T_7cd52_row3_col3 {\n",
       "  color: #00004c;\n",
       "  text-align: center;\n",
       "  padding: 12px;\n",
       "}\n",
       "#T_7cd52_row0_col1, #T_7cd52_row1_col0 {\n",
       "  color: #f00000;\n",
       "  text-align: center;\n",
       "  padding: 12px;\n",
       "}\n",
       "#T_7cd52_row0_col2, #T_7cd52_row2_col0 {\n",
       "  color: #0000e6;\n",
       "  text-align: center;\n",
       "  padding: 12px;\n",
       "}\n",
       "#T_7cd52_row0_col3, #T_7cd52_row3_col0 {\n",
       "  color: #0505ff;\n",
       "  text-align: center;\n",
       "  padding: 12px;\n",
       "}\n",
       "#T_7cd52_row1_col2, #T_7cd52_row2_col1 {\n",
       "  color: #800000;\n",
       "  text-align: center;\n",
       "  padding: 12px;\n",
       "}\n",
       "#T_7cd52_row1_col3, #T_7cd52_row3_col1 {\n",
       "  color: #a30000;\n",
       "  text-align: center;\n",
       "  padding: 12px;\n",
       "}\n",
       "#T_7cd52_row2_col3, #T_7cd52_row3_col2 {\n",
       "  color: #000084;\n",
       "  text-align: center;\n",
       "  padding: 12px;\n",
       "}\n",
       "</style>\n",
       "<table id=\"T_7cd52\">\n",
       "  <caption>Correlation matrix</caption>\n",
       "  <thead>\n",
       "    <tr>\n",
       "      <th class=\"blank level0\" >&nbsp;</th>\n",
       "      <th id=\"T_7cd52_level0_col0\" class=\"col_heading level0 col0\" >bill_length_mm</th>\n",
       "      <th id=\"T_7cd52_level0_col1\" class=\"col_heading level0 col1\" >bill_depth_mm</th>\n",
       "      <th id=\"T_7cd52_level0_col2\" class=\"col_heading level0 col2\" >flipper</th>\n",
       "      <th id=\"T_7cd52_level0_col3\" class=\"col_heading level0 col3\" >mass</th>\n",
       "    </tr>\n",
       "  </thead>\n",
       "  <tbody>\n",
       "    <tr>\n",
       "      <th id=\"T_7cd52_level0_row0\" class=\"row_heading level0 row0\" >bill_length_mm</th>\n",
       "      <td id=\"T_7cd52_row0_col0\" class=\"data row0 col0\" >1.000000</td>\n",
       "      <td id=\"T_7cd52_row0_col1\" class=\"data row0 col1\" >-0.235053</td>\n",
       "      <td id=\"T_7cd52_row0_col2\" class=\"data row0 col2\" >0.656181</td>\n",
       "      <td id=\"T_7cd52_row0_col3\" class=\"data row0 col3\" >0.595110</td>\n",
       "    </tr>\n",
       "    <tr>\n",
       "      <th id=\"T_7cd52_level0_row1\" class=\"row_heading level0 row1\" >bill_depth_mm</th>\n",
       "      <td id=\"T_7cd52_row1_col0\" class=\"data row1 col0\" >-0.235053</td>\n",
       "      <td id=\"T_7cd52_row1_col1\" class=\"data row1 col1\" >1.000000</td>\n",
       "      <td id=\"T_7cd52_row1_col2\" class=\"data row1 col2\" >-0.583851</td>\n",
       "      <td id=\"T_7cd52_row1_col3\" class=\"data row1 col3\" >-0.471916</td>\n",
       "    </tr>\n",
       "    <tr>\n",
       "      <th id=\"T_7cd52_level0_row2\" class=\"row_heading level0 row2\" >flipper</th>\n",
       "      <td id=\"T_7cd52_row2_col0\" class=\"data row2 col0\" >0.656181</td>\n",
       "      <td id=\"T_7cd52_row2_col1\" class=\"data row2 col1\" >-0.583851</td>\n",
       "      <td id=\"T_7cd52_row2_col2\" class=\"data row2 col2\" >1.000000</td>\n",
       "      <td id=\"T_7cd52_row2_col3\" class=\"data row2 col3\" >0.871202</td>\n",
       "    </tr>\n",
       "    <tr>\n",
       "      <th id=\"T_7cd52_level0_row3\" class=\"row_heading level0 row3\" >mass</th>\n",
       "      <td id=\"T_7cd52_row3_col0\" class=\"data row3 col0\" >0.595110</td>\n",
       "      <td id=\"T_7cd52_row3_col1\" class=\"data row3 col1\" >-0.471916</td>\n",
       "      <td id=\"T_7cd52_row3_col2\" class=\"data row3 col2\" >0.871202</td>\n",
       "      <td id=\"T_7cd52_row3_col3\" class=\"data row3 col3\" >1.000000</td>\n",
       "    </tr>\n",
       "  </tbody>\n",
       "</table>\n"
      ],
      "text/plain": [
       "<pandas.io.formats.style.Styler at 0x29b5a8590>"
      ]
     },
     "execution_count": 23,
     "metadata": {},
     "output_type": "execute_result"
    }
   ],
   "source": [
    "# Example 3\n",
    "correlation_matrix.style.text_gradient(cmap='seismic_r', axis=None)\\\n",
    "    .set_properties(**{'text-align': 'center', 'padding': '12px'})\\\n",
    "    .set_caption('Correlation matrix')"
   ]
  }
 ],
 "metadata": {
  "kernelspec": {
   "display_name": "Python 3 (ipykernel)",
   "language": "python",
   "name": "python3"
  },
  "language_info": {
   "codemirror_mode": {
    "name": "ipython",
    "version": 3
   },
   "file_extension": ".py",
   "mimetype": "text/x-python",
   "name": "python",
   "nbconvert_exporter": "python",
   "pygments_lexer": "ipython3",
   "version": "3.11.5"
  }
 },
 "nbformat": 4,
 "nbformat_minor": 5
}
