{
 "cells": [
  {
   "cell_type": "markdown",
   "id": "221470ffba011ddb",
   "metadata": {},
   "source": [
    "# Prettifying pandas DataFrames"
   ]
  },
  {
   "cell_type": "markdown",
   "id": "a7294e9750dfcb87",
   "metadata": {},
   "source": [
    "## Data\n",
    "We will use Seaborn penguins dataset. It contains data on penguins from three different species collected from three islands in the Palmer Archipelago, Antarctica. The dataset contains 344 observations and 17 variables. The dataset is available in Seaborn library.\n"
   ]
  },
  {
   "cell_type": "code",
   "execution_count": 142,
   "id": "9746f7f4c92d559e",
   "metadata": {
    "collapsed": false,
    "ExecuteTime": {
     "end_time": "2024-01-07T03:27:37.559468Z",
     "start_time": "2024-01-07T03:27:37.512891Z"
    }
   },
   "outputs": [
    {
     "data": {
      "text/plain": "  species     island  bill_length_mm  bill_depth_mm  flipper    mass     sex\n0  Adelie  Torgersen            39.1           18.7    181.0  3750.0    Male\n1  Adelie  Torgersen            39.5           17.4    186.0  3800.0  Female\n2  Adelie  Torgersen            40.3           18.0    195.0  3250.0  Female\n3  Adelie  Torgersen             NaN            NaN      NaN     NaN     NaN\n4  Adelie  Torgersen            36.7           19.3    193.0  3450.0  Female",
      "text/html": "<div>\n<style scoped>\n    .dataframe tbody tr th:only-of-type {\n        vertical-align: middle;\n    }\n\n    .dataframe tbody tr th {\n        vertical-align: top;\n    }\n\n    .dataframe thead th {\n        text-align: right;\n    }\n</style>\n<table border=\"1\" class=\"dataframe\">\n  <thead>\n    <tr style=\"text-align: right;\">\n      <th></th>\n      <th>species</th>\n      <th>island</th>\n      <th>bill_length_mm</th>\n      <th>bill_depth_mm</th>\n      <th>flipper</th>\n      <th>mass</th>\n      <th>sex</th>\n    </tr>\n  </thead>\n  <tbody>\n    <tr>\n      <th>0</th>\n      <td>Adelie</td>\n      <td>Torgersen</td>\n      <td>39.1</td>\n      <td>18.7</td>\n      <td>181.0</td>\n      <td>3750.0</td>\n      <td>Male</td>\n    </tr>\n    <tr>\n      <th>1</th>\n      <td>Adelie</td>\n      <td>Torgersen</td>\n      <td>39.5</td>\n      <td>17.4</td>\n      <td>186.0</td>\n      <td>3800.0</td>\n      <td>Female</td>\n    </tr>\n    <tr>\n      <th>2</th>\n      <td>Adelie</td>\n      <td>Torgersen</td>\n      <td>40.3</td>\n      <td>18.0</td>\n      <td>195.0</td>\n      <td>3250.0</td>\n      <td>Female</td>\n    </tr>\n    <tr>\n      <th>3</th>\n      <td>Adelie</td>\n      <td>Torgersen</td>\n      <td>NaN</td>\n      <td>NaN</td>\n      <td>NaN</td>\n      <td>NaN</td>\n      <td>NaN</td>\n    </tr>\n    <tr>\n      <th>4</th>\n      <td>Adelie</td>\n      <td>Torgersen</td>\n      <td>36.7</td>\n      <td>19.3</td>\n      <td>193.0</td>\n      <td>3450.0</td>\n      <td>Female</td>\n    </tr>\n  </tbody>\n</table>\n</div>"
     },
     "execution_count": 142,
     "metadata": {},
     "output_type": "execute_result"
    }
   ],
   "source": [
    "from seaborn import load_dataset\n",
    "import pandas as pd\n",
    "import numpy as np\n",
    "\n",
    "pd.options.display.precision = 2\n",
    "\n",
    "# Load the data\n",
    "columns = {'culmen_length_mm': 'length', \n",
    "           'culmen_depth_mm': 'depth',\n",
    "           'flipper_length_mm': 'flipper',\n",
    "           'body_mass_g': 'mass'}\n",
    "df = load_dataset('penguins').rename(columns=columns)\n",
    "df.head()\n"
   ]
  },
  {
   "cell_type": "code",
   "execution_count": 143,
   "id": "dc4928a970574ada",
   "metadata": {
    "collapsed": false,
    "ExecuteTime": {
     "end_time": "2024-01-07T03:27:37.571911Z",
     "start_time": "2024-01-07T03:27:37.562760Z"
    }
   },
   "outputs": [
    {
     "name": "stdout",
     "output_type": "stream",
     "text": [
      "<class 'pandas.core.frame.DataFrame'>\n",
      "RangeIndex: 344 entries, 0 to 343\n",
      "Data columns (total 7 columns):\n",
      " #   Column          Non-Null Count  Dtype  \n",
      "---  ------          --------------  -----  \n",
      " 0   species         344 non-null    object \n",
      " 1   island          344 non-null    object \n",
      " 2   bill_length_mm  342 non-null    float64\n",
      " 3   bill_depth_mm   342 non-null    float64\n",
      " 4   flipper         342 non-null    float64\n",
      " 5   mass            342 non-null    float64\n",
      " 6   sex             333 non-null    object \n",
      "dtypes: float64(4), object(3)\n",
      "memory usage: 18.9+ KB\n"
     ]
    }
   ],
   "source": [
    "df.info()"
   ]
  },
  {
   "cell_type": "markdown",
   "id": "19b5383bfcd717db",
   "metadata": {},
   "source": [
    "## 1. Prettifying DataFrames with Styler\n",
    "Styler is a class that allows to format and style DataFrames and Series. It is available in pandas since version 0.17.0. It is a very powerful tool that allows to create nice looking tables. It is also possible to export the styled tables to Excel or HTML files which can be further styled using CSS. \n",
    "\n"
   ]
  },
  {
   "cell_type": "markdown",
   "id": "51ebdfa75b34e9d0",
   "metadata": {},
   "source": [
    "### 1.1. Gradients\n",
    "Styler allows to apply gradients to the DataFrame. It is possible to apply gradients to the whole DataFrame or to a subset of columns. The gradient is calculated based on the values in the DataFrame. The values are normalized to the range [0, 1] and the gradient is applied to the normalized values. The gradient is applied to each row separately.\n",
    "\n",
    "```python\n",
    "correlation_matrix = df.corr()\n",
    "correlation_matrix.style.background_gradient(cmap='seismic_r', axis=None)\n",
    "```\n",
    "**Example 1**\n",
    "\n",
    "Adding background gradient takes only an extra line of code. By passing axis=None, the colour gradients are applied along the entire table rather than within a specific axis. The name of the desired colour palette is passed onto the cmap parameter. For this parameter, we can use any Matplotlib colourmap. Here’s a useful tip for colourmaps: If you ever need to flip the colour scale, adding _r suffix to the colour map name will do the trick. For instance, if we used 'seismic' instead of 'seismic_r', negative correlations would have been blue and positive correlations would have been red.\n",
    "\n",
    "Let's add some more styling to the table. We center-aligned the values `({'text-align': 'center'})` and increased the row height `({'padding': '12px' )` with `.set_properties()`. Then, we added a caption above the table with `.set_caption()`. \n",
    "\n",
    "```python\n",
    "correlation_matrix.style.background_gradient(cmap='seismic_r', axis=None)\\\n",
    "    .set_properties(**{'text-align': 'center', 'padding': '12px'})\\\n",
    "    .set_caption('Correlation matrix')\n",
    "```\n",
    "**Example 2**\n",
    "\n",
    "In this example, we have applied colour gradients to the background. We can also apply colour gradients to the text with `.text_gradient()`:\n",
    "\n",
    "```python\n",
    "correlation_matrix.style.text_gradient(cmap='seismic_r', axis=None)\\\n",
    "    .set_properties(**{'text-align': 'center', 'padding': '12px'})\\\n",
    "    .set_caption('Correlation matrix')\n",
    "```\n",
    "__Example 3__\n",
    "\n",
    "If useful, we can chain both types of gradients as well:\n",
    "```python\n",
    "(correlation_matrix.style\n",
    "     .background_gradient(cmap='YlGn', axis=None)\n",
    "     .text_gradient(cmap='YlGn_r', axis=None))\n",
    "```\n",
    "__Example 4__\n",
    "\n",
    "And, for rump up, let's add some more nice stuff.\n",
    "```python\n",
    "# Create made-up predictions\n",
    "df['predicted'] = df['species']\n",
    "df.loc[140:160, 'predicted'] = 'Gentoo'\n",
    "df.loc[210:250, 'predicted'] = 'Adelie'\n",
    "# Create confusion matrix\n",
    "confusion_matrix = pd.crosstab(df['species'], df['predicted'])\n",
    "confusion_matrix\n",
    "\n",
    "# Create a styler\n",
    "(confusion_matrix.style\n",
    "     .background_gradient('Greys')\n",
    "     .set_caption('CONFUSION MATRIX')\n",
    "     .set_properties(**{'text-align': 'center', \n",
    "                        'padding': '12px', \n",
    "                        'width': '80px'})\n",
    "     .set_table_styles([{'selector': 'th.col_heading', \n",
    "                         'props': 'text-align: center'},\n",
    "                        {'selector': 'caption', \n",
    "                         'props': [('text-align', 'center'),\n",
    "                                   ('font-size', '11pt'),\n",
    "                                   ('font-weight', 'bold')]}]))\n",
    "```\n",
    "__Example 5__\n",
    "\n",
    "Since we familiarised with the first 5 lines of the code in the previous examples, let’s understand what the remaining code is doing:\n",
    "- ◼️ `.set_properties(**{'width': '80px'})`: to increase column width\n",
    "- ◼️ `.set_table_styles([{'selector': 'th.col_heading', 'props': 'text-align: center'}])`: to align column headers in center\n",
    "- ◼️ `.set_table_styles([{'selector': 'caption', 'props': [('text-align', 'center' ), ('font-size', '11pt'), ('font-weight', 'bold')]}])`: to center-align caption, increase its font size and bold it.\n",
    "\n"
   ]
  },
  {
   "cell_type": "code",
   "execution_count": 144,
   "id": "e9ea584528f77b5b",
   "metadata": {
    "collapsed": false,
    "ExecuteTime": {
     "end_time": "2024-01-07T03:27:37.580055Z",
     "start_time": "2024-01-07T03:27:37.572067Z"
    }
   },
   "outputs": [
    {
     "data": {
      "text/plain": "<pandas.io.formats.style.Styler at 0x169fd4290>",
      "text/html": "<style type=\"text/css\">\n#T_6afe1_row0_col0, #T_6afe1_row1_col1, #T_6afe1_row2_col2, #T_6afe1_row3_col3 {\n  background-color: #00004c;\n  color: #f1f1f1;\n}\n#T_6afe1_row0_col1, #T_6afe1_row1_col0 {\n  background-color: #f00000;\n  color: #f1f1f1;\n}\n#T_6afe1_row0_col2, #T_6afe1_row2_col0 {\n  background-color: #0000e6;\n  color: #f1f1f1;\n}\n#T_6afe1_row0_col3, #T_6afe1_row3_col0 {\n  background-color: #0505ff;\n  color: #f1f1f1;\n}\n#T_6afe1_row1_col2, #T_6afe1_row2_col1 {\n  background-color: #800000;\n  color: #f1f1f1;\n}\n#T_6afe1_row1_col3, #T_6afe1_row3_col1 {\n  background-color: #a30000;\n  color: #f1f1f1;\n}\n#T_6afe1_row2_col3, #T_6afe1_row3_col2 {\n  background-color: #000084;\n  color: #f1f1f1;\n}\n</style>\n<table id=\"T_6afe1\">\n  <thead>\n    <tr>\n      <th class=\"blank level0\" >&nbsp;</th>\n      <th id=\"T_6afe1_level0_col0\" class=\"col_heading level0 col0\" >bill_length_mm</th>\n      <th id=\"T_6afe1_level0_col1\" class=\"col_heading level0 col1\" >bill_depth_mm</th>\n      <th id=\"T_6afe1_level0_col2\" class=\"col_heading level0 col2\" >flipper</th>\n      <th id=\"T_6afe1_level0_col3\" class=\"col_heading level0 col3\" >mass</th>\n    </tr>\n  </thead>\n  <tbody>\n    <tr>\n      <th id=\"T_6afe1_level0_row0\" class=\"row_heading level0 row0\" >bill_length_mm</th>\n      <td id=\"T_6afe1_row0_col0\" class=\"data row0 col0\" >1.000000</td>\n      <td id=\"T_6afe1_row0_col1\" class=\"data row0 col1\" >-0.235053</td>\n      <td id=\"T_6afe1_row0_col2\" class=\"data row0 col2\" >0.656181</td>\n      <td id=\"T_6afe1_row0_col3\" class=\"data row0 col3\" >0.595110</td>\n    </tr>\n    <tr>\n      <th id=\"T_6afe1_level0_row1\" class=\"row_heading level0 row1\" >bill_depth_mm</th>\n      <td id=\"T_6afe1_row1_col0\" class=\"data row1 col0\" >-0.235053</td>\n      <td id=\"T_6afe1_row1_col1\" class=\"data row1 col1\" >1.000000</td>\n      <td id=\"T_6afe1_row1_col2\" class=\"data row1 col2\" >-0.583851</td>\n      <td id=\"T_6afe1_row1_col3\" class=\"data row1 col3\" >-0.471916</td>\n    </tr>\n    <tr>\n      <th id=\"T_6afe1_level0_row2\" class=\"row_heading level0 row2\" >flipper</th>\n      <td id=\"T_6afe1_row2_col0\" class=\"data row2 col0\" >0.656181</td>\n      <td id=\"T_6afe1_row2_col1\" class=\"data row2 col1\" >-0.583851</td>\n      <td id=\"T_6afe1_row2_col2\" class=\"data row2 col2\" >1.000000</td>\n      <td id=\"T_6afe1_row2_col3\" class=\"data row2 col3\" >0.871202</td>\n    </tr>\n    <tr>\n      <th id=\"T_6afe1_level0_row3\" class=\"row_heading level0 row3\" >mass</th>\n      <td id=\"T_6afe1_row3_col0\" class=\"data row3 col0\" >0.595110</td>\n      <td id=\"T_6afe1_row3_col1\" class=\"data row3 col1\" >-0.471916</td>\n      <td id=\"T_6afe1_row3_col2\" class=\"data row3 col2\" >0.871202</td>\n      <td id=\"T_6afe1_row3_col3\" class=\"data row3 col3\" >1.000000</td>\n    </tr>\n  </tbody>\n</table>\n"
     },
     "execution_count": 144,
     "metadata": {},
     "output_type": "execute_result"
    }
   ],
   "source": [
    "# Example 1\n",
    "correlation_matrix = df.corr(numeric_only=True)\n",
    "correlation_matrix.style.background_gradient(cmap='seismic_r', axis=None)"
   ]
  },
  {
   "cell_type": "code",
   "execution_count": 145,
   "id": "227a022a9c56d196",
   "metadata": {
    "collapsed": false,
    "ExecuteTime": {
     "end_time": "2024-01-07T03:27:37.591113Z",
     "start_time": "2024-01-07T03:27:37.577154Z"
    }
   },
   "outputs": [
    {
     "data": {
      "text/plain": "<pandas.io.formats.style.Styler at 0x1735ecdd0>",
      "text/html": "<style type=\"text/css\">\n#T_c6e3e_row0_col0, #T_c6e3e_row1_col1, #T_c6e3e_row2_col2, #T_c6e3e_row3_col3 {\n  background-color: #00004c;\n  color: #f1f1f1;\n  text-align: center;\n  padding: 12px;\n}\n#T_c6e3e_row0_col1, #T_c6e3e_row1_col0 {\n  background-color: #f00000;\n  color: #f1f1f1;\n  text-align: center;\n  padding: 12px;\n}\n#T_c6e3e_row0_col2, #T_c6e3e_row2_col0 {\n  background-color: #0000e6;\n  color: #f1f1f1;\n  text-align: center;\n  padding: 12px;\n}\n#T_c6e3e_row0_col3, #T_c6e3e_row3_col0 {\n  background-color: #0505ff;\n  color: #f1f1f1;\n  text-align: center;\n  padding: 12px;\n}\n#T_c6e3e_row1_col2, #T_c6e3e_row2_col1 {\n  background-color: #800000;\n  color: #f1f1f1;\n  text-align: center;\n  padding: 12px;\n}\n#T_c6e3e_row1_col3, #T_c6e3e_row3_col1 {\n  background-color: #a30000;\n  color: #f1f1f1;\n  text-align: center;\n  padding: 12px;\n}\n#T_c6e3e_row2_col3, #T_c6e3e_row3_col2 {\n  background-color: #000084;\n  color: #f1f1f1;\n  text-align: center;\n  padding: 12px;\n}\n</style>\n<table id=\"T_c6e3e\">\n  <caption>Correlation matrix</caption>\n  <thead>\n    <tr>\n      <th class=\"blank level0\" >&nbsp;</th>\n      <th id=\"T_c6e3e_level0_col0\" class=\"col_heading level0 col0\" >bill_length_mm</th>\n      <th id=\"T_c6e3e_level0_col1\" class=\"col_heading level0 col1\" >bill_depth_mm</th>\n      <th id=\"T_c6e3e_level0_col2\" class=\"col_heading level0 col2\" >flipper</th>\n      <th id=\"T_c6e3e_level0_col3\" class=\"col_heading level0 col3\" >mass</th>\n    </tr>\n  </thead>\n  <tbody>\n    <tr>\n      <th id=\"T_c6e3e_level0_row0\" class=\"row_heading level0 row0\" >bill_length_mm</th>\n      <td id=\"T_c6e3e_row0_col0\" class=\"data row0 col0\" >1.000000</td>\n      <td id=\"T_c6e3e_row0_col1\" class=\"data row0 col1\" >-0.235053</td>\n      <td id=\"T_c6e3e_row0_col2\" class=\"data row0 col2\" >0.656181</td>\n      <td id=\"T_c6e3e_row0_col3\" class=\"data row0 col3\" >0.595110</td>\n    </tr>\n    <tr>\n      <th id=\"T_c6e3e_level0_row1\" class=\"row_heading level0 row1\" >bill_depth_mm</th>\n      <td id=\"T_c6e3e_row1_col0\" class=\"data row1 col0\" >-0.235053</td>\n      <td id=\"T_c6e3e_row1_col1\" class=\"data row1 col1\" >1.000000</td>\n      <td id=\"T_c6e3e_row1_col2\" class=\"data row1 col2\" >-0.583851</td>\n      <td id=\"T_c6e3e_row1_col3\" class=\"data row1 col3\" >-0.471916</td>\n    </tr>\n    <tr>\n      <th id=\"T_c6e3e_level0_row2\" class=\"row_heading level0 row2\" >flipper</th>\n      <td id=\"T_c6e3e_row2_col0\" class=\"data row2 col0\" >0.656181</td>\n      <td id=\"T_c6e3e_row2_col1\" class=\"data row2 col1\" >-0.583851</td>\n      <td id=\"T_c6e3e_row2_col2\" class=\"data row2 col2\" >1.000000</td>\n      <td id=\"T_c6e3e_row2_col3\" class=\"data row2 col3\" >0.871202</td>\n    </tr>\n    <tr>\n      <th id=\"T_c6e3e_level0_row3\" class=\"row_heading level0 row3\" >mass</th>\n      <td id=\"T_c6e3e_row3_col0\" class=\"data row3 col0\" >0.595110</td>\n      <td id=\"T_c6e3e_row3_col1\" class=\"data row3 col1\" >-0.471916</td>\n      <td id=\"T_c6e3e_row3_col2\" class=\"data row3 col2\" >0.871202</td>\n      <td id=\"T_c6e3e_row3_col3\" class=\"data row3 col3\" >1.000000</td>\n    </tr>\n  </tbody>\n</table>\n"
     },
     "metadata": {},
     "output_type": "display_data"
    }
   ],
   "source": [
    "# Example 2 \n",
    "styler = correlation_matrix.style.background_gradient(cmap='seismic_r', axis=None)\\\n",
    "    .set_properties(**{'text-align': 'center', 'padding': '12px'})\\\n",
    "    .set_caption('Correlation matrix')\n",
    "\n",
    "if styler:\n",
    "    display(styler)\n",
    "else:\n",
    "    print('Styler is None')"
   ]
  },
  {
   "cell_type": "code",
   "execution_count": 146,
   "id": "3349fa67d8fac87",
   "metadata": {
    "collapsed": false,
    "tags": [],
    "ExecuteTime": {
     "end_time": "2024-01-07T03:27:37.607684Z",
     "start_time": "2024-01-07T03:27:37.582401Z"
    }
   },
   "outputs": [
    {
     "data": {
      "text/plain": "<pandas.io.formats.style.Styler at 0x1689608d0>",
      "text/html": "<style type=\"text/css\">\n#T_0978e_row0_col0, #T_0978e_row1_col1, #T_0978e_row2_col2, #T_0978e_row3_col3 {\n  color: #00004c;\n  text-align: center;\n  padding: 12px;\n}\n#T_0978e_row0_col1, #T_0978e_row1_col0 {\n  color: #f00000;\n  text-align: center;\n  padding: 12px;\n}\n#T_0978e_row0_col2, #T_0978e_row2_col0 {\n  color: #0000e6;\n  text-align: center;\n  padding: 12px;\n}\n#T_0978e_row0_col3, #T_0978e_row3_col0 {\n  color: #0505ff;\n  text-align: center;\n  padding: 12px;\n}\n#T_0978e_row1_col2, #T_0978e_row2_col1 {\n  color: #800000;\n  text-align: center;\n  padding: 12px;\n}\n#T_0978e_row1_col3, #T_0978e_row3_col1 {\n  color: #a30000;\n  text-align: center;\n  padding: 12px;\n}\n#T_0978e_row2_col3, #T_0978e_row3_col2 {\n  color: #000084;\n  text-align: center;\n  padding: 12px;\n}\n</style>\n<table id=\"T_0978e\">\n  <caption>Correlation matrix</caption>\n  <thead>\n    <tr>\n      <th class=\"blank level0\" >&nbsp;</th>\n      <th id=\"T_0978e_level0_col0\" class=\"col_heading level0 col0\" >bill_length_mm</th>\n      <th id=\"T_0978e_level0_col1\" class=\"col_heading level0 col1\" >bill_depth_mm</th>\n      <th id=\"T_0978e_level0_col2\" class=\"col_heading level0 col2\" >flipper</th>\n      <th id=\"T_0978e_level0_col3\" class=\"col_heading level0 col3\" >mass</th>\n    </tr>\n  </thead>\n  <tbody>\n    <tr>\n      <th id=\"T_0978e_level0_row0\" class=\"row_heading level0 row0\" >bill_length_mm</th>\n      <td id=\"T_0978e_row0_col0\" class=\"data row0 col0\" >1.000000</td>\n      <td id=\"T_0978e_row0_col1\" class=\"data row0 col1\" >-0.235053</td>\n      <td id=\"T_0978e_row0_col2\" class=\"data row0 col2\" >0.656181</td>\n      <td id=\"T_0978e_row0_col3\" class=\"data row0 col3\" >0.595110</td>\n    </tr>\n    <tr>\n      <th id=\"T_0978e_level0_row1\" class=\"row_heading level0 row1\" >bill_depth_mm</th>\n      <td id=\"T_0978e_row1_col0\" class=\"data row1 col0\" >-0.235053</td>\n      <td id=\"T_0978e_row1_col1\" class=\"data row1 col1\" >1.000000</td>\n      <td id=\"T_0978e_row1_col2\" class=\"data row1 col2\" >-0.583851</td>\n      <td id=\"T_0978e_row1_col3\" class=\"data row1 col3\" >-0.471916</td>\n    </tr>\n    <tr>\n      <th id=\"T_0978e_level0_row2\" class=\"row_heading level0 row2\" >flipper</th>\n      <td id=\"T_0978e_row2_col0\" class=\"data row2 col0\" >0.656181</td>\n      <td id=\"T_0978e_row2_col1\" class=\"data row2 col1\" >-0.583851</td>\n      <td id=\"T_0978e_row2_col2\" class=\"data row2 col2\" >1.000000</td>\n      <td id=\"T_0978e_row2_col3\" class=\"data row2 col3\" >0.871202</td>\n    </tr>\n    <tr>\n      <th id=\"T_0978e_level0_row3\" class=\"row_heading level0 row3\" >mass</th>\n      <td id=\"T_0978e_row3_col0\" class=\"data row3 col0\" >0.595110</td>\n      <td id=\"T_0978e_row3_col1\" class=\"data row3 col1\" >-0.471916</td>\n      <td id=\"T_0978e_row3_col2\" class=\"data row3 col2\" >0.871202</td>\n      <td id=\"T_0978e_row3_col3\" class=\"data row3 col3\" >1.000000</td>\n    </tr>\n  </tbody>\n</table>\n"
     },
     "execution_count": 146,
     "metadata": {},
     "output_type": "execute_result"
    }
   ],
   "source": [
    "# Example 3\n",
    "correlation_matrix.style.text_gradient(cmap='seismic_r', axis=None)\\\n",
    "    .set_properties(**{'text-align': 'center', 'padding': '12px'})\\\n",
    "    .set_caption('Correlation matrix')"
   ]
  },
  {
   "cell_type": "code",
   "execution_count": 147,
   "id": "a7ad6b4c81ba2c4a",
   "metadata": {
    "collapsed": false,
    "ExecuteTime": {
     "end_time": "2024-01-07T03:27:37.610676Z",
     "start_time": "2024-01-07T03:27:37.587432Z"
    }
   },
   "outputs": [
    {
     "data": {
      "text/plain": "<pandas.io.formats.style.Styler at 0x15edc3050>",
      "text/html": "<style type=\"text/css\">\n#T_5d2c9_row0_col0, #T_5d2c9_row1_col1, #T_5d2c9_row2_col2, #T_5d2c9_row3_col3 {\n  background-color: #004529;\n  color: #f1f1f1;\n  color: #ffffe5;\n}\n#T_5d2c9_row0_col1, #T_5d2c9_row1_col0 {\n  background-color: #e0f3a8;\n  color: #000000;\n  color: #1a7d40;\n}\n#T_5d2c9_row0_col2, #T_5d2c9_row2_col0 {\n  background-color: #197c40;\n  color: #f1f1f1;\n  color: #e1f3a9;\n}\n#T_5d2c9_row0_col3, #T_5d2c9_row3_col0 {\n  background-color: #248644;\n  color: #f1f1f1;\n  color: #d7efa2;\n}\n#T_5d2c9_row1_col2, #T_5d2c9_row2_col1 {\n  background-color: #ffffe5;\n  color: #000000;\n  color: #004529;\n}\n#T_5d2c9_row1_col3, #T_5d2c9_row3_col1 {\n  background-color: #fafdcc;\n  color: #000000;\n  color: #005931;\n}\n#T_5d2c9_row2_col3, #T_5d2c9_row3_col2 {\n  background-color: #005b32;\n  color: #f1f1f1;\n  color: #fafdc9;\n}\n</style>\n<table id=\"T_5d2c9\">\n  <thead>\n    <tr>\n      <th class=\"blank level0\" >&nbsp;</th>\n      <th id=\"T_5d2c9_level0_col0\" class=\"col_heading level0 col0\" >bill_length_mm</th>\n      <th id=\"T_5d2c9_level0_col1\" class=\"col_heading level0 col1\" >bill_depth_mm</th>\n      <th id=\"T_5d2c9_level0_col2\" class=\"col_heading level0 col2\" >flipper</th>\n      <th id=\"T_5d2c9_level0_col3\" class=\"col_heading level0 col3\" >mass</th>\n    </tr>\n  </thead>\n  <tbody>\n    <tr>\n      <th id=\"T_5d2c9_level0_row0\" class=\"row_heading level0 row0\" >bill_length_mm</th>\n      <td id=\"T_5d2c9_row0_col0\" class=\"data row0 col0\" >1.000000</td>\n      <td id=\"T_5d2c9_row0_col1\" class=\"data row0 col1\" >-0.235053</td>\n      <td id=\"T_5d2c9_row0_col2\" class=\"data row0 col2\" >0.656181</td>\n      <td id=\"T_5d2c9_row0_col3\" class=\"data row0 col3\" >0.595110</td>\n    </tr>\n    <tr>\n      <th id=\"T_5d2c9_level0_row1\" class=\"row_heading level0 row1\" >bill_depth_mm</th>\n      <td id=\"T_5d2c9_row1_col0\" class=\"data row1 col0\" >-0.235053</td>\n      <td id=\"T_5d2c9_row1_col1\" class=\"data row1 col1\" >1.000000</td>\n      <td id=\"T_5d2c9_row1_col2\" class=\"data row1 col2\" >-0.583851</td>\n      <td id=\"T_5d2c9_row1_col3\" class=\"data row1 col3\" >-0.471916</td>\n    </tr>\n    <tr>\n      <th id=\"T_5d2c9_level0_row2\" class=\"row_heading level0 row2\" >flipper</th>\n      <td id=\"T_5d2c9_row2_col0\" class=\"data row2 col0\" >0.656181</td>\n      <td id=\"T_5d2c9_row2_col1\" class=\"data row2 col1\" >-0.583851</td>\n      <td id=\"T_5d2c9_row2_col2\" class=\"data row2 col2\" >1.000000</td>\n      <td id=\"T_5d2c9_row2_col3\" class=\"data row2 col3\" >0.871202</td>\n    </tr>\n    <tr>\n      <th id=\"T_5d2c9_level0_row3\" class=\"row_heading level0 row3\" >mass</th>\n      <td id=\"T_5d2c9_row3_col0\" class=\"data row3 col0\" >0.595110</td>\n      <td id=\"T_5d2c9_row3_col1\" class=\"data row3 col1\" >-0.471916</td>\n      <td id=\"T_5d2c9_row3_col2\" class=\"data row3 col2\" >0.871202</td>\n      <td id=\"T_5d2c9_row3_col3\" class=\"data row3 col3\" >1.000000</td>\n    </tr>\n  </tbody>\n</table>\n"
     },
     "execution_count": 147,
     "metadata": {},
     "output_type": "execute_result"
    }
   ],
   "source": [
    "# Example 4\n",
    "(correlation_matrix.style\n",
    "     .background_gradient(cmap='YlGn', axis=None)\n",
    "     .text_gradient(cmap='YlGn_r', axis=None))"
   ]
  },
  {
   "cell_type": "code",
   "execution_count": 148,
   "id": "dc2968fc64a017b5",
   "metadata": {
    "collapsed": false,
    "ExecuteTime": {
     "end_time": "2024-01-07T03:27:37.612273Z",
     "start_time": "2024-01-07T03:27:37.594857Z"
    }
   },
   "outputs": [
    {
     "data": {
      "text/plain": "<pandas.io.formats.style.Styler at 0x15e8da810>",
      "text/html": "<style type=\"text/css\">\n#T_105f8 th.col_heading {\n  text-align: center;\n}\n#T_105f8 caption {\n  text-align: center;\n  font-size: 11pt;\n  font-weight: bold;\n}\n#T_105f8_row0_col0, #T_105f8_row1_col1, #T_105f8_row2_col2, #T_105f8_row3_col3 {\n  background-color: #000000;\n  color: #f1f1f1;\n  text-align: center;\n  padding: 12px;\n  width: 80px;\n}\n#T_105f8_row0_col1 {\n  background-color: #dfdfdf;\n  color: #000000;\n  text-align: center;\n  padding: 12px;\n  width: 80px;\n}\n#T_105f8_row0_col2 {\n  background-color: #464646;\n  color: #f1f1f1;\n  text-align: center;\n  padding: 12px;\n  width: 80px;\n}\n#T_105f8_row0_col3 {\n  background-color: #585858;\n  color: #f1f1f1;\n  text-align: center;\n  padding: 12px;\n  width: 80px;\n}\n#T_105f8_row1_col0, #T_105f8_row1_col2, #T_105f8_row1_col3, #T_105f8_row2_col1 {\n  background-color: #ffffff;\n  color: #000000;\n  text-align: center;\n  padding: 12px;\n  width: 80px;\n}\n#T_105f8_row2_col0 {\n  background-color: #5a5a5a;\n  color: #f1f1f1;\n  text-align: center;\n  padding: 12px;\n  width: 80px;\n}\n#T_105f8_row2_col3 {\n  background-color: #1a1a1a;\n  color: #f1f1f1;\n  text-align: center;\n  padding: 12px;\n  width: 80px;\n}\n#T_105f8_row3_col0 {\n  background-color: #666666;\n  color: #f1f1f1;\n  text-align: center;\n  padding: 12px;\n  width: 80px;\n}\n#T_105f8_row3_col1 {\n  background-color: #f7f7f7;\n  color: #000000;\n  text-align: center;\n  padding: 12px;\n  width: 80px;\n}\n#T_105f8_row3_col2 {\n  background-color: #171717;\n  color: #f1f1f1;\n  text-align: center;\n  padding: 12px;\n  width: 80px;\n}\n</style>\n<table id=\"T_105f8\">\n  <caption>CONFUSION MATRIX</caption>\n  <thead>\n    <tr>\n      <th class=\"blank level0\" >&nbsp;</th>\n      <th id=\"T_105f8_level0_col0\" class=\"col_heading level0 col0\" >bill_length_mm</th>\n      <th id=\"T_105f8_level0_col1\" class=\"col_heading level0 col1\" >bill_depth_mm</th>\n      <th id=\"T_105f8_level0_col2\" class=\"col_heading level0 col2\" >flipper</th>\n      <th id=\"T_105f8_level0_col3\" class=\"col_heading level0 col3\" >mass</th>\n    </tr>\n  </thead>\n  <tbody>\n    <tr>\n      <th id=\"T_105f8_level0_row0\" class=\"row_heading level0 row0\" >bill_length_mm</th>\n      <td id=\"T_105f8_row0_col0\" class=\"data row0 col0\" >1.000000</td>\n      <td id=\"T_105f8_row0_col1\" class=\"data row0 col1\" >-0.235053</td>\n      <td id=\"T_105f8_row0_col2\" class=\"data row0 col2\" >0.656181</td>\n      <td id=\"T_105f8_row0_col3\" class=\"data row0 col3\" >0.595110</td>\n    </tr>\n    <tr>\n      <th id=\"T_105f8_level0_row1\" class=\"row_heading level0 row1\" >bill_depth_mm</th>\n      <td id=\"T_105f8_row1_col0\" class=\"data row1 col0\" >-0.235053</td>\n      <td id=\"T_105f8_row1_col1\" class=\"data row1 col1\" >1.000000</td>\n      <td id=\"T_105f8_row1_col2\" class=\"data row1 col2\" >-0.583851</td>\n      <td id=\"T_105f8_row1_col3\" class=\"data row1 col3\" >-0.471916</td>\n    </tr>\n    <tr>\n      <th id=\"T_105f8_level0_row2\" class=\"row_heading level0 row2\" >flipper</th>\n      <td id=\"T_105f8_row2_col0\" class=\"data row2 col0\" >0.656181</td>\n      <td id=\"T_105f8_row2_col1\" class=\"data row2 col1\" >-0.583851</td>\n      <td id=\"T_105f8_row2_col2\" class=\"data row2 col2\" >1.000000</td>\n      <td id=\"T_105f8_row2_col3\" class=\"data row2 col3\" >0.871202</td>\n    </tr>\n    <tr>\n      <th id=\"T_105f8_level0_row3\" class=\"row_heading level0 row3\" >mass</th>\n      <td id=\"T_105f8_row3_col0\" class=\"data row3 col0\" >0.595110</td>\n      <td id=\"T_105f8_row3_col1\" class=\"data row3 col1\" >-0.471916</td>\n      <td id=\"T_105f8_row3_col2\" class=\"data row3 col2\" >0.871202</td>\n      <td id=\"T_105f8_row3_col3\" class=\"data row3 col3\" >1.000000</td>\n    </tr>\n  </tbody>\n</table>\n"
     },
     "execution_count": 148,
     "metadata": {},
     "output_type": "execute_result"
    }
   ],
   "source": [
    "# Example 5\n",
    "(correlation_matrix.style\n",
    "     .background_gradient('Greys')\n",
    "     .set_caption('CONFUSION MATRIX')\n",
    "     .set_properties(**{'text-align': 'center', \n",
    "                        'padding': '12px', \n",
    "                        'width': '80px'})\n",
    "     .set_table_styles([{'selector': 'th.col_heading', \n",
    "                         'props': 'text-align: center'},\n",
    "                        {'selector': 'caption', \n",
    "                         'props': [('text-align', 'center'),\n",
    "                                   ('font-size', '11pt'),\n",
    "                                   ('font-weight', 'bold')]}]))"
   ]
  },
  {
   "cell_type": "markdown",
   "id": "63475b90f85b3c7a",
   "metadata": {},
   "source": [
    "### 1.2. Color Bars\n",
    "Color bars are a great way to visualize the values in the DataFrame. They can be added to the DataFrame using `.background_gradient()` or `.text_gradient()` methods. The color bars are added to the right side of the DataFrame. The color bar shows the range of values in the DataFrame. The color bar can be added to the whole DataFrame or to a subset of columns. The color bar is added to each row separately.\n",
    "\n",
    "First, let's create a pivot table and then add a color bar to it.\n",
    "\n",
    "```python\n",
    "pivot = df.pivot_table('mass', ['species', 'island'], 'sex')\n",
    "pivot.iloc[(-2,0)] = np.nan\n",
    "# Style\n",
    "pivot.style.bar(color='aquamarine')\n",
    "```\n",
    "__Example 6__\n",
    "\n",
    "This can be styled further just like in the previous examples:\n",
    "\n",
    "```python\n",
    "(pivot.style\n",
    "     .bar(color='aquamarine')\n",
    "     .set_properties(padding='8px', width='50')) \n",
    "```\n",
    "__Example 7__\n",
    "\n",
    "If you have positive and negative values, you can format the data as follows by passing two colours `(color=['salmon', 'lightgreen'])` and aligning the bars in the middle (align='mid'):\n",
    "\n",
    "```python\n",
    "# Style on toy data\n",
    "(pd.DataFrame({'feature': ['a', 'b', 'c', 'd', 'e', 'f'],  \n",
    "               'coefficient': [30, 10, 1, -5, -10, -20]}).style\n",
    "   .bar(color=['salmon', 'lightgreen'], align='mid')\n",
    "   .set_properties(**{'text-align': 'center'})\n",
    "   .set_table_styles([{'selector': 'th.col_heading', \n",
    "                       'props': 'text-align: center'}]))\n",
    "```\n",
    "__Example 8__\n"
   ]
  },
  {
   "cell_type": "code",
   "execution_count": 149,
   "id": "cd3c952195dd7b5e",
   "metadata": {
    "collapsed": false,
    "ExecuteTime": {
     "end_time": "2024-01-07T03:27:37.661585Z",
     "start_time": "2024-01-07T03:27:37.614611Z"
    }
   },
   "outputs": [
    {
     "data": {
      "text/plain": "<pandas.io.formats.style.Styler at 0x15eda2d90>",
      "text/html": "<style type=\"text/css\">\n#T_37809_row0_col0 {\n  width: 10em;\n  background: linear-gradient(90deg, aquamarine 72.0%, transparent 72.0%);\n}\n#T_37809_row0_col1, #T_37809_row1_col1 {\n  width: 10em;\n  background: linear-gradient(90deg, aquamarine 73.8%, transparent 73.8%);\n}\n#T_37809_row1_col0 {\n  width: 10em;\n  background: linear-gradient(90deg, aquamarine 71.5%, transparent 71.5%);\n}\n#T_37809_row2_col0 {\n  width: 10em;\n  background: linear-gradient(90deg, aquamarine 72.6%, transparent 72.6%);\n}\n#T_37809_row2_col1 {\n  width: 10em;\n  background: linear-gradient(90deg, aquamarine 73.6%, transparent 73.6%);\n}\n#T_37809_row3_col0 {\n  width: 10em;\n}\n#T_37809_row3_col1 {\n  width: 10em;\n  background: linear-gradient(90deg, aquamarine 71.8%, transparent 71.8%);\n}\n#T_37809_row4_col0, #T_37809_row4_col1 {\n  width: 10em;\n  background: linear-gradient(90deg, aquamarine 100.0%, transparent 100.0%);\n}\n</style>\n<table id=\"T_37809\">\n  <thead>\n    <tr>\n      <th class=\"blank\" >&nbsp;</th>\n      <th class=\"index_name level0\" >sex</th>\n      <th id=\"T_37809_level0_col0\" class=\"col_heading level0 col0\" >Female</th>\n      <th id=\"T_37809_level0_col1\" class=\"col_heading level0 col1\" >Male</th>\n    </tr>\n    <tr>\n      <th class=\"index_name level0\" >species</th>\n      <th class=\"index_name level1\" >island</th>\n      <th class=\"blank col0\" >&nbsp;</th>\n      <th class=\"blank col1\" >&nbsp;</th>\n    </tr>\n  </thead>\n  <tbody>\n    <tr>\n      <th id=\"T_37809_level0_row0\" class=\"row_heading level0 row0\" rowspan=\"3\">Adelie</th>\n      <th id=\"T_37809_level1_row0\" class=\"row_heading level1 row0\" >Biscoe</th>\n      <td id=\"T_37809_row0_col0\" class=\"data row0 col0\" >3369.318182</td>\n      <td id=\"T_37809_row0_col1\" class=\"data row0 col1\" >4050.000000</td>\n    </tr>\n    <tr>\n      <th id=\"T_37809_level1_row1\" class=\"row_heading level1 row1\" >Dream</th>\n      <td id=\"T_37809_row1_col0\" class=\"data row1 col0\" >3344.444444</td>\n      <td id=\"T_37809_row1_col1\" class=\"data row1 col1\" >4045.535714</td>\n    </tr>\n    <tr>\n      <th id=\"T_37809_level1_row2\" class=\"row_heading level1 row2\" >Torgersen</th>\n      <td id=\"T_37809_row2_col0\" class=\"data row2 col0\" >3395.833333</td>\n      <td id=\"T_37809_row2_col1\" class=\"data row2 col1\" >4034.782609</td>\n    </tr>\n    <tr>\n      <th id=\"T_37809_level0_row3\" class=\"row_heading level0 row3\" >Chinstrap</th>\n      <th id=\"T_37809_level1_row3\" class=\"row_heading level1 row3\" >Dream</th>\n      <td id=\"T_37809_row3_col0\" class=\"data row3 col0\" >nan</td>\n      <td id=\"T_37809_row3_col1\" class=\"data row3 col1\" >3938.970588</td>\n    </tr>\n    <tr>\n      <th id=\"T_37809_level0_row4\" class=\"row_heading level0 row4\" >Gentoo</th>\n      <th id=\"T_37809_level1_row4\" class=\"row_heading level1 row4\" >Biscoe</th>\n      <td id=\"T_37809_row4_col0\" class=\"data row4 col0\" >4679.741379</td>\n      <td id=\"T_37809_row4_col1\" class=\"data row4 col1\" >5484.836066</td>\n    </tr>\n  </tbody>\n</table>\n"
     },
     "execution_count": 149,
     "metadata": {},
     "output_type": "execute_result"
    }
   ],
   "source": [
    "# Example 6\n",
    "pivot = df.pivot_table('mass', ['species', 'island'], 'sex')\n",
    "pivot.iloc[(-2,0)] = np.nan\n",
    "# Style\n",
    "pivot.style.bar(color='aquamarine')"
   ]
  },
  {
   "cell_type": "code",
   "execution_count": 150,
   "id": "a720ae0e162604b1",
   "metadata": {
    "collapsed": false,
    "ExecuteTime": {
     "end_time": "2024-01-07T03:27:37.689102Z",
     "start_time": "2024-01-07T03:27:37.665844Z"
    }
   },
   "outputs": [
    {
     "data": {
      "text/plain": "<pandas.io.formats.style.Styler at 0x15f00c110>",
      "text/html": "<style type=\"text/css\">\n#T_fe0c8_row0_col0 {\n  width: 10em;\n  background: linear-gradient(90deg, aquamarine 72.0%, transparent 72.0%);\n  padding: 8px;\n  width: 50;\n}\n#T_fe0c8_row0_col1, #T_fe0c8_row1_col1 {\n  width: 10em;\n  background: linear-gradient(90deg, aquamarine 73.8%, transparent 73.8%);\n  padding: 8px;\n  width: 50;\n}\n#T_fe0c8_row1_col0 {\n  width: 10em;\n  background: linear-gradient(90deg, aquamarine 71.5%, transparent 71.5%);\n  padding: 8px;\n  width: 50;\n}\n#T_fe0c8_row2_col0 {\n  width: 10em;\n  background: linear-gradient(90deg, aquamarine 72.6%, transparent 72.6%);\n  padding: 8px;\n  width: 50;\n}\n#T_fe0c8_row2_col1 {\n  width: 10em;\n  background: linear-gradient(90deg, aquamarine 73.6%, transparent 73.6%);\n  padding: 8px;\n  width: 50;\n}\n#T_fe0c8_row3_col0 {\n  width: 10em;\n  padding: 8px;\n  width: 50;\n}\n#T_fe0c8_row3_col1 {\n  width: 10em;\n  background: linear-gradient(90deg, aquamarine 71.8%, transparent 71.8%);\n  padding: 8px;\n  width: 50;\n}\n#T_fe0c8_row4_col0, #T_fe0c8_row4_col1 {\n  width: 10em;\n  background: linear-gradient(90deg, aquamarine 100.0%, transparent 100.0%);\n  padding: 8px;\n  width: 50;\n}\n</style>\n<table id=\"T_fe0c8\">\n  <thead>\n    <tr>\n      <th class=\"blank\" >&nbsp;</th>\n      <th class=\"index_name level0\" >sex</th>\n      <th id=\"T_fe0c8_level0_col0\" class=\"col_heading level0 col0\" >Female</th>\n      <th id=\"T_fe0c8_level0_col1\" class=\"col_heading level0 col1\" >Male</th>\n    </tr>\n    <tr>\n      <th class=\"index_name level0\" >species</th>\n      <th class=\"index_name level1\" >island</th>\n      <th class=\"blank col0\" >&nbsp;</th>\n      <th class=\"blank col1\" >&nbsp;</th>\n    </tr>\n  </thead>\n  <tbody>\n    <tr>\n      <th id=\"T_fe0c8_level0_row0\" class=\"row_heading level0 row0\" rowspan=\"3\">Adelie</th>\n      <th id=\"T_fe0c8_level1_row0\" class=\"row_heading level1 row0\" >Biscoe</th>\n      <td id=\"T_fe0c8_row0_col0\" class=\"data row0 col0\" >3369.318182</td>\n      <td id=\"T_fe0c8_row0_col1\" class=\"data row0 col1\" >4050.000000</td>\n    </tr>\n    <tr>\n      <th id=\"T_fe0c8_level1_row1\" class=\"row_heading level1 row1\" >Dream</th>\n      <td id=\"T_fe0c8_row1_col0\" class=\"data row1 col0\" >3344.444444</td>\n      <td id=\"T_fe0c8_row1_col1\" class=\"data row1 col1\" >4045.535714</td>\n    </tr>\n    <tr>\n      <th id=\"T_fe0c8_level1_row2\" class=\"row_heading level1 row2\" >Torgersen</th>\n      <td id=\"T_fe0c8_row2_col0\" class=\"data row2 col0\" >3395.833333</td>\n      <td id=\"T_fe0c8_row2_col1\" class=\"data row2 col1\" >4034.782609</td>\n    </tr>\n    <tr>\n      <th id=\"T_fe0c8_level0_row3\" class=\"row_heading level0 row3\" >Chinstrap</th>\n      <th id=\"T_fe0c8_level1_row3\" class=\"row_heading level1 row3\" >Dream</th>\n      <td id=\"T_fe0c8_row3_col0\" class=\"data row3 col0\" >nan</td>\n      <td id=\"T_fe0c8_row3_col1\" class=\"data row3 col1\" >3938.970588</td>\n    </tr>\n    <tr>\n      <th id=\"T_fe0c8_level0_row4\" class=\"row_heading level0 row4\" >Gentoo</th>\n      <th id=\"T_fe0c8_level1_row4\" class=\"row_heading level1 row4\" >Biscoe</th>\n      <td id=\"T_fe0c8_row4_col0\" class=\"data row4 col0\" >4679.741379</td>\n      <td id=\"T_fe0c8_row4_col1\" class=\"data row4 col1\" >5484.836066</td>\n    </tr>\n  </tbody>\n</table>\n"
     },
     "execution_count": 150,
     "metadata": {},
     "output_type": "execute_result"
    }
   ],
   "source": [
    "# Example 7\n",
    "(pivot.style\n",
    "     .bar(color='aquamarine')\n",
    "     .set_properties(padding='8px', width='50')) \n"
   ]
  },
  {
   "cell_type": "code",
   "execution_count": 151,
   "id": "6c0a53d03c319c66",
   "metadata": {
    "collapsed": false,
    "ExecuteTime": {
     "end_time": "2024-01-07T03:27:37.705267Z",
     "start_time": "2024-01-07T03:27:37.680475Z"
    }
   },
   "outputs": [
    {
     "data": {
      "text/plain": "<pandas.io.formats.style.Styler at 0x173610cd0>",
      "text/html": "<style type=\"text/css\">\n#T_47ed9 th.col_heading {\n  text-align: center;\n}\n#T_47ed9_row0_col0, #T_47ed9_row1_col0, #T_47ed9_row2_col0, #T_47ed9_row3_col0, #T_47ed9_row4_col0, #T_47ed9_row5_col0 {\n  text-align: center;\n}\n#T_47ed9_row0_col1 {\n  width: 10em;\n  background: linear-gradient(90deg, transparent 40.0%, lightgreen 40.0%, lightgreen 100.0%, transparent 100.0%);\n  text-align: center;\n}\n#T_47ed9_row1_col1 {\n  width: 10em;\n  background: linear-gradient(90deg, transparent 40.0%, lightgreen 40.0%, lightgreen 60.0%, transparent 60.0%);\n  text-align: center;\n}\n#T_47ed9_row2_col1 {\n  width: 10em;\n  background: linear-gradient(90deg, transparent 40.0%, lightgreen 40.0%, lightgreen 42.0%, transparent 42.0%);\n  text-align: center;\n}\n#T_47ed9_row3_col1 {\n  width: 10em;\n  background: linear-gradient(90deg, transparent 30.0%, salmon 30.0%, salmon 40.0%, transparent 40.0%);\n  text-align: center;\n}\n#T_47ed9_row4_col1 {\n  width: 10em;\n  background: linear-gradient(90deg, transparent 20.0%, salmon 20.0%, salmon 40.0%, transparent 40.0%);\n  text-align: center;\n}\n#T_47ed9_row5_col1 {\n  width: 10em;\n  background: linear-gradient(90deg, salmon 40.0%, transparent 40.0%);\n  text-align: center;\n}\n</style>\n<table id=\"T_47ed9\">\n  <thead>\n    <tr>\n      <th class=\"blank level0\" >&nbsp;</th>\n      <th id=\"T_47ed9_level0_col0\" class=\"col_heading level0 col0\" >feature</th>\n      <th id=\"T_47ed9_level0_col1\" class=\"col_heading level0 col1\" >coefficient</th>\n    </tr>\n  </thead>\n  <tbody>\n    <tr>\n      <th id=\"T_47ed9_level0_row0\" class=\"row_heading level0 row0\" >0</th>\n      <td id=\"T_47ed9_row0_col0\" class=\"data row0 col0\" >a</td>\n      <td id=\"T_47ed9_row0_col1\" class=\"data row0 col1\" >30</td>\n    </tr>\n    <tr>\n      <th id=\"T_47ed9_level0_row1\" class=\"row_heading level0 row1\" >1</th>\n      <td id=\"T_47ed9_row1_col0\" class=\"data row1 col0\" >b</td>\n      <td id=\"T_47ed9_row1_col1\" class=\"data row1 col1\" >10</td>\n    </tr>\n    <tr>\n      <th id=\"T_47ed9_level0_row2\" class=\"row_heading level0 row2\" >2</th>\n      <td id=\"T_47ed9_row2_col0\" class=\"data row2 col0\" >c</td>\n      <td id=\"T_47ed9_row2_col1\" class=\"data row2 col1\" >1</td>\n    </tr>\n    <tr>\n      <th id=\"T_47ed9_level0_row3\" class=\"row_heading level0 row3\" >3</th>\n      <td id=\"T_47ed9_row3_col0\" class=\"data row3 col0\" >d</td>\n      <td id=\"T_47ed9_row3_col1\" class=\"data row3 col1\" >-5</td>\n    </tr>\n    <tr>\n      <th id=\"T_47ed9_level0_row4\" class=\"row_heading level0 row4\" >4</th>\n      <td id=\"T_47ed9_row4_col0\" class=\"data row4 col0\" >e</td>\n      <td id=\"T_47ed9_row4_col1\" class=\"data row4 col1\" >-10</td>\n    </tr>\n    <tr>\n      <th id=\"T_47ed9_level0_row5\" class=\"row_heading level0 row5\" >5</th>\n      <td id=\"T_47ed9_row5_col0\" class=\"data row5 col0\" >f</td>\n      <td id=\"T_47ed9_row5_col1\" class=\"data row5 col1\" >-20</td>\n    </tr>\n  </tbody>\n</table>\n"
     },
     "execution_count": 151,
     "metadata": {},
     "output_type": "execute_result"
    }
   ],
   "source": [
    "# Example 8\n",
    "(pd.DataFrame({'feature': ['a', 'b', 'c', 'd', 'e', 'f'],  \n",
    "               'coefficient': [30, 10, 1, -5, -10, -20]}).style\n",
    "   .bar(color=['salmon', 'lightgreen'], align='mid')\n",
    "   .set_properties(**{'text-align': 'center'})\n",
    "   .set_table_styles([{'selector': 'th.col_heading', \n",
    "                       'props': 'text-align: center'}]))"
   ]
  },
  {
   "cell_type": "markdown",
   "id": "cac257da515e08b7",
   "metadata": {},
   "source": [
    "### 1.3. Highlighting\n",
    "There are times when highlighting values based on conditions can be useful. In this section, we will learn about a few functions to highlight special values.\n",
    "\n",
    "Firstly, we can highlight minimum values from each column like this:\n",
    "\n",
    "```python\n",
    "pivot.style.highlight_min(color='pin')\n",
    "```\n",
    "__Example 9__\n",
    "\n",
    "We can also highlight maximum values from each column:\n",
    "```python\n",
    "pivot.style.highlight_max(color='lightgreen')\n",
    "```\n",
    "__Example 10__\n",
    "\n",
    "We can highlight the minimum and maximum values from each column:\n",
    "```python\n",
    "pivot.style.highlight_min(color='pink').highlight_max(color='lightgreen')\n",
    "```\n",
    "__Example 11__\n",
    "\n",
    "There is also a function for highlighting missing values. Let’s add it to the previous code snippet:\n",
    "\n",
    "```python\n",
    "(pivot.style\n",
    "      .highlight_min(color='pink')\n",
    "      .highlight_max(color='lightgreen')\n",
    "      .highlight_null(null_color='grey'))\n",
    "```\n",
    "__Example 12__\n",
    "\n",
    "We can highlight values between a range like below:\n",
    "\n",
    "```python\n",
    "pivot.style.highlight_between(left=3500, right=4500, color='gold')\n",
    "```\n",
    "__Example 13__\n",
    "\n",
    "We can also highlight quantiles:\n",
    "\n",
    "```python\n",
    "pivot.style.highlight_quantile(q_left=0.7, axis=None, \n",
    "                               color='#4ADBC8')\n",
    "```\n",
    "__Example 14__\n",
    "\n"
   ]
  },
  {
   "cell_type": "code",
   "execution_count": 152,
   "id": "c7352e7f243ee095",
   "metadata": {
    "collapsed": false,
    "ExecuteTime": {
     "end_time": "2024-01-07T03:27:37.709118Z",
     "start_time": "2024-01-07T03:27:37.695064Z"
    }
   },
   "outputs": [
    {
     "data": {
      "text/plain": "<pandas.io.formats.style.Styler at 0x1735e4290>",
      "text/html": "<style type=\"text/css\">\n#T_0989e_row1_col0, #T_0989e_row3_col1 {\n  background-color: pink;\n}\n</style>\n<table id=\"T_0989e\">\n  <thead>\n    <tr>\n      <th class=\"blank\" >&nbsp;</th>\n      <th class=\"index_name level0\" >sex</th>\n      <th id=\"T_0989e_level0_col0\" class=\"col_heading level0 col0\" >Female</th>\n      <th id=\"T_0989e_level0_col1\" class=\"col_heading level0 col1\" >Male</th>\n    </tr>\n    <tr>\n      <th class=\"index_name level0\" >species</th>\n      <th class=\"index_name level1\" >island</th>\n      <th class=\"blank col0\" >&nbsp;</th>\n      <th class=\"blank col1\" >&nbsp;</th>\n    </tr>\n  </thead>\n  <tbody>\n    <tr>\n      <th id=\"T_0989e_level0_row0\" class=\"row_heading level0 row0\" rowspan=\"3\">Adelie</th>\n      <th id=\"T_0989e_level1_row0\" class=\"row_heading level1 row0\" >Biscoe</th>\n      <td id=\"T_0989e_row0_col0\" class=\"data row0 col0\" >3369.318182</td>\n      <td id=\"T_0989e_row0_col1\" class=\"data row0 col1\" >4050.000000</td>\n    </tr>\n    <tr>\n      <th id=\"T_0989e_level1_row1\" class=\"row_heading level1 row1\" >Dream</th>\n      <td id=\"T_0989e_row1_col0\" class=\"data row1 col0\" >3344.444444</td>\n      <td id=\"T_0989e_row1_col1\" class=\"data row1 col1\" >4045.535714</td>\n    </tr>\n    <tr>\n      <th id=\"T_0989e_level1_row2\" class=\"row_heading level1 row2\" >Torgersen</th>\n      <td id=\"T_0989e_row2_col0\" class=\"data row2 col0\" >3395.833333</td>\n      <td id=\"T_0989e_row2_col1\" class=\"data row2 col1\" >4034.782609</td>\n    </tr>\n    <tr>\n      <th id=\"T_0989e_level0_row3\" class=\"row_heading level0 row3\" >Chinstrap</th>\n      <th id=\"T_0989e_level1_row3\" class=\"row_heading level1 row3\" >Dream</th>\n      <td id=\"T_0989e_row3_col0\" class=\"data row3 col0\" >nan</td>\n      <td id=\"T_0989e_row3_col1\" class=\"data row3 col1\" >3938.970588</td>\n    </tr>\n    <tr>\n      <th id=\"T_0989e_level0_row4\" class=\"row_heading level0 row4\" >Gentoo</th>\n      <th id=\"T_0989e_level1_row4\" class=\"row_heading level1 row4\" >Biscoe</th>\n      <td id=\"T_0989e_row4_col0\" class=\"data row4 col0\" >4679.741379</td>\n      <td id=\"T_0989e_row4_col1\" class=\"data row4 col1\" >5484.836066</td>\n    </tr>\n  </tbody>\n</table>\n"
     },
     "execution_count": 152,
     "metadata": {},
     "output_type": "execute_result"
    }
   ],
   "source": [
    "# Example 9\n",
    "pivot.style.highlight_min(color='pink')\n"
   ]
  },
  {
   "cell_type": "code",
   "execution_count": 153,
   "id": "746a98050f917c28",
   "metadata": {
    "collapsed": false,
    "ExecuteTime": {
     "end_time": "2024-01-07T03:27:37.722614Z",
     "start_time": "2024-01-07T03:27:37.712939Z"
    }
   },
   "outputs": [
    {
     "data": {
      "text/plain": "<pandas.io.formats.style.Styler at 0x1735b4e10>",
      "text/html": "<style type=\"text/css\">\n#T_47031_row4_col0, #T_47031_row4_col1 {\n  background-color: lightgreen;\n}\n</style>\n<table id=\"T_47031\">\n  <thead>\n    <tr>\n      <th class=\"blank\" >&nbsp;</th>\n      <th class=\"index_name level0\" >sex</th>\n      <th id=\"T_47031_level0_col0\" class=\"col_heading level0 col0\" >Female</th>\n      <th id=\"T_47031_level0_col1\" class=\"col_heading level0 col1\" >Male</th>\n    </tr>\n    <tr>\n      <th class=\"index_name level0\" >species</th>\n      <th class=\"index_name level1\" >island</th>\n      <th class=\"blank col0\" >&nbsp;</th>\n      <th class=\"blank col1\" >&nbsp;</th>\n    </tr>\n  </thead>\n  <tbody>\n    <tr>\n      <th id=\"T_47031_level0_row0\" class=\"row_heading level0 row0\" rowspan=\"3\">Adelie</th>\n      <th id=\"T_47031_level1_row0\" class=\"row_heading level1 row0\" >Biscoe</th>\n      <td id=\"T_47031_row0_col0\" class=\"data row0 col0\" >3369.318182</td>\n      <td id=\"T_47031_row0_col1\" class=\"data row0 col1\" >4050.000000</td>\n    </tr>\n    <tr>\n      <th id=\"T_47031_level1_row1\" class=\"row_heading level1 row1\" >Dream</th>\n      <td id=\"T_47031_row1_col0\" class=\"data row1 col0\" >3344.444444</td>\n      <td id=\"T_47031_row1_col1\" class=\"data row1 col1\" >4045.535714</td>\n    </tr>\n    <tr>\n      <th id=\"T_47031_level1_row2\" class=\"row_heading level1 row2\" >Torgersen</th>\n      <td id=\"T_47031_row2_col0\" class=\"data row2 col0\" >3395.833333</td>\n      <td id=\"T_47031_row2_col1\" class=\"data row2 col1\" >4034.782609</td>\n    </tr>\n    <tr>\n      <th id=\"T_47031_level0_row3\" class=\"row_heading level0 row3\" >Chinstrap</th>\n      <th id=\"T_47031_level1_row3\" class=\"row_heading level1 row3\" >Dream</th>\n      <td id=\"T_47031_row3_col0\" class=\"data row3 col0\" >nan</td>\n      <td id=\"T_47031_row3_col1\" class=\"data row3 col1\" >3938.970588</td>\n    </tr>\n    <tr>\n      <th id=\"T_47031_level0_row4\" class=\"row_heading level0 row4\" >Gentoo</th>\n      <th id=\"T_47031_level1_row4\" class=\"row_heading level1 row4\" >Biscoe</th>\n      <td id=\"T_47031_row4_col0\" class=\"data row4 col0\" >4679.741379</td>\n      <td id=\"T_47031_row4_col1\" class=\"data row4 col1\" >5484.836066</td>\n    </tr>\n  </tbody>\n</table>\n"
     },
     "execution_count": 153,
     "metadata": {},
     "output_type": "execute_result"
    }
   ],
   "source": [
    "# Example 10\n",
    "pivot.style.highlight_max(color='lightgreen')\n"
   ]
  },
  {
   "cell_type": "code",
   "execution_count": 154,
   "id": "66e764cc2dabba04",
   "metadata": {
    "collapsed": false,
    "ExecuteTime": {
     "end_time": "2024-01-07T03:27:37.748681Z",
     "start_time": "2024-01-07T03:27:37.726860Z"
    }
   },
   "outputs": [
    {
     "data": {
      "text/plain": "<pandas.io.formats.style.Styler at 0x1735b6790>",
      "text/html": "<style type=\"text/css\">\n#T_af004_row1_col0, #T_af004_row3_col1 {\n  background-color: pink;\n}\n#T_af004_row4_col0, #T_af004_row4_col1 {\n  background-color: lightgreen;\n}\n</style>\n<table id=\"T_af004\">\n  <thead>\n    <tr>\n      <th class=\"blank\" >&nbsp;</th>\n      <th class=\"index_name level0\" >sex</th>\n      <th id=\"T_af004_level0_col0\" class=\"col_heading level0 col0\" >Female</th>\n      <th id=\"T_af004_level0_col1\" class=\"col_heading level0 col1\" >Male</th>\n    </tr>\n    <tr>\n      <th class=\"index_name level0\" >species</th>\n      <th class=\"index_name level1\" >island</th>\n      <th class=\"blank col0\" >&nbsp;</th>\n      <th class=\"blank col1\" >&nbsp;</th>\n    </tr>\n  </thead>\n  <tbody>\n    <tr>\n      <th id=\"T_af004_level0_row0\" class=\"row_heading level0 row0\" rowspan=\"3\">Adelie</th>\n      <th id=\"T_af004_level1_row0\" class=\"row_heading level1 row0\" >Biscoe</th>\n      <td id=\"T_af004_row0_col0\" class=\"data row0 col0\" >3369.318182</td>\n      <td id=\"T_af004_row0_col1\" class=\"data row0 col1\" >4050.000000</td>\n    </tr>\n    <tr>\n      <th id=\"T_af004_level1_row1\" class=\"row_heading level1 row1\" >Dream</th>\n      <td id=\"T_af004_row1_col0\" class=\"data row1 col0\" >3344.444444</td>\n      <td id=\"T_af004_row1_col1\" class=\"data row1 col1\" >4045.535714</td>\n    </tr>\n    <tr>\n      <th id=\"T_af004_level1_row2\" class=\"row_heading level1 row2\" >Torgersen</th>\n      <td id=\"T_af004_row2_col0\" class=\"data row2 col0\" >3395.833333</td>\n      <td id=\"T_af004_row2_col1\" class=\"data row2 col1\" >4034.782609</td>\n    </tr>\n    <tr>\n      <th id=\"T_af004_level0_row3\" class=\"row_heading level0 row3\" >Chinstrap</th>\n      <th id=\"T_af004_level1_row3\" class=\"row_heading level1 row3\" >Dream</th>\n      <td id=\"T_af004_row3_col0\" class=\"data row3 col0\" >nan</td>\n      <td id=\"T_af004_row3_col1\" class=\"data row3 col1\" >3938.970588</td>\n    </tr>\n    <tr>\n      <th id=\"T_af004_level0_row4\" class=\"row_heading level0 row4\" >Gentoo</th>\n      <th id=\"T_af004_level1_row4\" class=\"row_heading level1 row4\" >Biscoe</th>\n      <td id=\"T_af004_row4_col0\" class=\"data row4 col0\" >4679.741379</td>\n      <td id=\"T_af004_row4_col1\" class=\"data row4 col1\" >5484.836066</td>\n    </tr>\n  </tbody>\n</table>\n"
     },
     "execution_count": 154,
     "metadata": {},
     "output_type": "execute_result"
    }
   ],
   "source": [
    "# Example 11\n",
    "pivot.style.highlight_min(color='pink').highlight_max(color='lightgreen')\n"
   ]
  },
  {
   "cell_type": "code",
   "execution_count": 155,
   "id": "fea86862438fe023",
   "metadata": {
    "collapsed": false,
    "ExecuteTime": {
     "end_time": "2024-01-07T03:27:37.751147Z",
     "start_time": "2024-01-07T03:27:37.744385Z"
    }
   },
   "outputs": [
    {
     "data": {
      "text/plain": "<pandas.io.formats.style.Styler at 0x17370c6d0>",
      "text/html": "<style type=\"text/css\">\n#T_b93ef_row1_col0, #T_b93ef_row3_col1 {\n  background-color: pink;\n}\n#T_b93ef_row3_col0 {\n  background-color: grey;\n}\n#T_b93ef_row4_col0, #T_b93ef_row4_col1 {\n  background-color: lightgreen;\n}\n</style>\n<table id=\"T_b93ef\">\n  <thead>\n    <tr>\n      <th class=\"blank\" >&nbsp;</th>\n      <th class=\"index_name level0\" >sex</th>\n      <th id=\"T_b93ef_level0_col0\" class=\"col_heading level0 col0\" >Female</th>\n      <th id=\"T_b93ef_level0_col1\" class=\"col_heading level0 col1\" >Male</th>\n    </tr>\n    <tr>\n      <th class=\"index_name level0\" >species</th>\n      <th class=\"index_name level1\" >island</th>\n      <th class=\"blank col0\" >&nbsp;</th>\n      <th class=\"blank col1\" >&nbsp;</th>\n    </tr>\n  </thead>\n  <tbody>\n    <tr>\n      <th id=\"T_b93ef_level0_row0\" class=\"row_heading level0 row0\" rowspan=\"3\">Adelie</th>\n      <th id=\"T_b93ef_level1_row0\" class=\"row_heading level1 row0\" >Biscoe</th>\n      <td id=\"T_b93ef_row0_col0\" class=\"data row0 col0\" >3369.318182</td>\n      <td id=\"T_b93ef_row0_col1\" class=\"data row0 col1\" >4050.000000</td>\n    </tr>\n    <tr>\n      <th id=\"T_b93ef_level1_row1\" class=\"row_heading level1 row1\" >Dream</th>\n      <td id=\"T_b93ef_row1_col0\" class=\"data row1 col0\" >3344.444444</td>\n      <td id=\"T_b93ef_row1_col1\" class=\"data row1 col1\" >4045.535714</td>\n    </tr>\n    <tr>\n      <th id=\"T_b93ef_level1_row2\" class=\"row_heading level1 row2\" >Torgersen</th>\n      <td id=\"T_b93ef_row2_col0\" class=\"data row2 col0\" >3395.833333</td>\n      <td id=\"T_b93ef_row2_col1\" class=\"data row2 col1\" >4034.782609</td>\n    </tr>\n    <tr>\n      <th id=\"T_b93ef_level0_row3\" class=\"row_heading level0 row3\" >Chinstrap</th>\n      <th id=\"T_b93ef_level1_row3\" class=\"row_heading level1 row3\" >Dream</th>\n      <td id=\"T_b93ef_row3_col0\" class=\"data row3 col0\" >nan</td>\n      <td id=\"T_b93ef_row3_col1\" class=\"data row3 col1\" >3938.970588</td>\n    </tr>\n    <tr>\n      <th id=\"T_b93ef_level0_row4\" class=\"row_heading level0 row4\" >Gentoo</th>\n      <th id=\"T_b93ef_level1_row4\" class=\"row_heading level1 row4\" >Biscoe</th>\n      <td id=\"T_b93ef_row4_col0\" class=\"data row4 col0\" >4679.741379</td>\n      <td id=\"T_b93ef_row4_col1\" class=\"data row4 col1\" >5484.836066</td>\n    </tr>\n  </tbody>\n</table>\n"
     },
     "execution_count": 155,
     "metadata": {},
     "output_type": "execute_result"
    }
   ],
   "source": [
    "# Example 12\n",
    "(pivot.style\n",
    "      .highlight_min(color='pink')\n",
    "      .highlight_max(color='lightgreen')\n",
    "      .highlight_null(color='grey'))\n",
    "\n"
   ]
  },
  {
   "cell_type": "code",
   "execution_count": 156,
   "id": "f60e2951868049bb",
   "metadata": {
    "collapsed": false,
    "ExecuteTime": {
     "end_time": "2024-01-07T03:27:37.766007Z",
     "start_time": "2024-01-07T03:27:37.752835Z"
    }
   },
   "outputs": [
    {
     "data": {
      "text/plain": "<pandas.io.formats.style.Styler at 0x15edac7d0>",
      "text/html": "<style type=\"text/css\">\n#T_6fab7_row0_col1, #T_6fab7_row1_col1, #T_6fab7_row2_col1, #T_6fab7_row3_col1 {\n  background-color: gold;\n}\n</style>\n<table id=\"T_6fab7\">\n  <thead>\n    <tr>\n      <th class=\"blank\" >&nbsp;</th>\n      <th class=\"index_name level0\" >sex</th>\n      <th id=\"T_6fab7_level0_col0\" class=\"col_heading level0 col0\" >Female</th>\n      <th id=\"T_6fab7_level0_col1\" class=\"col_heading level0 col1\" >Male</th>\n    </tr>\n    <tr>\n      <th class=\"index_name level0\" >species</th>\n      <th class=\"index_name level1\" >island</th>\n      <th class=\"blank col0\" >&nbsp;</th>\n      <th class=\"blank col1\" >&nbsp;</th>\n    </tr>\n  </thead>\n  <tbody>\n    <tr>\n      <th id=\"T_6fab7_level0_row0\" class=\"row_heading level0 row0\" rowspan=\"3\">Adelie</th>\n      <th id=\"T_6fab7_level1_row0\" class=\"row_heading level1 row0\" >Biscoe</th>\n      <td id=\"T_6fab7_row0_col0\" class=\"data row0 col0\" >3369.318182</td>\n      <td id=\"T_6fab7_row0_col1\" class=\"data row0 col1\" >4050.000000</td>\n    </tr>\n    <tr>\n      <th id=\"T_6fab7_level1_row1\" class=\"row_heading level1 row1\" >Dream</th>\n      <td id=\"T_6fab7_row1_col0\" class=\"data row1 col0\" >3344.444444</td>\n      <td id=\"T_6fab7_row1_col1\" class=\"data row1 col1\" >4045.535714</td>\n    </tr>\n    <tr>\n      <th id=\"T_6fab7_level1_row2\" class=\"row_heading level1 row2\" >Torgersen</th>\n      <td id=\"T_6fab7_row2_col0\" class=\"data row2 col0\" >3395.833333</td>\n      <td id=\"T_6fab7_row2_col1\" class=\"data row2 col1\" >4034.782609</td>\n    </tr>\n    <tr>\n      <th id=\"T_6fab7_level0_row3\" class=\"row_heading level0 row3\" >Chinstrap</th>\n      <th id=\"T_6fab7_level1_row3\" class=\"row_heading level1 row3\" >Dream</th>\n      <td id=\"T_6fab7_row3_col0\" class=\"data row3 col0\" >nan</td>\n      <td id=\"T_6fab7_row3_col1\" class=\"data row3 col1\" >3938.970588</td>\n    </tr>\n    <tr>\n      <th id=\"T_6fab7_level0_row4\" class=\"row_heading level0 row4\" >Gentoo</th>\n      <th id=\"T_6fab7_level1_row4\" class=\"row_heading level1 row4\" >Biscoe</th>\n      <td id=\"T_6fab7_row4_col0\" class=\"data row4 col0\" >4679.741379</td>\n      <td id=\"T_6fab7_row4_col1\" class=\"data row4 col1\" >5484.836066</td>\n    </tr>\n  </tbody>\n</table>\n"
     },
     "execution_count": 156,
     "metadata": {},
     "output_type": "execute_result"
    }
   ],
   "source": [
    "# Example 13\n",
    "pivot.style.highlight_between(left=3500, right=4500, color='gold')\n"
   ]
  },
  {
   "cell_type": "code",
   "execution_count": 157,
   "id": "8b870eaa957fe9d9",
   "metadata": {
    "collapsed": false,
    "ExecuteTime": {
     "end_time": "2024-01-07T03:27:37.776125Z",
     "start_time": "2024-01-07T03:27:37.767648Z"
    }
   },
   "outputs": [
    {
     "data": {
      "text/plain": "<pandas.io.formats.style.Styler at 0x17370f1d0>",
      "text/html": "<style type=\"text/css\">\n#T_ab771_row0_col1, #T_ab771_row4_col0, #T_ab771_row4_col1 {\n  background-color: #4ADBC8;\n}\n</style>\n<table id=\"T_ab771\">\n  <thead>\n    <tr>\n      <th class=\"blank\" >&nbsp;</th>\n      <th class=\"index_name level0\" >sex</th>\n      <th id=\"T_ab771_level0_col0\" class=\"col_heading level0 col0\" >Female</th>\n      <th id=\"T_ab771_level0_col1\" class=\"col_heading level0 col1\" >Male</th>\n    </tr>\n    <tr>\n      <th class=\"index_name level0\" >species</th>\n      <th class=\"index_name level1\" >island</th>\n      <th class=\"blank col0\" >&nbsp;</th>\n      <th class=\"blank col1\" >&nbsp;</th>\n    </tr>\n  </thead>\n  <tbody>\n    <tr>\n      <th id=\"T_ab771_level0_row0\" class=\"row_heading level0 row0\" rowspan=\"3\">Adelie</th>\n      <th id=\"T_ab771_level1_row0\" class=\"row_heading level1 row0\" >Biscoe</th>\n      <td id=\"T_ab771_row0_col0\" class=\"data row0 col0\" >3369.318182</td>\n      <td id=\"T_ab771_row0_col1\" class=\"data row0 col1\" >4050.000000</td>\n    </tr>\n    <tr>\n      <th id=\"T_ab771_level1_row1\" class=\"row_heading level1 row1\" >Dream</th>\n      <td id=\"T_ab771_row1_col0\" class=\"data row1 col0\" >3344.444444</td>\n      <td id=\"T_ab771_row1_col1\" class=\"data row1 col1\" >4045.535714</td>\n    </tr>\n    <tr>\n      <th id=\"T_ab771_level1_row2\" class=\"row_heading level1 row2\" >Torgersen</th>\n      <td id=\"T_ab771_row2_col0\" class=\"data row2 col0\" >3395.833333</td>\n      <td id=\"T_ab771_row2_col1\" class=\"data row2 col1\" >4034.782609</td>\n    </tr>\n    <tr>\n      <th id=\"T_ab771_level0_row3\" class=\"row_heading level0 row3\" >Chinstrap</th>\n      <th id=\"T_ab771_level1_row3\" class=\"row_heading level1 row3\" >Dream</th>\n      <td id=\"T_ab771_row3_col0\" class=\"data row3 col0\" >nan</td>\n      <td id=\"T_ab771_row3_col1\" class=\"data row3 col1\" >3938.970588</td>\n    </tr>\n    <tr>\n      <th id=\"T_ab771_level0_row4\" class=\"row_heading level0 row4\" >Gentoo</th>\n      <th id=\"T_ab771_level1_row4\" class=\"row_heading level1 row4\" >Biscoe</th>\n      <td id=\"T_ab771_row4_col0\" class=\"data row4 col0\" >4679.741379</td>\n      <td id=\"T_ab771_row4_col1\" class=\"data row4 col1\" >5484.836066</td>\n    </tr>\n  </tbody>\n</table>\n"
     },
     "execution_count": 157,
     "metadata": {},
     "output_type": "execute_result"
    }
   ],
   "source": [
    "# Example 14\n",
    "pivot.style.highlight_quantile(q_left=0.7, axis=None, \n",
    "                               color='#4ADBC8')"
   ]
  },
  {
   "cell_type": "markdown",
   "id": "b7effe849ab483a6",
   "metadata": {},
   "source": [
    "### 1.4. Custom color-code\n",
    "In this last section, we will look at a few other ways to colour-code DataFrames using custom functions. We will use the following two methods to apply our custom styling functions:\n",
    "- ◼️ .applymap(): elementwise\n",
    "- ◼️ .apply(): column/row/tablewise\n"
   ]
  },
  {
   "cell_type": "markdown",
   "id": "51d953d16bfb8eb",
   "metadata": {},
   "source": [
    "#### 1.4.1. Elementwise application: applymap()\n",
    "Let’s create a small numerical data by slicing the top 8 rows from the numerical columns. We will use a lambda function to colour values above 190 as blue and the rest as grey:\n",
    "\n",
    "```python\n",
    "df_num = df.select_dtypes('number').head(8)\n",
    "(df_num.style\n",
    "    .applymap(lambda x: f\"color: {'blue' if x>190 else 'grey'}\"))\n",
    "```\n",
    "__Example 15__\n",
    "\n",
    "Let’s look at another example:\n",
    "\n",
    "```python\n",
    "green = 'background-color: lightgreen'\n",
    "pink = 'background-color: pink; color: white'\n",
    "(df_num.style\n",
    "       .applymap(lambda value: green if value>190 else pink))\n",
    "```\n",
    "__Example 16__\n",
    "\n",
    "We can convert the lambda function into a regular function and pass it to .applymap():\n",
    "\n",
    "```python\n",
    "def highlight_190(value):\n",
    "    green = 'background-color: lightgreen'\n",
    "    pink = 'background-color: pink; color: white'\n",
    "    return green if value > 190 else pink\n",
    "df_num.style.applymap(highlight_190)\n",
    "```\n",
    "__Example 17__\n"
   ]
  },
  {
   "cell_type": "code",
   "execution_count": 158,
   "id": "c06d2626fe4f7516",
   "metadata": {
    "collapsed": false,
    "ExecuteTime": {
     "end_time": "2024-01-07T03:27:37.792163Z",
     "start_time": "2024-01-07T03:27:37.776590Z"
    }
   },
   "outputs": [
    {
     "name": "stderr",
     "output_type": "stream",
     "text": [
      "/var/folders/hj/f1jqvs216bg46sc5tmm5by1c0000gn/T/ipykernel_8625/2684726463.py:4: FutureWarning: Styler.applymap has been deprecated. Use Styler.map instead.\n",
      "  .applymap(lambda x: f\"color: {'blue' if x>190 else 'grey'}\"))\n"
     ]
    },
    {
     "data": {
      "text/plain": "<pandas.io.formats.style.Styler at 0x1736fe9d0>",
      "text/html": "<style type=\"text/css\">\n#T_d549f_row0_col0, #T_d549f_row0_col1, #T_d549f_row0_col2, #T_d549f_row1_col0, #T_d549f_row1_col1, #T_d549f_row1_col2, #T_d549f_row2_col0, #T_d549f_row2_col1, #T_d549f_row3_col0, #T_d549f_row3_col1, #T_d549f_row3_col2, #T_d549f_row3_col3, #T_d549f_row4_col0, #T_d549f_row4_col1, #T_d549f_row5_col0, #T_d549f_row5_col1, #T_d549f_row5_col2, #T_d549f_row6_col0, #T_d549f_row6_col1, #T_d549f_row6_col2, #T_d549f_row7_col0, #T_d549f_row7_col1 {\n  color: grey;\n}\n#T_d549f_row0_col3, #T_d549f_row1_col3, #T_d549f_row2_col2, #T_d549f_row2_col3, #T_d549f_row4_col2, #T_d549f_row4_col3, #T_d549f_row5_col3, #T_d549f_row6_col3, #T_d549f_row7_col2, #T_d549f_row7_col3 {\n  color: blue;\n}\n</style>\n<table id=\"T_d549f\">\n  <thead>\n    <tr>\n      <th class=\"blank level0\" >&nbsp;</th>\n      <th id=\"T_d549f_level0_col0\" class=\"col_heading level0 col0\" >bill_length_mm</th>\n      <th id=\"T_d549f_level0_col1\" class=\"col_heading level0 col1\" >bill_depth_mm</th>\n      <th id=\"T_d549f_level0_col2\" class=\"col_heading level0 col2\" >flipper</th>\n      <th id=\"T_d549f_level0_col3\" class=\"col_heading level0 col3\" >mass</th>\n    </tr>\n  </thead>\n  <tbody>\n    <tr>\n      <th id=\"T_d549f_level0_row0\" class=\"row_heading level0 row0\" >0</th>\n      <td id=\"T_d549f_row0_col0\" class=\"data row0 col0\" >39.100000</td>\n      <td id=\"T_d549f_row0_col1\" class=\"data row0 col1\" >18.700000</td>\n      <td id=\"T_d549f_row0_col2\" class=\"data row0 col2\" >181.000000</td>\n      <td id=\"T_d549f_row0_col3\" class=\"data row0 col3\" >3750.000000</td>\n    </tr>\n    <tr>\n      <th id=\"T_d549f_level0_row1\" class=\"row_heading level0 row1\" >1</th>\n      <td id=\"T_d549f_row1_col0\" class=\"data row1 col0\" >39.500000</td>\n      <td id=\"T_d549f_row1_col1\" class=\"data row1 col1\" >17.400000</td>\n      <td id=\"T_d549f_row1_col2\" class=\"data row1 col2\" >186.000000</td>\n      <td id=\"T_d549f_row1_col3\" class=\"data row1 col3\" >3800.000000</td>\n    </tr>\n    <tr>\n      <th id=\"T_d549f_level0_row2\" class=\"row_heading level0 row2\" >2</th>\n      <td id=\"T_d549f_row2_col0\" class=\"data row2 col0\" >40.300000</td>\n      <td id=\"T_d549f_row2_col1\" class=\"data row2 col1\" >18.000000</td>\n      <td id=\"T_d549f_row2_col2\" class=\"data row2 col2\" >195.000000</td>\n      <td id=\"T_d549f_row2_col3\" class=\"data row2 col3\" >3250.000000</td>\n    </tr>\n    <tr>\n      <th id=\"T_d549f_level0_row3\" class=\"row_heading level0 row3\" >3</th>\n      <td id=\"T_d549f_row3_col0\" class=\"data row3 col0\" >nan</td>\n      <td id=\"T_d549f_row3_col1\" class=\"data row3 col1\" >nan</td>\n      <td id=\"T_d549f_row3_col2\" class=\"data row3 col2\" >nan</td>\n      <td id=\"T_d549f_row3_col3\" class=\"data row3 col3\" >nan</td>\n    </tr>\n    <tr>\n      <th id=\"T_d549f_level0_row4\" class=\"row_heading level0 row4\" >4</th>\n      <td id=\"T_d549f_row4_col0\" class=\"data row4 col0\" >36.700000</td>\n      <td id=\"T_d549f_row4_col1\" class=\"data row4 col1\" >19.300000</td>\n      <td id=\"T_d549f_row4_col2\" class=\"data row4 col2\" >193.000000</td>\n      <td id=\"T_d549f_row4_col3\" class=\"data row4 col3\" >3450.000000</td>\n    </tr>\n    <tr>\n      <th id=\"T_d549f_level0_row5\" class=\"row_heading level0 row5\" >5</th>\n      <td id=\"T_d549f_row5_col0\" class=\"data row5 col0\" >39.300000</td>\n      <td id=\"T_d549f_row5_col1\" class=\"data row5 col1\" >20.600000</td>\n      <td id=\"T_d549f_row5_col2\" class=\"data row5 col2\" >190.000000</td>\n      <td id=\"T_d549f_row5_col3\" class=\"data row5 col3\" >3650.000000</td>\n    </tr>\n    <tr>\n      <th id=\"T_d549f_level0_row6\" class=\"row_heading level0 row6\" >6</th>\n      <td id=\"T_d549f_row6_col0\" class=\"data row6 col0\" >38.900000</td>\n      <td id=\"T_d549f_row6_col1\" class=\"data row6 col1\" >17.800000</td>\n      <td id=\"T_d549f_row6_col2\" class=\"data row6 col2\" >181.000000</td>\n      <td id=\"T_d549f_row6_col3\" class=\"data row6 col3\" >3625.000000</td>\n    </tr>\n    <tr>\n      <th id=\"T_d549f_level0_row7\" class=\"row_heading level0 row7\" >7</th>\n      <td id=\"T_d549f_row7_col0\" class=\"data row7 col0\" >39.200000</td>\n      <td id=\"T_d549f_row7_col1\" class=\"data row7 col1\" >19.600000</td>\n      <td id=\"T_d549f_row7_col2\" class=\"data row7 col2\" >195.000000</td>\n      <td id=\"T_d549f_row7_col3\" class=\"data row7 col3\" >4675.000000</td>\n    </tr>\n  </tbody>\n</table>\n"
     },
     "execution_count": 158,
     "metadata": {},
     "output_type": "execute_result"
    }
   ],
   "source": [
    "# Example 15\n",
    "df_num = df.select_dtypes('number').head(8)\n",
    "(df_num.style\n",
    "    .applymap(lambda x: f\"color: {'blue' if x>190 else 'grey'}\"))\n"
   ]
  },
  {
   "cell_type": "code",
   "execution_count": 159,
   "id": "70307687eba16ab3",
   "metadata": {
    "collapsed": false,
    "ExecuteTime": {
     "end_time": "2024-01-07T03:27:37.803519Z",
     "start_time": "2024-01-07T03:27:37.794203Z"
    }
   },
   "outputs": [
    {
     "name": "stderr",
     "output_type": "stream",
     "text": [
      "/var/folders/hj/f1jqvs216bg46sc5tmm5by1c0000gn/T/ipykernel_8625/2018545505.py:5: FutureWarning: Styler.applymap has been deprecated. Use Styler.map instead.\n",
      "  .applymap(lambda value: green if value>190 else pink))\n"
     ]
    },
    {
     "data": {
      "text/plain": "<pandas.io.formats.style.Styler at 0x1735af950>",
      "text/html": "<style type=\"text/css\">\n#T_ebec2_row0_col0, #T_ebec2_row0_col1, #T_ebec2_row0_col2, #T_ebec2_row1_col0, #T_ebec2_row1_col1, #T_ebec2_row1_col2, #T_ebec2_row2_col0, #T_ebec2_row2_col1, #T_ebec2_row3_col0, #T_ebec2_row3_col1, #T_ebec2_row3_col2, #T_ebec2_row3_col3, #T_ebec2_row4_col0, #T_ebec2_row4_col1, #T_ebec2_row5_col0, #T_ebec2_row5_col1, #T_ebec2_row5_col2, #T_ebec2_row6_col0, #T_ebec2_row6_col1, #T_ebec2_row6_col2, #T_ebec2_row7_col0, #T_ebec2_row7_col1 {\n  background-color: pink;\n  color: white;\n}\n#T_ebec2_row0_col3, #T_ebec2_row1_col3, #T_ebec2_row2_col2, #T_ebec2_row2_col3, #T_ebec2_row4_col2, #T_ebec2_row4_col3, #T_ebec2_row5_col3, #T_ebec2_row6_col3, #T_ebec2_row7_col2, #T_ebec2_row7_col3 {\n  background-color: lightgreen;\n}\n</style>\n<table id=\"T_ebec2\">\n  <thead>\n    <tr>\n      <th class=\"blank level0\" >&nbsp;</th>\n      <th id=\"T_ebec2_level0_col0\" class=\"col_heading level0 col0\" >bill_length_mm</th>\n      <th id=\"T_ebec2_level0_col1\" class=\"col_heading level0 col1\" >bill_depth_mm</th>\n      <th id=\"T_ebec2_level0_col2\" class=\"col_heading level0 col2\" >flipper</th>\n      <th id=\"T_ebec2_level0_col3\" class=\"col_heading level0 col3\" >mass</th>\n    </tr>\n  </thead>\n  <tbody>\n    <tr>\n      <th id=\"T_ebec2_level0_row0\" class=\"row_heading level0 row0\" >0</th>\n      <td id=\"T_ebec2_row0_col0\" class=\"data row0 col0\" >39.100000</td>\n      <td id=\"T_ebec2_row0_col1\" class=\"data row0 col1\" >18.700000</td>\n      <td id=\"T_ebec2_row0_col2\" class=\"data row0 col2\" >181.000000</td>\n      <td id=\"T_ebec2_row0_col3\" class=\"data row0 col3\" >3750.000000</td>\n    </tr>\n    <tr>\n      <th id=\"T_ebec2_level0_row1\" class=\"row_heading level0 row1\" >1</th>\n      <td id=\"T_ebec2_row1_col0\" class=\"data row1 col0\" >39.500000</td>\n      <td id=\"T_ebec2_row1_col1\" class=\"data row1 col1\" >17.400000</td>\n      <td id=\"T_ebec2_row1_col2\" class=\"data row1 col2\" >186.000000</td>\n      <td id=\"T_ebec2_row1_col3\" class=\"data row1 col3\" >3800.000000</td>\n    </tr>\n    <tr>\n      <th id=\"T_ebec2_level0_row2\" class=\"row_heading level0 row2\" >2</th>\n      <td id=\"T_ebec2_row2_col0\" class=\"data row2 col0\" >40.300000</td>\n      <td id=\"T_ebec2_row2_col1\" class=\"data row2 col1\" >18.000000</td>\n      <td id=\"T_ebec2_row2_col2\" class=\"data row2 col2\" >195.000000</td>\n      <td id=\"T_ebec2_row2_col3\" class=\"data row2 col3\" >3250.000000</td>\n    </tr>\n    <tr>\n      <th id=\"T_ebec2_level0_row3\" class=\"row_heading level0 row3\" >3</th>\n      <td id=\"T_ebec2_row3_col0\" class=\"data row3 col0\" >nan</td>\n      <td id=\"T_ebec2_row3_col1\" class=\"data row3 col1\" >nan</td>\n      <td id=\"T_ebec2_row3_col2\" class=\"data row3 col2\" >nan</td>\n      <td id=\"T_ebec2_row3_col3\" class=\"data row3 col3\" >nan</td>\n    </tr>\n    <tr>\n      <th id=\"T_ebec2_level0_row4\" class=\"row_heading level0 row4\" >4</th>\n      <td id=\"T_ebec2_row4_col0\" class=\"data row4 col0\" >36.700000</td>\n      <td id=\"T_ebec2_row4_col1\" class=\"data row4 col1\" >19.300000</td>\n      <td id=\"T_ebec2_row4_col2\" class=\"data row4 col2\" >193.000000</td>\n      <td id=\"T_ebec2_row4_col3\" class=\"data row4 col3\" >3450.000000</td>\n    </tr>\n    <tr>\n      <th id=\"T_ebec2_level0_row5\" class=\"row_heading level0 row5\" >5</th>\n      <td id=\"T_ebec2_row5_col0\" class=\"data row5 col0\" >39.300000</td>\n      <td id=\"T_ebec2_row5_col1\" class=\"data row5 col1\" >20.600000</td>\n      <td id=\"T_ebec2_row5_col2\" class=\"data row5 col2\" >190.000000</td>\n      <td id=\"T_ebec2_row5_col3\" class=\"data row5 col3\" >3650.000000</td>\n    </tr>\n    <tr>\n      <th id=\"T_ebec2_level0_row6\" class=\"row_heading level0 row6\" >6</th>\n      <td id=\"T_ebec2_row6_col0\" class=\"data row6 col0\" >38.900000</td>\n      <td id=\"T_ebec2_row6_col1\" class=\"data row6 col1\" >17.800000</td>\n      <td id=\"T_ebec2_row6_col2\" class=\"data row6 col2\" >181.000000</td>\n      <td id=\"T_ebec2_row6_col3\" class=\"data row6 col3\" >3625.000000</td>\n    </tr>\n    <tr>\n      <th id=\"T_ebec2_level0_row7\" class=\"row_heading level0 row7\" >7</th>\n      <td id=\"T_ebec2_row7_col0\" class=\"data row7 col0\" >39.200000</td>\n      <td id=\"T_ebec2_row7_col1\" class=\"data row7 col1\" >19.600000</td>\n      <td id=\"T_ebec2_row7_col2\" class=\"data row7 col2\" >195.000000</td>\n      <td id=\"T_ebec2_row7_col3\" class=\"data row7 col3\" >4675.000000</td>\n    </tr>\n  </tbody>\n</table>\n"
     },
     "execution_count": 159,
     "metadata": {},
     "output_type": "execute_result"
    }
   ],
   "source": [
    "# Example 16\n",
    "green = 'background-color: lightgreen'\n",
    "pink = 'background-color: pink; color: white'\n",
    "(df_num.style\n",
    "       .applymap(lambda value: green if value>190 else pink))\n"
   ]
  },
  {
   "cell_type": "code",
   "execution_count": 160,
   "id": "acf9acdc137fa6e6",
   "metadata": {
    "collapsed": false,
    "tags": [],
    "ExecuteTime": {
     "end_time": "2024-01-07T03:27:37.811474Z",
     "start_time": "2024-01-07T03:27:37.798995Z"
    }
   },
   "outputs": [
    {
     "name": "stderr",
     "output_type": "stream",
     "text": [
      "/var/folders/hj/f1jqvs216bg46sc5tmm5by1c0000gn/T/ipykernel_8625/907071917.py:7: FutureWarning: Styler.applymap has been deprecated. Use Styler.map instead.\n",
      "  df_num.style.applymap(highlight_190)\n"
     ]
    },
    {
     "data": {
      "text/plain": "<pandas.io.formats.style.Styler at 0x169fca710>",
      "text/html": "<style type=\"text/css\">\n#T_ea687_row0_col0, #T_ea687_row0_col1, #T_ea687_row0_col2, #T_ea687_row1_col0, #T_ea687_row1_col1, #T_ea687_row1_col2, #T_ea687_row2_col0, #T_ea687_row2_col1, #T_ea687_row3_col0, #T_ea687_row3_col1, #T_ea687_row3_col2, #T_ea687_row3_col3, #T_ea687_row4_col0, #T_ea687_row4_col1, #T_ea687_row5_col0, #T_ea687_row5_col1, #T_ea687_row5_col2, #T_ea687_row6_col0, #T_ea687_row6_col1, #T_ea687_row6_col2, #T_ea687_row7_col0, #T_ea687_row7_col1 {\n  background-color: pink;\n  color: white;\n}\n#T_ea687_row0_col3, #T_ea687_row1_col3, #T_ea687_row2_col2, #T_ea687_row2_col3, #T_ea687_row4_col2, #T_ea687_row4_col3, #T_ea687_row5_col3, #T_ea687_row6_col3, #T_ea687_row7_col2, #T_ea687_row7_col3 {\n  background-color: lightgreen;\n}\n</style>\n<table id=\"T_ea687\">\n  <thead>\n    <tr>\n      <th class=\"blank level0\" >&nbsp;</th>\n      <th id=\"T_ea687_level0_col0\" class=\"col_heading level0 col0\" >bill_length_mm</th>\n      <th id=\"T_ea687_level0_col1\" class=\"col_heading level0 col1\" >bill_depth_mm</th>\n      <th id=\"T_ea687_level0_col2\" class=\"col_heading level0 col2\" >flipper</th>\n      <th id=\"T_ea687_level0_col3\" class=\"col_heading level0 col3\" >mass</th>\n    </tr>\n  </thead>\n  <tbody>\n    <tr>\n      <th id=\"T_ea687_level0_row0\" class=\"row_heading level0 row0\" >0</th>\n      <td id=\"T_ea687_row0_col0\" class=\"data row0 col0\" >39.100000</td>\n      <td id=\"T_ea687_row0_col1\" class=\"data row0 col1\" >18.700000</td>\n      <td id=\"T_ea687_row0_col2\" class=\"data row0 col2\" >181.000000</td>\n      <td id=\"T_ea687_row0_col3\" class=\"data row0 col3\" >3750.000000</td>\n    </tr>\n    <tr>\n      <th id=\"T_ea687_level0_row1\" class=\"row_heading level0 row1\" >1</th>\n      <td id=\"T_ea687_row1_col0\" class=\"data row1 col0\" >39.500000</td>\n      <td id=\"T_ea687_row1_col1\" class=\"data row1 col1\" >17.400000</td>\n      <td id=\"T_ea687_row1_col2\" class=\"data row1 col2\" >186.000000</td>\n      <td id=\"T_ea687_row1_col3\" class=\"data row1 col3\" >3800.000000</td>\n    </tr>\n    <tr>\n      <th id=\"T_ea687_level0_row2\" class=\"row_heading level0 row2\" >2</th>\n      <td id=\"T_ea687_row2_col0\" class=\"data row2 col0\" >40.300000</td>\n      <td id=\"T_ea687_row2_col1\" class=\"data row2 col1\" >18.000000</td>\n      <td id=\"T_ea687_row2_col2\" class=\"data row2 col2\" >195.000000</td>\n      <td id=\"T_ea687_row2_col3\" class=\"data row2 col3\" >3250.000000</td>\n    </tr>\n    <tr>\n      <th id=\"T_ea687_level0_row3\" class=\"row_heading level0 row3\" >3</th>\n      <td id=\"T_ea687_row3_col0\" class=\"data row3 col0\" >nan</td>\n      <td id=\"T_ea687_row3_col1\" class=\"data row3 col1\" >nan</td>\n      <td id=\"T_ea687_row3_col2\" class=\"data row3 col2\" >nan</td>\n      <td id=\"T_ea687_row3_col3\" class=\"data row3 col3\" >nan</td>\n    </tr>\n    <tr>\n      <th id=\"T_ea687_level0_row4\" class=\"row_heading level0 row4\" >4</th>\n      <td id=\"T_ea687_row4_col0\" class=\"data row4 col0\" >36.700000</td>\n      <td id=\"T_ea687_row4_col1\" class=\"data row4 col1\" >19.300000</td>\n      <td id=\"T_ea687_row4_col2\" class=\"data row4 col2\" >193.000000</td>\n      <td id=\"T_ea687_row4_col3\" class=\"data row4 col3\" >3450.000000</td>\n    </tr>\n    <tr>\n      <th id=\"T_ea687_level0_row5\" class=\"row_heading level0 row5\" >5</th>\n      <td id=\"T_ea687_row5_col0\" class=\"data row5 col0\" >39.300000</td>\n      <td id=\"T_ea687_row5_col1\" class=\"data row5 col1\" >20.600000</td>\n      <td id=\"T_ea687_row5_col2\" class=\"data row5 col2\" >190.000000</td>\n      <td id=\"T_ea687_row5_col3\" class=\"data row5 col3\" >3650.000000</td>\n    </tr>\n    <tr>\n      <th id=\"T_ea687_level0_row6\" class=\"row_heading level0 row6\" >6</th>\n      <td id=\"T_ea687_row6_col0\" class=\"data row6 col0\" >38.900000</td>\n      <td id=\"T_ea687_row6_col1\" class=\"data row6 col1\" >17.800000</td>\n      <td id=\"T_ea687_row6_col2\" class=\"data row6 col2\" >181.000000</td>\n      <td id=\"T_ea687_row6_col3\" class=\"data row6 col3\" >3625.000000</td>\n    </tr>\n    <tr>\n      <th id=\"T_ea687_level0_row7\" class=\"row_heading level0 row7\" >7</th>\n      <td id=\"T_ea687_row7_col0\" class=\"data row7 col0\" >39.200000</td>\n      <td id=\"T_ea687_row7_col1\" class=\"data row7 col1\" >19.600000</td>\n      <td id=\"T_ea687_row7_col2\" class=\"data row7 col2\" >195.000000</td>\n      <td id=\"T_ea687_row7_col3\" class=\"data row7 col3\" >4675.000000</td>\n    </tr>\n  </tbody>\n</table>\n"
     },
     "execution_count": 160,
     "metadata": {},
     "output_type": "execute_result"
    }
   ],
   "source": [
    "# Example 17\n",
    "def highlight_190(value):\n",
    "    green = 'background-color: lightgreen'\n",
    "    pink = 'background-color: pink; color: white'\n",
    "    return green if value > 190 else pink\n",
    "\n",
    "df_num.style.applymap(highlight_190)\n"
   ]
  },
  {
   "cell_type": "markdown",
   "id": "2e9cbd7ea85f8332",
   "metadata": {},
   "source": [
    "#### 1.4.2. Column/row/tablewise application: apply()\n",
    "Let’s see how we could do the same formatting using .apply():\n",
    "\n",
    "```python\n",
    "def highlight_190(series):\n",
    "    green = 'background-color: lightgreen'\n",
    "    pink = 'background-color: pink; color: white'\n",
    "    return [green if value > 190 else pink for value in series]\n",
    "df_num.style.apply(highlight_190)\n",
    "```\n",
    "\n",
    "We can also chain them just like the previous functions:\n",
    "\n",
    "```python\n",
    "(df_num.style\n",
    "       .apply(highlight_190)\n",
    "       .applymap(lambda value: 'opacity: 40%' if value<30 \n",
    "                 else None))\n",
    "```\n",
    "__Example 18__\n",
    "\n",
    "It’s useful to know how to use both .apply() and .applymap(). Here’s an example where we can use .apply() but not .applymap():\n",
    "\n",
    "```python\n",
    "def highlight_above_median(series):\n",
    "    is_above = series>series.median()\n",
    "    above = 'background-color: lightgreen'\n",
    "    below = 'background-color: grey; color: white'\n",
    "    return [above if value else below for value in is_above]\n",
    "df_num.style.apply(highlight_above_median)\n",
    "```\n",
    "__Example 19__\n",
    "\n",
    "We find the median value by each column and highlight values higher than median in green and the rest in grey. We can also style the entire column based on conditions with .apply():\n",
    "\n",
    "```python\n",
    "def highlight(data):\n",
    "    n = len(data)\n",
    "    if data['sex']=='Male':\n",
    "        return n*['background-color: lightblue']\n",
    "    if data['sex']=='Female':\n",
    "        return n*['background-color: lightpink']\n",
    "    else:\n",
    "        return n*['']\n",
    "df.head(6).style.apply(highlight, axis=1).hide()\n",
    "```\n",
    "__Example 20__\n",
    "\n",
    "Here, we have hidden DataFrame’s indices with `.hide()` for a cleaner look. If needed, you can also hide columns with `.hide_columns()` as well.\n",
    "\n"
   ]
  },
  {
   "cell_type": "code",
   "execution_count": 165,
   "id": "b33a7cbf02e7634a",
   "metadata": {
    "collapsed": false,
    "ExecuteTime": {
     "end_time": "2024-01-07T03:35:58.211502Z",
     "start_time": "2024-01-07T03:35:58.189559Z"
    }
   },
   "outputs": [
    {
     "name": "stderr",
     "output_type": "stream",
     "text": [
      "/var/folders/hj/f1jqvs216bg46sc5tmm5by1c0000gn/T/ipykernel_8625/1418580861.py:5: FutureWarning: Styler.applymap has been deprecated. Use Styler.map instead.\n",
      "  .applymap(lambda value: 'opacity: 40%' if isinstance(value, numbers.Number) & value<30\n"
     ]
    },
    {
     "ename": "ValueError",
     "evalue": "The truth value of a Series is ambiguous. Use a.empty, a.bool(), a.item(), a.any() or a.all().",
     "output_type": "error",
     "traceback": [
      "\u001B[0;31m---------------------------------------------------------------------------\u001B[0m",
      "\u001B[0;31mValueError\u001B[0m                                Traceback (most recent call last)",
      "\u001B[0;32m~/anaconda3/envs/dataquest/lib/python3.11/site-packages/pandas/io/formats/style.py\u001B[0m in \u001B[0;36m?\u001B[0;34m(self)\u001B[0m\n\u001B[1;32m    404\u001B[0m         \u001B[0mHooks\u001B[0m \u001B[0minto\u001B[0m \u001B[0mJupyter\u001B[0m \u001B[0mnotebook\u001B[0m \u001B[0mrich\u001B[0m \u001B[0mdisplay\u001B[0m \u001B[0msystem\u001B[0m\u001B[0;34m,\u001B[0m \u001B[0mwhich\u001B[0m \u001B[0mcalls\u001B[0m \u001B[0m_repr_html_\u001B[0m \u001B[0mby\u001B[0m\u001B[0;34m\u001B[0m\u001B[0;34m\u001B[0m\u001B[0m\n\u001B[1;32m    405\u001B[0m         \u001B[0mdefault\u001B[0m \u001B[0;32mif\u001B[0m \u001B[0man\u001B[0m \u001B[0mobject\u001B[0m \u001B[0;32mis\u001B[0m \u001B[0mreturned\u001B[0m \u001B[0mat\u001B[0m \u001B[0mthe\u001B[0m \u001B[0mend\u001B[0m \u001B[0mof\u001B[0m \u001B[0ma\u001B[0m \u001B[0mcell\u001B[0m\u001B[0;34m.\u001B[0m\u001B[0;34m\u001B[0m\u001B[0;34m\u001B[0m\u001B[0m\n\u001B[1;32m    406\u001B[0m         \"\"\"\n\u001B[1;32m    407\u001B[0m         \u001B[0;32mif\u001B[0m \u001B[0mget_option\u001B[0m\u001B[0;34m(\u001B[0m\u001B[0;34m\"styler.render.repr\"\u001B[0m\u001B[0;34m)\u001B[0m \u001B[0;34m==\u001B[0m \u001B[0;34m\"html\"\u001B[0m\u001B[0;34m:\u001B[0m\u001B[0;34m\u001B[0m\u001B[0;34m\u001B[0m\u001B[0m\n\u001B[0;32m--> 408\u001B[0;31m             \u001B[0;32mreturn\u001B[0m \u001B[0mself\u001B[0m\u001B[0;34m.\u001B[0m\u001B[0mto_html\u001B[0m\u001B[0;34m(\u001B[0m\u001B[0;34m)\u001B[0m\u001B[0;34m\u001B[0m\u001B[0;34m\u001B[0m\u001B[0m\n\u001B[0m\u001B[1;32m    409\u001B[0m         \u001B[0;32mreturn\u001B[0m \u001B[0;32mNone\u001B[0m\u001B[0;34m\u001B[0m\u001B[0;34m\u001B[0m\u001B[0m\n",
      "\u001B[0;32m~/anaconda3/envs/dataquest/lib/python3.11/site-packages/pandas/io/formats/style.py\u001B[0m in \u001B[0;36m?\u001B[0;34m(self, buf, table_uuid, table_attributes, sparse_index, sparse_columns, bold_headers, caption, max_rows, max_columns, encoding, doctype_html, exclude_styles, **kwargs)\u001B[0m\n\u001B[1;32m   1344\u001B[0m         \u001B[0;32mif\u001B[0m \u001B[0mcaption\u001B[0m \u001B[0;32mis\u001B[0m \u001B[0;32mnot\u001B[0m \u001B[0;32mNone\u001B[0m\u001B[0;34m:\u001B[0m\u001B[0;34m\u001B[0m\u001B[0;34m\u001B[0m\u001B[0m\n\u001B[1;32m   1345\u001B[0m             \u001B[0mobj\u001B[0m\u001B[0;34m.\u001B[0m\u001B[0mset_caption\u001B[0m\u001B[0;34m(\u001B[0m\u001B[0mcaption\u001B[0m\u001B[0;34m)\u001B[0m\u001B[0;34m\u001B[0m\u001B[0;34m\u001B[0m\u001B[0m\n\u001B[1;32m   1346\u001B[0m \u001B[0;34m\u001B[0m\u001B[0m\n\u001B[1;32m   1347\u001B[0m         \u001B[0;31m# Build HTML string..\u001B[0m\u001B[0;34m\u001B[0m\u001B[0;34m\u001B[0m\u001B[0m\n\u001B[0;32m-> 1348\u001B[0;31m         html = obj._render_html(\n\u001B[0m\u001B[1;32m   1349\u001B[0m             \u001B[0msparse_index\u001B[0m\u001B[0;34m=\u001B[0m\u001B[0msparse_index\u001B[0m\u001B[0;34m,\u001B[0m\u001B[0;34m\u001B[0m\u001B[0;34m\u001B[0m\u001B[0m\n\u001B[1;32m   1350\u001B[0m             \u001B[0msparse_columns\u001B[0m\u001B[0;34m=\u001B[0m\u001B[0msparse_columns\u001B[0m\u001B[0;34m,\u001B[0m\u001B[0;34m\u001B[0m\u001B[0;34m\u001B[0m\u001B[0m\n\u001B[1;32m   1351\u001B[0m             \u001B[0mmax_rows\u001B[0m\u001B[0;34m=\u001B[0m\u001B[0mmax_rows\u001B[0m\u001B[0;34m,\u001B[0m\u001B[0;34m\u001B[0m\u001B[0;34m\u001B[0m\u001B[0m\n",
      "\u001B[0;32m~/anaconda3/envs/dataquest/lib/python3.11/site-packages/pandas/io/formats/style_render.py\u001B[0m in \u001B[0;36m?\u001B[0;34m(self, sparse_index, sparse_columns, max_rows, max_cols, **kwargs)\u001B[0m\n\u001B[1;32m    200\u001B[0m         \"\"\"\n\u001B[1;32m    201\u001B[0m         \u001B[0mRenders\u001B[0m \u001B[0mthe\u001B[0m\u001B[0;31m \u001B[0m\u001B[0;31m`\u001B[0m\u001B[0;31m`\u001B[0m\u001B[0mStyler\u001B[0m\u001B[0;31m`\u001B[0m\u001B[0;31m`\u001B[0m \u001B[0mincluding\u001B[0m \u001B[0mall\u001B[0m \u001B[0mapplied\u001B[0m \u001B[0mstyles\u001B[0m \u001B[0mto\u001B[0m \u001B[0mHTML\u001B[0m\u001B[0;34m.\u001B[0m\u001B[0;34m\u001B[0m\u001B[0;34m\u001B[0m\u001B[0m\n\u001B[1;32m    202\u001B[0m         \u001B[0mGenerates\u001B[0m \u001B[0ma\u001B[0m \u001B[0mdict\u001B[0m \u001B[0;32mwith\u001B[0m \u001B[0mnecessary\u001B[0m \u001B[0mkwargs\u001B[0m \u001B[0mpassed\u001B[0m \u001B[0mto\u001B[0m \u001B[0mjinja2\u001B[0m \u001B[0mtemplate\u001B[0m\u001B[0;34m.\u001B[0m\u001B[0;34m\u001B[0m\u001B[0;34m\u001B[0m\u001B[0m\n\u001B[1;32m    203\u001B[0m         \"\"\"\n\u001B[0;32m--> 204\u001B[0;31m         \u001B[0md\u001B[0m \u001B[0;34m=\u001B[0m \u001B[0mself\u001B[0m\u001B[0;34m.\u001B[0m\u001B[0m_render\u001B[0m\u001B[0;34m(\u001B[0m\u001B[0msparse_index\u001B[0m\u001B[0;34m,\u001B[0m \u001B[0msparse_columns\u001B[0m\u001B[0;34m,\u001B[0m \u001B[0mmax_rows\u001B[0m\u001B[0;34m,\u001B[0m \u001B[0mmax_cols\u001B[0m\u001B[0;34m,\u001B[0m \u001B[0;34m\"&nbsp;\"\u001B[0m\u001B[0;34m)\u001B[0m\u001B[0;34m\u001B[0m\u001B[0;34m\u001B[0m\u001B[0m\n\u001B[0m\u001B[1;32m    205\u001B[0m         \u001B[0md\u001B[0m\u001B[0;34m.\u001B[0m\u001B[0mupdate\u001B[0m\u001B[0;34m(\u001B[0m\u001B[0mkwargs\u001B[0m\u001B[0;34m)\u001B[0m\u001B[0;34m\u001B[0m\u001B[0;34m\u001B[0m\u001B[0m\n\u001B[1;32m    206\u001B[0m         return self.template_html.render(\n\u001B[1;32m    207\u001B[0m             \u001B[0;34m**\u001B[0m\u001B[0md\u001B[0m\u001B[0;34m,\u001B[0m\u001B[0;34m\u001B[0m\u001B[0;34m\u001B[0m\u001B[0m\n",
      "\u001B[0;32m~/anaconda3/envs/dataquest/lib/python3.11/site-packages/pandas/io/formats/style_render.py\u001B[0m in \u001B[0;36m?\u001B[0;34m(self, sparse_index, sparse_columns, max_rows, max_cols, blank)\u001B[0m\n\u001B[1;32m    157\u001B[0m \u001B[0;34m\u001B[0m\u001B[0m\n\u001B[1;32m    158\u001B[0m         \u001B[0mAlso\u001B[0m \u001B[0mextends\u001B[0m \u001B[0mthe\u001B[0m\u001B[0;31m \u001B[0m\u001B[0;31m`\u001B[0m\u001B[0mctx\u001B[0m\u001B[0;31m`\u001B[0m \u001B[0;32mand\u001B[0m\u001B[0;31m \u001B[0m\u001B[0;31m`\u001B[0m\u001B[0mctx_index\u001B[0m\u001B[0;31m`\u001B[0m \u001B[0mattributes\u001B[0m \u001B[0;32mwith\u001B[0m \u001B[0mthose\u001B[0m \u001B[0mof\u001B[0m \u001B[0mconcatenated\u001B[0m\u001B[0;34m\u001B[0m\u001B[0;34m\u001B[0m\u001B[0m\n\u001B[1;32m    159\u001B[0m         \u001B[0mstylers\u001B[0m \u001B[0;32mfor\u001B[0m \u001B[0muse\u001B[0m \u001B[0mwithin\u001B[0m\u001B[0;31m \u001B[0m\u001B[0;31m`\u001B[0m\u001B[0m_translate_latex\u001B[0m\u001B[0;31m`\u001B[0m\u001B[0;34m\u001B[0m\u001B[0;34m\u001B[0m\u001B[0m\n\u001B[1;32m    160\u001B[0m         \"\"\"\n\u001B[0;32m--> 161\u001B[0;31m         \u001B[0mself\u001B[0m\u001B[0;34m.\u001B[0m\u001B[0m_compute\u001B[0m\u001B[0;34m(\u001B[0m\u001B[0;34m)\u001B[0m\u001B[0;34m\u001B[0m\u001B[0;34m\u001B[0m\u001B[0m\n\u001B[0m\u001B[1;32m    162\u001B[0m         \u001B[0mdxs\u001B[0m \u001B[0;34m=\u001B[0m \u001B[0;34m[\u001B[0m\u001B[0;34m]\u001B[0m\u001B[0;34m\u001B[0m\u001B[0;34m\u001B[0m\u001B[0m\n\u001B[1;32m    163\u001B[0m         \u001B[0mctx_len\u001B[0m \u001B[0;34m=\u001B[0m \u001B[0mlen\u001B[0m\u001B[0;34m(\u001B[0m\u001B[0mself\u001B[0m\u001B[0;34m.\u001B[0m\u001B[0mindex\u001B[0m\u001B[0;34m)\u001B[0m\u001B[0;34m\u001B[0m\u001B[0;34m\u001B[0m\u001B[0m\n\u001B[1;32m    164\u001B[0m         \u001B[0;32mfor\u001B[0m \u001B[0mi\u001B[0m\u001B[0;34m,\u001B[0m \u001B[0mconcatenated\u001B[0m \u001B[0;32min\u001B[0m \u001B[0menumerate\u001B[0m\u001B[0;34m(\u001B[0m\u001B[0mself\u001B[0m\u001B[0;34m.\u001B[0m\u001B[0mconcatenated\u001B[0m\u001B[0;34m)\u001B[0m\u001B[0;34m:\u001B[0m\u001B[0;34m\u001B[0m\u001B[0;34m\u001B[0m\u001B[0m\n",
      "\u001B[0;32m~/anaconda3/envs/dataquest/lib/python3.11/site-packages/pandas/io/formats/style_render.py\u001B[0m in \u001B[0;36m?\u001B[0;34m(self)\u001B[0m\n\u001B[1;32m    252\u001B[0m         \u001B[0mself\u001B[0m\u001B[0;34m.\u001B[0m\u001B[0mctx_index\u001B[0m\u001B[0;34m.\u001B[0m\u001B[0mclear\u001B[0m\u001B[0;34m(\u001B[0m\u001B[0;34m)\u001B[0m\u001B[0;34m\u001B[0m\u001B[0;34m\u001B[0m\u001B[0m\n\u001B[1;32m    253\u001B[0m         \u001B[0mself\u001B[0m\u001B[0;34m.\u001B[0m\u001B[0mctx_columns\u001B[0m\u001B[0;34m.\u001B[0m\u001B[0mclear\u001B[0m\u001B[0;34m(\u001B[0m\u001B[0;34m)\u001B[0m\u001B[0;34m\u001B[0m\u001B[0;34m\u001B[0m\u001B[0m\n\u001B[1;32m    254\u001B[0m         \u001B[0mr\u001B[0m \u001B[0;34m=\u001B[0m \u001B[0mself\u001B[0m\u001B[0;34m\u001B[0m\u001B[0;34m\u001B[0m\u001B[0m\n\u001B[1;32m    255\u001B[0m         \u001B[0;32mfor\u001B[0m \u001B[0mfunc\u001B[0m\u001B[0;34m,\u001B[0m \u001B[0margs\u001B[0m\u001B[0;34m,\u001B[0m \u001B[0mkwargs\u001B[0m \u001B[0;32min\u001B[0m \u001B[0mself\u001B[0m\u001B[0;34m.\u001B[0m\u001B[0m_todo\u001B[0m\u001B[0;34m:\u001B[0m\u001B[0;34m\u001B[0m\u001B[0;34m\u001B[0m\u001B[0m\n\u001B[0;32m--> 256\u001B[0;31m             \u001B[0mr\u001B[0m \u001B[0;34m=\u001B[0m \u001B[0mfunc\u001B[0m\u001B[0;34m(\u001B[0m\u001B[0mself\u001B[0m\u001B[0;34m)\u001B[0m\u001B[0;34m(\u001B[0m\u001B[0;34m*\u001B[0m\u001B[0margs\u001B[0m\u001B[0;34m,\u001B[0m \u001B[0;34m**\u001B[0m\u001B[0mkwargs\u001B[0m\u001B[0;34m)\u001B[0m\u001B[0;34m\u001B[0m\u001B[0;34m\u001B[0m\u001B[0m\n\u001B[0m\u001B[1;32m    257\u001B[0m         \u001B[0;32mreturn\u001B[0m \u001B[0mr\u001B[0m\u001B[0;34m\u001B[0m\u001B[0;34m\u001B[0m\u001B[0m\n",
      "\u001B[0;32m~/anaconda3/envs/dataquest/lib/python3.11/site-packages/pandas/io/formats/style.py\u001B[0m in \u001B[0;36m?\u001B[0;34m(self, func, axis, subset, **kwargs)\u001B[0m\n\u001B[1;32m   1725\u001B[0m                 \u001B[0mresult\u001B[0m \u001B[0;34m=\u001B[0m \u001B[0mDataFrame\u001B[0m\u001B[0;34m(\u001B[0m\u001B[0mresult\u001B[0m\u001B[0;34m,\u001B[0m \u001B[0mindex\u001B[0m\u001B[0;34m=\u001B[0m\u001B[0mdata\u001B[0m\u001B[0;34m.\u001B[0m\u001B[0mindex\u001B[0m\u001B[0;34m,\u001B[0m \u001B[0mcolumns\u001B[0m\u001B[0;34m=\u001B[0m\u001B[0mdata\u001B[0m\u001B[0;34m.\u001B[0m\u001B[0mcolumns\u001B[0m\u001B[0;34m)\u001B[0m\u001B[0;34m\u001B[0m\u001B[0;34m\u001B[0m\u001B[0m\n\u001B[1;32m   1726\u001B[0m         \u001B[0;32melse\u001B[0m\u001B[0;34m:\u001B[0m\u001B[0;34m\u001B[0m\u001B[0;34m\u001B[0m\u001B[0m\n\u001B[1;32m   1727\u001B[0m             \u001B[0maxis\u001B[0m \u001B[0;34m=\u001B[0m \u001B[0mself\u001B[0m\u001B[0;34m.\u001B[0m\u001B[0mdata\u001B[0m\u001B[0;34m.\u001B[0m\u001B[0m_get_axis_number\u001B[0m\u001B[0;34m(\u001B[0m\u001B[0maxis\u001B[0m\u001B[0;34m)\u001B[0m\u001B[0;34m\u001B[0m\u001B[0;34m\u001B[0m\u001B[0m\n\u001B[1;32m   1728\u001B[0m             \u001B[0;32mif\u001B[0m \u001B[0maxis\u001B[0m \u001B[0;34m==\u001B[0m \u001B[0;36m0\u001B[0m\u001B[0;34m:\u001B[0m\u001B[0;34m\u001B[0m\u001B[0;34m\u001B[0m\u001B[0m\n\u001B[0;32m-> 1729\u001B[0;31m                 \u001B[0mresult\u001B[0m \u001B[0;34m=\u001B[0m \u001B[0mdata\u001B[0m\u001B[0;34m.\u001B[0m\u001B[0mapply\u001B[0m\u001B[0;34m(\u001B[0m\u001B[0mfunc\u001B[0m\u001B[0;34m,\u001B[0m \u001B[0maxis\u001B[0m\u001B[0;34m=\u001B[0m\u001B[0;36m0\u001B[0m\u001B[0;34m,\u001B[0m \u001B[0;34m**\u001B[0m\u001B[0mkwargs\u001B[0m\u001B[0;34m)\u001B[0m\u001B[0;34m\u001B[0m\u001B[0;34m\u001B[0m\u001B[0m\n\u001B[0m\u001B[1;32m   1730\u001B[0m             \u001B[0;32melse\u001B[0m\u001B[0;34m:\u001B[0m\u001B[0;34m\u001B[0m\u001B[0;34m\u001B[0m\u001B[0m\n\u001B[1;32m   1731\u001B[0m                 \u001B[0mresult\u001B[0m \u001B[0;34m=\u001B[0m \u001B[0mdata\u001B[0m\u001B[0;34m.\u001B[0m\u001B[0mT\u001B[0m\u001B[0;34m.\u001B[0m\u001B[0mapply\u001B[0m\u001B[0;34m(\u001B[0m\u001B[0mfunc\u001B[0m\u001B[0;34m,\u001B[0m \u001B[0maxis\u001B[0m\u001B[0;34m=\u001B[0m\u001B[0;36m0\u001B[0m\u001B[0;34m,\u001B[0m \u001B[0;34m**\u001B[0m\u001B[0mkwargs\u001B[0m\u001B[0;34m)\u001B[0m\u001B[0;34m.\u001B[0m\u001B[0mT\u001B[0m  \u001B[0;31m# see GH 42005\u001B[0m\u001B[0;34m\u001B[0m\u001B[0;34m\u001B[0m\u001B[0m\n\u001B[1;32m   1732\u001B[0m \u001B[0;34m\u001B[0m\u001B[0m\n",
      "\u001B[0;32m~/anaconda3/envs/dataquest/lib/python3.11/site-packages/pandas/core/frame.py\u001B[0m in \u001B[0;36m?\u001B[0;34m(self, func, axis, raw, result_type, args, by_row, **kwargs)\u001B[0m\n\u001B[1;32m  10030\u001B[0m             \u001B[0mby_row\u001B[0m\u001B[0;34m=\u001B[0m\u001B[0mby_row\u001B[0m\u001B[0;34m,\u001B[0m\u001B[0;34m\u001B[0m\u001B[0;34m\u001B[0m\u001B[0m\n\u001B[1;32m  10031\u001B[0m             \u001B[0margs\u001B[0m\u001B[0;34m=\u001B[0m\u001B[0margs\u001B[0m\u001B[0;34m,\u001B[0m\u001B[0;34m\u001B[0m\u001B[0;34m\u001B[0m\u001B[0m\n\u001B[1;32m  10032\u001B[0m             \u001B[0mkwargs\u001B[0m\u001B[0;34m=\u001B[0m\u001B[0mkwargs\u001B[0m\u001B[0;34m,\u001B[0m\u001B[0;34m\u001B[0m\u001B[0;34m\u001B[0m\u001B[0m\n\u001B[1;32m  10033\u001B[0m         )\n\u001B[0;32m> 10034\u001B[0;31m         \u001B[0;32mreturn\u001B[0m \u001B[0mop\u001B[0m\u001B[0;34m.\u001B[0m\u001B[0mapply\u001B[0m\u001B[0;34m(\u001B[0m\u001B[0;34m)\u001B[0m\u001B[0;34m.\u001B[0m\u001B[0m__finalize__\u001B[0m\u001B[0;34m(\u001B[0m\u001B[0mself\u001B[0m\u001B[0;34m,\u001B[0m \u001B[0mmethod\u001B[0m\u001B[0;34m=\u001B[0m\u001B[0;34m\"apply\"\u001B[0m\u001B[0;34m)\u001B[0m\u001B[0;34m\u001B[0m\u001B[0;34m\u001B[0m\u001B[0m\n\u001B[0m",
      "\u001B[0;32m~/anaconda3/envs/dataquest/lib/python3.11/site-packages/pandas/core/apply.py\u001B[0m in \u001B[0;36m?\u001B[0;34m(self)\u001B[0m\n\u001B[1;32m    833\u001B[0m         \u001B[0;31m# raw\u001B[0m\u001B[0;34m\u001B[0m\u001B[0;34m\u001B[0m\u001B[0m\n\u001B[1;32m    834\u001B[0m         \u001B[0;32melif\u001B[0m \u001B[0mself\u001B[0m\u001B[0;34m.\u001B[0m\u001B[0mraw\u001B[0m\u001B[0;34m:\u001B[0m\u001B[0;34m\u001B[0m\u001B[0;34m\u001B[0m\u001B[0m\n\u001B[1;32m    835\u001B[0m             \u001B[0;32mreturn\u001B[0m \u001B[0mself\u001B[0m\u001B[0;34m.\u001B[0m\u001B[0mapply_raw\u001B[0m\u001B[0;34m(\u001B[0m\u001B[0;34m)\u001B[0m\u001B[0;34m\u001B[0m\u001B[0;34m\u001B[0m\u001B[0m\n\u001B[1;32m    836\u001B[0m \u001B[0;34m\u001B[0m\u001B[0m\n\u001B[0;32m--> 837\u001B[0;31m         \u001B[0;32mreturn\u001B[0m \u001B[0mself\u001B[0m\u001B[0;34m.\u001B[0m\u001B[0mapply_standard\u001B[0m\u001B[0;34m(\u001B[0m\u001B[0;34m)\u001B[0m\u001B[0;34m\u001B[0m\u001B[0;34m\u001B[0m\u001B[0m\n\u001B[0m",
      "\u001B[0;32m~/anaconda3/envs/dataquest/lib/python3.11/site-packages/pandas/core/apply.py\u001B[0m in \u001B[0;36m?\u001B[0;34m(self)\u001B[0m\n\u001B[1;32m    964\u001B[0m     \u001B[0;32mdef\u001B[0m \u001B[0mapply_standard\u001B[0m\u001B[0;34m(\u001B[0m\u001B[0mself\u001B[0m\u001B[0;34m)\u001B[0m\u001B[0;34m:\u001B[0m\u001B[0;34m\u001B[0m\u001B[0;34m\u001B[0m\u001B[0m\n\u001B[0;32m--> 965\u001B[0;31m         \u001B[0mresults\u001B[0m\u001B[0;34m,\u001B[0m \u001B[0mres_index\u001B[0m \u001B[0;34m=\u001B[0m \u001B[0mself\u001B[0m\u001B[0;34m.\u001B[0m\u001B[0mapply_series_generator\u001B[0m\u001B[0;34m(\u001B[0m\u001B[0;34m)\u001B[0m\u001B[0;34m\u001B[0m\u001B[0;34m\u001B[0m\u001B[0m\n\u001B[0m\u001B[1;32m    966\u001B[0m \u001B[0;34m\u001B[0m\u001B[0m\n\u001B[1;32m    967\u001B[0m         \u001B[0;31m# wrap results\u001B[0m\u001B[0;34m\u001B[0m\u001B[0;34m\u001B[0m\u001B[0m\n\u001B[1;32m    968\u001B[0m         \u001B[0;32mreturn\u001B[0m \u001B[0mself\u001B[0m\u001B[0;34m.\u001B[0m\u001B[0mwrap_results\u001B[0m\u001B[0;34m(\u001B[0m\u001B[0mresults\u001B[0m\u001B[0;34m,\u001B[0m \u001B[0mres_index\u001B[0m\u001B[0;34m)\u001B[0m\u001B[0;34m\u001B[0m\u001B[0;34m\u001B[0m\u001B[0m\n",
      "\u001B[0;32m~/anaconda3/envs/dataquest/lib/python3.11/site-packages/pandas/core/apply.py\u001B[0m in \u001B[0;36m?\u001B[0;34m(self)\u001B[0m\n\u001B[1;32m    977\u001B[0m \u001B[0;34m\u001B[0m\u001B[0m\n\u001B[1;32m    978\u001B[0m         \u001B[0;32mwith\u001B[0m \u001B[0moption_context\u001B[0m\u001B[0;34m(\u001B[0m\u001B[0;34m\"mode.chained_assignment\"\u001B[0m\u001B[0;34m,\u001B[0m \u001B[0;32mNone\u001B[0m\u001B[0;34m)\u001B[0m\u001B[0;34m:\u001B[0m\u001B[0;34m\u001B[0m\u001B[0;34m\u001B[0m\u001B[0m\n\u001B[1;32m    979\u001B[0m             \u001B[0;32mfor\u001B[0m \u001B[0mi\u001B[0m\u001B[0;34m,\u001B[0m \u001B[0mv\u001B[0m \u001B[0;32min\u001B[0m \u001B[0menumerate\u001B[0m\u001B[0;34m(\u001B[0m\u001B[0mseries_gen\u001B[0m\u001B[0;34m)\u001B[0m\u001B[0;34m:\u001B[0m\u001B[0;34m\u001B[0m\u001B[0;34m\u001B[0m\u001B[0m\n\u001B[1;32m    980\u001B[0m                 \u001B[0;31m# ignore SettingWithCopy here in case the user mutates\u001B[0m\u001B[0;34m\u001B[0m\u001B[0;34m\u001B[0m\u001B[0m\n\u001B[0;32m--> 981\u001B[0;31m                 \u001B[0mresults\u001B[0m\u001B[0;34m[\u001B[0m\u001B[0mi\u001B[0m\u001B[0;34m]\u001B[0m \u001B[0;34m=\u001B[0m \u001B[0mself\u001B[0m\u001B[0;34m.\u001B[0m\u001B[0mfunc\u001B[0m\u001B[0;34m(\u001B[0m\u001B[0mv\u001B[0m\u001B[0;34m,\u001B[0m \u001B[0;34m*\u001B[0m\u001B[0mself\u001B[0m\u001B[0;34m.\u001B[0m\u001B[0margs\u001B[0m\u001B[0;34m,\u001B[0m \u001B[0;34m**\u001B[0m\u001B[0mself\u001B[0m\u001B[0;34m.\u001B[0m\u001B[0mkwargs\u001B[0m\u001B[0;34m)\u001B[0m\u001B[0;34m\u001B[0m\u001B[0;34m\u001B[0m\u001B[0m\n\u001B[0m\u001B[1;32m    982\u001B[0m                 \u001B[0;32mif\u001B[0m \u001B[0misinstance\u001B[0m\u001B[0;34m(\u001B[0m\u001B[0mresults\u001B[0m\u001B[0;34m[\u001B[0m\u001B[0mi\u001B[0m\u001B[0;34m]\u001B[0m\u001B[0;34m,\u001B[0m \u001B[0mABCSeries\u001B[0m\u001B[0;34m)\u001B[0m\u001B[0;34m:\u001B[0m\u001B[0;34m\u001B[0m\u001B[0;34m\u001B[0m\u001B[0m\n\u001B[1;32m    983\u001B[0m                     \u001B[0;31m# If we have a view on v, we need to make a copy because\u001B[0m\u001B[0;34m\u001B[0m\u001B[0;34m\u001B[0m\u001B[0m\n\u001B[1;32m    984\u001B[0m                     \u001B[0;31m#  series_generator will swap out the underlying data\u001B[0m\u001B[0;34m\u001B[0m\u001B[0;34m\u001B[0m\u001B[0m\n",
      "\u001B[0;32m/var/folders/hj/f1jqvs216bg46sc5tmm5by1c0000gn/T/ipykernel_8625/907071917.py\u001B[0m in \u001B[0;36m?\u001B[0;34m(value)\u001B[0m\n\u001B[1;32m      2\u001B[0m \u001B[0;32mdef\u001B[0m \u001B[0mhighlight_190\u001B[0m\u001B[0;34m(\u001B[0m\u001B[0mvalue\u001B[0m\u001B[0;34m)\u001B[0m\u001B[0;34m:\u001B[0m\u001B[0;34m\u001B[0m\u001B[0;34m\u001B[0m\u001B[0m\n\u001B[1;32m      3\u001B[0m     \u001B[0mgreen\u001B[0m \u001B[0;34m=\u001B[0m \u001B[0;34m'background-color: lightgreen'\u001B[0m\u001B[0;34m\u001B[0m\u001B[0;34m\u001B[0m\u001B[0m\n\u001B[1;32m      4\u001B[0m     \u001B[0mpink\u001B[0m \u001B[0;34m=\u001B[0m \u001B[0;34m'background-color: pink; color: white'\u001B[0m\u001B[0;34m\u001B[0m\u001B[0;34m\u001B[0m\u001B[0m\n\u001B[0;32m----> 5\u001B[0;31m     \u001B[0;32mreturn\u001B[0m \u001B[0mgreen\u001B[0m \u001B[0;32mif\u001B[0m \u001B[0mvalue\u001B[0m \u001B[0;34m>\u001B[0m \u001B[0;36m190\u001B[0m \u001B[0;32melse\u001B[0m \u001B[0mpink\u001B[0m\u001B[0;34m\u001B[0m\u001B[0;34m\u001B[0m\u001B[0m\n\u001B[0m",
      "\u001B[0;32m~/anaconda3/envs/dataquest/lib/python3.11/site-packages/pandas/core/generic.py\u001B[0m in \u001B[0;36m?\u001B[0;34m(self)\u001B[0m\n\u001B[1;32m   1517\u001B[0m     \u001B[0;34m@\u001B[0m\u001B[0mfinal\u001B[0m\u001B[0;34m\u001B[0m\u001B[0;34m\u001B[0m\u001B[0m\n\u001B[1;32m   1518\u001B[0m     \u001B[0;32mdef\u001B[0m \u001B[0m__nonzero__\u001B[0m\u001B[0;34m(\u001B[0m\u001B[0mself\u001B[0m\u001B[0;34m)\u001B[0m \u001B[0;34m->\u001B[0m \u001B[0mNoReturn\u001B[0m\u001B[0;34m:\u001B[0m\u001B[0;34m\u001B[0m\u001B[0;34m\u001B[0m\u001B[0m\n\u001B[0;32m-> 1519\u001B[0;31m         raise ValueError(\n\u001B[0m\u001B[1;32m   1520\u001B[0m             \u001B[0;34mf\"The truth value of a {type(self).__name__} is ambiguous. \"\u001B[0m\u001B[0;34m\u001B[0m\u001B[0;34m\u001B[0m\u001B[0m\n\u001B[1;32m   1521\u001B[0m             \u001B[0;34m\"Use a.empty, a.bool(), a.item(), a.any() or a.all().\"\u001B[0m\u001B[0;34m\u001B[0m\u001B[0;34m\u001B[0m\u001B[0m\n\u001B[1;32m   1522\u001B[0m         )\n",
      "\u001B[0;31mValueError\u001B[0m: The truth value of a Series is ambiguous. Use a.empty, a.bool(), a.item(), a.any() or a.all()."
     ]
    },
    {
     "data": {
      "text/plain": "<pandas.io.formats.style.Styler at 0x1740469d0>"
     },
     "execution_count": 165,
     "metadata": {},
     "output_type": "execute_result"
    }
   ],
   "source": [
    "import numbers\n",
    "# Example 18\n",
    "(df_num.style\n",
    "       .apply(highlight_190)\n",
    "       .applymap(lambda value: 'opacity: 40%' if isinstance(value, numbers.Number) & value<30 \n",
    "                 else None))\n",
    "\n"
   ]
  },
  {
   "cell_type": "code",
   "execution_count": 162,
   "id": "7a6ab3d1cc253140",
   "metadata": {
    "collapsed": false,
    "ExecuteTime": {
     "end_time": "2024-01-07T03:27:37.885185Z",
     "start_time": "2024-01-07T03:27:37.818717Z"
    }
   },
   "outputs": [
    {
     "name": "stderr",
     "output_type": "stream",
     "text": [
      "/var/folders/hj/f1jqvs216bg46sc5tmm5by1c0000gn/T/ipykernel_8625/1264459557.py:7: FutureWarning: Styler.applymap has been deprecated. Use Styler.map instead.\n",
      "  df_num.style.applymap(highlight_above_median)\n"
     ]
    },
    {
     "ename": "AttributeError",
     "evalue": "'float' object has no attribute 'median'",
     "output_type": "error",
     "traceback": [
      "\u001B[0;31m---------------------------------------------------------------------------\u001B[0m",
      "\u001B[0;31mAttributeError\u001B[0m                            Traceback (most recent call last)",
      "File \u001B[0;32m~/anaconda3/envs/dataquest/lib/python3.11/site-packages/IPython/core/formatters.py:344\u001B[0m, in \u001B[0;36mBaseFormatter.__call__\u001B[0;34m(self, obj)\u001B[0m\n\u001B[1;32m    342\u001B[0m     method \u001B[38;5;241m=\u001B[39m get_real_method(obj, \u001B[38;5;28mself\u001B[39m\u001B[38;5;241m.\u001B[39mprint_method)\n\u001B[1;32m    343\u001B[0m     \u001B[38;5;28;01mif\u001B[39;00m method \u001B[38;5;129;01mis\u001B[39;00m \u001B[38;5;129;01mnot\u001B[39;00m \u001B[38;5;28;01mNone\u001B[39;00m:\n\u001B[0;32m--> 344\u001B[0m         \u001B[38;5;28;01mreturn\u001B[39;00m method()\n\u001B[1;32m    345\u001B[0m     \u001B[38;5;28;01mreturn\u001B[39;00m \u001B[38;5;28;01mNone\u001B[39;00m\n\u001B[1;32m    346\u001B[0m \u001B[38;5;28;01melse\u001B[39;00m:\n",
      "File \u001B[0;32m~/anaconda3/envs/dataquest/lib/python3.11/site-packages/pandas/io/formats/style.py:408\u001B[0m, in \u001B[0;36mStyler._repr_html_\u001B[0;34m(self)\u001B[0m\n\u001B[1;32m    403\u001B[0m \u001B[38;5;250m\u001B[39m\u001B[38;5;124;03m\"\"\"\u001B[39;00m\n\u001B[1;32m    404\u001B[0m \u001B[38;5;124;03mHooks into Jupyter notebook rich display system, which calls _repr_html_ by\u001B[39;00m\n\u001B[1;32m    405\u001B[0m \u001B[38;5;124;03mdefault if an object is returned at the end of a cell.\u001B[39;00m\n\u001B[1;32m    406\u001B[0m \u001B[38;5;124;03m\"\"\"\u001B[39;00m\n\u001B[1;32m    407\u001B[0m \u001B[38;5;28;01mif\u001B[39;00m get_option(\u001B[38;5;124m\"\u001B[39m\u001B[38;5;124mstyler.render.repr\u001B[39m\u001B[38;5;124m\"\u001B[39m) \u001B[38;5;241m==\u001B[39m \u001B[38;5;124m\"\u001B[39m\u001B[38;5;124mhtml\u001B[39m\u001B[38;5;124m\"\u001B[39m:\n\u001B[0;32m--> 408\u001B[0m     \u001B[38;5;28;01mreturn\u001B[39;00m \u001B[38;5;28mself\u001B[39m\u001B[38;5;241m.\u001B[39mto_html()\n\u001B[1;32m    409\u001B[0m \u001B[38;5;28;01mreturn\u001B[39;00m \u001B[38;5;28;01mNone\u001B[39;00m\n",
      "File \u001B[0;32m~/anaconda3/envs/dataquest/lib/python3.11/site-packages/pandas/io/formats/style.py:1348\u001B[0m, in \u001B[0;36mStyler.to_html\u001B[0;34m(self, buf, table_uuid, table_attributes, sparse_index, sparse_columns, bold_headers, caption, max_rows, max_columns, encoding, doctype_html, exclude_styles, **kwargs)\u001B[0m\n\u001B[1;32m   1345\u001B[0m     obj\u001B[38;5;241m.\u001B[39mset_caption(caption)\n\u001B[1;32m   1347\u001B[0m \u001B[38;5;66;03m# Build HTML string..\u001B[39;00m\n\u001B[0;32m-> 1348\u001B[0m html \u001B[38;5;241m=\u001B[39m obj\u001B[38;5;241m.\u001B[39m_render_html(\n\u001B[1;32m   1349\u001B[0m     sparse_index\u001B[38;5;241m=\u001B[39msparse_index,\n\u001B[1;32m   1350\u001B[0m     sparse_columns\u001B[38;5;241m=\u001B[39msparse_columns,\n\u001B[1;32m   1351\u001B[0m     max_rows\u001B[38;5;241m=\u001B[39mmax_rows,\n\u001B[1;32m   1352\u001B[0m     max_cols\u001B[38;5;241m=\u001B[39mmax_columns,\n\u001B[1;32m   1353\u001B[0m     exclude_styles\u001B[38;5;241m=\u001B[39mexclude_styles,\n\u001B[1;32m   1354\u001B[0m     encoding\u001B[38;5;241m=\u001B[39mencoding \u001B[38;5;129;01mor\u001B[39;00m get_option(\u001B[38;5;124m\"\u001B[39m\u001B[38;5;124mstyler.render.encoding\u001B[39m\u001B[38;5;124m\"\u001B[39m),\n\u001B[1;32m   1355\u001B[0m     doctype_html\u001B[38;5;241m=\u001B[39mdoctype_html,\n\u001B[1;32m   1356\u001B[0m     \u001B[38;5;241m*\u001B[39m\u001B[38;5;241m*\u001B[39mkwargs,\n\u001B[1;32m   1357\u001B[0m )\n\u001B[1;32m   1359\u001B[0m \u001B[38;5;28;01mreturn\u001B[39;00m save_to_buffer(\n\u001B[1;32m   1360\u001B[0m     html, buf\u001B[38;5;241m=\u001B[39mbuf, encoding\u001B[38;5;241m=\u001B[39m(encoding \u001B[38;5;28;01mif\u001B[39;00m buf \u001B[38;5;129;01mis\u001B[39;00m \u001B[38;5;129;01mnot\u001B[39;00m \u001B[38;5;28;01mNone\u001B[39;00m \u001B[38;5;28;01melse\u001B[39;00m \u001B[38;5;28;01mNone\u001B[39;00m)\n\u001B[1;32m   1361\u001B[0m )\n",
      "File \u001B[0;32m~/anaconda3/envs/dataquest/lib/python3.11/site-packages/pandas/io/formats/style_render.py:204\u001B[0m, in \u001B[0;36mStylerRenderer._render_html\u001B[0;34m(self, sparse_index, sparse_columns, max_rows, max_cols, **kwargs)\u001B[0m\n\u001B[1;32m    192\u001B[0m \u001B[38;5;28;01mdef\u001B[39;00m \u001B[38;5;21m_render_html\u001B[39m(\n\u001B[1;32m    193\u001B[0m     \u001B[38;5;28mself\u001B[39m,\n\u001B[1;32m    194\u001B[0m     sparse_index: \u001B[38;5;28mbool\u001B[39m,\n\u001B[0;32m   (...)\u001B[0m\n\u001B[1;32m    198\u001B[0m     \u001B[38;5;241m*\u001B[39m\u001B[38;5;241m*\u001B[39mkwargs,\n\u001B[1;32m    199\u001B[0m ) \u001B[38;5;241m-\u001B[39m\u001B[38;5;241m>\u001B[39m \u001B[38;5;28mstr\u001B[39m:\n\u001B[1;32m    200\u001B[0m \u001B[38;5;250m    \u001B[39m\u001B[38;5;124;03m\"\"\"\u001B[39;00m\n\u001B[1;32m    201\u001B[0m \u001B[38;5;124;03m    Renders the ``Styler`` including all applied styles to HTML.\u001B[39;00m\n\u001B[1;32m    202\u001B[0m \u001B[38;5;124;03m    Generates a dict with necessary kwargs passed to jinja2 template.\u001B[39;00m\n\u001B[1;32m    203\u001B[0m \u001B[38;5;124;03m    \"\"\"\u001B[39;00m\n\u001B[0;32m--> 204\u001B[0m     d \u001B[38;5;241m=\u001B[39m \u001B[38;5;28mself\u001B[39m\u001B[38;5;241m.\u001B[39m_render(sparse_index, sparse_columns, max_rows, max_cols, \u001B[38;5;124m\"\u001B[39m\u001B[38;5;124m&nbsp;\u001B[39m\u001B[38;5;124m\"\u001B[39m)\n\u001B[1;32m    205\u001B[0m     d\u001B[38;5;241m.\u001B[39mupdate(kwargs)\n\u001B[1;32m    206\u001B[0m     \u001B[38;5;28;01mreturn\u001B[39;00m \u001B[38;5;28mself\u001B[39m\u001B[38;5;241m.\u001B[39mtemplate_html\u001B[38;5;241m.\u001B[39mrender(\n\u001B[1;32m    207\u001B[0m         \u001B[38;5;241m*\u001B[39m\u001B[38;5;241m*\u001B[39md,\n\u001B[1;32m    208\u001B[0m         html_table_tpl\u001B[38;5;241m=\u001B[39m\u001B[38;5;28mself\u001B[39m\u001B[38;5;241m.\u001B[39mtemplate_html_table,\n\u001B[1;32m    209\u001B[0m         html_style_tpl\u001B[38;5;241m=\u001B[39m\u001B[38;5;28mself\u001B[39m\u001B[38;5;241m.\u001B[39mtemplate_html_style,\n\u001B[1;32m    210\u001B[0m     )\n",
      "File \u001B[0;32m~/anaconda3/envs/dataquest/lib/python3.11/site-packages/pandas/io/formats/style_render.py:161\u001B[0m, in \u001B[0;36mStylerRenderer._render\u001B[0;34m(self, sparse_index, sparse_columns, max_rows, max_cols, blank)\u001B[0m\n\u001B[1;32m    147\u001B[0m \u001B[38;5;28;01mdef\u001B[39;00m \u001B[38;5;21m_render\u001B[39m(\n\u001B[1;32m    148\u001B[0m     \u001B[38;5;28mself\u001B[39m,\n\u001B[1;32m    149\u001B[0m     sparse_index: \u001B[38;5;28mbool\u001B[39m,\n\u001B[0;32m   (...)\u001B[0m\n\u001B[1;32m    153\u001B[0m     blank: \u001B[38;5;28mstr\u001B[39m \u001B[38;5;241m=\u001B[39m \u001B[38;5;124m\"\u001B[39m\u001B[38;5;124m\"\u001B[39m,\n\u001B[1;32m    154\u001B[0m ):\n\u001B[1;32m    155\u001B[0m \u001B[38;5;250m    \u001B[39m\u001B[38;5;124;03m\"\"\"\u001B[39;00m\n\u001B[1;32m    156\u001B[0m \u001B[38;5;124;03m    Computes and applies styles and then generates the general render dicts.\u001B[39;00m\n\u001B[1;32m    157\u001B[0m \n\u001B[1;32m    158\u001B[0m \u001B[38;5;124;03m    Also extends the `ctx` and `ctx_index` attributes with those of concatenated\u001B[39;00m\n\u001B[1;32m    159\u001B[0m \u001B[38;5;124;03m    stylers for use within `_translate_latex`\u001B[39;00m\n\u001B[1;32m    160\u001B[0m \u001B[38;5;124;03m    \"\"\"\u001B[39;00m\n\u001B[0;32m--> 161\u001B[0m     \u001B[38;5;28mself\u001B[39m\u001B[38;5;241m.\u001B[39m_compute()\n\u001B[1;32m    162\u001B[0m     dxs \u001B[38;5;241m=\u001B[39m []\n\u001B[1;32m    163\u001B[0m     ctx_len \u001B[38;5;241m=\u001B[39m \u001B[38;5;28mlen\u001B[39m(\u001B[38;5;28mself\u001B[39m\u001B[38;5;241m.\u001B[39mindex)\n",
      "File \u001B[0;32m~/anaconda3/envs/dataquest/lib/python3.11/site-packages/pandas/io/formats/style_render.py:256\u001B[0m, in \u001B[0;36mStylerRenderer._compute\u001B[0;34m(self)\u001B[0m\n\u001B[1;32m    254\u001B[0m r \u001B[38;5;241m=\u001B[39m \u001B[38;5;28mself\u001B[39m\n\u001B[1;32m    255\u001B[0m \u001B[38;5;28;01mfor\u001B[39;00m func, args, kwargs \u001B[38;5;129;01min\u001B[39;00m \u001B[38;5;28mself\u001B[39m\u001B[38;5;241m.\u001B[39m_todo:\n\u001B[0;32m--> 256\u001B[0m     r \u001B[38;5;241m=\u001B[39m func(\u001B[38;5;28mself\u001B[39m)(\u001B[38;5;241m*\u001B[39margs, \u001B[38;5;241m*\u001B[39m\u001B[38;5;241m*\u001B[39mkwargs)\n\u001B[1;32m    257\u001B[0m \u001B[38;5;28;01mreturn\u001B[39;00m r\n",
      "File \u001B[0;32m~/anaconda3/envs/dataquest/lib/python3.11/site-packages/pandas/io/formats/style.py:2030\u001B[0m, in \u001B[0;36mStyler._map\u001B[0;34m(self, func, subset, **kwargs)\u001B[0m\n\u001B[1;32m   2028\u001B[0m     subset \u001B[38;5;241m=\u001B[39m IndexSlice[:]\n\u001B[1;32m   2029\u001B[0m subset \u001B[38;5;241m=\u001B[39m non_reducing_slice(subset)\n\u001B[0;32m-> 2030\u001B[0m result \u001B[38;5;241m=\u001B[39m \u001B[38;5;28mself\u001B[39m\u001B[38;5;241m.\u001B[39mdata\u001B[38;5;241m.\u001B[39mloc[subset]\u001B[38;5;241m.\u001B[39mmap(func)\n\u001B[1;32m   2031\u001B[0m \u001B[38;5;28mself\u001B[39m\u001B[38;5;241m.\u001B[39m_update_ctx(result)\n\u001B[1;32m   2032\u001B[0m \u001B[38;5;28;01mreturn\u001B[39;00m \u001B[38;5;28mself\u001B[39m\n",
      "File \u001B[0;32m~/anaconda3/envs/dataquest/lib/python3.11/site-packages/pandas/core/frame.py:10120\u001B[0m, in \u001B[0;36mDataFrame.map\u001B[0;34m(self, func, na_action, **kwargs)\u001B[0m\n\u001B[1;32m  10117\u001B[0m \u001B[38;5;28;01mdef\u001B[39;00m \u001B[38;5;21minfer\u001B[39m(x):\n\u001B[1;32m  10118\u001B[0m     \u001B[38;5;28;01mreturn\u001B[39;00m x\u001B[38;5;241m.\u001B[39m_map_values(func, na_action\u001B[38;5;241m=\u001B[39mna_action)\n\u001B[0;32m> 10120\u001B[0m \u001B[38;5;28;01mreturn\u001B[39;00m \u001B[38;5;28mself\u001B[39m\u001B[38;5;241m.\u001B[39mapply(infer)\u001B[38;5;241m.\u001B[39m__finalize__(\u001B[38;5;28mself\u001B[39m, \u001B[38;5;124m\"\u001B[39m\u001B[38;5;124mmap\u001B[39m\u001B[38;5;124m\"\u001B[39m)\n",
      "File \u001B[0;32m~/anaconda3/envs/dataquest/lib/python3.11/site-packages/pandas/core/frame.py:10034\u001B[0m, in \u001B[0;36mDataFrame.apply\u001B[0;34m(self, func, axis, raw, result_type, args, by_row, **kwargs)\u001B[0m\n\u001B[1;32m  10022\u001B[0m \u001B[38;5;28;01mfrom\u001B[39;00m \u001B[38;5;21;01mpandas\u001B[39;00m\u001B[38;5;21;01m.\u001B[39;00m\u001B[38;5;21;01mcore\u001B[39;00m\u001B[38;5;21;01m.\u001B[39;00m\u001B[38;5;21;01mapply\u001B[39;00m \u001B[38;5;28;01mimport\u001B[39;00m frame_apply\n\u001B[1;32m  10024\u001B[0m op \u001B[38;5;241m=\u001B[39m frame_apply(\n\u001B[1;32m  10025\u001B[0m     \u001B[38;5;28mself\u001B[39m,\n\u001B[1;32m  10026\u001B[0m     func\u001B[38;5;241m=\u001B[39mfunc,\n\u001B[0;32m   (...)\u001B[0m\n\u001B[1;32m  10032\u001B[0m     kwargs\u001B[38;5;241m=\u001B[39mkwargs,\n\u001B[1;32m  10033\u001B[0m )\n\u001B[0;32m> 10034\u001B[0m \u001B[38;5;28;01mreturn\u001B[39;00m op\u001B[38;5;241m.\u001B[39mapply()\u001B[38;5;241m.\u001B[39m__finalize__(\u001B[38;5;28mself\u001B[39m, method\u001B[38;5;241m=\u001B[39m\u001B[38;5;124m\"\u001B[39m\u001B[38;5;124mapply\u001B[39m\u001B[38;5;124m\"\u001B[39m)\n",
      "File \u001B[0;32m~/anaconda3/envs/dataquest/lib/python3.11/site-packages/pandas/core/apply.py:837\u001B[0m, in \u001B[0;36mFrameApply.apply\u001B[0;34m(self)\u001B[0m\n\u001B[1;32m    834\u001B[0m \u001B[38;5;28;01melif\u001B[39;00m \u001B[38;5;28mself\u001B[39m\u001B[38;5;241m.\u001B[39mraw:\n\u001B[1;32m    835\u001B[0m     \u001B[38;5;28;01mreturn\u001B[39;00m \u001B[38;5;28mself\u001B[39m\u001B[38;5;241m.\u001B[39mapply_raw()\n\u001B[0;32m--> 837\u001B[0m \u001B[38;5;28;01mreturn\u001B[39;00m \u001B[38;5;28mself\u001B[39m\u001B[38;5;241m.\u001B[39mapply_standard()\n",
      "File \u001B[0;32m~/anaconda3/envs/dataquest/lib/python3.11/site-packages/pandas/core/apply.py:965\u001B[0m, in \u001B[0;36mFrameApply.apply_standard\u001B[0;34m(self)\u001B[0m\n\u001B[1;32m    964\u001B[0m \u001B[38;5;28;01mdef\u001B[39;00m \u001B[38;5;21mapply_standard\u001B[39m(\u001B[38;5;28mself\u001B[39m):\n\u001B[0;32m--> 965\u001B[0m     results, res_index \u001B[38;5;241m=\u001B[39m \u001B[38;5;28mself\u001B[39m\u001B[38;5;241m.\u001B[39mapply_series_generator()\n\u001B[1;32m    967\u001B[0m     \u001B[38;5;66;03m# wrap results\u001B[39;00m\n\u001B[1;32m    968\u001B[0m     \u001B[38;5;28;01mreturn\u001B[39;00m \u001B[38;5;28mself\u001B[39m\u001B[38;5;241m.\u001B[39mwrap_results(results, res_index)\n",
      "File \u001B[0;32m~/anaconda3/envs/dataquest/lib/python3.11/site-packages/pandas/core/apply.py:981\u001B[0m, in \u001B[0;36mFrameApply.apply_series_generator\u001B[0;34m(self)\u001B[0m\n\u001B[1;32m    978\u001B[0m \u001B[38;5;28;01mwith\u001B[39;00m option_context(\u001B[38;5;124m\"\u001B[39m\u001B[38;5;124mmode.chained_assignment\u001B[39m\u001B[38;5;124m\"\u001B[39m, \u001B[38;5;28;01mNone\u001B[39;00m):\n\u001B[1;32m    979\u001B[0m     \u001B[38;5;28;01mfor\u001B[39;00m i, v \u001B[38;5;129;01min\u001B[39;00m \u001B[38;5;28menumerate\u001B[39m(series_gen):\n\u001B[1;32m    980\u001B[0m         \u001B[38;5;66;03m# ignore SettingWithCopy here in case the user mutates\u001B[39;00m\n\u001B[0;32m--> 981\u001B[0m         results[i] \u001B[38;5;241m=\u001B[39m \u001B[38;5;28mself\u001B[39m\u001B[38;5;241m.\u001B[39mfunc(v, \u001B[38;5;241m*\u001B[39m\u001B[38;5;28mself\u001B[39m\u001B[38;5;241m.\u001B[39margs, \u001B[38;5;241m*\u001B[39m\u001B[38;5;241m*\u001B[39m\u001B[38;5;28mself\u001B[39m\u001B[38;5;241m.\u001B[39mkwargs)\n\u001B[1;32m    982\u001B[0m         \u001B[38;5;28;01mif\u001B[39;00m \u001B[38;5;28misinstance\u001B[39m(results[i], ABCSeries):\n\u001B[1;32m    983\u001B[0m             \u001B[38;5;66;03m# If we have a view on v, we need to make a copy because\u001B[39;00m\n\u001B[1;32m    984\u001B[0m             \u001B[38;5;66;03m#  series_generator will swap out the underlying data\u001B[39;00m\n\u001B[1;32m    985\u001B[0m             results[i] \u001B[38;5;241m=\u001B[39m results[i]\u001B[38;5;241m.\u001B[39mcopy(deep\u001B[38;5;241m=\u001B[39m\u001B[38;5;28;01mFalse\u001B[39;00m)\n",
      "File \u001B[0;32m~/anaconda3/envs/dataquest/lib/python3.11/site-packages/pandas/core/frame.py:10118\u001B[0m, in \u001B[0;36mDataFrame.map.<locals>.infer\u001B[0;34m(x)\u001B[0m\n\u001B[1;32m  10117\u001B[0m \u001B[38;5;28;01mdef\u001B[39;00m \u001B[38;5;21minfer\u001B[39m(x):\n\u001B[0;32m> 10118\u001B[0m     \u001B[38;5;28;01mreturn\u001B[39;00m x\u001B[38;5;241m.\u001B[39m_map_values(func, na_action\u001B[38;5;241m=\u001B[39mna_action)\n",
      "File \u001B[0;32m~/anaconda3/envs/dataquest/lib/python3.11/site-packages/pandas/core/base.py:921\u001B[0m, in \u001B[0;36mIndexOpsMixin._map_values\u001B[0;34m(self, mapper, na_action, convert)\u001B[0m\n\u001B[1;32m    918\u001B[0m \u001B[38;5;28;01mif\u001B[39;00m \u001B[38;5;28misinstance\u001B[39m(arr, ExtensionArray):\n\u001B[1;32m    919\u001B[0m     \u001B[38;5;28;01mreturn\u001B[39;00m arr\u001B[38;5;241m.\u001B[39mmap(mapper, na_action\u001B[38;5;241m=\u001B[39mna_action)\n\u001B[0;32m--> 921\u001B[0m \u001B[38;5;28;01mreturn\u001B[39;00m algorithms\u001B[38;5;241m.\u001B[39mmap_array(arr, mapper, na_action\u001B[38;5;241m=\u001B[39mna_action, convert\u001B[38;5;241m=\u001B[39mconvert)\n",
      "File \u001B[0;32m~/anaconda3/envs/dataquest/lib/python3.11/site-packages/pandas/core/algorithms.py:1814\u001B[0m, in \u001B[0;36mmap_array\u001B[0;34m(arr, mapper, na_action, convert)\u001B[0m\n\u001B[1;32m   1812\u001B[0m values \u001B[38;5;241m=\u001B[39m arr\u001B[38;5;241m.\u001B[39mastype(\u001B[38;5;28mobject\u001B[39m, copy\u001B[38;5;241m=\u001B[39m\u001B[38;5;28;01mFalse\u001B[39;00m)\n\u001B[1;32m   1813\u001B[0m \u001B[38;5;28;01mif\u001B[39;00m na_action \u001B[38;5;129;01mis\u001B[39;00m \u001B[38;5;28;01mNone\u001B[39;00m:\n\u001B[0;32m-> 1814\u001B[0m     \u001B[38;5;28;01mreturn\u001B[39;00m lib\u001B[38;5;241m.\u001B[39mmap_infer(values, mapper, convert\u001B[38;5;241m=\u001B[39mconvert)\n\u001B[1;32m   1815\u001B[0m \u001B[38;5;28;01melse\u001B[39;00m:\n\u001B[1;32m   1816\u001B[0m     \u001B[38;5;28;01mreturn\u001B[39;00m lib\u001B[38;5;241m.\u001B[39mmap_infer_mask(\n\u001B[1;32m   1817\u001B[0m         values, mapper, mask\u001B[38;5;241m=\u001B[39misna(values)\u001B[38;5;241m.\u001B[39mview(np\u001B[38;5;241m.\u001B[39muint8), convert\u001B[38;5;241m=\u001B[39mconvert\n\u001B[1;32m   1818\u001B[0m     )\n",
      "File \u001B[0;32mlib.pyx:2926\u001B[0m, in \u001B[0;36mpandas._libs.lib.map_infer\u001B[0;34m()\u001B[0m\n",
      "Cell \u001B[0;32mIn[162], line 3\u001B[0m, in \u001B[0;36mhighlight_above_median\u001B[0;34m(series)\u001B[0m\n\u001B[1;32m      2\u001B[0m \u001B[38;5;28;01mdef\u001B[39;00m \u001B[38;5;21mhighlight_above_median\u001B[39m(series):\n\u001B[0;32m----> 3\u001B[0m     is_above \u001B[38;5;241m=\u001B[39m series\u001B[38;5;241m>\u001B[39mseries\u001B[38;5;241m.\u001B[39mmedian()\n\u001B[1;32m      4\u001B[0m     above \u001B[38;5;241m=\u001B[39m \u001B[38;5;124m'\u001B[39m\u001B[38;5;124mbackground-color: lightgreen\u001B[39m\u001B[38;5;124m'\u001B[39m\n\u001B[1;32m      5\u001B[0m     below \u001B[38;5;241m=\u001B[39m \u001B[38;5;124m'\u001B[39m\u001B[38;5;124mbackground-color: grey; color: white\u001B[39m\u001B[38;5;124m'\u001B[39m\n",
      "\u001B[0;31mAttributeError\u001B[0m: 'float' object has no attribute 'median'"
     ]
    },
    {
     "data": {
      "text/plain": "<pandas.io.formats.style.Styler at 0x173705750>"
     },
     "execution_count": 162,
     "metadata": {},
     "output_type": "execute_result"
    }
   ],
   "source": [
    "# Example 19\n",
    "def highlight_above_median(series):\n",
    "    is_above = series>series.median()\n",
    "    above = 'background-color: lightgreen'\n",
    "    below = 'background-color: grey; color: white'\n",
    "    return [above if value else below for value in is_above]\n",
    "df_num.style.applymap(highlight_above_median)\n"
   ]
  },
  {
   "cell_type": "code",
   "execution_count": 163,
   "id": "dd2a4e7951911d28",
   "metadata": {
    "collapsed": false,
    "ExecuteTime": {
     "end_time": "2024-01-07T03:27:37.924261Z",
     "start_time": "2024-01-07T03:27:37.870538Z"
    }
   },
   "outputs": [
    {
     "name": "stderr",
     "output_type": "stream",
     "text": [
      "/var/folders/hj/f1jqvs216bg46sc5tmm5by1c0000gn/T/ipykernel_8625/2896416968.py:10: FutureWarning: Styler.applymap has been deprecated. Use Styler.map instead.\n",
      "  df.head(6).style.applymap(highlight, axis=1).hide()\n"
     ]
    },
    {
     "ename": "TypeError",
     "evalue": "highlight() got an unexpected keyword argument 'axis'",
     "output_type": "error",
     "traceback": [
      "\u001B[0;31m---------------------------------------------------------------------------\u001B[0m",
      "\u001B[0;31mTypeError\u001B[0m                                 Traceback (most recent call last)",
      "File \u001B[0;32m~/anaconda3/envs/dataquest/lib/python3.11/site-packages/IPython/core/formatters.py:344\u001B[0m, in \u001B[0;36mBaseFormatter.__call__\u001B[0;34m(self, obj)\u001B[0m\n\u001B[1;32m    342\u001B[0m     method \u001B[38;5;241m=\u001B[39m get_real_method(obj, \u001B[38;5;28mself\u001B[39m\u001B[38;5;241m.\u001B[39mprint_method)\n\u001B[1;32m    343\u001B[0m     \u001B[38;5;28;01mif\u001B[39;00m method \u001B[38;5;129;01mis\u001B[39;00m \u001B[38;5;129;01mnot\u001B[39;00m \u001B[38;5;28;01mNone\u001B[39;00m:\n\u001B[0;32m--> 344\u001B[0m         \u001B[38;5;28;01mreturn\u001B[39;00m method()\n\u001B[1;32m    345\u001B[0m     \u001B[38;5;28;01mreturn\u001B[39;00m \u001B[38;5;28;01mNone\u001B[39;00m\n\u001B[1;32m    346\u001B[0m \u001B[38;5;28;01melse\u001B[39;00m:\n",
      "File \u001B[0;32m~/anaconda3/envs/dataquest/lib/python3.11/site-packages/pandas/io/formats/style.py:408\u001B[0m, in \u001B[0;36mStyler._repr_html_\u001B[0;34m(self)\u001B[0m\n\u001B[1;32m    403\u001B[0m \u001B[38;5;250m\u001B[39m\u001B[38;5;124;03m\"\"\"\u001B[39;00m\n\u001B[1;32m    404\u001B[0m \u001B[38;5;124;03mHooks into Jupyter notebook rich display system, which calls _repr_html_ by\u001B[39;00m\n\u001B[1;32m    405\u001B[0m \u001B[38;5;124;03mdefault if an object is returned at the end of a cell.\u001B[39;00m\n\u001B[1;32m    406\u001B[0m \u001B[38;5;124;03m\"\"\"\u001B[39;00m\n\u001B[1;32m    407\u001B[0m \u001B[38;5;28;01mif\u001B[39;00m get_option(\u001B[38;5;124m\"\u001B[39m\u001B[38;5;124mstyler.render.repr\u001B[39m\u001B[38;5;124m\"\u001B[39m) \u001B[38;5;241m==\u001B[39m \u001B[38;5;124m\"\u001B[39m\u001B[38;5;124mhtml\u001B[39m\u001B[38;5;124m\"\u001B[39m:\n\u001B[0;32m--> 408\u001B[0m     \u001B[38;5;28;01mreturn\u001B[39;00m \u001B[38;5;28mself\u001B[39m\u001B[38;5;241m.\u001B[39mto_html()\n\u001B[1;32m    409\u001B[0m \u001B[38;5;28;01mreturn\u001B[39;00m \u001B[38;5;28;01mNone\u001B[39;00m\n",
      "File \u001B[0;32m~/anaconda3/envs/dataquest/lib/python3.11/site-packages/pandas/io/formats/style.py:1348\u001B[0m, in \u001B[0;36mStyler.to_html\u001B[0;34m(self, buf, table_uuid, table_attributes, sparse_index, sparse_columns, bold_headers, caption, max_rows, max_columns, encoding, doctype_html, exclude_styles, **kwargs)\u001B[0m\n\u001B[1;32m   1345\u001B[0m     obj\u001B[38;5;241m.\u001B[39mset_caption(caption)\n\u001B[1;32m   1347\u001B[0m \u001B[38;5;66;03m# Build HTML string..\u001B[39;00m\n\u001B[0;32m-> 1348\u001B[0m html \u001B[38;5;241m=\u001B[39m obj\u001B[38;5;241m.\u001B[39m_render_html(\n\u001B[1;32m   1349\u001B[0m     sparse_index\u001B[38;5;241m=\u001B[39msparse_index,\n\u001B[1;32m   1350\u001B[0m     sparse_columns\u001B[38;5;241m=\u001B[39msparse_columns,\n\u001B[1;32m   1351\u001B[0m     max_rows\u001B[38;5;241m=\u001B[39mmax_rows,\n\u001B[1;32m   1352\u001B[0m     max_cols\u001B[38;5;241m=\u001B[39mmax_columns,\n\u001B[1;32m   1353\u001B[0m     exclude_styles\u001B[38;5;241m=\u001B[39mexclude_styles,\n\u001B[1;32m   1354\u001B[0m     encoding\u001B[38;5;241m=\u001B[39mencoding \u001B[38;5;129;01mor\u001B[39;00m get_option(\u001B[38;5;124m\"\u001B[39m\u001B[38;5;124mstyler.render.encoding\u001B[39m\u001B[38;5;124m\"\u001B[39m),\n\u001B[1;32m   1355\u001B[0m     doctype_html\u001B[38;5;241m=\u001B[39mdoctype_html,\n\u001B[1;32m   1356\u001B[0m     \u001B[38;5;241m*\u001B[39m\u001B[38;5;241m*\u001B[39mkwargs,\n\u001B[1;32m   1357\u001B[0m )\n\u001B[1;32m   1359\u001B[0m \u001B[38;5;28;01mreturn\u001B[39;00m save_to_buffer(\n\u001B[1;32m   1360\u001B[0m     html, buf\u001B[38;5;241m=\u001B[39mbuf, encoding\u001B[38;5;241m=\u001B[39m(encoding \u001B[38;5;28;01mif\u001B[39;00m buf \u001B[38;5;129;01mis\u001B[39;00m \u001B[38;5;129;01mnot\u001B[39;00m \u001B[38;5;28;01mNone\u001B[39;00m \u001B[38;5;28;01melse\u001B[39;00m \u001B[38;5;28;01mNone\u001B[39;00m)\n\u001B[1;32m   1361\u001B[0m )\n",
      "File \u001B[0;32m~/anaconda3/envs/dataquest/lib/python3.11/site-packages/pandas/io/formats/style_render.py:204\u001B[0m, in \u001B[0;36mStylerRenderer._render_html\u001B[0;34m(self, sparse_index, sparse_columns, max_rows, max_cols, **kwargs)\u001B[0m\n\u001B[1;32m    192\u001B[0m \u001B[38;5;28;01mdef\u001B[39;00m \u001B[38;5;21m_render_html\u001B[39m(\n\u001B[1;32m    193\u001B[0m     \u001B[38;5;28mself\u001B[39m,\n\u001B[1;32m    194\u001B[0m     sparse_index: \u001B[38;5;28mbool\u001B[39m,\n\u001B[0;32m   (...)\u001B[0m\n\u001B[1;32m    198\u001B[0m     \u001B[38;5;241m*\u001B[39m\u001B[38;5;241m*\u001B[39mkwargs,\n\u001B[1;32m    199\u001B[0m ) \u001B[38;5;241m-\u001B[39m\u001B[38;5;241m>\u001B[39m \u001B[38;5;28mstr\u001B[39m:\n\u001B[1;32m    200\u001B[0m \u001B[38;5;250m    \u001B[39m\u001B[38;5;124;03m\"\"\"\u001B[39;00m\n\u001B[1;32m    201\u001B[0m \u001B[38;5;124;03m    Renders the ``Styler`` including all applied styles to HTML.\u001B[39;00m\n\u001B[1;32m    202\u001B[0m \u001B[38;5;124;03m    Generates a dict with necessary kwargs passed to jinja2 template.\u001B[39;00m\n\u001B[1;32m    203\u001B[0m \u001B[38;5;124;03m    \"\"\"\u001B[39;00m\n\u001B[0;32m--> 204\u001B[0m     d \u001B[38;5;241m=\u001B[39m \u001B[38;5;28mself\u001B[39m\u001B[38;5;241m.\u001B[39m_render(sparse_index, sparse_columns, max_rows, max_cols, \u001B[38;5;124m\"\u001B[39m\u001B[38;5;124m&nbsp;\u001B[39m\u001B[38;5;124m\"\u001B[39m)\n\u001B[1;32m    205\u001B[0m     d\u001B[38;5;241m.\u001B[39mupdate(kwargs)\n\u001B[1;32m    206\u001B[0m     \u001B[38;5;28;01mreturn\u001B[39;00m \u001B[38;5;28mself\u001B[39m\u001B[38;5;241m.\u001B[39mtemplate_html\u001B[38;5;241m.\u001B[39mrender(\n\u001B[1;32m    207\u001B[0m         \u001B[38;5;241m*\u001B[39m\u001B[38;5;241m*\u001B[39md,\n\u001B[1;32m    208\u001B[0m         html_table_tpl\u001B[38;5;241m=\u001B[39m\u001B[38;5;28mself\u001B[39m\u001B[38;5;241m.\u001B[39mtemplate_html_table,\n\u001B[1;32m    209\u001B[0m         html_style_tpl\u001B[38;5;241m=\u001B[39m\u001B[38;5;28mself\u001B[39m\u001B[38;5;241m.\u001B[39mtemplate_html_style,\n\u001B[1;32m    210\u001B[0m     )\n",
      "File \u001B[0;32m~/anaconda3/envs/dataquest/lib/python3.11/site-packages/pandas/io/formats/style_render.py:161\u001B[0m, in \u001B[0;36mStylerRenderer._render\u001B[0;34m(self, sparse_index, sparse_columns, max_rows, max_cols, blank)\u001B[0m\n\u001B[1;32m    147\u001B[0m \u001B[38;5;28;01mdef\u001B[39;00m \u001B[38;5;21m_render\u001B[39m(\n\u001B[1;32m    148\u001B[0m     \u001B[38;5;28mself\u001B[39m,\n\u001B[1;32m    149\u001B[0m     sparse_index: \u001B[38;5;28mbool\u001B[39m,\n\u001B[0;32m   (...)\u001B[0m\n\u001B[1;32m    153\u001B[0m     blank: \u001B[38;5;28mstr\u001B[39m \u001B[38;5;241m=\u001B[39m \u001B[38;5;124m\"\u001B[39m\u001B[38;5;124m\"\u001B[39m,\n\u001B[1;32m    154\u001B[0m ):\n\u001B[1;32m    155\u001B[0m \u001B[38;5;250m    \u001B[39m\u001B[38;5;124;03m\"\"\"\u001B[39;00m\n\u001B[1;32m    156\u001B[0m \u001B[38;5;124;03m    Computes and applies styles and then generates the general render dicts.\u001B[39;00m\n\u001B[1;32m    157\u001B[0m \n\u001B[1;32m    158\u001B[0m \u001B[38;5;124;03m    Also extends the `ctx` and `ctx_index` attributes with those of concatenated\u001B[39;00m\n\u001B[1;32m    159\u001B[0m \u001B[38;5;124;03m    stylers for use within `_translate_latex`\u001B[39;00m\n\u001B[1;32m    160\u001B[0m \u001B[38;5;124;03m    \"\"\"\u001B[39;00m\n\u001B[0;32m--> 161\u001B[0m     \u001B[38;5;28mself\u001B[39m\u001B[38;5;241m.\u001B[39m_compute()\n\u001B[1;32m    162\u001B[0m     dxs \u001B[38;5;241m=\u001B[39m []\n\u001B[1;32m    163\u001B[0m     ctx_len \u001B[38;5;241m=\u001B[39m \u001B[38;5;28mlen\u001B[39m(\u001B[38;5;28mself\u001B[39m\u001B[38;5;241m.\u001B[39mindex)\n",
      "File \u001B[0;32m~/anaconda3/envs/dataquest/lib/python3.11/site-packages/pandas/io/formats/style_render.py:256\u001B[0m, in \u001B[0;36mStylerRenderer._compute\u001B[0;34m(self)\u001B[0m\n\u001B[1;32m    254\u001B[0m r \u001B[38;5;241m=\u001B[39m \u001B[38;5;28mself\u001B[39m\n\u001B[1;32m    255\u001B[0m \u001B[38;5;28;01mfor\u001B[39;00m func, args, kwargs \u001B[38;5;129;01min\u001B[39;00m \u001B[38;5;28mself\u001B[39m\u001B[38;5;241m.\u001B[39m_todo:\n\u001B[0;32m--> 256\u001B[0m     r \u001B[38;5;241m=\u001B[39m func(\u001B[38;5;28mself\u001B[39m)(\u001B[38;5;241m*\u001B[39margs, \u001B[38;5;241m*\u001B[39m\u001B[38;5;241m*\u001B[39mkwargs)\n\u001B[1;32m    257\u001B[0m \u001B[38;5;28;01mreturn\u001B[39;00m r\n",
      "File \u001B[0;32m~/anaconda3/envs/dataquest/lib/python3.11/site-packages/pandas/io/formats/style.py:2030\u001B[0m, in \u001B[0;36mStyler._map\u001B[0;34m(self, func, subset, **kwargs)\u001B[0m\n\u001B[1;32m   2028\u001B[0m     subset \u001B[38;5;241m=\u001B[39m IndexSlice[:]\n\u001B[1;32m   2029\u001B[0m subset \u001B[38;5;241m=\u001B[39m non_reducing_slice(subset)\n\u001B[0;32m-> 2030\u001B[0m result \u001B[38;5;241m=\u001B[39m \u001B[38;5;28mself\u001B[39m\u001B[38;5;241m.\u001B[39mdata\u001B[38;5;241m.\u001B[39mloc[subset]\u001B[38;5;241m.\u001B[39mmap(func)\n\u001B[1;32m   2031\u001B[0m \u001B[38;5;28mself\u001B[39m\u001B[38;5;241m.\u001B[39m_update_ctx(result)\n\u001B[1;32m   2032\u001B[0m \u001B[38;5;28;01mreturn\u001B[39;00m \u001B[38;5;28mself\u001B[39m\n",
      "File \u001B[0;32m~/anaconda3/envs/dataquest/lib/python3.11/site-packages/pandas/core/frame.py:10120\u001B[0m, in \u001B[0;36mDataFrame.map\u001B[0;34m(self, func, na_action, **kwargs)\u001B[0m\n\u001B[1;32m  10117\u001B[0m \u001B[38;5;28;01mdef\u001B[39;00m \u001B[38;5;21minfer\u001B[39m(x):\n\u001B[1;32m  10118\u001B[0m     \u001B[38;5;28;01mreturn\u001B[39;00m x\u001B[38;5;241m.\u001B[39m_map_values(func, na_action\u001B[38;5;241m=\u001B[39mna_action)\n\u001B[0;32m> 10120\u001B[0m \u001B[38;5;28;01mreturn\u001B[39;00m \u001B[38;5;28mself\u001B[39m\u001B[38;5;241m.\u001B[39mapply(infer)\u001B[38;5;241m.\u001B[39m__finalize__(\u001B[38;5;28mself\u001B[39m, \u001B[38;5;124m\"\u001B[39m\u001B[38;5;124mmap\u001B[39m\u001B[38;5;124m\"\u001B[39m)\n",
      "File \u001B[0;32m~/anaconda3/envs/dataquest/lib/python3.11/site-packages/pandas/core/frame.py:10034\u001B[0m, in \u001B[0;36mDataFrame.apply\u001B[0;34m(self, func, axis, raw, result_type, args, by_row, **kwargs)\u001B[0m\n\u001B[1;32m  10022\u001B[0m \u001B[38;5;28;01mfrom\u001B[39;00m \u001B[38;5;21;01mpandas\u001B[39;00m\u001B[38;5;21;01m.\u001B[39;00m\u001B[38;5;21;01mcore\u001B[39;00m\u001B[38;5;21;01m.\u001B[39;00m\u001B[38;5;21;01mapply\u001B[39;00m \u001B[38;5;28;01mimport\u001B[39;00m frame_apply\n\u001B[1;32m  10024\u001B[0m op \u001B[38;5;241m=\u001B[39m frame_apply(\n\u001B[1;32m  10025\u001B[0m     \u001B[38;5;28mself\u001B[39m,\n\u001B[1;32m  10026\u001B[0m     func\u001B[38;5;241m=\u001B[39mfunc,\n\u001B[0;32m   (...)\u001B[0m\n\u001B[1;32m  10032\u001B[0m     kwargs\u001B[38;5;241m=\u001B[39mkwargs,\n\u001B[1;32m  10033\u001B[0m )\n\u001B[0;32m> 10034\u001B[0m \u001B[38;5;28;01mreturn\u001B[39;00m op\u001B[38;5;241m.\u001B[39mapply()\u001B[38;5;241m.\u001B[39m__finalize__(\u001B[38;5;28mself\u001B[39m, method\u001B[38;5;241m=\u001B[39m\u001B[38;5;124m\"\u001B[39m\u001B[38;5;124mapply\u001B[39m\u001B[38;5;124m\"\u001B[39m)\n",
      "File \u001B[0;32m~/anaconda3/envs/dataquest/lib/python3.11/site-packages/pandas/core/apply.py:837\u001B[0m, in \u001B[0;36mFrameApply.apply\u001B[0;34m(self)\u001B[0m\n\u001B[1;32m    834\u001B[0m \u001B[38;5;28;01melif\u001B[39;00m \u001B[38;5;28mself\u001B[39m\u001B[38;5;241m.\u001B[39mraw:\n\u001B[1;32m    835\u001B[0m     \u001B[38;5;28;01mreturn\u001B[39;00m \u001B[38;5;28mself\u001B[39m\u001B[38;5;241m.\u001B[39mapply_raw()\n\u001B[0;32m--> 837\u001B[0m \u001B[38;5;28;01mreturn\u001B[39;00m \u001B[38;5;28mself\u001B[39m\u001B[38;5;241m.\u001B[39mapply_standard()\n",
      "File \u001B[0;32m~/anaconda3/envs/dataquest/lib/python3.11/site-packages/pandas/core/apply.py:965\u001B[0m, in \u001B[0;36mFrameApply.apply_standard\u001B[0;34m(self)\u001B[0m\n\u001B[1;32m    964\u001B[0m \u001B[38;5;28;01mdef\u001B[39;00m \u001B[38;5;21mapply_standard\u001B[39m(\u001B[38;5;28mself\u001B[39m):\n\u001B[0;32m--> 965\u001B[0m     results, res_index \u001B[38;5;241m=\u001B[39m \u001B[38;5;28mself\u001B[39m\u001B[38;5;241m.\u001B[39mapply_series_generator()\n\u001B[1;32m    967\u001B[0m     \u001B[38;5;66;03m# wrap results\u001B[39;00m\n\u001B[1;32m    968\u001B[0m     \u001B[38;5;28;01mreturn\u001B[39;00m \u001B[38;5;28mself\u001B[39m\u001B[38;5;241m.\u001B[39mwrap_results(results, res_index)\n",
      "File \u001B[0;32m~/anaconda3/envs/dataquest/lib/python3.11/site-packages/pandas/core/apply.py:981\u001B[0m, in \u001B[0;36mFrameApply.apply_series_generator\u001B[0;34m(self)\u001B[0m\n\u001B[1;32m    978\u001B[0m \u001B[38;5;28;01mwith\u001B[39;00m option_context(\u001B[38;5;124m\"\u001B[39m\u001B[38;5;124mmode.chained_assignment\u001B[39m\u001B[38;5;124m\"\u001B[39m, \u001B[38;5;28;01mNone\u001B[39;00m):\n\u001B[1;32m    979\u001B[0m     \u001B[38;5;28;01mfor\u001B[39;00m i, v \u001B[38;5;129;01min\u001B[39;00m \u001B[38;5;28menumerate\u001B[39m(series_gen):\n\u001B[1;32m    980\u001B[0m         \u001B[38;5;66;03m# ignore SettingWithCopy here in case the user mutates\u001B[39;00m\n\u001B[0;32m--> 981\u001B[0m         results[i] \u001B[38;5;241m=\u001B[39m \u001B[38;5;28mself\u001B[39m\u001B[38;5;241m.\u001B[39mfunc(v, \u001B[38;5;241m*\u001B[39m\u001B[38;5;28mself\u001B[39m\u001B[38;5;241m.\u001B[39margs, \u001B[38;5;241m*\u001B[39m\u001B[38;5;241m*\u001B[39m\u001B[38;5;28mself\u001B[39m\u001B[38;5;241m.\u001B[39mkwargs)\n\u001B[1;32m    982\u001B[0m         \u001B[38;5;28;01mif\u001B[39;00m \u001B[38;5;28misinstance\u001B[39m(results[i], ABCSeries):\n\u001B[1;32m    983\u001B[0m             \u001B[38;5;66;03m# If we have a view on v, we need to make a copy because\u001B[39;00m\n\u001B[1;32m    984\u001B[0m             \u001B[38;5;66;03m#  series_generator will swap out the underlying data\u001B[39;00m\n\u001B[1;32m    985\u001B[0m             results[i] \u001B[38;5;241m=\u001B[39m results[i]\u001B[38;5;241m.\u001B[39mcopy(deep\u001B[38;5;241m=\u001B[39m\u001B[38;5;28;01mFalse\u001B[39;00m)\n",
      "File \u001B[0;32m~/anaconda3/envs/dataquest/lib/python3.11/site-packages/pandas/core/frame.py:10118\u001B[0m, in \u001B[0;36mDataFrame.map.<locals>.infer\u001B[0;34m(x)\u001B[0m\n\u001B[1;32m  10117\u001B[0m \u001B[38;5;28;01mdef\u001B[39;00m \u001B[38;5;21minfer\u001B[39m(x):\n\u001B[0;32m> 10118\u001B[0m     \u001B[38;5;28;01mreturn\u001B[39;00m x\u001B[38;5;241m.\u001B[39m_map_values(func, na_action\u001B[38;5;241m=\u001B[39mna_action)\n",
      "File \u001B[0;32m~/anaconda3/envs/dataquest/lib/python3.11/site-packages/pandas/core/base.py:921\u001B[0m, in \u001B[0;36mIndexOpsMixin._map_values\u001B[0;34m(self, mapper, na_action, convert)\u001B[0m\n\u001B[1;32m    918\u001B[0m \u001B[38;5;28;01mif\u001B[39;00m \u001B[38;5;28misinstance\u001B[39m(arr, ExtensionArray):\n\u001B[1;32m    919\u001B[0m     \u001B[38;5;28;01mreturn\u001B[39;00m arr\u001B[38;5;241m.\u001B[39mmap(mapper, na_action\u001B[38;5;241m=\u001B[39mna_action)\n\u001B[0;32m--> 921\u001B[0m \u001B[38;5;28;01mreturn\u001B[39;00m algorithms\u001B[38;5;241m.\u001B[39mmap_array(arr, mapper, na_action\u001B[38;5;241m=\u001B[39mna_action, convert\u001B[38;5;241m=\u001B[39mconvert)\n",
      "File \u001B[0;32m~/anaconda3/envs/dataquest/lib/python3.11/site-packages/pandas/core/algorithms.py:1814\u001B[0m, in \u001B[0;36mmap_array\u001B[0;34m(arr, mapper, na_action, convert)\u001B[0m\n\u001B[1;32m   1812\u001B[0m values \u001B[38;5;241m=\u001B[39m arr\u001B[38;5;241m.\u001B[39mastype(\u001B[38;5;28mobject\u001B[39m, copy\u001B[38;5;241m=\u001B[39m\u001B[38;5;28;01mFalse\u001B[39;00m)\n\u001B[1;32m   1813\u001B[0m \u001B[38;5;28;01mif\u001B[39;00m na_action \u001B[38;5;129;01mis\u001B[39;00m \u001B[38;5;28;01mNone\u001B[39;00m:\n\u001B[0;32m-> 1814\u001B[0m     \u001B[38;5;28;01mreturn\u001B[39;00m lib\u001B[38;5;241m.\u001B[39mmap_infer(values, mapper, convert\u001B[38;5;241m=\u001B[39mconvert)\n\u001B[1;32m   1815\u001B[0m \u001B[38;5;28;01melse\u001B[39;00m:\n\u001B[1;32m   1816\u001B[0m     \u001B[38;5;28;01mreturn\u001B[39;00m lib\u001B[38;5;241m.\u001B[39mmap_infer_mask(\n\u001B[1;32m   1817\u001B[0m         values, mapper, mask\u001B[38;5;241m=\u001B[39misna(values)\u001B[38;5;241m.\u001B[39mview(np\u001B[38;5;241m.\u001B[39muint8), convert\u001B[38;5;241m=\u001B[39mconvert\n\u001B[1;32m   1818\u001B[0m     )\n",
      "File \u001B[0;32mlib.pyx:2926\u001B[0m, in \u001B[0;36mpandas._libs.lib.map_infer\u001B[0;34m()\u001B[0m\n",
      "\u001B[0;31mTypeError\u001B[0m: highlight() got an unexpected keyword argument 'axis'"
     ]
    },
    {
     "data": {
      "text/plain": "<pandas.io.formats.style.Styler at 0x15db97310>"
     },
     "execution_count": 163,
     "metadata": {},
     "output_type": "execute_result"
    }
   ],
   "source": [
    "# Example 20\n",
    "def highlight(data):\n",
    "    n = len(data)\n",
    "    if data['sex']=='Male':\n",
    "        return n*['background-color: lightblue']\n",
    "    if data['sex']=='Female':\n",
    "        return n*['background-color: lightpink']\n",
    "    else:\n",
    "        return n*['']\n",
    "df.head(6).style.applymap(highlight, axis=1).hide()\n"
   ]
  },
  {
   "cell_type": "code",
   "execution_count": 163,
   "id": "24337dedc61fdbcb",
   "metadata": {
    "collapsed": false,
    "ExecuteTime": {
     "end_time": "2024-01-07T03:27:37.924822Z",
     "start_time": "2024-01-07T03:27:37.913795Z"
    }
   },
   "outputs": [],
   "source": []
  }
 ],
 "metadata": {
  "kernelspec": {
   "display_name": "Python 3 (ipykernel)",
   "language": "python",
   "name": "python3"
  },
  "language_info": {
   "codemirror_mode": {
    "name": "ipython",
    "version": 3
   },
   "file_extension": ".py",
   "mimetype": "text/x-python",
   "name": "python",
   "nbconvert_exporter": "python",
   "pygments_lexer": "ipython3",
   "version": "3.11.5"
  }
 },
 "nbformat": 4,
 "nbformat_minor": 5
}
