{
 "cells": [
  {
   "cell_type": "markdown",
   "id": "221470ffba011ddb",
   "metadata": {},
   "source": [
    "# Prettifying pandas DataFrames"
   ]
  },
  {
   "cell_type": "markdown",
   "id": "a7294e9750dfcb87",
   "metadata": {},
   "source": [
    "## Data\n",
    "We will use Seaborn penguins dataset. It contains data on penguins from three different species collected from three islands in the Palmer Archipelago, Antarctica. The dataset contains 344 observations and 17 variables. The dataset is available in Seaborn library.\n"
   ]
  },
  {
   "cell_type": "code",
   "execution_count": 244,
   "id": "9746f7f4c92d559e",
   "metadata": {
    "collapsed": false,
    "ExecuteTime": {
     "end_time": "2024-01-07T18:09:12.746769Z",
     "start_time": "2024-01-07T18:09:12.698825Z"
    }
   },
   "outputs": [
    {
     "data": {
      "text/plain": "  species     island  bill_length_mm  bill_depth_mm  flipper    mass     sex\n0  Adelie  Torgersen            39.1           18.7    181.0  3750.0    Male\n1  Adelie  Torgersen            39.5           17.4    186.0  3800.0  Female\n2  Adelie  Torgersen            40.3           18.0    195.0  3250.0  Female\n3  Adelie  Torgersen             NaN            NaN      NaN     NaN     NaN\n4  Adelie  Torgersen            36.7           19.3    193.0  3450.0  Female",
      "text/html": "<div>\n<style scoped>\n    .dataframe tbody tr th:only-of-type {\n        vertical-align: middle;\n    }\n\n    .dataframe tbody tr th {\n        vertical-align: top;\n    }\n\n    .dataframe thead th {\n        text-align: right;\n    }\n</style>\n<table border=\"1\" class=\"dataframe\">\n  <thead>\n    <tr style=\"text-align: right;\">\n      <th></th>\n      <th>species</th>\n      <th>island</th>\n      <th>bill_length_mm</th>\n      <th>bill_depth_mm</th>\n      <th>flipper</th>\n      <th>mass</th>\n      <th>sex</th>\n    </tr>\n  </thead>\n  <tbody>\n    <tr>\n      <th>0</th>\n      <td>Adelie</td>\n      <td>Torgersen</td>\n      <td>39.1</td>\n      <td>18.7</td>\n      <td>181.0</td>\n      <td>3750.0</td>\n      <td>Male</td>\n    </tr>\n    <tr>\n      <th>1</th>\n      <td>Adelie</td>\n      <td>Torgersen</td>\n      <td>39.5</td>\n      <td>17.4</td>\n      <td>186.0</td>\n      <td>3800.0</td>\n      <td>Female</td>\n    </tr>\n    <tr>\n      <th>2</th>\n      <td>Adelie</td>\n      <td>Torgersen</td>\n      <td>40.3</td>\n      <td>18.0</td>\n      <td>195.0</td>\n      <td>3250.0</td>\n      <td>Female</td>\n    </tr>\n    <tr>\n      <th>3</th>\n      <td>Adelie</td>\n      <td>Torgersen</td>\n      <td>NaN</td>\n      <td>NaN</td>\n      <td>NaN</td>\n      <td>NaN</td>\n      <td>NaN</td>\n    </tr>\n    <tr>\n      <th>4</th>\n      <td>Adelie</td>\n      <td>Torgersen</td>\n      <td>36.7</td>\n      <td>19.3</td>\n      <td>193.0</td>\n      <td>3450.0</td>\n      <td>Female</td>\n    </tr>\n  </tbody>\n</table>\n</div>"
     },
     "execution_count": 244,
     "metadata": {},
     "output_type": "execute_result"
    }
   ],
   "source": [
    "from seaborn import load_dataset\n",
    "import pandas as pd\n",
    "import numpy as np\n",
    "\n",
    "pd.options.display.precision = 2\n",
    "\n",
    "# Load the data\n",
    "columns = {'culmen_length_mm': 'length', \n",
    "           'culmen_depth_mm': 'depth',\n",
    "           'flipper_length_mm': 'flipper',\n",
    "           'body_mass_g': 'mass'}\n",
    "df = load_dataset('penguins').rename(columns=columns)\n",
    "df.head()\n"
   ]
  },
  {
   "cell_type": "code",
   "execution_count": 245,
   "id": "dc4928a970574ada",
   "metadata": {
    "collapsed": false,
    "ExecuteTime": {
     "end_time": "2024-01-07T18:09:12.755289Z",
     "start_time": "2024-01-07T18:09:12.750538Z"
    }
   },
   "outputs": [
    {
     "name": "stdout",
     "output_type": "stream",
     "text": [
      "<class 'pandas.core.frame.DataFrame'>\n",
      "RangeIndex: 344 entries, 0 to 343\n",
      "Data columns (total 7 columns):\n",
      " #   Column          Non-Null Count  Dtype  \n",
      "---  ------          --------------  -----  \n",
      " 0   species         344 non-null    object \n",
      " 1   island          344 non-null    object \n",
      " 2   bill_length_mm  342 non-null    float64\n",
      " 3   bill_depth_mm   342 non-null    float64\n",
      " 4   flipper         342 non-null    float64\n",
      " 5   mass            342 non-null    float64\n",
      " 6   sex             333 non-null    object \n",
      "dtypes: float64(4), object(3)\n",
      "memory usage: 18.9+ KB\n"
     ]
    }
   ],
   "source": [
    "df.info()"
   ]
  },
  {
   "cell_type": "markdown",
   "id": "19b5383bfcd717db",
   "metadata": {},
   "source": [
    "## 1. Prettifying DataFrames with Styler\n",
    "Styler is a class that allows to format and style DataFrames and Series. It is available in pandas since version 0.17.0. It is a very powerful tool that allows to create nice looking tables. It is also possible to export the styled tables to Excel or HTML files which can be further styled using CSS. \n",
    "\n"
   ]
  },
  {
   "cell_type": "markdown",
   "id": "51ebdfa75b34e9d0",
   "metadata": {},
   "source": [
    "### 1.1. Gradients\n",
    "Styler allows to apply gradients to the DataFrame. It is possible to apply gradients to the whole DataFrame or to a subset of columns. The gradient is calculated based on the values in the DataFrame. The values are normalized to the range [0, 1] and the gradient is applied to the normalized values. The gradient is applied to each row separately.\n",
    "\n",
    "```python\n",
    "correlation_matrix = df.corr()\n",
    "correlation_matrix.style.background_gradient(cmap='seismic_r', axis=None)\n",
    "```\n",
    "**Example 1**\n",
    "\n",
    "Adding background gradient takes only an extra line of code. By passing axis=None, the colour gradients are applied along the entire table rather than within a specific axis. The name of the desired colour palette is passed onto the cmap parameter. For this parameter, we can use any Matplotlib colourmap. Here’s a useful tip for colourmaps: If you ever need to flip the colour scale, adding _r suffix to the colour map name will do the trick. For instance, if we used 'seismic' instead of 'seismic_r', negative correlations would have been blue and positive correlations would have been red.\n",
    "\n",
    "Let's add some more styling to the table. We center-aligned the values `({'text-align': 'center'})` and increased the row height `({'padding': '12px' )` with `.set_properties()`. Then, we added a caption above the table with `.set_caption()`. \n",
    "\n",
    "```python\n",
    "correlation_matrix.style.background_gradient(cmap='seismic_r', axis=None)\\\n",
    "    .set_properties(**{'text-align': 'center', 'padding': '12px'})\\\n",
    "    .set_caption('Correlation matrix')\n",
    "```\n",
    "**Example 2**\n",
    "\n",
    "In this example, we have applied colour gradients to the background. We can also apply colour gradients to the text with `.text_gradient()`:\n",
    "\n",
    "```python\n",
    "correlation_matrix.style.text_gradient(cmap='seismic_r', axis=None)\\\n",
    "    .set_properties(**{'text-align': 'center', 'padding': '12px'})\\\n",
    "    .set_caption('Correlation matrix')\n",
    "```\n",
    "__Example 3__\n",
    "\n",
    "If useful, we can chain both types of gradients as well:\n",
    "```python\n",
    "(correlation_matrix.style\n",
    "     .background_gradient(cmap='YlGn', axis=None)\n",
    "     .text_gradient(cmap='YlGn_r', axis=None))\n",
    "```\n",
    "__Example 4__\n",
    "\n",
    "And, for rump up, let's add some more nice stuff.\n",
    "```python\n",
    "# Create made-up predictions\n",
    "df['predicted'] = df['species']\n",
    "df.loc[140:160, 'predicted'] = 'Gentoo'\n",
    "df.loc[210:250, 'predicted'] = 'Adelie'\n",
    "# Create confusion matrix\n",
    "confusion_matrix = pd.crosstab(df['species'], df['predicted'])\n",
    "confusion_matrix\n",
    "\n",
    "# Create a styler\n",
    "(confusion_matrix.style\n",
    "     .background_gradient('Greys')\n",
    "     .set_caption('CONFUSION MATRIX')\n",
    "     .set_properties(**{'text-align': 'center', \n",
    "                        'padding': '12px', \n",
    "                        'width': '80px'})\n",
    "     .set_table_styles([{'selector': 'th.col_heading', \n",
    "                         'props': 'text-align: center'},\n",
    "                        {'selector': 'caption', \n",
    "                         'props': [('text-align', 'center'),\n",
    "                                   ('font-size', '11pt'),\n",
    "                                   ('font-weight', 'bold')]}]))\n",
    "```\n",
    "__Example 5__\n",
    "\n",
    "Since we familiarised with the first 5 lines of the code in the previous examples, let’s understand what the remaining code is doing:\n",
    "- ◼️ `.set_properties(**{'width': '80px'})`: to increase column width\n",
    "- ◼️ `.set_table_styles([{'selector': 'th.col_heading', 'props': 'text-align: center'}])`: to align column headers in center\n",
    "- ◼️ `.set_table_styles([{'selector': 'caption', 'props': [('text-align', 'center' ), ('font-size', '11pt'), ('font-weight', 'bold')]}])`: to center-align caption, increase its font size and bold it.\n",
    "\n"
   ]
  },
  {
   "cell_type": "code",
   "execution_count": 246,
   "id": "e9ea584528f77b5b",
   "metadata": {
    "collapsed": false,
    "ExecuteTime": {
     "end_time": "2024-01-07T18:09:12.764232Z",
     "start_time": "2024-01-07T18:09:12.756407Z"
    }
   },
   "outputs": [
    {
     "data": {
      "text/plain": "<pandas.io.formats.style.Styler at 0x1735b26d0>",
      "text/html": "<style type=\"text/css\">\n#T_50a86_row0_col0, #T_50a86_row1_col1, #T_50a86_row2_col2, #T_50a86_row3_col3 {\n  background-color: #00004c;\n  color: #f1f1f1;\n}\n#T_50a86_row0_col1, #T_50a86_row1_col0 {\n  background-color: #f00000;\n  color: #f1f1f1;\n}\n#T_50a86_row0_col2, #T_50a86_row2_col0 {\n  background-color: #0000e6;\n  color: #f1f1f1;\n}\n#T_50a86_row0_col3, #T_50a86_row3_col0 {\n  background-color: #0505ff;\n  color: #f1f1f1;\n}\n#T_50a86_row1_col2, #T_50a86_row2_col1 {\n  background-color: #800000;\n  color: #f1f1f1;\n}\n#T_50a86_row1_col3, #T_50a86_row3_col1 {\n  background-color: #a30000;\n  color: #f1f1f1;\n}\n#T_50a86_row2_col3, #T_50a86_row3_col2 {\n  background-color: #000084;\n  color: #f1f1f1;\n}\n</style>\n<table id=\"T_50a86\">\n  <thead>\n    <tr>\n      <th class=\"blank level0\" >&nbsp;</th>\n      <th id=\"T_50a86_level0_col0\" class=\"col_heading level0 col0\" >bill_length_mm</th>\n      <th id=\"T_50a86_level0_col1\" class=\"col_heading level0 col1\" >bill_depth_mm</th>\n      <th id=\"T_50a86_level0_col2\" class=\"col_heading level0 col2\" >flipper</th>\n      <th id=\"T_50a86_level0_col3\" class=\"col_heading level0 col3\" >mass</th>\n    </tr>\n  </thead>\n  <tbody>\n    <tr>\n      <th id=\"T_50a86_level0_row0\" class=\"row_heading level0 row0\" >bill_length_mm</th>\n      <td id=\"T_50a86_row0_col0\" class=\"data row0 col0\" >1.000000</td>\n      <td id=\"T_50a86_row0_col1\" class=\"data row0 col1\" >-0.235053</td>\n      <td id=\"T_50a86_row0_col2\" class=\"data row0 col2\" >0.656181</td>\n      <td id=\"T_50a86_row0_col3\" class=\"data row0 col3\" >0.595110</td>\n    </tr>\n    <tr>\n      <th id=\"T_50a86_level0_row1\" class=\"row_heading level0 row1\" >bill_depth_mm</th>\n      <td id=\"T_50a86_row1_col0\" class=\"data row1 col0\" >-0.235053</td>\n      <td id=\"T_50a86_row1_col1\" class=\"data row1 col1\" >1.000000</td>\n      <td id=\"T_50a86_row1_col2\" class=\"data row1 col2\" >-0.583851</td>\n      <td id=\"T_50a86_row1_col3\" class=\"data row1 col3\" >-0.471916</td>\n    </tr>\n    <tr>\n      <th id=\"T_50a86_level0_row2\" class=\"row_heading level0 row2\" >flipper</th>\n      <td id=\"T_50a86_row2_col0\" class=\"data row2 col0\" >0.656181</td>\n      <td id=\"T_50a86_row2_col1\" class=\"data row2 col1\" >-0.583851</td>\n      <td id=\"T_50a86_row2_col2\" class=\"data row2 col2\" >1.000000</td>\n      <td id=\"T_50a86_row2_col3\" class=\"data row2 col3\" >0.871202</td>\n    </tr>\n    <tr>\n      <th id=\"T_50a86_level0_row3\" class=\"row_heading level0 row3\" >mass</th>\n      <td id=\"T_50a86_row3_col0\" class=\"data row3 col0\" >0.595110</td>\n      <td id=\"T_50a86_row3_col1\" class=\"data row3 col1\" >-0.471916</td>\n      <td id=\"T_50a86_row3_col2\" class=\"data row3 col2\" >0.871202</td>\n      <td id=\"T_50a86_row3_col3\" class=\"data row3 col3\" >1.000000</td>\n    </tr>\n  </tbody>\n</table>\n"
     },
     "execution_count": 246,
     "metadata": {},
     "output_type": "execute_result"
    }
   ],
   "source": [
    "# Example 1\n",
    "correlation_matrix = df.corr(numeric_only=True)\n",
    "correlation_matrix.style.background_gradient(cmap='seismic_r', axis=None)"
   ]
  },
  {
   "cell_type": "code",
   "execution_count": 247,
   "id": "227a022a9c56d196",
   "metadata": {
    "collapsed": false,
    "ExecuteTime": {
     "end_time": "2024-01-07T18:09:12.768304Z",
     "start_time": "2024-01-07T18:09:12.761553Z"
    }
   },
   "outputs": [
    {
     "data": {
      "text/plain": "<pandas.io.formats.style.Styler at 0x1735ac0d0>",
      "text/html": "<style type=\"text/css\">\n#T_682a6_row0_col0, #T_682a6_row1_col1, #T_682a6_row2_col2, #T_682a6_row3_col3 {\n  background-color: #00004c;\n  color: #f1f1f1;\n  text-align: center;\n  padding: 12px;\n}\n#T_682a6_row0_col1, #T_682a6_row1_col0 {\n  background-color: #f00000;\n  color: #f1f1f1;\n  text-align: center;\n  padding: 12px;\n}\n#T_682a6_row0_col2, #T_682a6_row2_col0 {\n  background-color: #0000e6;\n  color: #f1f1f1;\n  text-align: center;\n  padding: 12px;\n}\n#T_682a6_row0_col3, #T_682a6_row3_col0 {\n  background-color: #0505ff;\n  color: #f1f1f1;\n  text-align: center;\n  padding: 12px;\n}\n#T_682a6_row1_col2, #T_682a6_row2_col1 {\n  background-color: #800000;\n  color: #f1f1f1;\n  text-align: center;\n  padding: 12px;\n}\n#T_682a6_row1_col3, #T_682a6_row3_col1 {\n  background-color: #a30000;\n  color: #f1f1f1;\n  text-align: center;\n  padding: 12px;\n}\n#T_682a6_row2_col3, #T_682a6_row3_col2 {\n  background-color: #000084;\n  color: #f1f1f1;\n  text-align: center;\n  padding: 12px;\n}\n</style>\n<table id=\"T_682a6\">\n  <caption>Correlation matrix</caption>\n  <thead>\n    <tr>\n      <th class=\"blank level0\" >&nbsp;</th>\n      <th id=\"T_682a6_level0_col0\" class=\"col_heading level0 col0\" >bill_length_mm</th>\n      <th id=\"T_682a6_level0_col1\" class=\"col_heading level0 col1\" >bill_depth_mm</th>\n      <th id=\"T_682a6_level0_col2\" class=\"col_heading level0 col2\" >flipper</th>\n      <th id=\"T_682a6_level0_col3\" class=\"col_heading level0 col3\" >mass</th>\n    </tr>\n  </thead>\n  <tbody>\n    <tr>\n      <th id=\"T_682a6_level0_row0\" class=\"row_heading level0 row0\" >bill_length_mm</th>\n      <td id=\"T_682a6_row0_col0\" class=\"data row0 col0\" >1.000000</td>\n      <td id=\"T_682a6_row0_col1\" class=\"data row0 col1\" >-0.235053</td>\n      <td id=\"T_682a6_row0_col2\" class=\"data row0 col2\" >0.656181</td>\n      <td id=\"T_682a6_row0_col3\" class=\"data row0 col3\" >0.595110</td>\n    </tr>\n    <tr>\n      <th id=\"T_682a6_level0_row1\" class=\"row_heading level0 row1\" >bill_depth_mm</th>\n      <td id=\"T_682a6_row1_col0\" class=\"data row1 col0\" >-0.235053</td>\n      <td id=\"T_682a6_row1_col1\" class=\"data row1 col1\" >1.000000</td>\n      <td id=\"T_682a6_row1_col2\" class=\"data row1 col2\" >-0.583851</td>\n      <td id=\"T_682a6_row1_col3\" class=\"data row1 col3\" >-0.471916</td>\n    </tr>\n    <tr>\n      <th id=\"T_682a6_level0_row2\" class=\"row_heading level0 row2\" >flipper</th>\n      <td id=\"T_682a6_row2_col0\" class=\"data row2 col0\" >0.656181</td>\n      <td id=\"T_682a6_row2_col1\" class=\"data row2 col1\" >-0.583851</td>\n      <td id=\"T_682a6_row2_col2\" class=\"data row2 col2\" >1.000000</td>\n      <td id=\"T_682a6_row2_col3\" class=\"data row2 col3\" >0.871202</td>\n    </tr>\n    <tr>\n      <th id=\"T_682a6_level0_row3\" class=\"row_heading level0 row3\" >mass</th>\n      <td id=\"T_682a6_row3_col0\" class=\"data row3 col0\" >0.595110</td>\n      <td id=\"T_682a6_row3_col1\" class=\"data row3 col1\" >-0.471916</td>\n      <td id=\"T_682a6_row3_col2\" class=\"data row3 col2\" >0.871202</td>\n      <td id=\"T_682a6_row3_col3\" class=\"data row3 col3\" >1.000000</td>\n    </tr>\n  </tbody>\n</table>\n"
     },
     "metadata": {},
     "output_type": "display_data"
    }
   ],
   "source": [
    "# Example 2 \n",
    "styler = correlation_matrix.style.background_gradient(cmap='seismic_r', axis=None)\\\n",
    "    .set_properties(**{'text-align': 'center', 'padding': '12px'})\\\n",
    "    .set_caption('Correlation matrix')\n",
    "\n",
    "if styler:\n",
    "    display(styler)\n",
    "else:\n",
    "    print('Styler is None')"
   ]
  },
  {
   "cell_type": "code",
   "execution_count": 248,
   "id": "3349fa67d8fac87",
   "metadata": {
    "collapsed": false,
    "tags": [],
    "ExecuteTime": {
     "end_time": "2024-01-07T18:09:12.782958Z",
     "start_time": "2024-01-07T18:09:12.766552Z"
    }
   },
   "outputs": [
    {
     "data": {
      "text/plain": "<pandas.io.formats.style.Styler at 0x1745a47d0>",
      "text/html": "<style type=\"text/css\">\n#T_94b5c_row0_col0, #T_94b5c_row1_col1, #T_94b5c_row2_col2, #T_94b5c_row3_col3 {\n  color: #00004c;\n  text-align: center;\n  padding: 12px;\n}\n#T_94b5c_row0_col1, #T_94b5c_row1_col0 {\n  color: #f00000;\n  text-align: center;\n  padding: 12px;\n}\n#T_94b5c_row0_col2, #T_94b5c_row2_col0 {\n  color: #0000e6;\n  text-align: center;\n  padding: 12px;\n}\n#T_94b5c_row0_col3, #T_94b5c_row3_col0 {\n  color: #0505ff;\n  text-align: center;\n  padding: 12px;\n}\n#T_94b5c_row1_col2, #T_94b5c_row2_col1 {\n  color: #800000;\n  text-align: center;\n  padding: 12px;\n}\n#T_94b5c_row1_col3, #T_94b5c_row3_col1 {\n  color: #a30000;\n  text-align: center;\n  padding: 12px;\n}\n#T_94b5c_row2_col3, #T_94b5c_row3_col2 {\n  color: #000084;\n  text-align: center;\n  padding: 12px;\n}\n</style>\n<table id=\"T_94b5c\">\n  <caption>Correlation matrix</caption>\n  <thead>\n    <tr>\n      <th class=\"blank level0\" >&nbsp;</th>\n      <th id=\"T_94b5c_level0_col0\" class=\"col_heading level0 col0\" >bill_length_mm</th>\n      <th id=\"T_94b5c_level0_col1\" class=\"col_heading level0 col1\" >bill_depth_mm</th>\n      <th id=\"T_94b5c_level0_col2\" class=\"col_heading level0 col2\" >flipper</th>\n      <th id=\"T_94b5c_level0_col3\" class=\"col_heading level0 col3\" >mass</th>\n    </tr>\n  </thead>\n  <tbody>\n    <tr>\n      <th id=\"T_94b5c_level0_row0\" class=\"row_heading level0 row0\" >bill_length_mm</th>\n      <td id=\"T_94b5c_row0_col0\" class=\"data row0 col0\" >1.000000</td>\n      <td id=\"T_94b5c_row0_col1\" class=\"data row0 col1\" >-0.235053</td>\n      <td id=\"T_94b5c_row0_col2\" class=\"data row0 col2\" >0.656181</td>\n      <td id=\"T_94b5c_row0_col3\" class=\"data row0 col3\" >0.595110</td>\n    </tr>\n    <tr>\n      <th id=\"T_94b5c_level0_row1\" class=\"row_heading level0 row1\" >bill_depth_mm</th>\n      <td id=\"T_94b5c_row1_col0\" class=\"data row1 col0\" >-0.235053</td>\n      <td id=\"T_94b5c_row1_col1\" class=\"data row1 col1\" >1.000000</td>\n      <td id=\"T_94b5c_row1_col2\" class=\"data row1 col2\" >-0.583851</td>\n      <td id=\"T_94b5c_row1_col3\" class=\"data row1 col3\" >-0.471916</td>\n    </tr>\n    <tr>\n      <th id=\"T_94b5c_level0_row2\" class=\"row_heading level0 row2\" >flipper</th>\n      <td id=\"T_94b5c_row2_col0\" class=\"data row2 col0\" >0.656181</td>\n      <td id=\"T_94b5c_row2_col1\" class=\"data row2 col1\" >-0.583851</td>\n      <td id=\"T_94b5c_row2_col2\" class=\"data row2 col2\" >1.000000</td>\n      <td id=\"T_94b5c_row2_col3\" class=\"data row2 col3\" >0.871202</td>\n    </tr>\n    <tr>\n      <th id=\"T_94b5c_level0_row3\" class=\"row_heading level0 row3\" >mass</th>\n      <td id=\"T_94b5c_row3_col0\" class=\"data row3 col0\" >0.595110</td>\n      <td id=\"T_94b5c_row3_col1\" class=\"data row3 col1\" >-0.471916</td>\n      <td id=\"T_94b5c_row3_col2\" class=\"data row3 col2\" >0.871202</td>\n      <td id=\"T_94b5c_row3_col3\" class=\"data row3 col3\" >1.000000</td>\n    </tr>\n  </tbody>\n</table>\n"
     },
     "execution_count": 248,
     "metadata": {},
     "output_type": "execute_result"
    }
   ],
   "source": [
    "# Example 3\n",
    "correlation_matrix.style.text_gradient(cmap='seismic_r', axis=None)\\\n",
    "    .set_properties(**{'text-align': 'center', 'padding': '12px'})\\\n",
    "    .set_caption('Correlation matrix')"
   ]
  },
  {
   "cell_type": "code",
   "execution_count": 249,
   "id": "a7ad6b4c81ba2c4a",
   "metadata": {
    "collapsed": false,
    "ExecuteTime": {
     "end_time": "2024-01-07T18:09:12.798599Z",
     "start_time": "2024-01-07T18:09:12.771289Z"
    }
   },
   "outputs": [
    {
     "data": {
      "text/plain": "<pandas.io.formats.style.Styler at 0x174123490>",
      "text/html": "<style type=\"text/css\">\n#T_575bf_row0_col0, #T_575bf_row1_col1, #T_575bf_row2_col2, #T_575bf_row3_col3 {\n  background-color: #004529;\n  color: #f1f1f1;\n  color: #ffffe5;\n}\n#T_575bf_row0_col1, #T_575bf_row1_col0 {\n  background-color: #e0f3a8;\n  color: #000000;\n  color: #1a7d40;\n}\n#T_575bf_row0_col2, #T_575bf_row2_col0 {\n  background-color: #197c40;\n  color: #f1f1f1;\n  color: #e1f3a9;\n}\n#T_575bf_row0_col3, #T_575bf_row3_col0 {\n  background-color: #248644;\n  color: #f1f1f1;\n  color: #d7efa2;\n}\n#T_575bf_row1_col2, #T_575bf_row2_col1 {\n  background-color: #ffffe5;\n  color: #000000;\n  color: #004529;\n}\n#T_575bf_row1_col3, #T_575bf_row3_col1 {\n  background-color: #fafdcc;\n  color: #000000;\n  color: #005931;\n}\n#T_575bf_row2_col3, #T_575bf_row3_col2 {\n  background-color: #005b32;\n  color: #f1f1f1;\n  color: #fafdc9;\n}\n</style>\n<table id=\"T_575bf\">\n  <thead>\n    <tr>\n      <th class=\"blank level0\" >&nbsp;</th>\n      <th id=\"T_575bf_level0_col0\" class=\"col_heading level0 col0\" >bill_length_mm</th>\n      <th id=\"T_575bf_level0_col1\" class=\"col_heading level0 col1\" >bill_depth_mm</th>\n      <th id=\"T_575bf_level0_col2\" class=\"col_heading level0 col2\" >flipper</th>\n      <th id=\"T_575bf_level0_col3\" class=\"col_heading level0 col3\" >mass</th>\n    </tr>\n  </thead>\n  <tbody>\n    <tr>\n      <th id=\"T_575bf_level0_row0\" class=\"row_heading level0 row0\" >bill_length_mm</th>\n      <td id=\"T_575bf_row0_col0\" class=\"data row0 col0\" >1.000000</td>\n      <td id=\"T_575bf_row0_col1\" class=\"data row0 col1\" >-0.235053</td>\n      <td id=\"T_575bf_row0_col2\" class=\"data row0 col2\" >0.656181</td>\n      <td id=\"T_575bf_row0_col3\" class=\"data row0 col3\" >0.595110</td>\n    </tr>\n    <tr>\n      <th id=\"T_575bf_level0_row1\" class=\"row_heading level0 row1\" >bill_depth_mm</th>\n      <td id=\"T_575bf_row1_col0\" class=\"data row1 col0\" >-0.235053</td>\n      <td id=\"T_575bf_row1_col1\" class=\"data row1 col1\" >1.000000</td>\n      <td id=\"T_575bf_row1_col2\" class=\"data row1 col2\" >-0.583851</td>\n      <td id=\"T_575bf_row1_col3\" class=\"data row1 col3\" >-0.471916</td>\n    </tr>\n    <tr>\n      <th id=\"T_575bf_level0_row2\" class=\"row_heading level0 row2\" >flipper</th>\n      <td id=\"T_575bf_row2_col0\" class=\"data row2 col0\" >0.656181</td>\n      <td id=\"T_575bf_row2_col1\" class=\"data row2 col1\" >-0.583851</td>\n      <td id=\"T_575bf_row2_col2\" class=\"data row2 col2\" >1.000000</td>\n      <td id=\"T_575bf_row2_col3\" class=\"data row2 col3\" >0.871202</td>\n    </tr>\n    <tr>\n      <th id=\"T_575bf_level0_row3\" class=\"row_heading level0 row3\" >mass</th>\n      <td id=\"T_575bf_row3_col0\" class=\"data row3 col0\" >0.595110</td>\n      <td id=\"T_575bf_row3_col1\" class=\"data row3 col1\" >-0.471916</td>\n      <td id=\"T_575bf_row3_col2\" class=\"data row3 col2\" >0.871202</td>\n      <td id=\"T_575bf_row3_col3\" class=\"data row3 col3\" >1.000000</td>\n    </tr>\n  </tbody>\n</table>\n"
     },
     "execution_count": 249,
     "metadata": {},
     "output_type": "execute_result"
    }
   ],
   "source": [
    "# Example 4\n",
    "(correlation_matrix.style\n",
    "     .background_gradient(cmap='YlGn', axis=None)\n",
    "     .text_gradient(cmap='YlGn_r', axis=None))"
   ]
  },
  {
   "cell_type": "code",
   "execution_count": 250,
   "id": "dc2968fc64a017b5",
   "metadata": {
    "collapsed": false,
    "ExecuteTime": {
     "end_time": "2024-01-07T18:09:12.799232Z",
     "start_time": "2024-01-07T18:09:12.776826Z"
    }
   },
   "outputs": [
    {
     "data": {
      "text/plain": "<pandas.io.formats.style.Styler at 0x1745504d0>",
      "text/html": "<style type=\"text/css\">\n#T_2ae2b th.col_heading {\n  text-align: center;\n}\n#T_2ae2b caption {\n  text-align: center;\n  font-size: 11pt;\n  font-weight: bold;\n}\n#T_2ae2b_row0_col0, #T_2ae2b_row1_col1, #T_2ae2b_row2_col2, #T_2ae2b_row3_col3 {\n  background-color: #000000;\n  color: #f1f1f1;\n  text-align: center;\n  padding: 12px;\n  width: 80px;\n}\n#T_2ae2b_row0_col1 {\n  background-color: #dfdfdf;\n  color: #000000;\n  text-align: center;\n  padding: 12px;\n  width: 80px;\n}\n#T_2ae2b_row0_col2 {\n  background-color: #464646;\n  color: #f1f1f1;\n  text-align: center;\n  padding: 12px;\n  width: 80px;\n}\n#T_2ae2b_row0_col3 {\n  background-color: #585858;\n  color: #f1f1f1;\n  text-align: center;\n  padding: 12px;\n  width: 80px;\n}\n#T_2ae2b_row1_col0, #T_2ae2b_row1_col2, #T_2ae2b_row1_col3, #T_2ae2b_row2_col1 {\n  background-color: #ffffff;\n  color: #000000;\n  text-align: center;\n  padding: 12px;\n  width: 80px;\n}\n#T_2ae2b_row2_col0 {\n  background-color: #5a5a5a;\n  color: #f1f1f1;\n  text-align: center;\n  padding: 12px;\n  width: 80px;\n}\n#T_2ae2b_row2_col3 {\n  background-color: #1a1a1a;\n  color: #f1f1f1;\n  text-align: center;\n  padding: 12px;\n  width: 80px;\n}\n#T_2ae2b_row3_col0 {\n  background-color: #666666;\n  color: #f1f1f1;\n  text-align: center;\n  padding: 12px;\n  width: 80px;\n}\n#T_2ae2b_row3_col1 {\n  background-color: #f7f7f7;\n  color: #000000;\n  text-align: center;\n  padding: 12px;\n  width: 80px;\n}\n#T_2ae2b_row3_col2 {\n  background-color: #171717;\n  color: #f1f1f1;\n  text-align: center;\n  padding: 12px;\n  width: 80px;\n}\n</style>\n<table id=\"T_2ae2b\">\n  <caption>CONFUSION MATRIX</caption>\n  <thead>\n    <tr>\n      <th class=\"blank level0\" >&nbsp;</th>\n      <th id=\"T_2ae2b_level0_col0\" class=\"col_heading level0 col0\" >bill_length_mm</th>\n      <th id=\"T_2ae2b_level0_col1\" class=\"col_heading level0 col1\" >bill_depth_mm</th>\n      <th id=\"T_2ae2b_level0_col2\" class=\"col_heading level0 col2\" >flipper</th>\n      <th id=\"T_2ae2b_level0_col3\" class=\"col_heading level0 col3\" >mass</th>\n    </tr>\n  </thead>\n  <tbody>\n    <tr>\n      <th id=\"T_2ae2b_level0_row0\" class=\"row_heading level0 row0\" >bill_length_mm</th>\n      <td id=\"T_2ae2b_row0_col0\" class=\"data row0 col0\" >1.000000</td>\n      <td id=\"T_2ae2b_row0_col1\" class=\"data row0 col1\" >-0.235053</td>\n      <td id=\"T_2ae2b_row0_col2\" class=\"data row0 col2\" >0.656181</td>\n      <td id=\"T_2ae2b_row0_col3\" class=\"data row0 col3\" >0.595110</td>\n    </tr>\n    <tr>\n      <th id=\"T_2ae2b_level0_row1\" class=\"row_heading level0 row1\" >bill_depth_mm</th>\n      <td id=\"T_2ae2b_row1_col0\" class=\"data row1 col0\" >-0.235053</td>\n      <td id=\"T_2ae2b_row1_col1\" class=\"data row1 col1\" >1.000000</td>\n      <td id=\"T_2ae2b_row1_col2\" class=\"data row1 col2\" >-0.583851</td>\n      <td id=\"T_2ae2b_row1_col3\" class=\"data row1 col3\" >-0.471916</td>\n    </tr>\n    <tr>\n      <th id=\"T_2ae2b_level0_row2\" class=\"row_heading level0 row2\" >flipper</th>\n      <td id=\"T_2ae2b_row2_col0\" class=\"data row2 col0\" >0.656181</td>\n      <td id=\"T_2ae2b_row2_col1\" class=\"data row2 col1\" >-0.583851</td>\n      <td id=\"T_2ae2b_row2_col2\" class=\"data row2 col2\" >1.000000</td>\n      <td id=\"T_2ae2b_row2_col3\" class=\"data row2 col3\" >0.871202</td>\n    </tr>\n    <tr>\n      <th id=\"T_2ae2b_level0_row3\" class=\"row_heading level0 row3\" >mass</th>\n      <td id=\"T_2ae2b_row3_col0\" class=\"data row3 col0\" >0.595110</td>\n      <td id=\"T_2ae2b_row3_col1\" class=\"data row3 col1\" >-0.471916</td>\n      <td id=\"T_2ae2b_row3_col2\" class=\"data row3 col2\" >0.871202</td>\n      <td id=\"T_2ae2b_row3_col3\" class=\"data row3 col3\" >1.000000</td>\n    </tr>\n  </tbody>\n</table>\n"
     },
     "execution_count": 250,
     "metadata": {},
     "output_type": "execute_result"
    }
   ],
   "source": [
    "# Example 5\n",
    "(correlation_matrix.style\n",
    "     .background_gradient('Greys')\n",
    "     .set_caption('CONFUSION MATRIX')\n",
    "     .set_properties(**{'text-align': 'center', \n",
    "                        'padding': '12px', \n",
    "                        'width': '80px'})\n",
    "     .set_table_styles([{'selector': 'th.col_heading', \n",
    "                         'props': 'text-align: center'},\n",
    "                        {'selector': 'caption', \n",
    "                         'props': [('text-align', 'center'),\n",
    "                                   ('font-size', '11pt'),\n",
    "                                   ('font-weight', 'bold')]}]))"
   ]
  },
  {
   "cell_type": "markdown",
   "id": "63475b90f85b3c7a",
   "metadata": {},
   "source": [
    "### 1.2. Color Bars\n",
    "Color bars are a great way to visualize the values in the DataFrame. They can be added to the DataFrame using `.background_gradient()` or `.text_gradient()` methods. The color bars are added to the right side of the DataFrame. The color bar shows the range of values in the DataFrame. The color bar can be added to the whole DataFrame or to a subset of columns. The color bar is added to each row separately.\n",
    "\n",
    "First, let's create a pivot table and then add a color bar to it.\n",
    "\n",
    "```python\n",
    "pivot = df.pivot_table('mass', ['species', 'island'], 'sex')\n",
    "pivot.iloc[(-2,0)] = np.nan\n",
    "# Style\n",
    "pivot.style.bar(color='aquamarine')\n",
    "```\n",
    "__Example 6__\n",
    "\n",
    "This can be styled further just like in the previous examples:\n",
    "\n",
    "```python\n",
    "(pivot.style\n",
    "     .bar(color='aquamarine')\n",
    "     .set_properties(padding='8px', width='50')) \n",
    "```\n",
    "__Example 7__\n",
    "\n",
    "If you have positive and negative values, you can format the data as follows by passing two colours `(color=['salmon', 'lightgreen'])` and aligning the bars in the middle (align='mid'):\n",
    "\n",
    "```python\n",
    "# Style on toy data\n",
    "(pd.DataFrame({'feature': ['a', 'b', 'c', 'd', 'e', 'f'],  \n",
    "               'coefficient': [30, 10, 1, -5, -10, -20]}).style\n",
    "   .bar(color=['salmon', 'lightgreen'], align='mid')\n",
    "   .set_properties(**{'text-align': 'center'})\n",
    "   .set_table_styles([{'selector': 'th.col_heading', \n",
    "                       'props': 'text-align: center'}]))\n",
    "```\n",
    "__Example 8__\n"
   ]
  },
  {
   "cell_type": "code",
   "execution_count": 251,
   "id": "cd3c952195dd7b5e",
   "metadata": {
    "collapsed": false,
    "ExecuteTime": {
     "end_time": "2024-01-07T18:09:12.801337Z",
     "start_time": "2024-01-07T18:09:12.786365Z"
    }
   },
   "outputs": [
    {
     "data": {
      "text/plain": "<pandas.io.formats.style.Styler at 0x177548290>",
      "text/html": "<style type=\"text/css\">\n#T_0fcbb_row0_col0 {\n  width: 10em;\n  background: linear-gradient(90deg, aquamarine 72.0%, transparent 72.0%);\n}\n#T_0fcbb_row0_col1, #T_0fcbb_row1_col1 {\n  width: 10em;\n  background: linear-gradient(90deg, aquamarine 73.8%, transparent 73.8%);\n}\n#T_0fcbb_row1_col0 {\n  width: 10em;\n  background: linear-gradient(90deg, aquamarine 71.5%, transparent 71.5%);\n}\n#T_0fcbb_row2_col0 {\n  width: 10em;\n  background: linear-gradient(90deg, aquamarine 72.6%, transparent 72.6%);\n}\n#T_0fcbb_row2_col1 {\n  width: 10em;\n  background: linear-gradient(90deg, aquamarine 73.6%, transparent 73.6%);\n}\n#T_0fcbb_row3_col0 {\n  width: 10em;\n}\n#T_0fcbb_row3_col1 {\n  width: 10em;\n  background: linear-gradient(90deg, aquamarine 71.8%, transparent 71.8%);\n}\n#T_0fcbb_row4_col0, #T_0fcbb_row4_col1 {\n  width: 10em;\n  background: linear-gradient(90deg, aquamarine 100.0%, transparent 100.0%);\n}\n</style>\n<table id=\"T_0fcbb\">\n  <thead>\n    <tr>\n      <th class=\"blank\" >&nbsp;</th>\n      <th class=\"index_name level0\" >sex</th>\n      <th id=\"T_0fcbb_level0_col0\" class=\"col_heading level0 col0\" >Female</th>\n      <th id=\"T_0fcbb_level0_col1\" class=\"col_heading level0 col1\" >Male</th>\n    </tr>\n    <tr>\n      <th class=\"index_name level0\" >species</th>\n      <th class=\"index_name level1\" >island</th>\n      <th class=\"blank col0\" >&nbsp;</th>\n      <th class=\"blank col1\" >&nbsp;</th>\n    </tr>\n  </thead>\n  <tbody>\n    <tr>\n      <th id=\"T_0fcbb_level0_row0\" class=\"row_heading level0 row0\" rowspan=\"3\">Adelie</th>\n      <th id=\"T_0fcbb_level1_row0\" class=\"row_heading level1 row0\" >Biscoe</th>\n      <td id=\"T_0fcbb_row0_col0\" class=\"data row0 col0\" >3369.318182</td>\n      <td id=\"T_0fcbb_row0_col1\" class=\"data row0 col1\" >4050.000000</td>\n    </tr>\n    <tr>\n      <th id=\"T_0fcbb_level1_row1\" class=\"row_heading level1 row1\" >Dream</th>\n      <td id=\"T_0fcbb_row1_col0\" class=\"data row1 col0\" >3344.444444</td>\n      <td id=\"T_0fcbb_row1_col1\" class=\"data row1 col1\" >4045.535714</td>\n    </tr>\n    <tr>\n      <th id=\"T_0fcbb_level1_row2\" class=\"row_heading level1 row2\" >Torgersen</th>\n      <td id=\"T_0fcbb_row2_col0\" class=\"data row2 col0\" >3395.833333</td>\n      <td id=\"T_0fcbb_row2_col1\" class=\"data row2 col1\" >4034.782609</td>\n    </tr>\n    <tr>\n      <th id=\"T_0fcbb_level0_row3\" class=\"row_heading level0 row3\" >Chinstrap</th>\n      <th id=\"T_0fcbb_level1_row3\" class=\"row_heading level1 row3\" >Dream</th>\n      <td id=\"T_0fcbb_row3_col0\" class=\"data row3 col0\" >nan</td>\n      <td id=\"T_0fcbb_row3_col1\" class=\"data row3 col1\" >3938.970588</td>\n    </tr>\n    <tr>\n      <th id=\"T_0fcbb_level0_row4\" class=\"row_heading level0 row4\" >Gentoo</th>\n      <th id=\"T_0fcbb_level1_row4\" class=\"row_heading level1 row4\" >Biscoe</th>\n      <td id=\"T_0fcbb_row4_col0\" class=\"data row4 col0\" >4679.741379</td>\n      <td id=\"T_0fcbb_row4_col1\" class=\"data row4 col1\" >5484.836066</td>\n    </tr>\n  </tbody>\n</table>\n"
     },
     "execution_count": 251,
     "metadata": {},
     "output_type": "execute_result"
    }
   ],
   "source": [
    "# Example 6\n",
    "pivot = df.pivot_table('mass', ['species', 'island'], 'sex')\n",
    "pivot.iloc[(-2,0)] = np.nan\n",
    "# Style\n",
    "pivot.style.bar(color='aquamarine')"
   ]
  },
  {
   "cell_type": "code",
   "execution_count": 252,
   "id": "a720ae0e162604b1",
   "metadata": {
    "collapsed": false,
    "ExecuteTime": {
     "end_time": "2024-01-07T18:09:12.838666Z",
     "start_time": "2024-01-07T18:09:12.804516Z"
    }
   },
   "outputs": [
    {
     "data": {
      "text/plain": "<pandas.io.formats.style.Styler at 0x1735f30d0>",
      "text/html": "<style type=\"text/css\">\n#T_6f302_row0_col0 {\n  width: 10em;\n  background: linear-gradient(90deg, aquamarine 72.0%, transparent 72.0%);\n  padding: 8px;\n  width: 50;\n}\n#T_6f302_row0_col1, #T_6f302_row1_col1 {\n  width: 10em;\n  background: linear-gradient(90deg, aquamarine 73.8%, transparent 73.8%);\n  padding: 8px;\n  width: 50;\n}\n#T_6f302_row1_col0 {\n  width: 10em;\n  background: linear-gradient(90deg, aquamarine 71.5%, transparent 71.5%);\n  padding: 8px;\n  width: 50;\n}\n#T_6f302_row2_col0 {\n  width: 10em;\n  background: linear-gradient(90deg, aquamarine 72.6%, transparent 72.6%);\n  padding: 8px;\n  width: 50;\n}\n#T_6f302_row2_col1 {\n  width: 10em;\n  background: linear-gradient(90deg, aquamarine 73.6%, transparent 73.6%);\n  padding: 8px;\n  width: 50;\n}\n#T_6f302_row3_col0 {\n  width: 10em;\n  padding: 8px;\n  width: 50;\n}\n#T_6f302_row3_col1 {\n  width: 10em;\n  background: linear-gradient(90deg, aquamarine 71.8%, transparent 71.8%);\n  padding: 8px;\n  width: 50;\n}\n#T_6f302_row4_col0, #T_6f302_row4_col1 {\n  width: 10em;\n  background: linear-gradient(90deg, aquamarine 100.0%, transparent 100.0%);\n  padding: 8px;\n  width: 50;\n}\n</style>\n<table id=\"T_6f302\">\n  <thead>\n    <tr>\n      <th class=\"blank\" >&nbsp;</th>\n      <th class=\"index_name level0\" >sex</th>\n      <th id=\"T_6f302_level0_col0\" class=\"col_heading level0 col0\" >Female</th>\n      <th id=\"T_6f302_level0_col1\" class=\"col_heading level0 col1\" >Male</th>\n    </tr>\n    <tr>\n      <th class=\"index_name level0\" >species</th>\n      <th class=\"index_name level1\" >island</th>\n      <th class=\"blank col0\" >&nbsp;</th>\n      <th class=\"blank col1\" >&nbsp;</th>\n    </tr>\n  </thead>\n  <tbody>\n    <tr>\n      <th id=\"T_6f302_level0_row0\" class=\"row_heading level0 row0\" rowspan=\"3\">Adelie</th>\n      <th id=\"T_6f302_level1_row0\" class=\"row_heading level1 row0\" >Biscoe</th>\n      <td id=\"T_6f302_row0_col0\" class=\"data row0 col0\" >3369.318182</td>\n      <td id=\"T_6f302_row0_col1\" class=\"data row0 col1\" >4050.000000</td>\n    </tr>\n    <tr>\n      <th id=\"T_6f302_level1_row1\" class=\"row_heading level1 row1\" >Dream</th>\n      <td id=\"T_6f302_row1_col0\" class=\"data row1 col0\" >3344.444444</td>\n      <td id=\"T_6f302_row1_col1\" class=\"data row1 col1\" >4045.535714</td>\n    </tr>\n    <tr>\n      <th id=\"T_6f302_level1_row2\" class=\"row_heading level1 row2\" >Torgersen</th>\n      <td id=\"T_6f302_row2_col0\" class=\"data row2 col0\" >3395.833333</td>\n      <td id=\"T_6f302_row2_col1\" class=\"data row2 col1\" >4034.782609</td>\n    </tr>\n    <tr>\n      <th id=\"T_6f302_level0_row3\" class=\"row_heading level0 row3\" >Chinstrap</th>\n      <th id=\"T_6f302_level1_row3\" class=\"row_heading level1 row3\" >Dream</th>\n      <td id=\"T_6f302_row3_col0\" class=\"data row3 col0\" >nan</td>\n      <td id=\"T_6f302_row3_col1\" class=\"data row3 col1\" >3938.970588</td>\n    </tr>\n    <tr>\n      <th id=\"T_6f302_level0_row4\" class=\"row_heading level0 row4\" >Gentoo</th>\n      <th id=\"T_6f302_level1_row4\" class=\"row_heading level1 row4\" >Biscoe</th>\n      <td id=\"T_6f302_row4_col0\" class=\"data row4 col0\" >4679.741379</td>\n      <td id=\"T_6f302_row4_col1\" class=\"data row4 col1\" >5484.836066</td>\n    </tr>\n  </tbody>\n</table>\n"
     },
     "execution_count": 252,
     "metadata": {},
     "output_type": "execute_result"
    }
   ],
   "source": [
    "# Example 7\n",
    "(pivot.style\n",
    "     .bar(color='aquamarine')\n",
    "     .set_properties(padding='8px', width='50')) \n"
   ]
  },
  {
   "cell_type": "code",
   "execution_count": 253,
   "id": "6c0a53d03c319c66",
   "metadata": {
    "collapsed": false,
    "ExecuteTime": {
     "end_time": "2024-01-07T18:09:12.852633Z",
     "start_time": "2024-01-07T18:09:12.842212Z"
    }
   },
   "outputs": [
    {
     "data": {
      "text/plain": "<pandas.io.formats.style.Styler at 0x17459c4d0>",
      "text/html": "<style type=\"text/css\">\n#T_2684b th.col_heading {\n  text-align: center;\n}\n#T_2684b_row0_col0, #T_2684b_row1_col0, #T_2684b_row2_col0, #T_2684b_row3_col0, #T_2684b_row4_col0, #T_2684b_row5_col0 {\n  text-align: center;\n}\n#T_2684b_row0_col1 {\n  width: 10em;\n  background: linear-gradient(90deg, transparent 40.0%, lightgreen 40.0%, lightgreen 100.0%, transparent 100.0%);\n  text-align: center;\n}\n#T_2684b_row1_col1 {\n  width: 10em;\n  background: linear-gradient(90deg, transparent 40.0%, lightgreen 40.0%, lightgreen 60.0%, transparent 60.0%);\n  text-align: center;\n}\n#T_2684b_row2_col1 {\n  width: 10em;\n  background: linear-gradient(90deg, transparent 40.0%, lightgreen 40.0%, lightgreen 42.0%, transparent 42.0%);\n  text-align: center;\n}\n#T_2684b_row3_col1 {\n  width: 10em;\n  background: linear-gradient(90deg, transparent 30.0%, salmon 30.0%, salmon 40.0%, transparent 40.0%);\n  text-align: center;\n}\n#T_2684b_row4_col1 {\n  width: 10em;\n  background: linear-gradient(90deg, transparent 20.0%, salmon 20.0%, salmon 40.0%, transparent 40.0%);\n  text-align: center;\n}\n#T_2684b_row5_col1 {\n  width: 10em;\n  background: linear-gradient(90deg, salmon 40.0%, transparent 40.0%);\n  text-align: center;\n}\n</style>\n<table id=\"T_2684b\">\n  <thead>\n    <tr>\n      <th class=\"blank level0\" >&nbsp;</th>\n      <th id=\"T_2684b_level0_col0\" class=\"col_heading level0 col0\" >feature</th>\n      <th id=\"T_2684b_level0_col1\" class=\"col_heading level0 col1\" >coefficient</th>\n    </tr>\n  </thead>\n  <tbody>\n    <tr>\n      <th id=\"T_2684b_level0_row0\" class=\"row_heading level0 row0\" >0</th>\n      <td id=\"T_2684b_row0_col0\" class=\"data row0 col0\" >a</td>\n      <td id=\"T_2684b_row0_col1\" class=\"data row0 col1\" >30</td>\n    </tr>\n    <tr>\n      <th id=\"T_2684b_level0_row1\" class=\"row_heading level0 row1\" >1</th>\n      <td id=\"T_2684b_row1_col0\" class=\"data row1 col0\" >b</td>\n      <td id=\"T_2684b_row1_col1\" class=\"data row1 col1\" >10</td>\n    </tr>\n    <tr>\n      <th id=\"T_2684b_level0_row2\" class=\"row_heading level0 row2\" >2</th>\n      <td id=\"T_2684b_row2_col0\" class=\"data row2 col0\" >c</td>\n      <td id=\"T_2684b_row2_col1\" class=\"data row2 col1\" >1</td>\n    </tr>\n    <tr>\n      <th id=\"T_2684b_level0_row3\" class=\"row_heading level0 row3\" >3</th>\n      <td id=\"T_2684b_row3_col0\" class=\"data row3 col0\" >d</td>\n      <td id=\"T_2684b_row3_col1\" class=\"data row3 col1\" >-5</td>\n    </tr>\n    <tr>\n      <th id=\"T_2684b_level0_row4\" class=\"row_heading level0 row4\" >4</th>\n      <td id=\"T_2684b_row4_col0\" class=\"data row4 col0\" >e</td>\n      <td id=\"T_2684b_row4_col1\" class=\"data row4 col1\" >-10</td>\n    </tr>\n    <tr>\n      <th id=\"T_2684b_level0_row5\" class=\"row_heading level0 row5\" >5</th>\n      <td id=\"T_2684b_row5_col0\" class=\"data row5 col0\" >f</td>\n      <td id=\"T_2684b_row5_col1\" class=\"data row5 col1\" >-20</td>\n    </tr>\n  </tbody>\n</table>\n"
     },
     "execution_count": 253,
     "metadata": {},
     "output_type": "execute_result"
    }
   ],
   "source": [
    "# Example 8\n",
    "(pd.DataFrame({'feature': ['a', 'b', 'c', 'd', 'e', 'f'],  \n",
    "               'coefficient': [30, 10, 1, -5, -10, -20]}).style\n",
    "   .bar(color=['salmon', 'lightgreen'], align='mid')\n",
    "   .set_properties(**{'text-align': 'center'})\n",
    "   .set_table_styles([{'selector': 'th.col_heading', \n",
    "                       'props': 'text-align: center'}]))"
   ]
  },
  {
   "cell_type": "markdown",
   "id": "cac257da515e08b7",
   "metadata": {},
   "source": [
    "### 1.3. Highlighting\n",
    "There are times when highlighting values based on conditions can be useful. In this section, we will learn about a few functions to highlight special values.\n",
    "\n",
    "Firstly, we can highlight minimum values from each column like this:\n",
    "\n",
    "```python\n",
    "pivot.style.highlight_min(color='pin')\n",
    "```\n",
    "__Example 9__\n",
    "\n",
    "We can also highlight maximum values from each column:\n",
    "```python\n",
    "pivot.style.highlight_max(color='lightgreen')\n",
    "```\n",
    "__Example 10__\n",
    "\n",
    "We can highlight the minimum and maximum values from each column:\n",
    "```python\n",
    "pivot.style.highlight_min(color='pink').highlight_max(color='lightgreen')\n",
    "```\n",
    "__Example 11__\n",
    "\n",
    "There is also a function for highlighting missing values. Let’s add it to the previous code snippet:\n",
    "\n",
    "```python\n",
    "(pivot.style\n",
    "      .highlight_min(color='pink')\n",
    "      .highlight_max(color='lightgreen')\n",
    "      .highlight_null(null_color='grey'))\n",
    "```\n",
    "__Example 12__\n",
    "\n",
    "We can highlight values between a range like below:\n",
    "\n",
    "```python\n",
    "pivot.style.highlight_between(left=3500, right=4500, color='gold')\n",
    "```\n",
    "__Example 13__\n",
    "\n",
    "We can also highlight quantiles:\n",
    "\n",
    "```python\n",
    "pivot.style.highlight_quantile(q_left=0.7, axis=None, \n",
    "                               color='#4ADBC8')\n",
    "```\n",
    "__Example 14__\n",
    "\n"
   ]
  },
  {
   "cell_type": "code",
   "execution_count": 254,
   "id": "c7352e7f243ee095",
   "metadata": {
    "collapsed": false,
    "ExecuteTime": {
     "end_time": "2024-01-07T18:09:12.853790Z",
     "start_time": "2024-01-07T18:09:12.846106Z"
    }
   },
   "outputs": [
    {
     "data": {
      "text/plain": "<pandas.io.formats.style.Styler at 0x1745c3d50>",
      "text/html": "<style type=\"text/css\">\n#T_af017_row1_col0, #T_af017_row3_col1 {\n  background-color: pink;\n}\n</style>\n<table id=\"T_af017\">\n  <thead>\n    <tr>\n      <th class=\"blank\" >&nbsp;</th>\n      <th class=\"index_name level0\" >sex</th>\n      <th id=\"T_af017_level0_col0\" class=\"col_heading level0 col0\" >Female</th>\n      <th id=\"T_af017_level0_col1\" class=\"col_heading level0 col1\" >Male</th>\n    </tr>\n    <tr>\n      <th class=\"index_name level0\" >species</th>\n      <th class=\"index_name level1\" >island</th>\n      <th class=\"blank col0\" >&nbsp;</th>\n      <th class=\"blank col1\" >&nbsp;</th>\n    </tr>\n  </thead>\n  <tbody>\n    <tr>\n      <th id=\"T_af017_level0_row0\" class=\"row_heading level0 row0\" rowspan=\"3\">Adelie</th>\n      <th id=\"T_af017_level1_row0\" class=\"row_heading level1 row0\" >Biscoe</th>\n      <td id=\"T_af017_row0_col0\" class=\"data row0 col0\" >3369.318182</td>\n      <td id=\"T_af017_row0_col1\" class=\"data row0 col1\" >4050.000000</td>\n    </tr>\n    <tr>\n      <th id=\"T_af017_level1_row1\" class=\"row_heading level1 row1\" >Dream</th>\n      <td id=\"T_af017_row1_col0\" class=\"data row1 col0\" >3344.444444</td>\n      <td id=\"T_af017_row1_col1\" class=\"data row1 col1\" >4045.535714</td>\n    </tr>\n    <tr>\n      <th id=\"T_af017_level1_row2\" class=\"row_heading level1 row2\" >Torgersen</th>\n      <td id=\"T_af017_row2_col0\" class=\"data row2 col0\" >3395.833333</td>\n      <td id=\"T_af017_row2_col1\" class=\"data row2 col1\" >4034.782609</td>\n    </tr>\n    <tr>\n      <th id=\"T_af017_level0_row3\" class=\"row_heading level0 row3\" >Chinstrap</th>\n      <th id=\"T_af017_level1_row3\" class=\"row_heading level1 row3\" >Dream</th>\n      <td id=\"T_af017_row3_col0\" class=\"data row3 col0\" >nan</td>\n      <td id=\"T_af017_row3_col1\" class=\"data row3 col1\" >3938.970588</td>\n    </tr>\n    <tr>\n      <th id=\"T_af017_level0_row4\" class=\"row_heading level0 row4\" >Gentoo</th>\n      <th id=\"T_af017_level1_row4\" class=\"row_heading level1 row4\" >Biscoe</th>\n      <td id=\"T_af017_row4_col0\" class=\"data row4 col0\" >4679.741379</td>\n      <td id=\"T_af017_row4_col1\" class=\"data row4 col1\" >5484.836066</td>\n    </tr>\n  </tbody>\n</table>\n"
     },
     "execution_count": 254,
     "metadata": {},
     "output_type": "execute_result"
    }
   ],
   "source": [
    "# Example 9\n",
    "pivot.style.highlight_min(color='pink')\n"
   ]
  },
  {
   "cell_type": "code",
   "execution_count": 255,
   "id": "746a98050f917c28",
   "metadata": {
    "collapsed": false,
    "ExecuteTime": {
     "end_time": "2024-01-07T18:09:12.862040Z",
     "start_time": "2024-01-07T18:09:12.855353Z"
    }
   },
   "outputs": [
    {
     "data": {
      "text/plain": "<pandas.io.formats.style.Styler at 0x17456ec10>",
      "text/html": "<style type=\"text/css\">\n#T_2f427_row4_col0, #T_2f427_row4_col1 {\n  background-color: lightgreen;\n}\n</style>\n<table id=\"T_2f427\">\n  <thead>\n    <tr>\n      <th class=\"blank\" >&nbsp;</th>\n      <th class=\"index_name level0\" >sex</th>\n      <th id=\"T_2f427_level0_col0\" class=\"col_heading level0 col0\" >Female</th>\n      <th id=\"T_2f427_level0_col1\" class=\"col_heading level0 col1\" >Male</th>\n    </tr>\n    <tr>\n      <th class=\"index_name level0\" >species</th>\n      <th class=\"index_name level1\" >island</th>\n      <th class=\"blank col0\" >&nbsp;</th>\n      <th class=\"blank col1\" >&nbsp;</th>\n    </tr>\n  </thead>\n  <tbody>\n    <tr>\n      <th id=\"T_2f427_level0_row0\" class=\"row_heading level0 row0\" rowspan=\"3\">Adelie</th>\n      <th id=\"T_2f427_level1_row0\" class=\"row_heading level1 row0\" >Biscoe</th>\n      <td id=\"T_2f427_row0_col0\" class=\"data row0 col0\" >3369.318182</td>\n      <td id=\"T_2f427_row0_col1\" class=\"data row0 col1\" >4050.000000</td>\n    </tr>\n    <tr>\n      <th id=\"T_2f427_level1_row1\" class=\"row_heading level1 row1\" >Dream</th>\n      <td id=\"T_2f427_row1_col0\" class=\"data row1 col0\" >3344.444444</td>\n      <td id=\"T_2f427_row1_col1\" class=\"data row1 col1\" >4045.535714</td>\n    </tr>\n    <tr>\n      <th id=\"T_2f427_level1_row2\" class=\"row_heading level1 row2\" >Torgersen</th>\n      <td id=\"T_2f427_row2_col0\" class=\"data row2 col0\" >3395.833333</td>\n      <td id=\"T_2f427_row2_col1\" class=\"data row2 col1\" >4034.782609</td>\n    </tr>\n    <tr>\n      <th id=\"T_2f427_level0_row3\" class=\"row_heading level0 row3\" >Chinstrap</th>\n      <th id=\"T_2f427_level1_row3\" class=\"row_heading level1 row3\" >Dream</th>\n      <td id=\"T_2f427_row3_col0\" class=\"data row3 col0\" >nan</td>\n      <td id=\"T_2f427_row3_col1\" class=\"data row3 col1\" >3938.970588</td>\n    </tr>\n    <tr>\n      <th id=\"T_2f427_level0_row4\" class=\"row_heading level0 row4\" >Gentoo</th>\n      <th id=\"T_2f427_level1_row4\" class=\"row_heading level1 row4\" >Biscoe</th>\n      <td id=\"T_2f427_row4_col0\" class=\"data row4 col0\" >4679.741379</td>\n      <td id=\"T_2f427_row4_col1\" class=\"data row4 col1\" >5484.836066</td>\n    </tr>\n  </tbody>\n</table>\n"
     },
     "execution_count": 255,
     "metadata": {},
     "output_type": "execute_result"
    }
   ],
   "source": [
    "# Example 10\n",
    "pivot.style.highlight_max(color='lightgreen')\n"
   ]
  },
  {
   "cell_type": "code",
   "execution_count": 256,
   "id": "66e764cc2dabba04",
   "metadata": {
    "collapsed": false,
    "ExecuteTime": {
     "end_time": "2024-01-07T18:09:12.874968Z",
     "start_time": "2024-01-07T18:09:12.860093Z"
    }
   },
   "outputs": [
    {
     "data": {
      "text/plain": "<pandas.io.formats.style.Styler at 0x17459e510>",
      "text/html": "<style type=\"text/css\">\n#T_b9db4_row1_col0, #T_b9db4_row3_col1 {\n  background-color: pink;\n}\n#T_b9db4_row4_col0, #T_b9db4_row4_col1 {\n  background-color: lightgreen;\n}\n</style>\n<table id=\"T_b9db4\">\n  <thead>\n    <tr>\n      <th class=\"blank\" >&nbsp;</th>\n      <th class=\"index_name level0\" >sex</th>\n      <th id=\"T_b9db4_level0_col0\" class=\"col_heading level0 col0\" >Female</th>\n      <th id=\"T_b9db4_level0_col1\" class=\"col_heading level0 col1\" >Male</th>\n    </tr>\n    <tr>\n      <th class=\"index_name level0\" >species</th>\n      <th class=\"index_name level1\" >island</th>\n      <th class=\"blank col0\" >&nbsp;</th>\n      <th class=\"blank col1\" >&nbsp;</th>\n    </tr>\n  </thead>\n  <tbody>\n    <tr>\n      <th id=\"T_b9db4_level0_row0\" class=\"row_heading level0 row0\" rowspan=\"3\">Adelie</th>\n      <th id=\"T_b9db4_level1_row0\" class=\"row_heading level1 row0\" >Biscoe</th>\n      <td id=\"T_b9db4_row0_col0\" class=\"data row0 col0\" >3369.318182</td>\n      <td id=\"T_b9db4_row0_col1\" class=\"data row0 col1\" >4050.000000</td>\n    </tr>\n    <tr>\n      <th id=\"T_b9db4_level1_row1\" class=\"row_heading level1 row1\" >Dream</th>\n      <td id=\"T_b9db4_row1_col0\" class=\"data row1 col0\" >3344.444444</td>\n      <td id=\"T_b9db4_row1_col1\" class=\"data row1 col1\" >4045.535714</td>\n    </tr>\n    <tr>\n      <th id=\"T_b9db4_level1_row2\" class=\"row_heading level1 row2\" >Torgersen</th>\n      <td id=\"T_b9db4_row2_col0\" class=\"data row2 col0\" >3395.833333</td>\n      <td id=\"T_b9db4_row2_col1\" class=\"data row2 col1\" >4034.782609</td>\n    </tr>\n    <tr>\n      <th id=\"T_b9db4_level0_row3\" class=\"row_heading level0 row3\" >Chinstrap</th>\n      <th id=\"T_b9db4_level1_row3\" class=\"row_heading level1 row3\" >Dream</th>\n      <td id=\"T_b9db4_row3_col0\" class=\"data row3 col0\" >nan</td>\n      <td id=\"T_b9db4_row3_col1\" class=\"data row3 col1\" >3938.970588</td>\n    </tr>\n    <tr>\n      <th id=\"T_b9db4_level0_row4\" class=\"row_heading level0 row4\" >Gentoo</th>\n      <th id=\"T_b9db4_level1_row4\" class=\"row_heading level1 row4\" >Biscoe</th>\n      <td id=\"T_b9db4_row4_col0\" class=\"data row4 col0\" >4679.741379</td>\n      <td id=\"T_b9db4_row4_col1\" class=\"data row4 col1\" >5484.836066</td>\n    </tr>\n  </tbody>\n</table>\n"
     },
     "execution_count": 256,
     "metadata": {},
     "output_type": "execute_result"
    }
   ],
   "source": [
    "# Example 11\n",
    "pivot.style.highlight_min(color='pink').highlight_max(color='lightgreen')\n"
   ]
  },
  {
   "cell_type": "code",
   "execution_count": 257,
   "id": "fea86862438fe023",
   "metadata": {
    "collapsed": false,
    "ExecuteTime": {
     "end_time": "2024-01-07T18:09:12.878532Z",
     "start_time": "2024-01-07T18:09:12.865207Z"
    }
   },
   "outputs": [
    {
     "data": {
      "text/plain": "<pandas.io.formats.style.Styler at 0x1745f9010>",
      "text/html": "<style type=\"text/css\">\n#T_ae911_row1_col0, #T_ae911_row3_col1 {\n  background-color: pink;\n}\n#T_ae911_row3_col0 {\n  background-color: grey;\n}\n#T_ae911_row4_col0, #T_ae911_row4_col1 {\n  background-color: lightgreen;\n}\n</style>\n<table id=\"T_ae911\">\n  <thead>\n    <tr>\n      <th class=\"blank\" >&nbsp;</th>\n      <th class=\"index_name level0\" >sex</th>\n      <th id=\"T_ae911_level0_col0\" class=\"col_heading level0 col0\" >Female</th>\n      <th id=\"T_ae911_level0_col1\" class=\"col_heading level0 col1\" >Male</th>\n    </tr>\n    <tr>\n      <th class=\"index_name level0\" >species</th>\n      <th class=\"index_name level1\" >island</th>\n      <th class=\"blank col0\" >&nbsp;</th>\n      <th class=\"blank col1\" >&nbsp;</th>\n    </tr>\n  </thead>\n  <tbody>\n    <tr>\n      <th id=\"T_ae911_level0_row0\" class=\"row_heading level0 row0\" rowspan=\"3\">Adelie</th>\n      <th id=\"T_ae911_level1_row0\" class=\"row_heading level1 row0\" >Biscoe</th>\n      <td id=\"T_ae911_row0_col0\" class=\"data row0 col0\" >3369.318182</td>\n      <td id=\"T_ae911_row0_col1\" class=\"data row0 col1\" >4050.000000</td>\n    </tr>\n    <tr>\n      <th id=\"T_ae911_level1_row1\" class=\"row_heading level1 row1\" >Dream</th>\n      <td id=\"T_ae911_row1_col0\" class=\"data row1 col0\" >3344.444444</td>\n      <td id=\"T_ae911_row1_col1\" class=\"data row1 col1\" >4045.535714</td>\n    </tr>\n    <tr>\n      <th id=\"T_ae911_level1_row2\" class=\"row_heading level1 row2\" >Torgersen</th>\n      <td id=\"T_ae911_row2_col0\" class=\"data row2 col0\" >3395.833333</td>\n      <td id=\"T_ae911_row2_col1\" class=\"data row2 col1\" >4034.782609</td>\n    </tr>\n    <tr>\n      <th id=\"T_ae911_level0_row3\" class=\"row_heading level0 row3\" >Chinstrap</th>\n      <th id=\"T_ae911_level1_row3\" class=\"row_heading level1 row3\" >Dream</th>\n      <td id=\"T_ae911_row3_col0\" class=\"data row3 col0\" >nan</td>\n      <td id=\"T_ae911_row3_col1\" class=\"data row3 col1\" >3938.970588</td>\n    </tr>\n    <tr>\n      <th id=\"T_ae911_level0_row4\" class=\"row_heading level0 row4\" >Gentoo</th>\n      <th id=\"T_ae911_level1_row4\" class=\"row_heading level1 row4\" >Biscoe</th>\n      <td id=\"T_ae911_row4_col0\" class=\"data row4 col0\" >4679.741379</td>\n      <td id=\"T_ae911_row4_col1\" class=\"data row4 col1\" >5484.836066</td>\n    </tr>\n  </tbody>\n</table>\n"
     },
     "execution_count": 257,
     "metadata": {},
     "output_type": "execute_result"
    }
   ],
   "source": [
    "# Example 12\n",
    "(pivot.style\n",
    "      .highlight_min(color='pink')\n",
    "      .highlight_max(color='lightgreen')\n",
    "      .highlight_null(color='grey'))\n",
    "\n"
   ]
  },
  {
   "cell_type": "code",
   "execution_count": 258,
   "id": "f60e2951868049bb",
   "metadata": {
    "collapsed": false,
    "ExecuteTime": {
     "end_time": "2024-01-07T18:09:12.888685Z",
     "start_time": "2024-01-07T18:09:12.880249Z"
    }
   },
   "outputs": [
    {
     "data": {
      "text/plain": "<pandas.io.formats.style.Styler at 0x17456e750>",
      "text/html": "<style type=\"text/css\">\n#T_5c4a6_row0_col1, #T_5c4a6_row1_col1, #T_5c4a6_row2_col1, #T_5c4a6_row3_col1 {\n  background-color: gold;\n}\n</style>\n<table id=\"T_5c4a6\">\n  <thead>\n    <tr>\n      <th class=\"blank\" >&nbsp;</th>\n      <th class=\"index_name level0\" >sex</th>\n      <th id=\"T_5c4a6_level0_col0\" class=\"col_heading level0 col0\" >Female</th>\n      <th id=\"T_5c4a6_level0_col1\" class=\"col_heading level0 col1\" >Male</th>\n    </tr>\n    <tr>\n      <th class=\"index_name level0\" >species</th>\n      <th class=\"index_name level1\" >island</th>\n      <th class=\"blank col0\" >&nbsp;</th>\n      <th class=\"blank col1\" >&nbsp;</th>\n    </tr>\n  </thead>\n  <tbody>\n    <tr>\n      <th id=\"T_5c4a6_level0_row0\" class=\"row_heading level0 row0\" rowspan=\"3\">Adelie</th>\n      <th id=\"T_5c4a6_level1_row0\" class=\"row_heading level1 row0\" >Biscoe</th>\n      <td id=\"T_5c4a6_row0_col0\" class=\"data row0 col0\" >3369.318182</td>\n      <td id=\"T_5c4a6_row0_col1\" class=\"data row0 col1\" >4050.000000</td>\n    </tr>\n    <tr>\n      <th id=\"T_5c4a6_level1_row1\" class=\"row_heading level1 row1\" >Dream</th>\n      <td id=\"T_5c4a6_row1_col0\" class=\"data row1 col0\" >3344.444444</td>\n      <td id=\"T_5c4a6_row1_col1\" class=\"data row1 col1\" >4045.535714</td>\n    </tr>\n    <tr>\n      <th id=\"T_5c4a6_level1_row2\" class=\"row_heading level1 row2\" >Torgersen</th>\n      <td id=\"T_5c4a6_row2_col0\" class=\"data row2 col0\" >3395.833333</td>\n      <td id=\"T_5c4a6_row2_col1\" class=\"data row2 col1\" >4034.782609</td>\n    </tr>\n    <tr>\n      <th id=\"T_5c4a6_level0_row3\" class=\"row_heading level0 row3\" >Chinstrap</th>\n      <th id=\"T_5c4a6_level1_row3\" class=\"row_heading level1 row3\" >Dream</th>\n      <td id=\"T_5c4a6_row3_col0\" class=\"data row3 col0\" >nan</td>\n      <td id=\"T_5c4a6_row3_col1\" class=\"data row3 col1\" >3938.970588</td>\n    </tr>\n    <tr>\n      <th id=\"T_5c4a6_level0_row4\" class=\"row_heading level0 row4\" >Gentoo</th>\n      <th id=\"T_5c4a6_level1_row4\" class=\"row_heading level1 row4\" >Biscoe</th>\n      <td id=\"T_5c4a6_row4_col0\" class=\"data row4 col0\" >4679.741379</td>\n      <td id=\"T_5c4a6_row4_col1\" class=\"data row4 col1\" >5484.836066</td>\n    </tr>\n  </tbody>\n</table>\n"
     },
     "execution_count": 258,
     "metadata": {},
     "output_type": "execute_result"
    }
   ],
   "source": [
    "# Example 13\n",
    "pivot.style.highlight_between(left=3500, right=4500, color='gold')\n"
   ]
  },
  {
   "cell_type": "code",
   "execution_count": 259,
   "id": "8b870eaa957fe9d9",
   "metadata": {
    "collapsed": false,
    "ExecuteTime": {
     "end_time": "2024-01-07T18:09:12.900654Z",
     "start_time": "2024-01-07T18:09:12.884689Z"
    }
   },
   "outputs": [
    {
     "data": {
      "text/plain": "<pandas.io.formats.style.Styler at 0x1745db310>",
      "text/html": "<style type=\"text/css\">\n#T_fae3e_row0_col1, #T_fae3e_row4_col0, #T_fae3e_row4_col1 {\n  background-color: #4ADBC8;\n}\n</style>\n<table id=\"T_fae3e\">\n  <thead>\n    <tr>\n      <th class=\"blank\" >&nbsp;</th>\n      <th class=\"index_name level0\" >sex</th>\n      <th id=\"T_fae3e_level0_col0\" class=\"col_heading level0 col0\" >Female</th>\n      <th id=\"T_fae3e_level0_col1\" class=\"col_heading level0 col1\" >Male</th>\n    </tr>\n    <tr>\n      <th class=\"index_name level0\" >species</th>\n      <th class=\"index_name level1\" >island</th>\n      <th class=\"blank col0\" >&nbsp;</th>\n      <th class=\"blank col1\" >&nbsp;</th>\n    </tr>\n  </thead>\n  <tbody>\n    <tr>\n      <th id=\"T_fae3e_level0_row0\" class=\"row_heading level0 row0\" rowspan=\"3\">Adelie</th>\n      <th id=\"T_fae3e_level1_row0\" class=\"row_heading level1 row0\" >Biscoe</th>\n      <td id=\"T_fae3e_row0_col0\" class=\"data row0 col0\" >3369.318182</td>\n      <td id=\"T_fae3e_row0_col1\" class=\"data row0 col1\" >4050.000000</td>\n    </tr>\n    <tr>\n      <th id=\"T_fae3e_level1_row1\" class=\"row_heading level1 row1\" >Dream</th>\n      <td id=\"T_fae3e_row1_col0\" class=\"data row1 col0\" >3344.444444</td>\n      <td id=\"T_fae3e_row1_col1\" class=\"data row1 col1\" >4045.535714</td>\n    </tr>\n    <tr>\n      <th id=\"T_fae3e_level1_row2\" class=\"row_heading level1 row2\" >Torgersen</th>\n      <td id=\"T_fae3e_row2_col0\" class=\"data row2 col0\" >3395.833333</td>\n      <td id=\"T_fae3e_row2_col1\" class=\"data row2 col1\" >4034.782609</td>\n    </tr>\n    <tr>\n      <th id=\"T_fae3e_level0_row3\" class=\"row_heading level0 row3\" >Chinstrap</th>\n      <th id=\"T_fae3e_level1_row3\" class=\"row_heading level1 row3\" >Dream</th>\n      <td id=\"T_fae3e_row3_col0\" class=\"data row3 col0\" >nan</td>\n      <td id=\"T_fae3e_row3_col1\" class=\"data row3 col1\" >3938.970588</td>\n    </tr>\n    <tr>\n      <th id=\"T_fae3e_level0_row4\" class=\"row_heading level0 row4\" >Gentoo</th>\n      <th id=\"T_fae3e_level1_row4\" class=\"row_heading level1 row4\" >Biscoe</th>\n      <td id=\"T_fae3e_row4_col0\" class=\"data row4 col0\" >4679.741379</td>\n      <td id=\"T_fae3e_row4_col1\" class=\"data row4 col1\" >5484.836066</td>\n    </tr>\n  </tbody>\n</table>\n"
     },
     "execution_count": 259,
     "metadata": {},
     "output_type": "execute_result"
    }
   ],
   "source": [
    "# Example 14\n",
    "pivot.style.highlight_quantile(q_left=0.7, axis=None, \n",
    "                               color='#4ADBC8')"
   ]
  },
  {
   "cell_type": "markdown",
   "id": "b7effe849ab483a6",
   "metadata": {},
   "source": [
    "### 1.4. Custom color-code\n",
    "In this last section, we will look at a few other ways to colour-code DataFrames using custom functions. We will use the following two methods to apply our custom styling functions:\n",
    "- ◼️ .applymap(): elementwise\n",
    "- ◼️ .apply(): column/row/tablewise\n"
   ]
  },
  {
   "cell_type": "markdown",
   "id": "51d953d16bfb8eb",
   "metadata": {},
   "source": [
    "#### 1.4.1. Elementwise application: applymap()\n",
    "Let’s create a small numerical data by slicing the top 8 rows from the numerical columns. We will use a lambda function to colour values above 190 as blue and the rest as grey:\n",
    "\n",
    "```python\n",
    "df_num = df.select_dtypes('number').head(8)\n",
    "(df_num.style\n",
    "    .applymap(lambda x: f\"color: {'blue' if x>190 else 'grey'}\"))\n",
    "```\n",
    "__Example 15__\n",
    "\n",
    "Let’s look at another example:\n",
    "\n",
    "```python\n",
    "green = 'background-color: lightgreen'\n",
    "pink = 'background-color: pink; color: white'\n",
    "(df_num.style\n",
    "       .applymap(lambda value: green if value>190 else pink))\n",
    "```\n",
    "__Example 16__\n",
    "\n",
    "We can convert the lambda function into a regular function and pass it to .applymap():\n",
    "\n",
    "```python\n",
    "def highlight_190(value):\n",
    "    green = 'background-color: lightgreen'\n",
    "    pink = 'background-color: pink; color: white'\n",
    "    return green if value > 190 else pink\n",
    "df_num.style.applymap(highlight_190)\n",
    "```\n",
    "__Example 17__\n"
   ]
  },
  {
   "cell_type": "code",
   "execution_count": 260,
   "id": "c06d2626fe4f7516",
   "metadata": {
    "collapsed": false,
    "ExecuteTime": {
     "end_time": "2024-01-07T18:09:12.903615Z",
     "start_time": "2024-01-07T18:09:12.891563Z"
    }
   },
   "outputs": [
    {
     "name": "stderr",
     "output_type": "stream",
     "text": [
      "/var/folders/hj/f1jqvs216bg46sc5tmm5by1c0000gn/T/ipykernel_8625/2684726463.py:4: FutureWarning: Styler.applymap has been deprecated. Use Styler.map instead.\n",
      "  .applymap(lambda x: f\"color: {'blue' if x>190 else 'grey'}\"))\n"
     ]
    },
    {
     "data": {
      "text/plain": "<pandas.io.formats.style.Styler at 0x174120bd0>",
      "text/html": "<style type=\"text/css\">\n#T_e3b94_row0_col0, #T_e3b94_row0_col1, #T_e3b94_row0_col2, #T_e3b94_row1_col0, #T_e3b94_row1_col1, #T_e3b94_row1_col2, #T_e3b94_row2_col0, #T_e3b94_row2_col1, #T_e3b94_row3_col0, #T_e3b94_row3_col1, #T_e3b94_row3_col2, #T_e3b94_row3_col3, #T_e3b94_row4_col0, #T_e3b94_row4_col1, #T_e3b94_row5_col0, #T_e3b94_row5_col1, #T_e3b94_row5_col2, #T_e3b94_row6_col0, #T_e3b94_row6_col1, #T_e3b94_row6_col2, #T_e3b94_row7_col0, #T_e3b94_row7_col1 {\n  color: grey;\n}\n#T_e3b94_row0_col3, #T_e3b94_row1_col3, #T_e3b94_row2_col2, #T_e3b94_row2_col3, #T_e3b94_row4_col2, #T_e3b94_row4_col3, #T_e3b94_row5_col3, #T_e3b94_row6_col3, #T_e3b94_row7_col2, #T_e3b94_row7_col3 {\n  color: blue;\n}\n</style>\n<table id=\"T_e3b94\">\n  <thead>\n    <tr>\n      <th class=\"blank level0\" >&nbsp;</th>\n      <th id=\"T_e3b94_level0_col0\" class=\"col_heading level0 col0\" >bill_length_mm</th>\n      <th id=\"T_e3b94_level0_col1\" class=\"col_heading level0 col1\" >bill_depth_mm</th>\n      <th id=\"T_e3b94_level0_col2\" class=\"col_heading level0 col2\" >flipper</th>\n      <th id=\"T_e3b94_level0_col3\" class=\"col_heading level0 col3\" >mass</th>\n    </tr>\n  </thead>\n  <tbody>\n    <tr>\n      <th id=\"T_e3b94_level0_row0\" class=\"row_heading level0 row0\" >0</th>\n      <td id=\"T_e3b94_row0_col0\" class=\"data row0 col0\" >39.100000</td>\n      <td id=\"T_e3b94_row0_col1\" class=\"data row0 col1\" >18.700000</td>\n      <td id=\"T_e3b94_row0_col2\" class=\"data row0 col2\" >181.000000</td>\n      <td id=\"T_e3b94_row0_col3\" class=\"data row0 col3\" >3750.000000</td>\n    </tr>\n    <tr>\n      <th id=\"T_e3b94_level0_row1\" class=\"row_heading level0 row1\" >1</th>\n      <td id=\"T_e3b94_row1_col0\" class=\"data row1 col0\" >39.500000</td>\n      <td id=\"T_e3b94_row1_col1\" class=\"data row1 col1\" >17.400000</td>\n      <td id=\"T_e3b94_row1_col2\" class=\"data row1 col2\" >186.000000</td>\n      <td id=\"T_e3b94_row1_col3\" class=\"data row1 col3\" >3800.000000</td>\n    </tr>\n    <tr>\n      <th id=\"T_e3b94_level0_row2\" class=\"row_heading level0 row2\" >2</th>\n      <td id=\"T_e3b94_row2_col0\" class=\"data row2 col0\" >40.300000</td>\n      <td id=\"T_e3b94_row2_col1\" class=\"data row2 col1\" >18.000000</td>\n      <td id=\"T_e3b94_row2_col2\" class=\"data row2 col2\" >195.000000</td>\n      <td id=\"T_e3b94_row2_col3\" class=\"data row2 col3\" >3250.000000</td>\n    </tr>\n    <tr>\n      <th id=\"T_e3b94_level0_row3\" class=\"row_heading level0 row3\" >3</th>\n      <td id=\"T_e3b94_row3_col0\" class=\"data row3 col0\" >nan</td>\n      <td id=\"T_e3b94_row3_col1\" class=\"data row3 col1\" >nan</td>\n      <td id=\"T_e3b94_row3_col2\" class=\"data row3 col2\" >nan</td>\n      <td id=\"T_e3b94_row3_col3\" class=\"data row3 col3\" >nan</td>\n    </tr>\n    <tr>\n      <th id=\"T_e3b94_level0_row4\" class=\"row_heading level0 row4\" >4</th>\n      <td id=\"T_e3b94_row4_col0\" class=\"data row4 col0\" >36.700000</td>\n      <td id=\"T_e3b94_row4_col1\" class=\"data row4 col1\" >19.300000</td>\n      <td id=\"T_e3b94_row4_col2\" class=\"data row4 col2\" >193.000000</td>\n      <td id=\"T_e3b94_row4_col3\" class=\"data row4 col3\" >3450.000000</td>\n    </tr>\n    <tr>\n      <th id=\"T_e3b94_level0_row5\" class=\"row_heading level0 row5\" >5</th>\n      <td id=\"T_e3b94_row5_col0\" class=\"data row5 col0\" >39.300000</td>\n      <td id=\"T_e3b94_row5_col1\" class=\"data row5 col1\" >20.600000</td>\n      <td id=\"T_e3b94_row5_col2\" class=\"data row5 col2\" >190.000000</td>\n      <td id=\"T_e3b94_row5_col3\" class=\"data row5 col3\" >3650.000000</td>\n    </tr>\n    <tr>\n      <th id=\"T_e3b94_level0_row6\" class=\"row_heading level0 row6\" >6</th>\n      <td id=\"T_e3b94_row6_col0\" class=\"data row6 col0\" >38.900000</td>\n      <td id=\"T_e3b94_row6_col1\" class=\"data row6 col1\" >17.800000</td>\n      <td id=\"T_e3b94_row6_col2\" class=\"data row6 col2\" >181.000000</td>\n      <td id=\"T_e3b94_row6_col3\" class=\"data row6 col3\" >3625.000000</td>\n    </tr>\n    <tr>\n      <th id=\"T_e3b94_level0_row7\" class=\"row_heading level0 row7\" >7</th>\n      <td id=\"T_e3b94_row7_col0\" class=\"data row7 col0\" >39.200000</td>\n      <td id=\"T_e3b94_row7_col1\" class=\"data row7 col1\" >19.600000</td>\n      <td id=\"T_e3b94_row7_col2\" class=\"data row7 col2\" >195.000000</td>\n      <td id=\"T_e3b94_row7_col3\" class=\"data row7 col3\" >4675.000000</td>\n    </tr>\n  </tbody>\n</table>\n"
     },
     "execution_count": 260,
     "metadata": {},
     "output_type": "execute_result"
    }
   ],
   "source": [
    "# Example 15\n",
    "df_num = df.select_dtypes('number').head(8)\n",
    "(df_num.style\n",
    "    .applymap(lambda x: f\"color: {'blue' if x>190 else 'grey'}\"))\n"
   ]
  },
  {
   "cell_type": "code",
   "execution_count": 261,
   "id": "70307687eba16ab3",
   "metadata": {
    "collapsed": false,
    "ExecuteTime": {
     "end_time": "2024-01-07T18:09:12.914968Z",
     "start_time": "2024-01-07T18:09:12.905852Z"
    }
   },
   "outputs": [
    {
     "name": "stderr",
     "output_type": "stream",
     "text": [
      "/var/folders/hj/f1jqvs216bg46sc5tmm5by1c0000gn/T/ipykernel_8625/2018545505.py:5: FutureWarning: Styler.applymap has been deprecated. Use Styler.map instead.\n",
      "  .applymap(lambda value: green if value>190 else pink))\n"
     ]
    },
    {
     "data": {
      "text/plain": "<pandas.io.formats.style.Styler at 0x1775a7410>",
      "text/html": "<style type=\"text/css\">\n#T_59bf7_row0_col0, #T_59bf7_row0_col1, #T_59bf7_row0_col2, #T_59bf7_row1_col0, #T_59bf7_row1_col1, #T_59bf7_row1_col2, #T_59bf7_row2_col0, #T_59bf7_row2_col1, #T_59bf7_row3_col0, #T_59bf7_row3_col1, #T_59bf7_row3_col2, #T_59bf7_row3_col3, #T_59bf7_row4_col0, #T_59bf7_row4_col1, #T_59bf7_row5_col0, #T_59bf7_row5_col1, #T_59bf7_row5_col2, #T_59bf7_row6_col0, #T_59bf7_row6_col1, #T_59bf7_row6_col2, #T_59bf7_row7_col0, #T_59bf7_row7_col1 {\n  background-color: pink;\n  color: white;\n}\n#T_59bf7_row0_col3, #T_59bf7_row1_col3, #T_59bf7_row2_col2, #T_59bf7_row2_col3, #T_59bf7_row4_col2, #T_59bf7_row4_col3, #T_59bf7_row5_col3, #T_59bf7_row6_col3, #T_59bf7_row7_col2, #T_59bf7_row7_col3 {\n  background-color: lightgreen;\n}\n</style>\n<table id=\"T_59bf7\">\n  <thead>\n    <tr>\n      <th class=\"blank level0\" >&nbsp;</th>\n      <th id=\"T_59bf7_level0_col0\" class=\"col_heading level0 col0\" >bill_length_mm</th>\n      <th id=\"T_59bf7_level0_col1\" class=\"col_heading level0 col1\" >bill_depth_mm</th>\n      <th id=\"T_59bf7_level0_col2\" class=\"col_heading level0 col2\" >flipper</th>\n      <th id=\"T_59bf7_level0_col3\" class=\"col_heading level0 col3\" >mass</th>\n    </tr>\n  </thead>\n  <tbody>\n    <tr>\n      <th id=\"T_59bf7_level0_row0\" class=\"row_heading level0 row0\" >0</th>\n      <td id=\"T_59bf7_row0_col0\" class=\"data row0 col0\" >39.100000</td>\n      <td id=\"T_59bf7_row0_col1\" class=\"data row0 col1\" >18.700000</td>\n      <td id=\"T_59bf7_row0_col2\" class=\"data row0 col2\" >181.000000</td>\n      <td id=\"T_59bf7_row0_col3\" class=\"data row0 col3\" >3750.000000</td>\n    </tr>\n    <tr>\n      <th id=\"T_59bf7_level0_row1\" class=\"row_heading level0 row1\" >1</th>\n      <td id=\"T_59bf7_row1_col0\" class=\"data row1 col0\" >39.500000</td>\n      <td id=\"T_59bf7_row1_col1\" class=\"data row1 col1\" >17.400000</td>\n      <td id=\"T_59bf7_row1_col2\" class=\"data row1 col2\" >186.000000</td>\n      <td id=\"T_59bf7_row1_col3\" class=\"data row1 col3\" >3800.000000</td>\n    </tr>\n    <tr>\n      <th id=\"T_59bf7_level0_row2\" class=\"row_heading level0 row2\" >2</th>\n      <td id=\"T_59bf7_row2_col0\" class=\"data row2 col0\" >40.300000</td>\n      <td id=\"T_59bf7_row2_col1\" class=\"data row2 col1\" >18.000000</td>\n      <td id=\"T_59bf7_row2_col2\" class=\"data row2 col2\" >195.000000</td>\n      <td id=\"T_59bf7_row2_col3\" class=\"data row2 col3\" >3250.000000</td>\n    </tr>\n    <tr>\n      <th id=\"T_59bf7_level0_row3\" class=\"row_heading level0 row3\" >3</th>\n      <td id=\"T_59bf7_row3_col0\" class=\"data row3 col0\" >nan</td>\n      <td id=\"T_59bf7_row3_col1\" class=\"data row3 col1\" >nan</td>\n      <td id=\"T_59bf7_row3_col2\" class=\"data row3 col2\" >nan</td>\n      <td id=\"T_59bf7_row3_col3\" class=\"data row3 col3\" >nan</td>\n    </tr>\n    <tr>\n      <th id=\"T_59bf7_level0_row4\" class=\"row_heading level0 row4\" >4</th>\n      <td id=\"T_59bf7_row4_col0\" class=\"data row4 col0\" >36.700000</td>\n      <td id=\"T_59bf7_row4_col1\" class=\"data row4 col1\" >19.300000</td>\n      <td id=\"T_59bf7_row4_col2\" class=\"data row4 col2\" >193.000000</td>\n      <td id=\"T_59bf7_row4_col3\" class=\"data row4 col3\" >3450.000000</td>\n    </tr>\n    <tr>\n      <th id=\"T_59bf7_level0_row5\" class=\"row_heading level0 row5\" >5</th>\n      <td id=\"T_59bf7_row5_col0\" class=\"data row5 col0\" >39.300000</td>\n      <td id=\"T_59bf7_row5_col1\" class=\"data row5 col1\" >20.600000</td>\n      <td id=\"T_59bf7_row5_col2\" class=\"data row5 col2\" >190.000000</td>\n      <td id=\"T_59bf7_row5_col3\" class=\"data row5 col3\" >3650.000000</td>\n    </tr>\n    <tr>\n      <th id=\"T_59bf7_level0_row6\" class=\"row_heading level0 row6\" >6</th>\n      <td id=\"T_59bf7_row6_col0\" class=\"data row6 col0\" >38.900000</td>\n      <td id=\"T_59bf7_row6_col1\" class=\"data row6 col1\" >17.800000</td>\n      <td id=\"T_59bf7_row6_col2\" class=\"data row6 col2\" >181.000000</td>\n      <td id=\"T_59bf7_row6_col3\" class=\"data row6 col3\" >3625.000000</td>\n    </tr>\n    <tr>\n      <th id=\"T_59bf7_level0_row7\" class=\"row_heading level0 row7\" >7</th>\n      <td id=\"T_59bf7_row7_col0\" class=\"data row7 col0\" >39.200000</td>\n      <td id=\"T_59bf7_row7_col1\" class=\"data row7 col1\" >19.600000</td>\n      <td id=\"T_59bf7_row7_col2\" class=\"data row7 col2\" >195.000000</td>\n      <td id=\"T_59bf7_row7_col3\" class=\"data row7 col3\" >4675.000000</td>\n    </tr>\n  </tbody>\n</table>\n"
     },
     "execution_count": 261,
     "metadata": {},
     "output_type": "execute_result"
    }
   ],
   "source": [
    "# Example 16\n",
    "green = 'background-color: lightgreen'\n",
    "pink = 'background-color: pink; color: white'\n",
    "(df_num.style\n",
    "       .applymap(lambda value: green if value>190 else pink))\n"
   ]
  },
  {
   "cell_type": "code",
   "execution_count": 262,
   "id": "acf9acdc137fa6e6",
   "metadata": {
    "collapsed": false,
    "tags": [],
    "ExecuteTime": {
     "end_time": "2024-01-07T18:09:12.915610Z",
     "start_time": "2024-01-07T18:09:12.910061Z"
    }
   },
   "outputs": [
    {
     "name": "stderr",
     "output_type": "stream",
     "text": [
      "/var/folders/hj/f1jqvs216bg46sc5tmm5by1c0000gn/T/ipykernel_8625/907071917.py:7: FutureWarning: Styler.applymap has been deprecated. Use Styler.map instead.\n",
      "  df_num.style.applymap(highlight_190)\n"
     ]
    },
    {
     "data": {
      "text/plain": "<pandas.io.formats.style.Styler at 0x1735a1190>",
      "text/html": "<style type=\"text/css\">\n#T_87016_row0_col0, #T_87016_row0_col1, #T_87016_row0_col2, #T_87016_row1_col0, #T_87016_row1_col1, #T_87016_row1_col2, #T_87016_row2_col0, #T_87016_row2_col1, #T_87016_row3_col0, #T_87016_row3_col1, #T_87016_row3_col2, #T_87016_row3_col3, #T_87016_row4_col0, #T_87016_row4_col1, #T_87016_row5_col0, #T_87016_row5_col1, #T_87016_row5_col2, #T_87016_row6_col0, #T_87016_row6_col1, #T_87016_row6_col2, #T_87016_row7_col0, #T_87016_row7_col1 {\n  background-color: pink;\n  color: white;\n}\n#T_87016_row0_col3, #T_87016_row1_col3, #T_87016_row2_col2, #T_87016_row2_col3, #T_87016_row4_col2, #T_87016_row4_col3, #T_87016_row5_col3, #T_87016_row6_col3, #T_87016_row7_col2, #T_87016_row7_col3 {\n  background-color: lightgreen;\n}\n</style>\n<table id=\"T_87016\">\n  <thead>\n    <tr>\n      <th class=\"blank level0\" >&nbsp;</th>\n      <th id=\"T_87016_level0_col0\" class=\"col_heading level0 col0\" >bill_length_mm</th>\n      <th id=\"T_87016_level0_col1\" class=\"col_heading level0 col1\" >bill_depth_mm</th>\n      <th id=\"T_87016_level0_col2\" class=\"col_heading level0 col2\" >flipper</th>\n      <th id=\"T_87016_level0_col3\" class=\"col_heading level0 col3\" >mass</th>\n    </tr>\n  </thead>\n  <tbody>\n    <tr>\n      <th id=\"T_87016_level0_row0\" class=\"row_heading level0 row0\" >0</th>\n      <td id=\"T_87016_row0_col0\" class=\"data row0 col0\" >39.100000</td>\n      <td id=\"T_87016_row0_col1\" class=\"data row0 col1\" >18.700000</td>\n      <td id=\"T_87016_row0_col2\" class=\"data row0 col2\" >181.000000</td>\n      <td id=\"T_87016_row0_col3\" class=\"data row0 col3\" >3750.000000</td>\n    </tr>\n    <tr>\n      <th id=\"T_87016_level0_row1\" class=\"row_heading level0 row1\" >1</th>\n      <td id=\"T_87016_row1_col0\" class=\"data row1 col0\" >39.500000</td>\n      <td id=\"T_87016_row1_col1\" class=\"data row1 col1\" >17.400000</td>\n      <td id=\"T_87016_row1_col2\" class=\"data row1 col2\" >186.000000</td>\n      <td id=\"T_87016_row1_col3\" class=\"data row1 col3\" >3800.000000</td>\n    </tr>\n    <tr>\n      <th id=\"T_87016_level0_row2\" class=\"row_heading level0 row2\" >2</th>\n      <td id=\"T_87016_row2_col0\" class=\"data row2 col0\" >40.300000</td>\n      <td id=\"T_87016_row2_col1\" class=\"data row2 col1\" >18.000000</td>\n      <td id=\"T_87016_row2_col2\" class=\"data row2 col2\" >195.000000</td>\n      <td id=\"T_87016_row2_col3\" class=\"data row2 col3\" >3250.000000</td>\n    </tr>\n    <tr>\n      <th id=\"T_87016_level0_row3\" class=\"row_heading level0 row3\" >3</th>\n      <td id=\"T_87016_row3_col0\" class=\"data row3 col0\" >nan</td>\n      <td id=\"T_87016_row3_col1\" class=\"data row3 col1\" >nan</td>\n      <td id=\"T_87016_row3_col2\" class=\"data row3 col2\" >nan</td>\n      <td id=\"T_87016_row3_col3\" class=\"data row3 col3\" >nan</td>\n    </tr>\n    <tr>\n      <th id=\"T_87016_level0_row4\" class=\"row_heading level0 row4\" >4</th>\n      <td id=\"T_87016_row4_col0\" class=\"data row4 col0\" >36.700000</td>\n      <td id=\"T_87016_row4_col1\" class=\"data row4 col1\" >19.300000</td>\n      <td id=\"T_87016_row4_col2\" class=\"data row4 col2\" >193.000000</td>\n      <td id=\"T_87016_row4_col3\" class=\"data row4 col3\" >3450.000000</td>\n    </tr>\n    <tr>\n      <th id=\"T_87016_level0_row5\" class=\"row_heading level0 row5\" >5</th>\n      <td id=\"T_87016_row5_col0\" class=\"data row5 col0\" >39.300000</td>\n      <td id=\"T_87016_row5_col1\" class=\"data row5 col1\" >20.600000</td>\n      <td id=\"T_87016_row5_col2\" class=\"data row5 col2\" >190.000000</td>\n      <td id=\"T_87016_row5_col3\" class=\"data row5 col3\" >3650.000000</td>\n    </tr>\n    <tr>\n      <th id=\"T_87016_level0_row6\" class=\"row_heading level0 row6\" >6</th>\n      <td id=\"T_87016_row6_col0\" class=\"data row6 col0\" >38.900000</td>\n      <td id=\"T_87016_row6_col1\" class=\"data row6 col1\" >17.800000</td>\n      <td id=\"T_87016_row6_col2\" class=\"data row6 col2\" >181.000000</td>\n      <td id=\"T_87016_row6_col3\" class=\"data row6 col3\" >3625.000000</td>\n    </tr>\n    <tr>\n      <th id=\"T_87016_level0_row7\" class=\"row_heading level0 row7\" >7</th>\n      <td id=\"T_87016_row7_col0\" class=\"data row7 col0\" >39.200000</td>\n      <td id=\"T_87016_row7_col1\" class=\"data row7 col1\" >19.600000</td>\n      <td id=\"T_87016_row7_col2\" class=\"data row7 col2\" >195.000000</td>\n      <td id=\"T_87016_row7_col3\" class=\"data row7 col3\" >4675.000000</td>\n    </tr>\n  </tbody>\n</table>\n"
     },
     "execution_count": 262,
     "metadata": {},
     "output_type": "execute_result"
    }
   ],
   "source": [
    "# Example 17\n",
    "def highlight_190(value):\n",
    "    green = 'background-color: lightgreen'\n",
    "    pink = 'background-color: pink; color: white'\n",
    "    return green if value > 190 else pink\n",
    "\n",
    "df_num.style.applymap(highlight_190)\n"
   ]
  },
  {
   "cell_type": "markdown",
   "id": "2e9cbd7ea85f8332",
   "metadata": {},
   "source": [
    "#### 1.4.2. Column/row/tablewise application: apply()\n",
    "Let’s see how we could do the same formatting using .apply():\n",
    "\n",
    "```python\n",
    "def highlight_190(series):\n",
    "    green = 'background-color: lightgreen'\n",
    "    pink = 'background-color: pink; color: white'\n",
    "    return [green if value > 190 else pink for value in series]\n",
    "df_num.style.apply(highlight_190)\n",
    "```\n",
    "\n",
    "We can also chain them just like the previous functions:\n",
    "\n",
    "```python\n",
    "(df_num.style\n",
    "       .applymap(highlight_190)\n",
    "       .applymap(lambda value: 'opacity: 40%' if value<30 \n",
    "                 else None))\n",
    "```\n",
    "__Example 18__\n",
    "\n",
    "It’s useful to know how to use both .apply() and .applymap(). Here’s an example where we can use .apply() but not .applymap():\n",
    "\n",
    "```python\n",
    "def highlight_above_median(series):\n",
    "    is_above = series>series.median()\n",
    "    above = 'background-color: lightgreen'\n",
    "    below = 'background-color: grey; color: white'\n",
    "    return [above if value else below for value in is_above]\n",
    "df_num.style.apply(highlight_above_median)\n",
    "```\n",
    "__Example 19__\n",
    "\n",
    "We find the median value by each column and highlight values higher than median in green and the rest in grey. We can also style the entire column based on conditions with .apply():\n",
    "\n",
    "```python\n",
    "def highlight(data):\n",
    "    n = len(data)\n",
    "    if data['sex']=='Male':\n",
    "        return n*['background-color: lightblue']\n",
    "    if data['sex']=='Female':\n",
    "        return n*['background-color: lightpink']\n",
    "    else:\n",
    "        return n*['']\n",
    "df.head(6).style.apply(highlight, axis=1).hide()\n",
    "```\n",
    "__Example 20__\n",
    "\n",
    "Here, we have hidden DataFrame’s indices with `.hide()` for a cleaner look. If needed, you can also hide columns with `.hide_columns()` as well.\n",
    "\n"
   ]
  },
  {
   "cell_type": "code",
   "execution_count": 263,
   "id": "b33a7cbf02e7634a",
   "metadata": {
    "collapsed": false,
    "ExecuteTime": {
     "end_time": "2024-01-07T18:09:12.937818Z",
     "start_time": "2024-01-07T18:09:12.918252Z"
    }
   },
   "outputs": [
    {
     "name": "stderr",
     "output_type": "stream",
     "text": [
      "/var/folders/hj/f1jqvs216bg46sc5tmm5by1c0000gn/T/ipykernel_8625/907609828.py:3: FutureWarning: Styler.applymap has been deprecated. Use Styler.map instead.\n",
      "  .applymap(highlight_190)\n",
      "/var/folders/hj/f1jqvs216bg46sc5tmm5by1c0000gn/T/ipykernel_8625/907609828.py:4: FutureWarning: Styler.applymap has been deprecated. Use Styler.map instead.\n",
      "  .applymap(lambda value: 'opacity: 40%' if value<30\n"
     ]
    },
    {
     "data": {
      "text/plain": "<pandas.io.formats.style.Styler at 0x17457be90>",
      "text/html": "<style type=\"text/css\">\n#T_4a7e2_row0_col0, #T_4a7e2_row0_col2, #T_4a7e2_row1_col0, #T_4a7e2_row1_col2, #T_4a7e2_row2_col0, #T_4a7e2_row3_col0, #T_4a7e2_row3_col1, #T_4a7e2_row3_col2, #T_4a7e2_row3_col3, #T_4a7e2_row4_col0, #T_4a7e2_row5_col0, #T_4a7e2_row5_col2, #T_4a7e2_row6_col0, #T_4a7e2_row6_col2, #T_4a7e2_row7_col0 {\n  background-color: pink;\n  color: white;\n}\n#T_4a7e2_row0_col1, #T_4a7e2_row1_col1, #T_4a7e2_row2_col1, #T_4a7e2_row4_col1, #T_4a7e2_row5_col1, #T_4a7e2_row6_col1, #T_4a7e2_row7_col1 {\n  background-color: pink;\n  color: white;\n  opacity: 40%;\n}\n#T_4a7e2_row0_col3, #T_4a7e2_row1_col3, #T_4a7e2_row2_col2, #T_4a7e2_row2_col3, #T_4a7e2_row4_col2, #T_4a7e2_row4_col3, #T_4a7e2_row5_col3, #T_4a7e2_row6_col3, #T_4a7e2_row7_col2, #T_4a7e2_row7_col3 {\n  background-color: lightgreen;\n}\n</style>\n<table id=\"T_4a7e2\">\n  <thead>\n    <tr>\n      <th class=\"blank level0\" >&nbsp;</th>\n      <th id=\"T_4a7e2_level0_col0\" class=\"col_heading level0 col0\" >bill_length_mm</th>\n      <th id=\"T_4a7e2_level0_col1\" class=\"col_heading level0 col1\" >bill_depth_mm</th>\n      <th id=\"T_4a7e2_level0_col2\" class=\"col_heading level0 col2\" >flipper</th>\n      <th id=\"T_4a7e2_level0_col3\" class=\"col_heading level0 col3\" >mass</th>\n    </tr>\n  </thead>\n  <tbody>\n    <tr>\n      <th id=\"T_4a7e2_level0_row0\" class=\"row_heading level0 row0\" >0</th>\n      <td id=\"T_4a7e2_row0_col0\" class=\"data row0 col0\" >39.100000</td>\n      <td id=\"T_4a7e2_row0_col1\" class=\"data row0 col1\" >18.700000</td>\n      <td id=\"T_4a7e2_row0_col2\" class=\"data row0 col2\" >181.000000</td>\n      <td id=\"T_4a7e2_row0_col3\" class=\"data row0 col3\" >3750.000000</td>\n    </tr>\n    <tr>\n      <th id=\"T_4a7e2_level0_row1\" class=\"row_heading level0 row1\" >1</th>\n      <td id=\"T_4a7e2_row1_col0\" class=\"data row1 col0\" >39.500000</td>\n      <td id=\"T_4a7e2_row1_col1\" class=\"data row1 col1\" >17.400000</td>\n      <td id=\"T_4a7e2_row1_col2\" class=\"data row1 col2\" >186.000000</td>\n      <td id=\"T_4a7e2_row1_col3\" class=\"data row1 col3\" >3800.000000</td>\n    </tr>\n    <tr>\n      <th id=\"T_4a7e2_level0_row2\" class=\"row_heading level0 row2\" >2</th>\n      <td id=\"T_4a7e2_row2_col0\" class=\"data row2 col0\" >40.300000</td>\n      <td id=\"T_4a7e2_row2_col1\" class=\"data row2 col1\" >18.000000</td>\n      <td id=\"T_4a7e2_row2_col2\" class=\"data row2 col2\" >195.000000</td>\n      <td id=\"T_4a7e2_row2_col3\" class=\"data row2 col3\" >3250.000000</td>\n    </tr>\n    <tr>\n      <th id=\"T_4a7e2_level0_row3\" class=\"row_heading level0 row3\" >3</th>\n      <td id=\"T_4a7e2_row3_col0\" class=\"data row3 col0\" >nan</td>\n      <td id=\"T_4a7e2_row3_col1\" class=\"data row3 col1\" >nan</td>\n      <td id=\"T_4a7e2_row3_col2\" class=\"data row3 col2\" >nan</td>\n      <td id=\"T_4a7e2_row3_col3\" class=\"data row3 col3\" >nan</td>\n    </tr>\n    <tr>\n      <th id=\"T_4a7e2_level0_row4\" class=\"row_heading level0 row4\" >4</th>\n      <td id=\"T_4a7e2_row4_col0\" class=\"data row4 col0\" >36.700000</td>\n      <td id=\"T_4a7e2_row4_col1\" class=\"data row4 col1\" >19.300000</td>\n      <td id=\"T_4a7e2_row4_col2\" class=\"data row4 col2\" >193.000000</td>\n      <td id=\"T_4a7e2_row4_col3\" class=\"data row4 col3\" >3450.000000</td>\n    </tr>\n    <tr>\n      <th id=\"T_4a7e2_level0_row5\" class=\"row_heading level0 row5\" >5</th>\n      <td id=\"T_4a7e2_row5_col0\" class=\"data row5 col0\" >39.300000</td>\n      <td id=\"T_4a7e2_row5_col1\" class=\"data row5 col1\" >20.600000</td>\n      <td id=\"T_4a7e2_row5_col2\" class=\"data row5 col2\" >190.000000</td>\n      <td id=\"T_4a7e2_row5_col3\" class=\"data row5 col3\" >3650.000000</td>\n    </tr>\n    <tr>\n      <th id=\"T_4a7e2_level0_row6\" class=\"row_heading level0 row6\" >6</th>\n      <td id=\"T_4a7e2_row6_col0\" class=\"data row6 col0\" >38.900000</td>\n      <td id=\"T_4a7e2_row6_col1\" class=\"data row6 col1\" >17.800000</td>\n      <td id=\"T_4a7e2_row6_col2\" class=\"data row6 col2\" >181.000000</td>\n      <td id=\"T_4a7e2_row6_col3\" class=\"data row6 col3\" >3625.000000</td>\n    </tr>\n    <tr>\n      <th id=\"T_4a7e2_level0_row7\" class=\"row_heading level0 row7\" >7</th>\n      <td id=\"T_4a7e2_row7_col0\" class=\"data row7 col0\" >39.200000</td>\n      <td id=\"T_4a7e2_row7_col1\" class=\"data row7 col1\" >19.600000</td>\n      <td id=\"T_4a7e2_row7_col2\" class=\"data row7 col2\" >195.000000</td>\n      <td id=\"T_4a7e2_row7_col3\" class=\"data row7 col3\" >4675.000000</td>\n    </tr>\n  </tbody>\n</table>\n"
     },
     "execution_count": 263,
     "metadata": {},
     "output_type": "execute_result"
    }
   ],
   "source": [
    "# Example 18\n",
    "(df_num.style\n",
    "    .applymap(highlight_190)\n",
    "    .applymap(lambda value: 'opacity: 40%' if value<30 \n",
    "                 else None))\n",
    "\n"
   ]
  },
  {
   "cell_type": "code",
   "execution_count": 264,
   "id": "7a6ab3d1cc253140",
   "metadata": {
    "collapsed": false,
    "ExecuteTime": {
     "end_time": "2024-01-07T18:09:12.957411Z",
     "start_time": "2024-01-07T18:09:12.940192Z"
    }
   },
   "outputs": [
    {
     "data": {
      "text/plain": "<pandas.io.formats.style.Styler at 0x1735d7010>",
      "text/html": "<style type=\"text/css\">\n#T_37b5f_row0_col0, #T_37b5f_row0_col1, #T_37b5f_row0_col2, #T_37b5f_row1_col1, #T_37b5f_row1_col2, #T_37b5f_row2_col1, #T_37b5f_row2_col3, #T_37b5f_row3_col0, #T_37b5f_row3_col1, #T_37b5f_row3_col2, #T_37b5f_row3_col3, #T_37b5f_row4_col0, #T_37b5f_row4_col3, #T_37b5f_row5_col2, #T_37b5f_row5_col3, #T_37b5f_row6_col0, #T_37b5f_row6_col1, #T_37b5f_row6_col2, #T_37b5f_row6_col3, #T_37b5f_row7_col0 {\n  background-color: grey;\n  color: white;\n}\n#T_37b5f_row0_col3, #T_37b5f_row1_col0, #T_37b5f_row1_col3, #T_37b5f_row2_col0, #T_37b5f_row2_col2, #T_37b5f_row4_col1, #T_37b5f_row4_col2, #T_37b5f_row5_col0, #T_37b5f_row5_col1, #T_37b5f_row7_col1, #T_37b5f_row7_col2, #T_37b5f_row7_col3 {\n  background-color: lightgreen;\n}\n</style>\n<table id=\"T_37b5f\">\n  <thead>\n    <tr>\n      <th class=\"blank level0\" >&nbsp;</th>\n      <th id=\"T_37b5f_level0_col0\" class=\"col_heading level0 col0\" >bill_length_mm</th>\n      <th id=\"T_37b5f_level0_col1\" class=\"col_heading level0 col1\" >bill_depth_mm</th>\n      <th id=\"T_37b5f_level0_col2\" class=\"col_heading level0 col2\" >flipper</th>\n      <th id=\"T_37b5f_level0_col3\" class=\"col_heading level0 col3\" >mass</th>\n    </tr>\n  </thead>\n  <tbody>\n    <tr>\n      <th id=\"T_37b5f_level0_row0\" class=\"row_heading level0 row0\" >0</th>\n      <td id=\"T_37b5f_row0_col0\" class=\"data row0 col0\" >39.100000</td>\n      <td id=\"T_37b5f_row0_col1\" class=\"data row0 col1\" >18.700000</td>\n      <td id=\"T_37b5f_row0_col2\" class=\"data row0 col2\" >181.000000</td>\n      <td id=\"T_37b5f_row0_col3\" class=\"data row0 col3\" >3750.000000</td>\n    </tr>\n    <tr>\n      <th id=\"T_37b5f_level0_row1\" class=\"row_heading level0 row1\" >1</th>\n      <td id=\"T_37b5f_row1_col0\" class=\"data row1 col0\" >39.500000</td>\n      <td id=\"T_37b5f_row1_col1\" class=\"data row1 col1\" >17.400000</td>\n      <td id=\"T_37b5f_row1_col2\" class=\"data row1 col2\" >186.000000</td>\n      <td id=\"T_37b5f_row1_col3\" class=\"data row1 col3\" >3800.000000</td>\n    </tr>\n    <tr>\n      <th id=\"T_37b5f_level0_row2\" class=\"row_heading level0 row2\" >2</th>\n      <td id=\"T_37b5f_row2_col0\" class=\"data row2 col0\" >40.300000</td>\n      <td id=\"T_37b5f_row2_col1\" class=\"data row2 col1\" >18.000000</td>\n      <td id=\"T_37b5f_row2_col2\" class=\"data row2 col2\" >195.000000</td>\n      <td id=\"T_37b5f_row2_col3\" class=\"data row2 col3\" >3250.000000</td>\n    </tr>\n    <tr>\n      <th id=\"T_37b5f_level0_row3\" class=\"row_heading level0 row3\" >3</th>\n      <td id=\"T_37b5f_row3_col0\" class=\"data row3 col0\" >nan</td>\n      <td id=\"T_37b5f_row3_col1\" class=\"data row3 col1\" >nan</td>\n      <td id=\"T_37b5f_row3_col2\" class=\"data row3 col2\" >nan</td>\n      <td id=\"T_37b5f_row3_col3\" class=\"data row3 col3\" >nan</td>\n    </tr>\n    <tr>\n      <th id=\"T_37b5f_level0_row4\" class=\"row_heading level0 row4\" >4</th>\n      <td id=\"T_37b5f_row4_col0\" class=\"data row4 col0\" >36.700000</td>\n      <td id=\"T_37b5f_row4_col1\" class=\"data row4 col1\" >19.300000</td>\n      <td id=\"T_37b5f_row4_col2\" class=\"data row4 col2\" >193.000000</td>\n      <td id=\"T_37b5f_row4_col3\" class=\"data row4 col3\" >3450.000000</td>\n    </tr>\n    <tr>\n      <th id=\"T_37b5f_level0_row5\" class=\"row_heading level0 row5\" >5</th>\n      <td id=\"T_37b5f_row5_col0\" class=\"data row5 col0\" >39.300000</td>\n      <td id=\"T_37b5f_row5_col1\" class=\"data row5 col1\" >20.600000</td>\n      <td id=\"T_37b5f_row5_col2\" class=\"data row5 col2\" >190.000000</td>\n      <td id=\"T_37b5f_row5_col3\" class=\"data row5 col3\" >3650.000000</td>\n    </tr>\n    <tr>\n      <th id=\"T_37b5f_level0_row6\" class=\"row_heading level0 row6\" >6</th>\n      <td id=\"T_37b5f_row6_col0\" class=\"data row6 col0\" >38.900000</td>\n      <td id=\"T_37b5f_row6_col1\" class=\"data row6 col1\" >17.800000</td>\n      <td id=\"T_37b5f_row6_col2\" class=\"data row6 col2\" >181.000000</td>\n      <td id=\"T_37b5f_row6_col3\" class=\"data row6 col3\" >3625.000000</td>\n    </tr>\n    <tr>\n      <th id=\"T_37b5f_level0_row7\" class=\"row_heading level0 row7\" >7</th>\n      <td id=\"T_37b5f_row7_col0\" class=\"data row7 col0\" >39.200000</td>\n      <td id=\"T_37b5f_row7_col1\" class=\"data row7 col1\" >19.600000</td>\n      <td id=\"T_37b5f_row7_col2\" class=\"data row7 col2\" >195.000000</td>\n      <td id=\"T_37b5f_row7_col3\" class=\"data row7 col3\" >4675.000000</td>\n    </tr>\n  </tbody>\n</table>\n"
     },
     "execution_count": 264,
     "metadata": {},
     "output_type": "execute_result"
    }
   ],
   "source": [
    "# Example 19\n",
    "def highlight_above_median(series):\n",
    "    is_above = series>series.median()\n",
    "    above = 'background-color: lightgreen'\n",
    "    below = 'background-color: grey; color: white'\n",
    "    return [above if value else below for value in is_above]\n",
    "df_num.style.apply(highlight_above_median)\n"
   ]
  },
  {
   "cell_type": "code",
   "execution_count": 265,
   "id": "dd2a4e7951911d28",
   "metadata": {
    "collapsed": false,
    "ExecuteTime": {
     "end_time": "2024-01-07T18:09:12.960346Z",
     "start_time": "2024-01-07T18:09:12.947898Z"
    }
   },
   "outputs": [
    {
     "data": {
      "text/plain": "<pandas.io.formats.style.Styler at 0x1745fad10>",
      "text/html": "<style type=\"text/css\">\n#T_dee49_row0_col0, #T_dee49_row0_col1, #T_dee49_row0_col2, #T_dee49_row0_col3, #T_dee49_row0_col4, #T_dee49_row0_col5, #T_dee49_row0_col6, #T_dee49_row5_col0, #T_dee49_row5_col1, #T_dee49_row5_col2, #T_dee49_row5_col3, #T_dee49_row5_col4, #T_dee49_row5_col5, #T_dee49_row5_col6 {\n  background-color: lightblue;\n}\n#T_dee49_row1_col0, #T_dee49_row1_col1, #T_dee49_row1_col2, #T_dee49_row1_col3, #T_dee49_row1_col4, #T_dee49_row1_col5, #T_dee49_row1_col6, #T_dee49_row2_col0, #T_dee49_row2_col1, #T_dee49_row2_col2, #T_dee49_row2_col3, #T_dee49_row2_col4, #T_dee49_row2_col5, #T_dee49_row2_col6, #T_dee49_row4_col0, #T_dee49_row4_col1, #T_dee49_row4_col2, #T_dee49_row4_col3, #T_dee49_row4_col4, #T_dee49_row4_col5, #T_dee49_row4_col6 {\n  background-color: lightpink;\n}\n</style>\n<table id=\"T_dee49\">\n  <thead>\n    <tr>\n      <th id=\"T_dee49_level0_col0\" class=\"col_heading level0 col0\" >species</th>\n      <th id=\"T_dee49_level0_col1\" class=\"col_heading level0 col1\" >island</th>\n      <th id=\"T_dee49_level0_col2\" class=\"col_heading level0 col2\" >bill_length_mm</th>\n      <th id=\"T_dee49_level0_col3\" class=\"col_heading level0 col3\" >bill_depth_mm</th>\n      <th id=\"T_dee49_level0_col4\" class=\"col_heading level0 col4\" >flipper</th>\n      <th id=\"T_dee49_level0_col5\" class=\"col_heading level0 col5\" >mass</th>\n      <th id=\"T_dee49_level0_col6\" class=\"col_heading level0 col6\" >sex</th>\n    </tr>\n  </thead>\n  <tbody>\n    <tr>\n      <td id=\"T_dee49_row0_col0\" class=\"data row0 col0\" >Adelie</td>\n      <td id=\"T_dee49_row0_col1\" class=\"data row0 col1\" >Torgersen</td>\n      <td id=\"T_dee49_row0_col2\" class=\"data row0 col2\" >39.100000</td>\n      <td id=\"T_dee49_row0_col3\" class=\"data row0 col3\" >18.700000</td>\n      <td id=\"T_dee49_row0_col4\" class=\"data row0 col4\" >181.000000</td>\n      <td id=\"T_dee49_row0_col5\" class=\"data row0 col5\" >3750.000000</td>\n      <td id=\"T_dee49_row0_col6\" class=\"data row0 col6\" >Male</td>\n    </tr>\n    <tr>\n      <td id=\"T_dee49_row1_col0\" class=\"data row1 col0\" >Adelie</td>\n      <td id=\"T_dee49_row1_col1\" class=\"data row1 col1\" >Torgersen</td>\n      <td id=\"T_dee49_row1_col2\" class=\"data row1 col2\" >39.500000</td>\n      <td id=\"T_dee49_row1_col3\" class=\"data row1 col3\" >17.400000</td>\n      <td id=\"T_dee49_row1_col4\" class=\"data row1 col4\" >186.000000</td>\n      <td id=\"T_dee49_row1_col5\" class=\"data row1 col5\" >3800.000000</td>\n      <td id=\"T_dee49_row1_col6\" class=\"data row1 col6\" >Female</td>\n    </tr>\n    <tr>\n      <td id=\"T_dee49_row2_col0\" class=\"data row2 col0\" >Adelie</td>\n      <td id=\"T_dee49_row2_col1\" class=\"data row2 col1\" >Torgersen</td>\n      <td id=\"T_dee49_row2_col2\" class=\"data row2 col2\" >40.300000</td>\n      <td id=\"T_dee49_row2_col3\" class=\"data row2 col3\" >18.000000</td>\n      <td id=\"T_dee49_row2_col4\" class=\"data row2 col4\" >195.000000</td>\n      <td id=\"T_dee49_row2_col5\" class=\"data row2 col5\" >3250.000000</td>\n      <td id=\"T_dee49_row2_col6\" class=\"data row2 col6\" >Female</td>\n    </tr>\n    <tr>\n      <td id=\"T_dee49_row3_col0\" class=\"data row3 col0\" >Adelie</td>\n      <td id=\"T_dee49_row3_col1\" class=\"data row3 col1\" >Torgersen</td>\n      <td id=\"T_dee49_row3_col2\" class=\"data row3 col2\" >nan</td>\n      <td id=\"T_dee49_row3_col3\" class=\"data row3 col3\" >nan</td>\n      <td id=\"T_dee49_row3_col4\" class=\"data row3 col4\" >nan</td>\n      <td id=\"T_dee49_row3_col5\" class=\"data row3 col5\" >nan</td>\n      <td id=\"T_dee49_row3_col6\" class=\"data row3 col6\" >nan</td>\n    </tr>\n    <tr>\n      <td id=\"T_dee49_row4_col0\" class=\"data row4 col0\" >Adelie</td>\n      <td id=\"T_dee49_row4_col1\" class=\"data row4 col1\" >Torgersen</td>\n      <td id=\"T_dee49_row4_col2\" class=\"data row4 col2\" >36.700000</td>\n      <td id=\"T_dee49_row4_col3\" class=\"data row4 col3\" >19.300000</td>\n      <td id=\"T_dee49_row4_col4\" class=\"data row4 col4\" >193.000000</td>\n      <td id=\"T_dee49_row4_col5\" class=\"data row4 col5\" >3450.000000</td>\n      <td id=\"T_dee49_row4_col6\" class=\"data row4 col6\" >Female</td>\n    </tr>\n    <tr>\n      <td id=\"T_dee49_row5_col0\" class=\"data row5 col0\" >Adelie</td>\n      <td id=\"T_dee49_row5_col1\" class=\"data row5 col1\" >Torgersen</td>\n      <td id=\"T_dee49_row5_col2\" class=\"data row5 col2\" >39.300000</td>\n      <td id=\"T_dee49_row5_col3\" class=\"data row5 col3\" >20.600000</td>\n      <td id=\"T_dee49_row5_col4\" class=\"data row5 col4\" >190.000000</td>\n      <td id=\"T_dee49_row5_col5\" class=\"data row5 col5\" >3650.000000</td>\n      <td id=\"T_dee49_row5_col6\" class=\"data row5 col6\" >Male</td>\n    </tr>\n  </tbody>\n</table>\n"
     },
     "execution_count": 265,
     "metadata": {},
     "output_type": "execute_result"
    }
   ],
   "source": [
    "# Example 20\n",
    "def highlight(data):\n",
    "    n = len(data)\n",
    "    if data['sex']=='Male':\n",
    "        return n*['background-color: lightblue']\n",
    "    if data['sex']=='Female':\n",
    "        return n*['background-color: lightpink']\n",
    "    else:\n",
    "        return n*['']\n",
    "df.head(6).style.apply(highlight, axis=1).hide()\n"
   ]
  },
  {
   "cell_type": "code",
   "execution_count": 265,
   "id": "24337dedc61fdbcb",
   "metadata": {
    "collapsed": false,
    "ExecuteTime": {
     "end_time": "2024-01-07T18:09:12.967970Z",
     "start_time": "2024-01-07T18:09:12.961296Z"
    }
   },
   "outputs": [],
   "source": []
  }
 ],
 "metadata": {
  "kernelspec": {
   "display_name": "Python 3 (ipykernel)",
   "language": "python",
   "name": "python3"
  },
  "language_info": {
   "codemirror_mode": {
    "name": "ipython",
    "version": 3
   },
   "file_extension": ".py",
   "mimetype": "text/x-python",
   "name": "python",
   "nbconvert_exporter": "python",
   "pygments_lexer": "ipython3",
   "version": "3.11.5"
  }
 },
 "nbformat": 4,
 "nbformat_minor": 5
}
