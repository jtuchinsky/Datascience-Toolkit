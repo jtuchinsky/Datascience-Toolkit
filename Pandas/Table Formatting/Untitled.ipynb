{
 "cells": [
  {
   "cell_type": "code",
   "execution_count": 1,
   "id": "7d7d603b-55a1-49df-9621-da7ae6c9ea0d",
   "metadata": {
    "tags": []
   },
   "outputs": [],
   "source": [
    "import pandas as pd\n",
    "import pywedge as pw\n"
   ]
  },
  {
   "cell_type": "code",
   "execution_count": 2,
   "id": "e40bf409-57e3-4dd6-a7ea-0f10066dd3a0",
   "metadata": {
    "tags": []
   },
   "outputs": [
    {
     "name": "stdout",
     "output_type": "stream",
     "text": [
      "Requirement already satisfied: pywedge in /Users/jacobtuchinsky/anaconda3/lib/python3.11/site-packages (0.5.1.8)\n",
      "Requirement already satisfied: xgboost in /Users/jacobtuchinsky/anaconda3/lib/python3.11/site-packages (from pywedge) (2.0.3)\n",
      "Requirement already satisfied: pandas in /Users/jacobtuchinsky/anaconda3/lib/python3.11/site-packages (from pywedge) (2.0.3)\n",
      "Requirement already satisfied: catboost>0.24 in /Users/jacobtuchinsky/anaconda3/lib/python3.11/site-packages (from pywedge) (1.2.2)\n",
      "Requirement already satisfied: numpy in /Users/jacobtuchinsky/anaconda3/lib/python3.11/site-packages (from pywedge) (1.24.3)\n",
      "Requirement already satisfied: scikit-learn in /Users/jacobtuchinsky/anaconda3/lib/python3.11/site-packages (from pywedge) (1.3.0)\n",
      "Requirement already satisfied: imbalanced-learn in /Users/jacobtuchinsky/anaconda3/lib/python3.11/site-packages (from pywedge) (0.10.1)\n",
      "Requirement already satisfied: plotly in /Users/jacobtuchinsky/anaconda3/lib/python3.11/site-packages (from pywedge) (5.9.0)\n",
      "Requirement already satisfied: ipywidgets in /Users/jacobtuchinsky/anaconda3/lib/python3.11/site-packages (from pywedge) (8.0.4)\n",
      "Requirement already satisfied: tqdm in /Users/jacobtuchinsky/anaconda3/lib/python3.11/site-packages (from pywedge) (4.65.0)\n",
      "Requirement already satisfied: graphviz in /Users/jacobtuchinsky/anaconda3/lib/python3.11/site-packages (from catboost>0.24->pywedge) (0.20.1)\n",
      "Requirement already satisfied: matplotlib in /Users/jacobtuchinsky/anaconda3/lib/python3.11/site-packages (from catboost>0.24->pywedge) (3.7.2)\n",
      "Requirement already satisfied: scipy in /Users/jacobtuchinsky/anaconda3/lib/python3.11/site-packages (from catboost>0.24->pywedge) (1.11.1)\n",
      "Requirement already satisfied: six in /Users/jacobtuchinsky/anaconda3/lib/python3.11/site-packages (from catboost>0.24->pywedge) (1.16.0)\n",
      "Requirement already satisfied: python-dateutil>=2.8.2 in /Users/jacobtuchinsky/anaconda3/lib/python3.11/site-packages (from pandas->pywedge) (2.8.2)\n",
      "Requirement already satisfied: pytz>=2020.1 in /Users/jacobtuchinsky/anaconda3/lib/python3.11/site-packages (from pandas->pywedge) (2023.3.post1)\n",
      "Requirement already satisfied: tzdata>=2022.1 in /Users/jacobtuchinsky/anaconda3/lib/python3.11/site-packages (from pandas->pywedge) (2023.3)\n",
      "Requirement already satisfied: joblib>=1.1.1 in /Users/jacobtuchinsky/anaconda3/lib/python3.11/site-packages (from imbalanced-learn->pywedge) (1.2.0)\n",
      "Requirement already satisfied: threadpoolctl>=2.0.0 in /Users/jacobtuchinsky/anaconda3/lib/python3.11/site-packages (from imbalanced-learn->pywedge) (2.2.0)\n",
      "Requirement already satisfied: ipykernel>=4.5.1 in /Users/jacobtuchinsky/anaconda3/lib/python3.11/site-packages (from ipywidgets->pywedge) (6.25.0)\n",
      "Requirement already satisfied: ipython>=6.1.0 in /Users/jacobtuchinsky/anaconda3/lib/python3.11/site-packages (from ipywidgets->pywedge) (8.15.0)\n",
      "Requirement already satisfied: traitlets>=4.3.1 in /Users/jacobtuchinsky/anaconda3/lib/python3.11/site-packages (from ipywidgets->pywedge) (5.7.1)\n",
      "Requirement already satisfied: widgetsnbextension~=4.0 in /Users/jacobtuchinsky/anaconda3/lib/python3.11/site-packages (from ipywidgets->pywedge) (4.0.5)\n",
      "Requirement already satisfied: jupyterlab-widgets~=3.0 in /Users/jacobtuchinsky/anaconda3/lib/python3.11/site-packages (from ipywidgets->pywedge) (3.0.5)\n",
      "Requirement already satisfied: tenacity>=6.2.0 in /Users/jacobtuchinsky/anaconda3/lib/python3.11/site-packages (from plotly->pywedge) (8.2.2)\n",
      "Requirement already satisfied: appnope in /Users/jacobtuchinsky/anaconda3/lib/python3.11/site-packages (from ipykernel>=4.5.1->ipywidgets->pywedge) (0.1.2)\n",
      "Requirement already satisfied: comm>=0.1.1 in /Users/jacobtuchinsky/anaconda3/lib/python3.11/site-packages (from ipykernel>=4.5.1->ipywidgets->pywedge) (0.1.2)\n",
      "Requirement already satisfied: debugpy>=1.6.5 in /Users/jacobtuchinsky/anaconda3/lib/python3.11/site-packages (from ipykernel>=4.5.1->ipywidgets->pywedge) (1.6.7)\n",
      "Requirement already satisfied: jupyter-client>=6.1.12 in /Users/jacobtuchinsky/anaconda3/lib/python3.11/site-packages (from ipykernel>=4.5.1->ipywidgets->pywedge) (7.4.9)\n",
      "Requirement already satisfied: jupyter-core!=5.0.*,>=4.12 in /Users/jacobtuchinsky/anaconda3/lib/python3.11/site-packages (from ipykernel>=4.5.1->ipywidgets->pywedge) (5.3.0)\n",
      "Requirement already satisfied: matplotlib-inline>=0.1 in /Users/jacobtuchinsky/anaconda3/lib/python3.11/site-packages (from ipykernel>=4.5.1->ipywidgets->pywedge) (0.1.6)\n",
      "Requirement already satisfied: nest-asyncio in /Users/jacobtuchinsky/anaconda3/lib/python3.11/site-packages (from ipykernel>=4.5.1->ipywidgets->pywedge) (1.5.6)\n",
      "Requirement already satisfied: packaging in /Users/jacobtuchinsky/anaconda3/lib/python3.11/site-packages (from ipykernel>=4.5.1->ipywidgets->pywedge) (23.1)\n",
      "Requirement already satisfied: psutil in /Users/jacobtuchinsky/anaconda3/lib/python3.11/site-packages (from ipykernel>=4.5.1->ipywidgets->pywedge) (5.9.0)\n",
      "Requirement already satisfied: pyzmq>=20 in /Users/jacobtuchinsky/anaconda3/lib/python3.11/site-packages (from ipykernel>=4.5.1->ipywidgets->pywedge) (23.2.0)\n",
      "Requirement already satisfied: tornado>=6.1 in /Users/jacobtuchinsky/anaconda3/lib/python3.11/site-packages (from ipykernel>=4.5.1->ipywidgets->pywedge) (6.3.2)\n",
      "Requirement already satisfied: backcall in /Users/jacobtuchinsky/anaconda3/lib/python3.11/site-packages (from ipython>=6.1.0->ipywidgets->pywedge) (0.2.0)\n",
      "Requirement already satisfied: decorator in /Users/jacobtuchinsky/anaconda3/lib/python3.11/site-packages (from ipython>=6.1.0->ipywidgets->pywedge) (5.1.1)\n",
      "Requirement already satisfied: jedi>=0.16 in /Users/jacobtuchinsky/anaconda3/lib/python3.11/site-packages (from ipython>=6.1.0->ipywidgets->pywedge) (0.18.1)\n",
      "Requirement already satisfied: pickleshare in /Users/jacobtuchinsky/anaconda3/lib/python3.11/site-packages (from ipython>=6.1.0->ipywidgets->pywedge) (0.7.5)\n",
      "Requirement already satisfied: prompt-toolkit!=3.0.37,<3.1.0,>=3.0.30 in /Users/jacobtuchinsky/anaconda3/lib/python3.11/site-packages (from ipython>=6.1.0->ipywidgets->pywedge) (3.0.36)\n",
      "Requirement already satisfied: pygments>=2.4.0 in /Users/jacobtuchinsky/anaconda3/lib/python3.11/site-packages (from ipython>=6.1.0->ipywidgets->pywedge) (2.15.1)\n",
      "Requirement already satisfied: stack-data in /Users/jacobtuchinsky/anaconda3/lib/python3.11/site-packages (from ipython>=6.1.0->ipywidgets->pywedge) (0.2.0)\n",
      "Requirement already satisfied: pexpect>4.3 in /Users/jacobtuchinsky/anaconda3/lib/python3.11/site-packages (from ipython>=6.1.0->ipywidgets->pywedge) (4.8.0)\n",
      "Requirement already satisfied: contourpy>=1.0.1 in /Users/jacobtuchinsky/anaconda3/lib/python3.11/site-packages (from matplotlib->catboost>0.24->pywedge) (1.0.5)\n",
      "Requirement already satisfied: cycler>=0.10 in /Users/jacobtuchinsky/anaconda3/lib/python3.11/site-packages (from matplotlib->catboost>0.24->pywedge) (0.11.0)\n",
      "Requirement already satisfied: fonttools>=4.22.0 in /Users/jacobtuchinsky/anaconda3/lib/python3.11/site-packages (from matplotlib->catboost>0.24->pywedge) (4.25.0)\n",
      "Requirement already satisfied: kiwisolver>=1.0.1 in /Users/jacobtuchinsky/anaconda3/lib/python3.11/site-packages (from matplotlib->catboost>0.24->pywedge) (1.4.4)\n",
      "Requirement already satisfied: pillow>=6.2.0 in /Users/jacobtuchinsky/anaconda3/lib/python3.11/site-packages (from matplotlib->catboost>0.24->pywedge) (10.0.1)\n",
      "Requirement already satisfied: pyparsing<3.1,>=2.3.1 in /Users/jacobtuchinsky/anaconda3/lib/python3.11/site-packages (from matplotlib->catboost>0.24->pywedge) (3.0.9)\n",
      "Requirement already satisfied: parso<0.9.0,>=0.8.0 in /Users/jacobtuchinsky/anaconda3/lib/python3.11/site-packages (from jedi>=0.16->ipython>=6.1.0->ipywidgets->pywedge) (0.8.3)\n",
      "Requirement already satisfied: entrypoints in /Users/jacobtuchinsky/anaconda3/lib/python3.11/site-packages (from jupyter-client>=6.1.12->ipykernel>=4.5.1->ipywidgets->pywedge) (0.4)\n",
      "Requirement already satisfied: platformdirs>=2.5 in /Users/jacobtuchinsky/anaconda3/lib/python3.11/site-packages (from jupyter-core!=5.0.*,>=4.12->ipykernel>=4.5.1->ipywidgets->pywedge) (3.10.0)\n",
      "Requirement already satisfied: ptyprocess>=0.5 in /Users/jacobtuchinsky/anaconda3/lib/python3.11/site-packages (from pexpect>4.3->ipython>=6.1.0->ipywidgets->pywedge) (0.7.0)\n",
      "Requirement already satisfied: wcwidth in /Users/jacobtuchinsky/anaconda3/lib/python3.11/site-packages (from prompt-toolkit!=3.0.37,<3.1.0,>=3.0.30->ipython>=6.1.0->ipywidgets->pywedge) (0.2.5)\n",
      "Requirement already satisfied: executing in /Users/jacobtuchinsky/anaconda3/lib/python3.11/site-packages (from stack-data->ipython>=6.1.0->ipywidgets->pywedge) (0.8.3)\n",
      "Requirement already satisfied: asttokens in /Users/jacobtuchinsky/anaconda3/lib/python3.11/site-packages (from stack-data->ipython>=6.1.0->ipywidgets->pywedge) (2.0.5)\n",
      "Requirement already satisfied: pure-eval in /Users/jacobtuchinsky/anaconda3/lib/python3.11/site-packages (from stack-data->ipython>=6.1.0->ipywidgets->pywedge) (0.2.2)\n"
     ]
    }
   ],
   "source": [
    "! pip install pywedge\n"
   ]
  },
  {
   "cell_type": "code",
   "execution_count": 3,
   "id": "ba3ba3c4-5922-4dd8-8feb-8e1d522ed7b4",
   "metadata": {
    "tags": []
   },
   "outputs": [
    {
     "name": "stdout",
     "output_type": "stream",
     "text": [
      "/Users/jacobtuchinsky/PycharmProjects/Datascience-Toolkit/Pandas/Table Formatting\n"
     ]
    }
   ],
   "source": [
    "!pwd"
   ]
  },
  {
   "cell_type": "code",
   "execution_count": 4,
   "id": "f39a361b-d991-4e77-bfc1-52be0dca2cb1",
   "metadata": {
    "tags": []
   },
   "outputs": [],
   "source": [
    "tm = pd.read_csv('Telemed.csv')"
   ]
  },
  {
   "cell_type": "code",
   "execution_count": 5,
   "id": "41aa9ead-f70b-4a8a-a793-61f54c6c1cfe",
   "metadata": {
    "tags": []
   },
   "outputs": [
    {
     "name": "stdout",
     "output_type": "stream",
     "text": [
      "                                              Indicator              Group  \\\n",
      "0     Adults Who Had Appointment with Health Profess...  National Estimate   \n",
      "1     Adults Who Had Appointment with Health Profess...             By Age   \n",
      "2     Adults Who Had Appointment with Health Profess...             By Age   \n",
      "3     Adults Who Had Appointment with Health Profess...             By Age   \n",
      "4     Adults Who Had Appointment with Health Profess...             By Age   \n",
      "...                                                 ...                ...   \n",
      "3339  Households With Children Where Any Child Had A...           By State   \n",
      "3340  Households With Children Where Any Child Had A...           By State   \n",
      "3341  Households With Children Where Any Child Had A...           By State   \n",
      "3342  Households With Children Where Any Child Had A...           By State   \n",
      "3343  Households With Children Where Any Child Had A...           By State   \n",
      "\n",
      "              State       Subgroup  Phase  Time Period      Time Period Label  \\\n",
      "0     United States  United States    3.1           28  Apr 14 - Apr 26, 2021   \n",
      "1     United States  18 - 29 years    3.1           28  Apr 14 - Apr 26, 2021   \n",
      "2     United States  30 - 39 years    3.1           28  Apr 14 - Apr 26, 2021   \n",
      "3     United States  40 - 49 years    3.1           28  Apr 14 - Apr 26, 2021   \n",
      "4     United States  50 - 59 years    3.1           28  Apr 14 - Apr 26, 2021   \n",
      "...             ...            ...    ...          ...                    ...   \n",
      "3339       Virginia       Virginia    3.5           48   Jul 27 - Aug 8, 2022   \n",
      "3340     Washington     Washington    3.5           48   Jul 27 - Aug 8, 2022   \n",
      "3341  West Virginia  West Virginia    3.5           48   Jul 27 - Aug 8, 2022   \n",
      "3342      Wisconsin      Wisconsin    3.5           48   Jul 27 - Aug 8, 2022   \n",
      "3343        Wyoming        Wyoming    3.5           48   Jul 27 - Aug 8, 2022   \n",
      "\n",
      "     Time Period Start Date Time Period End Date  Value  Low CI  High CI  \\\n",
      "0                04/14/2021           04/26/2021   25.7    25.0     26.4   \n",
      "1                04/14/2021           04/26/2021   21.6    19.2     24.1   \n",
      "2                04/14/2021           04/26/2021   23.1    21.7     24.5   \n",
      "3                04/14/2021           04/26/2021   25.7    24.2     27.3   \n",
      "4                04/14/2021           04/26/2021   26.3    24.6     28.1   \n",
      "...                     ...                  ...    ...     ...      ...   \n",
      "3339             07/27/2022           08/08/2022   18.8    12.9     26.1   \n",
      "3340             07/27/2022           08/08/2022   18.9    15.1     23.3   \n",
      "3341             07/27/2022           08/08/2022    NaN     NaN      NaN   \n",
      "3342             07/27/2022           08/08/2022   13.8     8.8     20.3   \n",
      "3343             07/27/2022           08/08/2022   10.7     6.6     16.2   \n",
      "\n",
      "     Confidence Interval             Quartile Range  Suppression Flag  \n",
      "0            25.0 - 26.4                        NaN               NaN  \n",
      "1            19.2 - 24.1                        NaN               NaN  \n",
      "2            21.7 - 24.5                        NaN               NaN  \n",
      "3            24.2 - 27.3                        NaN               NaN  \n",
      "4            24.6 - 28.1                        NaN               NaN  \n",
      "...                  ...                        ...               ...  \n",
      "3339         12.9 - 26.1                  18.2-23.1               NaN  \n",
      "3340         15.1 - 23.3                  18.2-23.1               NaN  \n",
      "3341                 NaN  Estimate is not reliable.               1.0  \n",
      "3342          8.8 - 20.3                  11.9-14.9               NaN  \n",
      "3343          6.6 - 16.2                   8.6-11.8               NaN  \n",
      "\n",
      "[3344 rows x 15 columns]\n"
     ]
    }
   ],
   "source": [
    "print(tm)"
   ]
  },
  {
   "cell_type": "code",
   "execution_count": 6,
   "id": "dcb74363-bd26-4d0c-9ea9-38aa2ca46d02",
   "metadata": {
    "tags": []
   },
   "outputs": [],
   "source": [
    "index= (['Indicator', 'Group', 'State', 'Subgroup', 'Phase', 'Time Period', 'Time Period Label', 'Time Period Start Date', 'Time Period End Date',  'Value',  'Low CI',  'High CI', 'Confidence Interval', 'Quartile Range', 'Suppression Flag'])"
   ]
  },
  {
   "cell_type": "code",
   "execution_count": 7,
   "id": "9f1a961d-3cc3-47d8-8967-2a9ea744ad0f",
   "metadata": {
    "tags": []
   },
   "outputs": [
    {
     "ename": "TypeError",
     "evalue": "DataFrame.drop() takes from 1 to 2 positional arguments but 3 were given",
     "output_type": "error",
     "traceback": [
      "\u001b[0;31m---------------------------------------------------------------------------\u001b[0m",
      "\u001b[0;31mTypeError\u001b[0m                                 Traceback (most recent call last)",
      "Cell \u001b[0;32mIn[7], line 1\u001b[0m\n\u001b[0;32m----> 1\u001b[0m viz \u001b[38;5;241m=\u001b[39m pw\u001b[38;5;241m.\u001b[39mPywedge_Charts(tm, c\u001b[38;5;241m=\u001b[39m\u001b[38;5;28;01mNone\u001b[39;00m, y \u001b[38;5;241m=\u001b[39m \u001b[38;5;124m'\u001b[39m\u001b[38;5;124mState\u001b[39m\u001b[38;5;124m'\u001b[39m)\n",
      "File \u001b[0;32m~/anaconda3/lib/python3.11/site-packages/pywedge/pywedge.py:27\u001b[0m, in \u001b[0;36mPywedge_Charts.__init__\u001b[0;34m(self, train, c, y, manual)\u001b[0m\n\u001b[1;32m     25\u001b[0m \u001b[38;5;28mself\u001b[39m\u001b[38;5;241m.\u001b[39mc \u001b[38;5;241m=\u001b[39m c\n\u001b[1;32m     26\u001b[0m \u001b[38;5;28mself\u001b[39m\u001b[38;5;241m.\u001b[39my \u001b[38;5;241m=\u001b[39m y\n\u001b[0;32m---> 27\u001b[0m \u001b[38;5;28mself\u001b[39m\u001b[38;5;241m.\u001b[39mX \u001b[38;5;241m=\u001b[39m \u001b[38;5;28mself\u001b[39m\u001b[38;5;241m.\u001b[39mtrain\u001b[38;5;241m.\u001b[39mdrop(\u001b[38;5;28mself\u001b[39m\u001b[38;5;241m.\u001b[39my,\u001b[38;5;241m1\u001b[39m)\n\u001b[1;32m     28\u001b[0m \u001b[38;5;28mself\u001b[39m\u001b[38;5;241m.\u001b[39mmanual \u001b[38;5;241m=\u001b[39m manual\n",
      "\u001b[0;31mTypeError\u001b[0m: DataFrame.drop() takes from 1 to 2 positional arguments but 3 were given"
     ]
    }
   ],
   "source": [
    "viz = pw.Pywedge_Charts(tm, c=None, y = 'State')"
   ]
  },
  {
   "cell_type": "code",
   "execution_count": null,
   "id": "cda0e156-c4bc-4fa6-ba94-ddcb235bb57c",
   "metadata": {},
   "outputs": [],
   "source": []
  }
 ],
 "metadata": {
  "kernelspec": {
   "display_name": "Python 3 (ipykernel)",
   "language": "python",
   "name": "python3"
  },
  "language_info": {
   "codemirror_mode": {
    "name": "ipython",
    "version": 3
   },
   "file_extension": ".py",
   "mimetype": "text/x-python",
   "name": "python",
   "nbconvert_exporter": "python",
   "pygments_lexer": "ipython3",
   "version": "3.11.5"
  }
 },
 "nbformat": 4,
 "nbformat_minor": 5
}
