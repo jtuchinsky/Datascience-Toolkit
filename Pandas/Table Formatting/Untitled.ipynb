{
 "cells": [
  {
   "cell_type": "code",
   "id": "7d7d603b-55a1-49df-9621-da7ae6c9ea0d",
   "metadata": {
    "tags": [],
    "ExecuteTime": {
     "end_time": "2025-05-29T19:59:21.615659Z",
     "start_time": "2025-05-29T19:59:21.613233Z"
    }
   },
   "source": [
    "import pandas as pd\n",
    "import pywedge as pw\n",
    "from matplotlib.pyplot import title\n"
   ],
   "outputs": [],
   "execution_count": 34
  },
  {
   "cell_type": "code",
   "id": "e40bf409-57e3-4dd6-a7ea-0f10066dd3a0",
   "metadata": {
    "tags": [],
    "ExecuteTime": {
     "end_time": "2025-05-29T19:59:21.637624Z",
     "start_time": "2025-05-29T19:59:21.636070Z"
    }
   },
   "source": "# ! pip install pywedge\n",
   "outputs": [],
   "execution_count": 35
  },
  {
   "cell_type": "code",
   "id": "ba3ba3c4-5922-4dd8-8feb-8e1d522ed7b4",
   "metadata": {
    "tags": [],
    "ExecuteTime": {
     "end_time": "2025-05-29T19:59:21.678988Z",
     "start_time": "2025-05-29T19:59:21.677565Z"
    }
   },
   "source": "# !pwd",
   "outputs": [],
   "execution_count": 36
  },
  {
   "cell_type": "code",
   "id": "f39a361b-d991-4e77-bfc1-52be0dca2cb1",
   "metadata": {
    "tags": [],
    "ExecuteTime": {
     "end_time": "2025-05-29T19:59:21.717910Z",
     "start_time": "2025-05-29T19:59:21.710163Z"
    }
   },
   "source": [
    "tm = pd.read_csv('Telemed.csv')"
   ],
   "outputs": [],
   "execution_count": 37
  },
  {
   "cell_type": "code",
   "id": "41aa9ead-f70b-4a8a-a793-61f54c6c1cfe",
   "metadata": {
    "tags": [],
    "ExecuteTime": {
     "end_time": "2025-05-29T19:59:21.740733Z",
     "start_time": "2025-05-29T19:59:21.737279Z"
    }
   },
   "source": [
    "print(tm)"
   ],
   "outputs": [
    {
     "name": "stdout",
     "output_type": "stream",
     "text": [
      "                                              Indicator              Group  \\\n",
      "0     Adults Who Had Appointment with Health Profess...  National Estimate   \n",
      "1     Adults Who Had Appointment with Health Profess...             By Age   \n",
      "2     Adults Who Had Appointment with Health Profess...             By Age   \n",
      "3     Adults Who Had Appointment with Health Profess...             By Age   \n",
      "4     Adults Who Had Appointment with Health Profess...             By Age   \n",
      "...                                                 ...                ...   \n",
      "3339  Households With Children Where Any Child Had A...           By State   \n",
      "3340  Households With Children Where Any Child Had A...           By State   \n",
      "3341  Households With Children Where Any Child Had A...           By State   \n",
      "3342  Households With Children Where Any Child Had A...           By State   \n",
      "3343  Households With Children Where Any Child Had A...           By State   \n",
      "\n",
      "              State       Subgroup  Phase  Time Period      Time Period Label  \\\n",
      "0     United States  United States    3.1           28  Apr 14 - Apr 26, 2021   \n",
      "1     United States  18 - 29 years    3.1           28  Apr 14 - Apr 26, 2021   \n",
      "2     United States  30 - 39 years    3.1           28  Apr 14 - Apr 26, 2021   \n",
      "3     United States  40 - 49 years    3.1           28  Apr 14 - Apr 26, 2021   \n",
      "4     United States  50 - 59 years    3.1           28  Apr 14 - Apr 26, 2021   \n",
      "...             ...            ...    ...          ...                    ...   \n",
      "3339       Virginia       Virginia    3.5           48   Jul 27 - Aug 8, 2022   \n",
      "3340     Washington     Washington    3.5           48   Jul 27 - Aug 8, 2022   \n",
      "3341  West Virginia  West Virginia    3.5           48   Jul 27 - Aug 8, 2022   \n",
      "3342      Wisconsin      Wisconsin    3.5           48   Jul 27 - Aug 8, 2022   \n",
      "3343        Wyoming        Wyoming    3.5           48   Jul 27 - Aug 8, 2022   \n",
      "\n",
      "     Time Period Start Date Time Period End Date  Value  Low CI  High CI  \\\n",
      "0                04/14/2021           04/26/2021   25.7    25.0     26.4   \n",
      "1                04/14/2021           04/26/2021   21.6    19.2     24.1   \n",
      "2                04/14/2021           04/26/2021   23.1    21.7     24.5   \n",
      "3                04/14/2021           04/26/2021   25.7    24.2     27.3   \n",
      "4                04/14/2021           04/26/2021   26.3    24.6     28.1   \n",
      "...                     ...                  ...    ...     ...      ...   \n",
      "3339             07/27/2022           08/08/2022   18.8    12.9     26.1   \n",
      "3340             07/27/2022           08/08/2022   18.9    15.1     23.3   \n",
      "3341             07/27/2022           08/08/2022    NaN     NaN      NaN   \n",
      "3342             07/27/2022           08/08/2022   13.8     8.8     20.3   \n",
      "3343             07/27/2022           08/08/2022   10.7     6.6     16.2   \n",
      "\n",
      "     Confidence Interval             Quartile Range  Suppression Flag  \n",
      "0            25.0 - 26.4                        NaN               NaN  \n",
      "1            19.2 - 24.1                        NaN               NaN  \n",
      "2            21.7 - 24.5                        NaN               NaN  \n",
      "3            24.2 - 27.3                        NaN               NaN  \n",
      "4            24.6 - 28.1                        NaN               NaN  \n",
      "...                  ...                        ...               ...  \n",
      "3339         12.9 - 26.1                  18.2-23.1               NaN  \n",
      "3340         15.1 - 23.3                  18.2-23.1               NaN  \n",
      "3341                 NaN  Estimate is not reliable.               1.0  \n",
      "3342          8.8 - 20.3                  11.9-14.9               NaN  \n",
      "3343          6.6 - 16.2                   8.6-11.8               NaN  \n",
      "\n",
      "[3344 rows x 15 columns]\n"
     ]
    }
   ],
   "execution_count": 38
  },
  {
   "cell_type": "code",
   "id": "dcb74363-bd26-4d0c-9ea9-38aa2ca46d02",
   "metadata": {
    "tags": [],
    "ExecuteTime": {
     "end_time": "2025-05-29T19:59:21.787142Z",
     "start_time": "2025-05-29T19:59:21.785575Z"
    }
   },
   "source": [
    "index= (['Indicator', 'Group', 'State', 'Subgroup', 'Phase', 'Time Period', 'Time Period Label', 'Time Period Start Date', 'Time Period End Date',  'Value',  'Low CI',  'High CI', 'Confidence Interval', 'Quartile Range', 'Suppression Flag'])"
   ],
   "outputs": [],
   "execution_count": 39
  },
  {
   "cell_type": "code",
   "id": "9f1a961d-3cc3-47d8-8967-2a9ea744ad0f",
   "metadata": {
    "tags": [],
    "ExecuteTime": {
     "end_time": "2025-05-29T19:59:21.814935Z",
     "start_time": "2025-05-29T19:59:21.812871Z"
    }
   },
   "source": "viz = pw.Pywedge_Charts(train = tm, c = None, y = 'State'))",
   "outputs": [
    {
     "ename": "SyntaxError",
     "evalue": "unmatched ')' (1169141782.py, line 1)",
     "output_type": "error",
     "traceback": [
      "\u001B[0;36m  Cell \u001B[0;32mIn[40], line 1\u001B[0;36m\u001B[0m\n\u001B[0;31m    viz = pw.Pywedge_Charts(train = tm, c = None, y = 'State'))\u001B[0m\n\u001B[0m                                                              ^\u001B[0m\n\u001B[0;31mSyntaxError\u001B[0m\u001B[0;31m:\u001B[0m unmatched ')'\n"
     ]
    }
   ],
   "execution_count": 40
  },
  {
   "cell_type": "code",
   "execution_count": null,
   "id": "cda0e156-c4bc-4fa6-ba94-ddcb235bb57c",
   "metadata": {},
   "outputs": [],
   "source": []
  }
 ],
 "metadata": {
  "kernelspec": {
   "display_name": "Python 3 (ipykernel)",
   "language": "python",
   "name": "python3"
  },
  "language_info": {
   "codemirror_mode": {
    "name": "ipython",
    "version": 3
   },
   "file_extension": ".py",
   "mimetype": "text/x-python",
   "name": "python",
   "nbconvert_exporter": "python",
   "pygments_lexer": "ipython3",
   "version": "3.11.5"
  }
 },
 "nbformat": 4,
 "nbformat_minor": 5
}
