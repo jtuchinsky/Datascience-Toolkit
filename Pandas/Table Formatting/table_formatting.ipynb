{
 "cells": [
  {
   "cell_type": "markdown",
   "source": [
    "# Formatting Tables in Pandas\n"
   ],
   "metadata": {
    "collapsed": false
   },
   "id": "b0f9d1a4fce40bb7"
  },
  {
   "cell_type": "code",
   "execution_count": 2,
   "outputs": [],
   "source": [
    "# Import pandas\n",
    "import pandas as pd\n",
    "# Import numpy\n",
    "import numpy as np\n",
    "\n"
   ],
   "metadata": {
    "collapsed": false,
    "ExecuteTime": {
     "end_time": "2023-12-17T16:09:02.581662Z",
     "start_time": "2023-12-17T16:09:01.973669Z"
    }
   },
   "id": "3f6384416f65e69c"
  },
  {
   "cell_type": "markdown",
   "source": [
    "## The data\n",
    "Let's create some simulated data for two widgets, A and B. We'll create a dataframe for each widget, then concatenate them together. We'll also sort the dataframe by month and reset the index."
   ],
   "metadata": {
    "collapsed": false
   },
   "id": "10aea294c42f4a03"
  },
  {
   "cell_type": "code",
   "execution_count": 3,
   "outputs": [],
   "source": [
    "# simulated data for widget A\n",
    "df_a = pd.DataFrame(\n",
    "    {\n",
    "        'Month':pd.date_range(\n",
    "            start = '01-01-2012',\n",
    "            end = '31-12-2022',\n",
    "            freq = 'MS'\n",
    "        ),\n",
    "        'Quotes':np.random.randint(\n",
    "            low = 1_000_000,\n",
    "            high = 2_500_000,\n",
    "            size = 132\n",
    "        ),\n",
    "        'Numbers':np.random.randint(\n",
    "            low = 300_000,\n",
    "            high = 500_000,\n",
    "            size = 132\n",
    "        ),\n",
    "        'Amounts':np.random.randint(\n",
    "            low = 750_000,\n",
    "            high = 1_250_000,\n",
    "            size = 132\n",
    "        )\n",
    "    }\n",
    ")\n",
    "\n",
    "df_a['Product'] = 'A'\n",
    "\n",
    "# simulated data for widget B\n",
    "df_b = pd.DataFrame(\n",
    "    {\n",
    "        'Month':pd.date_range(\n",
    "            start = '01-01-2012',\n",
    "            end = '31-12-2022',\n",
    "            freq = 'MS'\n",
    "        ),\n",
    "        'Quotes':np.random.randint(\n",
    "            low = 100_000,\n",
    "            high = 800_000,\n",
    "            size = 132\n",
    "        ),\n",
    "        'Numbers':np.random.randint(\n",
    "            low = 10_000,\n",
    "            high = 95_000,\n",
    "            size = 132\n",
    "        ),\n",
    "        'Amounts':np.random.randint(\n",
    "            low = 450_000,\n",
    "            high = 750_000,\n",
    "            size = 132\n",
    "        )\n",
    "    }\n",
    ")\n",
    "\n",
    "df_b['Product'] = 'B'\n",
    "\n",
    "# put it together & sort\n",
    "df = pd.concat([df_a,df_b],axis = 0)\n",
    "df.sort_values(by = 'Month',inplace = True)\n",
    "df.reset_index(drop = True,inplace = True)"
   ],
   "metadata": {
    "collapsed": false,
    "ExecuteTime": {
     "end_time": "2023-12-17T16:09:02.597018Z",
     "start_time": "2023-12-17T16:09:02.592006Z"
    }
   },
   "id": "cc675bd1d269bb2e"
  },
  {
   "cell_type": "markdown",
   "source": [
    "Let’s calculate a few “interesting” statistics — average sale amounts and product conversion:"
   ],
   "metadata": {
    "collapsed": false
   },
   "id": "d441044d0d55938f"
  },
  {
   "cell_type": "code",
   "execution_count": 4,
   "outputs": [],
   "source": [
    "# average sale\n",
    "df['Average sale'] = df['Amounts'] / df['Numbers'].replace({0: np.nan})\n",
    "\n",
    "# conversion\n",
    "df['Product conversion'] = df['Numbers'] / df['Quotes'].replace({0: np.nan})"
   ],
   "metadata": {
    "collapsed": false,
    "ExecuteTime": {
     "end_time": "2023-12-17T16:09:02.601353Z",
     "start_time": "2023-12-17T16:09:02.598530Z"
    }
   },
   "id": "dd7fb5b107176fbb"
  },
  {
   "cell_type": "code",
   "execution_count": 5,
   "outputs": [
    {
     "data": {
      "text/plain": "       Month   Quotes  Numbers  Amounts Product  Average sale  \\\n0 2012-01-01  1644269   426244  1092055       A      2.562042   \n1 2012-01-01   715388    14533   513216       B     35.313837   \n2 2012-02-01  2044201   333324   761896       A      2.285752   \n\n   Product conversion  \n0            0.259230  \n1            0.020315  \n2            0.163058  ",
      "text/html": "<div>\n<style scoped>\n    .dataframe tbody tr th:only-of-type {\n        vertical-align: middle;\n    }\n\n    .dataframe tbody tr th {\n        vertical-align: top;\n    }\n\n    .dataframe thead th {\n        text-align: right;\n    }\n</style>\n<table border=\"1\" class=\"dataframe\">\n  <thead>\n    <tr style=\"text-align: right;\">\n      <th></th>\n      <th>Month</th>\n      <th>Quotes</th>\n      <th>Numbers</th>\n      <th>Amounts</th>\n      <th>Product</th>\n      <th>Average sale</th>\n      <th>Product conversion</th>\n    </tr>\n  </thead>\n  <tbody>\n    <tr>\n      <th>0</th>\n      <td>2012-01-01</td>\n      <td>1644269</td>\n      <td>426244</td>\n      <td>1092055</td>\n      <td>A</td>\n      <td>2.562042</td>\n      <td>0.259230</td>\n    </tr>\n    <tr>\n      <th>1</th>\n      <td>2012-01-01</td>\n      <td>715388</td>\n      <td>14533</td>\n      <td>513216</td>\n      <td>B</td>\n      <td>35.313837</td>\n      <td>0.020315</td>\n    </tr>\n    <tr>\n      <th>2</th>\n      <td>2012-02-01</td>\n      <td>2044201</td>\n      <td>333324</td>\n      <td>761896</td>\n      <td>A</td>\n      <td>2.285752</td>\n      <td>0.163058</td>\n    </tr>\n  </tbody>\n</table>\n</div>"
     },
     "execution_count": 5,
     "metadata": {},
     "output_type": "execute_result"
    }
   ],
   "source": [
    "df.head(3)"
   ],
   "metadata": {
    "collapsed": false,
    "ExecuteTime": {
     "end_time": "2023-12-17T16:09:02.620157Z",
     "start_time": "2023-12-17T16:09:02.603948Z"
    }
   },
   "id": "760102e02bcf12da"
  },
  {
   "cell_type": "markdown",
   "source": [
    "## Date Formatting\n",
    "There’s arguably nothing __wrong__ with the formatting, but it could be better. For instance, since all the monthly data is reflected as at the first of each month, there’s probably little sense in keeping the day element of each Month entry as it tells the reader very little."
   ],
   "metadata": {
    "collapsed": false
   },
   "id": "f3a68e7d7a96b0ff"
  },
  {
   "cell_type": "code",
   "execution_count": 6,
   "outputs": [
    {
     "data": {
      "text/plain": "<pandas.io.formats.style.Styler at 0x1260b7df0>",
      "text/html": "<style type=\"text/css\">\n</style>\n<table id=\"T_74911\">\n  <thead>\n    <tr>\n      <th class=\"blank level0\" >&nbsp;</th>\n      <th id=\"T_74911_level0_col0\" class=\"col_heading level0 col0\" >Month</th>\n      <th id=\"T_74911_level0_col1\" class=\"col_heading level0 col1\" >Quotes</th>\n      <th id=\"T_74911_level0_col2\" class=\"col_heading level0 col2\" >Numbers</th>\n      <th id=\"T_74911_level0_col3\" class=\"col_heading level0 col3\" >Amounts</th>\n      <th id=\"T_74911_level0_col4\" class=\"col_heading level0 col4\" >Product</th>\n      <th id=\"T_74911_level0_col5\" class=\"col_heading level0 col5\" >Average sale</th>\n      <th id=\"T_74911_level0_col6\" class=\"col_heading level0 col6\" >Product conversion</th>\n    </tr>\n  </thead>\n  <tbody>\n    <tr>\n      <th id=\"T_74911_level0_row0\" class=\"row_heading level0 row0\" >0</th>\n      <td id=\"T_74911_row0_col0\" class=\"data row0 col0\" >2012-01</td>\n      <td id=\"T_74911_row0_col1\" class=\"data row0 col1\" >1644269</td>\n      <td id=\"T_74911_row0_col2\" class=\"data row0 col2\" >426244</td>\n      <td id=\"T_74911_row0_col3\" class=\"data row0 col3\" >1092055</td>\n      <td id=\"T_74911_row0_col4\" class=\"data row0 col4\" >A</td>\n      <td id=\"T_74911_row0_col5\" class=\"data row0 col5\" >2.562042</td>\n      <td id=\"T_74911_row0_col6\" class=\"data row0 col6\" >0.259230</td>\n    </tr>\n    <tr>\n      <th id=\"T_74911_level0_row1\" class=\"row_heading level0 row1\" >1</th>\n      <td id=\"T_74911_row1_col0\" class=\"data row1 col0\" >2012-01</td>\n      <td id=\"T_74911_row1_col1\" class=\"data row1 col1\" >715388</td>\n      <td id=\"T_74911_row1_col2\" class=\"data row1 col2\" >14533</td>\n      <td id=\"T_74911_row1_col3\" class=\"data row1 col3\" >513216</td>\n      <td id=\"T_74911_row1_col4\" class=\"data row1 col4\" >B</td>\n      <td id=\"T_74911_row1_col5\" class=\"data row1 col5\" >35.313837</td>\n      <td id=\"T_74911_row1_col6\" class=\"data row1 col6\" >0.020315</td>\n    </tr>\n    <tr>\n      <th id=\"T_74911_level0_row2\" class=\"row_heading level0 row2\" >2</th>\n      <td id=\"T_74911_row2_col0\" class=\"data row2 col0\" >2012-02</td>\n      <td id=\"T_74911_row2_col1\" class=\"data row2 col1\" >2044201</td>\n      <td id=\"T_74911_row2_col2\" class=\"data row2 col2\" >333324</td>\n      <td id=\"T_74911_row2_col3\" class=\"data row2 col3\" >761896</td>\n      <td id=\"T_74911_row2_col4\" class=\"data row2 col4\" >A</td>\n      <td id=\"T_74911_row2_col5\" class=\"data row2 col5\" >2.285752</td>\n      <td id=\"T_74911_row2_col6\" class=\"data row2 col6\" >0.163058</td>\n    </tr>\n  </tbody>\n</table>\n"
     },
     "metadata": {},
     "output_type": "display_data"
    }
   ],
   "source": [
    "# format the date as YYYY-MM\n",
    "styler = df.iloc[:3].style.format({'Month':'{:%Y-%m}'})\n",
    "if styler:\n",
    "    display(styler)"
   ],
   "metadata": {
    "collapsed": false,
    "ExecuteTime": {
     "end_time": "2023-12-17T16:09:02.927887Z",
     "start_time": "2023-12-17T16:09:02.611187Z"
    }
   },
   "id": "7807b2b26b270e97"
  },
  {
   "cell_type": "markdown",
   "source": [
    "Now, we can improve readability even further by using the name of each month rather than the month number, and we can do this __*without having to alter the underlying data*__."
   ],
   "metadata": {
    "collapsed": false
   },
   "id": "819d1307cccad3eb"
  },
  {
   "cell_type": "code",
   "execution_count": 7,
   "outputs": [
    {
     "data": {
      "text/plain": "<pandas.io.formats.style.Styler at 0x1273c36d0>",
      "text/html": "<style type=\"text/css\">\n</style>\n<table id=\"T_23c21\">\n  <thead>\n    <tr>\n      <th class=\"blank level0\" >&nbsp;</th>\n      <th id=\"T_23c21_level0_col0\" class=\"col_heading level0 col0\" >Month</th>\n      <th id=\"T_23c21_level0_col1\" class=\"col_heading level0 col1\" >Quotes</th>\n      <th id=\"T_23c21_level0_col2\" class=\"col_heading level0 col2\" >Numbers</th>\n      <th id=\"T_23c21_level0_col3\" class=\"col_heading level0 col3\" >Amounts</th>\n      <th id=\"T_23c21_level0_col4\" class=\"col_heading level0 col4\" >Product</th>\n      <th id=\"T_23c21_level0_col5\" class=\"col_heading level0 col5\" >Average sale</th>\n      <th id=\"T_23c21_level0_col6\" class=\"col_heading level0 col6\" >Product conversion</th>\n    </tr>\n  </thead>\n  <tbody>\n    <tr>\n      <th id=\"T_23c21_level0_row0\" class=\"row_heading level0 row0\" >0</th>\n      <td id=\"T_23c21_row0_col0\" class=\"data row0 col0\" >January 2012</td>\n      <td id=\"T_23c21_row0_col1\" class=\"data row0 col1\" >1644269</td>\n      <td id=\"T_23c21_row0_col2\" class=\"data row0 col2\" >426244</td>\n      <td id=\"T_23c21_row0_col3\" class=\"data row0 col3\" >1092055</td>\n      <td id=\"T_23c21_row0_col4\" class=\"data row0 col4\" >A</td>\n      <td id=\"T_23c21_row0_col5\" class=\"data row0 col5\" >2.562042</td>\n      <td id=\"T_23c21_row0_col6\" class=\"data row0 col6\" >0.259230</td>\n    </tr>\n    <tr>\n      <th id=\"T_23c21_level0_row1\" class=\"row_heading level0 row1\" >1</th>\n      <td id=\"T_23c21_row1_col0\" class=\"data row1 col0\" >January 2012</td>\n      <td id=\"T_23c21_row1_col1\" class=\"data row1 col1\" >715388</td>\n      <td id=\"T_23c21_row1_col2\" class=\"data row1 col2\" >14533</td>\n      <td id=\"T_23c21_row1_col3\" class=\"data row1 col3\" >513216</td>\n      <td id=\"T_23c21_row1_col4\" class=\"data row1 col4\" >B</td>\n      <td id=\"T_23c21_row1_col5\" class=\"data row1 col5\" >35.313837</td>\n      <td id=\"T_23c21_row1_col6\" class=\"data row1 col6\" >0.020315</td>\n    </tr>\n    <tr>\n      <th id=\"T_23c21_level0_row2\" class=\"row_heading level0 row2\" >2</th>\n      <td id=\"T_23c21_row2_col0\" class=\"data row2 col0\" >February 2012</td>\n      <td id=\"T_23c21_row2_col1\" class=\"data row2 col1\" >2044201</td>\n      <td id=\"T_23c21_row2_col2\" class=\"data row2 col2\" >333324</td>\n      <td id=\"T_23c21_row2_col3\" class=\"data row2 col3\" >761896</td>\n      <td id=\"T_23c21_row2_col4\" class=\"data row2 col4\" >A</td>\n      <td id=\"T_23c21_row2_col5\" class=\"data row2 col5\" >2.285752</td>\n      <td id=\"T_23c21_row2_col6\" class=\"data row2 col6\" >0.163058</td>\n    </tr>\n  </tbody>\n</table>\n"
     },
     "metadata": {},
     "output_type": "display_data"
    }
   ],
   "source": [
    "styler = df.iloc[:3].style.format({'Month':'{:%B %Y}'})\n",
    "if styler:\n",
    "    display(styler)"
   ],
   "metadata": {
    "collapsed": false,
    "ExecuteTime": {
     "end_time": "2023-12-17T16:09:02.932047Z",
     "start_time": "2023-12-17T16:09:02.929106Z"
    }
   },
   "id": "3c04c43c3b23279a"
  },
  {
   "cell_type": "markdown",
   "source": [
    "Maybe a little too wordy now — let’s use abbreviations instead (e.g. “Jan” instead of “January”) and we’ll also add a comma before the year."
   ],
   "metadata": {
    "collapsed": false
   },
   "id": "29fa55f909212272"
  },
  {
   "cell_type": "code",
   "execution_count": 8,
   "outputs": [
    {
     "data": {
      "text/plain": "<pandas.io.formats.style.Styler at 0x1260af1c0>",
      "text/html": "<style type=\"text/css\">\n</style>\n<table id=\"T_23d7c\">\n  <thead>\n    <tr>\n      <th class=\"blank level0\" >&nbsp;</th>\n      <th id=\"T_23d7c_level0_col0\" class=\"col_heading level0 col0\" >Month</th>\n      <th id=\"T_23d7c_level0_col1\" class=\"col_heading level0 col1\" >Quotes</th>\n      <th id=\"T_23d7c_level0_col2\" class=\"col_heading level0 col2\" >Numbers</th>\n      <th id=\"T_23d7c_level0_col3\" class=\"col_heading level0 col3\" >Amounts</th>\n      <th id=\"T_23d7c_level0_col4\" class=\"col_heading level0 col4\" >Product</th>\n      <th id=\"T_23d7c_level0_col5\" class=\"col_heading level0 col5\" >Average sale</th>\n      <th id=\"T_23d7c_level0_col6\" class=\"col_heading level0 col6\" >Product conversion</th>\n    </tr>\n  </thead>\n  <tbody>\n    <tr>\n      <th id=\"T_23d7c_level0_row0\" class=\"row_heading level0 row0\" >0</th>\n      <td id=\"T_23d7c_row0_col0\" class=\"data row0 col0\" >Jan, 2012</td>\n      <td id=\"T_23d7c_row0_col1\" class=\"data row0 col1\" >1644269</td>\n      <td id=\"T_23d7c_row0_col2\" class=\"data row0 col2\" >426244</td>\n      <td id=\"T_23d7c_row0_col3\" class=\"data row0 col3\" >1092055</td>\n      <td id=\"T_23d7c_row0_col4\" class=\"data row0 col4\" >A</td>\n      <td id=\"T_23d7c_row0_col5\" class=\"data row0 col5\" >2.562042</td>\n      <td id=\"T_23d7c_row0_col6\" class=\"data row0 col6\" >0.259230</td>\n    </tr>\n    <tr>\n      <th id=\"T_23d7c_level0_row1\" class=\"row_heading level0 row1\" >1</th>\n      <td id=\"T_23d7c_row1_col0\" class=\"data row1 col0\" >Jan, 2012</td>\n      <td id=\"T_23d7c_row1_col1\" class=\"data row1 col1\" >715388</td>\n      <td id=\"T_23d7c_row1_col2\" class=\"data row1 col2\" >14533</td>\n      <td id=\"T_23d7c_row1_col3\" class=\"data row1 col3\" >513216</td>\n      <td id=\"T_23d7c_row1_col4\" class=\"data row1 col4\" >B</td>\n      <td id=\"T_23d7c_row1_col5\" class=\"data row1 col5\" >35.313837</td>\n      <td id=\"T_23d7c_row1_col6\" class=\"data row1 col6\" >0.020315</td>\n    </tr>\n    <tr>\n      <th id=\"T_23d7c_level0_row2\" class=\"row_heading level0 row2\" >2</th>\n      <td id=\"T_23d7c_row2_col0\" class=\"data row2 col0\" >Feb, 2012</td>\n      <td id=\"T_23d7c_row2_col1\" class=\"data row2 col1\" >2044201</td>\n      <td id=\"T_23d7c_row2_col2\" class=\"data row2 col2\" >333324</td>\n      <td id=\"T_23d7c_row2_col3\" class=\"data row2 col3\" >761896</td>\n      <td id=\"T_23d7c_row2_col4\" class=\"data row2 col4\" >A</td>\n      <td id=\"T_23d7c_row2_col5\" class=\"data row2 col5\" >2.285752</td>\n      <td id=\"T_23d7c_row2_col6\" class=\"data row2 col6\" >0.163058</td>\n    </tr>\n  </tbody>\n</table>\n"
     },
     "metadata": {},
     "output_type": "display_data"
    }
   ],
   "source": [
    "styler = df.iloc[:3].style.format({'Month':'{:%b, %Y}'})\n",
    "if styler:\n",
    "    display(styler)"
   ],
   "metadata": {
    "collapsed": false,
    "ExecuteTime": {
     "end_time": "2023-12-17T16:09:02.937555Z",
     "start_time": "2023-12-17T16:09:02.932548Z"
    }
   },
   "id": "9a0c551a3292a090"
  },
  {
   "cell_type": "markdown",
   "source": [
    "## Formatting numbers with a thousand separator\n",
    "A fairly straightforward formatting experience here as we separate thousands of Quotes and Numbers using commas.\n",
    "\n",
    "What is important to note however, is that if we also want to retain the formatting we applied to the Month column (we do), then we need to extend the formatting dictionary. \n"
   ],
   "metadata": {
    "collapsed": false
   },
   "id": "b4b80c9da9d9fca2"
  },
  {
   "cell_type": "code",
   "execution_count": 9,
   "outputs": [
    {
     "data": {
      "text/plain": "<pandas.io.formats.style.Styler at 0x1260afa60>",
      "text/html": "<style type=\"text/css\">\n</style>\n<table id=\"T_022ee\">\n  <thead>\n    <tr>\n      <th class=\"blank level0\" >&nbsp;</th>\n      <th id=\"T_022ee_level0_col0\" class=\"col_heading level0 col0\" >Month</th>\n      <th id=\"T_022ee_level0_col1\" class=\"col_heading level0 col1\" >Quotes</th>\n      <th id=\"T_022ee_level0_col2\" class=\"col_heading level0 col2\" >Numbers</th>\n      <th id=\"T_022ee_level0_col3\" class=\"col_heading level0 col3\" >Amounts</th>\n      <th id=\"T_022ee_level0_col4\" class=\"col_heading level0 col4\" >Product</th>\n      <th id=\"T_022ee_level0_col5\" class=\"col_heading level0 col5\" >Average sale</th>\n      <th id=\"T_022ee_level0_col6\" class=\"col_heading level0 col6\" >Product conversion</th>\n    </tr>\n  </thead>\n  <tbody>\n    <tr>\n      <th id=\"T_022ee_level0_row0\" class=\"row_heading level0 row0\" >0</th>\n      <td id=\"T_022ee_row0_col0\" class=\"data row0 col0\" >Jan, 2012</td>\n      <td id=\"T_022ee_row0_col1\" class=\"data row0 col1\" >1,644,269</td>\n      <td id=\"T_022ee_row0_col2\" class=\"data row0 col2\" >426,244</td>\n      <td id=\"T_022ee_row0_col3\" class=\"data row0 col3\" >1092055</td>\n      <td id=\"T_022ee_row0_col4\" class=\"data row0 col4\" >A</td>\n      <td id=\"T_022ee_row0_col5\" class=\"data row0 col5\" >2.562042</td>\n      <td id=\"T_022ee_row0_col6\" class=\"data row0 col6\" >0.259230</td>\n    </tr>\n    <tr>\n      <th id=\"T_022ee_level0_row1\" class=\"row_heading level0 row1\" >1</th>\n      <td id=\"T_022ee_row1_col0\" class=\"data row1 col0\" >Jan, 2012</td>\n      <td id=\"T_022ee_row1_col1\" class=\"data row1 col1\" >715,388</td>\n      <td id=\"T_022ee_row1_col2\" class=\"data row1 col2\" >14,533</td>\n      <td id=\"T_022ee_row1_col3\" class=\"data row1 col3\" >513216</td>\n      <td id=\"T_022ee_row1_col4\" class=\"data row1 col4\" >B</td>\n      <td id=\"T_022ee_row1_col5\" class=\"data row1 col5\" >35.313837</td>\n      <td id=\"T_022ee_row1_col6\" class=\"data row1 col6\" >0.020315</td>\n    </tr>\n    <tr>\n      <th id=\"T_022ee_level0_row2\" class=\"row_heading level0 row2\" >2</th>\n      <td id=\"T_022ee_row2_col0\" class=\"data row2 col0\" >Feb, 2012</td>\n      <td id=\"T_022ee_row2_col1\" class=\"data row2 col1\" >2,044,201</td>\n      <td id=\"T_022ee_row2_col2\" class=\"data row2 col2\" >333,324</td>\n      <td id=\"T_022ee_row2_col3\" class=\"data row2 col3\" >761896</td>\n      <td id=\"T_022ee_row2_col4\" class=\"data row2 col4\" >A</td>\n      <td id=\"T_022ee_row2_col5\" class=\"data row2 col5\" >2.285752</td>\n      <td id=\"T_022ee_row2_col6\" class=\"data row2 col6\" >0.163058</td>\n    </tr>\n  </tbody>\n</table>\n"
     },
     "metadata": {},
     "output_type": "display_data"
    }
   ],
   "source": [
    "styler = df.iloc[:3].style.format(\n",
    "    {\n",
    "        'Month':'{:%b, %Y}',\n",
    "        'Quotes':'{:,.0f}',\n",
    "        'Numbers':'{:,.0f}'\n",
    "    }\n",
    ")\n",
    "if styler:\n",
    "    display(styler)"
   ],
   "metadata": {
    "collapsed": false,
    "ExecuteTime": {
     "end_time": "2023-12-17T16:09:02.942121Z",
     "start_time": "2023-12-17T16:09:02.937008Z"
    }
   },
   "id": "7b50c001d081c0da"
  },
  {
   "cell_type": "markdown",
   "source": [
    "## Formatting currencies\n",
    "The Widget Company just so happens to produce and sell its widgets in a country that uses a currency denoted by £ (I hope somewhere warmer and sunnier than the country where I earn my £).\n",
    "\n",
    "Let’s reflect that in the table, reminding ourselves that:\n",
    "\n",
    "- At an overall level, using decimal points is probably a little much\n",
    "- At a lower level — say for instance, the average sale value — using decimals can be useful.\n",
    "So we add currency formatting for Amounts and Average sale to our formatting dictionary:"
   ],
   "metadata": {
    "collapsed": false
   },
   "id": "53db94d3889bf0a"
  },
  {
   "cell_type": "code",
   "execution_count": 10,
   "outputs": [
    {
     "data": {
      "text/plain": "<pandas.io.formats.style.Styler at 0x1273c3820>",
      "text/html": "<style type=\"text/css\">\n</style>\n<table id=\"T_84f2d\">\n  <thead>\n    <tr>\n      <th class=\"blank level0\" >&nbsp;</th>\n      <th id=\"T_84f2d_level0_col0\" class=\"col_heading level0 col0\" >Month</th>\n      <th id=\"T_84f2d_level0_col1\" class=\"col_heading level0 col1\" >Quotes</th>\n      <th id=\"T_84f2d_level0_col2\" class=\"col_heading level0 col2\" >Numbers</th>\n      <th id=\"T_84f2d_level0_col3\" class=\"col_heading level0 col3\" >Amounts</th>\n      <th id=\"T_84f2d_level0_col4\" class=\"col_heading level0 col4\" >Product</th>\n      <th id=\"T_84f2d_level0_col5\" class=\"col_heading level0 col5\" >Average sale</th>\n      <th id=\"T_84f2d_level0_col6\" class=\"col_heading level0 col6\" >Product conversion</th>\n    </tr>\n  </thead>\n  <tbody>\n    <tr>\n      <th id=\"T_84f2d_level0_row0\" class=\"row_heading level0 row0\" >0</th>\n      <td id=\"T_84f2d_row0_col0\" class=\"data row0 col0\" >Jan, 2012</td>\n      <td id=\"T_84f2d_row0_col1\" class=\"data row0 col1\" >1,644,269</td>\n      <td id=\"T_84f2d_row0_col2\" class=\"data row0 col2\" >426,244</td>\n      <td id=\"T_84f2d_row0_col3\" class=\"data row0 col3\" >£1,092,055</td>\n      <td id=\"T_84f2d_row0_col4\" class=\"data row0 col4\" >A</td>\n      <td id=\"T_84f2d_row0_col5\" class=\"data row0 col5\" >£2.56</td>\n      <td id=\"T_84f2d_row0_col6\" class=\"data row0 col6\" >0.259230</td>\n    </tr>\n    <tr>\n      <th id=\"T_84f2d_level0_row1\" class=\"row_heading level0 row1\" >1</th>\n      <td id=\"T_84f2d_row1_col0\" class=\"data row1 col0\" >Jan, 2012</td>\n      <td id=\"T_84f2d_row1_col1\" class=\"data row1 col1\" >715,388</td>\n      <td id=\"T_84f2d_row1_col2\" class=\"data row1 col2\" >14,533</td>\n      <td id=\"T_84f2d_row1_col3\" class=\"data row1 col3\" >£513,216</td>\n      <td id=\"T_84f2d_row1_col4\" class=\"data row1 col4\" >B</td>\n      <td id=\"T_84f2d_row1_col5\" class=\"data row1 col5\" >£35.31</td>\n      <td id=\"T_84f2d_row1_col6\" class=\"data row1 col6\" >0.020315</td>\n    </tr>\n    <tr>\n      <th id=\"T_84f2d_level0_row2\" class=\"row_heading level0 row2\" >2</th>\n      <td id=\"T_84f2d_row2_col0\" class=\"data row2 col0\" >Feb, 2012</td>\n      <td id=\"T_84f2d_row2_col1\" class=\"data row2 col1\" >2,044,201</td>\n      <td id=\"T_84f2d_row2_col2\" class=\"data row2 col2\" >333,324</td>\n      <td id=\"T_84f2d_row2_col3\" class=\"data row2 col3\" >£761,896</td>\n      <td id=\"T_84f2d_row2_col4\" class=\"data row2 col4\" >A</td>\n      <td id=\"T_84f2d_row2_col5\" class=\"data row2 col5\" >£2.29</td>\n      <td id=\"T_84f2d_row2_col6\" class=\"data row2 col6\" >0.163058</td>\n    </tr>\n  </tbody>\n</table>\n"
     },
     "metadata": {},
     "output_type": "display_data"
    }
   ],
   "source": [
    "styler = df.iloc[:3].style.format(\n",
    "    {\n",
    "        'Month':'{:%b, %Y}',\n",
    "        'Quotes':'{:,.0f}',\n",
    "        'Numbers':'{:,.0f}',\n",
    "        'Amounts':'£{:,.0f}',\n",
    "        'Average sale':'£{:,.2f}'\n",
    "    }\n",
    ")\n",
    "if styler:\n",
    "    display(styler)\n",
    "    \n",
    "# breakpoint()"
   ],
   "metadata": {
    "collapsed": false,
    "ExecuteTime": {
     "end_time": "2023-12-17T16:09:02.947109Z",
     "start_time": "2023-12-17T16:09:02.941704Z"
    }
   },
   "id": "4dce7fd0f8f8b497"
  },
  {
   "cell_type": "markdown",
   "source": [
    "## Formatting percentages\n",
    "Another fairly straightforward formatting step, it’s much easier to view ratios when they are expressed as percentages rather than floating point numbers.\n",
    "\n",
    "We’ll add Product conversion to our formatting dictionary:"
   ],
   "metadata": {
    "collapsed": false
   },
   "id": "27a3c679bcfd8605"
  },
  {
   "cell_type": "code",
   "execution_count": 11,
   "outputs": [
    {
     "data": {
      "text/plain": "<pandas.io.formats.style.Styler at 0x1260af220>",
      "text/html": "<style type=\"text/css\">\n</style>\n<table id=\"T_0e02d\">\n  <thead>\n    <tr>\n      <th class=\"blank level0\" >&nbsp;</th>\n      <th id=\"T_0e02d_level0_col0\" class=\"col_heading level0 col0\" >Month</th>\n      <th id=\"T_0e02d_level0_col1\" class=\"col_heading level0 col1\" >Quotes</th>\n      <th id=\"T_0e02d_level0_col2\" class=\"col_heading level0 col2\" >Numbers</th>\n      <th id=\"T_0e02d_level0_col3\" class=\"col_heading level0 col3\" >Amounts</th>\n      <th id=\"T_0e02d_level0_col4\" class=\"col_heading level0 col4\" >Product</th>\n      <th id=\"T_0e02d_level0_col5\" class=\"col_heading level0 col5\" >Average sale</th>\n      <th id=\"T_0e02d_level0_col6\" class=\"col_heading level0 col6\" >Product conversion</th>\n    </tr>\n  </thead>\n  <tbody>\n    <tr>\n      <th id=\"T_0e02d_level0_row0\" class=\"row_heading level0 row0\" >0</th>\n      <td id=\"T_0e02d_row0_col0\" class=\"data row0 col0\" >Jan, 2012</td>\n      <td id=\"T_0e02d_row0_col1\" class=\"data row0 col1\" >1,644,269</td>\n      <td id=\"T_0e02d_row0_col2\" class=\"data row0 col2\" >426,244</td>\n      <td id=\"T_0e02d_row0_col3\" class=\"data row0 col3\" >£1,092,055</td>\n      <td id=\"T_0e02d_row0_col4\" class=\"data row0 col4\" >A</td>\n      <td id=\"T_0e02d_row0_col5\" class=\"data row0 col5\" >£2.56</td>\n      <td id=\"T_0e02d_row0_col6\" class=\"data row0 col6\" >25.92%</td>\n    </tr>\n    <tr>\n      <th id=\"T_0e02d_level0_row1\" class=\"row_heading level0 row1\" >1</th>\n      <td id=\"T_0e02d_row1_col0\" class=\"data row1 col0\" >Jan, 2012</td>\n      <td id=\"T_0e02d_row1_col1\" class=\"data row1 col1\" >715,388</td>\n      <td id=\"T_0e02d_row1_col2\" class=\"data row1 col2\" >14,533</td>\n      <td id=\"T_0e02d_row1_col3\" class=\"data row1 col3\" >£513,216</td>\n      <td id=\"T_0e02d_row1_col4\" class=\"data row1 col4\" >B</td>\n      <td id=\"T_0e02d_row1_col5\" class=\"data row1 col5\" >£35.31</td>\n      <td id=\"T_0e02d_row1_col6\" class=\"data row1 col6\" >2.03%</td>\n    </tr>\n    <tr>\n      <th id=\"T_0e02d_level0_row2\" class=\"row_heading level0 row2\" >2</th>\n      <td id=\"T_0e02d_row2_col0\" class=\"data row2 col0\" >Feb, 2012</td>\n      <td id=\"T_0e02d_row2_col1\" class=\"data row2 col1\" >2,044,201</td>\n      <td id=\"T_0e02d_row2_col2\" class=\"data row2 col2\" >333,324</td>\n      <td id=\"T_0e02d_row2_col3\" class=\"data row2 col3\" >£761,896</td>\n      <td id=\"T_0e02d_row2_col4\" class=\"data row2 col4\" >A</td>\n      <td id=\"T_0e02d_row2_col5\" class=\"data row2 col5\" >£2.29</td>\n      <td id=\"T_0e02d_row2_col6\" class=\"data row2 col6\" >16.31%</td>\n    </tr>\n  </tbody>\n</table>\n"
     },
     "metadata": {},
     "output_type": "display_data"
    }
   ],
   "source": [
    "styler = df.iloc[:3].style.format(\n",
    "    {\n",
    "        'Month':'{:%b, %Y}',\n",
    "        'Quotes':'{:,.0f}',\n",
    "        'Numbers':'{:,.0f}',\n",
    "        'Amounts':'£{:,.0f}',\n",
    "        'Average sale':'£{:,.2f}',\n",
    "        'Product conversion':'{:.2%}'\n",
    "    }\n",
    ")\n",
    "if styler:\n",
    "    display(styler)\n",
    "    \n",
    "# breakpoint()"
   ],
   "metadata": {
    "collapsed": false,
    "ExecuteTime": {
     "end_time": "2023-12-17T16:09:02.962007Z",
     "start_time": "2023-12-17T16:09:02.950999Z"
    }
   },
   "id": "611a89a27e772a20"
  },
  {
   "cell_type": "markdown",
   "source": [
    "## Hiding Indexes\n",
    "The index is a useful thing to have, but it’s not always necessary to display it. In this case, we can hide it by setting index = False:\n"
   ],
   "metadata": {
    "collapsed": false
   },
   "id": "e9579121e2ae3ead"
  },
  {
   "cell_type": "code",
   "execution_count": 12,
   "outputs": [
    {
     "data": {
      "text/plain": "<pandas.io.formats.style.Styler at 0x1273fdd90>",
      "text/html": "<style type=\"text/css\">\n</style>\n<table id=\"T_b9bfb\">\n  <thead>\n    <tr>\n      <th id=\"T_b9bfb_level0_col0\" class=\"col_heading level0 col0\" >Month</th>\n      <th id=\"T_b9bfb_level0_col1\" class=\"col_heading level0 col1\" >Quotes</th>\n      <th id=\"T_b9bfb_level0_col2\" class=\"col_heading level0 col2\" >Numbers</th>\n      <th id=\"T_b9bfb_level0_col3\" class=\"col_heading level0 col3\" >Amounts</th>\n      <th id=\"T_b9bfb_level0_col4\" class=\"col_heading level0 col4\" >Product</th>\n      <th id=\"T_b9bfb_level0_col5\" class=\"col_heading level0 col5\" >Average sale</th>\n      <th id=\"T_b9bfb_level0_col6\" class=\"col_heading level0 col6\" >Product conversion</th>\n    </tr>\n  </thead>\n  <tbody>\n    <tr>\n      <td id=\"T_b9bfb_row0_col0\" class=\"data row0 col0\" >Jan, 2012</td>\n      <td id=\"T_b9bfb_row0_col1\" class=\"data row0 col1\" >1,644,269</td>\n      <td id=\"T_b9bfb_row0_col2\" class=\"data row0 col2\" >426,244</td>\n      <td id=\"T_b9bfb_row0_col3\" class=\"data row0 col3\" >£1,092,055</td>\n      <td id=\"T_b9bfb_row0_col4\" class=\"data row0 col4\" >A</td>\n      <td id=\"T_b9bfb_row0_col5\" class=\"data row0 col5\" >£2.56</td>\n      <td id=\"T_b9bfb_row0_col6\" class=\"data row0 col6\" >25.92%</td>\n    </tr>\n    <tr>\n      <td id=\"T_b9bfb_row1_col0\" class=\"data row1 col0\" >Jan, 2012</td>\n      <td id=\"T_b9bfb_row1_col1\" class=\"data row1 col1\" >715,388</td>\n      <td id=\"T_b9bfb_row1_col2\" class=\"data row1 col2\" >14,533</td>\n      <td id=\"T_b9bfb_row1_col3\" class=\"data row1 col3\" >£513,216</td>\n      <td id=\"T_b9bfb_row1_col4\" class=\"data row1 col4\" >B</td>\n      <td id=\"T_b9bfb_row1_col5\" class=\"data row1 col5\" >£35.31</td>\n      <td id=\"T_b9bfb_row1_col6\" class=\"data row1 col6\" >2.03%</td>\n    </tr>\n    <tr>\n      <td id=\"T_b9bfb_row2_col0\" class=\"data row2 col0\" >Feb, 2012</td>\n      <td id=\"T_b9bfb_row2_col1\" class=\"data row2 col1\" >2,044,201</td>\n      <td id=\"T_b9bfb_row2_col2\" class=\"data row2 col2\" >333,324</td>\n      <td id=\"T_b9bfb_row2_col3\" class=\"data row2 col3\" >£761,896</td>\n      <td id=\"T_b9bfb_row2_col4\" class=\"data row2 col4\" >A</td>\n      <td id=\"T_b9bfb_row2_col5\" class=\"data row2 col5\" >£2.29</td>\n      <td id=\"T_b9bfb_row2_col6\" class=\"data row2 col6\" >16.31%</td>\n    </tr>\n  </tbody>\n</table>\n"
     },
     "metadata": {},
     "output_type": "display_data"
    }
   ],
   "source": [
    "styler = df.iloc[:3].style.format(\n",
    "    {\n",
    "        'Month':'{:%b, %Y}',\n",
    "        'Quotes':'{:,.0f}',\n",
    "        'Numbers':'{:,.0f}',\n",
    "        'Amounts':'£{:,.0f}',\n",
    "        'Average sale':'£{:,.2f}',\n",
    "        'Product conversion':'{:.2%}'\n",
    "    }\n",
    ").hide()  # hide the index\n",
    "\n",
    "if styler:\n",
    "    display(styler)\n",
    "    \n",
    "# breakpoint()\n"
   ],
   "metadata": {
    "collapsed": false,
    "ExecuteTime": {
     "end_time": "2023-12-17T16:09:02.962672Z",
     "start_time": "2023-12-17T16:09:02.953864Z"
    }
   },
   "id": "fc7c7573ec0cc853"
  },
  {
   "cell_type": "markdown",
   "source": [
    "## Conditional Formatting\n",
    "Conditional formatting is a great way to highlight certain values in a table. For instance, we might want to highlight the highest and lowest values in each column.\n",
    "Let's start with highlighting rows if an element of the row meets a given condition — in this case, highlight all rows containing information relating to product A.\n",
    "\n",
    "We do this in two steps:\n",
    "\n",
    "1. Define the function highlight_product which returns a string if the given condition is met (that is, if the row relates to the specified product). The string contains a format command that we will pass through to the Styler.\n",
    "2. The resulting format command is fed through using the apply command.\n",
    "\n"
   ],
   "metadata": {
    "collapsed": false
   },
   "id": "db9279cdcd756f3"
  },
  {
   "cell_type": "code",
   "execution_count": 15,
   "outputs": [
    {
     "data": {
      "text/plain": "<pandas.io.formats.style.Styler at 0x109c20d60>",
      "text/html": "<style type=\"text/css\">\n#T_b7782_row0_col0, #T_b7782_row0_col1, #T_b7782_row0_col2, #T_b7782_row0_col3, #T_b7782_row0_col4, #T_b7782_row0_col5, #T_b7782_row0_col6, #T_b7782_row2_col0, #T_b7782_row2_col1, #T_b7782_row2_col2, #T_b7782_row2_col3, #T_b7782_row2_col4, #T_b7782_row2_col5, #T_b7782_row2_col6 {\n  background-color: yellow;\n}\n</style>\n<table id=\"T_b7782\">\n  <thead>\n    <tr>\n      <th id=\"T_b7782_level0_col0\" class=\"col_heading level0 col0\" >Month</th>\n      <th id=\"T_b7782_level0_col1\" class=\"col_heading level0 col1\" >Quotes</th>\n      <th id=\"T_b7782_level0_col2\" class=\"col_heading level0 col2\" >Numbers</th>\n      <th id=\"T_b7782_level0_col3\" class=\"col_heading level0 col3\" >Amounts</th>\n      <th id=\"T_b7782_level0_col4\" class=\"col_heading level0 col4\" >Product</th>\n      <th id=\"T_b7782_level0_col5\" class=\"col_heading level0 col5\" >Average sale</th>\n      <th id=\"T_b7782_level0_col6\" class=\"col_heading level0 col6\" >Product conversion</th>\n    </tr>\n  </thead>\n  <tbody>\n    <tr>\n      <td id=\"T_b7782_row0_col0\" class=\"data row0 col0\" >Jan, 2012</td>\n      <td id=\"T_b7782_row0_col1\" class=\"data row0 col1\" >1,644,269</td>\n      <td id=\"T_b7782_row0_col2\" class=\"data row0 col2\" >426,244</td>\n      <td id=\"T_b7782_row0_col3\" class=\"data row0 col3\" >£1,092,055</td>\n      <td id=\"T_b7782_row0_col4\" class=\"data row0 col4\" >A</td>\n      <td id=\"T_b7782_row0_col5\" class=\"data row0 col5\" >£2.56</td>\n      <td id=\"T_b7782_row0_col6\" class=\"data row0 col6\" >25.92%</td>\n    </tr>\n    <tr>\n      <td id=\"T_b7782_row1_col0\" class=\"data row1 col0\" >Jan, 2012</td>\n      <td id=\"T_b7782_row1_col1\" class=\"data row1 col1\" >715,388</td>\n      <td id=\"T_b7782_row1_col2\" class=\"data row1 col2\" >14,533</td>\n      <td id=\"T_b7782_row1_col3\" class=\"data row1 col3\" >£513,216</td>\n      <td id=\"T_b7782_row1_col4\" class=\"data row1 col4\" >B</td>\n      <td id=\"T_b7782_row1_col5\" class=\"data row1 col5\" >£35.31</td>\n      <td id=\"T_b7782_row1_col6\" class=\"data row1 col6\" >2.03%</td>\n    </tr>\n    <tr>\n      <td id=\"T_b7782_row2_col0\" class=\"data row2 col0\" >Feb, 2012</td>\n      <td id=\"T_b7782_row2_col1\" class=\"data row2 col1\" >2,044,201</td>\n      <td id=\"T_b7782_row2_col2\" class=\"data row2 col2\" >333,324</td>\n      <td id=\"T_b7782_row2_col3\" class=\"data row2 col3\" >£761,896</td>\n      <td id=\"T_b7782_row2_col4\" class=\"data row2 col4\" >A</td>\n      <td id=\"T_b7782_row2_col5\" class=\"data row2 col5\" >£2.29</td>\n      <td id=\"T_b7782_row2_col6\" class=\"data row2 col6\" >16.31%</td>\n    </tr>\n  </tbody>\n</table>\n"
     },
     "metadata": {},
     "output_type": "display_data"
    }
   ],
   "source": [
    "def highlight_product(row, product, background_color='yellow'):\n",
    "    if row['Product'] == product:\n",
    "        return len(row) * [f'background-color: {background_color}']\n",
    "    else:\n",
    "        return len(row) * ['']\n",
    "    \n",
    "styler = df.iloc[:3].style\\\n",
    "    .apply(  # apply the conditional formatting\n",
    "        highlight_product,\n",
    "        product = 'A',\n",
    "        axis = 1\n",
    "    ).format(  # format the table\n",
    "        {\n",
    "            'Month':'{:%b, %Y}',\n",
    "            'Quotes':'{:,.0f}',\n",
    "            'Numbers':'{:,.0f}',\n",
    "            'Amounts':'£{:,.0f}',\n",
    "            'Average sale':'£{:,.2f}',\n",
    "            'Product conversion':'{:.2%}'\n",
    "        }\n",
    "    ).hide()  # hide the index  \n",
    "\n",
    "if styler:\n",
    "    display(styler)\n",
    "    \n",
    "# breakpoint()   "
   ],
   "metadata": {
    "collapsed": false,
    "ExecuteTime": {
     "end_time": "2023-12-17T16:21:41.674111Z",
     "start_time": "2023-12-17T16:09:23.588699Z"
    }
   },
   "id": "15cd10687eb7588c"
  },
  {
   "cell_type": "markdown",
   "source": [
    "## Highlighting the highest and lowest values in each column\n",
    "We can also highlight the highest and lowest values in each column. We do this in two steps:\n",
    "1. Define the function highlight_min_max which returns a string if the given condition is met (that is, if the value is the highest or lowest in the column). The string contains a format command that we will pass through to the Styler.\n",
    "2. The resulting format command is fed through using the applymap command.\n",
    "3. We also add a gradient to the table using the background_gradient command.\n",
    "4. Finally, we add a caption to the table using the set_caption command.\n",
    "5. We can also add a title to the table using the set_table_styles command.   "
   ],
   "metadata": {
    "collapsed": false
   },
   "id": "b4df387b5be3c3ca"
  },
  {
   "cell_type": "code",
   "execution_count": 14,
   "outputs": [],
   "source": [
    "def highlight_min_max(value, background_color='yellow'):\n",
    "    breakpoint()\n",
    "    # ret = ''\n",
    "    if value == value.min():\n",
    "        ret = f'background-color: {background_color}'\n",
    "    elif value == value.max():\n",
    "        ret = f'background-color: {background_color}'\n",
    "    else:\n",
    "        ret = ''\n",
    "    print(ret)\n",
    "    return ret\n",
    "\n",
    "styler = df.style\\\n",
    "    .highlight_min(color='pink')\\\n",
    "    .highlight_max(color='lightgreen')\\\n",
    "    .format(  # format the table\n",
    "        {\n",
    "            'Month':'{:%b, %Y}',\n",
    "            'Quotes':'{:,.0f}',\n",
    "            'Numbers':'{:,.0f}',\n",
    "            'Amounts':'£{:,.0f}',\n",
    "            'Average sale':'£{:,.2f}',\n",
    "            'Product conversion':'{:.2%}'\n",
    "        }\n",
    "    ).hide()  # hide the index\n",
    "\n",
    "# breakpoint()\n",
    "\n"
   ],
   "metadata": {
    "collapsed": false,
    "ExecuteTime": {
     "end_time": "2023-12-17T16:09:02.970451Z",
     "start_time": "2023-12-17T16:09:02.965466Z"
    }
   },
   "id": "8ce1135556d076a4"
  },
  {
   "cell_type": "code",
   "execution_count": 14,
   "outputs": [],
   "source": [],
   "metadata": {
    "collapsed": false,
    "ExecuteTime": {
     "end_time": "2023-12-17T16:09:02.970767Z",
     "start_time": "2023-12-17T16:09:02.968208Z"
    }
   },
   "id": "3eb5a98c4f09ef2c"
  }
 ],
 "metadata": {
  "kernelspec": {
   "display_name": "Python 3",
   "language": "python",
   "name": "python3"
  },
  "language_info": {
   "codemirror_mode": {
    "name": "ipython",
    "version": 2
   },
   "file_extension": ".py",
   "mimetype": "text/x-python",
   "name": "python",
   "nbconvert_exporter": "python",
   "pygments_lexer": "ipython2",
   "version": "2.7.6"
  }
 },
 "nbformat": 4,
 "nbformat_minor": 5
}
