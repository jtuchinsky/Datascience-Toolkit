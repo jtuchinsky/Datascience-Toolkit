{
 "cells": [
  {
   "cell_type": "markdown",
   "source": [
    "# Formatting Tables in Pandas\n"
   ],
   "metadata": {
    "collapsed": false
   },
   "id": "b0f9d1a4fce40bb7"
  },
  {
   "cell_type": "code",
   "execution_count": null,
   "outputs": [],
   "source": [
    "# Import pandas\n",
    "import pandas as pd\n",
    "# Import numpy\n",
    "import numpy as np\n",
    "\n"
   ],
   "metadata": {
    "collapsed": false
   },
   "id": "3f6384416f65e69c"
  },
  {
   "cell_type": "markdown",
   "source": [
    "## The data\n",
    "Let's create some simulated data for two widgets, A and B. We'll create a dataframe for each widget, then concatenate them together. We'll also sort the dataframe by month and reset the index."
   ],
   "metadata": {
    "collapsed": false
   },
   "id": "10aea294c42f4a03"
  },
  {
   "cell_type": "code",
   "execution_count": null,
   "outputs": [],
   "source": [
    "# simulated data for widget A\n",
    "df_a = pd.DataFrame(\n",
    "    {\n",
    "        'Month':pd.date_range(\n",
    "            start = '01-01-2012',\n",
    "            end = '31-12-2022',\n",
    "            freq = 'MS'\n",
    "        ),\n",
    "        'Quotes':np.random.randint(\n",
    "            low = 1_000_000,\n",
    "            high = 2_500_000,\n",
    "            size = 132\n",
    "        ),\n",
    "        'Numbers':np.random.randint(\n",
    "            low = 300_000,\n",
    "            high = 500_000,\n",
    "            size = 132\n",
    "        ),\n",
    "        'Amounts':np.random.randint(\n",
    "            low = 750_000,\n",
    "            high = 1_250_000,\n",
    "            size = 132\n",
    "        )\n",
    "    }\n",
    ")\n",
    "\n",
    "df_a['Product'] = 'A'\n",
    "\n",
    "# simulated data for widget B\n",
    "df_b = pd.DataFrame(\n",
    "    {\n",
    "        'Month':pd.date_range(\n",
    "            start = '01-01-2012',\n",
    "            end = '31-12-2022',\n",
    "            freq = 'MS'\n",
    "        ),\n",
    "        'Quotes':np.random.randint(\n",
    "            low = 100_000,\n",
    "            high = 800_000,\n",
    "            size = 132\n",
    "        ),\n",
    "        'Numbers':np.random.randint(\n",
    "            low = 10_000,\n",
    "            high = 95_000,\n",
    "            size = 132\n",
    "        ),\n",
    "        'Amounts':np.random.randint(\n",
    "            low = 450_000,\n",
    "            high = 750_000,\n",
    "            size = 132\n",
    "        )\n",
    "    }\n",
    ")\n",
    "\n",
    "df_b['Product'] = 'B'\n",
    "\n",
    "# put it together & sort\n",
    "df = pd.concat([df_a,df_b],axis = 0)\n",
    "df.sort_values(by = 'Month',inplace = True)\n",
    "df.reset_index(drop = True,inplace = True)"
   ],
   "metadata": {
    "collapsed": false
   },
   "id": "cc675bd1d269bb2e"
  },
  {
   "cell_type": "markdown",
   "source": [
    "Let’s calculate a few “interesting” statistics — average sale amounts and product conversion:"
   ],
   "metadata": {
    "collapsed": false
   },
   "id": "d441044d0d55938f"
  },
  {
   "cell_type": "code",
   "execution_count": null,
   "outputs": [],
   "source": [
    "# average sale\n",
    "df['Average sale'] = df['Amounts'] / df['Numbers'].replace({0: np.nan})\n",
    "\n",
    "# conversion\n",
    "df['Product conversion'] = df['Numbers'] / df['Quotes'].replace({0: np.nan})"
   ],
   "metadata": {
    "collapsed": false
   },
   "id": "dd7fb5b107176fbb"
  },
  {
   "cell_type": "code",
   "execution_count": null,
   "outputs": [],
   "source": [
    "df.head(3)"
   ],
   "metadata": {
    "collapsed": false
   },
   "id": "760102e02bcf12da"
  },
  {
   "cell_type": "markdown",
   "source": [
    "## Date Formatting\n",
    "There’s arguably nothing __wrong__ with the formatting, but it could be better. For instance, since all the monthly data is reflected as at the first of each month, there’s probably little sense in keeping the day element of each Month entry as it tells the reader very little."
   ],
   "metadata": {
    "collapsed": false
   },
   "id": "f3a68e7d7a96b0ff"
  },
  {
   "cell_type": "code",
   "execution_count": null,
   "outputs": [],
   "source": [
    "# format the date as YYYY-MM\n",
    "styler = df.iloc[:3].style.format({'Month':'{:%Y-%m}'})\n",
    "if styler:\n",
    "    display(styler)"
   ],
   "metadata": {
    "collapsed": false
   },
   "id": "7807b2b26b270e97"
  },
  {
   "cell_type": "markdown",
   "source": [
    "Now, we can improve readability even further by using the name of each month rather than the month number, and we can do this __*without having to alter the underlying data*__."
   ],
   "metadata": {
    "collapsed": false
   },
   "id": "819d1307cccad3eb"
  },
  {
   "cell_type": "code",
   "execution_count": null,
   "outputs": [],
   "source": [
    "styler = df.iloc[:3].style.format({'Month':'{:%B %Y}'})\n",
    "if styler:\n",
    "    display(styler)"
   ],
   "metadata": {
    "collapsed": false
   },
   "id": "3c04c43c3b23279a"
  },
  {
   "cell_type": "markdown",
   "source": [
    "Maybe a little too wordy now — let’s use abbreviations instead (e.g. “Jan” instead of “January”) and we’ll also add a comma before the year."
   ],
   "metadata": {
    "collapsed": false
   },
   "id": "29fa55f909212272"
  },
  {
   "cell_type": "code",
   "execution_count": null,
   "outputs": [],
   "source": [
    "styler = df.iloc[:3].style.format({'Month':'{:%b, %Y}'})\n",
    "if styler:\n",
    "    display(styler)"
   ],
   "metadata": {
    "collapsed": false
   },
   "id": "9a0c551a3292a090"
  },
  {
   "cell_type": "markdown",
   "source": [
    "## Formatting numbers with a thousand separator\n",
    "A fairly straightforward formatting experience here as we separate thousands of Quotes and Numbers using commas.\n",
    "\n",
    "What is important to note however, is that if we also want to retain the formatting we applied to the Month column (we do), then we need to extend the formatting dictionary. \n"
   ],
   "metadata": {
    "collapsed": false
   },
   "id": "b4b80c9da9d9fca2"
  },
  {
   "cell_type": "code",
   "execution_count": null,
   "outputs": [],
   "source": [
    "styler = df.iloc[:3].style.format(\n",
    "    {\n",
    "        'Month':'{:%b, %Y}',\n",
    "        'Quotes':'{:,.0f}',\n",
    "        'Numbers':'{:,.0f}'\n",
    "    }\n",
    ")\n",
    "if styler:\n",
    "    display(styler)"
   ],
   "metadata": {
    "collapsed": false
   },
   "id": "7b50c001d081c0da"
  },
  {
   "cell_type": "markdown",
   "source": [
    "## Formatting currencies\n",
    "The Widget Company just so happens to produce and sell its widgets in a country that uses a currency denoted by £ (I hope somewhere warmer and sunnier than the country where I earn my £).\n",
    "\n",
    "Let’s reflect that in the table, reminding ourselves that:\n",
    "\n",
    "- At an overall level, using decimal points is probably a little much\n",
    "- At a lower level — say for instance, the average sale value — using decimals can be useful.\n",
    "So we add currency formatting for Amounts and Average sale to our formatting dictionary:"
   ],
   "metadata": {
    "collapsed": false
   },
   "id": "53db94d3889bf0a"
  },
  {
   "cell_type": "code",
   "execution_count": null,
   "outputs": [],
   "source": [
    "styler = df.iloc[:3].style.format(\n",
    "    {\n",
    "        'Month':'{:%b, %Y}',\n",
    "        'Quotes':'{:,.0f}',\n",
    "        'Numbers':'{:,.0f}',\n",
    "        'Amounts':'£{:,.0f}',\n",
    "        'Average sale':'£{:,.2f}'\n",
    "    }\n",
    ")\n",
    "if styler:\n",
    "    display(styler)\n",
    "    \n",
    "breakpoint()"
   ],
   "metadata": {
    "collapsed": false
   },
   "id": "4dce7fd0f8f8b497"
  },
  {
   "cell_type": "markdown",
   "source": [
    "## Formatting percentages\n",
    "Another fairly straightforward formatting step, it’s much easier to view ratios when they are expressed as percentages rather than floating point numbers.\n",
    "\n",
    "We’ll add Product conversion to our formatting dictionary:"
   ],
   "metadata": {
    "collapsed": false
   },
   "id": "27a3c679bcfd8605"
  },
  {
   "cell_type": "code",
   "execution_count": 86,
   "outputs": [
    {
     "data": {
      "text/plain": "<pandas.io.formats.style.Styler at 0x12fc05790>",
      "text/html": "<style type=\"text/css\">\n</style>\n<table id=\"T_bc036\">\n  <thead>\n    <tr>\n      <th class=\"blank level0\" >&nbsp;</th>\n      <th id=\"T_bc036_level0_col0\" class=\"col_heading level0 col0\" >Month</th>\n      <th id=\"T_bc036_level0_col1\" class=\"col_heading level0 col1\" >Quotes</th>\n      <th id=\"T_bc036_level0_col2\" class=\"col_heading level0 col2\" >Numbers</th>\n      <th id=\"T_bc036_level0_col3\" class=\"col_heading level0 col3\" >Amounts</th>\n      <th id=\"T_bc036_level0_col4\" class=\"col_heading level0 col4\" >Product</th>\n      <th id=\"T_bc036_level0_col5\" class=\"col_heading level0 col5\" >Average sale</th>\n      <th id=\"T_bc036_level0_col6\" class=\"col_heading level0 col6\" >Product conversion</th>\n    </tr>\n  </thead>\n  <tbody>\n    <tr>\n      <th id=\"T_bc036_level0_row0\" class=\"row_heading level0 row0\" >0</th>\n      <td id=\"T_bc036_row0_col0\" class=\"data row0 col0\" >Jan, 2012</td>\n      <td id=\"T_bc036_row0_col1\" class=\"data row0 col1\" >1,083,423</td>\n      <td id=\"T_bc036_row0_col2\" class=\"data row0 col2\" >351,717</td>\n      <td id=\"T_bc036_row0_col3\" class=\"data row0 col3\" >£1,160,524</td>\n      <td id=\"T_bc036_row0_col4\" class=\"data row0 col4\" >A</td>\n      <td id=\"T_bc036_row0_col5\" class=\"data row0 col5\" >£3.30</td>\n      <td id=\"T_bc036_row0_col6\" class=\"data row0 col6\" >32.46%</td>\n    </tr>\n    <tr>\n      <th id=\"T_bc036_level0_row1\" class=\"row_heading level0 row1\" >1</th>\n      <td id=\"T_bc036_row1_col0\" class=\"data row1 col0\" >Jan, 2012</td>\n      <td id=\"T_bc036_row1_col1\" class=\"data row1 col1\" >116,615</td>\n      <td id=\"T_bc036_row1_col2\" class=\"data row1 col2\" >56,446</td>\n      <td id=\"T_bc036_row1_col3\" class=\"data row1 col3\" >£501,802</td>\n      <td id=\"T_bc036_row1_col4\" class=\"data row1 col4\" >B</td>\n      <td id=\"T_bc036_row1_col5\" class=\"data row1 col5\" >£8.89</td>\n      <td id=\"T_bc036_row1_col6\" class=\"data row1 col6\" >48.40%</td>\n    </tr>\n    <tr>\n      <th id=\"T_bc036_level0_row2\" class=\"row_heading level0 row2\" >2</th>\n      <td id=\"T_bc036_row2_col0\" class=\"data row2 col0\" >Feb, 2012</td>\n      <td id=\"T_bc036_row2_col1\" class=\"data row2 col1\" >2,425,239</td>\n      <td id=\"T_bc036_row2_col2\" class=\"data row2 col2\" >399,001</td>\n      <td id=\"T_bc036_row2_col3\" class=\"data row2 col3\" >£1,203,083</td>\n      <td id=\"T_bc036_row2_col4\" class=\"data row2 col4\" >A</td>\n      <td id=\"T_bc036_row2_col5\" class=\"data row2 col5\" >£3.02</td>\n      <td id=\"T_bc036_row2_col6\" class=\"data row2 col6\" >16.45%</td>\n    </tr>\n  </tbody>\n</table>\n"
     },
     "metadata": {},
     "output_type": "display_data"
    }
   ],
   "source": [
    "styler = df.iloc[:3].style.format(\n",
    "    {\n",
    "        'Month':'{:%b, %Y}',\n",
    "        'Quotes':'{:,.0f}',\n",
    "        'Numbers':'{:,.0f}',\n",
    "        'Amounts':'£{:,.0f}',\n",
    "        'Average sale':'£{:,.2f}',\n",
    "        'Product conversion':'{:.2%}'\n",
    "    }\n",
    ")\n",
    "if styler:\n",
    "    display(styler)\n",
    "    \n",
    "breakpoint()"
   ],
   "metadata": {
    "collapsed": false,
    "ExecuteTime": {
     "end_time": "2023-12-10T01:16:23.796299Z",
     "start_time": "2023-12-10T01:15:49.812084Z"
    }
   },
   "id": "611a89a27e772a20"
  },
  {
   "cell_type": "markdown",
   "source": [
    "## Hiding Indexes\n",
    "The index is a useful thing to have, but it’s not always necessary to display it. In this case, we can hide it by setting index = False:\n"
   ],
   "metadata": {
    "collapsed": false
   },
   "id": "e9579121e2ae3ead"
  },
  {
   "cell_type": "code",
   "execution_count": null,
   "outputs": [],
   "source": [],
   "metadata": {
    "collapsed": false
   },
   "id": "adfc65292c7382f4"
  },
  {
   "cell_type": "code",
   "execution_count": null,
   "outputs": [],
   "source": [
    "styler = df.iloc[:3].style.format(\n",
    "    {\n",
    "        'Month':'{:%b, %Y}',\n",
    "        'Quotes':'{:,.0f}',\n",
    "        'Numbers':'{:,.0f}',\n",
    "        'Amounts':'£{:,.0f}',\n",
    "        'Average sale':'£{:,.2f}',\n",
    "        'Product conversion':'{:.2%}'\n",
    "    }\n",
    ").hide_index()  # hide the index\n",
    "if styler:\n",
    "    display(styler)\n",
    "    \n",
    "breakpoint()"
   ],
   "metadata": {
    "collapsed": false
   },
   "id": "fc7c7573ec0cc853"
  }
 ],
 "metadata": {
  "kernelspec": {
   "display_name": "Python 3",
   "language": "python",
   "name": "python3"
  },
  "language_info": {
   "codemirror_mode": {
    "name": "ipython",
    "version": 2
   },
   "file_extension": ".py",
   "mimetype": "text/x-python",
   "name": "python",
   "nbconvert_exporter": "python",
   "pygments_lexer": "ipython2",
   "version": "2.7.6"
  }
 },
 "nbformat": 4,
 "nbformat_minor": 5
}
