{
 "cells": [
  {
   "cell_type": "markdown",
   "source": [
    "# Formatting Tables in Pandas\n"
   ],
   "metadata": {
    "collapsed": false
   },
   "id": "b0f9d1a4fce40bb7"
  },
  {
   "cell_type": "code",
   "execution_count": 145,
   "outputs": [],
   "source": [
    "# Import pandas\n",
    "import pandas as pd\n",
    "# Import numpy\n",
    "import numpy as np\n",
    "\n"
   ],
   "metadata": {
    "collapsed": false,
    "ExecuteTime": {
     "end_time": "2023-12-16T16:59:53.869221Z",
     "start_time": "2023-12-16T16:59:53.838648Z"
    }
   },
   "id": "3f6384416f65e69c"
  },
  {
   "cell_type": "markdown",
   "source": [
    "## The data\n",
    "Let's create some simulated data for two widgets, A and B. We'll create a dataframe for each widget, then concatenate them together. We'll also sort the dataframe by month and reset the index."
   ],
   "metadata": {
    "collapsed": false
   },
   "id": "10aea294c42f4a03"
  },
  {
   "cell_type": "code",
   "execution_count": 146,
   "outputs": [],
   "source": [
    "# simulated data for widget A\n",
    "df_a = pd.DataFrame(\n",
    "    {\n",
    "        'Month':pd.date_range(\n",
    "            start = '01-01-2012',\n",
    "            end = '31-12-2022',\n",
    "            freq = 'MS'\n",
    "        ),\n",
    "        'Quotes':np.random.randint(\n",
    "            low = 1_000_000,\n",
    "            high = 2_500_000,\n",
    "            size = 132\n",
    "        ),\n",
    "        'Numbers':np.random.randint(\n",
    "            low = 300_000,\n",
    "            high = 500_000,\n",
    "            size = 132\n",
    "        ),\n",
    "        'Amounts':np.random.randint(\n",
    "            low = 750_000,\n",
    "            high = 1_250_000,\n",
    "            size = 132\n",
    "        )\n",
    "    }\n",
    ")\n",
    "\n",
    "df_a['Product'] = 'A'\n",
    "\n",
    "# simulated data for widget B\n",
    "df_b = pd.DataFrame(\n",
    "    {\n",
    "        'Month':pd.date_range(\n",
    "            start = '01-01-2012',\n",
    "            end = '31-12-2022',\n",
    "            freq = 'MS'\n",
    "        ),\n",
    "        'Quotes':np.random.randint(\n",
    "            low = 100_000,\n",
    "            high = 800_000,\n",
    "            size = 132\n",
    "        ),\n",
    "        'Numbers':np.random.randint(\n",
    "            low = 10_000,\n",
    "            high = 95_000,\n",
    "            size = 132\n",
    "        ),\n",
    "        'Amounts':np.random.randint(\n",
    "            low = 450_000,\n",
    "            high = 750_000,\n",
    "            size = 132\n",
    "        )\n",
    "    }\n",
    ")\n",
    "\n",
    "df_b['Product'] = 'B'\n",
    "\n",
    "# put it together & sort\n",
    "df = pd.concat([df_a,df_b],axis = 0)\n",
    "df.sort_values(by = 'Month',inplace = True)\n",
    "df.reset_index(drop = True,inplace = True)"
   ],
   "metadata": {
    "collapsed": false,
    "ExecuteTime": {
     "end_time": "2023-12-16T16:59:53.873746Z",
     "start_time": "2023-12-16T16:59:53.864587Z"
    }
   },
   "id": "cc675bd1d269bb2e"
  },
  {
   "cell_type": "markdown",
   "source": [
    "Let’s calculate a few “interesting” statistics — average sale amounts and product conversion:"
   ],
   "metadata": {
    "collapsed": false
   },
   "id": "d441044d0d55938f"
  },
  {
   "cell_type": "code",
   "execution_count": 147,
   "outputs": [],
   "source": [
    "# average sale\n",
    "df['Average sale'] = df['Amounts'] / df['Numbers'].replace({0: np.nan})\n",
    "\n",
    "# conversion\n",
    "df['Product conversion'] = df['Numbers'] / df['Quotes'].replace({0: np.nan})"
   ],
   "metadata": {
    "collapsed": false,
    "ExecuteTime": {
     "end_time": "2023-12-16T16:59:53.879314Z",
     "start_time": "2023-12-16T16:59:53.872939Z"
    }
   },
   "id": "dd7fb5b107176fbb"
  },
  {
   "cell_type": "code",
   "execution_count": 148,
   "outputs": [
    {
     "data": {
      "text/plain": "       Month   Quotes  Numbers  Amounts Product  Average sale  \\\n0 2012-01-01  1620435   361730   985417       A      2.724178   \n1 2012-01-01   428907    92636   485731       B      5.243437   \n2 2012-02-01  2437497   422517   780098       A      1.846312   \n\n   Product conversion  \n0            0.223230  \n1            0.215982  \n2            0.173341  ",
      "text/html": "<div>\n<style scoped>\n    .dataframe tbody tr th:only-of-type {\n        vertical-align: middle;\n    }\n\n    .dataframe tbody tr th {\n        vertical-align: top;\n    }\n\n    .dataframe thead th {\n        text-align: right;\n    }\n</style>\n<table border=\"1\" class=\"dataframe\">\n  <thead>\n    <tr style=\"text-align: right;\">\n      <th></th>\n      <th>Month</th>\n      <th>Quotes</th>\n      <th>Numbers</th>\n      <th>Amounts</th>\n      <th>Product</th>\n      <th>Average sale</th>\n      <th>Product conversion</th>\n    </tr>\n  </thead>\n  <tbody>\n    <tr>\n      <th>0</th>\n      <td>2012-01-01</td>\n      <td>1620435</td>\n      <td>361730</td>\n      <td>985417</td>\n      <td>A</td>\n      <td>2.724178</td>\n      <td>0.223230</td>\n    </tr>\n    <tr>\n      <th>1</th>\n      <td>2012-01-01</td>\n      <td>428907</td>\n      <td>92636</td>\n      <td>485731</td>\n      <td>B</td>\n      <td>5.243437</td>\n      <td>0.215982</td>\n    </tr>\n    <tr>\n      <th>2</th>\n      <td>2012-02-01</td>\n      <td>2437497</td>\n      <td>422517</td>\n      <td>780098</td>\n      <td>A</td>\n      <td>1.846312</td>\n      <td>0.173341</td>\n    </tr>\n  </tbody>\n</table>\n</div>"
     },
     "execution_count": 148,
     "metadata": {},
     "output_type": "execute_result"
    }
   ],
   "source": [
    "df.head(3)"
   ],
   "metadata": {
    "collapsed": false,
    "ExecuteTime": {
     "end_time": "2023-12-16T16:59:53.907301Z",
     "start_time": "2023-12-16T16:59:53.883078Z"
    }
   },
   "id": "760102e02bcf12da"
  },
  {
   "cell_type": "markdown",
   "source": [
    "## Date Formatting\n",
    "There’s arguably nothing __wrong__ with the formatting, but it could be better. For instance, since all the monthly data is reflected as at the first of each month, there’s probably little sense in keeping the day element of each Month entry as it tells the reader very little."
   ],
   "metadata": {
    "collapsed": false
   },
   "id": "f3a68e7d7a96b0ff"
  },
  {
   "cell_type": "code",
   "execution_count": 149,
   "outputs": [
    {
     "data": {
      "text/plain": "<pandas.io.formats.style.Styler at 0x14a4c8c10>",
      "text/html": "<style type=\"text/css\">\n</style>\n<table id=\"T_b8966\">\n  <thead>\n    <tr>\n      <th class=\"blank level0\" >&nbsp;</th>\n      <th id=\"T_b8966_level0_col0\" class=\"col_heading level0 col0\" >Month</th>\n      <th id=\"T_b8966_level0_col1\" class=\"col_heading level0 col1\" >Quotes</th>\n      <th id=\"T_b8966_level0_col2\" class=\"col_heading level0 col2\" >Numbers</th>\n      <th id=\"T_b8966_level0_col3\" class=\"col_heading level0 col3\" >Amounts</th>\n      <th id=\"T_b8966_level0_col4\" class=\"col_heading level0 col4\" >Product</th>\n      <th id=\"T_b8966_level0_col5\" class=\"col_heading level0 col5\" >Average sale</th>\n      <th id=\"T_b8966_level0_col6\" class=\"col_heading level0 col6\" >Product conversion</th>\n    </tr>\n  </thead>\n  <tbody>\n    <tr>\n      <th id=\"T_b8966_level0_row0\" class=\"row_heading level0 row0\" >0</th>\n      <td id=\"T_b8966_row0_col0\" class=\"data row0 col0\" >2012-01</td>\n      <td id=\"T_b8966_row0_col1\" class=\"data row0 col1\" >1620435</td>\n      <td id=\"T_b8966_row0_col2\" class=\"data row0 col2\" >361730</td>\n      <td id=\"T_b8966_row0_col3\" class=\"data row0 col3\" >985417</td>\n      <td id=\"T_b8966_row0_col4\" class=\"data row0 col4\" >A</td>\n      <td id=\"T_b8966_row0_col5\" class=\"data row0 col5\" >2.724178</td>\n      <td id=\"T_b8966_row0_col6\" class=\"data row0 col6\" >0.223230</td>\n    </tr>\n    <tr>\n      <th id=\"T_b8966_level0_row1\" class=\"row_heading level0 row1\" >1</th>\n      <td id=\"T_b8966_row1_col0\" class=\"data row1 col0\" >2012-01</td>\n      <td id=\"T_b8966_row1_col1\" class=\"data row1 col1\" >428907</td>\n      <td id=\"T_b8966_row1_col2\" class=\"data row1 col2\" >92636</td>\n      <td id=\"T_b8966_row1_col3\" class=\"data row1 col3\" >485731</td>\n      <td id=\"T_b8966_row1_col4\" class=\"data row1 col4\" >B</td>\n      <td id=\"T_b8966_row1_col5\" class=\"data row1 col5\" >5.243437</td>\n      <td id=\"T_b8966_row1_col6\" class=\"data row1 col6\" >0.215982</td>\n    </tr>\n    <tr>\n      <th id=\"T_b8966_level0_row2\" class=\"row_heading level0 row2\" >2</th>\n      <td id=\"T_b8966_row2_col0\" class=\"data row2 col0\" >2012-02</td>\n      <td id=\"T_b8966_row2_col1\" class=\"data row2 col1\" >2437497</td>\n      <td id=\"T_b8966_row2_col2\" class=\"data row2 col2\" >422517</td>\n      <td id=\"T_b8966_row2_col3\" class=\"data row2 col3\" >780098</td>\n      <td id=\"T_b8966_row2_col4\" class=\"data row2 col4\" >A</td>\n      <td id=\"T_b8966_row2_col5\" class=\"data row2 col5\" >1.846312</td>\n      <td id=\"T_b8966_row2_col6\" class=\"data row2 col6\" >0.173341</td>\n    </tr>\n  </tbody>\n</table>\n"
     },
     "metadata": {},
     "output_type": "display_data"
    }
   ],
   "source": [
    "# format the date as YYYY-MM\n",
    "styler = df.iloc[:3].style.format({'Month':'{:%Y-%m}'})\n",
    "if styler:\n",
    "    display(styler)"
   ],
   "metadata": {
    "collapsed": false,
    "ExecuteTime": {
     "end_time": "2023-12-16T16:59:53.918410Z",
     "start_time": "2023-12-16T16:59:53.897929Z"
    }
   },
   "id": "7807b2b26b270e97"
  },
  {
   "cell_type": "markdown",
   "source": [
    "Now, we can improve readability even further by using the name of each month rather than the month number, and we can do this __*without having to alter the underlying data*__."
   ],
   "metadata": {
    "collapsed": false
   },
   "id": "819d1307cccad3eb"
  },
  {
   "cell_type": "code",
   "execution_count": 150,
   "outputs": [
    {
     "data": {
      "text/plain": "<pandas.io.formats.style.Styler at 0x14a4c4dc0>",
      "text/html": "<style type=\"text/css\">\n</style>\n<table id=\"T_80d59\">\n  <thead>\n    <tr>\n      <th class=\"blank level0\" >&nbsp;</th>\n      <th id=\"T_80d59_level0_col0\" class=\"col_heading level0 col0\" >Month</th>\n      <th id=\"T_80d59_level0_col1\" class=\"col_heading level0 col1\" >Quotes</th>\n      <th id=\"T_80d59_level0_col2\" class=\"col_heading level0 col2\" >Numbers</th>\n      <th id=\"T_80d59_level0_col3\" class=\"col_heading level0 col3\" >Amounts</th>\n      <th id=\"T_80d59_level0_col4\" class=\"col_heading level0 col4\" >Product</th>\n      <th id=\"T_80d59_level0_col5\" class=\"col_heading level0 col5\" >Average sale</th>\n      <th id=\"T_80d59_level0_col6\" class=\"col_heading level0 col6\" >Product conversion</th>\n    </tr>\n  </thead>\n  <tbody>\n    <tr>\n      <th id=\"T_80d59_level0_row0\" class=\"row_heading level0 row0\" >0</th>\n      <td id=\"T_80d59_row0_col0\" class=\"data row0 col0\" >January 2012</td>\n      <td id=\"T_80d59_row0_col1\" class=\"data row0 col1\" >1620435</td>\n      <td id=\"T_80d59_row0_col2\" class=\"data row0 col2\" >361730</td>\n      <td id=\"T_80d59_row0_col3\" class=\"data row0 col3\" >985417</td>\n      <td id=\"T_80d59_row0_col4\" class=\"data row0 col4\" >A</td>\n      <td id=\"T_80d59_row0_col5\" class=\"data row0 col5\" >2.724178</td>\n      <td id=\"T_80d59_row0_col6\" class=\"data row0 col6\" >0.223230</td>\n    </tr>\n    <tr>\n      <th id=\"T_80d59_level0_row1\" class=\"row_heading level0 row1\" >1</th>\n      <td id=\"T_80d59_row1_col0\" class=\"data row1 col0\" >January 2012</td>\n      <td id=\"T_80d59_row1_col1\" class=\"data row1 col1\" >428907</td>\n      <td id=\"T_80d59_row1_col2\" class=\"data row1 col2\" >92636</td>\n      <td id=\"T_80d59_row1_col3\" class=\"data row1 col3\" >485731</td>\n      <td id=\"T_80d59_row1_col4\" class=\"data row1 col4\" >B</td>\n      <td id=\"T_80d59_row1_col5\" class=\"data row1 col5\" >5.243437</td>\n      <td id=\"T_80d59_row1_col6\" class=\"data row1 col6\" >0.215982</td>\n    </tr>\n    <tr>\n      <th id=\"T_80d59_level0_row2\" class=\"row_heading level0 row2\" >2</th>\n      <td id=\"T_80d59_row2_col0\" class=\"data row2 col0\" >February 2012</td>\n      <td id=\"T_80d59_row2_col1\" class=\"data row2 col1\" >2437497</td>\n      <td id=\"T_80d59_row2_col2\" class=\"data row2 col2\" >422517</td>\n      <td id=\"T_80d59_row2_col3\" class=\"data row2 col3\" >780098</td>\n      <td id=\"T_80d59_row2_col4\" class=\"data row2 col4\" >A</td>\n      <td id=\"T_80d59_row2_col5\" class=\"data row2 col5\" >1.846312</td>\n      <td id=\"T_80d59_row2_col6\" class=\"data row2 col6\" >0.173341</td>\n    </tr>\n  </tbody>\n</table>\n"
     },
     "metadata": {},
     "output_type": "display_data"
    }
   ],
   "source": [
    "styler = df.iloc[:3].style.format({'Month':'{:%B %Y}'})\n",
    "if styler:\n",
    "    display(styler)"
   ],
   "metadata": {
    "collapsed": false,
    "ExecuteTime": {
     "end_time": "2023-12-16T16:59:53.918744Z",
     "start_time": "2023-12-16T16:59:53.898028Z"
    }
   },
   "id": "3c04c43c3b23279a"
  },
  {
   "cell_type": "markdown",
   "source": [
    "Maybe a little too wordy now — let’s use abbreviations instead (e.g. “Jan” instead of “January”) and we’ll also add a comma before the year."
   ],
   "metadata": {
    "collapsed": false
   },
   "id": "29fa55f909212272"
  },
  {
   "cell_type": "code",
   "execution_count": 151,
   "outputs": [
    {
     "data": {
      "text/plain": "<pandas.io.formats.style.Styler at 0x14a4a5a60>",
      "text/html": "<style type=\"text/css\">\n</style>\n<table id=\"T_291c9\">\n  <thead>\n    <tr>\n      <th class=\"blank level0\" >&nbsp;</th>\n      <th id=\"T_291c9_level0_col0\" class=\"col_heading level0 col0\" >Month</th>\n      <th id=\"T_291c9_level0_col1\" class=\"col_heading level0 col1\" >Quotes</th>\n      <th id=\"T_291c9_level0_col2\" class=\"col_heading level0 col2\" >Numbers</th>\n      <th id=\"T_291c9_level0_col3\" class=\"col_heading level0 col3\" >Amounts</th>\n      <th id=\"T_291c9_level0_col4\" class=\"col_heading level0 col4\" >Product</th>\n      <th id=\"T_291c9_level0_col5\" class=\"col_heading level0 col5\" >Average sale</th>\n      <th id=\"T_291c9_level0_col6\" class=\"col_heading level0 col6\" >Product conversion</th>\n    </tr>\n  </thead>\n  <tbody>\n    <tr>\n      <th id=\"T_291c9_level0_row0\" class=\"row_heading level0 row0\" >0</th>\n      <td id=\"T_291c9_row0_col0\" class=\"data row0 col0\" >Jan, 2012</td>\n      <td id=\"T_291c9_row0_col1\" class=\"data row0 col1\" >1620435</td>\n      <td id=\"T_291c9_row0_col2\" class=\"data row0 col2\" >361730</td>\n      <td id=\"T_291c9_row0_col3\" class=\"data row0 col3\" >985417</td>\n      <td id=\"T_291c9_row0_col4\" class=\"data row0 col4\" >A</td>\n      <td id=\"T_291c9_row0_col5\" class=\"data row0 col5\" >2.724178</td>\n      <td id=\"T_291c9_row0_col6\" class=\"data row0 col6\" >0.223230</td>\n    </tr>\n    <tr>\n      <th id=\"T_291c9_level0_row1\" class=\"row_heading level0 row1\" >1</th>\n      <td id=\"T_291c9_row1_col0\" class=\"data row1 col0\" >Jan, 2012</td>\n      <td id=\"T_291c9_row1_col1\" class=\"data row1 col1\" >428907</td>\n      <td id=\"T_291c9_row1_col2\" class=\"data row1 col2\" >92636</td>\n      <td id=\"T_291c9_row1_col3\" class=\"data row1 col3\" >485731</td>\n      <td id=\"T_291c9_row1_col4\" class=\"data row1 col4\" >B</td>\n      <td id=\"T_291c9_row1_col5\" class=\"data row1 col5\" >5.243437</td>\n      <td id=\"T_291c9_row1_col6\" class=\"data row1 col6\" >0.215982</td>\n    </tr>\n    <tr>\n      <th id=\"T_291c9_level0_row2\" class=\"row_heading level0 row2\" >2</th>\n      <td id=\"T_291c9_row2_col0\" class=\"data row2 col0\" >Feb, 2012</td>\n      <td id=\"T_291c9_row2_col1\" class=\"data row2 col1\" >2437497</td>\n      <td id=\"T_291c9_row2_col2\" class=\"data row2 col2\" >422517</td>\n      <td id=\"T_291c9_row2_col3\" class=\"data row2 col3\" >780098</td>\n      <td id=\"T_291c9_row2_col4\" class=\"data row2 col4\" >A</td>\n      <td id=\"T_291c9_row2_col5\" class=\"data row2 col5\" >1.846312</td>\n      <td id=\"T_291c9_row2_col6\" class=\"data row2 col6\" >0.173341</td>\n    </tr>\n  </tbody>\n</table>\n"
     },
     "metadata": {},
     "output_type": "display_data"
    }
   ],
   "source": [
    "styler = df.iloc[:3].style.format({'Month':'{:%b, %Y}'})\n",
    "if styler:\n",
    "    display(styler)"
   ],
   "metadata": {
    "collapsed": false,
    "ExecuteTime": {
     "end_time": "2023-12-16T16:59:53.919073Z",
     "start_time": "2023-12-16T16:59:53.901001Z"
    }
   },
   "id": "9a0c551a3292a090"
  },
  {
   "cell_type": "markdown",
   "source": [
    "## Formatting numbers with a thousand separator\n",
    "A fairly straightforward formatting experience here as we separate thousands of Quotes and Numbers using commas.\n",
    "\n",
    "What is important to note however, is that if we also want to retain the formatting we applied to the Month column (we do), then we need to extend the formatting dictionary. \n"
   ],
   "metadata": {
    "collapsed": false
   },
   "id": "b4b80c9da9d9fca2"
  },
  {
   "cell_type": "code",
   "execution_count": 163,
   "outputs": [
    {
     "data": {
      "text/plain": "<pandas.io.formats.style.Styler at 0x13a528100>",
      "text/html": "<style type=\"text/css\">\n</style>\n<table id=\"T_cd2e7\">\n  <thead>\n    <tr>\n      <th class=\"blank level0\" >&nbsp;</th>\n      <th id=\"T_cd2e7_level0_col0\" class=\"col_heading level0 col0\" >Month</th>\n      <th id=\"T_cd2e7_level0_col1\" class=\"col_heading level0 col1\" >Quotes</th>\n      <th id=\"T_cd2e7_level0_col2\" class=\"col_heading level0 col2\" >Numbers</th>\n      <th id=\"T_cd2e7_level0_col3\" class=\"col_heading level0 col3\" >Amounts</th>\n      <th id=\"T_cd2e7_level0_col4\" class=\"col_heading level0 col4\" >Product</th>\n      <th id=\"T_cd2e7_level0_col5\" class=\"col_heading level0 col5\" >Average sale</th>\n      <th id=\"T_cd2e7_level0_col6\" class=\"col_heading level0 col6\" >Product conversion</th>\n    </tr>\n  </thead>\n  <tbody>\n    <tr>\n      <th id=\"T_cd2e7_level0_row0\" class=\"row_heading level0 row0\" >0</th>\n      <td id=\"T_cd2e7_row0_col0\" class=\"data row0 col0\" >Jan, 2012</td>\n      <td id=\"T_cd2e7_row0_col1\" class=\"data row0 col1\" >1,620,435</td>\n      <td id=\"T_cd2e7_row0_col2\" class=\"data row0 col2\" >361,730</td>\n      <td id=\"T_cd2e7_row0_col3\" class=\"data row0 col3\" >985417</td>\n      <td id=\"T_cd2e7_row0_col4\" class=\"data row0 col4\" >A</td>\n      <td id=\"T_cd2e7_row0_col5\" class=\"data row0 col5\" >2.724178</td>\n      <td id=\"T_cd2e7_row0_col6\" class=\"data row0 col6\" >0.223230</td>\n    </tr>\n    <tr>\n      <th id=\"T_cd2e7_level0_row1\" class=\"row_heading level0 row1\" >1</th>\n      <td id=\"T_cd2e7_row1_col0\" class=\"data row1 col0\" >Jan, 2012</td>\n      <td id=\"T_cd2e7_row1_col1\" class=\"data row1 col1\" >428,907</td>\n      <td id=\"T_cd2e7_row1_col2\" class=\"data row1 col2\" >92,636</td>\n      <td id=\"T_cd2e7_row1_col3\" class=\"data row1 col3\" >485731</td>\n      <td id=\"T_cd2e7_row1_col4\" class=\"data row1 col4\" >B</td>\n      <td id=\"T_cd2e7_row1_col5\" class=\"data row1 col5\" >5.243437</td>\n      <td id=\"T_cd2e7_row1_col6\" class=\"data row1 col6\" >0.215982</td>\n    </tr>\n    <tr>\n      <th id=\"T_cd2e7_level0_row2\" class=\"row_heading level0 row2\" >2</th>\n      <td id=\"T_cd2e7_row2_col0\" class=\"data row2 col0\" >Feb, 2012</td>\n      <td id=\"T_cd2e7_row2_col1\" class=\"data row2 col1\" >2,437,497</td>\n      <td id=\"T_cd2e7_row2_col2\" class=\"data row2 col2\" >422,517</td>\n      <td id=\"T_cd2e7_row2_col3\" class=\"data row2 col3\" >780098</td>\n      <td id=\"T_cd2e7_row2_col4\" class=\"data row2 col4\" >A</td>\n      <td id=\"T_cd2e7_row2_col5\" class=\"data row2 col5\" >1.846312</td>\n      <td id=\"T_cd2e7_row2_col6\" class=\"data row2 col6\" >0.173341</td>\n    </tr>\n  </tbody>\n</table>\n"
     },
     "metadata": {},
     "output_type": "display_data"
    }
   ],
   "source": [
    "styler = df.iloc[:3].style.format(\n",
    "    {\n",
    "        'Month':'{:%b, %Y}',\n",
    "        'Quotes':'{:,.0f}',\n",
    "        'Numbers':'{:,.0f}'\n",
    "    }\n",
    ")\n",
    "if styler:\n",
    "    display(styler)"
   ],
   "metadata": {
    "collapsed": false,
    "ExecuteTime": {
     "end_time": "2023-12-16T17:12:23.061796Z",
     "start_time": "2023-12-16T17:12:23.051431Z"
    }
   },
   "id": "7b50c001d081c0da"
  },
  {
   "cell_type": "markdown",
   "source": [
    "## Formatting currencies\n",
    "The Widget Company just so happens to produce and sell its widgets in a country that uses a currency denoted by £ (I hope somewhere warmer and sunnier than the country where I earn my £).\n",
    "\n",
    "Let’s reflect that in the table, reminding ourselves that:\n",
    "\n",
    "- At an overall level, using decimal points is probably a little much\n",
    "- At a lower level — say for instance, the average sale value — using decimals can be useful.\n",
    "So we add currency formatting for Amounts and Average sale to our formatting dictionary:"
   ],
   "metadata": {
    "collapsed": false
   },
   "id": "53db94d3889bf0a"
  },
  {
   "cell_type": "code",
   "execution_count": 162,
   "outputs": [
    {
     "data": {
      "text/plain": "<pandas.io.formats.style.Styler at 0x14a4df610>",
      "text/html": "<style type=\"text/css\">\n</style>\n<table id=\"T_9d3a0\">\n  <thead>\n    <tr>\n      <th class=\"blank level0\" >&nbsp;</th>\n      <th id=\"T_9d3a0_level0_col0\" class=\"col_heading level0 col0\" >Month</th>\n      <th id=\"T_9d3a0_level0_col1\" class=\"col_heading level0 col1\" >Quotes</th>\n      <th id=\"T_9d3a0_level0_col2\" class=\"col_heading level0 col2\" >Numbers</th>\n      <th id=\"T_9d3a0_level0_col3\" class=\"col_heading level0 col3\" >Amounts</th>\n      <th id=\"T_9d3a0_level0_col4\" class=\"col_heading level0 col4\" >Product</th>\n      <th id=\"T_9d3a0_level0_col5\" class=\"col_heading level0 col5\" >Average sale</th>\n      <th id=\"T_9d3a0_level0_col6\" class=\"col_heading level0 col6\" >Product conversion</th>\n    </tr>\n  </thead>\n  <tbody>\n    <tr>\n      <th id=\"T_9d3a0_level0_row0\" class=\"row_heading level0 row0\" >0</th>\n      <td id=\"T_9d3a0_row0_col0\" class=\"data row0 col0\" >Jan, 2012</td>\n      <td id=\"T_9d3a0_row0_col1\" class=\"data row0 col1\" >1,620,435</td>\n      <td id=\"T_9d3a0_row0_col2\" class=\"data row0 col2\" >361,730</td>\n      <td id=\"T_9d3a0_row0_col3\" class=\"data row0 col3\" >£985,417</td>\n      <td id=\"T_9d3a0_row0_col4\" class=\"data row0 col4\" >A</td>\n      <td id=\"T_9d3a0_row0_col5\" class=\"data row0 col5\" >£2.72</td>\n      <td id=\"T_9d3a0_row0_col6\" class=\"data row0 col6\" >0.223230</td>\n    </tr>\n    <tr>\n      <th id=\"T_9d3a0_level0_row1\" class=\"row_heading level0 row1\" >1</th>\n      <td id=\"T_9d3a0_row1_col0\" class=\"data row1 col0\" >Jan, 2012</td>\n      <td id=\"T_9d3a0_row1_col1\" class=\"data row1 col1\" >428,907</td>\n      <td id=\"T_9d3a0_row1_col2\" class=\"data row1 col2\" >92,636</td>\n      <td id=\"T_9d3a0_row1_col3\" class=\"data row1 col3\" >£485,731</td>\n      <td id=\"T_9d3a0_row1_col4\" class=\"data row1 col4\" >B</td>\n      <td id=\"T_9d3a0_row1_col5\" class=\"data row1 col5\" >£5.24</td>\n      <td id=\"T_9d3a0_row1_col6\" class=\"data row1 col6\" >0.215982</td>\n    </tr>\n    <tr>\n      <th id=\"T_9d3a0_level0_row2\" class=\"row_heading level0 row2\" >2</th>\n      <td id=\"T_9d3a0_row2_col0\" class=\"data row2 col0\" >Feb, 2012</td>\n      <td id=\"T_9d3a0_row2_col1\" class=\"data row2 col1\" >2,437,497</td>\n      <td id=\"T_9d3a0_row2_col2\" class=\"data row2 col2\" >422,517</td>\n      <td id=\"T_9d3a0_row2_col3\" class=\"data row2 col3\" >£780,098</td>\n      <td id=\"T_9d3a0_row2_col4\" class=\"data row2 col4\" >A</td>\n      <td id=\"T_9d3a0_row2_col5\" class=\"data row2 col5\" >£1.85</td>\n      <td id=\"T_9d3a0_row2_col6\" class=\"data row2 col6\" >0.173341</td>\n    </tr>\n  </tbody>\n</table>\n"
     },
     "metadata": {},
     "output_type": "display_data"
    }
   ],
   "source": [
    "styler = df.iloc[:3].style.format(\n",
    "    {\n",
    "        'Month':'{:%b, %Y}',\n",
    "        'Quotes':'{:,.0f}',\n",
    "        'Numbers':'{:,.0f}',\n",
    "        'Amounts':'£{:,.0f}',\n",
    "        'Average sale':'£{:,.2f}'\n",
    "    }\n",
    ")\n",
    "if styler:\n",
    "    display(styler)\n",
    "    \n",
    "breakpoint()"
   ],
   "metadata": {
    "collapsed": false,
    "ExecuteTime": {
     "end_time": "2023-12-16T17:11:42.671707Z",
     "start_time": "2023-12-16T17:11:42.663010Z"
    }
   },
   "id": "4dce7fd0f8f8b497"
  },
  {
   "cell_type": "markdown",
   "source": [
    "## Formatting percentages\n",
    "Another fairly straightforward formatting step, it’s much easier to view ratios when they are expressed as percentages rather than floating point numbers.\n",
    "\n",
    "We’ll add Product conversion to our formatting dictionary:"
   ],
   "metadata": {
    "collapsed": false
   },
   "id": "27a3c679bcfd8605"
  },
  {
   "cell_type": "code",
   "execution_count": 160,
   "outputs": [
    {
     "data": {
      "text/plain": "<pandas.io.formats.style.Styler at 0x14a4d90a0>",
      "text/html": "<style type=\"text/css\">\n</style>\n<table id=\"T_93054\">\n  <thead>\n    <tr>\n      <th class=\"blank level0\" >&nbsp;</th>\n      <th id=\"T_93054_level0_col0\" class=\"col_heading level0 col0\" >Month</th>\n      <th id=\"T_93054_level0_col1\" class=\"col_heading level0 col1\" >Quotes</th>\n      <th id=\"T_93054_level0_col2\" class=\"col_heading level0 col2\" >Numbers</th>\n      <th id=\"T_93054_level0_col3\" class=\"col_heading level0 col3\" >Amounts</th>\n      <th id=\"T_93054_level0_col4\" class=\"col_heading level0 col4\" >Product</th>\n      <th id=\"T_93054_level0_col5\" class=\"col_heading level0 col5\" >Average sale</th>\n      <th id=\"T_93054_level0_col6\" class=\"col_heading level0 col6\" >Product conversion</th>\n    </tr>\n  </thead>\n  <tbody>\n    <tr>\n      <th id=\"T_93054_level0_row0\" class=\"row_heading level0 row0\" >0</th>\n      <td id=\"T_93054_row0_col0\" class=\"data row0 col0\" >Jan, 2012</td>\n      <td id=\"T_93054_row0_col1\" class=\"data row0 col1\" >1,620,435</td>\n      <td id=\"T_93054_row0_col2\" class=\"data row0 col2\" >361,730</td>\n      <td id=\"T_93054_row0_col3\" class=\"data row0 col3\" >£985,417</td>\n      <td id=\"T_93054_row0_col4\" class=\"data row0 col4\" >A</td>\n      <td id=\"T_93054_row0_col5\" class=\"data row0 col5\" >£2.72</td>\n      <td id=\"T_93054_row0_col6\" class=\"data row0 col6\" >22.32%</td>\n    </tr>\n    <tr>\n      <th id=\"T_93054_level0_row1\" class=\"row_heading level0 row1\" >1</th>\n      <td id=\"T_93054_row1_col0\" class=\"data row1 col0\" >Jan, 2012</td>\n      <td id=\"T_93054_row1_col1\" class=\"data row1 col1\" >428,907</td>\n      <td id=\"T_93054_row1_col2\" class=\"data row1 col2\" >92,636</td>\n      <td id=\"T_93054_row1_col3\" class=\"data row1 col3\" >£485,731</td>\n      <td id=\"T_93054_row1_col4\" class=\"data row1 col4\" >B</td>\n      <td id=\"T_93054_row1_col5\" class=\"data row1 col5\" >£5.24</td>\n      <td id=\"T_93054_row1_col6\" class=\"data row1 col6\" >21.60%</td>\n    </tr>\n    <tr>\n      <th id=\"T_93054_level0_row2\" class=\"row_heading level0 row2\" >2</th>\n      <td id=\"T_93054_row2_col0\" class=\"data row2 col0\" >Feb, 2012</td>\n      <td id=\"T_93054_row2_col1\" class=\"data row2 col1\" >2,437,497</td>\n      <td id=\"T_93054_row2_col2\" class=\"data row2 col2\" >422,517</td>\n      <td id=\"T_93054_row2_col3\" class=\"data row2 col3\" >£780,098</td>\n      <td id=\"T_93054_row2_col4\" class=\"data row2 col4\" >A</td>\n      <td id=\"T_93054_row2_col5\" class=\"data row2 col5\" >£1.85</td>\n      <td id=\"T_93054_row2_col6\" class=\"data row2 col6\" >17.33%</td>\n    </tr>\n  </tbody>\n</table>\n"
     },
     "metadata": {},
     "output_type": "display_data"
    }
   ],
   "source": [
    "styler = df.iloc[:3].style.format(\n",
    "    {\n",
    "        'Month':'{:%b, %Y}',\n",
    "        'Quotes':'{:,.0f}',\n",
    "        'Numbers':'{:,.0f}',\n",
    "        'Amounts':'£{:,.0f}',\n",
    "        'Average sale':'£{:,.2f}',\n",
    "        'Product conversion':'{:.2%}'\n",
    "    }\n",
    ")\n",
    "if styler:\n",
    "    display(styler)\n",
    "    \n",
    "breakpoint()"
   ],
   "metadata": {
    "collapsed": false,
    "ExecuteTime": {
     "end_time": "2023-12-16T17:10:13.330540Z",
     "start_time": "2023-12-16T17:10:13.327166Z"
    }
   },
   "id": "611a89a27e772a20"
  },
  {
   "cell_type": "markdown",
   "source": [
    "## Hiding Indexes\n",
    "The index is a useful thing to have, but it’s not always necessary to display it. In this case, we can hide it by setting index = False:\n"
   ],
   "metadata": {
    "collapsed": false
   },
   "id": "e9579121e2ae3ead"
  },
  {
   "cell_type": "code",
   "execution_count": 155,
   "outputs": [
    {
     "data": {
      "text/plain": "<pandas.io.formats.style.Styler at 0x13a529040>",
      "text/html": "<style type=\"text/css\">\n</style>\n<table id=\"T_8b36a\">\n  <thead>\n    <tr>\n      <th id=\"T_8b36a_level0_col0\" class=\"col_heading level0 col0\" >Month</th>\n      <th id=\"T_8b36a_level0_col1\" class=\"col_heading level0 col1\" >Quotes</th>\n      <th id=\"T_8b36a_level0_col2\" class=\"col_heading level0 col2\" >Numbers</th>\n      <th id=\"T_8b36a_level0_col3\" class=\"col_heading level0 col3\" >Amounts</th>\n      <th id=\"T_8b36a_level0_col4\" class=\"col_heading level0 col4\" >Product</th>\n      <th id=\"T_8b36a_level0_col5\" class=\"col_heading level0 col5\" >Average sale</th>\n      <th id=\"T_8b36a_level0_col6\" class=\"col_heading level0 col6\" >Product conversion</th>\n    </tr>\n  </thead>\n  <tbody>\n    <tr>\n      <td id=\"T_8b36a_row0_col0\" class=\"data row0 col0\" >Jan, 2012</td>\n      <td id=\"T_8b36a_row0_col1\" class=\"data row0 col1\" >1,620,435</td>\n      <td id=\"T_8b36a_row0_col2\" class=\"data row0 col2\" >361,730</td>\n      <td id=\"T_8b36a_row0_col3\" class=\"data row0 col3\" >£985,417</td>\n      <td id=\"T_8b36a_row0_col4\" class=\"data row0 col4\" >A</td>\n      <td id=\"T_8b36a_row0_col5\" class=\"data row0 col5\" >£2.72</td>\n      <td id=\"T_8b36a_row0_col6\" class=\"data row0 col6\" >22.32%</td>\n    </tr>\n    <tr>\n      <td id=\"T_8b36a_row1_col0\" class=\"data row1 col0\" >Jan, 2012</td>\n      <td id=\"T_8b36a_row1_col1\" class=\"data row1 col1\" >428,907</td>\n      <td id=\"T_8b36a_row1_col2\" class=\"data row1 col2\" >92,636</td>\n      <td id=\"T_8b36a_row1_col3\" class=\"data row1 col3\" >£485,731</td>\n      <td id=\"T_8b36a_row1_col4\" class=\"data row1 col4\" >B</td>\n      <td id=\"T_8b36a_row1_col5\" class=\"data row1 col5\" >£5.24</td>\n      <td id=\"T_8b36a_row1_col6\" class=\"data row1 col6\" >21.60%</td>\n    </tr>\n    <tr>\n      <td id=\"T_8b36a_row2_col0\" class=\"data row2 col0\" >Feb, 2012</td>\n      <td id=\"T_8b36a_row2_col1\" class=\"data row2 col1\" >2,437,497</td>\n      <td id=\"T_8b36a_row2_col2\" class=\"data row2 col2\" >422,517</td>\n      <td id=\"T_8b36a_row2_col3\" class=\"data row2 col3\" >£780,098</td>\n      <td id=\"T_8b36a_row2_col4\" class=\"data row2 col4\" >A</td>\n      <td id=\"T_8b36a_row2_col5\" class=\"data row2 col5\" >£1.85</td>\n      <td id=\"T_8b36a_row2_col6\" class=\"data row2 col6\" >17.33%</td>\n    </tr>\n  </tbody>\n</table>\n"
     },
     "metadata": {},
     "output_type": "display_data"
    }
   ],
   "source": [
    "styler = df.iloc[:3].style.format(\n",
    "    {\n",
    "        'Month':'{:%b, %Y}',\n",
    "        'Quotes':'{:,.0f}',\n",
    "        'Numbers':'{:,.0f}',\n",
    "        'Amounts':'£{:,.0f}',\n",
    "        'Average sale':'£{:,.2f}',\n",
    "        'Product conversion':'{:.2%}'\n",
    "    }\n",
    ").hide()  # hide the index\n",
    "\n",
    "if styler:\n",
    "    display(styler)\n",
    "    \n",
    "breakpoint()\n"
   ],
   "metadata": {
    "collapsed": false,
    "ExecuteTime": {
     "end_time": "2023-12-16T16:59:53.934888Z",
     "start_time": "2023-12-16T16:59:53.919646Z"
    }
   },
   "id": "fc7c7573ec0cc853"
  },
  {
   "cell_type": "markdown",
   "source": [
    "## Conditional Formatting\n",
    "Conditional formatting is a great way to highlight certain values in a table. For instance, we might want to highlight the highest and lowest values in each column.\n",
    "Let's start with highlighting rows if an element of the row meets a given condition — in this case, highlight all rows containing information relating to product A.\n",
    "\n",
    "We do this in two steps:\n",
    "\n",
    "1. Define the function highlight_product which returns a string if the given condition is met (that is, if the row relates to the specified product). The string contains a format command that we will pass through to the Styler.\n",
    "2. The resulting format command is fed through using the apply command.\n",
    "\n"
   ],
   "metadata": {
    "collapsed": false
   },
   "id": "db9279cdcd756f3"
  },
  {
   "cell_type": "code",
   "execution_count": 165,
   "outputs": [
    {
     "ename": "TypeError",
     "evalue": "'numpy.bool_' object is not iterable",
     "output_type": "error",
     "traceback": [
      "\u001B[0;31m---------------------------------------------------------------------------\u001B[0m",
      "\u001B[0;31mTypeError\u001B[0m                                 Traceback (most recent call last)",
      "File \u001B[0;32m/Library/Python/3.9/site-packages/IPython/core/formatters.py:344\u001B[0m, in \u001B[0;36mBaseFormatter.__call__\u001B[0;34m(self, obj)\u001B[0m\n\u001B[1;32m    342\u001B[0m     method \u001B[38;5;241m=\u001B[39m get_real_method(obj, \u001B[38;5;28mself\u001B[39m\u001B[38;5;241m.\u001B[39mprint_method)\n\u001B[1;32m    343\u001B[0m     \u001B[38;5;28;01mif\u001B[39;00m method \u001B[38;5;129;01mis\u001B[39;00m \u001B[38;5;129;01mnot\u001B[39;00m \u001B[38;5;28;01mNone\u001B[39;00m:\n\u001B[0;32m--> 344\u001B[0m         \u001B[38;5;28;01mreturn\u001B[39;00m \u001B[43mmethod\u001B[49m\u001B[43m(\u001B[49m\u001B[43m)\u001B[49m\n\u001B[1;32m    345\u001B[0m     \u001B[38;5;28;01mreturn\u001B[39;00m \u001B[38;5;28;01mNone\u001B[39;00m\n\u001B[1;32m    346\u001B[0m \u001B[38;5;28;01melse\u001B[39;00m:\n",
      "File \u001B[0;32m/Library/Python/3.9/site-packages/pandas/io/formats/style.py:408\u001B[0m, in \u001B[0;36mStyler._repr_html_\u001B[0;34m(self)\u001B[0m\n\u001B[1;32m    403\u001B[0m \u001B[38;5;250m\u001B[39m\u001B[38;5;124;03m\"\"\"\u001B[39;00m\n\u001B[1;32m    404\u001B[0m \u001B[38;5;124;03mHooks into Jupyter notebook rich display system, which calls _repr_html_ by\u001B[39;00m\n\u001B[1;32m    405\u001B[0m \u001B[38;5;124;03mdefault if an object is returned at the end of a cell.\u001B[39;00m\n\u001B[1;32m    406\u001B[0m \u001B[38;5;124;03m\"\"\"\u001B[39;00m\n\u001B[1;32m    407\u001B[0m \u001B[38;5;28;01mif\u001B[39;00m get_option(\u001B[38;5;124m\"\u001B[39m\u001B[38;5;124mstyler.render.repr\u001B[39m\u001B[38;5;124m\"\u001B[39m) \u001B[38;5;241m==\u001B[39m \u001B[38;5;124m\"\u001B[39m\u001B[38;5;124mhtml\u001B[39m\u001B[38;5;124m\"\u001B[39m:\n\u001B[0;32m--> 408\u001B[0m     \u001B[38;5;28;01mreturn\u001B[39;00m \u001B[38;5;28;43mself\u001B[39;49m\u001B[38;5;241;43m.\u001B[39;49m\u001B[43mto_html\u001B[49m\u001B[43m(\u001B[49m\u001B[43m)\u001B[49m\n\u001B[1;32m    409\u001B[0m \u001B[38;5;28;01mreturn\u001B[39;00m \u001B[38;5;28;01mNone\u001B[39;00m\n",
      "File \u001B[0;32m/Library/Python/3.9/site-packages/pandas/io/formats/style.py:1348\u001B[0m, in \u001B[0;36mStyler.to_html\u001B[0;34m(self, buf, table_uuid, table_attributes, sparse_index, sparse_columns, bold_headers, caption, max_rows, max_columns, encoding, doctype_html, exclude_styles, **kwargs)\u001B[0m\n\u001B[1;32m   1345\u001B[0m     obj\u001B[38;5;241m.\u001B[39mset_caption(caption)\n\u001B[1;32m   1347\u001B[0m \u001B[38;5;66;03m# Build HTML string..\u001B[39;00m\n\u001B[0;32m-> 1348\u001B[0m html \u001B[38;5;241m=\u001B[39m \u001B[43mobj\u001B[49m\u001B[38;5;241;43m.\u001B[39;49m\u001B[43m_render_html\u001B[49m\u001B[43m(\u001B[49m\n\u001B[1;32m   1349\u001B[0m \u001B[43m    \u001B[49m\u001B[43msparse_index\u001B[49m\u001B[38;5;241;43m=\u001B[39;49m\u001B[43msparse_index\u001B[49m\u001B[43m,\u001B[49m\n\u001B[1;32m   1350\u001B[0m \u001B[43m    \u001B[49m\u001B[43msparse_columns\u001B[49m\u001B[38;5;241;43m=\u001B[39;49m\u001B[43msparse_columns\u001B[49m\u001B[43m,\u001B[49m\n\u001B[1;32m   1351\u001B[0m \u001B[43m    \u001B[49m\u001B[43mmax_rows\u001B[49m\u001B[38;5;241;43m=\u001B[39;49m\u001B[43mmax_rows\u001B[49m\u001B[43m,\u001B[49m\n\u001B[1;32m   1352\u001B[0m \u001B[43m    \u001B[49m\u001B[43mmax_cols\u001B[49m\u001B[38;5;241;43m=\u001B[39;49m\u001B[43mmax_columns\u001B[49m\u001B[43m,\u001B[49m\n\u001B[1;32m   1353\u001B[0m \u001B[43m    \u001B[49m\u001B[43mexclude_styles\u001B[49m\u001B[38;5;241;43m=\u001B[39;49m\u001B[43mexclude_styles\u001B[49m\u001B[43m,\u001B[49m\n\u001B[1;32m   1354\u001B[0m \u001B[43m    \u001B[49m\u001B[43mencoding\u001B[49m\u001B[38;5;241;43m=\u001B[39;49m\u001B[43mencoding\u001B[49m\u001B[43m \u001B[49m\u001B[38;5;129;43;01mor\u001B[39;49;00m\u001B[43m \u001B[49m\u001B[43mget_option\u001B[49m\u001B[43m(\u001B[49m\u001B[38;5;124;43m\"\u001B[39;49m\u001B[38;5;124;43mstyler.render.encoding\u001B[39;49m\u001B[38;5;124;43m\"\u001B[39;49m\u001B[43m)\u001B[49m\u001B[43m,\u001B[49m\n\u001B[1;32m   1355\u001B[0m \u001B[43m    \u001B[49m\u001B[43mdoctype_html\u001B[49m\u001B[38;5;241;43m=\u001B[39;49m\u001B[43mdoctype_html\u001B[49m\u001B[43m,\u001B[49m\n\u001B[1;32m   1356\u001B[0m \u001B[43m    \u001B[49m\u001B[38;5;241;43m*\u001B[39;49m\u001B[38;5;241;43m*\u001B[39;49m\u001B[43mkwargs\u001B[49m\u001B[43m,\u001B[49m\n\u001B[1;32m   1357\u001B[0m \u001B[43m\u001B[49m\u001B[43m)\u001B[49m\n\u001B[1;32m   1359\u001B[0m \u001B[38;5;28;01mreturn\u001B[39;00m save_to_buffer(\n\u001B[1;32m   1360\u001B[0m     html, buf\u001B[38;5;241m=\u001B[39mbuf, encoding\u001B[38;5;241m=\u001B[39m(encoding \u001B[38;5;28;01mif\u001B[39;00m buf \u001B[38;5;129;01mis\u001B[39;00m \u001B[38;5;129;01mnot\u001B[39;00m \u001B[38;5;28;01mNone\u001B[39;00m \u001B[38;5;28;01melse\u001B[39;00m \u001B[38;5;28;01mNone\u001B[39;00m)\n\u001B[1;32m   1361\u001B[0m )\n",
      "File \u001B[0;32m/Library/Python/3.9/site-packages/pandas/io/formats/style_render.py:204\u001B[0m, in \u001B[0;36mStylerRenderer._render_html\u001B[0;34m(self, sparse_index, sparse_columns, max_rows, max_cols, **kwargs)\u001B[0m\n\u001B[1;32m    192\u001B[0m \u001B[38;5;28;01mdef\u001B[39;00m \u001B[38;5;21m_render_html\u001B[39m(\n\u001B[1;32m    193\u001B[0m     \u001B[38;5;28mself\u001B[39m,\n\u001B[1;32m    194\u001B[0m     sparse_index: \u001B[38;5;28mbool\u001B[39m,\n\u001B[0;32m   (...)\u001B[0m\n\u001B[1;32m    198\u001B[0m     \u001B[38;5;241m*\u001B[39m\u001B[38;5;241m*\u001B[39mkwargs,\n\u001B[1;32m    199\u001B[0m ) \u001B[38;5;241m-\u001B[39m\u001B[38;5;241m>\u001B[39m \u001B[38;5;28mstr\u001B[39m:\n\u001B[1;32m    200\u001B[0m \u001B[38;5;250m    \u001B[39m\u001B[38;5;124;03m\"\"\"\u001B[39;00m\n\u001B[1;32m    201\u001B[0m \u001B[38;5;124;03m    Renders the ``Styler`` including all applied styles to HTML.\u001B[39;00m\n\u001B[1;32m    202\u001B[0m \u001B[38;5;124;03m    Generates a dict with necessary kwargs passed to jinja2 template.\u001B[39;00m\n\u001B[1;32m    203\u001B[0m \u001B[38;5;124;03m    \"\"\"\u001B[39;00m\n\u001B[0;32m--> 204\u001B[0m     d \u001B[38;5;241m=\u001B[39m \u001B[38;5;28;43mself\u001B[39;49m\u001B[38;5;241;43m.\u001B[39;49m\u001B[43m_render\u001B[49m\u001B[43m(\u001B[49m\u001B[43msparse_index\u001B[49m\u001B[43m,\u001B[49m\u001B[43m \u001B[49m\u001B[43msparse_columns\u001B[49m\u001B[43m,\u001B[49m\u001B[43m \u001B[49m\u001B[43mmax_rows\u001B[49m\u001B[43m,\u001B[49m\u001B[43m \u001B[49m\u001B[43mmax_cols\u001B[49m\u001B[43m,\u001B[49m\u001B[43m \u001B[49m\u001B[38;5;124;43m\"\u001B[39;49m\u001B[38;5;124;43m&nbsp;\u001B[39;49m\u001B[38;5;124;43m\"\u001B[39;49m\u001B[43m)\u001B[49m\n\u001B[1;32m    205\u001B[0m     d\u001B[38;5;241m.\u001B[39mupdate(kwargs)\n\u001B[1;32m    206\u001B[0m     \u001B[38;5;28;01mreturn\u001B[39;00m \u001B[38;5;28mself\u001B[39m\u001B[38;5;241m.\u001B[39mtemplate_html\u001B[38;5;241m.\u001B[39mrender(\n\u001B[1;32m    207\u001B[0m         \u001B[38;5;241m*\u001B[39m\u001B[38;5;241m*\u001B[39md,\n\u001B[1;32m    208\u001B[0m         html_table_tpl\u001B[38;5;241m=\u001B[39m\u001B[38;5;28mself\u001B[39m\u001B[38;5;241m.\u001B[39mtemplate_html_table,\n\u001B[1;32m    209\u001B[0m         html_style_tpl\u001B[38;5;241m=\u001B[39m\u001B[38;5;28mself\u001B[39m\u001B[38;5;241m.\u001B[39mtemplate_html_style,\n\u001B[1;32m    210\u001B[0m     )\n",
      "File \u001B[0;32m/Library/Python/3.9/site-packages/pandas/io/formats/style_render.py:161\u001B[0m, in \u001B[0;36mStylerRenderer._render\u001B[0;34m(self, sparse_index, sparse_columns, max_rows, max_cols, blank)\u001B[0m\n\u001B[1;32m    147\u001B[0m \u001B[38;5;28;01mdef\u001B[39;00m \u001B[38;5;21m_render\u001B[39m(\n\u001B[1;32m    148\u001B[0m     \u001B[38;5;28mself\u001B[39m,\n\u001B[1;32m    149\u001B[0m     sparse_index: \u001B[38;5;28mbool\u001B[39m,\n\u001B[0;32m   (...)\u001B[0m\n\u001B[1;32m    153\u001B[0m     blank: \u001B[38;5;28mstr\u001B[39m \u001B[38;5;241m=\u001B[39m \u001B[38;5;124m\"\u001B[39m\u001B[38;5;124m\"\u001B[39m,\n\u001B[1;32m    154\u001B[0m ):\n\u001B[1;32m    155\u001B[0m \u001B[38;5;250m    \u001B[39m\u001B[38;5;124;03m\"\"\"\u001B[39;00m\n\u001B[1;32m    156\u001B[0m \u001B[38;5;124;03m    Computes and applies styles and then generates the general render dicts.\u001B[39;00m\n\u001B[1;32m    157\u001B[0m \n\u001B[1;32m    158\u001B[0m \u001B[38;5;124;03m    Also extends the `ctx` and `ctx_index` attributes with those of concatenated\u001B[39;00m\n\u001B[1;32m    159\u001B[0m \u001B[38;5;124;03m    stylers for use within `_translate_latex`\u001B[39;00m\n\u001B[1;32m    160\u001B[0m \u001B[38;5;124;03m    \"\"\"\u001B[39;00m\n\u001B[0;32m--> 161\u001B[0m     \u001B[38;5;28;43mself\u001B[39;49m\u001B[38;5;241;43m.\u001B[39;49m\u001B[43m_compute\u001B[49m\u001B[43m(\u001B[49m\u001B[43m)\u001B[49m\n\u001B[1;32m    162\u001B[0m     dxs \u001B[38;5;241m=\u001B[39m []\n\u001B[1;32m    163\u001B[0m     ctx_len \u001B[38;5;241m=\u001B[39m \u001B[38;5;28mlen\u001B[39m(\u001B[38;5;28mself\u001B[39m\u001B[38;5;241m.\u001B[39mindex)\n",
      "File \u001B[0;32m/Library/Python/3.9/site-packages/pandas/io/formats/style_render.py:256\u001B[0m, in \u001B[0;36mStylerRenderer._compute\u001B[0;34m(self)\u001B[0m\n\u001B[1;32m    254\u001B[0m r \u001B[38;5;241m=\u001B[39m \u001B[38;5;28mself\u001B[39m\n\u001B[1;32m    255\u001B[0m \u001B[38;5;28;01mfor\u001B[39;00m func, args, kwargs \u001B[38;5;129;01min\u001B[39;00m \u001B[38;5;28mself\u001B[39m\u001B[38;5;241m.\u001B[39m_todo:\n\u001B[0;32m--> 256\u001B[0m     r \u001B[38;5;241m=\u001B[39m \u001B[43mfunc\u001B[49m\u001B[43m(\u001B[49m\u001B[38;5;28;43mself\u001B[39;49m\u001B[43m)\u001B[49m\u001B[43m(\u001B[49m\u001B[38;5;241;43m*\u001B[39;49m\u001B[43margs\u001B[49m\u001B[43m,\u001B[49m\u001B[43m \u001B[49m\u001B[38;5;241;43m*\u001B[39;49m\u001B[38;5;241;43m*\u001B[39;49m\u001B[43mkwargs\u001B[49m\u001B[43m)\u001B[49m\n\u001B[1;32m    257\u001B[0m \u001B[38;5;28;01mreturn\u001B[39;00m r\n",
      "File \u001B[0;32m/Library/Python/3.9/site-packages/pandas/io/formats/style.py:1731\u001B[0m, in \u001B[0;36mStyler._apply\u001B[0;34m(self, func, axis, subset, **kwargs)\u001B[0m\n\u001B[1;32m   1729\u001B[0m         result \u001B[38;5;241m=\u001B[39m data\u001B[38;5;241m.\u001B[39mapply(func, axis\u001B[38;5;241m=\u001B[39m\u001B[38;5;241m0\u001B[39m, \u001B[38;5;241m*\u001B[39m\u001B[38;5;241m*\u001B[39mkwargs)\n\u001B[1;32m   1730\u001B[0m     \u001B[38;5;28;01melse\u001B[39;00m:\n\u001B[0;32m-> 1731\u001B[0m         result \u001B[38;5;241m=\u001B[39m \u001B[43mdata\u001B[49m\u001B[38;5;241;43m.\u001B[39;49m\u001B[43mT\u001B[49m\u001B[38;5;241;43m.\u001B[39;49m\u001B[43mapply\u001B[49m\u001B[43m(\u001B[49m\u001B[43mfunc\u001B[49m\u001B[43m,\u001B[49m\u001B[43m \u001B[49m\u001B[43maxis\u001B[49m\u001B[38;5;241;43m=\u001B[39;49m\u001B[38;5;241;43m0\u001B[39;49m\u001B[43m,\u001B[49m\u001B[43m \u001B[49m\u001B[38;5;241;43m*\u001B[39;49m\u001B[38;5;241;43m*\u001B[39;49m\u001B[43mkwargs\u001B[49m\u001B[43m)\u001B[49m\u001B[38;5;241m.\u001B[39mT  \u001B[38;5;66;03m# see GH 42005\u001B[39;00m\n\u001B[1;32m   1733\u001B[0m \u001B[38;5;28;01mif\u001B[39;00m \u001B[38;5;28misinstance\u001B[39m(result, Series):\n\u001B[1;32m   1734\u001B[0m     \u001B[38;5;28;01mraise\u001B[39;00m \u001B[38;5;167;01mValueError\u001B[39;00m(\n\u001B[1;32m   1735\u001B[0m         \u001B[38;5;124mf\u001B[39m\u001B[38;5;124m\"\u001B[39m\u001B[38;5;124mFunction \u001B[39m\u001B[38;5;132;01m{\u001B[39;00m\u001B[38;5;28mrepr\u001B[39m(func)\u001B[38;5;132;01m}\u001B[39;00m\u001B[38;5;124m resulted in the apply method collapsing to a \u001B[39m\u001B[38;5;124m\"\u001B[39m\n\u001B[1;32m   1736\u001B[0m         \u001B[38;5;124mf\u001B[39m\u001B[38;5;124m\"\u001B[39m\u001B[38;5;124mSeries.\u001B[39m\u001B[38;5;130;01m\\n\u001B[39;00m\u001B[38;5;124mUsually, this is the result of the function returning a \u001B[39m\u001B[38;5;124m\"\u001B[39m\n\u001B[1;32m   1737\u001B[0m         \u001B[38;5;124mf\u001B[39m\u001B[38;5;124m\"\u001B[39m\u001B[38;5;124msingle value, instead of list-like.\u001B[39m\u001B[38;5;124m\"\u001B[39m\n\u001B[1;32m   1738\u001B[0m     )\n",
      "File \u001B[0;32m/Library/Python/3.9/site-packages/pandas/core/frame.py:10034\u001B[0m, in \u001B[0;36mDataFrame.apply\u001B[0;34m(self, func, axis, raw, result_type, args, by_row, **kwargs)\u001B[0m\n\u001B[1;32m  10022\u001B[0m \u001B[38;5;28;01mfrom\u001B[39;00m \u001B[38;5;21;01mpandas\u001B[39;00m\u001B[38;5;21;01m.\u001B[39;00m\u001B[38;5;21;01mcore\u001B[39;00m\u001B[38;5;21;01m.\u001B[39;00m\u001B[38;5;21;01mapply\u001B[39;00m \u001B[38;5;28;01mimport\u001B[39;00m frame_apply\n\u001B[1;32m  10024\u001B[0m op \u001B[38;5;241m=\u001B[39m frame_apply(\n\u001B[1;32m  10025\u001B[0m     \u001B[38;5;28mself\u001B[39m,\n\u001B[1;32m  10026\u001B[0m     func\u001B[38;5;241m=\u001B[39mfunc,\n\u001B[0;32m   (...)\u001B[0m\n\u001B[1;32m  10032\u001B[0m     kwargs\u001B[38;5;241m=\u001B[39mkwargs,\n\u001B[1;32m  10033\u001B[0m )\n\u001B[0;32m> 10034\u001B[0m \u001B[38;5;28;01mreturn\u001B[39;00m \u001B[43mop\u001B[49m\u001B[38;5;241;43m.\u001B[39;49m\u001B[43mapply\u001B[49m\u001B[43m(\u001B[49m\u001B[43m)\u001B[49m\u001B[38;5;241m.\u001B[39m__finalize__(\u001B[38;5;28mself\u001B[39m, method\u001B[38;5;241m=\u001B[39m\u001B[38;5;124m\"\u001B[39m\u001B[38;5;124mapply\u001B[39m\u001B[38;5;124m\"\u001B[39m)\n",
      "File \u001B[0;32m/Library/Python/3.9/site-packages/pandas/core/apply.py:837\u001B[0m, in \u001B[0;36mFrameApply.apply\u001B[0;34m(self)\u001B[0m\n\u001B[1;32m    834\u001B[0m \u001B[38;5;28;01melif\u001B[39;00m \u001B[38;5;28mself\u001B[39m\u001B[38;5;241m.\u001B[39mraw:\n\u001B[1;32m    835\u001B[0m     \u001B[38;5;28;01mreturn\u001B[39;00m \u001B[38;5;28mself\u001B[39m\u001B[38;5;241m.\u001B[39mapply_raw()\n\u001B[0;32m--> 837\u001B[0m \u001B[38;5;28;01mreturn\u001B[39;00m \u001B[38;5;28;43mself\u001B[39;49m\u001B[38;5;241;43m.\u001B[39;49m\u001B[43mapply_standard\u001B[49m\u001B[43m(\u001B[49m\u001B[43m)\u001B[49m\n",
      "File \u001B[0;32m/Library/Python/3.9/site-packages/pandas/core/apply.py:963\u001B[0m, in \u001B[0;36mFrameApply.apply_standard\u001B[0;34m(self)\u001B[0m\n\u001B[1;32m    962\u001B[0m \u001B[38;5;28;01mdef\u001B[39;00m \u001B[38;5;21mapply_standard\u001B[39m(\u001B[38;5;28mself\u001B[39m):\n\u001B[0;32m--> 963\u001B[0m     results, res_index \u001B[38;5;241m=\u001B[39m \u001B[38;5;28;43mself\u001B[39;49m\u001B[38;5;241;43m.\u001B[39;49m\u001B[43mapply_series_generator\u001B[49m\u001B[43m(\u001B[49m\u001B[43m)\u001B[49m\n\u001B[1;32m    965\u001B[0m     \u001B[38;5;66;03m# wrap results\u001B[39;00m\n\u001B[1;32m    966\u001B[0m     \u001B[38;5;28;01mreturn\u001B[39;00m \u001B[38;5;28mself\u001B[39m\u001B[38;5;241m.\u001B[39mwrap_results(results, res_index)\n",
      "File \u001B[0;32m/Library/Python/3.9/site-packages/pandas/core/apply.py:979\u001B[0m, in \u001B[0;36mFrameApply.apply_series_generator\u001B[0;34m(self)\u001B[0m\n\u001B[1;32m    976\u001B[0m \u001B[38;5;28;01mwith\u001B[39;00m option_context(\u001B[38;5;124m\"\u001B[39m\u001B[38;5;124mmode.chained_assignment\u001B[39m\u001B[38;5;124m\"\u001B[39m, \u001B[38;5;28;01mNone\u001B[39;00m):\n\u001B[1;32m    977\u001B[0m     \u001B[38;5;28;01mfor\u001B[39;00m i, v \u001B[38;5;129;01min\u001B[39;00m \u001B[38;5;28menumerate\u001B[39m(series_gen):\n\u001B[1;32m    978\u001B[0m         \u001B[38;5;66;03m# ignore SettingWithCopy here in case the user mutates\u001B[39;00m\n\u001B[0;32m--> 979\u001B[0m         results[i] \u001B[38;5;241m=\u001B[39m \u001B[38;5;28;43mself\u001B[39;49m\u001B[38;5;241;43m.\u001B[39;49m\u001B[43mfunc\u001B[49m\u001B[43m(\u001B[49m\u001B[43mv\u001B[49m\u001B[43m,\u001B[49m\u001B[43m \u001B[49m\u001B[38;5;241;43m*\u001B[39;49m\u001B[38;5;28;43mself\u001B[39;49m\u001B[38;5;241;43m.\u001B[39;49m\u001B[43margs\u001B[49m\u001B[43m,\u001B[49m\u001B[43m \u001B[49m\u001B[38;5;241;43m*\u001B[39;49m\u001B[38;5;241;43m*\u001B[39;49m\u001B[38;5;28;43mself\u001B[39;49m\u001B[38;5;241;43m.\u001B[39;49m\u001B[43mkwargs\u001B[49m\u001B[43m)\u001B[49m\n\u001B[1;32m    980\u001B[0m         \u001B[38;5;28;01mif\u001B[39;00m \u001B[38;5;28misinstance\u001B[39m(results[i], ABCSeries):\n\u001B[1;32m    981\u001B[0m             \u001B[38;5;66;03m# If we have a view on v, we need to make a copy because\u001B[39;00m\n\u001B[1;32m    982\u001B[0m             \u001B[38;5;66;03m#  series_generator will swap out the underlying data\u001B[39;00m\n\u001B[1;32m    983\u001B[0m             results[i] \u001B[38;5;241m=\u001B[39m results[i]\u001B[38;5;241m.\u001B[39mcopy(deep\u001B[38;5;241m=\u001B[39m\u001B[38;5;28;01mFalse\u001B[39;00m)\n",
      "Cell \u001B[0;32mIn[165], line 5\u001B[0m, in \u001B[0;36mhighlight_product\u001B[0;34m(s, product, colour)\u001B[0m\n\u001B[1;32m      2\u001B[0m r \u001B[38;5;241m=\u001B[39m pd\u001B[38;5;241m.\u001B[39mSeries(data \u001B[38;5;241m=\u001B[39m \u001B[38;5;28;01mFalse\u001B[39;00m,index \u001B[38;5;241m=\u001B[39m s\u001B[38;5;241m.\u001B[39mindex)\n\u001B[1;32m      3\u001B[0m r[\u001B[38;5;124m'\u001B[39m\u001B[38;5;124mProduct\u001B[39m\u001B[38;5;124m'\u001B[39m] \u001B[38;5;241m=\u001B[39m s\u001B[38;5;241m.\u001B[39mloc[\u001B[38;5;124m'\u001B[39m\u001B[38;5;124mProduct\u001B[39m\u001B[38;5;124m'\u001B[39m] \u001B[38;5;241m==\u001B[39m product\n\u001B[0;32m----> 5\u001B[0m \u001B[38;5;28;01mreturn\u001B[39;00m [\u001B[38;5;124mf\u001B[39m\u001B[38;5;124m'\u001B[39m\u001B[38;5;124mbackground-color: \u001B[39m\u001B[38;5;132;01m{\u001B[39;00mcolour\u001B[38;5;132;01m}\u001B[39;00m\u001B[38;5;124m'\u001B[39m \u001B[38;5;28;01mif\u001B[39;00m v\u001B[38;5;241m==\u001B[39m\u001B[38;5;28;01mTrue\u001B[39;00m \u001B[38;5;28;01melse\u001B[39;00m \u001B[38;5;124m'\u001B[39m\u001B[38;5;124m'\u001B[39m \u001B[38;5;28;01mfor\u001B[39;00m v \u001B[38;5;129;01min\u001B[39;00m r[\u001B[38;5;124m'\u001B[39m\u001B[38;5;124mProduct\u001B[39m\u001B[38;5;124m'\u001B[39m]]\n",
      "\u001B[0;31mTypeError\u001B[0m: 'numpy.bool_' object is not iterable"
     ]
    },
    {
     "data": {
      "text/plain": "<pandas.io.formats.style.Styler at 0x13a47bd60>"
     },
     "metadata": {},
     "output_type": "display_data"
    }
   ],
   "source": [
    "def highlight_product(s, product,colour = 'yellow'):\n",
    "    r = pd.Series(data = False,index = s.index)\n",
    "    r['Product'] = s.loc['Product'] == product\n",
    "    \n",
    "    return [f'background-color: {colour}' if v==True else '' for v in r['Product']]\n",
    "    \n",
    "styler = df.iloc[:3].style\\\n",
    "    .apply(  # apply the conditional formatting\n",
    "        highlight_product,\n",
    "        product = 'A',\n",
    "        axis = 1\n",
    "    ).format(  # format the table\n",
    "        {\n",
    "            'Month':'{:%b, %Y}',\n",
    "            'Quotes':'{:,.0f}',\n",
    "            'Numbers':'{:,.0f}',\n",
    "            'Amounts':'£{:,.0f}',\n",
    "            'Average sale':'£{:,.2f}',\n",
    "            'Product conversion':'{:.2%}'\n",
    "        }\n",
    "    ).hide()  # hide the index  \n",
    "\n",
    "if styler:\n",
    "    display(styler)\n",
    "    \n",
    "breakpoint()   "
   ],
   "metadata": {
    "collapsed": false,
    "ExecuteTime": {
     "end_time": "2023-12-16T17:21:07.124529Z",
     "start_time": "2023-12-16T17:21:06.991783Z"
    }
   },
   "id": "15cd10687eb7588c"
  },
  {
   "cell_type": "markdown",
   "source": [],
   "metadata": {
    "collapsed": false
   },
   "id": "46a5f0c9a76732f0"
  }
 ],
 "metadata": {
  "kernelspec": {
   "display_name": "Python 3",
   "language": "python",
   "name": "python3"
  },
  "language_info": {
   "codemirror_mode": {
    "name": "ipython",
    "version": 2
   },
   "file_extension": ".py",
   "mimetype": "text/x-python",
   "name": "python",
   "nbconvert_exporter": "python",
   "pygments_lexer": "ipython2",
   "version": "2.7.6"
  }
 },
 "nbformat": 4,
 "nbformat_minor": 5
}
