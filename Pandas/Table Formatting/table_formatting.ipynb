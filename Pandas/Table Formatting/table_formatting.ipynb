{
 "cells": [
  {
   "cell_type": "markdown",
   "source": [
    "# Formatting Tables in Pandas\n"
   ],
   "metadata": {
    "collapsed": false
   },
   "id": "b0f9d1a4fce40bb7"
  },
  {
   "cell_type": "code",
   "execution_count": 29,
   "outputs": [],
   "source": [
    "# Import pandas\n",
    "import pandas as pd\n",
    "# Import numpy\n",
    "import numpy as np\n",
    "\n"
   ],
   "metadata": {
    "collapsed": false,
    "ExecuteTime": {
     "end_time": "2023-12-17T02:28:33.560868Z",
     "start_time": "2023-12-17T02:28:33.535697Z"
    }
   },
   "id": "3f6384416f65e69c"
  },
  {
   "cell_type": "markdown",
   "source": [
    "## The data\n",
    "Let's create some simulated data for two widgets, A and B. We'll create a dataframe for each widget, then concatenate them together. We'll also sort the dataframe by month and reset the index."
   ],
   "metadata": {
    "collapsed": false
   },
   "id": "10aea294c42f4a03"
  },
  {
   "cell_type": "code",
   "execution_count": 30,
   "outputs": [],
   "source": [
    "# simulated data for widget A\n",
    "df_a = pd.DataFrame(\n",
    "    {\n",
    "        'Month':pd.date_range(\n",
    "            start = '01-01-2012',\n",
    "            end = '31-12-2022',\n",
    "            freq = 'MS'\n",
    "        ),\n",
    "        'Quotes':np.random.randint(\n",
    "            low = 1_000_000,\n",
    "            high = 2_500_000,\n",
    "            size = 132\n",
    "        ),\n",
    "        'Numbers':np.random.randint(\n",
    "            low = 300_000,\n",
    "            high = 500_000,\n",
    "            size = 132\n",
    "        ),\n",
    "        'Amounts':np.random.randint(\n",
    "            low = 750_000,\n",
    "            high = 1_250_000,\n",
    "            size = 132\n",
    "        )\n",
    "    }\n",
    ")\n",
    "\n",
    "df_a['Product'] = 'A'\n",
    "\n",
    "# simulated data for widget B\n",
    "df_b = pd.DataFrame(\n",
    "    {\n",
    "        'Month':pd.date_range(\n",
    "            start = '01-01-2012',\n",
    "            end = '31-12-2022',\n",
    "            freq = 'MS'\n",
    "        ),\n",
    "        'Quotes':np.random.randint(\n",
    "            low = 100_000,\n",
    "            high = 800_000,\n",
    "            size = 132\n",
    "        ),\n",
    "        'Numbers':np.random.randint(\n",
    "            low = 10_000,\n",
    "            high = 95_000,\n",
    "            size = 132\n",
    "        ),\n",
    "        'Amounts':np.random.randint(\n",
    "            low = 450_000,\n",
    "            high = 750_000,\n",
    "            size = 132\n",
    "        )\n",
    "    }\n",
    ")\n",
    "\n",
    "df_b['Product'] = 'B'\n",
    "\n",
    "# put it together & sort\n",
    "df = pd.concat([df_a,df_b],axis = 0)\n",
    "df.sort_values(by = 'Month',inplace = True)\n",
    "df.reset_index(drop = True,inplace = True)"
   ],
   "metadata": {
    "collapsed": false,
    "ExecuteTime": {
     "end_time": "2023-12-17T02:28:33.571902Z",
     "start_time": "2023-12-17T02:28:33.569999Z"
    }
   },
   "id": "cc675bd1d269bb2e"
  },
  {
   "cell_type": "markdown",
   "source": [
    "Let’s calculate a few “interesting” statistics — average sale amounts and product conversion:"
   ],
   "metadata": {
    "collapsed": false
   },
   "id": "d441044d0d55938f"
  },
  {
   "cell_type": "code",
   "execution_count": 31,
   "outputs": [],
   "source": [
    "# average sale\n",
    "df['Average sale'] = df['Amounts'] / df['Numbers'].replace({0: np.nan})\n",
    "\n",
    "# conversion\n",
    "df['Product conversion'] = df['Numbers'] / df['Quotes'].replace({0: np.nan})"
   ],
   "metadata": {
    "collapsed": false,
    "ExecuteTime": {
     "end_time": "2023-12-17T02:28:33.577249Z",
     "start_time": "2023-12-17T02:28:33.574266Z"
    }
   },
   "id": "dd7fb5b107176fbb"
  },
  {
   "cell_type": "code",
   "execution_count": 32,
   "outputs": [
    {
     "data": {
      "text/plain": "       Month   Quotes  Numbers  Amounts Product  Average sale  \\\n0 2012-01-01  1931656   370997   979028       A      2.638911   \n1 2012-01-01   647973    38317   669811       B     17.480779   \n2 2012-02-01  2388067   402553  1237674       A      3.074562   \n\n   Product conversion  \n0            0.192062  \n1            0.059134  \n2            0.168569  ",
      "text/html": "<div>\n<style scoped>\n    .dataframe tbody tr th:only-of-type {\n        vertical-align: middle;\n    }\n\n    .dataframe tbody tr th {\n        vertical-align: top;\n    }\n\n    .dataframe thead th {\n        text-align: right;\n    }\n</style>\n<table border=\"1\" class=\"dataframe\">\n  <thead>\n    <tr style=\"text-align: right;\">\n      <th></th>\n      <th>Month</th>\n      <th>Quotes</th>\n      <th>Numbers</th>\n      <th>Amounts</th>\n      <th>Product</th>\n      <th>Average sale</th>\n      <th>Product conversion</th>\n    </tr>\n  </thead>\n  <tbody>\n    <tr>\n      <th>0</th>\n      <td>2012-01-01</td>\n      <td>1931656</td>\n      <td>370997</td>\n      <td>979028</td>\n      <td>A</td>\n      <td>2.638911</td>\n      <td>0.192062</td>\n    </tr>\n    <tr>\n      <th>1</th>\n      <td>2012-01-01</td>\n      <td>647973</td>\n      <td>38317</td>\n      <td>669811</td>\n      <td>B</td>\n      <td>17.480779</td>\n      <td>0.059134</td>\n    </tr>\n    <tr>\n      <th>2</th>\n      <td>2012-02-01</td>\n      <td>2388067</td>\n      <td>402553</td>\n      <td>1237674</td>\n      <td>A</td>\n      <td>3.074562</td>\n      <td>0.168569</td>\n    </tr>\n  </tbody>\n</table>\n</div>"
     },
     "execution_count": 32,
     "metadata": {},
     "output_type": "execute_result"
    }
   ],
   "source": [
    "df.head(3)"
   ],
   "metadata": {
    "collapsed": false,
    "ExecuteTime": {
     "end_time": "2023-12-17T02:28:33.582315Z",
     "start_time": "2023-12-17T02:28:33.580345Z"
    }
   },
   "id": "760102e02bcf12da"
  },
  {
   "cell_type": "markdown",
   "source": [
    "## Date Formatting\n",
    "There’s arguably nothing __wrong__ with the formatting, but it could be better. For instance, since all the monthly data is reflected as at the first of each month, there’s probably little sense in keeping the day element of each Month entry as it tells the reader very little."
   ],
   "metadata": {
    "collapsed": false
   },
   "id": "f3a68e7d7a96b0ff"
  },
  {
   "cell_type": "code",
   "execution_count": 33,
   "outputs": [
    {
     "data": {
      "text/plain": "<pandas.io.formats.style.Styler at 0x12fff86a0>",
      "text/html": "<style type=\"text/css\">\n</style>\n<table id=\"T_39217\">\n  <thead>\n    <tr>\n      <th class=\"blank level0\" >&nbsp;</th>\n      <th id=\"T_39217_level0_col0\" class=\"col_heading level0 col0\" >Month</th>\n      <th id=\"T_39217_level0_col1\" class=\"col_heading level0 col1\" >Quotes</th>\n      <th id=\"T_39217_level0_col2\" class=\"col_heading level0 col2\" >Numbers</th>\n      <th id=\"T_39217_level0_col3\" class=\"col_heading level0 col3\" >Amounts</th>\n      <th id=\"T_39217_level0_col4\" class=\"col_heading level0 col4\" >Product</th>\n      <th id=\"T_39217_level0_col5\" class=\"col_heading level0 col5\" >Average sale</th>\n      <th id=\"T_39217_level0_col6\" class=\"col_heading level0 col6\" >Product conversion</th>\n    </tr>\n  </thead>\n  <tbody>\n    <tr>\n      <th id=\"T_39217_level0_row0\" class=\"row_heading level0 row0\" >0</th>\n      <td id=\"T_39217_row0_col0\" class=\"data row0 col0\" >2012-01</td>\n      <td id=\"T_39217_row0_col1\" class=\"data row0 col1\" >1931656</td>\n      <td id=\"T_39217_row0_col2\" class=\"data row0 col2\" >370997</td>\n      <td id=\"T_39217_row0_col3\" class=\"data row0 col3\" >979028</td>\n      <td id=\"T_39217_row0_col4\" class=\"data row0 col4\" >A</td>\n      <td id=\"T_39217_row0_col5\" class=\"data row0 col5\" >2.638911</td>\n      <td id=\"T_39217_row0_col6\" class=\"data row0 col6\" >0.192062</td>\n    </tr>\n    <tr>\n      <th id=\"T_39217_level0_row1\" class=\"row_heading level0 row1\" >1</th>\n      <td id=\"T_39217_row1_col0\" class=\"data row1 col0\" >2012-01</td>\n      <td id=\"T_39217_row1_col1\" class=\"data row1 col1\" >647973</td>\n      <td id=\"T_39217_row1_col2\" class=\"data row1 col2\" >38317</td>\n      <td id=\"T_39217_row1_col3\" class=\"data row1 col3\" >669811</td>\n      <td id=\"T_39217_row1_col4\" class=\"data row1 col4\" >B</td>\n      <td id=\"T_39217_row1_col5\" class=\"data row1 col5\" >17.480779</td>\n      <td id=\"T_39217_row1_col6\" class=\"data row1 col6\" >0.059134</td>\n    </tr>\n    <tr>\n      <th id=\"T_39217_level0_row2\" class=\"row_heading level0 row2\" >2</th>\n      <td id=\"T_39217_row2_col0\" class=\"data row2 col0\" >2012-02</td>\n      <td id=\"T_39217_row2_col1\" class=\"data row2 col1\" >2388067</td>\n      <td id=\"T_39217_row2_col2\" class=\"data row2 col2\" >402553</td>\n      <td id=\"T_39217_row2_col3\" class=\"data row2 col3\" >1237674</td>\n      <td id=\"T_39217_row2_col4\" class=\"data row2 col4\" >A</td>\n      <td id=\"T_39217_row2_col5\" class=\"data row2 col5\" >3.074562</td>\n      <td id=\"T_39217_row2_col6\" class=\"data row2 col6\" >0.168569</td>\n    </tr>\n  </tbody>\n</table>\n"
     },
     "metadata": {},
     "output_type": "display_data"
    }
   ],
   "source": [
    "# format the date as YYYY-MM\n",
    "styler = df.iloc[:3].style.format({'Month':'{:%Y-%m}'})\n",
    "if styler:\n",
    "    display(styler)"
   ],
   "metadata": {
    "collapsed": false,
    "ExecuteTime": {
     "end_time": "2023-12-17T02:28:33.598871Z",
     "start_time": "2023-12-17T02:28:33.584485Z"
    }
   },
   "id": "7807b2b26b270e97"
  },
  {
   "cell_type": "markdown",
   "source": [
    "Now, we can improve readability even further by using the name of each month rather than the month number, and we can do this __*without having to alter the underlying data*__."
   ],
   "metadata": {
    "collapsed": false
   },
   "id": "819d1307cccad3eb"
  },
  {
   "cell_type": "code",
   "execution_count": 34,
   "outputs": [
    {
     "data": {
      "text/plain": "<pandas.io.formats.style.Styler at 0x16a0868b0>",
      "text/html": "<style type=\"text/css\">\n</style>\n<table id=\"T_046ad\">\n  <thead>\n    <tr>\n      <th class=\"blank level0\" >&nbsp;</th>\n      <th id=\"T_046ad_level0_col0\" class=\"col_heading level0 col0\" >Month</th>\n      <th id=\"T_046ad_level0_col1\" class=\"col_heading level0 col1\" >Quotes</th>\n      <th id=\"T_046ad_level0_col2\" class=\"col_heading level0 col2\" >Numbers</th>\n      <th id=\"T_046ad_level0_col3\" class=\"col_heading level0 col3\" >Amounts</th>\n      <th id=\"T_046ad_level0_col4\" class=\"col_heading level0 col4\" >Product</th>\n      <th id=\"T_046ad_level0_col5\" class=\"col_heading level0 col5\" >Average sale</th>\n      <th id=\"T_046ad_level0_col6\" class=\"col_heading level0 col6\" >Product conversion</th>\n    </tr>\n  </thead>\n  <tbody>\n    <tr>\n      <th id=\"T_046ad_level0_row0\" class=\"row_heading level0 row0\" >0</th>\n      <td id=\"T_046ad_row0_col0\" class=\"data row0 col0\" >January 2012</td>\n      <td id=\"T_046ad_row0_col1\" class=\"data row0 col1\" >1931656</td>\n      <td id=\"T_046ad_row0_col2\" class=\"data row0 col2\" >370997</td>\n      <td id=\"T_046ad_row0_col3\" class=\"data row0 col3\" >979028</td>\n      <td id=\"T_046ad_row0_col4\" class=\"data row0 col4\" >A</td>\n      <td id=\"T_046ad_row0_col5\" class=\"data row0 col5\" >2.638911</td>\n      <td id=\"T_046ad_row0_col6\" class=\"data row0 col6\" >0.192062</td>\n    </tr>\n    <tr>\n      <th id=\"T_046ad_level0_row1\" class=\"row_heading level0 row1\" >1</th>\n      <td id=\"T_046ad_row1_col0\" class=\"data row1 col0\" >January 2012</td>\n      <td id=\"T_046ad_row1_col1\" class=\"data row1 col1\" >647973</td>\n      <td id=\"T_046ad_row1_col2\" class=\"data row1 col2\" >38317</td>\n      <td id=\"T_046ad_row1_col3\" class=\"data row1 col3\" >669811</td>\n      <td id=\"T_046ad_row1_col4\" class=\"data row1 col4\" >B</td>\n      <td id=\"T_046ad_row1_col5\" class=\"data row1 col5\" >17.480779</td>\n      <td id=\"T_046ad_row1_col6\" class=\"data row1 col6\" >0.059134</td>\n    </tr>\n    <tr>\n      <th id=\"T_046ad_level0_row2\" class=\"row_heading level0 row2\" >2</th>\n      <td id=\"T_046ad_row2_col0\" class=\"data row2 col0\" >February 2012</td>\n      <td id=\"T_046ad_row2_col1\" class=\"data row2 col1\" >2388067</td>\n      <td id=\"T_046ad_row2_col2\" class=\"data row2 col2\" >402553</td>\n      <td id=\"T_046ad_row2_col3\" class=\"data row2 col3\" >1237674</td>\n      <td id=\"T_046ad_row2_col4\" class=\"data row2 col4\" >A</td>\n      <td id=\"T_046ad_row2_col5\" class=\"data row2 col5\" >3.074562</td>\n      <td id=\"T_046ad_row2_col6\" class=\"data row2 col6\" >0.168569</td>\n    </tr>\n  </tbody>\n</table>\n"
     },
     "metadata": {},
     "output_type": "display_data"
    }
   ],
   "source": [
    "styler = df.iloc[:3].style.format({'Month':'{:%B %Y}'})\n",
    "if styler:\n",
    "    display(styler)"
   ],
   "metadata": {
    "collapsed": false,
    "ExecuteTime": {
     "end_time": "2023-12-17T02:28:33.616501Z",
     "start_time": "2023-12-17T02:28:33.588936Z"
    }
   },
   "id": "3c04c43c3b23279a"
  },
  {
   "cell_type": "markdown",
   "source": [
    "Maybe a little too wordy now — let’s use abbreviations instead (e.g. “Jan” instead of “January”) and we’ll also add a comma before the year."
   ],
   "metadata": {
    "collapsed": false
   },
   "id": "29fa55f909212272"
  },
  {
   "cell_type": "code",
   "execution_count": 35,
   "outputs": [
    {
     "data": {
      "text/plain": "<pandas.io.formats.style.Styler at 0x16a097df0>",
      "text/html": "<style type=\"text/css\">\n</style>\n<table id=\"T_a5bc5\">\n  <thead>\n    <tr>\n      <th class=\"blank level0\" >&nbsp;</th>\n      <th id=\"T_a5bc5_level0_col0\" class=\"col_heading level0 col0\" >Month</th>\n      <th id=\"T_a5bc5_level0_col1\" class=\"col_heading level0 col1\" >Quotes</th>\n      <th id=\"T_a5bc5_level0_col2\" class=\"col_heading level0 col2\" >Numbers</th>\n      <th id=\"T_a5bc5_level0_col3\" class=\"col_heading level0 col3\" >Amounts</th>\n      <th id=\"T_a5bc5_level0_col4\" class=\"col_heading level0 col4\" >Product</th>\n      <th id=\"T_a5bc5_level0_col5\" class=\"col_heading level0 col5\" >Average sale</th>\n      <th id=\"T_a5bc5_level0_col6\" class=\"col_heading level0 col6\" >Product conversion</th>\n    </tr>\n  </thead>\n  <tbody>\n    <tr>\n      <th id=\"T_a5bc5_level0_row0\" class=\"row_heading level0 row0\" >0</th>\n      <td id=\"T_a5bc5_row0_col0\" class=\"data row0 col0\" >Jan, 2012</td>\n      <td id=\"T_a5bc5_row0_col1\" class=\"data row0 col1\" >1931656</td>\n      <td id=\"T_a5bc5_row0_col2\" class=\"data row0 col2\" >370997</td>\n      <td id=\"T_a5bc5_row0_col3\" class=\"data row0 col3\" >979028</td>\n      <td id=\"T_a5bc5_row0_col4\" class=\"data row0 col4\" >A</td>\n      <td id=\"T_a5bc5_row0_col5\" class=\"data row0 col5\" >2.638911</td>\n      <td id=\"T_a5bc5_row0_col6\" class=\"data row0 col6\" >0.192062</td>\n    </tr>\n    <tr>\n      <th id=\"T_a5bc5_level0_row1\" class=\"row_heading level0 row1\" >1</th>\n      <td id=\"T_a5bc5_row1_col0\" class=\"data row1 col0\" >Jan, 2012</td>\n      <td id=\"T_a5bc5_row1_col1\" class=\"data row1 col1\" >647973</td>\n      <td id=\"T_a5bc5_row1_col2\" class=\"data row1 col2\" >38317</td>\n      <td id=\"T_a5bc5_row1_col3\" class=\"data row1 col3\" >669811</td>\n      <td id=\"T_a5bc5_row1_col4\" class=\"data row1 col4\" >B</td>\n      <td id=\"T_a5bc5_row1_col5\" class=\"data row1 col5\" >17.480779</td>\n      <td id=\"T_a5bc5_row1_col6\" class=\"data row1 col6\" >0.059134</td>\n    </tr>\n    <tr>\n      <th id=\"T_a5bc5_level0_row2\" class=\"row_heading level0 row2\" >2</th>\n      <td id=\"T_a5bc5_row2_col0\" class=\"data row2 col0\" >Feb, 2012</td>\n      <td id=\"T_a5bc5_row2_col1\" class=\"data row2 col1\" >2388067</td>\n      <td id=\"T_a5bc5_row2_col2\" class=\"data row2 col2\" >402553</td>\n      <td id=\"T_a5bc5_row2_col3\" class=\"data row2 col3\" >1237674</td>\n      <td id=\"T_a5bc5_row2_col4\" class=\"data row2 col4\" >A</td>\n      <td id=\"T_a5bc5_row2_col5\" class=\"data row2 col5\" >3.074562</td>\n      <td id=\"T_a5bc5_row2_col6\" class=\"data row2 col6\" >0.168569</td>\n    </tr>\n  </tbody>\n</table>\n"
     },
     "metadata": {},
     "output_type": "display_data"
    }
   ],
   "source": [
    "styler = df.iloc[:3].style.format({'Month':'{:%b, %Y}'})\n",
    "if styler:\n",
    "    display(styler)"
   ],
   "metadata": {
    "collapsed": false,
    "ExecuteTime": {
     "end_time": "2023-12-17T02:28:33.617098Z",
     "start_time": "2023-12-17T02:28:33.593897Z"
    }
   },
   "id": "9a0c551a3292a090"
  },
  {
   "cell_type": "markdown",
   "source": [
    "## Formatting numbers with a thousand separator\n",
    "A fairly straightforward formatting experience here as we separate thousands of Quotes and Numbers using commas.\n",
    "\n",
    "What is important to note however, is that if we also want to retain the formatting we applied to the Month column (we do), then we need to extend the formatting dictionary. \n"
   ],
   "metadata": {
    "collapsed": false
   },
   "id": "b4b80c9da9d9fca2"
  },
  {
   "cell_type": "code",
   "execution_count": 36,
   "outputs": [
    {
     "data": {
      "text/plain": "<pandas.io.formats.style.Styler at 0x16a028fd0>",
      "text/html": "<style type=\"text/css\">\n</style>\n<table id=\"T_5aa33\">\n  <thead>\n    <tr>\n      <th class=\"blank level0\" >&nbsp;</th>\n      <th id=\"T_5aa33_level0_col0\" class=\"col_heading level0 col0\" >Month</th>\n      <th id=\"T_5aa33_level0_col1\" class=\"col_heading level0 col1\" >Quotes</th>\n      <th id=\"T_5aa33_level0_col2\" class=\"col_heading level0 col2\" >Numbers</th>\n      <th id=\"T_5aa33_level0_col3\" class=\"col_heading level0 col3\" >Amounts</th>\n      <th id=\"T_5aa33_level0_col4\" class=\"col_heading level0 col4\" >Product</th>\n      <th id=\"T_5aa33_level0_col5\" class=\"col_heading level0 col5\" >Average sale</th>\n      <th id=\"T_5aa33_level0_col6\" class=\"col_heading level0 col6\" >Product conversion</th>\n    </tr>\n  </thead>\n  <tbody>\n    <tr>\n      <th id=\"T_5aa33_level0_row0\" class=\"row_heading level0 row0\" >0</th>\n      <td id=\"T_5aa33_row0_col0\" class=\"data row0 col0\" >Jan, 2012</td>\n      <td id=\"T_5aa33_row0_col1\" class=\"data row0 col1\" >1,931,656</td>\n      <td id=\"T_5aa33_row0_col2\" class=\"data row0 col2\" >370,997</td>\n      <td id=\"T_5aa33_row0_col3\" class=\"data row0 col3\" >979028</td>\n      <td id=\"T_5aa33_row0_col4\" class=\"data row0 col4\" >A</td>\n      <td id=\"T_5aa33_row0_col5\" class=\"data row0 col5\" >2.638911</td>\n      <td id=\"T_5aa33_row0_col6\" class=\"data row0 col6\" >0.192062</td>\n    </tr>\n    <tr>\n      <th id=\"T_5aa33_level0_row1\" class=\"row_heading level0 row1\" >1</th>\n      <td id=\"T_5aa33_row1_col0\" class=\"data row1 col0\" >Jan, 2012</td>\n      <td id=\"T_5aa33_row1_col1\" class=\"data row1 col1\" >647,973</td>\n      <td id=\"T_5aa33_row1_col2\" class=\"data row1 col2\" >38,317</td>\n      <td id=\"T_5aa33_row1_col3\" class=\"data row1 col3\" >669811</td>\n      <td id=\"T_5aa33_row1_col4\" class=\"data row1 col4\" >B</td>\n      <td id=\"T_5aa33_row1_col5\" class=\"data row1 col5\" >17.480779</td>\n      <td id=\"T_5aa33_row1_col6\" class=\"data row1 col6\" >0.059134</td>\n    </tr>\n    <tr>\n      <th id=\"T_5aa33_level0_row2\" class=\"row_heading level0 row2\" >2</th>\n      <td id=\"T_5aa33_row2_col0\" class=\"data row2 col0\" >Feb, 2012</td>\n      <td id=\"T_5aa33_row2_col1\" class=\"data row2 col1\" >2,388,067</td>\n      <td id=\"T_5aa33_row2_col2\" class=\"data row2 col2\" >402,553</td>\n      <td id=\"T_5aa33_row2_col3\" class=\"data row2 col3\" >1237674</td>\n      <td id=\"T_5aa33_row2_col4\" class=\"data row2 col4\" >A</td>\n      <td id=\"T_5aa33_row2_col5\" class=\"data row2 col5\" >3.074562</td>\n      <td id=\"T_5aa33_row2_col6\" class=\"data row2 col6\" >0.168569</td>\n    </tr>\n  </tbody>\n</table>\n"
     },
     "metadata": {},
     "output_type": "display_data"
    }
   ],
   "source": [
    "styler = df.iloc[:3].style.format(\n",
    "    {\n",
    "        'Month':'{:%b, %Y}',\n",
    "        'Quotes':'{:,.0f}',\n",
    "        'Numbers':'{:,.0f}'\n",
    "    }\n",
    ")\n",
    "if styler:\n",
    "    display(styler)"
   ],
   "metadata": {
    "collapsed": false,
    "ExecuteTime": {
     "end_time": "2023-12-17T02:28:33.618029Z",
     "start_time": "2023-12-17T02:28:33.597971Z"
    }
   },
   "id": "7b50c001d081c0da"
  },
  {
   "cell_type": "markdown",
   "source": [
    "## Formatting currencies\n",
    "The Widget Company just so happens to produce and sell its widgets in a country that uses a currency denoted by £ (I hope somewhere warmer and sunnier than the country where I earn my £).\n",
    "\n",
    "Let’s reflect that in the table, reminding ourselves that:\n",
    "\n",
    "- At an overall level, using decimal points is probably a little much\n",
    "- At a lower level — say for instance, the average sale value — using decimals can be useful.\n",
    "So we add currency formatting for Amounts and Average sale to our formatting dictionary:"
   ],
   "metadata": {
    "collapsed": false
   },
   "id": "53db94d3889bf0a"
  },
  {
   "cell_type": "code",
   "execution_count": 37,
   "outputs": [
    {
     "data": {
      "text/plain": "<pandas.io.formats.style.Styler at 0x12ffec940>",
      "text/html": "<style type=\"text/css\">\n</style>\n<table id=\"T_ba749\">\n  <thead>\n    <tr>\n      <th class=\"blank level0\" >&nbsp;</th>\n      <th id=\"T_ba749_level0_col0\" class=\"col_heading level0 col0\" >Month</th>\n      <th id=\"T_ba749_level0_col1\" class=\"col_heading level0 col1\" >Quotes</th>\n      <th id=\"T_ba749_level0_col2\" class=\"col_heading level0 col2\" >Numbers</th>\n      <th id=\"T_ba749_level0_col3\" class=\"col_heading level0 col3\" >Amounts</th>\n      <th id=\"T_ba749_level0_col4\" class=\"col_heading level0 col4\" >Product</th>\n      <th id=\"T_ba749_level0_col5\" class=\"col_heading level0 col5\" >Average sale</th>\n      <th id=\"T_ba749_level0_col6\" class=\"col_heading level0 col6\" >Product conversion</th>\n    </tr>\n  </thead>\n  <tbody>\n    <tr>\n      <th id=\"T_ba749_level0_row0\" class=\"row_heading level0 row0\" >0</th>\n      <td id=\"T_ba749_row0_col0\" class=\"data row0 col0\" >Jan, 2012</td>\n      <td id=\"T_ba749_row0_col1\" class=\"data row0 col1\" >1,931,656</td>\n      <td id=\"T_ba749_row0_col2\" class=\"data row0 col2\" >370,997</td>\n      <td id=\"T_ba749_row0_col3\" class=\"data row0 col3\" >£979,028</td>\n      <td id=\"T_ba749_row0_col4\" class=\"data row0 col4\" >A</td>\n      <td id=\"T_ba749_row0_col5\" class=\"data row0 col5\" >£2.64</td>\n      <td id=\"T_ba749_row0_col6\" class=\"data row0 col6\" >0.192062</td>\n    </tr>\n    <tr>\n      <th id=\"T_ba749_level0_row1\" class=\"row_heading level0 row1\" >1</th>\n      <td id=\"T_ba749_row1_col0\" class=\"data row1 col0\" >Jan, 2012</td>\n      <td id=\"T_ba749_row1_col1\" class=\"data row1 col1\" >647,973</td>\n      <td id=\"T_ba749_row1_col2\" class=\"data row1 col2\" >38,317</td>\n      <td id=\"T_ba749_row1_col3\" class=\"data row1 col3\" >£669,811</td>\n      <td id=\"T_ba749_row1_col4\" class=\"data row1 col4\" >B</td>\n      <td id=\"T_ba749_row1_col5\" class=\"data row1 col5\" >£17.48</td>\n      <td id=\"T_ba749_row1_col6\" class=\"data row1 col6\" >0.059134</td>\n    </tr>\n    <tr>\n      <th id=\"T_ba749_level0_row2\" class=\"row_heading level0 row2\" >2</th>\n      <td id=\"T_ba749_row2_col0\" class=\"data row2 col0\" >Feb, 2012</td>\n      <td id=\"T_ba749_row2_col1\" class=\"data row2 col1\" >2,388,067</td>\n      <td id=\"T_ba749_row2_col2\" class=\"data row2 col2\" >402,553</td>\n      <td id=\"T_ba749_row2_col3\" class=\"data row2 col3\" >£1,237,674</td>\n      <td id=\"T_ba749_row2_col4\" class=\"data row2 col4\" >A</td>\n      <td id=\"T_ba749_row2_col5\" class=\"data row2 col5\" >£3.07</td>\n      <td id=\"T_ba749_row2_col6\" class=\"data row2 col6\" >0.168569</td>\n    </tr>\n  </tbody>\n</table>\n"
     },
     "metadata": {},
     "output_type": "display_data"
    }
   ],
   "source": [
    "styler = df.iloc[:3].style.format(\n",
    "    {\n",
    "        'Month':'{:%b, %Y}',\n",
    "        'Quotes':'{:,.0f}',\n",
    "        'Numbers':'{:,.0f}',\n",
    "        'Amounts':'£{:,.0f}',\n",
    "        'Average sale':'£{:,.2f}'\n",
    "    }\n",
    ")\n",
    "if styler:\n",
    "    display(styler)\n",
    "    \n",
    "# breakpoint()"
   ],
   "metadata": {
    "collapsed": false,
    "ExecuteTime": {
     "end_time": "2023-12-17T02:28:33.646008Z",
     "start_time": "2023-12-17T02:28:33.603475Z"
    }
   },
   "id": "4dce7fd0f8f8b497"
  },
  {
   "cell_type": "markdown",
   "source": [
    "## Formatting percentages\n",
    "Another fairly straightforward formatting step, it’s much easier to view ratios when they are expressed as percentages rather than floating point numbers.\n",
    "\n",
    "We’ll add Product conversion to our formatting dictionary:"
   ],
   "metadata": {
    "collapsed": false
   },
   "id": "27a3c679bcfd8605"
  },
  {
   "cell_type": "code",
   "execution_count": 38,
   "outputs": [
    {
     "data": {
      "text/plain": "<pandas.io.formats.style.Styler at 0x16a088a30>",
      "text/html": "<style type=\"text/css\">\n</style>\n<table id=\"T_0ea7f\">\n  <thead>\n    <tr>\n      <th class=\"blank level0\" >&nbsp;</th>\n      <th id=\"T_0ea7f_level0_col0\" class=\"col_heading level0 col0\" >Month</th>\n      <th id=\"T_0ea7f_level0_col1\" class=\"col_heading level0 col1\" >Quotes</th>\n      <th id=\"T_0ea7f_level0_col2\" class=\"col_heading level0 col2\" >Numbers</th>\n      <th id=\"T_0ea7f_level0_col3\" class=\"col_heading level0 col3\" >Amounts</th>\n      <th id=\"T_0ea7f_level0_col4\" class=\"col_heading level0 col4\" >Product</th>\n      <th id=\"T_0ea7f_level0_col5\" class=\"col_heading level0 col5\" >Average sale</th>\n      <th id=\"T_0ea7f_level0_col6\" class=\"col_heading level0 col6\" >Product conversion</th>\n    </tr>\n  </thead>\n  <tbody>\n    <tr>\n      <th id=\"T_0ea7f_level0_row0\" class=\"row_heading level0 row0\" >0</th>\n      <td id=\"T_0ea7f_row0_col0\" class=\"data row0 col0\" >Jan, 2012</td>\n      <td id=\"T_0ea7f_row0_col1\" class=\"data row0 col1\" >1,931,656</td>\n      <td id=\"T_0ea7f_row0_col2\" class=\"data row0 col2\" >370,997</td>\n      <td id=\"T_0ea7f_row0_col3\" class=\"data row0 col3\" >£979,028</td>\n      <td id=\"T_0ea7f_row0_col4\" class=\"data row0 col4\" >A</td>\n      <td id=\"T_0ea7f_row0_col5\" class=\"data row0 col5\" >£2.64</td>\n      <td id=\"T_0ea7f_row0_col6\" class=\"data row0 col6\" >19.21%</td>\n    </tr>\n    <tr>\n      <th id=\"T_0ea7f_level0_row1\" class=\"row_heading level0 row1\" >1</th>\n      <td id=\"T_0ea7f_row1_col0\" class=\"data row1 col0\" >Jan, 2012</td>\n      <td id=\"T_0ea7f_row1_col1\" class=\"data row1 col1\" >647,973</td>\n      <td id=\"T_0ea7f_row1_col2\" class=\"data row1 col2\" >38,317</td>\n      <td id=\"T_0ea7f_row1_col3\" class=\"data row1 col3\" >£669,811</td>\n      <td id=\"T_0ea7f_row1_col4\" class=\"data row1 col4\" >B</td>\n      <td id=\"T_0ea7f_row1_col5\" class=\"data row1 col5\" >£17.48</td>\n      <td id=\"T_0ea7f_row1_col6\" class=\"data row1 col6\" >5.91%</td>\n    </tr>\n    <tr>\n      <th id=\"T_0ea7f_level0_row2\" class=\"row_heading level0 row2\" >2</th>\n      <td id=\"T_0ea7f_row2_col0\" class=\"data row2 col0\" >Feb, 2012</td>\n      <td id=\"T_0ea7f_row2_col1\" class=\"data row2 col1\" >2,388,067</td>\n      <td id=\"T_0ea7f_row2_col2\" class=\"data row2 col2\" >402,553</td>\n      <td id=\"T_0ea7f_row2_col3\" class=\"data row2 col3\" >£1,237,674</td>\n      <td id=\"T_0ea7f_row2_col4\" class=\"data row2 col4\" >A</td>\n      <td id=\"T_0ea7f_row2_col5\" class=\"data row2 col5\" >£3.07</td>\n      <td id=\"T_0ea7f_row2_col6\" class=\"data row2 col6\" >16.86%</td>\n    </tr>\n  </tbody>\n</table>\n"
     },
     "metadata": {},
     "output_type": "display_data"
    }
   ],
   "source": [
    "styler = df.iloc[:3].style.format(\n",
    "    {\n",
    "        'Month':'{:%b, %Y}',\n",
    "        'Quotes':'{:,.0f}',\n",
    "        'Numbers':'{:,.0f}',\n",
    "        'Amounts':'£{:,.0f}',\n",
    "        'Average sale':'£{:,.2f}',\n",
    "        'Product conversion':'{:.2%}'\n",
    "    }\n",
    ")\n",
    "if styler:\n",
    "    display(styler)\n",
    "    \n",
    "# breakpoint()"
   ],
   "metadata": {
    "collapsed": false,
    "ExecuteTime": {
     "end_time": "2023-12-17T02:28:33.660351Z",
     "start_time": "2023-12-17T02:28:33.607983Z"
    }
   },
   "id": "611a89a27e772a20"
  },
  {
   "cell_type": "markdown",
   "source": [
    "## Hiding Indexes\n",
    "The index is a useful thing to have, but it’s not always necessary to display it. In this case, we can hide it by setting index = False:\n"
   ],
   "metadata": {
    "collapsed": false
   },
   "id": "e9579121e2ae3ead"
  },
  {
   "cell_type": "code",
   "execution_count": 39,
   "outputs": [
    {
     "data": {
      "text/plain": "<pandas.io.formats.style.Styler at 0x16a086a00>",
      "text/html": "<style type=\"text/css\">\n</style>\n<table id=\"T_27b01\">\n  <thead>\n    <tr>\n      <th id=\"T_27b01_level0_col0\" class=\"col_heading level0 col0\" >Month</th>\n      <th id=\"T_27b01_level0_col1\" class=\"col_heading level0 col1\" >Quotes</th>\n      <th id=\"T_27b01_level0_col2\" class=\"col_heading level0 col2\" >Numbers</th>\n      <th id=\"T_27b01_level0_col3\" class=\"col_heading level0 col3\" >Amounts</th>\n      <th id=\"T_27b01_level0_col4\" class=\"col_heading level0 col4\" >Product</th>\n      <th id=\"T_27b01_level0_col5\" class=\"col_heading level0 col5\" >Average sale</th>\n      <th id=\"T_27b01_level0_col6\" class=\"col_heading level0 col6\" >Product conversion</th>\n    </tr>\n  </thead>\n  <tbody>\n    <tr>\n      <td id=\"T_27b01_row0_col0\" class=\"data row0 col0\" >Jan, 2012</td>\n      <td id=\"T_27b01_row0_col1\" class=\"data row0 col1\" >1,931,656</td>\n      <td id=\"T_27b01_row0_col2\" class=\"data row0 col2\" >370,997</td>\n      <td id=\"T_27b01_row0_col3\" class=\"data row0 col3\" >£979,028</td>\n      <td id=\"T_27b01_row0_col4\" class=\"data row0 col4\" >A</td>\n      <td id=\"T_27b01_row0_col5\" class=\"data row0 col5\" >£2.64</td>\n      <td id=\"T_27b01_row0_col6\" class=\"data row0 col6\" >19.21%</td>\n    </tr>\n    <tr>\n      <td id=\"T_27b01_row1_col0\" class=\"data row1 col0\" >Jan, 2012</td>\n      <td id=\"T_27b01_row1_col1\" class=\"data row1 col1\" >647,973</td>\n      <td id=\"T_27b01_row1_col2\" class=\"data row1 col2\" >38,317</td>\n      <td id=\"T_27b01_row1_col3\" class=\"data row1 col3\" >£669,811</td>\n      <td id=\"T_27b01_row1_col4\" class=\"data row1 col4\" >B</td>\n      <td id=\"T_27b01_row1_col5\" class=\"data row1 col5\" >£17.48</td>\n      <td id=\"T_27b01_row1_col6\" class=\"data row1 col6\" >5.91%</td>\n    </tr>\n    <tr>\n      <td id=\"T_27b01_row2_col0\" class=\"data row2 col0\" >Feb, 2012</td>\n      <td id=\"T_27b01_row2_col1\" class=\"data row2 col1\" >2,388,067</td>\n      <td id=\"T_27b01_row2_col2\" class=\"data row2 col2\" >402,553</td>\n      <td id=\"T_27b01_row2_col3\" class=\"data row2 col3\" >£1,237,674</td>\n      <td id=\"T_27b01_row2_col4\" class=\"data row2 col4\" >A</td>\n      <td id=\"T_27b01_row2_col5\" class=\"data row2 col5\" >£3.07</td>\n      <td id=\"T_27b01_row2_col6\" class=\"data row2 col6\" >16.86%</td>\n    </tr>\n  </tbody>\n</table>\n"
     },
     "metadata": {},
     "output_type": "display_data"
    }
   ],
   "source": [
    "styler = df.iloc[:3].style.format(\n",
    "    {\n",
    "        'Month':'{:%b, %Y}',\n",
    "        'Quotes':'{:,.0f}',\n",
    "        'Numbers':'{:,.0f}',\n",
    "        'Amounts':'£{:,.0f}',\n",
    "        'Average sale':'£{:,.2f}',\n",
    "        'Product conversion':'{:.2%}'\n",
    "    }\n",
    ").hide()  # hide the index\n",
    "\n",
    "if styler:\n",
    "    display(styler)\n",
    "    \n",
    "# breakpoint()\n"
   ],
   "metadata": {
    "collapsed": false,
    "ExecuteTime": {
     "end_time": "2023-12-17T02:28:33.670094Z",
     "start_time": "2023-12-17T02:28:33.614976Z"
    }
   },
   "id": "fc7c7573ec0cc853"
  },
  {
   "cell_type": "markdown",
   "source": [
    "## Conditional Formatting\n",
    "Conditional formatting is a great way to highlight certain values in a table. For instance, we might want to highlight the highest and lowest values in each column.\n",
    "Let's start with highlighting rows if an element of the row meets a given condition — in this case, highlight all rows containing information relating to product A.\n",
    "\n",
    "We do this in two steps:\n",
    "\n",
    "1. Define the function highlight_product which returns a string if the given condition is met (that is, if the row relates to the specified product). The string contains a format command that we will pass through to the Styler.\n",
    "2. The resulting format command is fed through using the apply command.\n",
    "\n"
   ],
   "metadata": {
    "collapsed": false
   },
   "id": "db9279cdcd756f3"
  },
  {
   "cell_type": "code",
   "execution_count": 41,
   "outputs": [
    {
     "data": {
      "text/plain": "<pandas.io.formats.style.Styler at 0x12fde8a90>",
      "text/html": "<style type=\"text/css\">\n#T_cd49c_row0_col0, #T_cd49c_row0_col1, #T_cd49c_row0_col2, #T_cd49c_row0_col3, #T_cd49c_row0_col4, #T_cd49c_row0_col5, #T_cd49c_row0_col6, #T_cd49c_row2_col0, #T_cd49c_row2_col1, #T_cd49c_row2_col2, #T_cd49c_row2_col3, #T_cd49c_row2_col4, #T_cd49c_row2_col5, #T_cd49c_row2_col6 {\n  background-color: yellow;\n}\n</style>\n<table id=\"T_cd49c\">\n  <thead>\n    <tr>\n      <th class=\"blank level0\" >&nbsp;</th>\n      <th id=\"T_cd49c_level0_col0\" class=\"col_heading level0 col0\" >Month</th>\n      <th id=\"T_cd49c_level0_col1\" class=\"col_heading level0 col1\" >Quotes</th>\n      <th id=\"T_cd49c_level0_col2\" class=\"col_heading level0 col2\" >Numbers</th>\n      <th id=\"T_cd49c_level0_col3\" class=\"col_heading level0 col3\" >Amounts</th>\n      <th id=\"T_cd49c_level0_col4\" class=\"col_heading level0 col4\" >Product</th>\n      <th id=\"T_cd49c_level0_col5\" class=\"col_heading level0 col5\" >Average sale</th>\n      <th id=\"T_cd49c_level0_col6\" class=\"col_heading level0 col6\" >Product conversion</th>\n    </tr>\n  </thead>\n  <tbody>\n    <tr>\n      <th id=\"T_cd49c_level0_row0\" class=\"row_heading level0 row0\" >0</th>\n      <td id=\"T_cd49c_row0_col0\" class=\"data row0 col0\" >2012-01-01 00:00:00</td>\n      <td id=\"T_cd49c_row0_col1\" class=\"data row0 col1\" >1931656</td>\n      <td id=\"T_cd49c_row0_col2\" class=\"data row0 col2\" >370997</td>\n      <td id=\"T_cd49c_row0_col3\" class=\"data row0 col3\" >979028</td>\n      <td id=\"T_cd49c_row0_col4\" class=\"data row0 col4\" >A</td>\n      <td id=\"T_cd49c_row0_col5\" class=\"data row0 col5\" >2.638911</td>\n      <td id=\"T_cd49c_row0_col6\" class=\"data row0 col6\" >0.192062</td>\n    </tr>\n    <tr>\n      <th id=\"T_cd49c_level0_row1\" class=\"row_heading level0 row1\" >1</th>\n      <td id=\"T_cd49c_row1_col0\" class=\"data row1 col0\" >2012-01-01 00:00:00</td>\n      <td id=\"T_cd49c_row1_col1\" class=\"data row1 col1\" >647973</td>\n      <td id=\"T_cd49c_row1_col2\" class=\"data row1 col2\" >38317</td>\n      <td id=\"T_cd49c_row1_col3\" class=\"data row1 col3\" >669811</td>\n      <td id=\"T_cd49c_row1_col4\" class=\"data row1 col4\" >B</td>\n      <td id=\"T_cd49c_row1_col5\" class=\"data row1 col5\" >17.480779</td>\n      <td id=\"T_cd49c_row1_col6\" class=\"data row1 col6\" >0.059134</td>\n    </tr>\n    <tr>\n      <th id=\"T_cd49c_level0_row2\" class=\"row_heading level0 row2\" >2</th>\n      <td id=\"T_cd49c_row2_col0\" class=\"data row2 col0\" >2012-02-01 00:00:00</td>\n      <td id=\"T_cd49c_row2_col1\" class=\"data row2 col1\" >2388067</td>\n      <td id=\"T_cd49c_row2_col2\" class=\"data row2 col2\" >402553</td>\n      <td id=\"T_cd49c_row2_col3\" class=\"data row2 col3\" >1237674</td>\n      <td id=\"T_cd49c_row2_col4\" class=\"data row2 col4\" >A</td>\n      <td id=\"T_cd49c_row2_col5\" class=\"data row2 col5\" >3.074562</td>\n      <td id=\"T_cd49c_row2_col6\" class=\"data row2 col6\" >0.168569</td>\n    </tr>\n  </tbody>\n</table>\n"
     },
     "metadata": {},
     "output_type": "display_data"
    }
   ],
   "source": [
    "def highlight_product(row, product, background_color='yellow'):\n",
    "    if row['Product'] == product:\n",
    "        return len(row) * [f'background-color: {background_color}']\n",
    "    else:\n",
    "        return len(row) * ['']\n",
    "    \n",
    "styler = df.iloc[:3].style\\\n",
    "    .apply(  # apply the conditional formatting\n",
    "        highlight_product,\n",
    "        product = 'A',\n",
    "        axis = 1\n",
    "    ).format(  # format the table\n",
    "        {\n",
    "            'Month':'{:%b, %Y}',\n",
    "            'Quotes':'{:,.0f}',\n",
    "            'Numbers':'{:,.0f}',\n",
    "            'Amounts':'£{:,.0f}',\n",
    "            'Average sale':'£{:,.2f}',\n",
    "            'Product conversion':'{:.2%}'\n",
    "        }\n",
    "    ).hide()  # hide the index  \n",
    "\n",
    "if styler:\n",
    "    display(styler)\n",
    "    \n",
    "# breakpoint()   "
   ],
   "metadata": {
    "collapsed": false,
    "ExecuteTime": {
     "end_time": "2023-12-17T02:32:06.482246Z",
     "start_time": "2023-12-17T02:30:46.532615Z"
    }
   },
   "id": "15cd10687eb7588c"
  },
  {
   "cell_type": "markdown",
   "source": [
    "## Highlighting the highest and lowest values in each column\n",
    "We can also highlight the highest and lowest values in each column. We do this in two steps:\n",
    "1. Define the function highlight_min_max which returns a string if the given condition is met (that is, if the value is the highest or lowest in the column). The string contains a format command that we will pass through to the Styler.\n",
    "2. The resulting format command is fed through using the applymap command.\n",
    "3. We also add a gradient to the table using the background_gradient command.\n",
    "4. Finally, we add a caption to the table using the set_caption command.\n",
    "5. We can also add a title to the table using the set_table_styles command.   "
   ],
   "metadata": {
    "collapsed": false
   },
   "id": "b4df387b5be3c3ca"
  },
  {
   "cell_type": "code",
   "execution_count": 60,
   "outputs": [],
   "source": [
    "def highlight_min_max(value, background_color='yellow'):\n",
    "    breakpoint()\n",
    "    # ret = ''\n",
    "    if value == value.min():\n",
    "        ret = f'background-color: {background_color}'\n",
    "    elif value == value.max():\n",
    "        ret = f'background-color: {background_color}'\n",
    "    else:\n",
    "        ret = ''\n",
    "    print(ret)\n",
    "    return ret\n",
    "\n",
    "styler = df.style\\\n",
    "    .highlight_min(color='pink')\\\n",
    "    .highlight_max(color='lightgreen')\\\n",
    "    .format(  # format the table\n",
    "        {\n",
    "            'Month':'{:%b, %Y}',\n",
    "            'Quotes':'{:,.0f}',\n",
    "            'Numbers':'{:,.0f}',\n",
    "            'Amounts':'£{:,.0f}',\n",
    "            'Average sale':'£{:,.2f}',\n",
    "            'Product conversion':'{:.2%}'\n",
    "        }\n",
    "    ).hide()  # hide the index\n",
    "\n",
    "# breakpoint()\n",
    "\n"
   ],
   "metadata": {
    "collapsed": false,
    "ExecuteTime": {
     "end_time": "2023-12-17T03:16:28.299444Z",
     "start_time": "2023-12-17T03:16:28.287345Z"
    }
   },
   "id": "8ce1135556d076a4"
  },
  {
   "cell_type": "code",
   "execution_count": 58,
   "outputs": [],
   "source": [],
   "metadata": {
    "collapsed": false,
    "ExecuteTime": {
     "end_time": "2023-12-17T03:10:17.505901Z",
     "start_time": "2023-12-17T03:10:17.502516Z"
    }
   },
   "id": "3eb5a98c4f09ef2c"
  }
 ],
 "metadata": {
  "kernelspec": {
   "display_name": "Python 3",
   "language": "python",
   "name": "python3"
  },
  "language_info": {
   "codemirror_mode": {
    "name": "ipython",
    "version": 2
   },
   "file_extension": ".py",
   "mimetype": "text/x-python",
   "name": "python",
   "nbconvert_exporter": "python",
   "pygments_lexer": "ipython2",
   "version": "2.7.6"
  }
 },
 "nbformat": 4,
 "nbformat_minor": 5
}
