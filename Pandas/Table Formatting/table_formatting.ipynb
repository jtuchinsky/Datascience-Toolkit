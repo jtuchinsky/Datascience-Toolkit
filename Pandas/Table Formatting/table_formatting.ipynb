{
 "cells": [
  {
   "cell_type": "markdown",
   "source": [
    "# Formatting Tables in Pandas\n"
   ],
   "metadata": {
    "collapsed": false
   },
   "id": "b0f9d1a4fce40bb7"
  },
  {
   "cell_type": "code",
   "execution_count": 115,
   "outputs": [],
   "source": [
    "# Import pandas\n",
    "import pandas as pd\n",
    "# Import numpy\n",
    "import numpy as np\n",
    "\n"
   ],
   "metadata": {
    "collapsed": false,
    "ExecuteTime": {
     "end_time": "2023-12-10T02:30:25.038918Z",
     "start_time": "2023-12-10T02:30:25.022310Z"
    }
   },
   "id": "3f6384416f65e69c"
  },
  {
   "cell_type": "markdown",
   "source": [
    "## The data\n",
    "Let's create some simulated data for two widgets, A and B. We'll create a dataframe for each widget, then concatenate them together. We'll also sort the dataframe by month and reset the index."
   ],
   "metadata": {
    "collapsed": false
   },
   "id": "10aea294c42f4a03"
  },
  {
   "cell_type": "code",
   "execution_count": 116,
   "outputs": [],
   "source": [
    "# simulated data for widget A\n",
    "df_a = pd.DataFrame(\n",
    "    {\n",
    "        'Month':pd.date_range(\n",
    "            start = '01-01-2012',\n",
    "            end = '31-12-2022',\n",
    "            freq = 'MS'\n",
    "        ),\n",
    "        'Quotes':np.random.randint(\n",
    "            low = 1_000_000,\n",
    "            high = 2_500_000,\n",
    "            size = 132\n",
    "        ),\n",
    "        'Numbers':np.random.randint(\n",
    "            low = 300_000,\n",
    "            high = 500_000,\n",
    "            size = 132\n",
    "        ),\n",
    "        'Amounts':np.random.randint(\n",
    "            low = 750_000,\n",
    "            high = 1_250_000,\n",
    "            size = 132\n",
    "        )\n",
    "    }\n",
    ")\n",
    "\n",
    "df_a['Product'] = 'A'\n",
    "\n",
    "# simulated data for widget B\n",
    "df_b = pd.DataFrame(\n",
    "    {\n",
    "        'Month':pd.date_range(\n",
    "            start = '01-01-2012',\n",
    "            end = '31-12-2022',\n",
    "            freq = 'MS'\n",
    "        ),\n",
    "        'Quotes':np.random.randint(\n",
    "            low = 100_000,\n",
    "            high = 800_000,\n",
    "            size = 132\n",
    "        ),\n",
    "        'Numbers':np.random.randint(\n",
    "            low = 10_000,\n",
    "            high = 95_000,\n",
    "            size = 132\n",
    "        ),\n",
    "        'Amounts':np.random.randint(\n",
    "            low = 450_000,\n",
    "            high = 750_000,\n",
    "            size = 132\n",
    "        )\n",
    "    }\n",
    ")\n",
    "\n",
    "df_b['Product'] = 'B'\n",
    "\n",
    "# put it together & sort\n",
    "df = pd.concat([df_a,df_b],axis = 0)\n",
    "df.sort_values(by = 'Month',inplace = True)\n",
    "df.reset_index(drop = True,inplace = True)"
   ],
   "metadata": {
    "collapsed": false,
    "ExecuteTime": {
     "end_time": "2023-12-10T02:30:25.039149Z",
     "start_time": "2023-12-10T02:30:25.031181Z"
    }
   },
   "id": "cc675bd1d269bb2e"
  },
  {
   "cell_type": "markdown",
   "source": [
    "Let’s calculate a few “interesting” statistics — average sale amounts and product conversion:"
   ],
   "metadata": {
    "collapsed": false
   },
   "id": "d441044d0d55938f"
  },
  {
   "cell_type": "code",
   "execution_count": 117,
   "outputs": [],
   "source": [
    "# average sale\n",
    "df['Average sale'] = df['Amounts'] / df['Numbers'].replace({0: np.nan})\n",
    "\n",
    "# conversion\n",
    "df['Product conversion'] = df['Numbers'] / df['Quotes'].replace({0: np.nan})"
   ],
   "metadata": {
    "collapsed": false,
    "ExecuteTime": {
     "end_time": "2023-12-10T02:30:25.057936Z",
     "start_time": "2023-12-10T02:30:25.042201Z"
    }
   },
   "id": "dd7fb5b107176fbb"
  },
  {
   "cell_type": "code",
   "execution_count": 118,
   "outputs": [
    {
     "data": {
      "text/plain": "       Month   Quotes  Numbers  Amounts Product  Average sale  \\\n0 2012-01-01  2262341   333547  1187219       A      3.559375   \n1 2012-01-01   229564    43286   581620       B     13.436677   \n2 2012-02-01  2259383   362565  1206744       A      3.328352   \n\n   Product conversion  \n0            0.147434  \n1            0.188557  \n2            0.160471  ",
      "text/html": "<div>\n<style scoped>\n    .dataframe tbody tr th:only-of-type {\n        vertical-align: middle;\n    }\n\n    .dataframe tbody tr th {\n        vertical-align: top;\n    }\n\n    .dataframe thead th {\n        text-align: right;\n    }\n</style>\n<table border=\"1\" class=\"dataframe\">\n  <thead>\n    <tr style=\"text-align: right;\">\n      <th></th>\n      <th>Month</th>\n      <th>Quotes</th>\n      <th>Numbers</th>\n      <th>Amounts</th>\n      <th>Product</th>\n      <th>Average sale</th>\n      <th>Product conversion</th>\n    </tr>\n  </thead>\n  <tbody>\n    <tr>\n      <th>0</th>\n      <td>2012-01-01</td>\n      <td>2262341</td>\n      <td>333547</td>\n      <td>1187219</td>\n      <td>A</td>\n      <td>3.559375</td>\n      <td>0.147434</td>\n    </tr>\n    <tr>\n      <th>1</th>\n      <td>2012-01-01</td>\n      <td>229564</td>\n      <td>43286</td>\n      <td>581620</td>\n      <td>B</td>\n      <td>13.436677</td>\n      <td>0.188557</td>\n    </tr>\n    <tr>\n      <th>2</th>\n      <td>2012-02-01</td>\n      <td>2259383</td>\n      <td>362565</td>\n      <td>1206744</td>\n      <td>A</td>\n      <td>3.328352</td>\n      <td>0.160471</td>\n    </tr>\n  </tbody>\n</table>\n</div>"
     },
     "execution_count": 118,
     "metadata": {},
     "output_type": "execute_result"
    }
   ],
   "source": [
    "df.head(3)"
   ],
   "metadata": {
    "collapsed": false,
    "ExecuteTime": {
     "end_time": "2023-12-10T02:30:25.058387Z",
     "start_time": "2023-12-10T02:30:25.047538Z"
    }
   },
   "id": "760102e02bcf12da"
  },
  {
   "cell_type": "markdown",
   "source": [
    "## Date Formatting\n",
    "There’s arguably nothing __wrong__ with the formatting, but it could be better. For instance, since all the monthly data is reflected as at the first of each month, there’s probably little sense in keeping the day element of each Month entry as it tells the reader very little."
   ],
   "metadata": {
    "collapsed": false
   },
   "id": "f3a68e7d7a96b0ff"
  },
  {
   "cell_type": "code",
   "execution_count": 119,
   "outputs": [
    {
     "data": {
      "text/plain": "<pandas.io.formats.style.Styler at 0x13a50c430>",
      "text/html": "<style type=\"text/css\">\n</style>\n<table id=\"T_bc494\">\n  <thead>\n    <tr>\n      <th class=\"blank level0\" >&nbsp;</th>\n      <th id=\"T_bc494_level0_col0\" class=\"col_heading level0 col0\" >Month</th>\n      <th id=\"T_bc494_level0_col1\" class=\"col_heading level0 col1\" >Quotes</th>\n      <th id=\"T_bc494_level0_col2\" class=\"col_heading level0 col2\" >Numbers</th>\n      <th id=\"T_bc494_level0_col3\" class=\"col_heading level0 col3\" >Amounts</th>\n      <th id=\"T_bc494_level0_col4\" class=\"col_heading level0 col4\" >Product</th>\n      <th id=\"T_bc494_level0_col5\" class=\"col_heading level0 col5\" >Average sale</th>\n      <th id=\"T_bc494_level0_col6\" class=\"col_heading level0 col6\" >Product conversion</th>\n    </tr>\n  </thead>\n  <tbody>\n    <tr>\n      <th id=\"T_bc494_level0_row0\" class=\"row_heading level0 row0\" >0</th>\n      <td id=\"T_bc494_row0_col0\" class=\"data row0 col0\" >2012-01</td>\n      <td id=\"T_bc494_row0_col1\" class=\"data row0 col1\" >2262341</td>\n      <td id=\"T_bc494_row0_col2\" class=\"data row0 col2\" >333547</td>\n      <td id=\"T_bc494_row0_col3\" class=\"data row0 col3\" >1187219</td>\n      <td id=\"T_bc494_row0_col4\" class=\"data row0 col4\" >A</td>\n      <td id=\"T_bc494_row0_col5\" class=\"data row0 col5\" >3.559375</td>\n      <td id=\"T_bc494_row0_col6\" class=\"data row0 col6\" >0.147434</td>\n    </tr>\n    <tr>\n      <th id=\"T_bc494_level0_row1\" class=\"row_heading level0 row1\" >1</th>\n      <td id=\"T_bc494_row1_col0\" class=\"data row1 col0\" >2012-01</td>\n      <td id=\"T_bc494_row1_col1\" class=\"data row1 col1\" >229564</td>\n      <td id=\"T_bc494_row1_col2\" class=\"data row1 col2\" >43286</td>\n      <td id=\"T_bc494_row1_col3\" class=\"data row1 col3\" >581620</td>\n      <td id=\"T_bc494_row1_col4\" class=\"data row1 col4\" >B</td>\n      <td id=\"T_bc494_row1_col5\" class=\"data row1 col5\" >13.436677</td>\n      <td id=\"T_bc494_row1_col6\" class=\"data row1 col6\" >0.188557</td>\n    </tr>\n    <tr>\n      <th id=\"T_bc494_level0_row2\" class=\"row_heading level0 row2\" >2</th>\n      <td id=\"T_bc494_row2_col0\" class=\"data row2 col0\" >2012-02</td>\n      <td id=\"T_bc494_row2_col1\" class=\"data row2 col1\" >2259383</td>\n      <td id=\"T_bc494_row2_col2\" class=\"data row2 col2\" >362565</td>\n      <td id=\"T_bc494_row2_col3\" class=\"data row2 col3\" >1206744</td>\n      <td id=\"T_bc494_row2_col4\" class=\"data row2 col4\" >A</td>\n      <td id=\"T_bc494_row2_col5\" class=\"data row2 col5\" >3.328352</td>\n      <td id=\"T_bc494_row2_col6\" class=\"data row2 col6\" >0.160471</td>\n    </tr>\n  </tbody>\n</table>\n"
     },
     "metadata": {},
     "output_type": "display_data"
    }
   ],
   "source": [
    "# format the date as YYYY-MM\n",
    "styler = df.iloc[:3].style.format({'Month':'{:%Y-%m}'})\n",
    "if styler:\n",
    "    display(styler)"
   ],
   "metadata": {
    "collapsed": false,
    "ExecuteTime": {
     "end_time": "2023-12-10T02:30:25.058768Z",
     "start_time": "2023-12-10T02:30:25.049962Z"
    }
   },
   "id": "7807b2b26b270e97"
  },
  {
   "cell_type": "markdown",
   "source": [
    "Now, we can improve readability even further by using the name of each month rather than the month number, and we can do this __*without having to alter the underlying data*__."
   ],
   "metadata": {
    "collapsed": false
   },
   "id": "819d1307cccad3eb"
  },
  {
   "cell_type": "code",
   "execution_count": 120,
   "outputs": [
    {
     "data": {
      "text/plain": "<pandas.io.formats.style.Styler at 0x13a4643a0>",
      "text/html": "<style type=\"text/css\">\n</style>\n<table id=\"T_2519e\">\n  <thead>\n    <tr>\n      <th class=\"blank level0\" >&nbsp;</th>\n      <th id=\"T_2519e_level0_col0\" class=\"col_heading level0 col0\" >Month</th>\n      <th id=\"T_2519e_level0_col1\" class=\"col_heading level0 col1\" >Quotes</th>\n      <th id=\"T_2519e_level0_col2\" class=\"col_heading level0 col2\" >Numbers</th>\n      <th id=\"T_2519e_level0_col3\" class=\"col_heading level0 col3\" >Amounts</th>\n      <th id=\"T_2519e_level0_col4\" class=\"col_heading level0 col4\" >Product</th>\n      <th id=\"T_2519e_level0_col5\" class=\"col_heading level0 col5\" >Average sale</th>\n      <th id=\"T_2519e_level0_col6\" class=\"col_heading level0 col6\" >Product conversion</th>\n    </tr>\n  </thead>\n  <tbody>\n    <tr>\n      <th id=\"T_2519e_level0_row0\" class=\"row_heading level0 row0\" >0</th>\n      <td id=\"T_2519e_row0_col0\" class=\"data row0 col0\" >January 2012</td>\n      <td id=\"T_2519e_row0_col1\" class=\"data row0 col1\" >2262341</td>\n      <td id=\"T_2519e_row0_col2\" class=\"data row0 col2\" >333547</td>\n      <td id=\"T_2519e_row0_col3\" class=\"data row0 col3\" >1187219</td>\n      <td id=\"T_2519e_row0_col4\" class=\"data row0 col4\" >A</td>\n      <td id=\"T_2519e_row0_col5\" class=\"data row0 col5\" >3.559375</td>\n      <td id=\"T_2519e_row0_col6\" class=\"data row0 col6\" >0.147434</td>\n    </tr>\n    <tr>\n      <th id=\"T_2519e_level0_row1\" class=\"row_heading level0 row1\" >1</th>\n      <td id=\"T_2519e_row1_col0\" class=\"data row1 col0\" >January 2012</td>\n      <td id=\"T_2519e_row1_col1\" class=\"data row1 col1\" >229564</td>\n      <td id=\"T_2519e_row1_col2\" class=\"data row1 col2\" >43286</td>\n      <td id=\"T_2519e_row1_col3\" class=\"data row1 col3\" >581620</td>\n      <td id=\"T_2519e_row1_col4\" class=\"data row1 col4\" >B</td>\n      <td id=\"T_2519e_row1_col5\" class=\"data row1 col5\" >13.436677</td>\n      <td id=\"T_2519e_row1_col6\" class=\"data row1 col6\" >0.188557</td>\n    </tr>\n    <tr>\n      <th id=\"T_2519e_level0_row2\" class=\"row_heading level0 row2\" >2</th>\n      <td id=\"T_2519e_row2_col0\" class=\"data row2 col0\" >February 2012</td>\n      <td id=\"T_2519e_row2_col1\" class=\"data row2 col1\" >2259383</td>\n      <td id=\"T_2519e_row2_col2\" class=\"data row2 col2\" >362565</td>\n      <td id=\"T_2519e_row2_col3\" class=\"data row2 col3\" >1206744</td>\n      <td id=\"T_2519e_row2_col4\" class=\"data row2 col4\" >A</td>\n      <td id=\"T_2519e_row2_col5\" class=\"data row2 col5\" >3.328352</td>\n      <td id=\"T_2519e_row2_col6\" class=\"data row2 col6\" >0.160471</td>\n    </tr>\n  </tbody>\n</table>\n"
     },
     "metadata": {},
     "output_type": "display_data"
    }
   ],
   "source": [
    "styler = df.iloc[:3].style.format({'Month':'{:%B %Y}'})\n",
    "if styler:\n",
    "    display(styler)"
   ],
   "metadata": {
    "collapsed": false,
    "ExecuteTime": {
     "end_time": "2023-12-10T02:30:25.059190Z",
     "start_time": "2023-12-10T02:30:25.055989Z"
    }
   },
   "id": "3c04c43c3b23279a"
  },
  {
   "cell_type": "markdown",
   "source": [
    "Maybe a little too wordy now — let’s use abbreviations instead (e.g. “Jan” instead of “January”) and we’ll also add a comma before the year."
   ],
   "metadata": {
    "collapsed": false
   },
   "id": "29fa55f909212272"
  },
  {
   "cell_type": "code",
   "execution_count": 121,
   "outputs": [
    {
     "data": {
      "text/plain": "<pandas.io.formats.style.Styler at 0x13a4c75b0>",
      "text/html": "<style type=\"text/css\">\n</style>\n<table id=\"T_eddd2\">\n  <thead>\n    <tr>\n      <th class=\"blank level0\" >&nbsp;</th>\n      <th id=\"T_eddd2_level0_col0\" class=\"col_heading level0 col0\" >Month</th>\n      <th id=\"T_eddd2_level0_col1\" class=\"col_heading level0 col1\" >Quotes</th>\n      <th id=\"T_eddd2_level0_col2\" class=\"col_heading level0 col2\" >Numbers</th>\n      <th id=\"T_eddd2_level0_col3\" class=\"col_heading level0 col3\" >Amounts</th>\n      <th id=\"T_eddd2_level0_col4\" class=\"col_heading level0 col4\" >Product</th>\n      <th id=\"T_eddd2_level0_col5\" class=\"col_heading level0 col5\" >Average sale</th>\n      <th id=\"T_eddd2_level0_col6\" class=\"col_heading level0 col6\" >Product conversion</th>\n    </tr>\n  </thead>\n  <tbody>\n    <tr>\n      <th id=\"T_eddd2_level0_row0\" class=\"row_heading level0 row0\" >0</th>\n      <td id=\"T_eddd2_row0_col0\" class=\"data row0 col0\" >Jan, 2012</td>\n      <td id=\"T_eddd2_row0_col1\" class=\"data row0 col1\" >2262341</td>\n      <td id=\"T_eddd2_row0_col2\" class=\"data row0 col2\" >333547</td>\n      <td id=\"T_eddd2_row0_col3\" class=\"data row0 col3\" >1187219</td>\n      <td id=\"T_eddd2_row0_col4\" class=\"data row0 col4\" >A</td>\n      <td id=\"T_eddd2_row0_col5\" class=\"data row0 col5\" >3.559375</td>\n      <td id=\"T_eddd2_row0_col6\" class=\"data row0 col6\" >0.147434</td>\n    </tr>\n    <tr>\n      <th id=\"T_eddd2_level0_row1\" class=\"row_heading level0 row1\" >1</th>\n      <td id=\"T_eddd2_row1_col0\" class=\"data row1 col0\" >Jan, 2012</td>\n      <td id=\"T_eddd2_row1_col1\" class=\"data row1 col1\" >229564</td>\n      <td id=\"T_eddd2_row1_col2\" class=\"data row1 col2\" >43286</td>\n      <td id=\"T_eddd2_row1_col3\" class=\"data row1 col3\" >581620</td>\n      <td id=\"T_eddd2_row1_col4\" class=\"data row1 col4\" >B</td>\n      <td id=\"T_eddd2_row1_col5\" class=\"data row1 col5\" >13.436677</td>\n      <td id=\"T_eddd2_row1_col6\" class=\"data row1 col6\" >0.188557</td>\n    </tr>\n    <tr>\n      <th id=\"T_eddd2_level0_row2\" class=\"row_heading level0 row2\" >2</th>\n      <td id=\"T_eddd2_row2_col0\" class=\"data row2 col0\" >Feb, 2012</td>\n      <td id=\"T_eddd2_row2_col1\" class=\"data row2 col1\" >2259383</td>\n      <td id=\"T_eddd2_row2_col2\" class=\"data row2 col2\" >362565</td>\n      <td id=\"T_eddd2_row2_col3\" class=\"data row2 col3\" >1206744</td>\n      <td id=\"T_eddd2_row2_col4\" class=\"data row2 col4\" >A</td>\n      <td id=\"T_eddd2_row2_col5\" class=\"data row2 col5\" >3.328352</td>\n      <td id=\"T_eddd2_row2_col6\" class=\"data row2 col6\" >0.160471</td>\n    </tr>\n  </tbody>\n</table>\n"
     },
     "metadata": {},
     "output_type": "display_data"
    }
   ],
   "source": [
    "styler = df.iloc[:3].style.format({'Month':'{:%b, %Y}'})\n",
    "if styler:\n",
    "    display(styler)"
   ],
   "metadata": {
    "collapsed": false,
    "ExecuteTime": {
     "end_time": "2023-12-10T02:30:25.065056Z",
     "start_time": "2023-12-10T02:30:25.058756Z"
    }
   },
   "id": "9a0c551a3292a090"
  },
  {
   "cell_type": "markdown",
   "source": [
    "## Formatting numbers with a thousand separator\n",
    "A fairly straightforward formatting experience here as we separate thousands of Quotes and Numbers using commas.\n",
    "\n",
    "What is important to note however, is that if we also want to retain the formatting we applied to the Month column (we do), then we need to extend the formatting dictionary. \n"
   ],
   "metadata": {
    "collapsed": false
   },
   "id": "b4b80c9da9d9fca2"
  },
  {
   "cell_type": "code",
   "execution_count": 122,
   "outputs": [
    {
     "data": {
      "text/plain": "<pandas.io.formats.style.Styler at 0x13a42faf0>",
      "text/html": "<style type=\"text/css\">\n</style>\n<table id=\"T_56991\">\n  <thead>\n    <tr>\n      <th class=\"blank level0\" >&nbsp;</th>\n      <th id=\"T_56991_level0_col0\" class=\"col_heading level0 col0\" >Month</th>\n      <th id=\"T_56991_level0_col1\" class=\"col_heading level0 col1\" >Quotes</th>\n      <th id=\"T_56991_level0_col2\" class=\"col_heading level0 col2\" >Numbers</th>\n      <th id=\"T_56991_level0_col3\" class=\"col_heading level0 col3\" >Amounts</th>\n      <th id=\"T_56991_level0_col4\" class=\"col_heading level0 col4\" >Product</th>\n      <th id=\"T_56991_level0_col5\" class=\"col_heading level0 col5\" >Average sale</th>\n      <th id=\"T_56991_level0_col6\" class=\"col_heading level0 col6\" >Product conversion</th>\n    </tr>\n  </thead>\n  <tbody>\n    <tr>\n      <th id=\"T_56991_level0_row0\" class=\"row_heading level0 row0\" >0</th>\n      <td id=\"T_56991_row0_col0\" class=\"data row0 col0\" >Jan, 2012</td>\n      <td id=\"T_56991_row0_col1\" class=\"data row0 col1\" >2,262,341</td>\n      <td id=\"T_56991_row0_col2\" class=\"data row0 col2\" >333,547</td>\n      <td id=\"T_56991_row0_col3\" class=\"data row0 col3\" >1187219</td>\n      <td id=\"T_56991_row0_col4\" class=\"data row0 col4\" >A</td>\n      <td id=\"T_56991_row0_col5\" class=\"data row0 col5\" >3.559375</td>\n      <td id=\"T_56991_row0_col6\" class=\"data row0 col6\" >0.147434</td>\n    </tr>\n    <tr>\n      <th id=\"T_56991_level0_row1\" class=\"row_heading level0 row1\" >1</th>\n      <td id=\"T_56991_row1_col0\" class=\"data row1 col0\" >Jan, 2012</td>\n      <td id=\"T_56991_row1_col1\" class=\"data row1 col1\" >229,564</td>\n      <td id=\"T_56991_row1_col2\" class=\"data row1 col2\" >43,286</td>\n      <td id=\"T_56991_row1_col3\" class=\"data row1 col3\" >581620</td>\n      <td id=\"T_56991_row1_col4\" class=\"data row1 col4\" >B</td>\n      <td id=\"T_56991_row1_col5\" class=\"data row1 col5\" >13.436677</td>\n      <td id=\"T_56991_row1_col6\" class=\"data row1 col6\" >0.188557</td>\n    </tr>\n    <tr>\n      <th id=\"T_56991_level0_row2\" class=\"row_heading level0 row2\" >2</th>\n      <td id=\"T_56991_row2_col0\" class=\"data row2 col0\" >Feb, 2012</td>\n      <td id=\"T_56991_row2_col1\" class=\"data row2 col1\" >2,259,383</td>\n      <td id=\"T_56991_row2_col2\" class=\"data row2 col2\" >362,565</td>\n      <td id=\"T_56991_row2_col3\" class=\"data row2 col3\" >1206744</td>\n      <td id=\"T_56991_row2_col4\" class=\"data row2 col4\" >A</td>\n      <td id=\"T_56991_row2_col5\" class=\"data row2 col5\" >3.328352</td>\n      <td id=\"T_56991_row2_col6\" class=\"data row2 col6\" >0.160471</td>\n    </tr>\n  </tbody>\n</table>\n"
     },
     "metadata": {},
     "output_type": "display_data"
    }
   ],
   "source": [
    "styler = df.iloc[:3].style.format(\n",
    "    {\n",
    "        'Month':'{:%b, %Y}',\n",
    "        'Quotes':'{:,.0f}',\n",
    "        'Numbers':'{:,.0f}'\n",
    "    }\n",
    ")\n",
    "if styler:\n",
    "    display(styler)"
   ],
   "metadata": {
    "collapsed": false,
    "ExecuteTime": {
     "end_time": "2023-12-10T02:30:25.068314Z",
     "start_time": "2023-12-10T02:30:25.063373Z"
    }
   },
   "id": "7b50c001d081c0da"
  },
  {
   "cell_type": "markdown",
   "source": [
    "## Formatting currencies\n",
    "The Widget Company just so happens to produce and sell its widgets in a country that uses a currency denoted by £ (I hope somewhere warmer and sunnier than the country where I earn my £).\n",
    "\n",
    "Let’s reflect that in the table, reminding ourselves that:\n",
    "\n",
    "- At an overall level, using decimal points is probably a little much\n",
    "- At a lower level — say for instance, the average sale value — using decimals can be useful.\n",
    "So we add currency formatting for Amounts and Average sale to our formatting dictionary:"
   ],
   "metadata": {
    "collapsed": false
   },
   "id": "53db94d3889bf0a"
  },
  {
   "cell_type": "code",
   "execution_count": 123,
   "outputs": [
    {
     "data": {
      "text/plain": "<pandas.io.formats.style.Styler at 0x13a51c040>",
      "text/html": "<style type=\"text/css\">\n</style>\n<table id=\"T_235c7\">\n  <thead>\n    <tr>\n      <th class=\"blank level0\" >&nbsp;</th>\n      <th id=\"T_235c7_level0_col0\" class=\"col_heading level0 col0\" >Month</th>\n      <th id=\"T_235c7_level0_col1\" class=\"col_heading level0 col1\" >Quotes</th>\n      <th id=\"T_235c7_level0_col2\" class=\"col_heading level0 col2\" >Numbers</th>\n      <th id=\"T_235c7_level0_col3\" class=\"col_heading level0 col3\" >Amounts</th>\n      <th id=\"T_235c7_level0_col4\" class=\"col_heading level0 col4\" >Product</th>\n      <th id=\"T_235c7_level0_col5\" class=\"col_heading level0 col5\" >Average sale</th>\n      <th id=\"T_235c7_level0_col6\" class=\"col_heading level0 col6\" >Product conversion</th>\n    </tr>\n  </thead>\n  <tbody>\n    <tr>\n      <th id=\"T_235c7_level0_row0\" class=\"row_heading level0 row0\" >0</th>\n      <td id=\"T_235c7_row0_col0\" class=\"data row0 col0\" >Jan, 2012</td>\n      <td id=\"T_235c7_row0_col1\" class=\"data row0 col1\" >2,262,341</td>\n      <td id=\"T_235c7_row0_col2\" class=\"data row0 col2\" >333,547</td>\n      <td id=\"T_235c7_row0_col3\" class=\"data row0 col3\" >£1,187,219</td>\n      <td id=\"T_235c7_row0_col4\" class=\"data row0 col4\" >A</td>\n      <td id=\"T_235c7_row0_col5\" class=\"data row0 col5\" >£3.56</td>\n      <td id=\"T_235c7_row0_col6\" class=\"data row0 col6\" >0.147434</td>\n    </tr>\n    <tr>\n      <th id=\"T_235c7_level0_row1\" class=\"row_heading level0 row1\" >1</th>\n      <td id=\"T_235c7_row1_col0\" class=\"data row1 col0\" >Jan, 2012</td>\n      <td id=\"T_235c7_row1_col1\" class=\"data row1 col1\" >229,564</td>\n      <td id=\"T_235c7_row1_col2\" class=\"data row1 col2\" >43,286</td>\n      <td id=\"T_235c7_row1_col3\" class=\"data row1 col3\" >£581,620</td>\n      <td id=\"T_235c7_row1_col4\" class=\"data row1 col4\" >B</td>\n      <td id=\"T_235c7_row1_col5\" class=\"data row1 col5\" >£13.44</td>\n      <td id=\"T_235c7_row1_col6\" class=\"data row1 col6\" >0.188557</td>\n    </tr>\n    <tr>\n      <th id=\"T_235c7_level0_row2\" class=\"row_heading level0 row2\" >2</th>\n      <td id=\"T_235c7_row2_col0\" class=\"data row2 col0\" >Feb, 2012</td>\n      <td id=\"T_235c7_row2_col1\" class=\"data row2 col1\" >2,259,383</td>\n      <td id=\"T_235c7_row2_col2\" class=\"data row2 col2\" >362,565</td>\n      <td id=\"T_235c7_row2_col3\" class=\"data row2 col3\" >£1,206,744</td>\n      <td id=\"T_235c7_row2_col4\" class=\"data row2 col4\" >A</td>\n      <td id=\"T_235c7_row2_col5\" class=\"data row2 col5\" >£3.33</td>\n      <td id=\"T_235c7_row2_col6\" class=\"data row2 col6\" >0.160471</td>\n    </tr>\n  </tbody>\n</table>\n"
     },
     "metadata": {},
     "output_type": "display_data"
    }
   ],
   "source": [
    "styler = df.iloc[:3].style.format(\n",
    "    {\n",
    "        'Month':'{:%b, %Y}',\n",
    "        'Quotes':'{:,.0f}',\n",
    "        'Numbers':'{:,.0f}',\n",
    "        'Amounts':'£{:,.0f}',\n",
    "        'Average sale':'£{:,.2f}'\n",
    "    }\n",
    ")\n",
    "if styler:\n",
    "    display(styler)\n",
    "    \n",
    "breakpoint()"
   ],
   "metadata": {
    "collapsed": false,
    "ExecuteTime": {
     "end_time": "2023-12-10T02:30:25.083456Z",
     "start_time": "2023-12-10T02:30:25.067779Z"
    }
   },
   "id": "4dce7fd0f8f8b497"
  },
  {
   "cell_type": "markdown",
   "source": [
    "## Formatting percentages\n",
    "Another fairly straightforward formatting step, it’s much easier to view ratios when they are expressed as percentages rather than floating point numbers.\n",
    "\n",
    "We’ll add Product conversion to our formatting dictionary:"
   ],
   "metadata": {
    "collapsed": false
   },
   "id": "27a3c679bcfd8605"
  },
  {
   "cell_type": "code",
   "execution_count": 124,
   "outputs": [
    {
     "data": {
      "text/plain": "<pandas.io.formats.style.Styler at 0x13a42f0a0>",
      "text/html": "<style type=\"text/css\">\n</style>\n<table id=\"T_96215\">\n  <thead>\n    <tr>\n      <th class=\"blank level0\" >&nbsp;</th>\n      <th id=\"T_96215_level0_col0\" class=\"col_heading level0 col0\" >Month</th>\n      <th id=\"T_96215_level0_col1\" class=\"col_heading level0 col1\" >Quotes</th>\n      <th id=\"T_96215_level0_col2\" class=\"col_heading level0 col2\" >Numbers</th>\n      <th id=\"T_96215_level0_col3\" class=\"col_heading level0 col3\" >Amounts</th>\n      <th id=\"T_96215_level0_col4\" class=\"col_heading level0 col4\" >Product</th>\n      <th id=\"T_96215_level0_col5\" class=\"col_heading level0 col5\" >Average sale</th>\n      <th id=\"T_96215_level0_col6\" class=\"col_heading level0 col6\" >Product conversion</th>\n    </tr>\n  </thead>\n  <tbody>\n    <tr>\n      <th id=\"T_96215_level0_row0\" class=\"row_heading level0 row0\" >0</th>\n      <td id=\"T_96215_row0_col0\" class=\"data row0 col0\" >Jan, 2012</td>\n      <td id=\"T_96215_row0_col1\" class=\"data row0 col1\" >2,262,341</td>\n      <td id=\"T_96215_row0_col2\" class=\"data row0 col2\" >333,547</td>\n      <td id=\"T_96215_row0_col3\" class=\"data row0 col3\" >£1,187,219</td>\n      <td id=\"T_96215_row0_col4\" class=\"data row0 col4\" >A</td>\n      <td id=\"T_96215_row0_col5\" class=\"data row0 col5\" >£3.56</td>\n      <td id=\"T_96215_row0_col6\" class=\"data row0 col6\" >14.74%</td>\n    </tr>\n    <tr>\n      <th id=\"T_96215_level0_row1\" class=\"row_heading level0 row1\" >1</th>\n      <td id=\"T_96215_row1_col0\" class=\"data row1 col0\" >Jan, 2012</td>\n      <td id=\"T_96215_row1_col1\" class=\"data row1 col1\" >229,564</td>\n      <td id=\"T_96215_row1_col2\" class=\"data row1 col2\" >43,286</td>\n      <td id=\"T_96215_row1_col3\" class=\"data row1 col3\" >£581,620</td>\n      <td id=\"T_96215_row1_col4\" class=\"data row1 col4\" >B</td>\n      <td id=\"T_96215_row1_col5\" class=\"data row1 col5\" >£13.44</td>\n      <td id=\"T_96215_row1_col6\" class=\"data row1 col6\" >18.86%</td>\n    </tr>\n    <tr>\n      <th id=\"T_96215_level0_row2\" class=\"row_heading level0 row2\" >2</th>\n      <td id=\"T_96215_row2_col0\" class=\"data row2 col0\" >Feb, 2012</td>\n      <td id=\"T_96215_row2_col1\" class=\"data row2 col1\" >2,259,383</td>\n      <td id=\"T_96215_row2_col2\" class=\"data row2 col2\" >362,565</td>\n      <td id=\"T_96215_row2_col3\" class=\"data row2 col3\" >£1,206,744</td>\n      <td id=\"T_96215_row2_col4\" class=\"data row2 col4\" >A</td>\n      <td id=\"T_96215_row2_col5\" class=\"data row2 col5\" >£3.33</td>\n      <td id=\"T_96215_row2_col6\" class=\"data row2 col6\" >16.05%</td>\n    </tr>\n  </tbody>\n</table>\n"
     },
     "metadata": {},
     "output_type": "display_data"
    }
   ],
   "source": [
    "styler = df.iloc[:3].style.format(\n",
    "    {\n",
    "        'Month':'{:%b, %Y}',\n",
    "        'Quotes':'{:,.0f}',\n",
    "        'Numbers':'{:,.0f}',\n",
    "        'Amounts':'£{:,.0f}',\n",
    "        'Average sale':'£{:,.2f}',\n",
    "        'Product conversion':'{:.2%}'\n",
    "    }\n",
    ")\n",
    "if styler:\n",
    "    display(styler)\n",
    "    \n",
    "breakpoint()"
   ],
   "metadata": {
    "collapsed": false,
    "ExecuteTime": {
     "end_time": "2023-12-10T02:30:25.088727Z",
     "start_time": "2023-12-10T02:30:25.073909Z"
    }
   },
   "id": "611a89a27e772a20"
  },
  {
   "cell_type": "markdown",
   "source": [
    "## Hiding Indexes\n",
    "The index is a useful thing to have, but it’s not always necessary to display it. In this case, we can hide it by setting index = False:\n"
   ],
   "metadata": {
    "collapsed": false
   },
   "id": "e9579121e2ae3ead"
  },
  {
   "cell_type": "code",
   "execution_count": 125,
   "outputs": [
    {
     "data": {
      "text/plain": "<pandas.io.formats.style.Styler at 0x13a47b100>",
      "text/html": "<style type=\"text/css\">\n</style>\n<table id=\"T_0f535\">\n  <thead>\n    <tr>\n      <th id=\"T_0f535_level0_col0\" class=\"col_heading level0 col0\" >Month</th>\n      <th id=\"T_0f535_level0_col1\" class=\"col_heading level0 col1\" >Quotes</th>\n      <th id=\"T_0f535_level0_col2\" class=\"col_heading level0 col2\" >Numbers</th>\n      <th id=\"T_0f535_level0_col3\" class=\"col_heading level0 col3\" >Amounts</th>\n      <th id=\"T_0f535_level0_col4\" class=\"col_heading level0 col4\" >Product</th>\n      <th id=\"T_0f535_level0_col5\" class=\"col_heading level0 col5\" >Average sale</th>\n      <th id=\"T_0f535_level0_col6\" class=\"col_heading level0 col6\" >Product conversion</th>\n    </tr>\n  </thead>\n  <tbody>\n    <tr>\n      <td id=\"T_0f535_row0_col0\" class=\"data row0 col0\" >Jan, 2012</td>\n      <td id=\"T_0f535_row0_col1\" class=\"data row0 col1\" >2,262,341</td>\n      <td id=\"T_0f535_row0_col2\" class=\"data row0 col2\" >333,547</td>\n      <td id=\"T_0f535_row0_col3\" class=\"data row0 col3\" >£1,187,219</td>\n      <td id=\"T_0f535_row0_col4\" class=\"data row0 col4\" >A</td>\n      <td id=\"T_0f535_row0_col5\" class=\"data row0 col5\" >£3.56</td>\n      <td id=\"T_0f535_row0_col6\" class=\"data row0 col6\" >14.74%</td>\n    </tr>\n    <tr>\n      <td id=\"T_0f535_row1_col0\" class=\"data row1 col0\" >Jan, 2012</td>\n      <td id=\"T_0f535_row1_col1\" class=\"data row1 col1\" >229,564</td>\n      <td id=\"T_0f535_row1_col2\" class=\"data row1 col2\" >43,286</td>\n      <td id=\"T_0f535_row1_col3\" class=\"data row1 col3\" >£581,620</td>\n      <td id=\"T_0f535_row1_col4\" class=\"data row1 col4\" >B</td>\n      <td id=\"T_0f535_row1_col5\" class=\"data row1 col5\" >£13.44</td>\n      <td id=\"T_0f535_row1_col6\" class=\"data row1 col6\" >18.86%</td>\n    </tr>\n    <tr>\n      <td id=\"T_0f535_row2_col0\" class=\"data row2 col0\" >Feb, 2012</td>\n      <td id=\"T_0f535_row2_col1\" class=\"data row2 col1\" >2,259,383</td>\n      <td id=\"T_0f535_row2_col2\" class=\"data row2 col2\" >362,565</td>\n      <td id=\"T_0f535_row2_col3\" class=\"data row2 col3\" >£1,206,744</td>\n      <td id=\"T_0f535_row2_col4\" class=\"data row2 col4\" >A</td>\n      <td id=\"T_0f535_row2_col5\" class=\"data row2 col5\" >£3.33</td>\n      <td id=\"T_0f535_row2_col6\" class=\"data row2 col6\" >16.05%</td>\n    </tr>\n  </tbody>\n</table>\n"
     },
     "metadata": {},
     "output_type": "display_data"
    }
   ],
   "source": [
    "styler = df.iloc[:3].style.format(\n",
    "    {\n",
    "        'Month':'{:%b, %Y}',\n",
    "        'Quotes':'{:,.0f}',\n",
    "        'Numbers':'{:,.0f}',\n",
    "        'Amounts':'£{:,.0f}',\n",
    "        'Average sale':'£{:,.2f}',\n",
    "        'Product conversion':'{:.2%}'\n",
    "    }\n",
    ").hide()  # hide the index\n",
    "\n",
    "if styler:\n",
    "    display(styler)\n",
    "    \n",
    "breakpoint()\n"
   ],
   "metadata": {
    "collapsed": false,
    "ExecuteTime": {
     "end_time": "2023-12-10T02:30:25.089077Z",
     "start_time": "2023-12-10T02:30:25.078547Z"
    }
   },
   "id": "fc7c7573ec0cc853"
  },
  {
   "cell_type": "code",
   "execution_count": 125,
   "outputs": [],
   "source": [],
   "metadata": {
    "collapsed": false,
    "ExecuteTime": {
     "end_time": "2023-12-10T02:30:25.091977Z",
     "start_time": "2023-12-10T02:30:25.081797Z"
    }
   },
   "id": "7117ba29cdf2ce1"
  }
 ],
 "metadata": {
  "kernelspec": {
   "display_name": "Python 3",
   "language": "python",
   "name": "python3"
  },
  "language_info": {
   "codemirror_mode": {
    "name": "ipython",
    "version": 2
   },
   "file_extension": ".py",
   "mimetype": "text/x-python",
   "name": "python",
   "nbconvert_exporter": "python",
   "pygments_lexer": "ipython2",
   "version": "2.7.6"
  }
 },
 "nbformat": 4,
 "nbformat_minor": 5
}
