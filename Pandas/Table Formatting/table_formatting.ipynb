{
 "cells": [
  {
   "cell_type": "markdown",
   "source": [
    "# Formatting Tables in Pandas\n"
   ],
   "metadata": {
    "collapsed": false
   },
   "id": "b0f9d1a4fce40bb7"
  },
  {
   "cell_type": "code",
   "execution_count": 58,
   "outputs": [],
   "source": [
    "# Import pandas\n",
    "import pandas as pd\n",
    "# Import numpy\n",
    "import numpy as np\n",
    "\n"
   ],
   "metadata": {
    "collapsed": false,
    "ExecuteTime": {
     "end_time": "2023-12-09T14:28:42.954770Z",
     "start_time": "2023-12-09T14:28:42.943392Z"
    }
   },
   "id": "3f6384416f65e69c"
  },
  {
   "cell_type": "markdown",
   "source": [
    "## The data\n",
    "Let's create some simulated data for two widgets, A and B. We'll create a dataframe for each widget, then concatenate them together. We'll also sort the dataframe by month and reset the index."
   ],
   "metadata": {
    "collapsed": false
   },
   "id": "10aea294c42f4a03"
  },
  {
   "cell_type": "code",
   "execution_count": 59,
   "outputs": [],
   "source": [
    "# simulated data for widget A\n",
    "df_a = pd.DataFrame(\n",
    "    {\n",
    "        'Month':pd.date_range(\n",
    "            start = '01-01-2012',\n",
    "            end = '31-12-2022',\n",
    "            freq = 'MS'\n",
    "        ),\n",
    "        'Quotes':np.random.randint(\n",
    "            low = 1_000_000,\n",
    "            high = 2_500_000,\n",
    "            size = 132\n",
    "        ),\n",
    "        'Numbers':np.random.randint(\n",
    "            low = 300_000,\n",
    "            high = 500_000,\n",
    "            size = 132\n",
    "        ),\n",
    "        'Amounts':np.random.randint(\n",
    "            low = 750_000,\n",
    "            high = 1_250_000,\n",
    "            size = 132\n",
    "        )\n",
    "    }\n",
    ")\n",
    "\n",
    "df_a['Product'] = 'A'\n",
    "\n",
    "# simulated data for widget B\n",
    "df_b = pd.DataFrame(\n",
    "    {\n",
    "        'Month':pd.date_range(\n",
    "            start = '01-01-2012',\n",
    "            end = '31-12-2022',\n",
    "            freq = 'MS'\n",
    "        ),\n",
    "        'Quotes':np.random.randint(\n",
    "            low = 100_000,\n",
    "            high = 800_000,\n",
    "            size = 132\n",
    "        ),\n",
    "        'Numbers':np.random.randint(\n",
    "            low = 10_000,\n",
    "            high = 95_000,\n",
    "            size = 132\n",
    "        ),\n",
    "        'Amounts':np.random.randint(\n",
    "            low = 450_000,\n",
    "            high = 750_000,\n",
    "            size = 132\n",
    "        )\n",
    "    }\n",
    ")\n",
    "\n",
    "df_b['Product'] = 'B'\n",
    "\n",
    "# put it together & sort\n",
    "df = pd.concat([df_a,df_b],axis = 0)\n",
    "df.sort_values(by = 'Month',inplace = True)\n",
    "df.reset_index(drop = True,inplace = True)"
   ],
   "metadata": {
    "collapsed": false,
    "ExecuteTime": {
     "end_time": "2023-12-09T14:28:42.975284Z",
     "start_time": "2023-12-09T14:28:42.962821Z"
    }
   },
   "id": "cc675bd1d269bb2e"
  },
  {
   "cell_type": "markdown",
   "source": [
    "Let’s calculate a few “interesting” statistics — average sale amounts and product conversion:"
   ],
   "metadata": {
    "collapsed": false
   },
   "id": "d441044d0d55938f"
  },
  {
   "cell_type": "code",
   "execution_count": 60,
   "outputs": [],
   "source": [
    "# average sale\n",
    "df['Average sale'] = df['Amounts'] / df['Numbers']\n",
    "\n",
    "# conversion\n",
    "df['Product conversion'] = df['Numbers'] / df['Quotes']"
   ],
   "metadata": {
    "collapsed": false,
    "ExecuteTime": {
     "end_time": "2023-12-09T14:28:42.975626Z",
     "start_time": "2023-12-09T14:28:42.967245Z"
    }
   },
   "id": "dd7fb5b107176fbb"
  },
  {
   "cell_type": "code",
   "execution_count": 61,
   "outputs": [
    {
     "data": {
      "text/plain": "       Month   Quotes  Numbers  Amounts Product  Average sale  \\\n0 2012-01-01  2146725   407150   772616       A      1.897620   \n1 2012-01-01   337194    34423   684239       B     19.877378   \n2 2012-02-01  2480546   431656  1081002       A      2.504314   \n\n   Product conversion  \n0            0.189661  \n1            0.102087  \n2            0.174017  ",
      "text/html": "<div>\n<style scoped>\n    .dataframe tbody tr th:only-of-type {\n        vertical-align: middle;\n    }\n\n    .dataframe tbody tr th {\n        vertical-align: top;\n    }\n\n    .dataframe thead th {\n        text-align: right;\n    }\n</style>\n<table border=\"1\" class=\"dataframe\">\n  <thead>\n    <tr style=\"text-align: right;\">\n      <th></th>\n      <th>Month</th>\n      <th>Quotes</th>\n      <th>Numbers</th>\n      <th>Amounts</th>\n      <th>Product</th>\n      <th>Average sale</th>\n      <th>Product conversion</th>\n    </tr>\n  </thead>\n  <tbody>\n    <tr>\n      <th>0</th>\n      <td>2012-01-01</td>\n      <td>2146725</td>\n      <td>407150</td>\n      <td>772616</td>\n      <td>A</td>\n      <td>1.897620</td>\n      <td>0.189661</td>\n    </tr>\n    <tr>\n      <th>1</th>\n      <td>2012-01-01</td>\n      <td>337194</td>\n      <td>34423</td>\n      <td>684239</td>\n      <td>B</td>\n      <td>19.877378</td>\n      <td>0.102087</td>\n    </tr>\n    <tr>\n      <th>2</th>\n      <td>2012-02-01</td>\n      <td>2480546</td>\n      <td>431656</td>\n      <td>1081002</td>\n      <td>A</td>\n      <td>2.504314</td>\n      <td>0.174017</td>\n    </tr>\n  </tbody>\n</table>\n</div>"
     },
     "execution_count": 61,
     "metadata": {},
     "output_type": "execute_result"
    }
   ],
   "source": [
    "df.head(3)"
   ],
   "metadata": {
    "collapsed": false,
    "ExecuteTime": {
     "end_time": "2023-12-09T14:28:42.976078Z",
     "start_time": "2023-12-09T14:28:42.972648Z"
    }
   },
   "id": "760102e02bcf12da"
  },
  {
   "cell_type": "markdown",
   "source": [
    "## Date Formatting\n",
    "There’s arguably nothing __wrong__ with the formatting, but it could be better. For instance, since all the monthly data is reflected as at the first of each month, there’s probably little sense in keeping the day element of each Month entry as it tells the reader very little."
   ],
   "metadata": {
    "collapsed": false
   },
   "id": "f3a68e7d7a96b0ff"
  },
  {
   "cell_type": "code",
   "execution_count": null,
   "outputs": [
    {
     "data": {
      "text/plain": "       Month   Quotes  Numbers  Amounts Product  Average sale  \\\n0 2012-01-01  2146725   407150   772616       A      1.897620   \n1 2012-01-01   337194    34423   684239       B     19.877378   \n2 2012-02-01  2480546   431656  1081002       A      2.504314   \n\n   Product conversion  \n0            0.189661  \n1            0.102087  \n2            0.174017  ",
      "text/html": "<div>\n<style scoped>\n    .dataframe tbody tr th:only-of-type {\n        vertical-align: middle;\n    }\n\n    .dataframe tbody tr th {\n        vertical-align: top;\n    }\n\n    .dataframe thead th {\n        text-align: right;\n    }\n</style>\n<table border=\"1\" class=\"dataframe\">\n  <thead>\n    <tr style=\"text-align: right;\">\n      <th></th>\n      <th>Month</th>\n      <th>Quotes</th>\n      <th>Numbers</th>\n      <th>Amounts</th>\n      <th>Product</th>\n      <th>Average sale</th>\n      <th>Product conversion</th>\n    </tr>\n  </thead>\n  <tbody>\n    <tr>\n      <th>0</th>\n      <td>2012-01-01</td>\n      <td>2146725</td>\n      <td>407150</td>\n      <td>772616</td>\n      <td>A</td>\n      <td>1.897620</td>\n      <td>0.189661</td>\n    </tr>\n    <tr>\n      <th>1</th>\n      <td>2012-01-01</td>\n      <td>337194</td>\n      <td>34423</td>\n      <td>684239</td>\n      <td>B</td>\n      <td>19.877378</td>\n      <td>0.102087</td>\n    </tr>\n    <tr>\n      <th>2</th>\n      <td>2012-02-01</td>\n      <td>2480546</td>\n      <td>431656</td>\n      <td>1081002</td>\n      <td>A</td>\n      <td>2.504314</td>\n      <td>0.174017</td>\n    </tr>\n  </tbody>\n</table>\n</div>"
     },
     "metadata": {},
     "output_type": "display_data"
    }
   ],
   "source": [
    "# format the date as YYYY-MM\n",
    "# df.style.format({'Month':'{:%Y-%m}'})\n",
    "disp = df.iloc[:3]\n",
    "disp.style.format({'Month':'{:%Y-%m}'})\n",
    "display(disp)\n",
    "breakpoint()\n",
    "# display(df.head(3))"
   ],
   "metadata": {
    "collapsed": false,
    "is_executing": true,
    "ExecuteTime": {
     "start_time": "2023-12-09T14:39:41.020616Z"
    }
   },
   "id": "7807b2b26b270e97"
  },
  {
   "cell_type": "markdown",
   "source": [],
   "metadata": {
    "collapsed": false
   },
   "id": "76994d45b35e6fab"
  },
  {
   "cell_type": "code",
   "execution_count": 63,
   "outputs": [],
   "source": [
    "# display(df.head(3))"
   ],
   "metadata": {
    "collapsed": false,
    "ExecuteTime": {
     "end_time": "2023-12-09T14:28:42.980717Z",
     "start_time": "2023-12-09T14:28:42.978612Z"
    }
   },
   "id": "c598e293ce8560d0"
  },
  {
   "cell_type": "markdown",
   "source": [
    "Now, we can improve readability even further by using the name of each month rather than the month number, and we can do this __*without having to alter the underlying data*__."
   ],
   "metadata": {
    "collapsed": false
   },
   "id": "819d1307cccad3eb"
  },
  {
   "cell_type": "code",
   "execution_count": 64,
   "outputs": [
    {
     "data": {
      "text/plain": "       Month   Quotes  Numbers  Amounts Product  Average sale  \\\n0 2012-01-01  2146725   407150   772616       A      1.897620   \n1 2012-01-01   337194    34423   684239       B     19.877378   \n2 2012-02-01  2480546   431656  1081002       A      2.504314   \n\n   Product conversion  \n0            0.189661  \n1            0.102087  \n2            0.174017  ",
      "text/html": "<div>\n<style scoped>\n    .dataframe tbody tr th:only-of-type {\n        vertical-align: middle;\n    }\n\n    .dataframe tbody tr th {\n        vertical-align: top;\n    }\n\n    .dataframe thead th {\n        text-align: right;\n    }\n</style>\n<table border=\"1\" class=\"dataframe\">\n  <thead>\n    <tr style=\"text-align: right;\">\n      <th></th>\n      <th>Month</th>\n      <th>Quotes</th>\n      <th>Numbers</th>\n      <th>Amounts</th>\n      <th>Product</th>\n      <th>Average sale</th>\n      <th>Product conversion</th>\n    </tr>\n  </thead>\n  <tbody>\n    <tr>\n      <th>0</th>\n      <td>2012-01-01</td>\n      <td>2146725</td>\n      <td>407150</td>\n      <td>772616</td>\n      <td>A</td>\n      <td>1.897620</td>\n      <td>0.189661</td>\n    </tr>\n    <tr>\n      <th>1</th>\n      <td>2012-01-01</td>\n      <td>337194</td>\n      <td>34423</td>\n      <td>684239</td>\n      <td>B</td>\n      <td>19.877378</td>\n      <td>0.102087</td>\n    </tr>\n    <tr>\n      <th>2</th>\n      <td>2012-02-01</td>\n      <td>2480546</td>\n      <td>431656</td>\n      <td>1081002</td>\n      <td>A</td>\n      <td>2.504314</td>\n      <td>0.174017</td>\n    </tr>\n  </tbody>\n</table>\n</div>"
     },
     "metadata": {},
     "output_type": "display_data"
    }
   ],
   "source": [
    "# format the date as YYYY-MM-DD\n",
    "df.style.format({'Month':'{:%B %Y}'})\n",
    "display(df.iloc[:3])"
   ],
   "metadata": {
    "collapsed": false,
    "ExecuteTime": {
     "end_time": "2023-12-09T14:28:42.986939Z",
     "start_time": "2023-12-09T14:28:42.980472Z"
    }
   },
   "id": "3c04c43c3b23279a"
  },
  {
   "cell_type": "code",
   "execution_count": 64,
   "outputs": [],
   "source": [],
   "metadata": {
    "collapsed": false,
    "ExecuteTime": {
     "end_time": "2023-12-09T14:28:42.987171Z",
     "start_time": "2023-12-09T14:28:42.985539Z"
    }
   },
   "id": "4f8c3257195eda56"
  },
  {
   "cell_type": "code",
   "execution_count": 64,
   "outputs": [],
   "source": [],
   "metadata": {
    "collapsed": false,
    "ExecuteTime": {
     "end_time": "2023-12-09T14:28:42.989897Z",
     "start_time": "2023-12-09T14:28:42.987549Z"
    }
   },
   "id": "3a74500750f13f25"
  }
 ],
 "metadata": {
  "kernelspec": {
   "display_name": "Python 3",
   "language": "python",
   "name": "python3"
  },
  "language_info": {
   "codemirror_mode": {
    "name": "ipython",
    "version": 2
   },
   "file_extension": ".py",
   "mimetype": "text/x-python",
   "name": "python",
   "nbconvert_exporter": "python",
   "pygments_lexer": "ipython2",
   "version": "2.7.6"
  }
 },
 "nbformat": 4,
 "nbformat_minor": 5
}
