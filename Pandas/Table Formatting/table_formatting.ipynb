{
 "cells": [
  {
   "cell_type": "markdown",
   "source": [
    "# Formatting Tables in Pandas\n"
   ],
   "metadata": {
    "collapsed": false
   },
   "id": "b0f9d1a4fce40bb7"
  },
  {
   "cell_type": "code",
   "execution_count": 1,
   "outputs": [],
   "source": [
    "# Import pandas\n",
    "import pandas as pd\n",
    "# Import numpy\n",
    "import numpy as np\n",
    "\n"
   ],
   "metadata": {
    "collapsed": false,
    "ExecuteTime": {
     "end_time": "2023-12-16T18:37:06.364545Z",
     "start_time": "2023-12-16T18:37:06.110378Z"
    }
   },
   "id": "3f6384416f65e69c"
  },
  {
   "cell_type": "markdown",
   "source": [
    "## The data\n",
    "Let's create some simulated data for two widgets, A and B. We'll create a dataframe for each widget, then concatenate them together. We'll also sort the dataframe by month and reset the index."
   ],
   "metadata": {
    "collapsed": false
   },
   "id": "10aea294c42f4a03"
  },
  {
   "cell_type": "code",
   "execution_count": 2,
   "outputs": [],
   "source": [
    "# simulated data for widget A\n",
    "df_a = pd.DataFrame(\n",
    "    {\n",
    "        'Month':pd.date_range(\n",
    "            start = '01-01-2012',\n",
    "            end = '31-12-2022',\n",
    "            freq = 'MS'\n",
    "        ),\n",
    "        'Quotes':np.random.randint(\n",
    "            low = 1_000_000,\n",
    "            high = 2_500_000,\n",
    "            size = 132\n",
    "        ),\n",
    "        'Numbers':np.random.randint(\n",
    "            low = 300_000,\n",
    "            high = 500_000,\n",
    "            size = 132\n",
    "        ),\n",
    "        'Amounts':np.random.randint(\n",
    "            low = 750_000,\n",
    "            high = 1_250_000,\n",
    "            size = 132\n",
    "        )\n",
    "    }\n",
    ")\n",
    "\n",
    "df_a['Product'] = 'A'\n",
    "\n",
    "# simulated data for widget B\n",
    "df_b = pd.DataFrame(\n",
    "    {\n",
    "        'Month':pd.date_range(\n",
    "            start = '01-01-2012',\n",
    "            end = '31-12-2022',\n",
    "            freq = 'MS'\n",
    "        ),\n",
    "        'Quotes':np.random.randint(\n",
    "            low = 100_000,\n",
    "            high = 800_000,\n",
    "            size = 132\n",
    "        ),\n",
    "        'Numbers':np.random.randint(\n",
    "            low = 10_000,\n",
    "            high = 95_000,\n",
    "            size = 132\n",
    "        ),\n",
    "        'Amounts':np.random.randint(\n",
    "            low = 450_000,\n",
    "            high = 750_000,\n",
    "            size = 132\n",
    "        )\n",
    "    }\n",
    ")\n",
    "\n",
    "df_b['Product'] = 'B'\n",
    "\n",
    "# put it together & sort\n",
    "df = pd.concat([df_a,df_b],axis = 0)\n",
    "df.sort_values(by = 'Month',inplace = True)\n",
    "df.reset_index(drop = True,inplace = True)"
   ],
   "metadata": {
    "collapsed": false,
    "ExecuteTime": {
     "end_time": "2023-12-16T18:37:06.379686Z",
     "start_time": "2023-12-16T18:37:06.374379Z"
    }
   },
   "id": "cc675bd1d269bb2e"
  },
  {
   "cell_type": "markdown",
   "source": [
    "Let’s calculate a few “interesting” statistics — average sale amounts and product conversion:"
   ],
   "metadata": {
    "collapsed": false
   },
   "id": "d441044d0d55938f"
  },
  {
   "cell_type": "code",
   "execution_count": 3,
   "outputs": [],
   "source": [
    "# average sale\n",
    "df['Average sale'] = df['Amounts'] / df['Numbers'].replace({0: np.nan})\n",
    "\n",
    "# conversion\n",
    "df['Product conversion'] = df['Numbers'] / df['Quotes'].replace({0: np.nan})"
   ],
   "metadata": {
    "collapsed": false,
    "ExecuteTime": {
     "end_time": "2023-12-16T18:37:06.384947Z",
     "start_time": "2023-12-16T18:37:06.378496Z"
    }
   },
   "id": "dd7fb5b107176fbb"
  },
  {
   "cell_type": "code",
   "execution_count": 4,
   "outputs": [
    {
     "data": {
      "text/plain": "       Month   Quotes  Numbers  Amounts Product  Average sale  \\\n0 2012-01-01  1358918   434169   824831       A      1.899792   \n1 2012-01-01   338080    48571   485945       B     10.004838   \n2 2012-02-01  1555436   437655   916826       A      2.094860   \n\n   Product conversion  \n0            0.319496  \n1            0.143667  \n2            0.281371  ",
      "text/html": "<div>\n<style scoped>\n    .dataframe tbody tr th:only-of-type {\n        vertical-align: middle;\n    }\n\n    .dataframe tbody tr th {\n        vertical-align: top;\n    }\n\n    .dataframe thead th {\n        text-align: right;\n    }\n</style>\n<table border=\"1\" class=\"dataframe\">\n  <thead>\n    <tr style=\"text-align: right;\">\n      <th></th>\n      <th>Month</th>\n      <th>Quotes</th>\n      <th>Numbers</th>\n      <th>Amounts</th>\n      <th>Product</th>\n      <th>Average sale</th>\n      <th>Product conversion</th>\n    </tr>\n  </thead>\n  <tbody>\n    <tr>\n      <th>0</th>\n      <td>2012-01-01</td>\n      <td>1358918</td>\n      <td>434169</td>\n      <td>824831</td>\n      <td>A</td>\n      <td>1.899792</td>\n      <td>0.319496</td>\n    </tr>\n    <tr>\n      <th>1</th>\n      <td>2012-01-01</td>\n      <td>338080</td>\n      <td>48571</td>\n      <td>485945</td>\n      <td>B</td>\n      <td>10.004838</td>\n      <td>0.143667</td>\n    </tr>\n    <tr>\n      <th>2</th>\n      <td>2012-02-01</td>\n      <td>1555436</td>\n      <td>437655</td>\n      <td>916826</td>\n      <td>A</td>\n      <td>2.094860</td>\n      <td>0.281371</td>\n    </tr>\n  </tbody>\n</table>\n</div>"
     },
     "execution_count": 4,
     "metadata": {},
     "output_type": "execute_result"
    }
   ],
   "source": [
    "df.head(3)"
   ],
   "metadata": {
    "collapsed": false,
    "ExecuteTime": {
     "end_time": "2023-12-16T18:37:06.414667Z",
     "start_time": "2023-12-16T18:37:06.390503Z"
    }
   },
   "id": "760102e02bcf12da"
  },
  {
   "cell_type": "markdown",
   "source": [
    "## Date Formatting\n",
    "There’s arguably nothing __wrong__ with the formatting, but it could be better. For instance, since all the monthly data is reflected as at the first of each month, there’s probably little sense in keeping the day element of each Month entry as it tells the reader very little."
   ],
   "metadata": {
    "collapsed": false
   },
   "id": "f3a68e7d7a96b0ff"
  },
  {
   "cell_type": "code",
   "execution_count": 5,
   "outputs": [
    {
     "data": {
      "text/plain": "<pandas.io.formats.style.Styler at 0x10f85c640>",
      "text/html": "<style type=\"text/css\">\n</style>\n<table id=\"T_6f78a\">\n  <thead>\n    <tr>\n      <th class=\"blank level0\" >&nbsp;</th>\n      <th id=\"T_6f78a_level0_col0\" class=\"col_heading level0 col0\" >Month</th>\n      <th id=\"T_6f78a_level0_col1\" class=\"col_heading level0 col1\" >Quotes</th>\n      <th id=\"T_6f78a_level0_col2\" class=\"col_heading level0 col2\" >Numbers</th>\n      <th id=\"T_6f78a_level0_col3\" class=\"col_heading level0 col3\" >Amounts</th>\n      <th id=\"T_6f78a_level0_col4\" class=\"col_heading level0 col4\" >Product</th>\n      <th id=\"T_6f78a_level0_col5\" class=\"col_heading level0 col5\" >Average sale</th>\n      <th id=\"T_6f78a_level0_col6\" class=\"col_heading level0 col6\" >Product conversion</th>\n    </tr>\n  </thead>\n  <tbody>\n    <tr>\n      <th id=\"T_6f78a_level0_row0\" class=\"row_heading level0 row0\" >0</th>\n      <td id=\"T_6f78a_row0_col0\" class=\"data row0 col0\" >2012-01</td>\n      <td id=\"T_6f78a_row0_col1\" class=\"data row0 col1\" >1358918</td>\n      <td id=\"T_6f78a_row0_col2\" class=\"data row0 col2\" >434169</td>\n      <td id=\"T_6f78a_row0_col3\" class=\"data row0 col3\" >824831</td>\n      <td id=\"T_6f78a_row0_col4\" class=\"data row0 col4\" >A</td>\n      <td id=\"T_6f78a_row0_col5\" class=\"data row0 col5\" >1.899792</td>\n      <td id=\"T_6f78a_row0_col6\" class=\"data row0 col6\" >0.319496</td>\n    </tr>\n    <tr>\n      <th id=\"T_6f78a_level0_row1\" class=\"row_heading level0 row1\" >1</th>\n      <td id=\"T_6f78a_row1_col0\" class=\"data row1 col0\" >2012-01</td>\n      <td id=\"T_6f78a_row1_col1\" class=\"data row1 col1\" >338080</td>\n      <td id=\"T_6f78a_row1_col2\" class=\"data row1 col2\" >48571</td>\n      <td id=\"T_6f78a_row1_col3\" class=\"data row1 col3\" >485945</td>\n      <td id=\"T_6f78a_row1_col4\" class=\"data row1 col4\" >B</td>\n      <td id=\"T_6f78a_row1_col5\" class=\"data row1 col5\" >10.004838</td>\n      <td id=\"T_6f78a_row1_col6\" class=\"data row1 col6\" >0.143667</td>\n    </tr>\n    <tr>\n      <th id=\"T_6f78a_level0_row2\" class=\"row_heading level0 row2\" >2</th>\n      <td id=\"T_6f78a_row2_col0\" class=\"data row2 col0\" >2012-02</td>\n      <td id=\"T_6f78a_row2_col1\" class=\"data row2 col1\" >1555436</td>\n      <td id=\"T_6f78a_row2_col2\" class=\"data row2 col2\" >437655</td>\n      <td id=\"T_6f78a_row2_col3\" class=\"data row2 col3\" >916826</td>\n      <td id=\"T_6f78a_row2_col4\" class=\"data row2 col4\" >A</td>\n      <td id=\"T_6f78a_row2_col5\" class=\"data row2 col5\" >2.094860</td>\n      <td id=\"T_6f78a_row2_col6\" class=\"data row2 col6\" >0.281371</td>\n    </tr>\n  </tbody>\n</table>\n"
     },
     "metadata": {},
     "output_type": "display_data"
    }
   ],
   "source": [
    "# format the date as YYYY-MM\n",
    "styler = df.iloc[:3].style.format({'Month':'{:%Y-%m}'})\n",
    "if styler:\n",
    "    display(styler)"
   ],
   "metadata": {
    "collapsed": false,
    "ExecuteTime": {
     "end_time": "2023-12-16T18:37:06.941008Z",
     "start_time": "2023-12-16T18:37:06.395482Z"
    }
   },
   "id": "7807b2b26b270e97"
  },
  {
   "cell_type": "markdown",
   "source": [
    "Now, we can improve readability even further by using the name of each month rather than the month number, and we can do this __*without having to alter the underlying data*__."
   ],
   "metadata": {
    "collapsed": false
   },
   "id": "819d1307cccad3eb"
  },
  {
   "cell_type": "code",
   "execution_count": 6,
   "outputs": [
    {
     "data": {
      "text/plain": "<pandas.io.formats.style.Styler at 0x11f25c5b0>",
      "text/html": "<style type=\"text/css\">\n</style>\n<table id=\"T_f21ee\">\n  <thead>\n    <tr>\n      <th class=\"blank level0\" >&nbsp;</th>\n      <th id=\"T_f21ee_level0_col0\" class=\"col_heading level0 col0\" >Month</th>\n      <th id=\"T_f21ee_level0_col1\" class=\"col_heading level0 col1\" >Quotes</th>\n      <th id=\"T_f21ee_level0_col2\" class=\"col_heading level0 col2\" >Numbers</th>\n      <th id=\"T_f21ee_level0_col3\" class=\"col_heading level0 col3\" >Amounts</th>\n      <th id=\"T_f21ee_level0_col4\" class=\"col_heading level0 col4\" >Product</th>\n      <th id=\"T_f21ee_level0_col5\" class=\"col_heading level0 col5\" >Average sale</th>\n      <th id=\"T_f21ee_level0_col6\" class=\"col_heading level0 col6\" >Product conversion</th>\n    </tr>\n  </thead>\n  <tbody>\n    <tr>\n      <th id=\"T_f21ee_level0_row0\" class=\"row_heading level0 row0\" >0</th>\n      <td id=\"T_f21ee_row0_col0\" class=\"data row0 col0\" >January 2012</td>\n      <td id=\"T_f21ee_row0_col1\" class=\"data row0 col1\" >1358918</td>\n      <td id=\"T_f21ee_row0_col2\" class=\"data row0 col2\" >434169</td>\n      <td id=\"T_f21ee_row0_col3\" class=\"data row0 col3\" >824831</td>\n      <td id=\"T_f21ee_row0_col4\" class=\"data row0 col4\" >A</td>\n      <td id=\"T_f21ee_row0_col5\" class=\"data row0 col5\" >1.899792</td>\n      <td id=\"T_f21ee_row0_col6\" class=\"data row0 col6\" >0.319496</td>\n    </tr>\n    <tr>\n      <th id=\"T_f21ee_level0_row1\" class=\"row_heading level0 row1\" >1</th>\n      <td id=\"T_f21ee_row1_col0\" class=\"data row1 col0\" >January 2012</td>\n      <td id=\"T_f21ee_row1_col1\" class=\"data row1 col1\" >338080</td>\n      <td id=\"T_f21ee_row1_col2\" class=\"data row1 col2\" >48571</td>\n      <td id=\"T_f21ee_row1_col3\" class=\"data row1 col3\" >485945</td>\n      <td id=\"T_f21ee_row1_col4\" class=\"data row1 col4\" >B</td>\n      <td id=\"T_f21ee_row1_col5\" class=\"data row1 col5\" >10.004838</td>\n      <td id=\"T_f21ee_row1_col6\" class=\"data row1 col6\" >0.143667</td>\n    </tr>\n    <tr>\n      <th id=\"T_f21ee_level0_row2\" class=\"row_heading level0 row2\" >2</th>\n      <td id=\"T_f21ee_row2_col0\" class=\"data row2 col0\" >February 2012</td>\n      <td id=\"T_f21ee_row2_col1\" class=\"data row2 col1\" >1555436</td>\n      <td id=\"T_f21ee_row2_col2\" class=\"data row2 col2\" >437655</td>\n      <td id=\"T_f21ee_row2_col3\" class=\"data row2 col3\" >916826</td>\n      <td id=\"T_f21ee_row2_col4\" class=\"data row2 col4\" >A</td>\n      <td id=\"T_f21ee_row2_col5\" class=\"data row2 col5\" >2.094860</td>\n      <td id=\"T_f21ee_row2_col6\" class=\"data row2 col6\" >0.281371</td>\n    </tr>\n  </tbody>\n</table>\n"
     },
     "metadata": {},
     "output_type": "display_data"
    }
   ],
   "source": [
    "styler = df.iloc[:3].style.format({'Month':'{:%B %Y}'})\n",
    "if styler:\n",
    "    display(styler)"
   ],
   "metadata": {
    "collapsed": false,
    "ExecuteTime": {
     "end_time": "2023-12-16T18:37:06.946378Z",
     "start_time": "2023-12-16T18:37:06.942782Z"
    }
   },
   "id": "3c04c43c3b23279a"
  },
  {
   "cell_type": "markdown",
   "source": [
    "Maybe a little too wordy now — let’s use abbreviations instead (e.g. “Jan” instead of “January”) and we’ll also add a comma before the year."
   ],
   "metadata": {
    "collapsed": false
   },
   "id": "29fa55f909212272"
  },
  {
   "cell_type": "code",
   "execution_count": 7,
   "outputs": [
    {
     "data": {
      "text/plain": "<pandas.io.formats.style.Styler at 0x10b1e3910>",
      "text/html": "<style type=\"text/css\">\n</style>\n<table id=\"T_9c726\">\n  <thead>\n    <tr>\n      <th class=\"blank level0\" >&nbsp;</th>\n      <th id=\"T_9c726_level0_col0\" class=\"col_heading level0 col0\" >Month</th>\n      <th id=\"T_9c726_level0_col1\" class=\"col_heading level0 col1\" >Quotes</th>\n      <th id=\"T_9c726_level0_col2\" class=\"col_heading level0 col2\" >Numbers</th>\n      <th id=\"T_9c726_level0_col3\" class=\"col_heading level0 col3\" >Amounts</th>\n      <th id=\"T_9c726_level0_col4\" class=\"col_heading level0 col4\" >Product</th>\n      <th id=\"T_9c726_level0_col5\" class=\"col_heading level0 col5\" >Average sale</th>\n      <th id=\"T_9c726_level0_col6\" class=\"col_heading level0 col6\" >Product conversion</th>\n    </tr>\n  </thead>\n  <tbody>\n    <tr>\n      <th id=\"T_9c726_level0_row0\" class=\"row_heading level0 row0\" >0</th>\n      <td id=\"T_9c726_row0_col0\" class=\"data row0 col0\" >Jan, 2012</td>\n      <td id=\"T_9c726_row0_col1\" class=\"data row0 col1\" >1358918</td>\n      <td id=\"T_9c726_row0_col2\" class=\"data row0 col2\" >434169</td>\n      <td id=\"T_9c726_row0_col3\" class=\"data row0 col3\" >824831</td>\n      <td id=\"T_9c726_row0_col4\" class=\"data row0 col4\" >A</td>\n      <td id=\"T_9c726_row0_col5\" class=\"data row0 col5\" >1.899792</td>\n      <td id=\"T_9c726_row0_col6\" class=\"data row0 col6\" >0.319496</td>\n    </tr>\n    <tr>\n      <th id=\"T_9c726_level0_row1\" class=\"row_heading level0 row1\" >1</th>\n      <td id=\"T_9c726_row1_col0\" class=\"data row1 col0\" >Jan, 2012</td>\n      <td id=\"T_9c726_row1_col1\" class=\"data row1 col1\" >338080</td>\n      <td id=\"T_9c726_row1_col2\" class=\"data row1 col2\" >48571</td>\n      <td id=\"T_9c726_row1_col3\" class=\"data row1 col3\" >485945</td>\n      <td id=\"T_9c726_row1_col4\" class=\"data row1 col4\" >B</td>\n      <td id=\"T_9c726_row1_col5\" class=\"data row1 col5\" >10.004838</td>\n      <td id=\"T_9c726_row1_col6\" class=\"data row1 col6\" >0.143667</td>\n    </tr>\n    <tr>\n      <th id=\"T_9c726_level0_row2\" class=\"row_heading level0 row2\" >2</th>\n      <td id=\"T_9c726_row2_col0\" class=\"data row2 col0\" >Feb, 2012</td>\n      <td id=\"T_9c726_row2_col1\" class=\"data row2 col1\" >1555436</td>\n      <td id=\"T_9c726_row2_col2\" class=\"data row2 col2\" >437655</td>\n      <td id=\"T_9c726_row2_col3\" class=\"data row2 col3\" >916826</td>\n      <td id=\"T_9c726_row2_col4\" class=\"data row2 col4\" >A</td>\n      <td id=\"T_9c726_row2_col5\" class=\"data row2 col5\" >2.094860</td>\n      <td id=\"T_9c726_row2_col6\" class=\"data row2 col6\" >0.281371</td>\n    </tr>\n  </tbody>\n</table>\n"
     },
     "metadata": {},
     "output_type": "display_data"
    }
   ],
   "source": [
    "styler = df.iloc[:3].style.format({'Month':'{:%b, %Y}'})\n",
    "if styler:\n",
    "    display(styler)"
   ],
   "metadata": {
    "collapsed": false,
    "ExecuteTime": {
     "end_time": "2023-12-16T18:37:06.950932Z",
     "start_time": "2023-12-16T18:37:06.946008Z"
    }
   },
   "id": "9a0c551a3292a090"
  },
  {
   "cell_type": "markdown",
   "source": [
    "## Formatting numbers with a thousand separator\n",
    "A fairly straightforward formatting experience here as we separate thousands of Quotes and Numbers using commas.\n",
    "\n",
    "What is important to note however, is that if we also want to retain the formatting we applied to the Month column (we do), then we need to extend the formatting dictionary. \n"
   ],
   "metadata": {
    "collapsed": false
   },
   "id": "b4b80c9da9d9fca2"
  },
  {
   "cell_type": "code",
   "execution_count": 8,
   "outputs": [
    {
     "data": {
      "text/plain": "<pandas.io.formats.style.Styler at 0x11f1a1df0>",
      "text/html": "<style type=\"text/css\">\n</style>\n<table id=\"T_db8ab\">\n  <thead>\n    <tr>\n      <th class=\"blank level0\" >&nbsp;</th>\n      <th id=\"T_db8ab_level0_col0\" class=\"col_heading level0 col0\" >Month</th>\n      <th id=\"T_db8ab_level0_col1\" class=\"col_heading level0 col1\" >Quotes</th>\n      <th id=\"T_db8ab_level0_col2\" class=\"col_heading level0 col2\" >Numbers</th>\n      <th id=\"T_db8ab_level0_col3\" class=\"col_heading level0 col3\" >Amounts</th>\n      <th id=\"T_db8ab_level0_col4\" class=\"col_heading level0 col4\" >Product</th>\n      <th id=\"T_db8ab_level0_col5\" class=\"col_heading level0 col5\" >Average sale</th>\n      <th id=\"T_db8ab_level0_col6\" class=\"col_heading level0 col6\" >Product conversion</th>\n    </tr>\n  </thead>\n  <tbody>\n    <tr>\n      <th id=\"T_db8ab_level0_row0\" class=\"row_heading level0 row0\" >0</th>\n      <td id=\"T_db8ab_row0_col0\" class=\"data row0 col0\" >Jan, 2012</td>\n      <td id=\"T_db8ab_row0_col1\" class=\"data row0 col1\" >1,358,918</td>\n      <td id=\"T_db8ab_row0_col2\" class=\"data row0 col2\" >434,169</td>\n      <td id=\"T_db8ab_row0_col3\" class=\"data row0 col3\" >824831</td>\n      <td id=\"T_db8ab_row0_col4\" class=\"data row0 col4\" >A</td>\n      <td id=\"T_db8ab_row0_col5\" class=\"data row0 col5\" >1.899792</td>\n      <td id=\"T_db8ab_row0_col6\" class=\"data row0 col6\" >0.319496</td>\n    </tr>\n    <tr>\n      <th id=\"T_db8ab_level0_row1\" class=\"row_heading level0 row1\" >1</th>\n      <td id=\"T_db8ab_row1_col0\" class=\"data row1 col0\" >Jan, 2012</td>\n      <td id=\"T_db8ab_row1_col1\" class=\"data row1 col1\" >338,080</td>\n      <td id=\"T_db8ab_row1_col2\" class=\"data row1 col2\" >48,571</td>\n      <td id=\"T_db8ab_row1_col3\" class=\"data row1 col3\" >485945</td>\n      <td id=\"T_db8ab_row1_col4\" class=\"data row1 col4\" >B</td>\n      <td id=\"T_db8ab_row1_col5\" class=\"data row1 col5\" >10.004838</td>\n      <td id=\"T_db8ab_row1_col6\" class=\"data row1 col6\" >0.143667</td>\n    </tr>\n    <tr>\n      <th id=\"T_db8ab_level0_row2\" class=\"row_heading level0 row2\" >2</th>\n      <td id=\"T_db8ab_row2_col0\" class=\"data row2 col0\" >Feb, 2012</td>\n      <td id=\"T_db8ab_row2_col1\" class=\"data row2 col1\" >1,555,436</td>\n      <td id=\"T_db8ab_row2_col2\" class=\"data row2 col2\" >437,655</td>\n      <td id=\"T_db8ab_row2_col3\" class=\"data row2 col3\" >916826</td>\n      <td id=\"T_db8ab_row2_col4\" class=\"data row2 col4\" >A</td>\n      <td id=\"T_db8ab_row2_col5\" class=\"data row2 col5\" >2.094860</td>\n      <td id=\"T_db8ab_row2_col6\" class=\"data row2 col6\" >0.281371</td>\n    </tr>\n  </tbody>\n</table>\n"
     },
     "metadata": {},
     "output_type": "display_data"
    }
   ],
   "source": [
    "styler = df.iloc[:3].style.format(\n",
    "    {\n",
    "        'Month':'{:%b, %Y}',\n",
    "        'Quotes':'{:,.0f}',\n",
    "        'Numbers':'{:,.0f}'\n",
    "    }\n",
    ")\n",
    "if styler:\n",
    "    display(styler)"
   ],
   "metadata": {
    "collapsed": false,
    "ExecuteTime": {
     "end_time": "2023-12-16T18:37:06.976124Z",
     "start_time": "2023-12-16T18:37:06.952230Z"
    }
   },
   "id": "7b50c001d081c0da"
  },
  {
   "cell_type": "markdown",
   "source": [
    "## Formatting currencies\n",
    "The Widget Company just so happens to produce and sell its widgets in a country that uses a currency denoted by £ (I hope somewhere warmer and sunnier than the country where I earn my £).\n",
    "\n",
    "Let’s reflect that in the table, reminding ourselves that:\n",
    "\n",
    "- At an overall level, using decimal points is probably a little much\n",
    "- At a lower level — say for instance, the average sale value — using decimals can be useful.\n",
    "So we add currency formatting for Amounts and Average sale to our formatting dictionary:"
   ],
   "metadata": {
    "collapsed": false
   },
   "id": "53db94d3889bf0a"
  },
  {
   "cell_type": "code",
   "execution_count": 9,
   "outputs": [
    {
     "data": {
      "text/plain": "<pandas.io.formats.style.Styler at 0x11bf65c10>",
      "text/html": "<style type=\"text/css\">\n</style>\n<table id=\"T_b44c2\">\n  <thead>\n    <tr>\n      <th class=\"blank level0\" >&nbsp;</th>\n      <th id=\"T_b44c2_level0_col0\" class=\"col_heading level0 col0\" >Month</th>\n      <th id=\"T_b44c2_level0_col1\" class=\"col_heading level0 col1\" >Quotes</th>\n      <th id=\"T_b44c2_level0_col2\" class=\"col_heading level0 col2\" >Numbers</th>\n      <th id=\"T_b44c2_level0_col3\" class=\"col_heading level0 col3\" >Amounts</th>\n      <th id=\"T_b44c2_level0_col4\" class=\"col_heading level0 col4\" >Product</th>\n      <th id=\"T_b44c2_level0_col5\" class=\"col_heading level0 col5\" >Average sale</th>\n      <th id=\"T_b44c2_level0_col6\" class=\"col_heading level0 col6\" >Product conversion</th>\n    </tr>\n  </thead>\n  <tbody>\n    <tr>\n      <th id=\"T_b44c2_level0_row0\" class=\"row_heading level0 row0\" >0</th>\n      <td id=\"T_b44c2_row0_col0\" class=\"data row0 col0\" >Jan, 2012</td>\n      <td id=\"T_b44c2_row0_col1\" class=\"data row0 col1\" >1,358,918</td>\n      <td id=\"T_b44c2_row0_col2\" class=\"data row0 col2\" >434,169</td>\n      <td id=\"T_b44c2_row0_col3\" class=\"data row0 col3\" >£824,831</td>\n      <td id=\"T_b44c2_row0_col4\" class=\"data row0 col4\" >A</td>\n      <td id=\"T_b44c2_row0_col5\" class=\"data row0 col5\" >£1.90</td>\n      <td id=\"T_b44c2_row0_col6\" class=\"data row0 col6\" >0.319496</td>\n    </tr>\n    <tr>\n      <th id=\"T_b44c2_level0_row1\" class=\"row_heading level0 row1\" >1</th>\n      <td id=\"T_b44c2_row1_col0\" class=\"data row1 col0\" >Jan, 2012</td>\n      <td id=\"T_b44c2_row1_col1\" class=\"data row1 col1\" >338,080</td>\n      <td id=\"T_b44c2_row1_col2\" class=\"data row1 col2\" >48,571</td>\n      <td id=\"T_b44c2_row1_col3\" class=\"data row1 col3\" >£485,945</td>\n      <td id=\"T_b44c2_row1_col4\" class=\"data row1 col4\" >B</td>\n      <td id=\"T_b44c2_row1_col5\" class=\"data row1 col5\" >£10.00</td>\n      <td id=\"T_b44c2_row1_col6\" class=\"data row1 col6\" >0.143667</td>\n    </tr>\n    <tr>\n      <th id=\"T_b44c2_level0_row2\" class=\"row_heading level0 row2\" >2</th>\n      <td id=\"T_b44c2_row2_col0\" class=\"data row2 col0\" >Feb, 2012</td>\n      <td id=\"T_b44c2_row2_col1\" class=\"data row2 col1\" >1,555,436</td>\n      <td id=\"T_b44c2_row2_col2\" class=\"data row2 col2\" >437,655</td>\n      <td id=\"T_b44c2_row2_col3\" class=\"data row2 col3\" >£916,826</td>\n      <td id=\"T_b44c2_row2_col4\" class=\"data row2 col4\" >A</td>\n      <td id=\"T_b44c2_row2_col5\" class=\"data row2 col5\" >£2.09</td>\n      <td id=\"T_b44c2_row2_col6\" class=\"data row2 col6\" >0.281371</td>\n    </tr>\n  </tbody>\n</table>\n"
     },
     "metadata": {},
     "output_type": "display_data"
    }
   ],
   "source": [
    "styler = df.iloc[:3].style.format(\n",
    "    {\n",
    "        'Month':'{:%b, %Y}',\n",
    "        'Quotes':'{:,.0f}',\n",
    "        'Numbers':'{:,.0f}',\n",
    "        'Amounts':'£{:,.0f}',\n",
    "        'Average sale':'£{:,.2f}'\n",
    "    }\n",
    ")\n",
    "if styler:\n",
    "    display(styler)\n",
    "    \n",
    "breakpoint()"
   ],
   "metadata": {
    "collapsed": false,
    "ExecuteTime": {
     "end_time": "2023-12-16T18:37:07.013677Z",
     "start_time": "2023-12-16T18:37:06.961618Z"
    }
   },
   "id": "4dce7fd0f8f8b497"
  },
  {
   "cell_type": "markdown",
   "source": [
    "## Formatting percentages\n",
    "Another fairly straightforward formatting step, it’s much easier to view ratios when they are expressed as percentages rather than floating point numbers.\n",
    "\n",
    "We’ll add Product conversion to our formatting dictionary:"
   ],
   "metadata": {
    "collapsed": false
   },
   "id": "27a3c679bcfd8605"
  },
  {
   "cell_type": "code",
   "execution_count": 10,
   "outputs": [
    {
     "data": {
      "text/plain": "<pandas.io.formats.style.Styler at 0x11f1a1a00>",
      "text/html": "<style type=\"text/css\">\n</style>\n<table id=\"T_889e6\">\n  <thead>\n    <tr>\n      <th class=\"blank level0\" >&nbsp;</th>\n      <th id=\"T_889e6_level0_col0\" class=\"col_heading level0 col0\" >Month</th>\n      <th id=\"T_889e6_level0_col1\" class=\"col_heading level0 col1\" >Quotes</th>\n      <th id=\"T_889e6_level0_col2\" class=\"col_heading level0 col2\" >Numbers</th>\n      <th id=\"T_889e6_level0_col3\" class=\"col_heading level0 col3\" >Amounts</th>\n      <th id=\"T_889e6_level0_col4\" class=\"col_heading level0 col4\" >Product</th>\n      <th id=\"T_889e6_level0_col5\" class=\"col_heading level0 col5\" >Average sale</th>\n      <th id=\"T_889e6_level0_col6\" class=\"col_heading level0 col6\" >Product conversion</th>\n    </tr>\n  </thead>\n  <tbody>\n    <tr>\n      <th id=\"T_889e6_level0_row0\" class=\"row_heading level0 row0\" >0</th>\n      <td id=\"T_889e6_row0_col0\" class=\"data row0 col0\" >Jan, 2012</td>\n      <td id=\"T_889e6_row0_col1\" class=\"data row0 col1\" >1,358,918</td>\n      <td id=\"T_889e6_row0_col2\" class=\"data row0 col2\" >434,169</td>\n      <td id=\"T_889e6_row0_col3\" class=\"data row0 col3\" >£824,831</td>\n      <td id=\"T_889e6_row0_col4\" class=\"data row0 col4\" >A</td>\n      <td id=\"T_889e6_row0_col5\" class=\"data row0 col5\" >£1.90</td>\n      <td id=\"T_889e6_row0_col6\" class=\"data row0 col6\" >31.95%</td>\n    </tr>\n    <tr>\n      <th id=\"T_889e6_level0_row1\" class=\"row_heading level0 row1\" >1</th>\n      <td id=\"T_889e6_row1_col0\" class=\"data row1 col0\" >Jan, 2012</td>\n      <td id=\"T_889e6_row1_col1\" class=\"data row1 col1\" >338,080</td>\n      <td id=\"T_889e6_row1_col2\" class=\"data row1 col2\" >48,571</td>\n      <td id=\"T_889e6_row1_col3\" class=\"data row1 col3\" >£485,945</td>\n      <td id=\"T_889e6_row1_col4\" class=\"data row1 col4\" >B</td>\n      <td id=\"T_889e6_row1_col5\" class=\"data row1 col5\" >£10.00</td>\n      <td id=\"T_889e6_row1_col6\" class=\"data row1 col6\" >14.37%</td>\n    </tr>\n    <tr>\n      <th id=\"T_889e6_level0_row2\" class=\"row_heading level0 row2\" >2</th>\n      <td id=\"T_889e6_row2_col0\" class=\"data row2 col0\" >Feb, 2012</td>\n      <td id=\"T_889e6_row2_col1\" class=\"data row2 col1\" >1,555,436</td>\n      <td id=\"T_889e6_row2_col2\" class=\"data row2 col2\" >437,655</td>\n      <td id=\"T_889e6_row2_col3\" class=\"data row2 col3\" >£916,826</td>\n      <td id=\"T_889e6_row2_col4\" class=\"data row2 col4\" >A</td>\n      <td id=\"T_889e6_row2_col5\" class=\"data row2 col5\" >£2.09</td>\n      <td id=\"T_889e6_row2_col6\" class=\"data row2 col6\" >28.14%</td>\n    </tr>\n  </tbody>\n</table>\n"
     },
     "metadata": {},
     "output_type": "display_data"
    }
   ],
   "source": [
    "styler = df.iloc[:3].style.format(\n",
    "    {\n",
    "        'Month':'{:%b, %Y}',\n",
    "        'Quotes':'{:,.0f}',\n",
    "        'Numbers':'{:,.0f}',\n",
    "        'Amounts':'£{:,.0f}',\n",
    "        'Average sale':'£{:,.2f}',\n",
    "        'Product conversion':'{:.2%}'\n",
    "    }\n",
    ")\n",
    "if styler:\n",
    "    display(styler)\n",
    "    \n",
    "breakpoint()"
   ],
   "metadata": {
    "collapsed": false,
    "ExecuteTime": {
     "end_time": "2023-12-16T18:37:07.022853Z",
     "start_time": "2023-12-16T18:37:07.017572Z"
    }
   },
   "id": "611a89a27e772a20"
  },
  {
   "cell_type": "markdown",
   "source": [
    "## Hiding Indexes\n",
    "The index is a useful thing to have, but it’s not always necessary to display it. In this case, we can hide it by setting index = False:\n"
   ],
   "metadata": {
    "collapsed": false
   },
   "id": "e9579121e2ae3ead"
  },
  {
   "cell_type": "code",
   "execution_count": 11,
   "outputs": [
    {
     "data": {
      "text/plain": "<pandas.io.formats.style.Styler at 0x10f875850>",
      "text/html": "<style type=\"text/css\">\n</style>\n<table id=\"T_e9eaf\">\n  <thead>\n    <tr>\n      <th id=\"T_e9eaf_level0_col0\" class=\"col_heading level0 col0\" >Month</th>\n      <th id=\"T_e9eaf_level0_col1\" class=\"col_heading level0 col1\" >Quotes</th>\n      <th id=\"T_e9eaf_level0_col2\" class=\"col_heading level0 col2\" >Numbers</th>\n      <th id=\"T_e9eaf_level0_col3\" class=\"col_heading level0 col3\" >Amounts</th>\n      <th id=\"T_e9eaf_level0_col4\" class=\"col_heading level0 col4\" >Product</th>\n      <th id=\"T_e9eaf_level0_col5\" class=\"col_heading level0 col5\" >Average sale</th>\n      <th id=\"T_e9eaf_level0_col6\" class=\"col_heading level0 col6\" >Product conversion</th>\n    </tr>\n  </thead>\n  <tbody>\n    <tr>\n      <td id=\"T_e9eaf_row0_col0\" class=\"data row0 col0\" >Jan, 2012</td>\n      <td id=\"T_e9eaf_row0_col1\" class=\"data row0 col1\" >1,358,918</td>\n      <td id=\"T_e9eaf_row0_col2\" class=\"data row0 col2\" >434,169</td>\n      <td id=\"T_e9eaf_row0_col3\" class=\"data row0 col3\" >£824,831</td>\n      <td id=\"T_e9eaf_row0_col4\" class=\"data row0 col4\" >A</td>\n      <td id=\"T_e9eaf_row0_col5\" class=\"data row0 col5\" >£1.90</td>\n      <td id=\"T_e9eaf_row0_col6\" class=\"data row0 col6\" >31.95%</td>\n    </tr>\n    <tr>\n      <td id=\"T_e9eaf_row1_col0\" class=\"data row1 col0\" >Jan, 2012</td>\n      <td id=\"T_e9eaf_row1_col1\" class=\"data row1 col1\" >338,080</td>\n      <td id=\"T_e9eaf_row1_col2\" class=\"data row1 col2\" >48,571</td>\n      <td id=\"T_e9eaf_row1_col3\" class=\"data row1 col3\" >£485,945</td>\n      <td id=\"T_e9eaf_row1_col4\" class=\"data row1 col4\" >B</td>\n      <td id=\"T_e9eaf_row1_col5\" class=\"data row1 col5\" >£10.00</td>\n      <td id=\"T_e9eaf_row1_col6\" class=\"data row1 col6\" >14.37%</td>\n    </tr>\n    <tr>\n      <td id=\"T_e9eaf_row2_col0\" class=\"data row2 col0\" >Feb, 2012</td>\n      <td id=\"T_e9eaf_row2_col1\" class=\"data row2 col1\" >1,555,436</td>\n      <td id=\"T_e9eaf_row2_col2\" class=\"data row2 col2\" >437,655</td>\n      <td id=\"T_e9eaf_row2_col3\" class=\"data row2 col3\" >£916,826</td>\n      <td id=\"T_e9eaf_row2_col4\" class=\"data row2 col4\" >A</td>\n      <td id=\"T_e9eaf_row2_col5\" class=\"data row2 col5\" >£2.09</td>\n      <td id=\"T_e9eaf_row2_col6\" class=\"data row2 col6\" >28.14%</td>\n    </tr>\n  </tbody>\n</table>\n"
     },
     "metadata": {},
     "output_type": "display_data"
    }
   ],
   "source": [
    "styler = df.iloc[:3].style.format(\n",
    "    {\n",
    "        'Month':'{:%b, %Y}',\n",
    "        'Quotes':'{:,.0f}',\n",
    "        'Numbers':'{:,.0f}',\n",
    "        'Amounts':'£{:,.0f}',\n",
    "        'Average sale':'£{:,.2f}',\n",
    "        'Product conversion':'{:.2%}'\n",
    "    }\n",
    ").hide()  # hide the index\n",
    "\n",
    "if styler:\n",
    "    display(styler)\n",
    "    \n",
    "breakpoint()\n"
   ],
   "metadata": {
    "collapsed": false,
    "ExecuteTime": {
     "end_time": "2023-12-16T18:37:07.027433Z",
     "start_time": "2023-12-16T18:37:07.021124Z"
    }
   },
   "id": "fc7c7573ec0cc853"
  },
  {
   "cell_type": "markdown",
   "source": [
    "## Conditional Formatting\n",
    "Conditional formatting is a great way to highlight certain values in a table. For instance, we might want to highlight the highest and lowest values in each column.\n",
    "Let's start with highlighting rows if an element of the row meets a given condition — in this case, highlight all rows containing information relating to product A.\n",
    "\n",
    "We do this in two steps:\n",
    "\n",
    "1. Define the function highlight_product which returns a string if the given condition is met (that is, if the row relates to the specified product). The string contains a format command that we will pass through to the Styler.\n",
    "2. The resulting format command is fed through using the apply command.\n",
    "\n"
   ],
   "metadata": {
    "collapsed": false
   },
   "id": "db9279cdcd756f3"
  },
  {
   "cell_type": "markdown",
   "source": [],
   "metadata": {
    "collapsed": false
   },
   "id": "718fa3b146e93291"
  },
  {
   "cell_type": "code",
   "execution_count": null,
   "outputs": [
    {
     "name": "stdout",
     "output_type": "stream",
     "text": [
      "Month                 True\n",
      "Quotes                True\n",
      "Numbers               True\n",
      "Amounts               True\n",
      "Product               True\n",
      "Average sale          True\n",
      "Product conversion    True\n",
      "dtype: bool\n",
      "Month                 False\n",
      "Quotes                False\n",
      "Numbers               False\n",
      "Amounts               False\n",
      "Product               False\n",
      "Average sale          False\n",
      "Product conversion    False\n",
      "dtype: bool\n",
      "Month                 True\n",
      "Quotes                True\n",
      "Numbers               True\n",
      "Amounts               True\n",
      "Product               True\n",
      "Average sale          True\n",
      "Product conversion    True\n",
      "dtype: bool\n"
     ]
    },
    {
     "data": {
      "text/plain": "<pandas.io.formats.style.Styler at 0x16a0c9580>",
      "text/html": "<style type=\"text/css\">\n#T_34010_row0_col0, #T_34010_row0_col1, #T_34010_row0_col2, #T_34010_row0_col3, #T_34010_row0_col4, #T_34010_row0_col5, #T_34010_row0_col6, #T_34010_row2_col0, #T_34010_row2_col1, #T_34010_row2_col2, #T_34010_row2_col3, #T_34010_row2_col4, #T_34010_row2_col5, #T_34010_row2_col6 {\n  background-color: yellow;\n}\n</style>\n<table id=\"T_34010\">\n  <thead>\n    <tr>\n      <th id=\"T_34010_level0_col0\" class=\"col_heading level0 col0\" >Month</th>\n      <th id=\"T_34010_level0_col1\" class=\"col_heading level0 col1\" >Quotes</th>\n      <th id=\"T_34010_level0_col2\" class=\"col_heading level0 col2\" >Numbers</th>\n      <th id=\"T_34010_level0_col3\" class=\"col_heading level0 col3\" >Amounts</th>\n      <th id=\"T_34010_level0_col4\" class=\"col_heading level0 col4\" >Product</th>\n      <th id=\"T_34010_level0_col5\" class=\"col_heading level0 col5\" >Average sale</th>\n      <th id=\"T_34010_level0_col6\" class=\"col_heading level0 col6\" >Product conversion</th>\n    </tr>\n  </thead>\n  <tbody>\n    <tr>\n      <td id=\"T_34010_row0_col0\" class=\"data row0 col0\" >Jan, 2012</td>\n      <td id=\"T_34010_row0_col1\" class=\"data row0 col1\" >1,358,918</td>\n      <td id=\"T_34010_row0_col2\" class=\"data row0 col2\" >434,169</td>\n      <td id=\"T_34010_row0_col3\" class=\"data row0 col3\" >£824,831</td>\n      <td id=\"T_34010_row0_col4\" class=\"data row0 col4\" >A</td>\n      <td id=\"T_34010_row0_col5\" class=\"data row0 col5\" >£1.90</td>\n      <td id=\"T_34010_row0_col6\" class=\"data row0 col6\" >31.95%</td>\n    </tr>\n    <tr>\n      <td id=\"T_34010_row1_col0\" class=\"data row1 col0\" >Jan, 2012</td>\n      <td id=\"T_34010_row1_col1\" class=\"data row1 col1\" >338,080</td>\n      <td id=\"T_34010_row1_col2\" class=\"data row1 col2\" >48,571</td>\n      <td id=\"T_34010_row1_col3\" class=\"data row1 col3\" >£485,945</td>\n      <td id=\"T_34010_row1_col4\" class=\"data row1 col4\" >B</td>\n      <td id=\"T_34010_row1_col5\" class=\"data row1 col5\" >£10.00</td>\n      <td id=\"T_34010_row1_col6\" class=\"data row1 col6\" >14.37%</td>\n    </tr>\n    <tr>\n      <td id=\"T_34010_row2_col0\" class=\"data row2 col0\" >Feb, 2012</td>\n      <td id=\"T_34010_row2_col1\" class=\"data row2 col1\" >1,555,436</td>\n      <td id=\"T_34010_row2_col2\" class=\"data row2 col2\" >437,655</td>\n      <td id=\"T_34010_row2_col3\" class=\"data row2 col3\" >£916,826</td>\n      <td id=\"T_34010_row2_col4\" class=\"data row2 col4\" >A</td>\n      <td id=\"T_34010_row2_col5\" class=\"data row2 col5\" >£2.09</td>\n      <td id=\"T_34010_row2_col6\" class=\"data row2 col6\" >28.14%</td>\n    </tr>\n  </tbody>\n</table>\n"
     },
     "metadata": {},
     "output_type": "display_data"
    },
    {
     "name": "stdout",
     "output_type": "stream",
     "text": [
      "Month                 True\n",
      "Quotes                True\n",
      "Numbers               True\n",
      "Amounts               True\n",
      "Product               True\n",
      "Average sale          True\n",
      "Product conversion    True\n",
      "dtype: bool\n",
      "Month                 False\n",
      "Quotes                False\n",
      "Numbers               False\n",
      "Amounts               False\n",
      "Product               False\n",
      "Average sale          False\n",
      "Product conversion    False\n",
      "dtype: bool\n",
      "Month                 True\n",
      "Quotes                True\n",
      "Numbers               True\n",
      "Amounts               True\n",
      "Product               True\n",
      "Average sale          True\n",
      "Product conversion    True\n",
      "dtype: bool\n"
     ]
    }
   ],
   "source": [
    "\n",
    "\n",
    "def highlight_product(row, product, background_color='yellow'):\n",
    "    if row['Product'] == product:\n",
    "        return len(row) * [f'background-color: {background_color}']\n",
    "    else:\n",
    "        return len(row) * ['']\n",
    "    \n",
    "styler = df.iloc[:3].style\\\n",
    "    .apply(  # apply the conditional formatting\n",
    "        highlight_product,\n",
    "        product = 'A',\n",
    "        axis = 1\n",
    "    ).format(  # format the table\n",
    "        {\n",
    "            'Month':'{:%b, %Y}',\n",
    "            'Quotes':'{:,.0f}',\n",
    "            'Numbers':'{:,.0f}',\n",
    "            'Amounts':'£{:,.0f}',\n",
    "            'Average sale':'£{:,.2f}',\n",
    "            'Product conversion':'{:.2%}'\n",
    "        }\n",
    "    ).hide()  # hide the index  \n",
    "\n",
    "if styler:\n",
    "    display(styler)\n",
    "    \n",
    "breakpoint()   "
   ],
   "metadata": {
    "collapsed": false,
    "is_executing": true,
    "ExecuteTime": {
     "start_time": "2023-12-16T20:20:04.885698Z"
    }
   },
   "id": "15cd10687eb7588c"
  },
  {
   "cell_type": "markdown",
   "source": [],
   "metadata": {
    "collapsed": false
   },
   "id": "46a5f0c9a76732f0"
  }
 ],
 "metadata": {
  "kernelspec": {
   "display_name": "Python 3",
   "language": "python",
   "name": "python3"
  },
  "language_info": {
   "codemirror_mode": {
    "name": "ipython",
    "version": 2
   },
   "file_extension": ".py",
   "mimetype": "text/x-python",
   "name": "python",
   "nbconvert_exporter": "python",
   "pygments_lexer": "ipython2",
   "version": "2.7.6"
  }
 },
 "nbformat": 4,
 "nbformat_minor": 5
}
