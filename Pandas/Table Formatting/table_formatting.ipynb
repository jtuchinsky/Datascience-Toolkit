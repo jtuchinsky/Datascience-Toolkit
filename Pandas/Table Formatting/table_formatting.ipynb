{
 "cells": [
  {
   "cell_type": "markdown",
   "source": [
    "# Formatting Tables in Pandas\n"
   ],
   "metadata": {
    "collapsed": false
   },
   "id": "b0f9d1a4fce40bb7"
  },
  {
   "cell_type": "code",
   "execution_count": 72,
   "outputs": [],
   "source": [
    "# Import pandas\n",
    "import pandas as pd\n",
    "# Import numpy\n",
    "import numpy as np\n",
    "\n"
   ],
   "metadata": {
    "collapsed": false,
    "ExecuteTime": {
     "end_time": "2023-12-09T21:09:24.409264Z",
     "start_time": "2023-12-09T21:09:24.381922Z"
    }
   },
   "id": "3f6384416f65e69c"
  },
  {
   "cell_type": "markdown",
   "source": [
    "## The data\n",
    "Let's create some simulated data for two widgets, A and B. We'll create a dataframe for each widget, then concatenate them together. We'll also sort the dataframe by month and reset the index."
   ],
   "metadata": {
    "collapsed": false
   },
   "id": "10aea294c42f4a03"
  },
  {
   "cell_type": "code",
   "execution_count": 73,
   "outputs": [],
   "source": [
    "# simulated data for widget A\n",
    "df_a = pd.DataFrame(\n",
    "    {\n",
    "        'Month':pd.date_range(\n",
    "            start = '01-01-2012',\n",
    "            end = '31-12-2022',\n",
    "            freq = 'MS'\n",
    "        ),\n",
    "        'Quotes':np.random.randint(\n",
    "            low = 1_000_000,\n",
    "            high = 2_500_000,\n",
    "            size = 132\n",
    "        ),\n",
    "        'Numbers':np.random.randint(\n",
    "            low = 300_000,\n",
    "            high = 500_000,\n",
    "            size = 132\n",
    "        ),\n",
    "        'Amounts':np.random.randint(\n",
    "            low = 750_000,\n",
    "            high = 1_250_000,\n",
    "            size = 132\n",
    "        )\n",
    "    }\n",
    ")\n",
    "\n",
    "df_a['Product'] = 'A'\n",
    "\n",
    "# simulated data for widget B\n",
    "df_b = pd.DataFrame(\n",
    "    {\n",
    "        'Month':pd.date_range(\n",
    "            start = '01-01-2012',\n",
    "            end = '31-12-2022',\n",
    "            freq = 'MS'\n",
    "        ),\n",
    "        'Quotes':np.random.randint(\n",
    "            low = 100_000,\n",
    "            high = 800_000,\n",
    "            size = 132\n",
    "        ),\n",
    "        'Numbers':np.random.randint(\n",
    "            low = 10_000,\n",
    "            high = 95_000,\n",
    "            size = 132\n",
    "        ),\n",
    "        'Amounts':np.random.randint(\n",
    "            low = 450_000,\n",
    "            high = 750_000,\n",
    "            size = 132\n",
    "        )\n",
    "    }\n",
    ")\n",
    "\n",
    "df_b['Product'] = 'B'\n",
    "\n",
    "# put it together & sort\n",
    "df = pd.concat([df_a,df_b],axis = 0)\n",
    "df.sort_values(by = 'Month',inplace = True)\n",
    "df.reset_index(drop = True,inplace = True)"
   ],
   "metadata": {
    "collapsed": false,
    "ExecuteTime": {
     "end_time": "2023-12-09T21:09:24.410727Z",
     "start_time": "2023-12-09T21:09:24.406845Z"
    }
   },
   "id": "cc675bd1d269bb2e"
  },
  {
   "cell_type": "markdown",
   "source": [
    "Let’s calculate a few “interesting” statistics — average sale amounts and product conversion:"
   ],
   "metadata": {
    "collapsed": false
   },
   "id": "d441044d0d55938f"
  },
  {
   "cell_type": "code",
   "execution_count": 74,
   "outputs": [],
   "source": [
    "# average sale\n",
    "df['Average sale'] = df['Amounts'] / df['Numbers'].replace({0: np.nan})\n",
    "\n",
    "# conversion\n",
    "df['Product conversion'] = df['Numbers'] / df['Quotes'].replace({0: np.nan})"
   ],
   "metadata": {
    "collapsed": false,
    "ExecuteTime": {
     "end_time": "2023-12-09T21:09:24.416871Z",
     "start_time": "2023-12-09T21:09:24.413463Z"
    }
   },
   "id": "dd7fb5b107176fbb"
  },
  {
   "cell_type": "code",
   "execution_count": 75,
   "outputs": [
    {
     "data": {
      "text/plain": "       Month   Quotes  Numbers  Amounts Product  Average sale  \\\n0 2012-01-01  1083423   351717  1160524       A      3.299596   \n1 2012-01-01   116615    56446   501802       B      8.889948   \n2 2012-02-01  2425239   399001  1203083       A      3.015238   \n\n   Product conversion  \n0            0.324635  \n1            0.484037  \n2            0.164520  ",
      "text/html": "<div>\n<style scoped>\n    .dataframe tbody tr th:only-of-type {\n        vertical-align: middle;\n    }\n\n    .dataframe tbody tr th {\n        vertical-align: top;\n    }\n\n    .dataframe thead th {\n        text-align: right;\n    }\n</style>\n<table border=\"1\" class=\"dataframe\">\n  <thead>\n    <tr style=\"text-align: right;\">\n      <th></th>\n      <th>Month</th>\n      <th>Quotes</th>\n      <th>Numbers</th>\n      <th>Amounts</th>\n      <th>Product</th>\n      <th>Average sale</th>\n      <th>Product conversion</th>\n    </tr>\n  </thead>\n  <tbody>\n    <tr>\n      <th>0</th>\n      <td>2012-01-01</td>\n      <td>1083423</td>\n      <td>351717</td>\n      <td>1160524</td>\n      <td>A</td>\n      <td>3.299596</td>\n      <td>0.324635</td>\n    </tr>\n    <tr>\n      <th>1</th>\n      <td>2012-01-01</td>\n      <td>116615</td>\n      <td>56446</td>\n      <td>501802</td>\n      <td>B</td>\n      <td>8.889948</td>\n      <td>0.484037</td>\n    </tr>\n    <tr>\n      <th>2</th>\n      <td>2012-02-01</td>\n      <td>2425239</td>\n      <td>399001</td>\n      <td>1203083</td>\n      <td>A</td>\n      <td>3.015238</td>\n      <td>0.164520</td>\n    </tr>\n  </tbody>\n</table>\n</div>"
     },
     "execution_count": 75,
     "metadata": {},
     "output_type": "execute_result"
    }
   ],
   "source": [
    "df.head(3)"
   ],
   "metadata": {
    "collapsed": false,
    "ExecuteTime": {
     "end_time": "2023-12-09T21:09:24.421883Z",
     "start_time": "2023-12-09T21:09:24.415952Z"
    }
   },
   "id": "760102e02bcf12da"
  },
  {
   "cell_type": "markdown",
   "source": [
    "## Date Formatting\n",
    "There’s arguably nothing __wrong__ with the formatting, but it could be better. For instance, since all the monthly data is reflected as at the first of each month, there’s probably little sense in keeping the day element of each Month entry as it tells the reader very little."
   ],
   "metadata": {
    "collapsed": false
   },
   "id": "f3a68e7d7a96b0ff"
  },
  {
   "cell_type": "code",
   "execution_count": 79,
   "outputs": [
    {
     "data": {
      "text/plain": "<pandas.io.formats.style.Styler at 0x13a39aa30>",
      "text/html": "<style type=\"text/css\">\n</style>\n<table id=\"T_c9253\">\n  <thead>\n    <tr>\n      <th class=\"blank level0\" >&nbsp;</th>\n      <th id=\"T_c9253_level0_col0\" class=\"col_heading level0 col0\" >Month</th>\n      <th id=\"T_c9253_level0_col1\" class=\"col_heading level0 col1\" >Quotes</th>\n      <th id=\"T_c9253_level0_col2\" class=\"col_heading level0 col2\" >Numbers</th>\n      <th id=\"T_c9253_level0_col3\" class=\"col_heading level0 col3\" >Amounts</th>\n      <th id=\"T_c9253_level0_col4\" class=\"col_heading level0 col4\" >Product</th>\n      <th id=\"T_c9253_level0_col5\" class=\"col_heading level0 col5\" >Average sale</th>\n      <th id=\"T_c9253_level0_col6\" class=\"col_heading level0 col6\" >Product conversion</th>\n    </tr>\n  </thead>\n  <tbody>\n    <tr>\n      <th id=\"T_c9253_level0_row0\" class=\"row_heading level0 row0\" >0</th>\n      <td id=\"T_c9253_row0_col0\" class=\"data row0 col0\" >2012-01</td>\n      <td id=\"T_c9253_row0_col1\" class=\"data row0 col1\" >1083423</td>\n      <td id=\"T_c9253_row0_col2\" class=\"data row0 col2\" >351717</td>\n      <td id=\"T_c9253_row0_col3\" class=\"data row0 col3\" >1160524</td>\n      <td id=\"T_c9253_row0_col4\" class=\"data row0 col4\" >A</td>\n      <td id=\"T_c9253_row0_col5\" class=\"data row0 col5\" >3.299596</td>\n      <td id=\"T_c9253_row0_col6\" class=\"data row0 col6\" >0.324635</td>\n    </tr>\n    <tr>\n      <th id=\"T_c9253_level0_row1\" class=\"row_heading level0 row1\" >1</th>\n      <td id=\"T_c9253_row1_col0\" class=\"data row1 col0\" >2012-01</td>\n      <td id=\"T_c9253_row1_col1\" class=\"data row1 col1\" >116615</td>\n      <td id=\"T_c9253_row1_col2\" class=\"data row1 col2\" >56446</td>\n      <td id=\"T_c9253_row1_col3\" class=\"data row1 col3\" >501802</td>\n      <td id=\"T_c9253_row1_col4\" class=\"data row1 col4\" >B</td>\n      <td id=\"T_c9253_row1_col5\" class=\"data row1 col5\" >8.889948</td>\n      <td id=\"T_c9253_row1_col6\" class=\"data row1 col6\" >0.484037</td>\n    </tr>\n    <tr>\n      <th id=\"T_c9253_level0_row2\" class=\"row_heading level0 row2\" >2</th>\n      <td id=\"T_c9253_row2_col0\" class=\"data row2 col0\" >2012-02</td>\n      <td id=\"T_c9253_row2_col1\" class=\"data row2 col1\" >2425239</td>\n      <td id=\"T_c9253_row2_col2\" class=\"data row2 col2\" >399001</td>\n      <td id=\"T_c9253_row2_col3\" class=\"data row2 col3\" >1203083</td>\n      <td id=\"T_c9253_row2_col4\" class=\"data row2 col4\" >A</td>\n      <td id=\"T_c9253_row2_col5\" class=\"data row2 col5\" >3.015238</td>\n      <td id=\"T_c9253_row2_col6\" class=\"data row2 col6\" >0.164520</td>\n    </tr>\n  </tbody>\n</table>\n"
     },
     "metadata": {},
     "output_type": "display_data"
    }
   ],
   "source": [
    "# format the date as YYYY-MM\n",
    "styler = df.iloc[:3].style.format({'Month':'{:%Y-%m}'})\n",
    "if styler:\n",
    "    display(styler)"
   ],
   "metadata": {
    "collapsed": false,
    "ExecuteTime": {
     "end_time": "2023-12-09T21:10:01.862655Z",
     "start_time": "2023-12-09T21:10:01.853993Z"
    }
   },
   "id": "7807b2b26b270e97"
  },
  {
   "cell_type": "markdown",
   "source": [
    "Now, we can improve readability even further by using the name of each month rather than the month number, and we can do this __*without having to alter the underlying data*__."
   ],
   "metadata": {
    "collapsed": false
   },
   "id": "819d1307cccad3eb"
  },
  {
   "cell_type": "code",
   "execution_count": 80,
   "outputs": [
    {
     "data": {
      "text/plain": "<pandas.io.formats.style.Styler at 0x13a3b54f0>",
      "text/html": "<style type=\"text/css\">\n</style>\n<table id=\"T_0f447\">\n  <thead>\n    <tr>\n      <th class=\"blank level0\" >&nbsp;</th>\n      <th id=\"T_0f447_level0_col0\" class=\"col_heading level0 col0\" >Month</th>\n      <th id=\"T_0f447_level0_col1\" class=\"col_heading level0 col1\" >Quotes</th>\n      <th id=\"T_0f447_level0_col2\" class=\"col_heading level0 col2\" >Numbers</th>\n      <th id=\"T_0f447_level0_col3\" class=\"col_heading level0 col3\" >Amounts</th>\n      <th id=\"T_0f447_level0_col4\" class=\"col_heading level0 col4\" >Product</th>\n      <th id=\"T_0f447_level0_col5\" class=\"col_heading level0 col5\" >Average sale</th>\n      <th id=\"T_0f447_level0_col6\" class=\"col_heading level0 col6\" >Product conversion</th>\n    </tr>\n  </thead>\n  <tbody>\n    <tr>\n      <th id=\"T_0f447_level0_row0\" class=\"row_heading level0 row0\" >0</th>\n      <td id=\"T_0f447_row0_col0\" class=\"data row0 col0\" >January 2012</td>\n      <td id=\"T_0f447_row0_col1\" class=\"data row0 col1\" >1083423</td>\n      <td id=\"T_0f447_row0_col2\" class=\"data row0 col2\" >351717</td>\n      <td id=\"T_0f447_row0_col3\" class=\"data row0 col3\" >1160524</td>\n      <td id=\"T_0f447_row0_col4\" class=\"data row0 col4\" >A</td>\n      <td id=\"T_0f447_row0_col5\" class=\"data row0 col5\" >3.299596</td>\n      <td id=\"T_0f447_row0_col6\" class=\"data row0 col6\" >0.324635</td>\n    </tr>\n    <tr>\n      <th id=\"T_0f447_level0_row1\" class=\"row_heading level0 row1\" >1</th>\n      <td id=\"T_0f447_row1_col0\" class=\"data row1 col0\" >January 2012</td>\n      <td id=\"T_0f447_row1_col1\" class=\"data row1 col1\" >116615</td>\n      <td id=\"T_0f447_row1_col2\" class=\"data row1 col2\" >56446</td>\n      <td id=\"T_0f447_row1_col3\" class=\"data row1 col3\" >501802</td>\n      <td id=\"T_0f447_row1_col4\" class=\"data row1 col4\" >B</td>\n      <td id=\"T_0f447_row1_col5\" class=\"data row1 col5\" >8.889948</td>\n      <td id=\"T_0f447_row1_col6\" class=\"data row1 col6\" >0.484037</td>\n    </tr>\n    <tr>\n      <th id=\"T_0f447_level0_row2\" class=\"row_heading level0 row2\" >2</th>\n      <td id=\"T_0f447_row2_col0\" class=\"data row2 col0\" >February 2012</td>\n      <td id=\"T_0f447_row2_col1\" class=\"data row2 col1\" >2425239</td>\n      <td id=\"T_0f447_row2_col2\" class=\"data row2 col2\" >399001</td>\n      <td id=\"T_0f447_row2_col3\" class=\"data row2 col3\" >1203083</td>\n      <td id=\"T_0f447_row2_col4\" class=\"data row2 col4\" >A</td>\n      <td id=\"T_0f447_row2_col5\" class=\"data row2 col5\" >3.015238</td>\n      <td id=\"T_0f447_row2_col6\" class=\"data row2 col6\" >0.164520</td>\n    </tr>\n  </tbody>\n</table>\n"
     },
     "metadata": {},
     "output_type": "display_data"
    }
   ],
   "source": [
    "styler = df.iloc[:3].style.format({'Month':'{:%B %Y}'})\n",
    "if styler:\n",
    "    display(styler)"
   ],
   "metadata": {
    "collapsed": false,
    "ExecuteTime": {
     "end_time": "2023-12-09T21:15:30.835185Z",
     "start_time": "2023-12-09T21:15:30.827099Z"
    }
   },
   "id": "3c04c43c3b23279a"
  },
  {
   "cell_type": "markdown",
   "source": [
    "Maybe a little too wordy now — let’s use abbreviations instead (e.g. “Jan” instead of “January”) and we’ll also add a comma before the year."
   ],
   "metadata": {
    "collapsed": false
   },
   "id": "29fa55f909212272"
  },
  {
   "cell_type": "code",
   "execution_count": 81,
   "outputs": [
    {
     "data": {
      "text/plain": "<pandas.io.formats.style.Styler at 0x13a39adc0>",
      "text/html": "<style type=\"text/css\">\n</style>\n<table id=\"T_7a00e\">\n  <thead>\n    <tr>\n      <th class=\"blank level0\" >&nbsp;</th>\n      <th id=\"T_7a00e_level0_col0\" class=\"col_heading level0 col0\" >Month</th>\n      <th id=\"T_7a00e_level0_col1\" class=\"col_heading level0 col1\" >Quotes</th>\n      <th id=\"T_7a00e_level0_col2\" class=\"col_heading level0 col2\" >Numbers</th>\n      <th id=\"T_7a00e_level0_col3\" class=\"col_heading level0 col3\" >Amounts</th>\n      <th id=\"T_7a00e_level0_col4\" class=\"col_heading level0 col4\" >Product</th>\n      <th id=\"T_7a00e_level0_col5\" class=\"col_heading level0 col5\" >Average sale</th>\n      <th id=\"T_7a00e_level0_col6\" class=\"col_heading level0 col6\" >Product conversion</th>\n    </tr>\n  </thead>\n  <tbody>\n    <tr>\n      <th id=\"T_7a00e_level0_row0\" class=\"row_heading level0 row0\" >0</th>\n      <td id=\"T_7a00e_row0_col0\" class=\"data row0 col0\" >Jan, 2012</td>\n      <td id=\"T_7a00e_row0_col1\" class=\"data row0 col1\" >1083423</td>\n      <td id=\"T_7a00e_row0_col2\" class=\"data row0 col2\" >351717</td>\n      <td id=\"T_7a00e_row0_col3\" class=\"data row0 col3\" >1160524</td>\n      <td id=\"T_7a00e_row0_col4\" class=\"data row0 col4\" >A</td>\n      <td id=\"T_7a00e_row0_col5\" class=\"data row0 col5\" >3.299596</td>\n      <td id=\"T_7a00e_row0_col6\" class=\"data row0 col6\" >0.324635</td>\n    </tr>\n    <tr>\n      <th id=\"T_7a00e_level0_row1\" class=\"row_heading level0 row1\" >1</th>\n      <td id=\"T_7a00e_row1_col0\" class=\"data row1 col0\" >Jan, 2012</td>\n      <td id=\"T_7a00e_row1_col1\" class=\"data row1 col1\" >116615</td>\n      <td id=\"T_7a00e_row1_col2\" class=\"data row1 col2\" >56446</td>\n      <td id=\"T_7a00e_row1_col3\" class=\"data row1 col3\" >501802</td>\n      <td id=\"T_7a00e_row1_col4\" class=\"data row1 col4\" >B</td>\n      <td id=\"T_7a00e_row1_col5\" class=\"data row1 col5\" >8.889948</td>\n      <td id=\"T_7a00e_row1_col6\" class=\"data row1 col6\" >0.484037</td>\n    </tr>\n    <tr>\n      <th id=\"T_7a00e_level0_row2\" class=\"row_heading level0 row2\" >2</th>\n      <td id=\"T_7a00e_row2_col0\" class=\"data row2 col0\" >Feb, 2012</td>\n      <td id=\"T_7a00e_row2_col1\" class=\"data row2 col1\" >2425239</td>\n      <td id=\"T_7a00e_row2_col2\" class=\"data row2 col2\" >399001</td>\n      <td id=\"T_7a00e_row2_col3\" class=\"data row2 col3\" >1203083</td>\n      <td id=\"T_7a00e_row2_col4\" class=\"data row2 col4\" >A</td>\n      <td id=\"T_7a00e_row2_col5\" class=\"data row2 col5\" >3.015238</td>\n      <td id=\"T_7a00e_row2_col6\" class=\"data row2 col6\" >0.164520</td>\n    </tr>\n  </tbody>\n</table>\n"
     },
     "metadata": {},
     "output_type": "display_data"
    }
   ],
   "source": [
    "styler = df.iloc[:3].style.format({'Month':'{:%b, %Y}'})\n",
    "if styler:\n",
    "    display(styler)"
   ],
   "metadata": {
    "collapsed": false,
    "ExecuteTime": {
     "end_time": "2023-12-09T21:43:22.976533Z",
     "start_time": "2023-12-09T21:43:22.974122Z"
    }
   },
   "id": "9a0c551a3292a090"
  },
  {
   "cell_type": "markdown",
   "source": [
    "## Formatting numbers with a thousand separator\n",
    "A fairly straightforward formatting experience here as we separate thousands of Quotes and Numbers using commas.\n",
    "\n",
    "What is important to note however, is that if we also want to retain the formatting we applied to the Month column (we do), then we need to extend the formatting dictionary. \n"
   ],
   "metadata": {
    "collapsed": false
   },
   "id": "b4b80c9da9d9fca2"
  },
  {
   "cell_type": "code",
   "execution_count": 82,
   "outputs": [
    {
     "data": {
      "text/plain": "<pandas.io.formats.style.Styler at 0x13a3f5b80>",
      "text/html": "<style type=\"text/css\">\n</style>\n<table id=\"T_91358\">\n  <thead>\n    <tr>\n      <th class=\"blank level0\" >&nbsp;</th>\n      <th id=\"T_91358_level0_col0\" class=\"col_heading level0 col0\" >Month</th>\n      <th id=\"T_91358_level0_col1\" class=\"col_heading level0 col1\" >Quotes</th>\n      <th id=\"T_91358_level0_col2\" class=\"col_heading level0 col2\" >Numbers</th>\n      <th id=\"T_91358_level0_col3\" class=\"col_heading level0 col3\" >Amounts</th>\n      <th id=\"T_91358_level0_col4\" class=\"col_heading level0 col4\" >Product</th>\n      <th id=\"T_91358_level0_col5\" class=\"col_heading level0 col5\" >Average sale</th>\n      <th id=\"T_91358_level0_col6\" class=\"col_heading level0 col6\" >Product conversion</th>\n    </tr>\n  </thead>\n  <tbody>\n    <tr>\n      <th id=\"T_91358_level0_row0\" class=\"row_heading level0 row0\" >0</th>\n      <td id=\"T_91358_row0_col0\" class=\"data row0 col0\" >Jan, 2012</td>\n      <td id=\"T_91358_row0_col1\" class=\"data row0 col1\" >1,083,423</td>\n      <td id=\"T_91358_row0_col2\" class=\"data row0 col2\" >351,717</td>\n      <td id=\"T_91358_row0_col3\" class=\"data row0 col3\" >1160524</td>\n      <td id=\"T_91358_row0_col4\" class=\"data row0 col4\" >A</td>\n      <td id=\"T_91358_row0_col5\" class=\"data row0 col5\" >3.299596</td>\n      <td id=\"T_91358_row0_col6\" class=\"data row0 col6\" >0.324635</td>\n    </tr>\n    <tr>\n      <th id=\"T_91358_level0_row1\" class=\"row_heading level0 row1\" >1</th>\n      <td id=\"T_91358_row1_col0\" class=\"data row1 col0\" >Jan, 2012</td>\n      <td id=\"T_91358_row1_col1\" class=\"data row1 col1\" >116,615</td>\n      <td id=\"T_91358_row1_col2\" class=\"data row1 col2\" >56,446</td>\n      <td id=\"T_91358_row1_col3\" class=\"data row1 col3\" >501802</td>\n      <td id=\"T_91358_row1_col4\" class=\"data row1 col4\" >B</td>\n      <td id=\"T_91358_row1_col5\" class=\"data row1 col5\" >8.889948</td>\n      <td id=\"T_91358_row1_col6\" class=\"data row1 col6\" >0.484037</td>\n    </tr>\n    <tr>\n      <th id=\"T_91358_level0_row2\" class=\"row_heading level0 row2\" >2</th>\n      <td id=\"T_91358_row2_col0\" class=\"data row2 col0\" >Feb, 2012</td>\n      <td id=\"T_91358_row2_col1\" class=\"data row2 col1\" >2,425,239</td>\n      <td id=\"T_91358_row2_col2\" class=\"data row2 col2\" >399,001</td>\n      <td id=\"T_91358_row2_col3\" class=\"data row2 col3\" >1203083</td>\n      <td id=\"T_91358_row2_col4\" class=\"data row2 col4\" >A</td>\n      <td id=\"T_91358_row2_col5\" class=\"data row2 col5\" >3.015238</td>\n      <td id=\"T_91358_row2_col6\" class=\"data row2 col6\" >0.164520</td>\n    </tr>\n  </tbody>\n</table>\n"
     },
     "metadata": {},
     "output_type": "display_data"
    }
   ],
   "source": [
    "styler = df.iloc[:3].style.format(\n",
    "    {\n",
    "        'Month':'{:%b, %Y}',\n",
    "        'Quotes':'{:,.0f}',\n",
    "        'Numbers':'{:,.0f}'\n",
    "    }\n",
    ")\n",
    "if styler:\n",
    "    display(styler)"
   ],
   "metadata": {
    "collapsed": false,
    "ExecuteTime": {
     "end_time": "2023-12-09T22:24:49.140970Z",
     "start_time": "2023-12-09T22:24:49.138481Z"
    }
   },
   "id": "7b50c001d081c0da"
  },
  {
   "cell_type": "markdown",
   "source": [
    "## Formatting currencies\n",
    "The Widget Company just so happens to produce and sell its widgets in a country that uses a currency denoted by £ (I hope somewhere warmer and sunnier than the country where I earn my £).\n",
    "\n",
    "Let’s reflect that in the table, reminding ourselves that:\n",
    "\n",
    "- At an overall level, using decimal points is probably a little much\n",
    "- At a lower level — say for instance, the average sale value — using decimals can be useful.\n",
    "So we add currency formatting for Amounts and Average sale to our formatting dictionary:"
   ],
   "metadata": {
    "collapsed": false
   },
   "id": "53db94d3889bf0a"
  },
  {
   "cell_type": "code",
   "execution_count": null,
   "outputs": [],
   "source": [
    "styler = df.iloc[:3].style.format(\n",
    "    {\n",
    "        'Month':'{:%b, %Y}',\n",
    "        'Quotes':'{:,.0f}',\n",
    "        'Numbers':'{:,.0f}',\n",
    "        'Amounts':'£{:,.0f}',\n",
    "        'Average sale':'£{:,.2f}'\n",
    "    }\n",
    ")\n",
    "if styler:\n",
    "    display(styler)"
   ],
   "metadata": {
    "collapsed": false
   },
   "id": "4dce7fd0f8f8b497"
  }
 ],
 "metadata": {
  "kernelspec": {
   "display_name": "Python 3",
   "language": "python",
   "name": "python3"
  },
  "language_info": {
   "codemirror_mode": {
    "name": "ipython",
    "version": 2
   },
   "file_extension": ".py",
   "mimetype": "text/x-python",
   "name": "python",
   "nbconvert_exporter": "python",
   "pygments_lexer": "ipython2",
   "version": "2.7.6"
  }
 },
 "nbformat": 4,
 "nbformat_minor": 5
}
