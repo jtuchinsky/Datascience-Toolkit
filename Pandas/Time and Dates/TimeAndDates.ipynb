{
 "cells": [
  {
   "cell_type": "code",
   "id": "initial_id",
   "metadata": {
    "collapsed": true,
    "ExecuteTime": {
     "end_time": "2025-05-29T21:46:47.111172Z",
     "start_time": "2025-05-29T21:46:47.109402Z"
    }
   },
   "source": [
    "# Imports\n",
    "from datetime import datetime, timedelta, date\n",
    "import pandas as pd\n",
    "import numpy as np"
   ],
   "outputs": [],
   "execution_count": 1
  },
  {
   "metadata": {
    "ExecuteTime": {
     "end_time": "2025-05-29T21:47:42.219408Z",
     "start_time": "2025-05-29T21:47:42.216406Z"
    }
   },
   "cell_type": "code",
   "source": [
    "# Current Timestamp in ISO 8601 Format\n",
    "current_timestamp = datetime.now().isoformat()\n",
    "print(\"Current Timestamp in ISO 8601 Format:\", current_timestamp)"
   ],
   "id": "b87aa620c4558d5",
   "outputs": [
    {
     "name": "stdout",
     "output_type": "stream",
     "text": [
      "Current Timestamp in ISO 8601 Format: 2025-05-29T17:47:42.217607\n"
     ]
    }
   ],
   "execution_count": 2
  },
  {
   "metadata": {
    "ExecuteTime": {
     "end_time": "2025-05-29T21:51:39.844538Z",
     "start_time": "2025-05-29T21:51:39.841680Z"
    }
   },
   "cell_type": "code",
   "source": [
    "# Parsing and Converting String into Daytime Oblect\n",
    "date_string = \"2023-10-01 12:30:45\"\n",
    "parsed_date = datetime.strptime(date_string, \"%Y-%m-%d %H:%M:%S\")\n",
    "print(\"Parsed Date:\", parsed_date)\n",
    "print(\"Type of Parsed Date:\", type(parsed_date))\n",
    "print(\"Parsed date day of month:\", parsed_date.day)\n"
   ],
   "id": "3189bb0fb757b0f5",
   "outputs": [
    {
     "name": "stdout",
     "output_type": "stream",
     "text": [
      "Parsed Date: 2023-10-01 12:30:45\n",
      "Type of Parsed Date: <class 'datetime.datetime'>\n",
      "Parsed date day of month: 1\n"
     ]
    }
   ],
   "execution_count": 5
  },
  {
   "metadata": {
    "ExecuteTime": {
     "end_time": "2025-05-29T22:35:10.724202Z",
     "start_time": "2025-05-29T22:35:10.716361Z"
    }
   },
   "cell_type": "code",
   "source": [
    "# Add X days/weeks/months/years to a date\n",
    "current_date = date.today()\n",
    "print(\"Current Date:\", current_date)\n",
    "days_to_add = 10\n",
    "new_date = current_date + timedelta(days=days_to_add)\n",
    "print(\"New Date after adding {} days: {}\".format(days_to_add, new_date))\n",
    "weeks_to_add = 2\n",
    "new_date = current_date + timedelta(weeks=weeks_to_add)\n",
    "print(\"New Date after adding {} weeks: {}\".format(weeks_to_add, new_date))\n",
    "# Add years\n",
    "years_to_add = 1\n",
    "new_date = current_date.replace(year=current_date.year + years_to_add)\n",
    "print(\"New Date after adding {} years: {}\".format(years_to_add, new_date))\n",
    "\n"
   ],
   "id": "4fd17f0107273ec",
   "outputs": [
    {
     "name": "stdout",
     "output_type": "stream",
     "text": [
      "Current Date: 2025-05-29\n",
      "New Date after adding 10 days: 2025-06-08\n",
      "New Date after adding 2 weeks: 2025-06-12\n",
      "New Date after adding 1 years: 2026-05-29\n"
     ]
    }
   ],
   "execution_count": 21
  },
  {
   "metadata": {
    "ExecuteTime": {
     "end_time": "2025-05-29T22:06:52.600214Z",
     "start_time": "2025-05-29T22:06:52.577636Z"
    }
   },
   "cell_type": "code",
   "source": [
    "# Difference between two Dates\n",
    "date1 = date(1962, 5, 21)\n",
    "date2 = date(1960, 11, 11)\n",
    "\n",
    "date_difference = date1 - date2\n",
    "print(\"Difference between {} and {}: {}\".format(date1, date2, date_difference))\n"
   ],
   "id": "b86dc7a3ceaa935c",
   "outputs": [
    {
     "name": "stdout",
     "output_type": "stream",
     "text": [
      "Difference between 1962-05-21 and 1960-11-11: 556 days, 0:00:00\n"
     ]
    }
   ],
   "execution_count": 12
  },
  {
   "metadata": {
    "ExecuteTime": {
     "end_time": "2025-05-29T22:48:01.205616Z",
     "start_time": "2025-05-29T22:48:01.193944Z"
    }
   },
   "cell_type": "code",
   "source": [
    "# Generate day range in Pandas\n",
    "print(\"Generating a date range in Pandas (days):\")\n",
    "ten_days = pd.date_range(start=\"2025-01-01\", periods=10, freq='D')\n",
    "print(ten_days)\n",
    "\n",
    "print(pd.date_range(start=\"2025-01-01\", periods=2, freq='W').tolist())\n",
    "print(\"Generating a date range in Pandas (weeks in the past):\")\n",
    "print(pd.date_range(end=\"2025-01-01\", periods=2, freq='W').tolist())\n"
   ],
   "id": "ffb9a6ce187b7150",
   "outputs": [
    {
     "name": "stdout",
     "output_type": "stream",
     "text": [
      "Generating a date range in Pandas (days):\n",
      "DatetimeIndex(['2025-01-01', '2025-01-02', '2025-01-03', '2025-01-04',\n",
      "               '2025-01-05', '2025-01-06', '2025-01-07', '2025-01-08',\n",
      "               '2025-01-09', '2025-01-10'],\n",
      "              dtype='datetime64[ns]', freq='D')\n",
      "[Timestamp('2025-01-05 00:00:00'), Timestamp('2025-01-12 00:00:00')]\n",
      "Generating a date range in Pandas (weeks in the past):\n",
      "[Timestamp('2024-12-22 00:00:00'), Timestamp('2024-12-29 00:00:00')]\n"
     ]
    }
   ],
   "execution_count": 23
  },
  {
   "metadata": {
    "ExecuteTime": {
     "end_time": "2025-05-29T22:40:03.465776Z",
     "start_time": "2025-05-29T22:40:03.448257Z"
    }
   },
   "cell_type": "code",
   "source": [
    "# Get Weekday Name\n",
    "print(datetime(2025,11,11).strftime(\"%A\"))"
   ],
   "id": "b1bb049eb12f0df9",
   "outputs": [
    {
     "name": "stdout",
     "output_type": "stream",
     "text": [
      "Tuesday\n"
     ]
    }
   ],
   "execution_count": 22
  },
  {
   "metadata": {
    "ExecuteTime": {
     "end_time": "2025-05-29T22:51:05.718674Z",
     "start_time": "2025-05-29T22:51:05.678513Z"
    }
   },
   "cell_type": "code",
   "source": [
    "# Converting a Column of Strings to a datetime attribute in a dataset\n",
    "# Create data frame from ten_days\n",
    "df = pd.DataFrame({'date': ten_days})\n",
    "# Convert 'date' column to datetime\n",
    "df['date'] = pd.to_datetime(df['date'])\n",
    "# Display the data frame\n",
    "print(\"Data Frame with 'date' column as datetime:\")\n",
    "print(df)"
   ],
   "id": "edfe69e5422af92e",
   "outputs": [
    {
     "name": "stdout",
     "output_type": "stream",
     "text": [
      "Data Frame with 'date' column as datetime:\n",
      "        date\n",
      "0 2025-01-01\n",
      "1 2025-01-02\n",
      "2 2025-01-03\n",
      "3 2025-01-04\n",
      "4 2025-01-05\n",
      "5 2025-01-06\n",
      "6 2025-01-07\n",
      "7 2025-01-08\n",
      "8 2025-01-09\n",
      "9 2025-01-10\n"
     ]
    }
   ],
   "execution_count": 24
  },
  {
   "metadata": {
    "ExecuteTime": {
     "end_time": "2025-05-29T22:52:48.366815Z",
     "start_time": "2025-05-29T22:52:48.360320Z"
    }
   },
   "cell_type": "code",
   "source": [
    "# Create an Array of Monthly Dates Using NumPy\n",
    "arr = np.arange('2025-01', '2026-01', dtype='datetime64[M]')\n",
    "print(\"Array of Monthly Dates:\")\n",
    "print(arr)"
   ],
   "id": "b7136208a1b69e39",
   "outputs": [
    {
     "name": "stdout",
     "output_type": "stream",
     "text": [
      "Array of Monthly Dates:\n",
      "['2025-01' '2025-02' '2025-03' '2025-04' '2025-05' '2025-06' '2025-07'\n",
      " '2025-08' '2025-09' '2025-10' '2025-11' '2025-12']\n"
     ]
    }
   ],
   "execution_count": 25
  },
  {
   "metadata": {
    "ExecuteTime": {
     "end_time": "2025-05-29T22:54:05.487861Z",
     "start_time": "2025-05-29T22:54:05.461849Z"
    }
   },
   "cell_type": "code",
   "source": [
    "# Filter DataFrame Rows by a Date Condition\n",
    "print(df[df['date'] > '2025-01-05'])\n",
    "\n",
    "\n"
   ],
   "id": "cfaf6fbe93417d12",
   "outputs": [
    {
     "name": "stdout",
     "output_type": "stream",
     "text": [
      "        date\n",
      "5 2025-01-06\n",
      "6 2025-01-07\n",
      "7 2025-01-08\n",
      "8 2025-01-09\n",
      "9 2025-01-10\n"
     ]
    }
   ],
   "execution_count": 26
  },
  {
   "metadata": {
    "ExecuteTime": {
     "end_time": "2025-05-29T22:57:04.371635Z",
     "start_time": "2025-05-29T22:57:04.368851Z"
    }
   },
   "cell_type": "code",
   "source": [
    "# Get Unix Timestamp From datetime Object\n",
    "dt = datetime(2025, 11, 11, 12, 30, 45)\n",
    "timestamp = int(dt.timestamp())\n",
    "print(\"Unix Timestamp for {}: {}\".format(dt, timestamp))\n",
    "\n"
   ],
   "id": "d1f489a62d11c15d",
   "outputs": [
    {
     "name": "stdout",
     "output_type": "stream",
     "text": [
      "Unix Timestamp for 2025-11-11 12:30:45: 1762882245\n"
     ]
    }
   ],
   "execution_count": 28
  }
 ],
 "metadata": {
  "kernelspec": {
   "display_name": "Python 3",
   "language": "python",
   "name": "python3"
  },
  "language_info": {
   "codemirror_mode": {
    "name": "ipython",
    "version": 2
   },
   "file_extension": ".py",
   "mimetype": "text/x-python",
   "name": "python",
   "nbconvert_exporter": "python",
   "pygments_lexer": "ipython2",
   "version": "2.7.6"
  }
 },
 "nbformat": 4,
 "nbformat_minor": 5
}
