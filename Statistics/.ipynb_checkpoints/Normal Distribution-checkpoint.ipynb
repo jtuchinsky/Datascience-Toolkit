{
 "cells": [
  {
   "cell_type": "code",
   "execution_count": 4,
   "id": "initial_id",
   "metadata": {
    "collapsed": true,
    "ExecuteTime": {
     "end_time": "2024-01-20T23:20:12.247057Z",
     "start_time": "2024-01-20T23:20:12.233546Z"
    }
   },
   "outputs": [],
   "source": [
    "# Normal Distribution"
   ]
  },
  {
   "cell_type": "markdown",
   "source": [
    "## Import Libraries \n"
   ],
   "metadata": {
    "collapsed": false
   },
   "id": "4e7fca31525ccd3"
  },
  {
   "cell_type": "code",
   "outputs": [],
   "source": [
    "from scipy.stats import norm\n",
    "import numpy as np\n",
    "import matplotlib.pyplot as plt"
   ],
   "metadata": {
    "collapsed": false,
    "ExecuteTime": {
     "end_time": "2024-01-20T23:20:12.248769Z",
     "start_time": "2024-01-20T23:20:12.245883Z"
    }
   },
   "id": "70520e71c24cb8b6",
   "execution_count": 5
  },
  {
   "cell_type": "markdown",
   "source": [
    "## Discrete Random Variables\n",
    "> *A discrete random variable is one which may take on only a countable number of distinct values and thus can be quantified. For example, a variable over a non-empty finite set of integers is discrete, but one over the set of real numbers is continuous. Colloquially, an event which can happen only finitely many times (such as the obtaining of a specific value after repeated rolls of a die) is said to be discrete; whereas an event which can happen an uncountably infinite number of times (such as the height of a person) is said to be continuous.*\n",
    "\n",
    "[!Wikipedia](https://en.wikipedia.org/wiki/Discrete_random_variable)\n",
    "\n",
    "If $X$ is a discrete random variable then its range $R_X$ is a countable set, so, we can list the elements in $R_X$ as $x_1,x_2,x_3,...$. In other words, we can write $$R_X=\\{x_1,x_2,x_3,...\\}$$. \n",
    "Note that here $x_1,x_2,x_3,...$ are possible values of the random variable $X$. While random variables are usually denoted by capital letters, to represent the numbers in the range we usually use lowercase letters such as $x,x_1,y,z$, etc. For a discrete random variable $X$, we are interested in knowing the probabilities of $X=x_k$.\n",
    ".\n",
    ".     "
   ],
   "metadata": {
    "collapsed": false
   },
   "id": "128c2cedc59f8aa5"
  },
  {
   "cell_type": "markdown",
   "source": [
    "### Probability Mass Function\n",
    "> Let $X$ be a discrete random variable with range $R_X={x_1,x_2,x_3,...}$ (finite or countably infinite). The function\n",
    "$$P_X(x_k)=P(X=x_k), for k=1,2,3,...,$$\n",
    "is called the *probability mass function (PMF) of X*\n",
    ".\n",
    "> *In probability and statistics, a probability mass function (PMF) is a function that gives the probability that a discrete random variable is exactly equal to some value. Sometimes it is also known as the discrete density function. The probability mass function is often the primary means of defining a discrete probability distribution, and such functions exist for either scalar or multivariate random variables whose domain is discrete.*\n",
    "\n",
    "[!Wikipedia](https://en.wikipedia.org/wiki/Probability_mass_function)  \n",
    "\n"
   ],
   "metadata": {
    "collapsed": false
   },
   "id": "dd49b745f9289de4"
  },
  {
   "cell_type": "markdown",
   "source": [
    "#### Example\n",
    "I toss a fair coin twice, and let $X$ be defined as the number of heads I observe.\n",
    "1. What is the range of $X$?\n",
    "Here, our sample space is given by\n",
    "$$S={HH,HT,TH,TT}$$.\n",
    "The number of heads will be 0, 1 or 2. Thus\n",
    "$$R_X={0,1,2}.$$\n",
    "\n",
    "2. What is the probability mass function of $X$? "
   ],
   "metadata": {
    "collapsed": false
   },
   "id": "5bdf281ca37ee87f"
  },
  {
   "cell_type": "markdown",
   "source": [
    "## Probability Density Function\n",
    "> *The probability density function (PDF) is a statistical expression that defines a probability distribution (the likelihood of an outcome) for a discrete random variable as opposed to a continuous random variable. When the PDF is graphically portrayed, the area under the curve will indicate the interval in which the variable will fall.*\n",
    "\n",
    "[!Investopedia](https://www.investopedia.com/terms/p/pdf.asp)"
   ],
   "metadata": {
    "collapsed": false
   },
   "id": "1bff6e9e594eb763"
  },
  {
   "cell_type": "markdown",
   "source": [
    "## Normal Distribution Cumulative Distribution Function"
   ],
   "metadata": {
    "collapsed": false
   },
   "id": "3040b7bdda619810"
  },
  {
   "cell_type": "code",
   "outputs": [
    {
     "data": {
      "text/plain": "<Figure size 640x480 with 1 Axes>",
      "image/png": "[encoded data removed]"
     },
     "metadata": {},
     "output_type": "display_data"
    }
   ],
   "source": [
    "## Normal Distribution Probability Density Function\n",
    "\n",
    "fig, ax = plt.subplots()\n",
    "x= np.arange(-4,4,0.001)\n",
    "ax.plot(x, norm.pdf(x))\n",
    "ax.set_ylim(0,0.45) # range\n",
    "ax.axhline(y=0.24,xmax=0.61,color='r') # horizontal line\n",
    "ax.axvline(x=1, ymax=0.53, color='r',alpha=0.5) # vertical line\n",
    "xplot = ax.plot([1], [0.24], marker='o', markersize=15, color=\"red\") # coordinate point\n",
    "ax.set_yticks([]) # remove y axis label\n",
    "ax.set_xticks([]) # remove x axis label\n",
    "ax.set_xlabel('x',fontsize=20) # set x label\n",
    "ax.set_ylabel('pdf(x)',fontsize=20,rotation=0) # set y label\n",
    "ax.xaxis.set_label_coords(0.61, -0.02) # x label coordinate\n",
    "ax.yaxis.set_label_coords(-0.1, 0.5) # y label coordinate\n",
    "plt.show()\n",
    "\n"
   ],
   "metadata": {
    "collapsed": false,
    "ExecuteTime": {
     "end_time": "2024-01-20T23:20:12.287078Z",
     "start_time": "2024-01-20T23:20:12.253298Z"
    }
   },
   "id": "5166545e0ab28a7e",
   "execution_count": 6
  },
  {
   "cell_type": "markdown",
   "source": [
    "Since norm.pdf returns a PDF value, we can use this function to plot the normal distribution function. We graph a PDF of the normal distribution using `scipy`, `numpy` and `matplotlib`. We use the domain \n",
    ", range \n",
    ", default \n",
    " and \n",
    ". plot(x-values,y-values) produces the graph."
   ],
   "metadata": {
    "collapsed": false
   },
   "id": "229106efcfd6679f"
  }
 ],
 "metadata": {
  "kernelspec": {
   "display_name": "Python 3",
   "language": "python",
   "name": "python3"
  },
  "language_info": {
   "codemirror_mode": {
    "name": "ipython",
    "version": 2
   },
   "file_extension": ".py",
   "mimetype": "text/x-python",
   "name": "python",
   "nbconvert_exporter": "python",
   "pygments_lexer": "ipython2",
   "version": "2.7.6"
  }
 },
 "nbformat": 4,
 "nbformat_minor": 5
}
